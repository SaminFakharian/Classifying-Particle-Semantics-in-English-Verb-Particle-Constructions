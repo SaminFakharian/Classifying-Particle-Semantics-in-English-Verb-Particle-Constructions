{
 "cells": [
  {
   "cell_type": "markdown",
   "metadata": {},
   "source": [
    "## Imports"
   ]
  },
  {
   "cell_type": "code",
   "execution_count": 1,
   "metadata": {
    "ExecuteTime": {
     "end_time": "2020-04-14T02:22:59.192806Z",
     "start_time": "2020-04-14T02:22:53.997614Z"
    }
   },
   "outputs": [
    {
     "name": "stderr",
     "output_type": "stream",
     "text": [
      "C:\\ProgramData\\Anaconda3\\lib\\site-packages\\tqdm\\std.py:658: FutureWarning: The Panel class is removed from pandas. Accessing it from the top-level namespace will also be removed in the next version\n",
      "  from pandas import Panel\n"
     ]
    }
   ],
   "source": [
    "from collections import Counter, defaultdict\n",
    "from sklearn.model_selection import cross_val_score, StratifiedShuffleSplit, train_test_split\n",
    "from sklearn.metrics import accuracy_score\n",
    "from sklearn.svm import SVC\n",
    "from sklearn.pipeline import Pipeline\n",
    "from sklearn.feature_extraction.text import CountVectorizer, TfidfVectorizer\n",
    "from sklearn.linear_model import LogisticRegression\n",
    "from sklearn import utils\n",
    "from tabulate import tabulate\n",
    "import matplotlib.pyplot as plt\n",
    "import seaborn as sns\n",
    "from gensim.models.word2vec import Word2Vec\n",
    "from gensim.models import Word2Vec\n",
    "import gensim\n",
    "import re\n",
    "import numpy as np\n",
    "import pylab as pl\n",
    "\n",
    "from sklearn.svm import SVC\n",
    "from sklearn.preprocessing import StandardScaler\n",
    "from sklearn.datasets import load_iris\n",
    "from sklearn.model_selection import StratifiedKFold\n",
    "from sklearn.model_selection import learning_curve, GridSearchCV\n",
    "import pandas as pd\n",
    "import numpy as np\n",
    "from tqdm import tqdm\n",
    "tqdm.pandas(desc=\"progress-bar\")\n",
    "\n",
    "\n",
    "%matplotlib inline"
   ]
  },
  {
   "cell_type": "code",
   "execution_count": 2,
   "metadata": {
    "ExecuteTime": {
     "end_time": "2020-04-14T02:22:59.200802Z",
     "start_time": "2020-04-14T02:22:59.194805Z"
    }
   },
   "outputs": [],
   "source": [
    "# imports needed and logging\n",
    "import gzip\n",
    "import logging\n",
    "\n",
    "logging.basicConfig(format='%(asctime)s : %(levelname)s : %(message)s',\n",
    "                    level=logging.INFO)"
   ]
  },
  {
   "cell_type": "markdown",
   "metadata": {},
   "source": [
    "## Reading Data "
   ]
  },
  {
   "cell_type": "markdown",
   "metadata": {},
   "source": [
    "### Reading the BNC written data "
   ]
  },
  {
   "cell_type": "code",
   "execution_count": 3,
   "metadata": {
    "ExecuteTime": {
     "end_time": "2020-04-14T02:22:59.233784Z",
     "start_time": "2020-04-14T02:22:59.219791Z"
    },
    "code_folding": [
     0
    ]
   },
   "outputs": [],
   "source": [
    "# # Natural Language Toolkit: Plaintext Corpus Reader\n",
    "# #\n",
    "# # Copyright (C) 2001-2019 NLTK Project\n",
    "# # Author: Edward Loper <edloper@gmail.com>\n",
    "# # URL: <http://nltk.org/>\n",
    "# # For license information, see LICENSE.TXT\n",
    "\n",
    "# \"\"\"Corpus reader for the XML version of the British National Corpus.\"\"\"\n",
    "\n",
    "# from nltk.corpus.reader.util import concat\n",
    "# from nltk.corpus.reader.xmldocs import XMLCorpusReader, XMLCorpusView, ElementTree\n",
    "\n",
    "\n",
    "# class BNCCorpusReader(XMLCorpusReader):\n",
    "#     \"\"\"Corpus reader for the XML version of the British National Corpus.\n",
    "\n",
    "#     For access to the complete XML data structure, use the ``xml()``\n",
    "#     method.  For access to simple word lists and tagged word lists, use\n",
    "#     ``words()``, ``sents()``, ``tagged_words()``, and ``tagged_sents()``.\n",
    "\n",
    "#     You can obtain the full version of the BNC corpus at\n",
    "#     http://www.ota.ox.ac.uk/desc/2554\n",
    "\n",
    "#     If you extracted the archive to a directory called `BNC`, then you can\n",
    "#     instantiate the reader as::\n",
    "\n",
    "#         BNCCorpusReader(root='BNC/Texts/', fileids=r'[A-K]/\\w*/\\w*\\.xml')\n",
    "\n",
    "#     \"\"\"\n",
    "\n",
    "#     def __init__(self, root, fileids, lazy=True):\n",
    "#         XMLCorpusReader.__init__(self, root, fileids)\n",
    "#         self._lazy = lazy\n",
    "\n",
    "#     def words(self, fileids=None, strip_space=True, stem=True):\n",
    "#         \"\"\"\n",
    "#         :return: the given file(s) as a list of words\n",
    "#             and punctuation symbols.\n",
    "#         :rtype: list(str)\n",
    "\n",
    "#         :param strip_space: If true, then strip trailing spaces from\n",
    "#             word tokens.  Otherwise, leave the spaces on the tokens.\n",
    "#         :param stem: If true, then use word stems instead of word strings.\n",
    "#         \"\"\"\n",
    "#         return self._views(fileids, False, None, strip_space, stem)\n",
    "\n",
    "#     def tagged_words(self, fileids=None, c5=True, strip_space=True, stem=True):\n",
    "#         \"\"\"\n",
    "#         :return: the given file(s) as a list of tagged\n",
    "#             words and punctuation symbols, encoded as tuples\n",
    "#             ``(word,tag)``.\n",
    "#         :rtype: list(tuple(str,str))\n",
    "\n",
    "#         :param c5: If true, then the tags used will be the more detailed\n",
    "#             c5 tags.  Otherwise, the simplified tags will be used.\n",
    "#         :param strip_space: If true, then strip trailing spaces from\n",
    "#             word tokens.  Otherwise, leave the spaces on the tokens.\n",
    "#         :param stem: If true, then use word stems instead of word strings.\n",
    "#         \"\"\"\n",
    "#         tag = 'c5' if c5 else 'pos'\n",
    "#         return self._views(fileids, False, tag, strip_space, stem)\n",
    "\n",
    "#     def sents(self, fileids=None, strip_space=True, stem=True):\n",
    "#         \"\"\"\n",
    "#         :return: the given file(s) as a list of\n",
    "#             sentences or utterances, each encoded as a list of word\n",
    "#             strings.\n",
    "#         :rtype: list(list(str))\n",
    "\n",
    "#         :param strip_space: If true, then strip trailing spaces from\n",
    "#             word tokens.  Otherwise, leave the spaces on the tokens.\n",
    "#         :param stem: If true, then use word stems instead of word strings.\n",
    "#         \"\"\"\n",
    "#         return self._views(fileids, True, None, strip_space, stem)\n",
    "\n",
    "#     def tagged_sents(self, fileids=None, c5=True, strip_space=True, stem=True):\n",
    "#         \"\"\"\n",
    "#         :return: the given file(s) as a list of\n",
    "#             sentences, each encoded as a list of ``(word,tag)`` tuples.\n",
    "#         :rtype: list(list(tuple(str,str)))\n",
    "\n",
    "#         :param c5: If true, then the tags used will be the more detailed\n",
    "#             c5 tags.  Otherwise, the simplified tags will be used.\n",
    "#         :param strip_space: If true, then strip trailing spaces from\n",
    "#             word tokens.  Otherwise, leave the spaces on the tokens.\n",
    "#         :param stem: If true, then use word stems instead of word strings.\n",
    "#         \"\"\"\n",
    "#         tag = 'c5' if c5 else 'pos'\n",
    "#         return self._views(\n",
    "#             fileids, sent=True, tag=tag, strip_space=strip_space, stem=stem\n",
    "#         )\n",
    "\n",
    "#     def _views(self, fileids=None, sent=False, tag=False, strip_space=True, stem=True):\n",
    "#         \"\"\"A helper function that instantiates BNCWordViews or the list of words/sentences.\"\"\"\n",
    "#         f = BNCWordView if self._lazy else self._words\n",
    "#         return concat(\n",
    "#             [\n",
    "#                 f(fileid, sent, tag, strip_space, stem)\n",
    "#                 for fileid in self.abspaths(fileids)\n",
    "#             ]\n",
    "#         )\n",
    "\n",
    "#     def _words(self, fileid, bracket_sent, tag, strip_space, stem):\n",
    "#         \"\"\"\n",
    "#         Helper used to implement the view methods -- returns a list of\n",
    "#         words or a list of sentences, optionally tagged.\n",
    "\n",
    "#         :param fileid: The name of the underlying file.\n",
    "#         :param bracket_sent: If true, include sentence bracketing.\n",
    "#         :param tag: The name of the tagset to use, or None for no tags.\n",
    "#         :param strip_space: If true, strip spaces from word tokens.\n",
    "#         :param stem: If true, then substitute stems for words.\n",
    "#         \"\"\"\n",
    "#         result = []\n",
    "\n",
    "#         xmldoc = ElementTree.parse(fileid).getroot()\n",
    "#         for xmlsent in xmldoc.findall('.//s'):\n",
    "#             sent = []\n",
    "#             for xmlword in _all_xmlwords_in(xmlsent):\n",
    "#                 word = xmlword.text\n",
    "#                 if not word:\n",
    "#                     word = \"\"  # fixes issue 337?\n",
    "#                 if strip_space or stem:\n",
    "#                     word = word.strip()\n",
    "#                 if stem:\n",
    "#                     word = xmlword.get('hw', word)\n",
    "#                 if tag == 'c5':\n",
    "#                     word = (word, xmlword.get('c5'))\n",
    "#                 elif tag == 'pos':\n",
    "#                     word = (word, xmlword.get('pos', xmlword.get('c5')))\n",
    "#                 sent.append(word)\n",
    "#             if bracket_sent:\n",
    "#                 result.append(BNCSentence(xmlsent.attrib['n'], sent))\n",
    "#             else:\n",
    "#                 result.extend(sent)\n",
    "\n",
    "#         assert None not in result\n",
    "#         return result"
   ]
  },
  {
   "cell_type": "code",
   "execution_count": 4,
   "metadata": {
    "ExecuteTime": {
     "end_time": "2020-04-14T02:22:59.245776Z",
     "start_time": "2020-04-14T02:22:59.236781Z"
    },
    "code_folding": [
     0,
     11
    ]
   },
   "outputs": [],
   "source": [
    "# def _all_xmlwords_in(elt, result=None):\n",
    "#     if result is None:\n",
    "#         result = []\n",
    "#     for child in elt:\n",
    "#         if child.tag in ('w'):\n",
    "#             result.append(child)\n",
    "#         else:\n",
    "#             _all_xmlwords_in(child, result)\n",
    "#     return result\n",
    "\n",
    "\n",
    "# class BNCSentence(list):\n",
    "#     \"\"\"\n",
    "#     A list of words, augmented by an attribute ``num`` used to record\n",
    "#     the sentence identifier (the ``n`` attribute from the XML).\n",
    "#     \"\"\"\n",
    "\n",
    "#     def __init__(self, num, items):\n",
    "#         self.num = num\n",
    "#         list.__init__(self, items)"
   ]
  },
  {
   "cell_type": "code",
   "execution_count": 5,
   "metadata": {
    "ExecuteTime": {
     "end_time": "2020-04-14T02:22:59.257770Z",
     "start_time": "2020-04-14T02:22:59.248774Z"
    },
    "code_folding": [
     0
    ]
   },
   "outputs": [],
   "source": [
    "# class BNCWordView(XMLCorpusView):\n",
    "#     \"\"\"\n",
    "#     A stream backed corpus view specialized for use with the BNC corpus.\n",
    "#     \"\"\"\n",
    "\n",
    "#     tags_to_ignore = set(\n",
    "#         ['stext', 'pb', 'gap', 'vocal', 'event',\n",
    "#             'unclear', 'shift', 'pause', 'align', 'c']\n",
    "#     )\n",
    "#     \"\"\"These tags are ignored. For their description refer to the\n",
    "#     technical documentation, for example,\n",
    "#     http://www.natcorp.ox.ac.uk/docs/URG/ref-vocal.html\n",
    "\n",
    "#     \"\"\"\n",
    "\n",
    "#     def __init__(self, fileid, sent, tag, strip_space, stem):\n",
    "#         \"\"\"\n",
    "#         :param fileid: The name of the underlying file.\n",
    "#         :param sent: If true, include sentence bracketing.\n",
    "#         :param tag: The name of the tagset to use, or None for no tags.\n",
    "#         :param strip_space: If true, strip spaces from word tokens.\n",
    "#         :param stem: If true, then substitute stems for words.\n",
    "#         \"\"\"\n",
    "#         if sent:\n",
    "#             tagspec = '.*/s'\n",
    "#         else:\n",
    "#             tagspec = '.*/s/(.*/)?(w)'\n",
    "#         self._sent = sent\n",
    "#         self._tag = tag\n",
    "#         self._strip_space = strip_space\n",
    "#         self._stem = stem\n",
    "\n",
    "#         self.title = None  #: Title of the document.\n",
    "#         self.author = None  #: Author of the document.\n",
    "#         self.editor = None  #: Editor\n",
    "#         self.resps = None  #: Statement of responsibility\n",
    "\n",
    "#         XMLCorpusView.__init__(self, fileid, tagspec)\n",
    "\n",
    "#         # Read in a tasty header.\n",
    "#         self._open()\n",
    "#         self.read_block(self._stream, '.*/teiHeader$', self.handle_header)\n",
    "#         self.close()\n",
    "\n",
    "#         # Reset tag context.\n",
    "#         self._tag_context = {0: ()}\n",
    "\n",
    "#     def handle_header(self, elt, context):\n",
    "#         # Set up some metadata!\n",
    "#         titles = elt.findall('titleStmt/title')\n",
    "#         if titles:\n",
    "#             self.title = '\\n'.join(title.text.strip() for title in titles)\n",
    "\n",
    "#         authors = elt.findall('titleStmt/author')\n",
    "#         if authors:\n",
    "#             self.author = '\\n'.join(author.text.strip() for author in authors)\n",
    "\n",
    "#         editors = elt.findall('titleStmt/editor')\n",
    "#         if editors:\n",
    "#             self.editor = '\\n'.join(editor.text.strip() for editor in editors)\n",
    "\n",
    "#         resps = elt.findall('titleStmt/respStmt')\n",
    "#         if resps:\n",
    "#             self.resps = '\\n\\n'.join(\n",
    "#                 '\\n'.join(resp_elt.text.strip() for resp_elt in resp) for resp in resps\n",
    "#             )\n",
    "\n",
    "#     def handle_elt(self, elt, context):\n",
    "#         if self._sent:\n",
    "#             return self.handle_sent(elt)\n",
    "#         else:\n",
    "#             return self.handle_word(elt)\n",
    "\n",
    "#     def handle_word(self, elt):\n",
    "#         word = elt.text\n",
    "#         if not word:\n",
    "#             word = \"\"  # fixes issue 337?\n",
    "#         if self._strip_space or self._stem:\n",
    "#             word = word.strip()\n",
    "#         if self._stem:\n",
    "#             word = elt.get('hw', word)\n",
    "#         if self._tag == 'c5':\n",
    "#             word = (word, elt.get('c5'))\n",
    "#         elif self._tag == 'pos':\n",
    "#             word = (word, elt.get('pos', elt.get('c5')))\n",
    "#         return word\n",
    "\n",
    "#     def handle_sent(self, elt):\n",
    "#         sent = []\n",
    "#         for child in elt:\n",
    "#             if child.tag in ('mw', 'hi', 'corr', 'trunc'):\n",
    "#                 sent += [self.handle_word(w) for w in child]\n",
    "#             elif child.tag in ('w'):\n",
    "#                 sent.append(self.handle_word(child))\n",
    "#             elif child.tag not in self.tags_to_ignore:\n",
    "#                 raise ValueError('Unexpected element %s' % child.tag)\n",
    "#         return BNCSentence(elt.attrib['n'], sent)"
   ]
  },
  {
   "cell_type": "code",
   "execution_count": 6,
   "metadata": {
    "ExecuteTime": {
     "end_time": "2020-04-14T02:22:59.269763Z",
     "start_time": "2020-04-14T02:22:59.260768Z"
    }
   },
   "outputs": [],
   "source": [
    "# parser = BNCCorpusReader(root='BNC/Texts/', fileids=r'[A-K]/\\w*/\\w*\\.xml')"
   ]
  },
  {
   "cell_type": "markdown",
   "metadata": {},
   "source": [
    "### Spliting data into train/dev/test set"
   ]
  },
  {
   "cell_type": "code",
   "execution_count": 7,
   "metadata": {
    "ExecuteTime": {
     "end_time": "2020-04-14T02:22:59.281755Z",
     "start_time": "2020-04-14T02:22:59.272761Z"
    }
   },
   "outputs": [],
   "source": [
    "DATA_SET_PATH = \"dataset/input.txt\""
   ]
  },
  {
   "cell_type": "code",
   "execution_count": 8,
   "metadata": {
    "ExecuteTime": {
     "end_time": "2020-04-14T02:22:59.298751Z",
     "start_time": "2020-04-14T02:22:59.286752Z"
    },
    "scrolled": false
   },
   "outputs": [],
   "source": [
    "X, y = [], []\n",
    "with open(DATA_SET_PATH, \"r\") as infile:\n",
    "    for line in infile:\n",
    "        text, label = line.split(\"\\t\")\n",
    "        # texts are already tokenized, just split on space\n",
    "        # in a real case we would use e.g. spaCy for tokenization\n",
    "        # and maybe remove stopwords etc.\n",
    "        X.append(text.split())\n",
    "        y.append(label)\n",
    "X, y = np.array(X), np.array(y)"
   ]
  },
  {
   "cell_type": "code",
   "execution_count": 9,
   "metadata": {
    "ExecuteTime": {
     "end_time": "2020-04-14T02:22:59.312739Z",
     "start_time": "2020-04-14T02:22:59.306743Z"
    }
   },
   "outputs": [],
   "source": [
    "TRAIN_SET_PATH = \"dataset/train_set.txt\"\n",
    "DEV_SET_PATH = \"dataset/dev_set.txt\"\n",
    "TEST_SET_PATH = \"dataset/test_set.txt\""
   ]
  },
  {
   "cell_type": "code",
   "execution_count": 10,
   "metadata": {
    "ExecuteTime": {
     "end_time": "2020-04-14T02:22:59.326730Z",
     "start_time": "2020-04-14T02:22:59.315737Z"
    }
   },
   "outputs": [],
   "source": [
    "X_train, y_train = [], []\n",
    "with open(TRAIN_SET_PATH, \"r\") as infile:\n",
    "    for line in infile:\n",
    "        text, label = line.split(\"\\t\")\n",
    "        # texts are already tokenized, just split on space\n",
    "        # in a real case we would use e.g. spaCy for tokenization\n",
    "        # and maybe remove stopwords etc.\n",
    "        X_train.append(text.split())\n",
    "        y_train.append(label)\n",
    "X_train, y_train = np.array(X_train), np.array(y_train)"
   ]
  },
  {
   "cell_type": "code",
   "execution_count": 11,
   "metadata": {
    "ExecuteTime": {
     "end_time": "2020-04-14T02:22:59.339722Z",
     "start_time": "2020-04-14T02:22:59.329729Z"
    }
   },
   "outputs": [],
   "source": [
    "X_val, y_val = [], []\n",
    "with open(DEV_SET_PATH, \"r\") as infile:\n",
    "    for line in infile:\n",
    "        text, label = line.split(\"\\t\")\n",
    "        # texts are already tokenized, just split on space\n",
    "        # in a real case we would use e.g. spaCy for tokenization\n",
    "        # and maybe remove stopwords etc.\n",
    "        X_val.append(text.split())\n",
    "        y_val.append(label)\n",
    "X_val, y_val = np.array(X_val), np.array(y_val)"
   ]
  },
  {
   "cell_type": "code",
   "execution_count": 12,
   "metadata": {
    "ExecuteTime": {
     "end_time": "2020-04-14T02:22:59.351716Z",
     "start_time": "2020-04-14T02:22:59.342721Z"
    }
   },
   "outputs": [],
   "source": [
    "X_test, y_test = [], []\n",
    "with open(TEST_SET_PATH, \"r\") as infile:\n",
    "    for line in infile:\n",
    "        text, label = line.split(\"\\t\")\n",
    "        # texts are already tokenized, just split on space\n",
    "        # in a real case we would use e.g. spaCy for tokenization\n",
    "        # and maybe remove stopwords etc.\n",
    "        X_test.append(text.split())\n",
    "        y_test.append(label)\n",
    "X_test, y_test = np.array(X_test), np.array(y_test)"
   ]
  },
  {
   "cell_type": "code",
   "execution_count": 13,
   "metadata": {
    "ExecuteTime": {
     "end_time": "2020-04-14T02:22:59.370704Z",
     "start_time": "2020-04-14T02:22:59.354714Z"
    },
    "scrolled": true
   },
   "outputs": [],
   "source": [
    "for i in range(0, len(y) - 1):\n",
    "    y[i] = y[i][:-1]\n",
    "\n",
    "for i in range(0, len(y_train)):\n",
    "    y_train[i] = y_train[i][:-1]\n",
    "for i in range(0, len(y_train)):\n",
    "    if y_train[i] == \"Goal\" or y_train[i] == \"Cmpl\":\n",
    "        y_train[i] = \"GC\"\n",
    "\n",
    "for i in range(0, len(y_val)):\n",
    "    y_val[i] = y_val[i][:-1]\n",
    "for i in range(0, len(y_val)):\n",
    "    if y_val[i] == 'Goal' or y_val[i] == 'Cmpl':\n",
    "        y_val[i] = 'GC'\n",
    "for i in range(0, len(y_test)):\n",
    "    y_test[i] = y_test[i][:-1]\n",
    "for i in range(0, len(y_test)):\n",
    "    if y_test[i] == 'Goal' or y_test[i] == 'Cmpl':\n",
    "        y_test[i] = 'GC'"
   ]
  },
  {
   "cell_type": "markdown",
   "metadata": {},
   "source": [
    "## Setting up particle features "
   ]
  },
  {
   "cell_type": "code",
   "execution_count": 14,
   "metadata": {
    "ExecuteTime": {
     "end_time": "2020-04-14T02:23:01.786869Z",
     "start_time": "2020-04-14T02:22:59.373703Z"
    }
   },
   "outputs": [],
   "source": [
    "particle_features_df=pd.read_excel('particle_features.xlsx')"
   ]
  },
  {
   "cell_type": "code",
   "execution_count": 15,
   "metadata": {
    "ExecuteTime": {
     "end_time": "2020-04-14T02:23:08.394931Z",
     "start_time": "2020-04-14T02:23:01.788867Z"
    },
    "scrolled": true
   },
   "outputs": [
    {
     "data": {
      "text/plain": [
       "array([0.        , 0.00512821, 0.00512821, 0.14358975, 0.        ,\n",
       "       0.02051282, 0.03076923, 0.04615385, 0.15384616, 0.08205128,\n",
       "       0.00512821, 0.00512821, 0.01025641, 0.        , 0.4923077 ,\n",
       "       0.84375   , 0.10416666, 0.02083333, 0.        , 0.01041667,\n",
       "       0.02083333], dtype=float32)"
      ]
     },
     "execution_count": 15,
     "metadata": {},
     "output_type": "execute_result"
    }
   ],
   "source": [
    "particle_features={}\n",
    "for index, row in particle_features_df.iterrows():\n",
    "    particle_features[particle_features_df.iloc[index]['verb']]=particle_features_df.loc[index,['about', 'along', 'around', 'back', 'by', 'down', 'in', 'off',\n",
    "                          'on', 'out', 'over', 'round', 'through', 'under', 'up', 'up_0', 'up_1',\n",
    "                          'up_2', 'up_3', 'up_4', 'up_5']].to_numpy(dtype='float32')\n",
    "particle_features['fire']"
   ]
  },
  {
   "cell_type": "code",
   "execution_count": 16,
   "metadata": {
    "ExecuteTime": {
     "end_time": "2020-04-14T02:23:08.405925Z",
     "start_time": "2020-04-14T02:23:08.396928Z"
    }
   },
   "outputs": [],
   "source": [
    "combined_features_V={}\n",
    "for k in particle_features.keys():\n",
    "    modified_key= str(k)+'_V'\n",
    "    combined_features_V[modified_key]=particle_features[k]"
   ]
  },
  {
   "cell_type": "code",
   "execution_count": 17,
   "metadata": {
    "ExecuteTime": {
     "end_time": "2020-04-14T02:23:08.422914Z",
     "start_time": "2020-04-14T02:23:08.407924Z"
    }
   },
   "outputs": [],
   "source": [
    "combined_features_VPC={}\n",
    "for k in particle_features.keys():\n",
    "    modified_key= str(k)+'_VPC'\n",
    "    combined_features_VPC[modified_key]=particle_features[k]"
   ]
  },
  {
   "cell_type": "markdown",
   "metadata": {},
   "source": [
    "## Getting the word embeddings"
   ]
  },
  {
   "cell_type": "markdown",
   "metadata": {},
   "source": [
    "### training word2vec on BNC corpus "
   ]
  },
  {
   "cell_type": "markdown",
   "metadata": {},
   "source": [
    "#### CBOW"
   ]
  },
  {
   "cell_type": "code",
   "execution_count": 18,
   "metadata": {
    "ExecuteTime": {
     "end_time": "2020-04-14T02:23:08.440904Z",
     "start_time": "2020-04-14T02:23:08.424913Z"
    }
   },
   "outputs": [],
   "source": [
    "X_train_list = []\n",
    "# for l in d0:\n",
    "for l in X_train:\n",
    "    X_train_list_item = []\n",
    "    for t in l:\n",
    "        t = str(t)+'_VPC'\n",
    "        X_train_list_item.append(t)\n",
    "    X_train_list.append(X_train_list_item)\n",
    "# X_val_list = []\n",
    "# # for l in d0:\n",
    "# for l in X_val:\n",
    "#     X_val_list_item = []\n",
    "#     for t in l:\n",
    "#         t = str(t)+'_VPC'\n",
    "#         X_val_list_item.append(t)\n",
    "#     X_val_list.append(X_val_list_item)\n",
    "X_val_list = []\n",
    "# for l in d0:\n",
    "for l in X_test:\n",
    "    X_val_list_item = []\n",
    "    for t in l:\n",
    "        t = str(t)+'_VPC'\n",
    "        X_val_list_item.append(t)\n",
    "    X_val_list.append(X_val_list_item)\n",
    "\n",
    "X_train_tagged_VPC = np.array(X_train_list)\n",
    "X_val_tagged_VPC = np.array(X_val_list)\n",
    "\n",
    "X_train_list = []\n",
    "# for l in d0:\n",
    "for l in X_train:\n",
    "    X_train_list_item = []\n",
    "    for t in l:\n",
    "        t = str(t)+'_V'\n",
    "        X_train_list_item.append(t)\n",
    "    X_train_list.append(X_train_list_item)\n",
    "# X_val_list = []\n",
    "# # for l in d0:\n",
    "# for l in X_val:\n",
    "#     X_val_list_item = []\n",
    "#     for t in l:\n",
    "#         t = str(t)+'_V'\n",
    "#         X_val_list_item.append(t)\n",
    "#     X_val_list.append(X_val_list_item)\n",
    "X_val_list = []\n",
    "# for l in d0:\n",
    "for l in X_test:\n",
    "    X_val_list_item = []\n",
    "    for t in l:\n",
    "        t = str(t)+'_V'\n",
    "        X_val_list_item.append(t)\n",
    "    X_val_list.append(X_val_list_item)\n",
    "\n",
    "\n",
    "X_train_tagged_V = np.array(X_train_list)\n",
    "X_val_tagged_V = np.array(X_val_list)"
   ]
  },
  {
   "cell_type": "code",
   "execution_count": 19,
   "metadata": {
    "ExecuteTime": {
     "end_time": "2020-04-14T02:23:16.740959Z",
     "start_time": "2020-04-14T02:23:08.442902Z"
    },
    "scrolled": true
   },
   "outputs": [
    {
     "name": "stderr",
     "output_type": "stream",
     "text": [
      "2020-04-19 14:02:04,789 : INFO : loading Word2Vec object from models/Trained2/model_BNC_sentences.model\n",
      "2020-04-19 14:02:05,209 : INFO : loading wv recursively from models/Trained2/model_BNC_sentences.model.wv.* with mmap=None\n",
      "2020-04-19 14:02:05,210 : INFO : loading vectors from models/Trained2/model_BNC_sentences.model.wv.vectors.npy with mmap=None\n",
      "2020-04-19 14:02:05,711 : INFO : setting ignored attribute vectors_norm to None\n",
      "2020-04-19 14:02:05,712 : INFO : loading vocabulary recursively from models/Trained2/model_BNC_sentences.model.vocabulary.* with mmap=None\n",
      "2020-04-19 14:02:05,713 : INFO : loading trainables recursively from models/Trained2/model_BNC_sentences.model.trainables.* with mmap=None\n",
      "2020-04-19 14:02:05,715 : INFO : loading syn1neg from models/Trained2/model_BNC_sentences.model.trainables.syn1neg.npy with mmap=None\n",
      "2020-04-19 14:02:06,174 : INFO : setting ignored attribute cum_table to None\n",
      "2020-04-19 14:02:06,175 : INFO : loaded models/Trained2/model_BNC_sentences.model\n",
      "2020-04-19 14:02:06,549 : INFO : loading Word2Vec object from models/Trained2/model_BNC_tagged_sentences_particle_cw.model\n",
      "2020-04-19 14:02:06,967 : INFO : loading wv recursively from models/Trained2/model_BNC_tagged_sentences_particle_cw.model.wv.* with mmap=None\n",
      "2020-04-19 14:02:06,968 : INFO : loading vectors from models/Trained2/model_BNC_tagged_sentences_particle_cw.model.wv.vectors.npy with mmap=None\n",
      "2020-04-19 14:02:07,431 : INFO : setting ignored attribute vectors_norm to None\n",
      "2020-04-19 14:02:07,432 : INFO : loading vocabulary recursively from models/Trained2/model_BNC_tagged_sentences_particle_cw.model.vocabulary.* with mmap=None\n",
      "2020-04-19 14:02:07,433 : INFO : loading trainables recursively from models/Trained2/model_BNC_tagged_sentences_particle_cw.model.trainables.* with mmap=None\n",
      "2020-04-19 14:02:07,433 : INFO : loading syn1neg from models/Trained2/model_BNC_tagged_sentences_particle_cw.model.trainables.syn1neg.npy with mmap=None\n",
      "2020-04-19 14:02:07,903 : INFO : setting ignored attribute cum_table to None\n",
      "2020-04-19 14:02:07,905 : INFO : loaded models/Trained2/model_BNC_tagged_sentences_particle_cw.model\n",
      "2020-04-19 14:02:08,272 : INFO : loading Word2Vec object from models/Trained2/model_BNC_tagged_sentences_verb_cw.model\n",
      "2020-04-19 14:02:08,619 : INFO : loading wv recursively from models/Trained2/model_BNC_tagged_sentences_verb_cw.model.wv.* with mmap=None\n",
      "2020-04-19 14:02:08,620 : INFO : loading vectors from models/Trained2/model_BNC_tagged_sentences_verb_cw.model.wv.vectors.npy with mmap=None\n",
      "2020-04-19 14:02:09,088 : INFO : setting ignored attribute vectors_norm to None\n",
      "2020-04-19 14:02:09,089 : INFO : loading vocabulary recursively from models/Trained2/model_BNC_tagged_sentences_verb_cw.model.vocabulary.* with mmap=None\n",
      "2020-04-19 14:02:09,090 : INFO : loading trainables recursively from models/Trained2/model_BNC_tagged_sentences_verb_cw.model.trainables.* with mmap=None\n",
      "2020-04-19 14:02:09,092 : INFO : loading syn1neg from models/Trained2/model_BNC_tagged_sentences_verb_cw.model.trainables.syn1neg.npy with mmap=None\n",
      "2020-04-19 14:02:09,730 : INFO : setting ignored attribute cum_table to None\n",
      "2020-04-19 14:02:09,731 : INFO : loaded models/Trained2/model_BNC_tagged_sentences_verb_cw.model\n",
      "2020-04-19 14:02:10,125 : INFO : loading Word2Vec object from models/Trained2/model_BNC_tagged_sentences_particle_up_cw.model\n",
      "2020-04-19 14:02:10,989 : INFO : loading wv recursively from models/Trained2/model_BNC_tagged_sentences_particle_up_cw.model.wv.* with mmap=None\n",
      "2020-04-19 14:02:10,990 : INFO : loading vectors from models/Trained2/model_BNC_tagged_sentences_particle_up_cw.model.wv.vectors.npy with mmap=None\n",
      "2020-04-19 14:02:11,459 : INFO : setting ignored attribute vectors_norm to None\n",
      "2020-04-19 14:02:11,459 : INFO : loading vocabulary recursively from models/Trained2/model_BNC_tagged_sentences_particle_up_cw.model.vocabulary.* with mmap=None\n",
      "2020-04-19 14:02:11,460 : INFO : loading trainables recursively from models/Trained2/model_BNC_tagged_sentences_particle_up_cw.model.trainables.* with mmap=None\n",
      "2020-04-19 14:02:11,461 : INFO : loading syn1neg from models/Trained2/model_BNC_tagged_sentences_particle_up_cw.model.trainables.syn1neg.npy with mmap=None\n",
      "2020-04-19 14:02:11,908 : INFO : setting ignored attribute cum_table to None\n",
      "2020-04-19 14:02:11,909 : INFO : loaded models/Trained2/model_BNC_tagged_sentences_particle_up_cw.model\n"
     ]
    }
   ],
   "source": [
    "model_BNC_sentences = Word2Vec.load(\"models/Trained2/model_BNC_sentences.model\")\n",
    "model_BNC_tagged_sentences_particle_cw = Word2Vec.load(\n",
    "    \"models/Trained2/model_BNC_tagged_sentences_particle_cw.model\")\n",
    "model_BNC_tagged_sentences_verb_cw = Word2Vec.load(\n",
    "    \"models/Trained2/model_BNC_tagged_sentences_verb_cw.model\")\n",
    "model_BNC_tagged_sentences_particle_up_cw = Word2Vec.load(\n",
    "    \"models/Trained2/model_BNC_tagged_sentences_particle_up_cw.model\")"
   ]
  },
  {
   "cell_type": "code",
   "execution_count": 20,
   "metadata": {
    "ExecuteTime": {
     "end_time": "2020-04-14T02:23:16.814919Z",
     "start_time": "2020-04-14T02:23:16.743957Z"
    }
   },
   "outputs": [
    {
     "name": "stderr",
     "output_type": "stream",
     "text": [
      "C:\\ProgramData\\Anaconda3\\lib\\site-packages\\ipykernel_launcher.py:4: DeprecationWarning: Call to deprecated `__contains__` (Method will be removed in 4.0.0, use self.wv.__contains__() instead).\n",
      "  after removing the cwd from sys.path.\n",
      "C:\\ProgramData\\Anaconda3\\lib\\site-packages\\ipykernel_launcher.py:4: DeprecationWarning: Call to deprecated `__getitem__` (Method will be removed in 4.0.0, use self.wv.__getitem__() instead).\n",
      "  after removing the cwd from sys.path.\n",
      "C:\\ProgramData\\Anaconda3\\lib\\site-packages\\ipykernel_launcher.py:14: DeprecationWarning: Call to deprecated `__contains__` (Method will be removed in 4.0.0, use self.wv.__contains__() instead).\n",
      "  \n",
      "C:\\ProgramData\\Anaconda3\\lib\\site-packages\\ipykernel_launcher.py:14: DeprecationWarning: Call to deprecated `__getitem__` (Method will be removed in 4.0.0, use self.wv.__getitem__() instead).\n",
      "  \n",
      "C:\\ProgramData\\Anaconda3\\lib\\site-packages\\ipykernel_launcher.py:23: DeprecationWarning: Call to deprecated `__contains__` (Method will be removed in 4.0.0, use self.wv.__contains__() instead).\n",
      "C:\\ProgramData\\Anaconda3\\lib\\site-packages\\ipykernel_launcher.py:23: DeprecationWarning: Call to deprecated `__getitem__` (Method will be removed in 4.0.0, use self.wv.__getitem__() instead).\n",
      "C:\\ProgramData\\Anaconda3\\lib\\site-packages\\ipykernel_launcher.py:32: DeprecationWarning: Call to deprecated `__contains__` (Method will be removed in 4.0.0, use self.wv.__contains__() instead).\n",
      "C:\\ProgramData\\Anaconda3\\lib\\site-packages\\ipykernel_launcher.py:32: DeprecationWarning: Call to deprecated `__getitem__` (Method will be removed in 4.0.0, use self.wv.__getitem__() instead).\n"
     ]
    }
   ],
   "source": [
    "def transform_with_BNC(x):\n",
    "    return np.array([\n",
    "        np.mean([model_BNC_sentences[w]\n",
    "                 for w in words if w in model_BNC_sentences]or [np.zeros(300)],\n",
    "                axis=0) for words in x\n",
    "    ])\n",
    "X_train_updated_BNC = transform_with_BNC(X_train)\n",
    "# X_val_updated_BNC = transform_with_BNC(X_val)\n",
    "X_val_updated_BNC = transform_with_BNC(X_test)\n",
    "\n",
    "def transform_with_BNC_v(x):\n",
    "    return np.array([\n",
    "        np.mean([model_BNC_tagged_sentences_verb_cw[w]\n",
    "                 for w in words if w in model_BNC_tagged_sentences_verb_cw]or [np.zeros(300)],\n",
    "                axis=0) for words in x\n",
    "    ])\n",
    "X_train_updated_BNC_V = transform_with_BNC_v(X_train_tagged_V)\n",
    "X_val_updated_BNC_V = transform_with_BNC_v(X_val_tagged_V)\n",
    "\n",
    "def transform_with_BNC_up(x):\n",
    "    return np.array([\n",
    "        np.mean([model_BNC_tagged_sentences_particle_up_cw[w]\n",
    "                 for w in words if w in model_BNC_tagged_sentences_particle_up_cw]or [np.zeros(300)],\n",
    "                axis=0) for words in x\n",
    "    ])\n",
    "X_train_updated_BNC_VPC_up = transform_with_BNC_up(X_train_tagged_VPC)\n",
    "X_val_updated_BNC_VPC_up = transform_with_BNC_up(X_val_tagged_VPC)\n",
    "\n",
    "def transform_with_BNC_vpc(x):\n",
    "    return np.array([\n",
    "        np.mean([model_BNC_tagged_sentences_particle_cw[w]\n",
    "                 for w in words if w in model_BNC_tagged_sentences_particle_cw]or [np.zeros(300)],\n",
    "                axis=0) for words in x\n",
    "    ])\n",
    "\n",
    "X_train_updated_BNC_VPC = transform_with_BNC_vpc(X_train_tagged_VPC)\n",
    "X_val_updated_BNC_VPC = transform_with_BNC_vpc(X_val_tagged_VPC)\n",
    "\n",
    "def transform_with_particle_features(x):\n",
    "    return np.array([\n",
    "        np.mean([particle_features[w]\n",
    "                 for w in words if w in particle_features]or [np.zeros(particle_features['balance'].shape)],\n",
    "                axis=0) for words in x\n",
    "    ])\n",
    "X_train_particle_features = transform_with_particle_features(X_train)\n",
    "# X_val_particle_features = transform_with_particle_features(X_val)\n",
    "X_val_particle_features = transform_with_particle_features(X_test)"
   ]
  },
  {
   "cell_type": "code",
   "execution_count": 21,
   "metadata": {
    "ExecuteTime": {
     "end_time": "2020-04-14T02:23:16.829908Z",
     "start_time": "2020-04-14T02:23:16.818915Z"
    }
   },
   "outputs": [],
   "source": [
    "X_train_combined_cw=np.concatenate((X_train_updated_BNC, X_train_particle_features), axis=1)\n",
    "X_val_combined_cw=np.concatenate((X_val_updated_BNC, X_val_particle_features), axis=1)\n",
    "\n",
    "\n",
    "X_train_combined_VPC_cw=np.concatenate((X_train_updated_BNC_VPC, X_train_particle_features), axis=1)\n",
    "X_val_combined_VPC_cw=np.concatenate((X_val_updated_BNC_VPC, X_val_particle_features), axis=1)\n",
    "\n",
    "\n",
    "X_train_combined_VPC_cw_up=np.concatenate((X_train_updated_BNC_VPC_up, X_train_particle_features), axis=1)\n",
    "X_val_combined_VPC_cw_up=np.concatenate((X_val_updated_BNC_VPC_up, X_val_particle_features), axis=1)\n",
    "\n",
    "\n",
    "X_train_combined_V_cw=np.concatenate((X_train_updated_BNC_V, X_train_particle_features), axis=1)\n",
    "X_val_combined_V_cw=np.concatenate((X_val_updated_BNC_V, X_val_particle_features), axis=1)"
   ]
  },
  {
   "cell_type": "code",
   "execution_count": 22,
   "metadata": {
    "ExecuteTime": {
     "end_time": "2020-04-14T02:23:16.840903Z",
     "start_time": "2020-04-14T02:23:16.832906Z"
    }
   },
   "outputs": [],
   "source": [
    "X_train_combined_cw900D=np.concatenate((X_train_updated_BNC_V, X_train_updated_BNC_VPC,X_train_updated_BNC_VPC_up), axis=1)\n",
    "X_val_combined_cw900D=np.concatenate((X_val_updated_BNC_V, X_val_updated_BNC_VPC,X_val_updated_BNC_VPC_up), axis=1)"
   ]
  },
  {
   "cell_type": "code",
   "execution_count": 23,
   "metadata": {
    "ExecuteTime": {
     "end_time": "2020-04-14T02:23:16.859891Z",
     "start_time": "2020-04-14T02:23:16.850900Z"
    }
   },
   "outputs": [],
   "source": [
    "X_train_combined_cw921D=np.concatenate((X_train_updated_BNC_V, X_train_updated_BNC_VPC,X_train_updated_BNC_VPC_up,X_train_particle_features), axis=1)\n",
    "X_val_combined_cw921D=np.concatenate((X_val_updated_BNC_V, X_val_updated_BNC_VPC,X_val_updated_BNC_VPC_up,X_val_particle_features), axis=1)"
   ]
  },
  {
   "cell_type": "code",
   "execution_count": 24,
   "metadata": {
    "ExecuteTime": {
     "end_time": "2020-04-14T02:23:16.871884Z",
     "start_time": "2020-04-14T02:23:16.864889Z"
    }
   },
   "outputs": [],
   "source": [
    "# def transform_with_combine_features_cw(x):\n",
    "#     return np.array([\n",
    "#         np.concatenate(([model_BNC_sentences[w]\n",
    "#                  for w in words if w in model_BNC_sentences]or [np.zeros(model_BNC_sentences['balance'].shape)],\n",
    "#                        [particle_features[w]\n",
    "#                  for w in words if w in particle_features]or [np.zeros(particle_features['balance'].shape)]),\n",
    "#                 axis=None) for words in x\n",
    "#     ]) \n",
    "# X_train_combined_cw=transform_with_combine_features_cw(X_train)\n",
    "# X_val_combined_cw=transform_with_combine_features_cw(X_val)\n",
    "\n",
    "# def transform_with_combine_features_cw_VPC(x):\n",
    "#     return np.array([\n",
    "#         np.concatenate((\n",
    "#             [model_BNC_tagged_sentences_particle_cw[w]\n",
    "#                  for w in words if w in model_BNC_tagged_sentences_particle_cw]or [np.zeros(model_BNC_tagged_sentences_particle_cw['balance_VPC'].shape)],\n",
    "#                        [combined_features_VPC[w]\n",
    "#                  for w in words if w in combined_features_VPC]or [np.zeros(combined_features_VPC['balance_VPC'].shape)]),\n",
    "#                 axis=None) for words in x\n",
    "#     ]) \n",
    "# X_train_combined_VPC_cw=transform_with_combine_features_cw_VPC(X_train_tagged_VPC)\n",
    "# X_val_combined_VPC_cw=transform_with_combine_features_cw_VPC(X_val_tagged_VPC)\n",
    "\n",
    "# def transform_with_combine_features_cw_VPC_up(x):\n",
    "#     return np.array([\n",
    "#         np.concatenate(([model_BNC_tagged_sentences_particle_up_cw[w]\n",
    "#                  for w in words if w in model_BNC_tagged_sentences_particle_up_cw]or [np.zeros(model_BNC_tagged_sentences_particle_up_cw['balance_VPC'].shape)],\n",
    "#                        [combined_features_VPC[w]\n",
    "#                  for w in words if w in combined_features_VPC]or [np.zeros(combined_features_VPC['balance_VPC'].shape)]),\n",
    "#                 axis=None) for words in x\n",
    "#     ]) \n",
    "# X_train_combined_VPC_cw_up=transform_with_combine_features_cw_VPC_up(X_train_tagged_VPC)\n",
    "# X_val_combined_VPC_cw_up=transform_with_combine_features_cw_VPC_up(X_val_tagged_VPC)\n",
    "\n",
    "# def transform_with_combine_features_cw_V(x):\n",
    "#     return np.array([\n",
    "#         np.concatenate(([model_BNC_tagged_sentences_verb_cw[w]\n",
    "#                  for w in words if w in model_BNC_tagged_sentences_verb_cw]or [np.zeros(model_BNC_tagged_sentences_verb_cw['balance_V'].shape)],\n",
    "#                        [combined_features_V[w]\n",
    "#                  for w in words if w in combined_features_V]or [np.zeros(combined_features_V['balance_V'].shape)]),\n",
    "#                 axis=None) for words in x\n",
    "#     ]) \n",
    "# X_train_combined_V_cw=transform_with_combine_features_cw_V(X_train_tagged_V)\n",
    "# X_val_combined_V_cw=transform_with_combine_features_cw_V(X_val_tagged_V)\n",
    "\n"
   ]
  },
  {
   "cell_type": "code",
   "execution_count": 25,
   "metadata": {
    "ExecuteTime": {
     "end_time": "2020-04-14T02:23:34.207582Z",
     "start_time": "2020-04-14T02:23:16.874882Z"
    },
    "scrolled": true
   },
   "outputs": [
    {
     "name": "stderr",
     "output_type": "stream",
     "text": [
      "2020-04-19 14:02:12,455 : INFO : loading Word2Vec object from models/Trained2/model_BNC_sentences_sg.model\n",
      "2020-04-19 14:02:12,928 : INFO : loading wv recursively from models/Trained2/model_BNC_sentences_sg.model.wv.* with mmap=None\n",
      "2020-04-19 14:02:12,929 : INFO : loading vectors from models/Trained2/model_BNC_sentences_sg.model.wv.vectors.npy with mmap=None\n",
      "2020-04-19 14:02:13,478 : INFO : setting ignored attribute vectors_norm to None\n",
      "2020-04-19 14:02:13,479 : INFO : loading vocabulary recursively from models/Trained2/model_BNC_sentences_sg.model.vocabulary.* with mmap=None\n",
      "2020-04-19 14:02:13,479 : INFO : loading trainables recursively from models/Trained2/model_BNC_sentences_sg.model.trainables.* with mmap=None\n",
      "2020-04-19 14:02:13,480 : INFO : loading syn1neg from models/Trained2/model_BNC_sentences_sg.model.trainables.syn1neg.npy with mmap=None\n",
      "2020-04-19 14:02:14,437 : INFO : setting ignored attribute cum_table to None\n",
      "2020-04-19 14:02:14,438 : INFO : loaded models/Trained2/model_BNC_sentences_sg.model\n",
      "2020-04-19 14:02:14,836 : INFO : loading Word2Vec object from models/Trained2/model_BNC_tagged_sentences_particle_sg.model\n",
      "2020-04-19 14:02:15,190 : INFO : loading wv recursively from models/Trained2/model_BNC_tagged_sentences_particle_sg.model.wv.* with mmap=None\n",
      "2020-04-19 14:02:15,191 : INFO : loading vectors from models/Trained2/model_BNC_tagged_sentences_particle_sg.model.wv.vectors.npy with mmap=None\n",
      "2020-04-19 14:02:15,695 : INFO : setting ignored attribute vectors_norm to None\n",
      "2020-04-19 14:02:15,696 : INFO : loading vocabulary recursively from models/Trained2/model_BNC_tagged_sentences_particle_sg.model.vocabulary.* with mmap=None\n",
      "2020-04-19 14:02:15,696 : INFO : loading trainables recursively from models/Trained2/model_BNC_tagged_sentences_particle_sg.model.trainables.* with mmap=None\n",
      "2020-04-19 14:02:15,699 : INFO : loading syn1neg from models/Trained2/model_BNC_tagged_sentences_particle_sg.model.trainables.syn1neg.npy with mmap=None\n",
      "2020-04-19 14:02:16,202 : INFO : setting ignored attribute cum_table to None\n",
      "2020-04-19 14:02:16,211 : INFO : loaded models/Trained2/model_BNC_tagged_sentences_particle_sg.model\n",
      "2020-04-19 14:02:16,575 : INFO : loading Word2Vec object from models/Trained2/model_BNC_tagged_sentences_particle_up_sg.model\n",
      "2020-04-19 14:02:17,029 : INFO : loading wv recursively from models/Trained2/model_BNC_tagged_sentences_particle_up_sg.model.wv.* with mmap=None\n",
      "2020-04-19 14:02:17,030 : INFO : loading vectors from models/Trained2/model_BNC_tagged_sentences_particle_up_sg.model.wv.vectors.npy with mmap=None\n",
      "2020-04-19 14:02:17,502 : INFO : setting ignored attribute vectors_norm to None\n",
      "2020-04-19 14:02:17,503 : INFO : loading vocabulary recursively from models/Trained2/model_BNC_tagged_sentences_particle_up_sg.model.vocabulary.* with mmap=None\n",
      "2020-04-19 14:02:17,503 : INFO : loading trainables recursively from models/Trained2/model_BNC_tagged_sentences_particle_up_sg.model.trainables.* with mmap=None\n",
      "2020-04-19 14:02:17,504 : INFO : loading syn1neg from models/Trained2/model_BNC_tagged_sentences_particle_up_sg.model.trainables.syn1neg.npy with mmap=None\n",
      "2020-04-19 14:02:18,104 : INFO : setting ignored attribute cum_table to None\n",
      "2020-04-19 14:02:18,124 : INFO : loaded models/Trained2/model_BNC_tagged_sentences_particle_up_sg.model\n",
      "2020-04-19 14:02:18,805 : INFO : loading Word2Vec object from models/Trained2/model_BNC_tagged_sentences_verb_sg.model\n",
      "2020-04-19 14:02:20,235 : INFO : loading wv recursively from models/Trained2/model_BNC_tagged_sentences_verb_sg.model.wv.* with mmap=None\n",
      "2020-04-19 14:02:20,237 : INFO : loading vectors from models/Trained2/model_BNC_tagged_sentences_verb_sg.model.wv.vectors.npy with mmap=None\n",
      "2020-04-19 14:02:20,723 : INFO : setting ignored attribute vectors_norm to None\n",
      "2020-04-19 14:02:20,724 : INFO : loading vocabulary recursively from models/Trained2/model_BNC_tagged_sentences_verb_sg.model.vocabulary.* with mmap=None\n",
      "2020-04-19 14:02:20,725 : INFO : loading trainables recursively from models/Trained2/model_BNC_tagged_sentences_verb_sg.model.trainables.* with mmap=None\n",
      "2020-04-19 14:02:20,726 : INFO : loading syn1neg from models/Trained2/model_BNC_tagged_sentences_verb_sg.model.trainables.syn1neg.npy with mmap=None\n",
      "2020-04-19 14:02:21,205 : INFO : setting ignored attribute cum_table to None\n",
      "2020-04-19 14:02:21,206 : INFO : loaded models/Trained2/model_BNC_tagged_sentences_verb_sg.model\n"
     ]
    }
   ],
   "source": [
    "model_BNC_sentences_sg = Word2Vec.load(\"models/Trained2/model_BNC_sentences_sg.model\")\n",
    "model_BNC_tagged_sentences_particle_sg = Word2Vec.load(\n",
    "    \"models/Trained2/model_BNC_tagged_sentences_particle_sg.model\")\n",
    "model_BNC_tagged_sentences_particle_up_sg = Word2Vec.load(\n",
    "    \"models/Trained2/model_BNC_tagged_sentences_particle_up_sg.model\")\n",
    "model_BNC_tagged_sentences_verb_sg = Word2Vec.load(\n",
    "    \"models/Trained2/model_BNC_tagged_sentences_verb_sg.model\")"
   ]
  },
  {
   "cell_type": "code",
   "execution_count": 26,
   "metadata": {
    "ExecuteTime": {
     "end_time": "2020-04-14T02:23:34.361501Z",
     "start_time": "2020-04-14T02:23:34.212570Z"
    }
   },
   "outputs": [
    {
     "name": "stderr",
     "output_type": "stream",
     "text": [
      "C:\\ProgramData\\Anaconda3\\lib\\site-packages\\ipykernel_launcher.py:4: DeprecationWarning: Call to deprecated `__contains__` (Method will be removed in 4.0.0, use self.wv.__contains__() instead).\n",
      "  after removing the cwd from sys.path.\n",
      "C:\\ProgramData\\Anaconda3\\lib\\site-packages\\ipykernel_launcher.py:4: DeprecationWarning: Call to deprecated `__getitem__` (Method will be removed in 4.0.0, use self.wv.__getitem__() instead).\n",
      "  after removing the cwd from sys.path.\n",
      "C:\\ProgramData\\Anaconda3\\lib\\site-packages\\ipykernel_launcher.py:14: DeprecationWarning: Call to deprecated `__contains__` (Method will be removed in 4.0.0, use self.wv.__contains__() instead).\n",
      "  \n",
      "C:\\ProgramData\\Anaconda3\\lib\\site-packages\\ipykernel_launcher.py:14: DeprecationWarning: Call to deprecated `__getitem__` (Method will be removed in 4.0.0, use self.wv.__getitem__() instead).\n",
      "  \n",
      "C:\\ProgramData\\Anaconda3\\lib\\site-packages\\ipykernel_launcher.py:23: DeprecationWarning: Call to deprecated `__contains__` (Method will be removed in 4.0.0, use self.wv.__contains__() instead).\n",
      "C:\\ProgramData\\Anaconda3\\lib\\site-packages\\ipykernel_launcher.py:23: DeprecationWarning: Call to deprecated `__getitem__` (Method will be removed in 4.0.0, use self.wv.__getitem__() instead).\n",
      "C:\\ProgramData\\Anaconda3\\lib\\site-packages\\ipykernel_launcher.py:32: DeprecationWarning: Call to deprecated `__contains__` (Method will be removed in 4.0.0, use self.wv.__contains__() instead).\n",
      "C:\\ProgramData\\Anaconda3\\lib\\site-packages\\ipykernel_launcher.py:32: DeprecationWarning: Call to deprecated `__getitem__` (Method will be removed in 4.0.0, use self.wv.__getitem__() instead).\n"
     ]
    }
   ],
   "source": [
    "def transform_with_BNC(x):\n",
    "    return np.array([\n",
    "        np.mean([model_BNC_sentences_sg[w]\n",
    "                 for w in words if w in model_BNC_sentences_sg]or [np.zeros(300)],\n",
    "                axis=0) for words in x\n",
    "    ])\n",
    "X_train_updated_BNC = transform_with_BNC(X_train)\n",
    "# X_val_updated_BNC = transform_with_BNC(X_val)\n",
    "X_val_updated_BNC = transform_with_BNC(X_test)\n",
    "\n",
    "def transform_with_BNC_v(x):\n",
    "    return np.array([\n",
    "        np.mean([model_BNC_tagged_sentences_verb_sg[w]\n",
    "                 for w in words if w in model_BNC_tagged_sentences_verb_sg]or [np.zeros(300)],\n",
    "                axis=0) for words in x\n",
    "    ])\n",
    "X_train_updated_BNC_V = transform_with_BNC_v(X_train_tagged_V)\n",
    "X_val_updated_BNC_V = transform_with_BNC_v(X_val_tagged_V)\n",
    "\n",
    "def transform_with_BNC_up(x):\n",
    "    return np.array([\n",
    "        np.mean([model_BNC_tagged_sentences_particle_up_sg[w]\n",
    "                 for w in words if w in model_BNC_tagged_sentences_particle_up_sg]or [np.zeros(300)],\n",
    "                axis=0) for words in x\n",
    "    ])\n",
    "X_train_updated_BNC_VPC_up = transform_with_BNC_up(X_train_tagged_VPC)\n",
    "X_val_updated_BNC_VPC_up = transform_with_BNC_up(X_val_tagged_VPC)\n",
    "\n",
    "def transform_with_BNC_vpc(x):\n",
    "    return np.array([\n",
    "        np.mean([model_BNC_tagged_sentences_particle_sg[w]\n",
    "                 for w in words if w in model_BNC_tagged_sentences_particle_sg]or [np.zeros(300)],\n",
    "                axis=0) for words in x\n",
    "    ])\n",
    "\n",
    "X_train_updated_BNC_VPC = transform_with_BNC_vpc(X_train_tagged_VPC)\n",
    "X_val_updated_BNC_VPC = transform_with_BNC_vpc(X_val_tagged_VPC)\n",
    "\n",
    "def transform_with_particle_features(x):\n",
    "    return np.array([\n",
    "        np.mean([particle_features[w]\n",
    "                 for w in words if w in particle_features]or [np.zeros(particle_features['balance'].shape)],\n",
    "                axis=0) for words in x\n",
    "    ])\n",
    "X_train_particle_features = transform_with_particle_features(X_train)\n",
    "# X_val_particle_features = transform_with_particle_features(X_val)\n",
    "X_val_particle_features = transform_with_particle_features(X_test)"
   ]
  },
  {
   "cell_type": "code",
   "execution_count": 27,
   "metadata": {
    "ExecuteTime": {
     "end_time": "2020-04-14T02:23:34.380490Z",
     "start_time": "2020-04-14T02:23:34.366499Z"
    },
    "scrolled": true
   },
   "outputs": [],
   "source": [
    "\n",
    "X_train_combined_sg=np.concatenate((X_train_updated_BNC, X_train_particle_features), axis=1)\n",
    "X_val_combined_sg=np.concatenate((X_val_updated_BNC, X_val_particle_features), axis=1)\n",
    "\n",
    " \n",
    "X_train_combined_VPC_sg=np.concatenate((X_train_updated_BNC_VPC, X_train_particle_features), axis=1)\n",
    "X_val_combined_VPC_sg=np.concatenate((X_val_updated_BNC_VPC, X_val_particle_features), axis=1)\n",
    "\n",
    "\n",
    "X_train_combined_VPC_sg_up=np.concatenate((X_train_updated_BNC_VPC_up, X_train_particle_features), axis=1)\n",
    "X_val_combined_VPC_sg_up=np.concatenate((X_val_updated_BNC_VPC_up, X_val_particle_features), axis=1)\n",
    "\n",
    "X_train_combined_V_sg=np.concatenate((X_train_updated_BNC_V, X_train_particle_features), axis=1)\n",
    "X_val_combined_V_sg=np.concatenate((X_val_updated_BNC_V, X_val_particle_features), axis=1)"
   ]
  },
  {
   "cell_type": "code",
   "execution_count": 28,
   "metadata": {
    "ExecuteTime": {
     "end_time": "2020-04-14T02:23:34.394483Z",
     "start_time": "2020-04-14T02:23:34.386488Z"
    }
   },
   "outputs": [],
   "source": [
    "X_train_combined_sg900D=np.concatenate((X_train_updated_BNC_V, X_train_updated_BNC_VPC,X_train_updated_BNC_VPC_up), axis=1)\n",
    "X_val_combined_sg900D=np.concatenate((X_val_updated_BNC_V, X_val_updated_BNC_VPC,X_val_updated_BNC_VPC_up), axis=1)"
   ]
  },
  {
   "cell_type": "code",
   "execution_count": 29,
   "metadata": {
    "ExecuteTime": {
     "end_time": "2020-04-14T02:23:34.406476Z",
     "start_time": "2020-04-14T02:23:34.399480Z"
    }
   },
   "outputs": [],
   "source": [
    "\n",
    "X_train_combined_sg921D=np.concatenate((X_train_updated_BNC_V, X_train_updated_BNC_VPC,X_train_updated_BNC_VPC_up,X_train_particle_features), axis=1)\n",
    "X_val_combined_sg921D=np.concatenate((X_val_updated_BNC_V, X_val_updated_BNC_VPC,X_val_updated_BNC_VPC_up,X_val_particle_features), axis=1)"
   ]
  },
  {
   "cell_type": "markdown",
   "metadata": {},
   "source": [
    "#### Skip-gram"
   ]
  },
  {
   "cell_type": "code",
   "execution_count": 30,
   "metadata": {
    "ExecuteTime": {
     "end_time": "2020-04-14T02:23:34.418471Z",
     "start_time": "2020-04-14T02:23:34.411472Z"
    }
   },
   "outputs": [],
   "source": [
    "# X_train_list = []\n",
    "# # for l in d0:\n",
    "# for l in X_train:\n",
    "#     X_train_list_item = []\n",
    "#     for t in l:\n",
    "#         t = str(t)+'_VPC'\n",
    "#         X_train_list_item.append(t)\n",
    "#     X_train_list.append(X_train_list_item)\n",
    "# X_val_list = []\n",
    "# # for l in d0:\n",
    "# for l in X_val:\n",
    "#     X_val_list_item = []\n",
    "#     for t in l:\n",
    "#         t = str(t)+'_VPC'\n",
    "#         X_val_list_item.append(t)\n",
    "#     X_val_list.append(X_val_list_item)\n",
    "\n",
    "\n",
    "# X_train_tagged_VPC = np.array(X_train_list)\n",
    "# X_val_tagged_VPC = np.array(X_val_list)\n",
    "\n",
    "# X_train_list = []\n",
    "# # for l in d0:\n",
    "# for l in X_train:\n",
    "#     X_train_list_item = []\n",
    "#     for t in l:\n",
    "#         t = str(t)+'_V'\n",
    "#         X_train_list_item.append(t)\n",
    "#     X_train_list.append(X_train_list_item)\n",
    "# X_val_list = []\n",
    "# # for l in d0:\n",
    "# for l in X_val:\n",
    "#     X_val_list_item = []\n",
    "#     for t in l:\n",
    "#         t = str(t)+'_V'\n",
    "#         X_val_list_item.append(t)\n",
    "#     X_val_list.append(X_val_list_item)\n",
    "\n",
    "\n",
    "# X_train_tagged_V = np.array(X_train_list)\n",
    "# X_val_tagged_V = np.array(X_val_list)"
   ]
  },
  {
   "cell_type": "code",
   "execution_count": 31,
   "metadata": {
    "ExecuteTime": {
     "end_time": "2020-04-14T02:23:34.430462Z",
     "start_time": "2020-04-14T02:23:34.421467Z"
    },
    "scrolled": true
   },
   "outputs": [],
   "source": [
    "# model_BNC_sentences_sg = Word2Vec.load(\"model_BNC_sentences_sg.model\")\n",
    "# model_BNC_tagged_sentences_particle_sg = Word2Vec.load(\"model_BNC_tagged_sentences_particle_sg_v2.model\")\n",
    "# model_BNC_tagged_sentences_particle_up_sg = Word2Vec.load(\"model_BNC_tagged_sentences_particle_up_sg.model\")\n",
    "# model_BNC_tagged_sentences_verb_sg = Word2Vec.load(\"model_BNC_tagged_sentences_verb_sg_v2.model\")"
   ]
  },
  {
   "cell_type": "code",
   "execution_count": 32,
   "metadata": {
    "ExecuteTime": {
     "end_time": "2020-04-14T02:23:34.444454Z",
     "start_time": "2020-04-14T02:23:34.436458Z"
    }
   },
   "outputs": [],
   "source": [
    "# def transform_with_combine_features_sg(x):\n",
    "#     return np.array([\n",
    "#         np.concatenate(([model_BNC_sentences_sg[w]\n",
    "#                  for w in words if w in model_BNC_sentences_sg]or [np.zeros(model_BNC_sentences_sg['balance'].shape)],\n",
    "#                        [particle_features[w]\n",
    "#                  for w in words if w in particle_features]or [np.zeros(particle_features['balance'].shape)]),\n",
    "#                 axis=None) for words in x\n",
    "#     ]) \n",
    "# X_train_combined_sg=transform_with_combine_features_sg(X_train)\n",
    "# X_val_combined_sg=transform_with_combine_features_sg(X_val)\n",
    "\n",
    "# def transform_with_combine_features_sg_VPC(x):\n",
    "#     return np.array([\n",
    "#         np.concatenate(([model_BNC_tagged_sentences_particle_sg[w]\n",
    "#                  for w in words if w in model_BNC_tagged_sentences_particle_sg]or [np.zeros(model_BNC_tagged_sentences_particle_sg['balance_VPC'].shape)],\n",
    "#                        [combined_features_VPC[w]\n",
    "#                  for w in words if w in combined_features_VPC]or [np.zeros(combined_features_VPC['balance_VPC'].shape)]),\n",
    "#                 axis=None) for words in x\n",
    "#     ]) \n",
    "# X_train_combined_VPC_sg=transform_with_combine_features_sg_VPC(X_train_tagged_VPC)\n",
    "# X_val_combined_VPC_sg=transform_with_combine_features_sg_VPC(X_val_tagged_VPC)\n",
    "\n",
    "# def transform_with_combine_features_sg_VPC_up(x):\n",
    "#     return np.array([\n",
    "#         np.concatenate(([model_BNC_tagged_sentences_particle_up_sg[w]\n",
    "#                  for w in words if w in model_BNC_tagged_sentences_particle_up_sg]or [np.zeros(model_BNC_tagged_sentences_particle_up_sg['balance_VPC'].shape)],\n",
    "#                        [combined_features_VPC[w]\n",
    "#                  for w in words if w in combined_features_VPC]or [np.zeros(combined_features_VPC['balance_VPC'].shape)]),\n",
    "#                 axis=None) for words in x\n",
    "#     ]) \n",
    "# X_train_combined_VPC_sg_up=transform_with_combine_features_sg_VPC_up(X_train_tagged_VPC)\n",
    "# X_val_combined_VPC_sg_up=transform_with_combine_features_sg_VPC_up(X_val_tagged_VPC)\n",
    "\n",
    "# def transform_with_combine_features_sg_V(x):\n",
    "#     return np.array([\n",
    "#         np.concatenate(([model_BNC_tagged_sentences_verb_sg[w]\n",
    "#                  for w in words if w in model_BNC_tagged_sentences_verb_sg]or [np.zeros(model_BNC_tagged_sentences_verb_sg['balance_V'].shape)],\n",
    "#                        [combined_features_V[w]\n",
    "#                  for w in words if w in combined_features_V]or [np.zeros(combined_features_V['balance_V'].shape)]),\n",
    "#                 axis=None) for words in x\n",
    "#     ]) \n",
    "# X_train_combined_V_sg=transform_with_combine_features_sg_V(X_train_tagged_V)\n",
    "# X_val_combined_V_sg=transform_with_combine_features_sg_V(X_val_tagged_V)"
   ]
  },
  {
   "cell_type": "markdown",
   "metadata": {},
   "source": [
    "### google (300D) pre-trained word embedding "
   ]
  },
  {
   "cell_type": "code",
   "execution_count": 33,
   "metadata": {
    "ExecuteTime": {
     "end_time": "2020-04-14T02:25:52.896019Z",
     "start_time": "2020-04-14T02:23:34.448451Z"
    },
    "scrolled": true
   },
   "outputs": [
    {
     "name": "stderr",
     "output_type": "stream",
     "text": [
      "2020-04-19 14:02:21,740 : INFO : loading projection weights from GoogleNews-vectors-negative300.bin\n",
      "2020-04-19 14:03:40,714 : INFO : loaded (3000000, 300) matrix from GoogleNews-vectors-negative300.bin\n"
     ]
    }
   ],
   "source": [
    "model_google = gensim.models.KeyedVectors.load_word2vec_format(\n",
    "    'GoogleNews-vectors-negative300.bin', binary=True)"
   ]
  },
  {
   "cell_type": "markdown",
   "metadata": {},
   "source": [
    "### glove pre-trained word embedding"
   ]
  },
  {
   "cell_type": "code",
   "execution_count": 34,
   "metadata": {
    "ExecuteTime": {
     "end_time": "2020-04-14T02:25:52.908011Z",
     "start_time": "2020-04-14T02:25:52.900016Z"
    }
   },
   "outputs": [],
   "source": [
    "GLOVE_6B_50D_PATH = \"glove.6B.50d.txt\"\n",
    "GLOVE_840B_300D_PATH = \"glove.840B.300d.txt\"\n",
    "encoding = \"utf-8\""
   ]
  },
  {
   "cell_type": "code",
   "execution_count": 35,
   "metadata": {
    "ExecuteTime": {
     "end_time": "2020-04-14T02:26:05.230658Z",
     "start_time": "2020-04-14T02:25:52.916007Z"
    },
    "code_folding": [
     1
    ]
   },
   "outputs": [],
   "source": [
    "import numpy as np\n",
    "with open(GLOVE_6B_50D_PATH, \"rb\") as lines:\n",
    "    wvec = {\n",
    "        line.split()[0].decode(encoding): np.array(line.split()[1:],\n",
    "                                                   dtype=np.float32)\n",
    "        for line in lines\n",
    "    }"
   ]
  },
  {
   "cell_type": "code",
   "execution_count": 36,
   "metadata": {
    "ExecuteTime": {
     "end_time": "2020-04-14T02:26:57.626843Z",
     "start_time": "2020-04-14T02:26:05.236635Z"
    },
    "code_folding": [
     10,
     19
    ]
   },
   "outputs": [],
   "source": [
    "# reading glove files, this may take a while\n",
    "# we're reading line by line and only saving vectors\n",
    "# that correspond to words from our training set\n",
    "# if you wan't to play around with the vectors and have\n",
    "# enough RAM - remove the 'if' line and load everything\n",
    "\n",
    "import struct\n",
    "\n",
    "glove_small = {}\n",
    "all_words = set(w for words in X for w in words)\n",
    "with open(GLOVE_6B_50D_PATH, \"rb\") as infile:\n",
    "    for line in infile:\n",
    "        parts = line.split()\n",
    "        word = parts[0].decode(encoding)\n",
    "        if (word in all_words):\n",
    "            nums = np.array(parts[1:], dtype=np.float32)\n",
    "            glove_small[word] = nums\n",
    "\n",
    "glove_big = {}\n",
    "with open(GLOVE_840B_300D_PATH, \"rb\") as infile:\n",
    "    for line in infile:\n",
    "        parts = line.split()\n",
    "        word = parts[0].decode(encoding)\n",
    "        if word in all_words:\n",
    "            nums = np.array(parts[1:], dtype=np.float32)\n",
    "            glove_big[word] = nums"
   ]
  },
  {
   "cell_type": "markdown",
   "metadata": {},
   "source": [
    "## Classification"
   ]
  },
  {
   "cell_type": "code",
   "execution_count": 37,
   "metadata": {
    "ExecuteTime": {
     "end_time": "2020-04-14T02:26:57.639821Z",
     "start_time": "2020-04-14T02:26:57.631826Z"
    }
   },
   "outputs": [],
   "source": [
    "my_tags = ['GC', 'Refl', 'Vert']"
   ]
  },
  {
   "cell_type": "markdown",
   "metadata": {},
   "source": [
    "### Training with BNC word embedding (CBOW)"
   ]
  },
  {
   "cell_type": "markdown",
   "metadata": {},
   "source": [
    "#### General form"
   ]
  },
  {
   "cell_type": "markdown",
   "metadata": {},
   "source": [
    "##### Linear SVM"
   ]
  },
  {
   "cell_type": "code",
   "execution_count": 38,
   "metadata": {
    "ExecuteTime": {
     "end_time": "2020-04-14T02:26:57.698788Z",
     "start_time": "2020-04-14T02:26:57.648817Z"
    },
    "scrolled": true
   },
   "outputs": [
    {
     "data": {
      "text/plain": [
       "SVC(C=1.0, break_ties=False, cache_size=200, class_weight=None, coef0=0.0,\n",
       "    decision_function_shape='ovr', degree=3, gamma='scale', kernel='linear',\n",
       "    max_iter=-1, probability=False, random_state=None, shrinking=True,\n",
       "    tol=0.001, verbose=False)"
      ]
     },
     "execution_count": 38,
     "metadata": {},
     "output_type": "execute_result"
    }
   ],
   "source": [
    "clf = SVC(kernel='linear')\n",
    "clf.fit(X_train_combined_cw, y_train)"
   ]
  },
  {
   "cell_type": "code",
   "execution_count": 39,
   "metadata": {
    "ExecuteTime": {
     "end_time": "2020-04-14T02:26:57.710781Z",
     "start_time": "2020-04-14T02:26:57.703785Z"
    }
   },
   "outputs": [],
   "source": [
    "y_pred = clf.predict(X_val_combined_cw)"
   ]
  },
  {
   "cell_type": "code",
   "execution_count": 40,
   "metadata": {
    "ExecuteTime": {
     "end_time": "2020-04-14T02:26:57.725791Z",
     "start_time": "2020-04-14T02:26:57.716777Z"
    }
   },
   "outputs": [
    {
     "name": "stdout",
     "output_type": "stream",
     "text": [
      "SVM Accuracy Score ->  45.0\n"
     ]
    }
   ],
   "source": [
    "print(\"SVM Accuracy Score -> \", accuracy_score(y_pred, y_val) * 100)"
   ]
  },
  {
   "cell_type": "code",
   "execution_count": 41,
   "metadata": {
    "ExecuteTime": {
     "end_time": "2020-04-14T02:26:57.754756Z",
     "start_time": "2020-04-14T02:26:57.734767Z"
    }
   },
   "outputs": [
    {
     "name": "stdout",
     "output_type": "stream",
     "text": [
      "              precision    recall  f1-score   support\n",
      "\n",
      "          GC       0.42      0.46      0.44        24\n",
      "        Refl       0.11      0.33      0.17         3\n",
      "        Vert       0.60      0.45      0.52        33\n",
      "\n",
      "    accuracy                           0.45        60\n",
      "   macro avg       0.38      0.42      0.37        60\n",
      "weighted avg       0.50      0.45      0.47        60\n",
      "\n"
     ]
    }
   ],
   "source": [
    "from sklearn.metrics import classification_report\n",
    "print(classification_report(y_val, y_pred, target_names=my_tags))"
   ]
  },
  {
   "cell_type": "markdown",
   "metadata": {},
   "source": [
    "##### Weighted Linear SVM"
   ]
  },
  {
   "cell_type": "code",
   "execution_count": 42,
   "metadata": {
    "ExecuteTime": {
     "end_time": "2020-04-14T02:26:57.772746Z",
     "start_time": "2020-04-14T02:26:57.757754Z"
    },
    "scrolled": true
   },
   "outputs": [
    {
     "data": {
      "text/plain": [
       "SVC(C=1.0, break_ties=False, cache_size=200, class_weight='balanced', coef0=0.0,\n",
       "    decision_function_shape='ovr', degree=3, gamma='scale', kernel='linear',\n",
       "    max_iter=-1, probability=False, random_state=None, shrinking=True,\n",
       "    tol=0.001, verbose=False)"
      ]
     },
     "execution_count": 42,
     "metadata": {},
     "output_type": "execute_result"
    }
   ],
   "source": [
    "clf_balanced_class_weight = SVC(kernel='linear', class_weight='balanced')\n",
    "clf_balanced_class_weight.fit(X_train_combined_cw, y_train)"
   ]
  },
  {
   "cell_type": "code",
   "execution_count": 43,
   "metadata": {
    "ExecuteTime": {
     "end_time": "2020-04-14T02:26:57.782740Z",
     "start_time": "2020-04-14T02:26:57.775743Z"
    }
   },
   "outputs": [],
   "source": [
    "y_pred_balanced_class_weight = clf_balanced_class_weight.predict(\n",
    "    X_val_combined_cw)"
   ]
  },
  {
   "cell_type": "code",
   "execution_count": 44,
   "metadata": {
    "ExecuteTime": {
     "end_time": "2020-04-14T02:26:57.794732Z",
     "start_time": "2020-04-14T02:26:57.787737Z"
    }
   },
   "outputs": [
    {
     "name": "stdout",
     "output_type": "stream",
     "text": [
      "SVM Accuracy Score ->  45.0\n"
     ]
    }
   ],
   "source": [
    "print(\"SVM Accuracy Score -> \",\n",
    "      accuracy_score(y_pred_balanced_class_weight, y_val) * 100)"
   ]
  },
  {
   "cell_type": "code",
   "execution_count": 45,
   "metadata": {
    "ExecuteTime": {
     "end_time": "2020-04-14T02:26:57.813722Z",
     "start_time": "2020-04-14T02:26:57.798730Z"
    },
    "scrolled": true
   },
   "outputs": [
    {
     "name": "stdout",
     "output_type": "stream",
     "text": [
      "              precision    recall  f1-score   support\n",
      "\n",
      "          GC       0.42      0.46      0.44        24\n",
      "        Refl       0.11      0.33      0.17         3\n",
      "        Vert       0.60      0.45      0.52        33\n",
      "\n",
      "    accuracy                           0.45        60\n",
      "   macro avg       0.38      0.42      0.37        60\n",
      "weighted avg       0.50      0.45      0.47        60\n",
      "\n"
     ]
    }
   ],
   "source": [
    "from sklearn.metrics import classification_report\n",
    "print(\n",
    "    classification_report(y_val,\n",
    "                          y_pred_balanced_class_weight,\n",
    "                          target_names=my_tags))"
   ]
  },
  {
   "cell_type": "markdown",
   "metadata": {},
   "source": [
    "##### SVC with 'rbf' kernel"
   ]
  },
  {
   "cell_type": "code",
   "execution_count": 46,
   "metadata": {
    "ExecuteTime": {
     "end_time": "2020-04-14T02:26:57.822717Z",
     "start_time": "2020-04-14T02:26:57.817720Z"
    }
   },
   "outputs": [],
   "source": [
    "X = X_train_combined_cw\n",
    "Y = y_train"
   ]
  },
  {
   "cell_type": "code",
   "execution_count": 47,
   "metadata": {
    "ExecuteTime": {
     "end_time": "2020-04-14T02:26:57.835709Z",
     "start_time": "2020-04-14T02:26:57.830712Z"
    }
   },
   "outputs": [],
   "source": [
    "# It is usually a good idea to scale the data for SVM training.\n",
    "# We are cheating a bit in this example in scaling all of the data,\n",
    "# instead of fitting the transformation on the trainingset and\n",
    "# just applying it on the test set.\n",
    "\n",
    "# scaler = StandardScaler()\n",
    "# X = scaler.fit_transform(X_train_updated_google)"
   ]
  },
  {
   "cell_type": "code",
   "execution_count": 48,
   "metadata": {
    "ExecuteTime": {
     "end_time": "2020-04-14T02:27:02.924522Z",
     "start_time": "2020-04-14T02:26:57.838708Z"
    }
   },
   "outputs": [
    {
     "data": {
      "text/plain": [
       "GridSearchCV(cv=StratifiedKFold(n_splits=10, random_state=None, shuffle=False),\n",
       "             error_score=nan,\n",
       "             estimator=SVC(C=1.0, break_ties=False, cache_size=200,\n",
       "                           class_weight=None, coef0=0.0,\n",
       "                           decision_function_shape='ovr', degree=3,\n",
       "                           gamma='scale', kernel='rbf', max_iter=-1,\n",
       "                           probability=False, random_state=None, shrinking=True,\n",
       "                           tol=0.001, verbose=False),\n",
       "             iid='deprecated', n_jobs...\n",
       "       3.20000e+01, 1.28000e+02, 5.12000e+02, 2.04800e+03, 8.19200e+03,\n",
       "       3.27680e+04, 1.31072e+05]),\n",
       "                         'gamma': array([7.62939453e-06, 3.05175781e-05, 1.22070312e-04, 4.88281250e-04,\n",
       "       1.95312500e-03, 7.81250000e-03, 3.12500000e-02, 1.25000000e-01,\n",
       "       5.00000000e-01, 2.00000000e+00, 8.00000000e+00])},\n",
       "             pre_dispatch='2*n_jobs', refit=True, return_train_score=False,\n",
       "             scoring=None, verbose=0)"
      ]
     },
     "execution_count": 48,
     "metadata": {},
     "output_type": "execute_result"
    }
   ],
   "source": [
    "C_range = 2. ** np.arange(-5, 18, 2)\n",
    "gamma_range = 2. ** np.arange(-17, 4, 2)\n",
    "param_grid = dict(gamma=gamma_range, C=C_range)\n",
    "grid = GridSearchCV(SVC(), param_grid=param_grid,\n",
    "                    cv=StratifiedKFold(n_splits=10))\n",
    "grid.fit(X, Y)"
   ]
  },
  {
   "cell_type": "code",
   "execution_count": 49,
   "metadata": {
    "ExecuteTime": {
     "end_time": "2020-04-14T02:27:02.932515Z",
     "start_time": "2020-04-14T02:27:02.927514Z"
    }
   },
   "outputs": [
    {
     "name": "stdout",
     "output_type": "stream",
     "text": [
      "The best parameters are {'C': 512.0, 'gamma': 0.0001220703125} with a score of 0.45\n"
     ]
    }
   ],
   "source": [
    "print(\"The best parameters are %s with a score of %0.2f\"\n",
    "      % (grid.best_params_, grid.best_score_))"
   ]
  },
  {
   "cell_type": "code",
   "execution_count": 50,
   "metadata": {
    "ExecuteTime": {
     "end_time": "2020-04-14T02:27:02.951521Z",
     "start_time": "2020-04-14T02:27:02.936510Z"
    }
   },
   "outputs": [
    {
     "data": {
      "text/plain": [
       "SVC(C=512.0, break_ties=False, cache_size=200, class_weight=None, coef0=0.0,\n",
       "    decision_function_shape='ovr', degree=3, gamma=0.0001220703125,\n",
       "    kernel='rbf', max_iter=-1, probability=False, random_state=None,\n",
       "    shrinking=True, tol=0.001, verbose=False)"
      ]
     },
     "execution_count": 50,
     "metadata": {},
     "output_type": "execute_result"
    }
   ],
   "source": [
    "clf = grid.best_estimator_\n",
    "clf.fit(X, Y)"
   ]
  },
  {
   "cell_type": "code",
   "execution_count": 51,
   "metadata": {
    "ExecuteTime": {
     "end_time": "2020-04-14T02:27:02.962495Z",
     "start_time": "2020-04-14T02:27:02.954500Z"
    }
   },
   "outputs": [],
   "source": [
    "y_pred = clf.predict(X_val_combined_cw)"
   ]
  },
  {
   "cell_type": "code",
   "execution_count": 52,
   "metadata": {
    "ExecuteTime": {
     "end_time": "2020-04-14T02:27:02.977487Z",
     "start_time": "2020-04-14T02:27:02.967492Z"
    }
   },
   "outputs": [
    {
     "name": "stdout",
     "output_type": "stream",
     "text": [
      "('SVM Accuracy Score -> ', 45.0)\n"
     ]
    }
   ],
   "source": [
    "print((\"SVM Accuracy Score -> \", accuracy_score(y_pred, y_val) * 100))"
   ]
  },
  {
   "cell_type": "code",
   "execution_count": 53,
   "metadata": {
    "ExecuteTime": {
     "end_time": "2020-04-14T02:27:03.001473Z",
     "start_time": "2020-04-14T02:27:02.982484Z"
    },
    "scrolled": true
   },
   "outputs": [
    {
     "name": "stdout",
     "output_type": "stream",
     "text": [
      "              precision    recall  f1-score   support\n",
      "\n",
      "          GC       0.42      0.46      0.44        24\n",
      "        Refl       0.11      0.33      0.17         3\n",
      "        Vert       0.60      0.45      0.52        33\n",
      "\n",
      "    accuracy                           0.45        60\n",
      "   macro avg       0.38      0.42      0.37        60\n",
      "weighted avg       0.50      0.45      0.47        60\n",
      "\n"
     ]
    }
   ],
   "source": [
    "from sklearn.metrics import classification_report\n",
    "print((classification_report(y_val, y_pred, target_names=my_tags)))"
   ]
  },
  {
   "cell_type": "markdown",
   "metadata": {},
   "source": [
    "##### Weighted SVC with 'rbf' kernel "
   ]
  },
  {
   "cell_type": "code",
   "execution_count": 54,
   "metadata": {
    "ExecuteTime": {
     "end_time": "2020-04-14T02:27:03.011467Z",
     "start_time": "2020-04-14T02:27:03.005471Z"
    }
   },
   "outputs": [],
   "source": [
    "X = X_train_combined_cw\n",
    "Y = y_train"
   ]
  },
  {
   "cell_type": "code",
   "execution_count": 55,
   "metadata": {
    "ExecuteTime": {
     "end_time": "2020-04-14T02:27:03.024462Z",
     "start_time": "2020-04-14T02:27:03.014466Z"
    }
   },
   "outputs": [],
   "source": [
    "# It is usually a good idea to scale the data for SVM training.\n",
    "# We are cheating a bit in this example in scaling all of the data,\n",
    "# instead of fitting the transformation on the trainingset and\n",
    "# just applying it on the test set.\n",
    "\n",
    "# scaler = StandardScaler()\n",
    "# X = scaler.fit_transform(X_train_updated_google)"
   ]
  },
  {
   "cell_type": "code",
   "execution_count": 56,
   "metadata": {
    "ExecuteTime": {
     "end_time": "2020-04-14T02:27:08.195115Z",
     "start_time": "2020-04-14T02:27:03.030457Z"
    }
   },
   "outputs": [
    {
     "data": {
      "text/plain": [
       "GridSearchCV(cv=StratifiedKFold(n_splits=10, random_state=None, shuffle=False),\n",
       "             error_score=nan,\n",
       "             estimator=SVC(C=1.0, break_ties=False, cache_size=200,\n",
       "                           class_weight=None, coef0=0.0,\n",
       "                           decision_function_shape='ovr', degree=3,\n",
       "                           gamma='scale', kernel='rbf', max_iter=-1,\n",
       "                           probability=False, random_state=None, shrinking=True,\n",
       "                           tol=0.001, verbose=False),\n",
       "             iid='deprecated', n_jobs...\n",
       "       3.20000e+01, 1.28000e+02, 5.12000e+02, 2.04800e+03, 8.19200e+03,\n",
       "       3.27680e+04, 1.31072e+05]),\n",
       "                         'gamma': array([7.62939453e-06, 3.05175781e-05, 1.22070312e-04, 4.88281250e-04,\n",
       "       1.95312500e-03, 7.81250000e-03, 3.12500000e-02, 1.25000000e-01,\n",
       "       5.00000000e-01, 2.00000000e+00, 8.00000000e+00])},\n",
       "             pre_dispatch='2*n_jobs', refit=True, return_train_score=False,\n",
       "             scoring=None, verbose=0)"
      ]
     },
     "execution_count": 56,
     "metadata": {},
     "output_type": "execute_result"
    }
   ],
   "source": [
    "C_range = 2. ** np.arange(-5, 18, 2)\n",
    "gamma_range = 2. ** np.arange(-17, 4, 2)\n",
    "param_grid = dict(gamma=gamma_range, C=C_range)\n",
    "grid = GridSearchCV(SVC(), param_grid=param_grid,\n",
    "                    cv=StratifiedKFold(n_splits=10))\n",
    "grid.fit(X, Y)"
   ]
  },
  {
   "cell_type": "code",
   "execution_count": 57,
   "metadata": {
    "ExecuteTime": {
     "end_time": "2020-04-14T02:27:08.206108Z",
     "start_time": "2020-04-14T02:27:08.199112Z"
    }
   },
   "outputs": [
    {
     "name": "stdout",
     "output_type": "stream",
     "text": [
      "The best parameters are {'C': 512.0, 'gamma': 0.0001220703125} with a score of 0.45\n"
     ]
    }
   ],
   "source": [
    "print(\"The best parameters are %s with a score of %0.2f\"\n",
    "      % (grid.best_params_, grid.best_score_))"
   ]
  },
  {
   "cell_type": "code",
   "execution_count": 58,
   "metadata": {
    "ExecuteTime": {
     "end_time": "2020-04-14T02:27:08.226097Z",
     "start_time": "2020-04-14T02:27:08.211104Z"
    }
   },
   "outputs": [
    {
     "data": {
      "text/plain": [
       "SVC(C=32.0, break_ties=False, cache_size=200, class_weight='balanced',\n",
       "    coef0=0.0, decision_function_shape='ovr', degree=3, gamma=0.03125,\n",
       "    kernel='rbf', max_iter=-1, probability=False, random_state=None,\n",
       "    shrinking=True, tol=0.001, verbose=False)"
      ]
     },
     "execution_count": 58,
     "metadata": {},
     "output_type": "execute_result"
    }
   ],
   "source": [
    "clf = SVC(C=32.0, class_weight='balanced', gamma=0.03125, kernel='rbf')\n",
    "clf.fit(X, Y)"
   ]
  },
  {
   "cell_type": "code",
   "execution_count": 59,
   "metadata": {
    "ExecuteTime": {
     "end_time": "2020-04-14T02:27:08.235092Z",
     "start_time": "2020-04-14T02:27:08.229094Z"
    }
   },
   "outputs": [],
   "source": [
    "y_pred = clf.predict(X_val_combined_cw)"
   ]
  },
  {
   "cell_type": "code",
   "execution_count": 60,
   "metadata": {
    "ExecuteTime": {
     "end_time": "2020-04-14T02:27:08.249084Z",
     "start_time": "2020-04-14T02:27:08.242087Z"
    }
   },
   "outputs": [
    {
     "name": "stdout",
     "output_type": "stream",
     "text": [
      "('SVM Accuracy Score -> ', 55.00000000000001)\n"
     ]
    }
   ],
   "source": [
    "print((\"SVM Accuracy Score -> \", accuracy_score(y_pred, y_val) * 100))"
   ]
  },
  {
   "cell_type": "code",
   "execution_count": 61,
   "metadata": {
    "ExecuteTime": {
     "end_time": "2020-04-14T02:27:08.280065Z",
     "start_time": "2020-04-14T02:27:08.252081Z"
    },
    "scrolled": false
   },
   "outputs": [
    {
     "name": "stdout",
     "output_type": "stream",
     "text": [
      "              precision    recall  f1-score   support\n",
      "\n",
      "          GC       0.00      0.00      0.00        24\n",
      "        Refl       0.00      0.00      0.00         3\n",
      "        Vert       0.55      1.00      0.71        33\n",
      "\n",
      "    accuracy                           0.55        60\n",
      "   macro avg       0.18      0.33      0.24        60\n",
      "weighted avg       0.30      0.55      0.39        60\n",
      "\n"
     ]
    },
    {
     "name": "stderr",
     "output_type": "stream",
     "text": [
      "C:\\ProgramData\\Anaconda3\\lib\\site-packages\\sklearn\\metrics\\_classification.py:1272: UndefinedMetricWarning: Precision and F-score are ill-defined and being set to 0.0 in labels with no predicted samples. Use `zero_division` parameter to control this behavior.\n",
      "  _warn_prf(average, modifier, msg_start, len(result))\n"
     ]
    }
   ],
   "source": [
    "from sklearn.metrics import classification_report\n",
    "print((classification_report(y_val, y_pred, target_names=my_tags)))"
   ]
  },
  {
   "cell_type": "markdown",
   "metadata": {},
   "source": [
    "##### Logistice regression"
   ]
  },
  {
   "cell_type": "code",
   "execution_count": 62,
   "metadata": {
    "ExecuteTime": {
     "end_time": "2020-04-14T02:27:08.550474Z",
     "start_time": "2020-04-14T02:27:08.282064Z"
    },
    "scrolled": true
   },
   "outputs": [
    {
     "name": "stdout",
     "output_type": "stream",
     "text": [
      "accuracy 0.4\n",
      "              precision    recall  f1-score   support\n",
      "\n",
      "          GC       0.42      0.42      0.42        24\n",
      "        Refl       0.00      0.00      0.00         3\n",
      "        Vert       0.58      0.42      0.49        33\n",
      "\n",
      "    accuracy                           0.40        60\n",
      "   macro avg       0.33      0.28      0.30        60\n",
      "weighted avg       0.49      0.40      0.44        60\n",
      "\n"
     ]
    }
   ],
   "source": [
    "from sklearn.linear_model import LogisticRegression\n",
    "logreg = LogisticRegression(n_jobs=1, C=1e5)\n",
    "logreg = logreg.fit(X_train_combined_cw, y_train)\n",
    "y_pred = logreg.predict(X_val_combined_cw)\n",
    "print('accuracy %s' % accuracy_score(y_pred, y_val))\n",
    "print(classification_report(y_val, y_pred, target_names=my_tags))"
   ]
  },
  {
   "cell_type": "markdown",
   "metadata": {},
   "source": [
    "##### Weighted logistice regression"
   ]
  },
  {
   "cell_type": "code",
   "execution_count": 63,
   "metadata": {
    "ExecuteTime": {
     "end_time": "2020-04-14T02:27:08.582456Z",
     "start_time": "2020-04-14T02:27:08.552473Z"
    },
    "scrolled": true
   },
   "outputs": [
    {
     "name": "stdout",
     "output_type": "stream",
     "text": [
      "accuracy 0.4166666666666667\n",
      "              precision    recall  f1-score   support\n",
      "\n",
      "          GC       0.44      0.46      0.45        24\n",
      "        Refl       0.00      0.00      0.00         3\n",
      "        Vert       0.58      0.42      0.49        33\n",
      "\n",
      "    accuracy                           0.42        60\n",
      "   macro avg       0.34      0.29      0.31        60\n",
      "weighted avg       0.50      0.42      0.45        60\n",
      "\n"
     ]
    }
   ],
   "source": [
    "from sklearn.linear_model import LogisticRegression\n",
    "logreg = LogisticRegression(n_jobs=1, C=1e5, class_weight='balanced')\n",
    "logreg = logreg.fit(X_train_combined_cw, y_train)\n",
    "y_pred = logreg.predict(X_val_combined_cw)\n",
    "print('accuracy %s' % accuracy_score(y_pred, y_val))\n",
    "print(classification_report(y_val, y_pred, target_names=my_tags))"
   ]
  },
  {
   "cell_type": "markdown",
   "metadata": {},
   "source": [
    "#### _V"
   ]
  },
  {
   "cell_type": "markdown",
   "metadata": {},
   "source": [
    "##### Linear SVM"
   ]
  },
  {
   "cell_type": "code",
   "execution_count": 64,
   "metadata": {
    "ExecuteTime": {
     "end_time": "2020-04-14T02:27:08.603463Z",
     "start_time": "2020-04-14T02:27:08.585454Z"
    },
    "scrolled": true
   },
   "outputs": [
    {
     "data": {
      "text/plain": [
       "SVC(C=1.0, break_ties=False, cache_size=200, class_weight=None, coef0=0.0,\n",
       "    decision_function_shape='ovr', degree=3, gamma='scale', kernel='linear',\n",
       "    max_iter=-1, probability=False, random_state=None, shrinking=True,\n",
       "    tol=0.001, verbose=False)"
      ]
     },
     "execution_count": 64,
     "metadata": {},
     "output_type": "execute_result"
    }
   ],
   "source": [
    "clf = SVC(kernel='linear')\n",
    "clf.fit(X_train_combined_V_cw, y_train)"
   ]
  },
  {
   "cell_type": "code",
   "execution_count": 65,
   "metadata": {
    "ExecuteTime": {
     "end_time": "2020-04-14T02:27:08.614438Z",
     "start_time": "2020-04-14T02:27:08.606443Z"
    }
   },
   "outputs": [],
   "source": [
    "y_pred = clf.predict(X_val_combined_V_cw)"
   ]
  },
  {
   "cell_type": "code",
   "execution_count": 66,
   "metadata": {
    "ExecuteTime": {
     "end_time": "2020-04-14T02:27:08.627430Z",
     "start_time": "2020-04-14T02:27:08.617435Z"
    }
   },
   "outputs": [
    {
     "name": "stdout",
     "output_type": "stream",
     "text": [
      "SVM Accuracy Score ->  36.666666666666664\n"
     ]
    }
   ],
   "source": [
    "print(\"SVM Accuracy Score -> \", accuracy_score(y_pred, y_val) * 100)"
   ]
  },
  {
   "cell_type": "code",
   "execution_count": 67,
   "metadata": {
    "ExecuteTime": {
     "end_time": "2020-04-14T02:27:08.645422Z",
     "start_time": "2020-04-14T02:27:08.631428Z"
    }
   },
   "outputs": [
    {
     "name": "stdout",
     "output_type": "stream",
     "text": [
      "              precision    recall  f1-score   support\n",
      "\n",
      "          GC       0.33      0.33      0.33        24\n",
      "        Refl       0.00      0.00      0.00         3\n",
      "        Vert       0.52      0.42      0.47        33\n",
      "\n",
      "    accuracy                           0.37        60\n",
      "   macro avg       0.28      0.25      0.27        60\n",
      "weighted avg       0.42      0.37      0.39        60\n",
      "\n"
     ]
    }
   ],
   "source": [
    "from sklearn.metrics import classification_report\n",
    "print(classification_report(y_val, y_pred, target_names=my_tags))"
   ]
  },
  {
   "cell_type": "markdown",
   "metadata": {},
   "source": [
    "##### Weighted Linear SVM"
   ]
  },
  {
   "cell_type": "code",
   "execution_count": 68,
   "metadata": {
    "ExecuteTime": {
     "end_time": "2020-04-14T02:27:08.702387Z",
     "start_time": "2020-04-14T02:27:08.688395Z"
    },
    "scrolled": true
   },
   "outputs": [
    {
     "data": {
      "text/plain": [
       "SVC(C=1.0, break_ties=False, cache_size=200, class_weight='balanced', coef0=0.0,\n",
       "    decision_function_shape='ovr', degree=3, gamma='scale', kernel='linear',\n",
       "    max_iter=-1, probability=False, random_state=None, shrinking=True,\n",
       "    tol=0.001, verbose=False)"
      ]
     },
     "execution_count": 68,
     "metadata": {},
     "output_type": "execute_result"
    }
   ],
   "source": [
    "clf_balanced_class_weight = SVC(kernel='linear', class_weight='balanced')\n",
    "clf_balanced_class_weight.fit(X_train_combined_V_cw, y_train)"
   ]
  },
  {
   "cell_type": "code",
   "execution_count": 69,
   "metadata": {
    "ExecuteTime": {
     "end_time": "2020-04-14T02:27:08.717378Z",
     "start_time": "2020-04-14T02:27:08.711382Z"
    }
   },
   "outputs": [],
   "source": [
    "y_pred_balanced_class_weight = clf_balanced_class_weight.predict(\n",
    "    X_val_combined_V_cw)"
   ]
  },
  {
   "cell_type": "code",
   "execution_count": 70,
   "metadata": {
    "ExecuteTime": {
     "end_time": "2020-04-14T02:27:08.730373Z",
     "start_time": "2020-04-14T02:27:08.720377Z"
    }
   },
   "outputs": [
    {
     "name": "stdout",
     "output_type": "stream",
     "text": [
      "SVM Accuracy Score ->  36.666666666666664\n"
     ]
    }
   ],
   "source": [
    "print(\"SVM Accuracy Score -> \",\n",
    "      accuracy_score(y_pred_balanced_class_weight, y_val) * 100)"
   ]
  },
  {
   "cell_type": "code",
   "execution_count": 71,
   "metadata": {
    "ExecuteTime": {
     "end_time": "2020-04-14T02:27:08.747363Z",
     "start_time": "2020-04-14T02:27:08.734369Z"
    },
    "scrolled": true
   },
   "outputs": [
    {
     "name": "stdout",
     "output_type": "stream",
     "text": [
      "              precision    recall  f1-score   support\n",
      "\n",
      "          GC       0.33      0.33      0.33        24\n",
      "        Refl       0.00      0.00      0.00         3\n",
      "        Vert       0.52      0.42      0.47        33\n",
      "\n",
      "    accuracy                           0.37        60\n",
      "   macro avg       0.28      0.25      0.27        60\n",
      "weighted avg       0.42      0.37      0.39        60\n",
      "\n"
     ]
    }
   ],
   "source": [
    "from sklearn.metrics import classification_report\n",
    "print(\n",
    "    classification_report(y_val,\n",
    "                          y_pred_balanced_class_weight,\n",
    "                          target_names=my_tags))"
   ]
  },
  {
   "cell_type": "markdown",
   "metadata": {},
   "source": [
    "##### SVC with 'rbf' kernel"
   ]
  },
  {
   "cell_type": "code",
   "execution_count": 72,
   "metadata": {
    "ExecuteTime": {
     "end_time": "2020-04-14T02:27:08.754358Z",
     "start_time": "2020-04-14T02:27:08.749361Z"
    }
   },
   "outputs": [],
   "source": [
    "X = X_train_combined_V_cw\n",
    "Y = y_train"
   ]
  },
  {
   "cell_type": "code",
   "execution_count": 73,
   "metadata": {
    "ExecuteTime": {
     "end_time": "2020-04-14T02:27:13.935723Z",
     "start_time": "2020-04-14T02:27:08.758355Z"
    }
   },
   "outputs": [
    {
     "data": {
      "text/plain": [
       "GridSearchCV(cv=StratifiedKFold(n_splits=10, random_state=None, shuffle=False),\n",
       "             error_score=nan,\n",
       "             estimator=SVC(C=1.0, break_ties=False, cache_size=200,\n",
       "                           class_weight=None, coef0=0.0,\n",
       "                           decision_function_shape='ovr', degree=3,\n",
       "                           gamma='scale', kernel='rbf', max_iter=-1,\n",
       "                           probability=False, random_state=None, shrinking=True,\n",
       "                           tol=0.001, verbose=False),\n",
       "             iid='deprecated', n_jobs...\n",
       "       3.20000e+01, 1.28000e+02, 5.12000e+02, 2.04800e+03, 8.19200e+03,\n",
       "       3.27680e+04, 1.31072e+05]),\n",
       "                         'gamma': array([7.62939453e-06, 3.05175781e-05, 1.22070312e-04, 4.88281250e-04,\n",
       "       1.95312500e-03, 7.81250000e-03, 3.12500000e-02, 1.25000000e-01,\n",
       "       5.00000000e-01, 2.00000000e+00, 8.00000000e+00])},\n",
       "             pre_dispatch='2*n_jobs', refit=True, return_train_score=False,\n",
       "             scoring=None, verbose=0)"
      ]
     },
     "execution_count": 73,
     "metadata": {},
     "output_type": "execute_result"
    }
   ],
   "source": [
    "C_range = 2. ** np.arange(-5, 18, 2)\n",
    "gamma_range = 2. ** np.arange(-17, 4, 2)\n",
    "param_grid = dict(gamma=gamma_range, C=C_range)\n",
    "grid = GridSearchCV(SVC(), param_grid=param_grid,\n",
    "                    cv=StratifiedKFold(n_splits=10))\n",
    "grid.fit(X, Y)"
   ]
  },
  {
   "cell_type": "code",
   "execution_count": 74,
   "metadata": {
    "ExecuteTime": {
     "end_time": "2020-04-14T02:27:13.944739Z",
     "start_time": "2020-04-14T02:27:13.937724Z"
    }
   },
   "outputs": [
    {
     "data": {
      "text/plain": [
       "{'gamma': array([7.62939453e-06, 3.05175781e-05, 1.22070312e-04, 4.88281250e-04,\n",
       "        1.95312500e-03, 7.81250000e-03, 3.12500000e-02, 1.25000000e-01,\n",
       "        5.00000000e-01, 2.00000000e+00, 8.00000000e+00]),\n",
       " 'C': array([3.12500e-02, 1.25000e-01, 5.00000e-01, 2.00000e+00, 8.00000e+00,\n",
       "        3.20000e+01, 1.28000e+02, 5.12000e+02, 2.04800e+03, 8.19200e+03,\n",
       "        3.27680e+04, 1.31072e+05])}"
      ]
     },
     "execution_count": 74,
     "metadata": {},
     "output_type": "execute_result"
    }
   ],
   "source": [
    "param_grid"
   ]
  },
  {
   "cell_type": "code",
   "execution_count": 75,
   "metadata": {
    "ExecuteTime": {
     "end_time": "2020-04-14T02:27:13.957711Z",
     "start_time": "2020-04-14T02:27:13.946717Z"
    }
   },
   "outputs": [
    {
     "name": "stdout",
     "output_type": "stream",
     "text": [
      "The best classifier is:  SVC(C=8.0, break_ties=False, cache_size=200, class_weight=None, coef0=0.0,\n",
      "    decision_function_shape='ovr', degree=3, gamma=0.0078125, kernel='rbf',\n",
      "    max_iter=-1, probability=False, random_state=None, shrinking=True,\n",
      "    tol=0.001, verbose=False)\n"
     ]
    }
   ],
   "source": [
    "print(\"The best classifier is: \", grid.best_estimator_)"
   ]
  },
  {
   "cell_type": "code",
   "execution_count": 76,
   "metadata": {
    "ExecuteTime": {
     "end_time": "2020-04-14T02:27:13.968706Z",
     "start_time": "2020-04-14T02:27:13.959710Z"
    }
   },
   "outputs": [
    {
     "name": "stdout",
     "output_type": "stream",
     "text": [
      "The best parameters are {'C': 8.0, 'gamma': 0.0078125} with a score of 0.50\n"
     ]
    }
   ],
   "source": [
    "print(\"The best parameters are %s with a score of %0.2f\"\n",
    "      % (grid.best_params_, grid.best_score_))"
   ]
  },
  {
   "cell_type": "code",
   "execution_count": 77,
   "metadata": {
    "ExecuteTime": {
     "end_time": "2020-04-14T02:27:13.986693Z",
     "start_time": "2020-04-14T02:27:13.970706Z"
    }
   },
   "outputs": [
    {
     "data": {
      "text/plain": [
       "SVC(C=8.0, break_ties=False, cache_size=200, class_weight=None, coef0=0.0,\n",
       "    decision_function_shape='ovr', degree=3, gamma=0.0078125, kernel='rbf',\n",
       "    max_iter=-1, probability=False, random_state=None, shrinking=True,\n",
       "    tol=0.001, verbose=False)"
      ]
     },
     "execution_count": 77,
     "metadata": {},
     "output_type": "execute_result"
    }
   ],
   "source": [
    "clf = grid.best_estimator_\n",
    "clf.fit(X, Y)"
   ]
  },
  {
   "cell_type": "code",
   "execution_count": 78,
   "metadata": {
    "ExecuteTime": {
     "end_time": "2020-04-14T02:27:13.995691Z",
     "start_time": "2020-04-14T02:27:13.989692Z"
    }
   },
   "outputs": [],
   "source": [
    "y_pred = clf.predict(X_val_combined_V_cw)"
   ]
  },
  {
   "cell_type": "code",
   "execution_count": 79,
   "metadata": {
    "ExecuteTime": {
     "end_time": "2020-04-14T02:27:14.007684Z",
     "start_time": "2020-04-14T02:27:13.997688Z"
    }
   },
   "outputs": [
    {
     "name": "stdout",
     "output_type": "stream",
     "text": [
      "('SVM Accuracy Score -> ', 48.333333333333336)\n"
     ]
    }
   ],
   "source": [
    "print((\"SVM Accuracy Score -> \", accuracy_score(y_pred, y_val) * 100))"
   ]
  },
  {
   "cell_type": "code",
   "execution_count": 80,
   "metadata": {
    "ExecuteTime": {
     "end_time": "2020-04-14T02:27:14.032668Z",
     "start_time": "2020-04-14T02:27:14.010680Z"
    },
    "scrolled": true
   },
   "outputs": [
    {
     "name": "stdout",
     "output_type": "stream",
     "text": [
      "              precision    recall  f1-score   support\n",
      "\n",
      "          GC       0.44      0.29      0.35        24\n",
      "        Refl       0.20      0.67      0.31         3\n",
      "        Vert       0.59      0.61      0.60        33\n",
      "\n",
      "    accuracy                           0.48        60\n",
      "   macro avg       0.41      0.52      0.42        60\n",
      "weighted avg       0.51      0.48      0.48        60\n",
      "\n"
     ]
    }
   ],
   "source": [
    "from sklearn.metrics import classification_report\n",
    "print((classification_report(y_val, y_pred, target_names=my_tags)))"
   ]
  },
  {
   "cell_type": "markdown",
   "metadata": {},
   "source": [
    "##### Weighted SVC with 'rbf' kernel "
   ]
  },
  {
   "cell_type": "code",
   "execution_count": 81,
   "metadata": {
    "ExecuteTime": {
     "end_time": "2020-04-14T02:27:14.041668Z",
     "start_time": "2020-04-14T02:27:14.035666Z"
    }
   },
   "outputs": [],
   "source": [
    "X = X_train_combined_V_cw\n",
    "Y = y_train"
   ]
  },
  {
   "cell_type": "code",
   "execution_count": 82,
   "metadata": {
    "ExecuteTime": {
     "end_time": "2020-04-14T02:27:14.053656Z",
     "start_time": "2020-04-14T02:27:14.044661Z"
    }
   },
   "outputs": [],
   "source": [
    "# It is usually a good idea to scale the data for SVM training.\n",
    "# We are cheating a bit in this example in scaling all of the data,\n",
    "# instead of fitting the transformation on the trainingset and\n",
    "# just applying it on the test set.\n",
    "\n",
    "# scaler = StandardScaler()\n",
    "# X = scaler.fit_transform(X_train_updated_google)"
   ]
  },
  {
   "cell_type": "code",
   "execution_count": 83,
   "metadata": {
    "ExecuteTime": {
     "end_time": "2020-04-14T02:27:19.390246Z",
     "start_time": "2020-04-14T02:27:14.056656Z"
    }
   },
   "outputs": [
    {
     "data": {
      "text/plain": [
       "GridSearchCV(cv=StratifiedKFold(n_splits=10, random_state=None, shuffle=False),\n",
       "             error_score=nan,\n",
       "             estimator=SVC(C=1.0, break_ties=False, cache_size=200,\n",
       "                           class_weight=None, coef0=0.0,\n",
       "                           decision_function_shape='ovr', degree=3,\n",
       "                           gamma='scale', kernel='rbf', max_iter=-1,\n",
       "                           probability=False, random_state=None, shrinking=True,\n",
       "                           tol=0.001, verbose=False),\n",
       "             iid='deprecated', n_jobs...\n",
       "       3.20000e+01, 1.28000e+02, 5.12000e+02, 2.04800e+03, 8.19200e+03,\n",
       "       3.27680e+04, 1.31072e+05]),\n",
       "                         'gamma': array([7.62939453e-06, 3.05175781e-05, 1.22070312e-04, 4.88281250e-04,\n",
       "       1.95312500e-03, 7.81250000e-03, 3.12500000e-02, 1.25000000e-01,\n",
       "       5.00000000e-01, 2.00000000e+00, 8.00000000e+00])},\n",
       "             pre_dispatch='2*n_jobs', refit=True, return_train_score=False,\n",
       "             scoring=None, verbose=0)"
      ]
     },
     "execution_count": 83,
     "metadata": {},
     "output_type": "execute_result"
    }
   ],
   "source": [
    "C_range = 2. ** np.arange(-5, 18, 2)\n",
    "gamma_range = 2. ** np.arange(-17, 4, 2)\n",
    "param_grid = dict(gamma=gamma_range, C=C_range)\n",
    "grid = GridSearchCV(SVC(), param_grid=param_grid,\n",
    "                    cv=StratifiedKFold(n_splits=10))\n",
    "grid.fit(X, Y)"
   ]
  },
  {
   "cell_type": "code",
   "execution_count": 84,
   "metadata": {
    "ExecuteTime": {
     "end_time": "2020-04-14T02:27:19.401240Z",
     "start_time": "2020-04-14T02:27:19.393245Z"
    }
   },
   "outputs": [
    {
     "data": {
      "text/plain": [
       "{'gamma': array([7.62939453e-06, 3.05175781e-05, 1.22070312e-04, 4.88281250e-04,\n",
       "        1.95312500e-03, 7.81250000e-03, 3.12500000e-02, 1.25000000e-01,\n",
       "        5.00000000e-01, 2.00000000e+00, 8.00000000e+00]),\n",
       " 'C': array([3.12500e-02, 1.25000e-01, 5.00000e-01, 2.00000e+00, 8.00000e+00,\n",
       "        3.20000e+01, 1.28000e+02, 5.12000e+02, 2.04800e+03, 8.19200e+03,\n",
       "        3.27680e+04, 1.31072e+05])}"
      ]
     },
     "execution_count": 84,
     "metadata": {},
     "output_type": "execute_result"
    }
   ],
   "source": [
    "param_grid"
   ]
  },
  {
   "cell_type": "code",
   "execution_count": 85,
   "metadata": {
    "ExecuteTime": {
     "end_time": "2020-04-14T02:27:19.413236Z",
     "start_time": "2020-04-14T02:27:19.404238Z"
    }
   },
   "outputs": [
    {
     "name": "stdout",
     "output_type": "stream",
     "text": [
      "The best classifier is:  SVC(C=8.0, break_ties=False, cache_size=200, class_weight=None, coef0=0.0,\n",
      "    decision_function_shape='ovr', degree=3, gamma=0.0078125, kernel='rbf',\n",
      "    max_iter=-1, probability=False, random_state=None, shrinking=True,\n",
      "    tol=0.001, verbose=False)\n"
     ]
    }
   ],
   "source": [
    "print(\"The best classifier is: \", grid.best_estimator_)"
   ]
  },
  {
   "cell_type": "code",
   "execution_count": 86,
   "metadata": {
    "ExecuteTime": {
     "end_time": "2020-04-14T02:27:19.425228Z",
     "start_time": "2020-04-14T02:27:19.416232Z"
    }
   },
   "outputs": [
    {
     "name": "stdout",
     "output_type": "stream",
     "text": [
      "The best parameters are {'C': 8.0, 'gamma': 0.0078125} with a score of 0.50\n"
     ]
    }
   ],
   "source": [
    "print(\"The best parameters are %s with a score of %0.2f\"\n",
    "      % (grid.best_params_, grid.best_score_))"
   ]
  },
  {
   "cell_type": "code",
   "execution_count": 87,
   "metadata": {
    "ExecuteTime": {
     "end_time": "2020-04-14T02:27:19.444216Z",
     "start_time": "2020-04-14T02:27:19.428225Z"
    }
   },
   "outputs": [
    {
     "data": {
      "text/plain": [
       "SVC(C=32.0, break_ties=False, cache_size=200, class_weight='balanced',\n",
       "    coef0=0.0, decision_function_shape='ovr', degree=3, gamma=0.03125,\n",
       "    kernel='rbf', max_iter=-1, probability=False, random_state=None,\n",
       "    shrinking=True, tol=0.001, verbose=False)"
      ]
     },
     "execution_count": 87,
     "metadata": {},
     "output_type": "execute_result"
    }
   ],
   "source": [
    "clf = SVC(C=32.0, class_weight='balanced', gamma=0.03125, kernel='rbf')\n",
    "clf.fit(X, Y)"
   ]
  },
  {
   "cell_type": "code",
   "execution_count": 88,
   "metadata": {
    "ExecuteTime": {
     "end_time": "2020-04-14T02:27:19.454210Z",
     "start_time": "2020-04-14T02:27:19.447214Z"
    }
   },
   "outputs": [],
   "source": [
    "y_pred = clf.predict(X_val_combined_V_cw)"
   ]
  },
  {
   "cell_type": "code",
   "execution_count": 89,
   "metadata": {
    "ExecuteTime": {
     "end_time": "2020-04-14T02:27:19.467203Z",
     "start_time": "2020-04-14T02:27:19.458209Z"
    }
   },
   "outputs": [
    {
     "name": "stdout",
     "output_type": "stream",
     "text": [
      "('SVM Accuracy Score -> ', 50.0)\n"
     ]
    }
   ],
   "source": [
    "print((\"SVM Accuracy Score -> \", accuracy_score(y_pred, y_val) * 100))"
   ]
  },
  {
   "cell_type": "code",
   "execution_count": 90,
   "metadata": {
    "ExecuteTime": {
     "end_time": "2020-04-14T02:27:19.486191Z",
     "start_time": "2020-04-14T02:27:19.469201Z"
    },
    "scrolled": false
   },
   "outputs": [
    {
     "name": "stdout",
     "output_type": "stream",
     "text": [
      "              precision    recall  f1-score   support\n",
      "\n",
      "          GC       0.33      0.08      0.13        24\n",
      "        Refl       0.33      0.67      0.44         3\n",
      "        Vert       0.54      0.79      0.64        33\n",
      "\n",
      "    accuracy                           0.50        60\n",
      "   macro avg       0.40      0.51      0.41        60\n",
      "weighted avg       0.45      0.50      0.43        60\n",
      "\n"
     ]
    }
   ],
   "source": [
    "from sklearn.metrics import classification_report\n",
    "print((classification_report(y_val, y_pred, target_names=my_tags)))"
   ]
  },
  {
   "cell_type": "markdown",
   "metadata": {},
   "source": [
    "##### Logistice regression"
   ]
  },
  {
   "cell_type": "code",
   "execution_count": 91,
   "metadata": {
    "ExecuteTime": {
     "end_time": "2020-04-14T02:27:19.522171Z",
     "start_time": "2020-04-14T02:27:19.489190Z"
    },
    "scrolled": true
   },
   "outputs": [
    {
     "name": "stdout",
     "output_type": "stream",
     "text": [
      "accuracy 0.38333333333333336\n",
      "              precision    recall  f1-score   support\n",
      "\n",
      "          GC       0.33      0.25      0.29        24\n",
      "        Refl       0.00      0.00      0.00         3\n",
      "        Vert       0.53      0.52      0.52        33\n",
      "\n",
      "    accuracy                           0.38        60\n",
      "   macro avg       0.29      0.26      0.27        60\n",
      "weighted avg       0.43      0.38      0.40        60\n",
      "\n"
     ]
    }
   ],
   "source": [
    "from sklearn.linear_model import LogisticRegression\n",
    "logreg = LogisticRegression(n_jobs=1, C=1e5)\n",
    "logreg = logreg.fit(X_train_combined_V_cw, y_train)\n",
    "y_pred = logreg.predict(X_val_combined_V_cw)\n",
    "print('accuracy %s' % accuracy_score(y_pred, y_val))\n",
    "print(classification_report(y_val, y_pred, target_names=my_tags))"
   ]
  },
  {
   "cell_type": "markdown",
   "metadata": {},
   "source": [
    "##### Weighted logistice regression"
   ]
  },
  {
   "cell_type": "code",
   "execution_count": 92,
   "metadata": {
    "ExecuteTime": {
     "end_time": "2020-04-14T02:27:19.557152Z",
     "start_time": "2020-04-14T02:27:19.525170Z"
    },
    "scrolled": false
   },
   "outputs": [
    {
     "name": "stdout",
     "output_type": "stream",
     "text": [
      "accuracy 0.4\n",
      "              precision    recall  f1-score   support\n",
      "\n",
      "          GC       0.35      0.29      0.32        24\n",
      "        Refl       0.00      0.00      0.00         3\n",
      "        Vert       0.53      0.52      0.52        33\n",
      "\n",
      "    accuracy                           0.40        60\n",
      "   macro avg       0.29      0.27      0.28        60\n",
      "weighted avg       0.43      0.40      0.41        60\n",
      "\n"
     ]
    }
   ],
   "source": [
    "from sklearn.linear_model import LogisticRegression\n",
    "logreg = LogisticRegression(n_jobs=1, C=1e5, class_weight='balanced')\n",
    "logreg = logreg.fit(X_train_combined_V_cw, y_train)\n",
    "y_pred = logreg.predict(X_val_combined_V_cw)\n",
    "print('accuracy %s' % accuracy_score(y_pred, y_val))\n",
    "print(classification_report(y_val, y_pred, target_names=my_tags))"
   ]
  },
  {
   "cell_type": "markdown",
   "metadata": {},
   "source": [
    "#### _VPC"
   ]
  },
  {
   "cell_type": "markdown",
   "metadata": {},
   "source": [
    "##### Linear SVM"
   ]
  },
  {
   "cell_type": "code",
   "execution_count": 93,
   "metadata": {
    "ExecuteTime": {
     "end_time": "2020-04-14T02:27:19.573142Z",
     "start_time": "2020-04-14T02:27:19.560149Z"
    },
    "scrolled": true
   },
   "outputs": [
    {
     "data": {
      "text/plain": [
       "SVC(C=1.0, break_ties=False, cache_size=200, class_weight=None, coef0=0.0,\n",
       "    decision_function_shape='ovr', degree=3, gamma='scale', kernel='linear',\n",
       "    max_iter=-1, probability=False, random_state=None, shrinking=True,\n",
       "    tol=0.001, verbose=False)"
      ]
     },
     "execution_count": 93,
     "metadata": {},
     "output_type": "execute_result"
    }
   ],
   "source": [
    "clf = SVC(kernel='linear')\n",
    "clf.fit(X_train_combined_VPC_cw, y_train)"
   ]
  },
  {
   "cell_type": "code",
   "execution_count": 94,
   "metadata": {
    "ExecuteTime": {
     "end_time": "2020-04-14T02:27:19.584135Z",
     "start_time": "2020-04-14T02:27:19.576140Z"
    }
   },
   "outputs": [],
   "source": [
    "y_pred = clf.predict(X_val_combined_VPC_cw)"
   ]
  },
  {
   "cell_type": "code",
   "execution_count": 95,
   "metadata": {
    "ExecuteTime": {
     "end_time": "2020-04-14T02:27:19.597128Z",
     "start_time": "2020-04-14T02:27:19.587134Z"
    }
   },
   "outputs": [
    {
     "name": "stdout",
     "output_type": "stream",
     "text": [
      "SVM Accuracy Score ->  36.666666666666664\n"
     ]
    }
   ],
   "source": [
    "print(\"SVM Accuracy Score -> \", accuracy_score(y_pred, y_val) * 100)"
   ]
  },
  {
   "cell_type": "code",
   "execution_count": 96,
   "metadata": {
    "ExecuteTime": {
     "end_time": "2020-04-14T02:27:19.616120Z",
     "start_time": "2020-04-14T02:27:19.601126Z"
    }
   },
   "outputs": [
    {
     "name": "stdout",
     "output_type": "stream",
     "text": [
      "              precision    recall  f1-score   support\n",
      "\n",
      "          GC       0.43      0.38      0.40        24\n",
      "        Refl       0.10      0.67      0.17         3\n",
      "        Vert       0.61      0.33      0.43        33\n",
      "\n",
      "    accuracy                           0.37        60\n",
      "   macro avg       0.38      0.46      0.33        60\n",
      "weighted avg       0.51      0.37      0.41        60\n",
      "\n"
     ]
    }
   ],
   "source": [
    "from sklearn.metrics import classification_report\n",
    "print(classification_report(y_val, y_pred, target_names=my_tags))"
   ]
  },
  {
   "cell_type": "markdown",
   "metadata": {},
   "source": [
    "##### Weighted Linear SVM"
   ]
  },
  {
   "cell_type": "code",
   "execution_count": 97,
   "metadata": {
    "ExecuteTime": {
     "end_time": "2020-04-14T02:27:19.633108Z",
     "start_time": "2020-04-14T02:27:19.619116Z"
    },
    "scrolled": true
   },
   "outputs": [
    {
     "data": {
      "text/plain": [
       "SVC(C=1.0, break_ties=False, cache_size=200, class_weight='balanced', coef0=0.0,\n",
       "    decision_function_shape='ovr', degree=3, gamma='scale', kernel='linear',\n",
       "    max_iter=-1, probability=False, random_state=None, shrinking=True,\n",
       "    tol=0.001, verbose=False)"
      ]
     },
     "execution_count": 97,
     "metadata": {},
     "output_type": "execute_result"
    }
   ],
   "source": [
    "clf_balanced_class_weight = SVC(kernel='linear', class_weight='balanced')\n",
    "clf_balanced_class_weight.fit(X_train_combined_VPC_cw, y_train)"
   ]
  },
  {
   "cell_type": "code",
   "execution_count": 98,
   "metadata": {
    "ExecuteTime": {
     "end_time": "2020-04-14T02:27:19.644102Z",
     "start_time": "2020-04-14T02:27:19.636106Z"
    }
   },
   "outputs": [],
   "source": [
    "y_pred_balanced_class_weight = clf_balanced_class_weight.predict(\n",
    "    X_val_combined_VPC_cw)"
   ]
  },
  {
   "cell_type": "code",
   "execution_count": 99,
   "metadata": {
    "ExecuteTime": {
     "end_time": "2020-04-14T02:27:19.659093Z",
     "start_time": "2020-04-14T02:27:19.649098Z"
    }
   },
   "outputs": [
    {
     "name": "stdout",
     "output_type": "stream",
     "text": [
      "SVM Accuracy Score ->  36.666666666666664\n"
     ]
    }
   ],
   "source": [
    "print(\"SVM Accuracy Score -> \",\n",
    "      accuracy_score(y_pred_balanced_class_weight, y_val) * 100)"
   ]
  },
  {
   "cell_type": "code",
   "execution_count": 100,
   "metadata": {
    "ExecuteTime": {
     "end_time": "2020-04-14T02:27:19.714061Z",
     "start_time": "2020-04-14T02:27:19.662091Z"
    },
    "scrolled": false
   },
   "outputs": [
    {
     "name": "stdout",
     "output_type": "stream",
     "text": [
      "              precision    recall  f1-score   support\n",
      "\n",
      "          GC       0.43      0.38      0.40        24\n",
      "        Refl       0.10      0.67      0.17         3\n",
      "        Vert       0.61      0.33      0.43        33\n",
      "\n",
      "    accuracy                           0.37        60\n",
      "   macro avg       0.38      0.46      0.33        60\n",
      "weighted avg       0.51      0.37      0.41        60\n",
      "\n"
     ]
    }
   ],
   "source": [
    "from sklearn.metrics import classification_report\n",
    "print(\n",
    "    classification_report(y_val,\n",
    "                          y_pred_balanced_class_weight,\n",
    "                          target_names=my_tags))"
   ]
  },
  {
   "cell_type": "markdown",
   "metadata": {},
   "source": [
    "##### SVC with 'rbf' kernel"
   ]
  },
  {
   "cell_type": "code",
   "execution_count": 101,
   "metadata": {
    "ExecuteTime": {
     "end_time": "2020-04-14T02:27:19.721058Z",
     "start_time": "2020-04-14T02:27:19.717060Z"
    }
   },
   "outputs": [],
   "source": [
    "X = X_train_combined_VPC_cw\n",
    "Y = y_train"
   ]
  },
  {
   "cell_type": "code",
   "execution_count": 102,
   "metadata": {
    "ExecuteTime": {
     "end_time": "2020-04-14T02:27:19.734049Z",
     "start_time": "2020-04-14T02:27:19.724056Z"
    }
   },
   "outputs": [],
   "source": [
    "# It is usually a good idea to scale the data for SVM training.\n",
    "# We are cheating a bit in this example in scaling all of the data,\n",
    "# instead of fitting the transformation on the trainingset and\n",
    "# just applying it on the test set.\n",
    "\n",
    "# scaler = StandardScaler()\n",
    "# X = scaler.fit_transform(X_train_updated_google)"
   ]
  },
  {
   "cell_type": "code",
   "execution_count": 103,
   "metadata": {
    "ExecuteTime": {
     "end_time": "2020-04-14T02:27:25.472937Z",
     "start_time": "2020-04-14T02:27:19.736049Z"
    }
   },
   "outputs": [
    {
     "data": {
      "text/plain": [
       "GridSearchCV(cv=StratifiedKFold(n_splits=10, random_state=None, shuffle=False),\n",
       "             error_score=nan,\n",
       "             estimator=SVC(C=1.0, break_ties=False, cache_size=200,\n",
       "                           class_weight=None, coef0=0.0,\n",
       "                           decision_function_shape='ovr', degree=3,\n",
       "                           gamma='scale', kernel='rbf', max_iter=-1,\n",
       "                           probability=False, random_state=None, shrinking=True,\n",
       "                           tol=0.001, verbose=False),\n",
       "             iid='deprecated', n_jobs...\n",
       "       3.20000e+01, 1.28000e+02, 5.12000e+02, 2.04800e+03, 8.19200e+03,\n",
       "       3.27680e+04, 1.31072e+05]),\n",
       "                         'gamma': array([7.62939453e-06, 3.05175781e-05, 1.22070312e-04, 4.88281250e-04,\n",
       "       1.95312500e-03, 7.81250000e-03, 3.12500000e-02, 1.25000000e-01,\n",
       "       5.00000000e-01, 2.00000000e+00, 8.00000000e+00])},\n",
       "             pre_dispatch='2*n_jobs', refit=True, return_train_score=False,\n",
       "             scoring=None, verbose=0)"
      ]
     },
     "execution_count": 103,
     "metadata": {},
     "output_type": "execute_result"
    }
   ],
   "source": [
    "C_range = 2. ** np.arange(-5, 18, 2)\n",
    "gamma_range = 2. ** np.arange(-17, 4, 2)\n",
    "param_grid = dict(gamma=gamma_range, C=C_range)\n",
    "grid = GridSearchCV(SVC(), param_grid=param_grid,\n",
    "                    cv=StratifiedKFold(n_splits=10))\n",
    "grid.fit(X, Y)"
   ]
  },
  {
   "cell_type": "code",
   "execution_count": 104,
   "metadata": {
    "ExecuteTime": {
     "end_time": "2020-04-14T02:27:25.481930Z",
     "start_time": "2020-04-14T02:27:25.474934Z"
    }
   },
   "outputs": [
    {
     "data": {
      "text/plain": [
       "{'gamma': array([7.62939453e-06, 3.05175781e-05, 1.22070312e-04, 4.88281250e-04,\n",
       "        1.95312500e-03, 7.81250000e-03, 3.12500000e-02, 1.25000000e-01,\n",
       "        5.00000000e-01, 2.00000000e+00, 8.00000000e+00]),\n",
       " 'C': array([3.12500e-02, 1.25000e-01, 5.00000e-01, 2.00000e+00, 8.00000e+00,\n",
       "        3.20000e+01, 1.28000e+02, 5.12000e+02, 2.04800e+03, 8.19200e+03,\n",
       "        3.27680e+04, 1.31072e+05])}"
      ]
     },
     "execution_count": 104,
     "metadata": {},
     "output_type": "execute_result"
    }
   ],
   "source": [
    "param_grid"
   ]
  },
  {
   "cell_type": "code",
   "execution_count": 105,
   "metadata": {
    "ExecuteTime": {
     "end_time": "2020-04-14T02:27:25.494925Z",
     "start_time": "2020-04-14T02:27:25.484928Z"
    }
   },
   "outputs": [
    {
     "name": "stdout",
     "output_type": "stream",
     "text": [
      "The best classifier is:  SVC(C=2.0, break_ties=False, cache_size=200, class_weight=None, coef0=0.0,\n",
      "    decision_function_shape='ovr', degree=3, gamma=0.03125, kernel='rbf',\n",
      "    max_iter=-1, probability=False, random_state=None, shrinking=True,\n",
      "    tol=0.001, verbose=False)\n"
     ]
    }
   ],
   "source": [
    "print(\"The best classifier is: \", grid.best_estimator_)"
   ]
  },
  {
   "cell_type": "code",
   "execution_count": 106,
   "metadata": {
    "ExecuteTime": {
     "end_time": "2020-04-14T02:27:25.506918Z",
     "start_time": "2020-04-14T02:27:25.496921Z"
    }
   },
   "outputs": [
    {
     "name": "stdout",
     "output_type": "stream",
     "text": [
      "The best parameters are {'C': 2.0, 'gamma': 0.03125} with a score of 0.57\n"
     ]
    }
   ],
   "source": [
    "print(\"The best parameters are %s with a score of %0.2f\"\n",
    "      % (grid.best_params_, grid.best_score_))"
   ]
  },
  {
   "cell_type": "code",
   "execution_count": 107,
   "metadata": {
    "ExecuteTime": {
     "end_time": "2020-04-14T02:27:25.524905Z",
     "start_time": "2020-04-14T02:27:25.508915Z"
    }
   },
   "outputs": [
    {
     "data": {
      "text/plain": [
       "SVC(C=2.0, break_ties=False, cache_size=200, class_weight=None, coef0=0.0,\n",
       "    decision_function_shape='ovr', degree=3, gamma=0.03125, kernel='rbf',\n",
       "    max_iter=-1, probability=False, random_state=None, shrinking=True,\n",
       "    tol=0.001, verbose=False)"
      ]
     },
     "execution_count": 107,
     "metadata": {},
     "output_type": "execute_result"
    }
   ],
   "source": [
    "clf = grid.best_estimator_\n",
    "clf.fit(X, Y)"
   ]
  },
  {
   "cell_type": "code",
   "execution_count": 108,
   "metadata": {
    "ExecuteTime": {
     "end_time": "2020-04-14T02:27:25.533902Z",
     "start_time": "2020-04-14T02:27:25.527904Z"
    }
   },
   "outputs": [],
   "source": [
    "y_pred = clf.predict(X_val_combined_VPC_cw)"
   ]
  },
  {
   "cell_type": "code",
   "execution_count": 109,
   "metadata": {
    "ExecuteTime": {
     "end_time": "2020-04-14T02:27:25.546912Z",
     "start_time": "2020-04-14T02:27:25.536899Z"
    }
   },
   "outputs": [
    {
     "name": "stdout",
     "output_type": "stream",
     "text": [
      "('SVM Accuracy Score -> ', 50.0)\n"
     ]
    }
   ],
   "source": [
    "print((\"SVM Accuracy Score -> \", accuracy_score(y_pred, y_val) * 100))"
   ]
  },
  {
   "cell_type": "code",
   "execution_count": 110,
   "metadata": {
    "ExecuteTime": {
     "end_time": "2020-04-14T02:27:25.565882Z",
     "start_time": "2020-04-14T02:27:25.549894Z"
    },
    "scrolled": true
   },
   "outputs": [
    {
     "name": "stdout",
     "output_type": "stream",
     "text": [
      "              precision    recall  f1-score   support\n",
      "\n",
      "          GC       0.60      0.38      0.46        24\n",
      "        Refl       0.12      0.67      0.21         3\n",
      "        Vert       0.66      0.58      0.61        33\n",
      "\n",
      "    accuracy                           0.50        60\n",
      "   macro avg       0.46      0.54      0.43        60\n",
      "weighted avg       0.61      0.50      0.53        60\n",
      "\n"
     ]
    }
   ],
   "source": [
    "from sklearn.metrics import classification_report\n",
    "print((classification_report(y_val, y_pred, target_names=my_tags)))"
   ]
  },
  {
   "cell_type": "markdown",
   "metadata": {},
   "source": [
    "##### Weighted SVC with 'rbf' kernel "
   ]
  },
  {
   "cell_type": "code",
   "execution_count": 111,
   "metadata": {
    "ExecuteTime": {
     "end_time": "2020-04-14T02:27:25.572878Z",
     "start_time": "2020-04-14T02:27:25.568880Z"
    }
   },
   "outputs": [],
   "source": [
    "X = X_train_combined_VPC_cw\n",
    "Y = y_train"
   ]
  },
  {
   "cell_type": "code",
   "execution_count": 112,
   "metadata": {
    "ExecuteTime": {
     "end_time": "2020-04-14T02:27:25.585872Z",
     "start_time": "2020-04-14T02:27:25.574877Z"
    }
   },
   "outputs": [],
   "source": [
    "# It is usually a good idea to scale the data for SVM training.\n",
    "# We are cheating a bit in this example in scaling all of the data,\n",
    "# instead of fitting the transformation on the trainingset and\n",
    "# just applying it on the test set.\n",
    "\n",
    "# scaler = StandardScaler()\n",
    "# X = scaler.fit_transform(X_train_updated_google)"
   ]
  },
  {
   "cell_type": "code",
   "execution_count": 113,
   "metadata": {
    "ExecuteTime": {
     "end_time": "2020-04-14T02:27:30.665300Z",
     "start_time": "2020-04-14T02:27:25.587869Z"
    }
   },
   "outputs": [
    {
     "data": {
      "text/plain": [
       "GridSearchCV(cv=StratifiedKFold(n_splits=10, random_state=None, shuffle=False),\n",
       "             error_score=nan,\n",
       "             estimator=SVC(C=1.0, break_ties=False, cache_size=200,\n",
       "                           class_weight=None, coef0=0.0,\n",
       "                           decision_function_shape='ovr', degree=3,\n",
       "                           gamma='scale', kernel='rbf', max_iter=-1,\n",
       "                           probability=False, random_state=None, shrinking=True,\n",
       "                           tol=0.001, verbose=False),\n",
       "             iid='deprecated', n_jobs...\n",
       "       3.20000e+01, 1.28000e+02, 5.12000e+02, 2.04800e+03, 8.19200e+03,\n",
       "       3.27680e+04, 1.31072e+05]),\n",
       "                         'gamma': array([7.62939453e-06, 3.05175781e-05, 1.22070312e-04, 4.88281250e-04,\n",
       "       1.95312500e-03, 7.81250000e-03, 3.12500000e-02, 1.25000000e-01,\n",
       "       5.00000000e-01, 2.00000000e+00, 8.00000000e+00])},\n",
       "             pre_dispatch='2*n_jobs', refit=True, return_train_score=False,\n",
       "             scoring=None, verbose=0)"
      ]
     },
     "execution_count": 113,
     "metadata": {},
     "output_type": "execute_result"
    }
   ],
   "source": [
    "C_range = 2. ** np.arange(-5, 18, 2)\n",
    "gamma_range = 2. ** np.arange(-17, 4, 2)\n",
    "param_grid = dict(gamma=gamma_range, C=C_range)\n",
    "grid = GridSearchCV(SVC(), param_grid=param_grid,\n",
    "                    cv=StratifiedKFold(n_splits=10))\n",
    "grid.fit(X, Y)"
   ]
  },
  {
   "cell_type": "code",
   "execution_count": 114,
   "metadata": {
    "ExecuteTime": {
     "end_time": "2020-04-14T02:27:30.676292Z",
     "start_time": "2020-04-14T02:27:30.668298Z"
    }
   },
   "outputs": [
    {
     "data": {
      "text/plain": [
       "{'gamma': array([7.62939453e-06, 3.05175781e-05, 1.22070312e-04, 4.88281250e-04,\n",
       "        1.95312500e-03, 7.81250000e-03, 3.12500000e-02, 1.25000000e-01,\n",
       "        5.00000000e-01, 2.00000000e+00, 8.00000000e+00]),\n",
       " 'C': array([3.12500e-02, 1.25000e-01, 5.00000e-01, 2.00000e+00, 8.00000e+00,\n",
       "        3.20000e+01, 1.28000e+02, 5.12000e+02, 2.04800e+03, 8.19200e+03,\n",
       "        3.27680e+04, 1.31072e+05])}"
      ]
     },
     "execution_count": 114,
     "metadata": {},
     "output_type": "execute_result"
    }
   ],
   "source": [
    "param_grid"
   ]
  },
  {
   "cell_type": "code",
   "execution_count": 115,
   "metadata": {
    "ExecuteTime": {
     "end_time": "2020-04-14T02:27:30.690286Z",
     "start_time": "2020-04-14T02:27:30.681290Z"
    }
   },
   "outputs": [
    {
     "name": "stdout",
     "output_type": "stream",
     "text": [
      "The best classifier is:  SVC(C=2.0, break_ties=False, cache_size=200, class_weight=None, coef0=0.0,\n",
      "    decision_function_shape='ovr', degree=3, gamma=0.03125, kernel='rbf',\n",
      "    max_iter=-1, probability=False, random_state=None, shrinking=True,\n",
      "    tol=0.001, verbose=False)\n"
     ]
    }
   ],
   "source": [
    "print(\"The best classifier is: \", grid.best_estimator_)"
   ]
  },
  {
   "cell_type": "code",
   "execution_count": 116,
   "metadata": {
    "ExecuteTime": {
     "end_time": "2020-04-14T02:27:30.702280Z",
     "start_time": "2020-04-14T02:27:30.692283Z"
    }
   },
   "outputs": [
    {
     "name": "stdout",
     "output_type": "stream",
     "text": [
      "The best parameters are {'C': 2.0, 'gamma': 0.03125} with a score of 0.57\n"
     ]
    }
   ],
   "source": [
    "print(\"The best parameters are %s with a score of %0.2f\"\n",
    "      % (grid.best_params_, grid.best_score_))"
   ]
  },
  {
   "cell_type": "code",
   "execution_count": 117,
   "metadata": {
    "ExecuteTime": {
     "end_time": "2020-04-14T02:27:30.720286Z",
     "start_time": "2020-04-14T02:27:30.705278Z"
    }
   },
   "outputs": [
    {
     "data": {
      "text/plain": [
       "SVC(C=32.0, break_ties=False, cache_size=200, class_weight='balanced',\n",
       "    coef0=0.0, decision_function_shape='ovr', degree=3, gamma=0.03125,\n",
       "    kernel='rbf', max_iter=-1, probability=False, random_state=None,\n",
       "    shrinking=True, tol=0.001, verbose=False)"
      ]
     },
     "execution_count": 117,
     "metadata": {},
     "output_type": "execute_result"
    }
   ],
   "source": [
    "clf = SVC(C=32.0, class_weight='balanced', gamma=0.03125, kernel='rbf')\n",
    "clf.fit(X, Y)"
   ]
  },
  {
   "cell_type": "code",
   "execution_count": 118,
   "metadata": {
    "ExecuteTime": {
     "end_time": "2020-04-14T02:27:30.728265Z",
     "start_time": "2020-04-14T02:27:30.722266Z"
    }
   },
   "outputs": [],
   "source": [
    "y_pred = clf.predict(X_val_combined_VPC_cw)"
   ]
  },
  {
   "cell_type": "code",
   "execution_count": 119,
   "metadata": {
    "ExecuteTime": {
     "end_time": "2020-04-14T02:27:30.740258Z",
     "start_time": "2020-04-14T02:27:30.730261Z"
    }
   },
   "outputs": [
    {
     "name": "stdout",
     "output_type": "stream",
     "text": [
      "('SVM Accuracy Score -> ', 46.666666666666664)\n"
     ]
    }
   ],
   "source": [
    "print((\"SVM Accuracy Score -> \", accuracy_score(y_pred, y_val) * 100))"
   ]
  },
  {
   "cell_type": "code",
   "execution_count": 120,
   "metadata": {
    "ExecuteTime": {
     "end_time": "2020-04-14T02:27:30.760244Z",
     "start_time": "2020-04-14T02:27:30.743253Z"
    },
    "scrolled": false
   },
   "outputs": [
    {
     "name": "stdout",
     "output_type": "stream",
     "text": [
      "              precision    recall  f1-score   support\n",
      "\n",
      "          GC       0.54      0.29      0.38        24\n",
      "        Refl       0.07      0.33      0.12         3\n",
      "        Vert       0.61      0.61      0.61        33\n",
      "\n",
      "    accuracy                           0.47        60\n",
      "   macro avg       0.41      0.41      0.37        60\n",
      "weighted avg       0.55      0.47      0.49        60\n",
      "\n"
     ]
    }
   ],
   "source": [
    "from sklearn.metrics import classification_report\n",
    "print((classification_report(y_val, y_pred, target_names=my_tags)))"
   ]
  },
  {
   "cell_type": "markdown",
   "metadata": {},
   "source": [
    "##### Logistice regression"
   ]
  },
  {
   "cell_type": "code",
   "execution_count": 121,
   "metadata": {
    "ExecuteTime": {
     "end_time": "2020-04-14T02:27:30.811215Z",
     "start_time": "2020-04-14T02:27:30.762242Z"
    },
    "scrolled": false
   },
   "outputs": [
    {
     "name": "stdout",
     "output_type": "stream",
     "text": [
      "accuracy 0.4166666666666667\n",
      "              precision    recall  f1-score   support\n",
      "\n",
      "          GC       0.50      0.42      0.45        24\n",
      "        Refl       0.00      0.00      0.00         3\n",
      "        Vert       0.60      0.45      0.52        33\n",
      "\n",
      "    accuracy                           0.42        60\n",
      "   macro avg       0.37      0.29      0.32        60\n",
      "weighted avg       0.53      0.42      0.47        60\n",
      "\n"
     ]
    }
   ],
   "source": [
    "from sklearn.linear_model import LogisticRegression\n",
    "logreg = LogisticRegression(n_jobs=1, C=1e5)\n",
    "logreg = logreg.fit(X_train_combined_VPC_cw, y_train)\n",
    "y_pred = logreg.predict(X_val_combined_VPC_cw)\n",
    "print('accuracy %s' % accuracy_score(y_pred, y_val))\n",
    "print(classification_report(y_val, y_pred, target_names=my_tags))"
   ]
  },
  {
   "cell_type": "markdown",
   "metadata": {},
   "source": [
    "##### Weighted logistice regression"
   ]
  },
  {
   "cell_type": "code",
   "execution_count": 122,
   "metadata": {
    "ExecuteTime": {
     "end_time": "2020-04-14T02:27:30.853191Z",
     "start_time": "2020-04-14T02:27:30.813214Z"
    },
    "scrolled": true
   },
   "outputs": [
    {
     "name": "stdout",
     "output_type": "stream",
     "text": [
      "accuracy 0.4166666666666667\n",
      "              precision    recall  f1-score   support\n",
      "\n",
      "          GC       0.48      0.50      0.49        24\n",
      "        Refl       0.00      0.00      0.00         3\n",
      "        Vert       0.62      0.39      0.48        33\n",
      "\n",
      "    accuracy                           0.42        60\n",
      "   macro avg       0.37      0.30      0.32        60\n",
      "weighted avg       0.53      0.42      0.46        60\n",
      "\n"
     ]
    }
   ],
   "source": [
    "from sklearn.linear_model import LogisticRegression\n",
    "logreg = LogisticRegression(n_jobs=1, C=1e5, class_weight='balanced')\n",
    "logreg = logreg.fit(X_train_combined_VPC_cw, y_train)\n",
    "y_pred = logreg.predict(X_val_combined_VPC_cw)\n",
    "print('accuracy %s' % accuracy_score(y_pred, y_val))\n",
    "print(classification_report(y_val, y_pred, target_names=my_tags))"
   ]
  },
  {
   "cell_type": "markdown",
   "metadata": {},
   "source": [
    "#### _VPC (up)"
   ]
  },
  {
   "cell_type": "markdown",
   "metadata": {},
   "source": [
    "##### Linear SVM"
   ]
  },
  {
   "cell_type": "code",
   "execution_count": 123,
   "metadata": {
    "ExecuteTime": {
     "end_time": "2020-04-14T02:27:30.868182Z",
     "start_time": "2020-04-14T02:27:30.855190Z"
    },
    "scrolled": true
   },
   "outputs": [
    {
     "data": {
      "text/plain": [
       "SVC(C=1.0, break_ties=False, cache_size=200, class_weight=None, coef0=0.0,\n",
       "    decision_function_shape='ovr', degree=3, gamma='scale', kernel='linear',\n",
       "    max_iter=-1, probability=False, random_state=None, shrinking=True,\n",
       "    tol=0.001, verbose=False)"
      ]
     },
     "execution_count": 123,
     "metadata": {},
     "output_type": "execute_result"
    }
   ],
   "source": [
    "clf = SVC(kernel='linear')\n",
    "clf.fit(X_train_combined_VPC_cw_up, y_train)"
   ]
  },
  {
   "cell_type": "code",
   "execution_count": 124,
   "metadata": {
    "ExecuteTime": {
     "end_time": "2020-04-14T02:27:30.879176Z",
     "start_time": "2020-04-14T02:27:30.871181Z"
    }
   },
   "outputs": [],
   "source": [
    "y_pred = clf.predict(X_val_combined_VPC_cw_up)"
   ]
  },
  {
   "cell_type": "code",
   "execution_count": 125,
   "metadata": {
    "ExecuteTime": {
     "end_time": "2020-04-14T02:27:30.890170Z",
     "start_time": "2020-04-14T02:27:30.882175Z"
    }
   },
   "outputs": [
    {
     "name": "stdout",
     "output_type": "stream",
     "text": [
      "SVM Accuracy Score ->  46.666666666666664\n"
     ]
    }
   ],
   "source": [
    "print(\"SVM Accuracy Score -> \", accuracy_score(y_pred, y_val) * 100)"
   ]
  },
  {
   "cell_type": "code",
   "execution_count": 126,
   "metadata": {
    "ExecuteTime": {
     "end_time": "2020-04-14T02:27:30.909158Z",
     "start_time": "2020-04-14T02:27:30.892168Z"
    }
   },
   "outputs": [
    {
     "name": "stdout",
     "output_type": "stream",
     "text": [
      "              precision    recall  f1-score   support\n",
      "\n",
      "          GC       0.48      0.54      0.51        24\n",
      "        Refl       0.08      0.33      0.13         3\n",
      "        Vert       0.67      0.42      0.52        33\n",
      "\n",
      "    accuracy                           0.47        60\n",
      "   macro avg       0.41      0.43      0.39        60\n",
      "weighted avg       0.56      0.47      0.50        60\n",
      "\n"
     ]
    }
   ],
   "source": [
    "from sklearn.metrics import classification_report\n",
    "print(classification_report(y_val, y_pred, target_names=my_tags))"
   ]
  },
  {
   "cell_type": "markdown",
   "metadata": {},
   "source": [
    "##### Weighted Linear SVM"
   ]
  },
  {
   "cell_type": "code",
   "execution_count": 127,
   "metadata": {
    "ExecuteTime": {
     "end_time": "2020-04-14T02:27:30.924150Z",
     "start_time": "2020-04-14T02:27:30.911157Z"
    },
    "scrolled": true
   },
   "outputs": [
    {
     "data": {
      "text/plain": [
       "SVC(C=1.0, break_ties=False, cache_size=200, class_weight='balanced', coef0=0.0,\n",
       "    decision_function_shape='ovr', degree=3, gamma='scale', kernel='linear',\n",
       "    max_iter=-1, probability=False, random_state=None, shrinking=True,\n",
       "    tol=0.001, verbose=False)"
      ]
     },
     "execution_count": 127,
     "metadata": {},
     "output_type": "execute_result"
    }
   ],
   "source": [
    "clf_balanced_class_weight = SVC(kernel='linear', class_weight='balanced')\n",
    "clf_balanced_class_weight.fit(X_train_combined_VPC_cw_up, y_train)"
   ]
  },
  {
   "cell_type": "code",
   "execution_count": 128,
   "metadata": {
    "ExecuteTime": {
     "end_time": "2020-04-14T02:27:30.933145Z",
     "start_time": "2020-04-14T02:27:30.927150Z"
    }
   },
   "outputs": [],
   "source": [
    "y_pred_balanced_class_weight = clf_balanced_class_weight.predict(\n",
    "    X_val_combined_VPC_cw_up)"
   ]
  },
  {
   "cell_type": "code",
   "execution_count": 129,
   "metadata": {
    "ExecuteTime": {
     "end_time": "2020-04-14T02:27:30.945139Z",
     "start_time": "2020-04-14T02:27:30.936143Z"
    }
   },
   "outputs": [
    {
     "name": "stdout",
     "output_type": "stream",
     "text": [
      "SVM Accuracy Score ->  45.0\n"
     ]
    }
   ],
   "source": [
    "print(\"SVM Accuracy Score -> \",\n",
    "      accuracy_score(y_pred_balanced_class_weight, y_val) * 100)"
   ]
  },
  {
   "cell_type": "code",
   "execution_count": 130,
   "metadata": {
    "ExecuteTime": {
     "end_time": "2020-04-14T02:27:30.996110Z",
     "start_time": "2020-04-14T02:27:30.948137Z"
    },
    "scrolled": false
   },
   "outputs": [
    {
     "name": "stdout",
     "output_type": "stream",
     "text": [
      "              precision    recall  f1-score   support\n",
      "\n",
      "          GC       0.46      0.50      0.48        24\n",
      "        Refl       0.09      0.33      0.14         3\n",
      "        Vert       0.61      0.42      0.50        33\n",
      "\n",
      "    accuracy                           0.45        60\n",
      "   macro avg       0.39      0.42      0.37        60\n",
      "weighted avg       0.52      0.45      0.47        60\n",
      "\n"
     ]
    }
   ],
   "source": [
    "from sklearn.metrics import classification_report\n",
    "print(\n",
    "    classification_report(y_val,\n",
    "                          y_pred_balanced_class_weight,\n",
    "                          target_names=my_tags))"
   ]
  },
  {
   "cell_type": "markdown",
   "metadata": {},
   "source": [
    "##### SVC with 'rbf' kernel"
   ]
  },
  {
   "cell_type": "code",
   "execution_count": 131,
   "metadata": {
    "ExecuteTime": {
     "end_time": "2020-04-14T02:27:31.010101Z",
     "start_time": "2020-04-14T02:27:31.004104Z"
    }
   },
   "outputs": [],
   "source": [
    "X = X_train_combined_VPC_cw_up\n",
    "Y = y_train"
   ]
  },
  {
   "cell_type": "code",
   "execution_count": 132,
   "metadata": {
    "ExecuteTime": {
     "end_time": "2020-04-14T02:27:31.026094Z",
     "start_time": "2020-04-14T02:27:31.015098Z"
    }
   },
   "outputs": [],
   "source": [
    "# It is usually a good idea to scale the data for SVM training.\n",
    "# We are cheating a bit in this example in scaling all of the data,\n",
    "# instead of fitting the transformation on the trainingset and\n",
    "# just applying it on the test set.\n",
    "\n",
    "# scaler = StandardScaler()\n",
    "# X = scaler.fit_transform(X_train_updated_google)"
   ]
  },
  {
   "cell_type": "code",
   "execution_count": 133,
   "metadata": {
    "ExecuteTime": {
     "end_time": "2020-04-14T02:27:36.559110Z",
     "start_time": "2020-04-14T02:27:31.032088Z"
    }
   },
   "outputs": [
    {
     "data": {
      "text/plain": [
       "GridSearchCV(cv=StratifiedKFold(n_splits=10, random_state=None, shuffle=False),\n",
       "             error_score=nan,\n",
       "             estimator=SVC(C=1.0, break_ties=False, cache_size=200,\n",
       "                           class_weight=None, coef0=0.0,\n",
       "                           decision_function_shape='ovr', degree=3,\n",
       "                           gamma='scale', kernel='rbf', max_iter=-1,\n",
       "                           probability=False, random_state=None, shrinking=True,\n",
       "                           tol=0.001, verbose=False),\n",
       "             iid='deprecated', n_jobs...\n",
       "       3.20000e+01, 1.28000e+02, 5.12000e+02, 2.04800e+03, 8.19200e+03,\n",
       "       3.27680e+04, 1.31072e+05]),\n",
       "                         'gamma': array([7.62939453e-06, 3.05175781e-05, 1.22070312e-04, 4.88281250e-04,\n",
       "       1.95312500e-03, 7.81250000e-03, 3.12500000e-02, 1.25000000e-01,\n",
       "       5.00000000e-01, 2.00000000e+00, 8.00000000e+00])},\n",
       "             pre_dispatch='2*n_jobs', refit=True, return_train_score=False,\n",
       "             scoring=None, verbose=0)"
      ]
     },
     "execution_count": 133,
     "metadata": {},
     "output_type": "execute_result"
    }
   ],
   "source": [
    "C_range = 2. ** np.arange(-5, 18, 2)\n",
    "gamma_range = 2. ** np.arange(-17, 4, 2)\n",
    "param_grid = dict(gamma=gamma_range, C=C_range)\n",
    "grid = GridSearchCV(SVC(), param_grid=param_grid,\n",
    "                    cv=StratifiedKFold(n_splits=10))\n",
    "grid.fit(X, Y)"
   ]
  },
  {
   "cell_type": "code",
   "execution_count": 134,
   "metadata": {
    "ExecuteTime": {
     "end_time": "2020-04-14T02:27:36.569101Z",
     "start_time": "2020-04-14T02:27:36.561109Z"
    }
   },
   "outputs": [
    {
     "data": {
      "text/plain": [
       "{'gamma': array([7.62939453e-06, 3.05175781e-05, 1.22070312e-04, 4.88281250e-04,\n",
       "        1.95312500e-03, 7.81250000e-03, 3.12500000e-02, 1.25000000e-01,\n",
       "        5.00000000e-01, 2.00000000e+00, 8.00000000e+00]),\n",
       " 'C': array([3.12500e-02, 1.25000e-01, 5.00000e-01, 2.00000e+00, 8.00000e+00,\n",
       "        3.20000e+01, 1.28000e+02, 5.12000e+02, 2.04800e+03, 8.19200e+03,\n",
       "        3.27680e+04, 1.31072e+05])}"
      ]
     },
     "execution_count": 134,
     "metadata": {},
     "output_type": "execute_result"
    }
   ],
   "source": [
    "param_grid"
   ]
  },
  {
   "cell_type": "code",
   "execution_count": 135,
   "metadata": {
    "ExecuteTime": {
     "end_time": "2020-04-14T02:27:36.583114Z",
     "start_time": "2020-04-14T02:27:36.571101Z"
    }
   },
   "outputs": [
    {
     "name": "stdout",
     "output_type": "stream",
     "text": [
      "The best classifier is:  SVC(C=32.0, break_ties=False, cache_size=200, class_weight=None, coef0=0.0,\n",
      "    decision_function_shape='ovr', degree=3, gamma=0.125, kernel='rbf',\n",
      "    max_iter=-1, probability=False, random_state=None, shrinking=True,\n",
      "    tol=0.001, verbose=False)\n"
     ]
    }
   ],
   "source": [
    "print(\"The best classifier is: \", grid.best_estimator_)"
   ]
  },
  {
   "cell_type": "code",
   "execution_count": 136,
   "metadata": {
    "ExecuteTime": {
     "end_time": "2020-04-14T02:27:36.594088Z",
     "start_time": "2020-04-14T02:27:36.586093Z"
    }
   },
   "outputs": [
    {
     "name": "stdout",
     "output_type": "stream",
     "text": [
      "The best parameters are {'C': 32.0, 'gamma': 0.125} with a score of 0.60\n"
     ]
    }
   ],
   "source": [
    "print(\"The best parameters are %s with a score of %0.2f\"\n",
    "      % (grid.best_params_, grid.best_score_))"
   ]
  },
  {
   "cell_type": "code",
   "execution_count": 137,
   "metadata": {
    "ExecuteTime": {
     "end_time": "2020-04-14T02:27:36.611097Z",
     "start_time": "2020-04-14T02:27:36.597090Z"
    }
   },
   "outputs": [
    {
     "data": {
      "text/plain": [
       "SVC(C=32.0, break_ties=False, cache_size=200, class_weight=None, coef0=0.0,\n",
       "    decision_function_shape='ovr', degree=3, gamma=0.125, kernel='rbf',\n",
       "    max_iter=-1, probability=False, random_state=None, shrinking=True,\n",
       "    tol=0.001, verbose=False)"
      ]
     },
     "execution_count": 137,
     "metadata": {},
     "output_type": "execute_result"
    }
   ],
   "source": [
    "clf = grid.best_estimator_\n",
    "clf.fit(X, Y)"
   ]
  },
  {
   "cell_type": "code",
   "execution_count": 138,
   "metadata": {
    "ExecuteTime": {
     "end_time": "2020-04-14T02:27:36.619075Z",
     "start_time": "2020-04-14T02:27:36.613077Z"
    }
   },
   "outputs": [],
   "source": [
    "y_pred = clf.predict(X_val_combined_VPC_cw_up)"
   ]
  },
  {
   "cell_type": "code",
   "execution_count": 139,
   "metadata": {
    "ExecuteTime": {
     "end_time": "2020-04-14T02:27:36.631069Z",
     "start_time": "2020-04-14T02:27:36.621072Z"
    }
   },
   "outputs": [
    {
     "name": "stdout",
     "output_type": "stream",
     "text": [
      "('SVM Accuracy Score -> ', 46.666666666666664)\n"
     ]
    }
   ],
   "source": [
    "print((\"SVM Accuracy Score -> \", accuracy_score(y_pred, y_val) * 100))"
   ]
  },
  {
   "cell_type": "code",
   "execution_count": 140,
   "metadata": {
    "ExecuteTime": {
     "end_time": "2020-04-14T02:27:36.649058Z",
     "start_time": "2020-04-14T02:27:36.634065Z"
    },
    "scrolled": true
   },
   "outputs": [
    {
     "name": "stdout",
     "output_type": "stream",
     "text": [
      "              precision    recall  f1-score   support\n",
      "\n",
      "          GC       0.44      0.33      0.38        24\n",
      "        Refl       0.00      0.00      0.00         3\n",
      "        Vert       0.59      0.61      0.60        33\n",
      "\n",
      "    accuracy                           0.47        60\n",
      "   macro avg       0.34      0.31      0.33        60\n",
      "weighted avg       0.50      0.47      0.48        60\n",
      "\n"
     ]
    }
   ],
   "source": [
    "from sklearn.metrics import classification_report\n",
    "print((classification_report(y_val, y_pred, target_names=my_tags)))"
   ]
  },
  {
   "cell_type": "markdown",
   "metadata": {},
   "source": [
    "##### Weighted SVC with 'rbf' kernel "
   ]
  },
  {
   "cell_type": "code",
   "execution_count": 141,
   "metadata": {
    "ExecuteTime": {
     "end_time": "2020-04-14T02:27:36.655054Z",
     "start_time": "2020-04-14T02:27:36.651055Z"
    }
   },
   "outputs": [],
   "source": [
    "X = X_train_combined_VPC_cw_up\n",
    "Y = y_train"
   ]
  },
  {
   "cell_type": "code",
   "execution_count": 142,
   "metadata": {
    "ExecuteTime": {
     "end_time": "2020-04-14T02:27:36.668045Z",
     "start_time": "2020-04-14T02:27:36.659050Z"
    }
   },
   "outputs": [],
   "source": [
    "# It is usually a good idea to scale the data for SVM training.\n",
    "# We are cheating a bit in this example in scaling all of the data,\n",
    "# instead of fitting the transformation on the trainingset and\n",
    "# just applying it on the test set.\n",
    "\n",
    "# scaler = StandardScaler()\n",
    "# X = scaler.fit_transform(X_train_updated_google)"
   ]
  },
  {
   "cell_type": "code",
   "execution_count": 143,
   "metadata": {
    "ExecuteTime": {
     "end_time": "2020-04-14T02:27:41.878782Z",
     "start_time": "2020-04-14T02:27:36.671046Z"
    }
   },
   "outputs": [
    {
     "data": {
      "text/plain": [
       "GridSearchCV(cv=StratifiedKFold(n_splits=10, random_state=None, shuffle=False),\n",
       "             error_score=nan,\n",
       "             estimator=SVC(C=1.0, break_ties=False, cache_size=200,\n",
       "                           class_weight=None, coef0=0.0,\n",
       "                           decision_function_shape='ovr', degree=3,\n",
       "                           gamma='scale', kernel='rbf', max_iter=-1,\n",
       "                           probability=False, random_state=None, shrinking=True,\n",
       "                           tol=0.001, verbose=False),\n",
       "             iid='deprecated', n_jobs...\n",
       "       3.20000e+01, 1.28000e+02, 5.12000e+02, 2.04800e+03, 8.19200e+03,\n",
       "       3.27680e+04, 1.31072e+05]),\n",
       "                         'gamma': array([7.62939453e-06, 3.05175781e-05, 1.22070312e-04, 4.88281250e-04,\n",
       "       1.95312500e-03, 7.81250000e-03, 3.12500000e-02, 1.25000000e-01,\n",
       "       5.00000000e-01, 2.00000000e+00, 8.00000000e+00])},\n",
       "             pre_dispatch='2*n_jobs', refit=True, return_train_score=False,\n",
       "             scoring=None, verbose=0)"
      ]
     },
     "execution_count": 143,
     "metadata": {},
     "output_type": "execute_result"
    }
   ],
   "source": [
    "C_range = 2. ** np.arange(-5, 18, 2)\n",
    "gamma_range = 2. ** np.arange(-17, 4, 2)\n",
    "param_grid = dict(gamma=gamma_range, C=C_range)\n",
    "grid = GridSearchCV(SVC(), param_grid=param_grid,\n",
    "                    cv=StratifiedKFold(n_splits=10))\n",
    "grid.fit(X, Y)"
   ]
  },
  {
   "cell_type": "code",
   "execution_count": 144,
   "metadata": {
    "ExecuteTime": {
     "end_time": "2020-04-14T02:27:41.887796Z",
     "start_time": "2020-04-14T02:27:41.880779Z"
    }
   },
   "outputs": [
    {
     "data": {
      "text/plain": [
       "{'gamma': array([7.62939453e-06, 3.05175781e-05, 1.22070312e-04, 4.88281250e-04,\n",
       "        1.95312500e-03, 7.81250000e-03, 3.12500000e-02, 1.25000000e-01,\n",
       "        5.00000000e-01, 2.00000000e+00, 8.00000000e+00]),\n",
       " 'C': array([3.12500e-02, 1.25000e-01, 5.00000e-01, 2.00000e+00, 8.00000e+00,\n",
       "        3.20000e+01, 1.28000e+02, 5.12000e+02, 2.04800e+03, 8.19200e+03,\n",
       "        3.27680e+04, 1.31072e+05])}"
      ]
     },
     "execution_count": 144,
     "metadata": {},
     "output_type": "execute_result"
    }
   ],
   "source": [
    "param_grid"
   ]
  },
  {
   "cell_type": "code",
   "execution_count": 145,
   "metadata": {
    "ExecuteTime": {
     "end_time": "2020-04-14T02:27:41.902767Z",
     "start_time": "2020-04-14T02:27:41.890774Z"
    }
   },
   "outputs": [
    {
     "name": "stdout",
     "output_type": "stream",
     "text": [
      "The best classifier is:  SVC(C=32.0, break_ties=False, cache_size=200, class_weight=None, coef0=0.0,\n",
      "    decision_function_shape='ovr', degree=3, gamma=0.125, kernel='rbf',\n",
      "    max_iter=-1, probability=False, random_state=None, shrinking=True,\n",
      "    tol=0.001, verbose=False)\n"
     ]
    }
   ],
   "source": [
    "print(\"The best classifier is: \", grid.best_estimator_)"
   ]
  },
  {
   "cell_type": "code",
   "execution_count": 146,
   "metadata": {
    "ExecuteTime": {
     "end_time": "2020-04-14T02:27:41.911763Z",
     "start_time": "2020-04-14T02:27:41.906764Z"
    }
   },
   "outputs": [
    {
     "name": "stdout",
     "output_type": "stream",
     "text": [
      "The best parameters are {'C': 32.0, 'gamma': 0.125} with a score of 0.60\n"
     ]
    }
   ],
   "source": [
    "print(\"The best parameters are %s with a score of %0.2f\"\n",
    "      % (grid.best_params_, grid.best_score_))"
   ]
  },
  {
   "cell_type": "code",
   "execution_count": 147,
   "metadata": {
    "ExecuteTime": {
     "end_time": "2020-04-14T02:27:41.929771Z",
     "start_time": "2020-04-14T02:27:41.913762Z"
    }
   },
   "outputs": [
    {
     "data": {
      "text/plain": [
       "SVC(C=32.0, break_ties=False, cache_size=200, class_weight='balanced',\n",
       "    coef0=0.0, decision_function_shape='ovr', degree=3, gamma=0.03125,\n",
       "    kernel='rbf', max_iter=-1, probability=False, random_state=None,\n",
       "    shrinking=True, tol=0.001, verbose=False)"
      ]
     },
     "execution_count": 147,
     "metadata": {},
     "output_type": "execute_result"
    }
   ],
   "source": [
    "clf = SVC(C=32.0, class_weight='balanced', gamma=0.03125, kernel='rbf')\n",
    "clf.fit(X, Y)"
   ]
  },
  {
   "cell_type": "code",
   "execution_count": 148,
   "metadata": {
    "ExecuteTime": {
     "end_time": "2020-04-14T02:27:41.938765Z",
     "start_time": "2020-04-14T02:27:41.932751Z"
    }
   },
   "outputs": [],
   "source": [
    "y_pred = clf.predict(X_val_combined_VPC_cw_up)"
   ]
  },
  {
   "cell_type": "code",
   "execution_count": 149,
   "metadata": {
    "ExecuteTime": {
     "end_time": "2020-04-14T02:27:41.950742Z",
     "start_time": "2020-04-14T02:27:41.940745Z"
    }
   },
   "outputs": [
    {
     "name": "stdout",
     "output_type": "stream",
     "text": [
      "('SVM Accuracy Score -> ', 50.0)\n"
     ]
    }
   ],
   "source": [
    "print((\"SVM Accuracy Score -> \", accuracy_score(y_pred, y_val) * 100))"
   ]
  },
  {
   "cell_type": "code",
   "execution_count": 150,
   "metadata": {
    "ExecuteTime": {
     "end_time": "2020-04-14T02:27:41.968728Z",
     "start_time": "2020-04-14T02:27:41.952738Z"
    },
    "scrolled": false
   },
   "outputs": [
    {
     "name": "stdout",
     "output_type": "stream",
     "text": [
      "              precision    recall  f1-score   support\n",
      "\n",
      "          GC       0.50      0.42      0.45        24\n",
      "        Refl       0.10      0.33      0.15         3\n",
      "        Vert       0.63      0.58      0.60        33\n",
      "\n",
      "    accuracy                           0.50        60\n",
      "   macro avg       0.41      0.44      0.40        60\n",
      "weighted avg       0.55      0.50      0.52        60\n",
      "\n"
     ]
    }
   ],
   "source": [
    "from sklearn.metrics import classification_report\n",
    "print((classification_report(y_val, y_pred, target_names=my_tags)))"
   ]
  },
  {
   "cell_type": "markdown",
   "metadata": {},
   "source": [
    "##### Logistice regression"
   ]
  },
  {
   "cell_type": "code",
   "execution_count": 151,
   "metadata": {
    "ExecuteTime": {
     "end_time": "2020-04-14T02:27:42.031693Z",
     "start_time": "2020-04-14T02:27:41.970727Z"
    },
    "scrolled": false
   },
   "outputs": [
    {
     "name": "stdout",
     "output_type": "stream",
     "text": [
      "accuracy 0.36666666666666664\n",
      "              precision    recall  f1-score   support\n",
      "\n",
      "          GC       0.46      0.54      0.50        24\n",
      "        Refl       0.05      0.33      0.09         3\n",
      "        Vert       0.67      0.24      0.36        33\n",
      "\n",
      "    accuracy                           0.37        60\n",
      "   macro avg       0.39      0.37      0.31        60\n",
      "weighted avg       0.55      0.37      0.40        60\n",
      "\n"
     ]
    }
   ],
   "source": [
    "from sklearn.linear_model import LogisticRegression\n",
    "logreg = LogisticRegression(n_jobs=1, C=1e5)\n",
    "logreg = logreg.fit(X_train_combined_VPC_cw_up, y_train)\n",
    "y_pred = logreg.predict(X_val_combined_VPC_cw_up)\n",
    "print('accuracy %s' % accuracy_score(y_pred, y_val))\n",
    "print(classification_report(y_val, y_pred, target_names=my_tags))"
   ]
  },
  {
   "cell_type": "markdown",
   "metadata": {},
   "source": [
    "##### Weighted logistice regression"
   ]
  },
  {
   "cell_type": "code",
   "execution_count": 152,
   "metadata": {
    "ExecuteTime": {
     "end_time": "2020-04-14T02:27:42.094657Z",
     "start_time": "2020-04-14T02:27:42.034692Z"
    },
    "scrolled": false
   },
   "outputs": [
    {
     "name": "stdout",
     "output_type": "stream",
     "text": [
      "accuracy 0.3333333333333333\n",
      "              precision    recall  f1-score   support\n",
      "\n",
      "          GC       0.42      0.46      0.44        24\n",
      "        Refl       0.05      0.33      0.09         3\n",
      "        Vert       0.57      0.24      0.34        33\n",
      "\n",
      "    accuracy                           0.33        60\n",
      "   macro avg       0.35      0.34      0.29        60\n",
      "weighted avg       0.49      0.33      0.37        60\n",
      "\n"
     ]
    }
   ],
   "source": [
    "from sklearn.linear_model import LogisticRegression\n",
    "logreg = LogisticRegression(n_jobs=1, C=1e5, class_weight='balanced')\n",
    "logreg = logreg.fit(X_train_combined_VPC_cw_up, y_train)\n",
    "y_pred = logreg.predict(X_val_combined_VPC_cw_up)\n",
    "print('accuracy %s' % accuracy_score(y_pred, y_val))\n",
    "print(classification_report(y_val, y_pred, target_names=my_tags))"
   ]
  },
  {
   "cell_type": "markdown",
   "metadata": {},
   "source": [
    "#### 900D combined"
   ]
  },
  {
   "cell_type": "markdown",
   "metadata": {},
   "source": [
    "##### Linear SVM"
   ]
  },
  {
   "cell_type": "code",
   "execution_count": 153,
   "metadata": {
    "ExecuteTime": {
     "end_time": "2020-04-14T02:27:42.118643Z",
     "start_time": "2020-04-14T02:27:42.097655Z"
    },
    "scrolled": true
   },
   "outputs": [
    {
     "data": {
      "text/plain": [
       "SVC(C=1.0, break_ties=False, cache_size=200, class_weight=None, coef0=0.0,\n",
       "    decision_function_shape='ovr', degree=3, gamma='scale', kernel='linear',\n",
       "    max_iter=-1, probability=False, random_state=None, shrinking=True,\n",
       "    tol=0.001, verbose=False)"
      ]
     },
     "execution_count": 153,
     "metadata": {},
     "output_type": "execute_result"
    }
   ],
   "source": [
    "clf = SVC(kernel='linear')\n",
    "clf.fit(X_train_combined_cw900D, y_train)"
   ]
  },
  {
   "cell_type": "code",
   "execution_count": 154,
   "metadata": {
    "ExecuteTime": {
     "end_time": "2020-04-14T02:27:42.135634Z",
     "start_time": "2020-04-14T02:27:42.121642Z"
    }
   },
   "outputs": [],
   "source": [
    "y_pred = clf.predict(X_val_combined_cw900D)"
   ]
  },
  {
   "cell_type": "code",
   "execution_count": 155,
   "metadata": {
    "ExecuteTime": {
     "end_time": "2020-04-14T02:27:42.145628Z",
     "start_time": "2020-04-14T02:27:42.138632Z"
    }
   },
   "outputs": [
    {
     "name": "stdout",
     "output_type": "stream",
     "text": [
      "SVM Accuracy Score ->  40.0\n"
     ]
    }
   ],
   "source": [
    "print(\"SVM Accuracy Score -> \", accuracy_score(y_pred, y_val) * 100)"
   ]
  },
  {
   "cell_type": "code",
   "execution_count": 156,
   "metadata": {
    "ExecuteTime": {
     "end_time": "2020-04-14T02:27:42.166615Z",
     "start_time": "2020-04-14T02:27:42.149626Z"
    }
   },
   "outputs": [
    {
     "name": "stdout",
     "output_type": "stream",
     "text": [
      "              precision    recall  f1-score   support\n",
      "\n",
      "          GC       0.36      0.38      0.37        24\n",
      "        Refl       0.00      0.00      0.00         3\n",
      "        Vert       0.54      0.45      0.49        33\n",
      "\n",
      "    accuracy                           0.40        60\n",
      "   macro avg       0.30      0.28      0.29        60\n",
      "weighted avg       0.44      0.40      0.42        60\n",
      "\n"
     ]
    }
   ],
   "source": [
    "from sklearn.metrics import classification_report\n",
    "print(classification_report(y_val, y_pred, target_names=my_tags))"
   ]
  },
  {
   "cell_type": "markdown",
   "metadata": {},
   "source": [
    "##### Weighted Linear SVM"
   ]
  },
  {
   "cell_type": "code",
   "execution_count": 157,
   "metadata": {
    "ExecuteTime": {
     "end_time": "2020-04-14T02:27:42.184607Z",
     "start_time": "2020-04-14T02:27:42.169614Z"
    },
    "scrolled": true
   },
   "outputs": [
    {
     "data": {
      "text/plain": [
       "SVC(C=1.0, break_ties=False, cache_size=200, class_weight='balanced', coef0=0.0,\n",
       "    decision_function_shape='ovr', degree=3, gamma='scale', kernel='linear',\n",
       "    max_iter=-1, probability=False, random_state=None, shrinking=True,\n",
       "    tol=0.001, verbose=False)"
      ]
     },
     "execution_count": 157,
     "metadata": {},
     "output_type": "execute_result"
    }
   ],
   "source": [
    "clf_balanced_class_weight = SVC(kernel='linear', class_weight='balanced')\n",
    "clf_balanced_class_weight.fit(X_train_combined_cw900D, y_train)"
   ]
  },
  {
   "cell_type": "code",
   "execution_count": 158,
   "metadata": {
    "ExecuteTime": {
     "end_time": "2020-04-14T02:27:42.195599Z",
     "start_time": "2020-04-14T02:27:42.187604Z"
    }
   },
   "outputs": [],
   "source": [
    "y_pred_balanced_class_weight = clf_balanced_class_weight.predict(\n",
    "    X_val_combined_cw900D)"
   ]
  },
  {
   "cell_type": "code",
   "execution_count": 159,
   "metadata": {
    "ExecuteTime": {
     "end_time": "2020-04-14T02:27:42.206592Z",
     "start_time": "2020-04-14T02:27:42.197598Z"
    }
   },
   "outputs": [
    {
     "name": "stdout",
     "output_type": "stream",
     "text": [
      "SVM Accuracy Score ->  40.0\n"
     ]
    }
   ],
   "source": [
    "print(\"SVM Accuracy Score -> \",\n",
    "      accuracy_score(y_pred_balanced_class_weight, y_val) * 100)"
   ]
  },
  {
   "cell_type": "code",
   "execution_count": 160,
   "metadata": {
    "ExecuteTime": {
     "end_time": "2020-04-14T02:27:42.223583Z",
     "start_time": "2020-04-14T02:27:42.208592Z"
    },
    "scrolled": false
   },
   "outputs": [
    {
     "name": "stdout",
     "output_type": "stream",
     "text": [
      "              precision    recall  f1-score   support\n",
      "\n",
      "          GC       0.36      0.38      0.37        24\n",
      "        Refl       0.00      0.00      0.00         3\n",
      "        Vert       0.54      0.45      0.49        33\n",
      "\n",
      "    accuracy                           0.40        60\n",
      "   macro avg       0.30      0.28      0.29        60\n",
      "weighted avg       0.44      0.40      0.42        60\n",
      "\n"
     ]
    }
   ],
   "source": [
    "from sklearn.metrics import classification_report\n",
    "print(\n",
    "    classification_report(y_val,\n",
    "                          y_pred_balanced_class_weight,\n",
    "                          target_names=my_tags))"
   ]
  },
  {
   "cell_type": "markdown",
   "metadata": {},
   "source": [
    "##### SVC with 'rbf' kernel"
   ]
  },
  {
   "cell_type": "code",
   "execution_count": 161,
   "metadata": {
    "ExecuteTime": {
     "end_time": "2020-04-14T02:27:42.231578Z",
     "start_time": "2020-04-14T02:27:42.226581Z"
    }
   },
   "outputs": [],
   "source": [
    "X = X_train_combined_cw900D\n",
    "Y = y_train"
   ]
  },
  {
   "cell_type": "code",
   "execution_count": 162,
   "metadata": {
    "ExecuteTime": {
     "end_time": "2020-04-14T02:27:42.243573Z",
     "start_time": "2020-04-14T02:27:42.234576Z"
    }
   },
   "outputs": [],
   "source": [
    "# It is usually a good idea to scale the data for SVM training.\n",
    "# We are cheating a bit in this example in scaling all of the data,\n",
    "# instead of fitting the transformation on the trainingset and\n",
    "# just applying it on the test set.\n",
    "\n",
    "# scaler = StandardScaler()\n",
    "# X = scaler.fit_transform(X_train_updated_google)"
   ]
  },
  {
   "cell_type": "code",
   "execution_count": 163,
   "metadata": {
    "ExecuteTime": {
     "end_time": "2020-04-14T02:27:51.789185Z",
     "start_time": "2020-04-14T02:27:42.246570Z"
    }
   },
   "outputs": [
    {
     "data": {
      "text/plain": [
       "GridSearchCV(cv=StratifiedKFold(n_splits=10, random_state=None, shuffle=False),\n",
       "             error_score=nan,\n",
       "             estimator=SVC(C=1.0, break_ties=False, cache_size=200,\n",
       "                           class_weight=None, coef0=0.0,\n",
       "                           decision_function_shape='ovr', degree=3,\n",
       "                           gamma='scale', kernel='rbf', max_iter=-1,\n",
       "                           probability=False, random_state=None, shrinking=True,\n",
       "                           tol=0.001, verbose=False),\n",
       "             iid='deprecated', n_jobs...\n",
       "       3.20000e+01, 1.28000e+02, 5.12000e+02, 2.04800e+03, 8.19200e+03,\n",
       "       3.27680e+04, 1.31072e+05]),\n",
       "                         'gamma': array([7.62939453e-06, 3.05175781e-05, 1.22070312e-04, 4.88281250e-04,\n",
       "       1.95312500e-03, 7.81250000e-03, 3.12500000e-02, 1.25000000e-01,\n",
       "       5.00000000e-01, 2.00000000e+00, 8.00000000e+00])},\n",
       "             pre_dispatch='2*n_jobs', refit=True, return_train_score=False,\n",
       "             scoring=None, verbose=0)"
      ]
     },
     "execution_count": 163,
     "metadata": {},
     "output_type": "execute_result"
    }
   ],
   "source": [
    "C_range = 2. ** np.arange(-5, 18, 2)\n",
    "gamma_range = 2. ** np.arange(-17, 4, 2)\n",
    "param_grid = dict(gamma=gamma_range, C=C_range)\n",
    "grid = GridSearchCV(SVC(), param_grid=param_grid,\n",
    "                    cv=StratifiedKFold(n_splits=10))\n",
    "grid.fit(X, Y)"
   ]
  },
  {
   "cell_type": "code",
   "execution_count": 164,
   "metadata": {
    "ExecuteTime": {
     "end_time": "2020-04-14T02:27:51.798180Z",
     "start_time": "2020-04-14T02:27:51.791184Z"
    }
   },
   "outputs": [
    {
     "data": {
      "text/plain": [
       "{'gamma': array([7.62939453e-06, 3.05175781e-05, 1.22070312e-04, 4.88281250e-04,\n",
       "        1.95312500e-03, 7.81250000e-03, 3.12500000e-02, 1.25000000e-01,\n",
       "        5.00000000e-01, 2.00000000e+00, 8.00000000e+00]),\n",
       " 'C': array([3.12500e-02, 1.25000e-01, 5.00000e-01, 2.00000e+00, 8.00000e+00,\n",
       "        3.20000e+01, 1.28000e+02, 5.12000e+02, 2.04800e+03, 8.19200e+03,\n",
       "        3.27680e+04, 1.31072e+05])}"
      ]
     },
     "execution_count": 164,
     "metadata": {},
     "output_type": "execute_result"
    }
   ],
   "source": [
    "param_grid"
   ]
  },
  {
   "cell_type": "code",
   "execution_count": 165,
   "metadata": {
    "ExecuteTime": {
     "end_time": "2020-04-14T02:27:51.812192Z",
     "start_time": "2020-04-14T02:27:51.801178Z"
    }
   },
   "outputs": [
    {
     "name": "stdout",
     "output_type": "stream",
     "text": [
      "The best classifier is:  SVC(C=2.0, break_ties=False, cache_size=200, class_weight=None, coef0=0.0,\n",
      "    decision_function_shape='ovr', degree=3, gamma=0.0078125, kernel='rbf',\n",
      "    max_iter=-1, probability=False, random_state=None, shrinking=True,\n",
      "    tol=0.001, verbose=False)\n"
     ]
    }
   ],
   "source": [
    "print(\"The best classifier is: \", grid.best_estimator_)"
   ]
  },
  {
   "cell_type": "code",
   "execution_count": 166,
   "metadata": {
    "ExecuteTime": {
     "end_time": "2020-04-14T02:27:51.823165Z",
     "start_time": "2020-04-14T02:27:51.815170Z"
    }
   },
   "outputs": [
    {
     "name": "stdout",
     "output_type": "stream",
     "text": [
      "The best parameters are {'C': 2.0, 'gamma': 0.0078125} with a score of 0.57\n"
     ]
    }
   ],
   "source": [
    "print(\"The best parameters are %s with a score of %0.2f\"\n",
    "      % (grid.best_params_, grid.best_score_))"
   ]
  },
  {
   "cell_type": "code",
   "execution_count": 167,
   "metadata": {
    "ExecuteTime": {
     "end_time": "2020-04-14T02:27:51.843155Z",
     "start_time": "2020-04-14T02:27:51.826167Z"
    }
   },
   "outputs": [
    {
     "data": {
      "text/plain": [
       "SVC(C=2.0, break_ties=False, cache_size=200, class_weight=None, coef0=0.0,\n",
       "    decision_function_shape='ovr', degree=3, gamma=0.0078125, kernel='rbf',\n",
       "    max_iter=-1, probability=False, random_state=None, shrinking=True,\n",
       "    tol=0.001, verbose=False)"
      ]
     },
     "execution_count": 167,
     "metadata": {},
     "output_type": "execute_result"
    }
   ],
   "source": [
    "clf = grid.best_estimator_\n",
    "clf.fit(X, Y)"
   ]
  },
  {
   "cell_type": "code",
   "execution_count": 168,
   "metadata": {
    "ExecuteTime": {
     "end_time": "2020-04-14T02:27:51.854148Z",
     "start_time": "2020-04-14T02:27:51.845155Z"
    }
   },
   "outputs": [],
   "source": [
    "y_pred = clf.predict(X_val_combined_cw900D)"
   ]
  },
  {
   "cell_type": "code",
   "execution_count": 169,
   "metadata": {
    "ExecuteTime": {
     "end_time": "2020-04-14T02:27:51.865144Z",
     "start_time": "2020-04-14T02:27:51.857147Z"
    }
   },
   "outputs": [
    {
     "name": "stdout",
     "output_type": "stream",
     "text": [
      "('SVM Accuracy Score -> ', 51.66666666666667)\n"
     ]
    }
   ],
   "source": [
    "print((\"SVM Accuracy Score -> \", accuracy_score(y_pred, y_val) * 100))"
   ]
  },
  {
   "cell_type": "code",
   "execution_count": 170,
   "metadata": {
    "ExecuteTime": {
     "end_time": "2020-04-14T02:27:51.883151Z",
     "start_time": "2020-04-14T02:27:51.870141Z"
    },
    "scrolled": true
   },
   "outputs": [
    {
     "name": "stdout",
     "output_type": "stream",
     "text": [
      "              precision    recall  f1-score   support\n",
      "\n",
      "          GC       0.50      0.25      0.33        24\n",
      "        Refl       0.22      0.67      0.33         3\n",
      "        Vert       0.59      0.70      0.64        33\n",
      "\n",
      "    accuracy                           0.52        60\n",
      "   macro avg       0.44      0.54      0.44        60\n",
      "weighted avg       0.54      0.52      0.50        60\n",
      "\n"
     ]
    }
   ],
   "source": [
    "from sklearn.metrics import classification_report\n",
    "print((classification_report(y_val, y_pred, target_names=my_tags)))"
   ]
  },
  {
   "cell_type": "markdown",
   "metadata": {},
   "source": [
    "##### Weighted SVC with 'rbf' kernel "
   ]
  },
  {
   "cell_type": "code",
   "execution_count": 171,
   "metadata": {
    "ExecuteTime": {
     "end_time": "2020-04-14T02:27:51.890130Z",
     "start_time": "2020-04-14T02:27:51.886130Z"
    }
   },
   "outputs": [],
   "source": [
    "X = X_train_combined_cw900D\n",
    "Y = y_train"
   ]
  },
  {
   "cell_type": "code",
   "execution_count": 172,
   "metadata": {
    "ExecuteTime": {
     "end_time": "2020-04-14T02:27:51.902120Z",
     "start_time": "2020-04-14T02:27:51.893125Z"
    }
   },
   "outputs": [],
   "source": [
    "# It is usually a good idea to scale the data for SVM training.\n",
    "# We are cheating a bit in this example in scaling all of the data,\n",
    "# instead of fitting the transformation on the trainingset and\n",
    "# just applying it on the test set.\n",
    "\n",
    "# scaler = StandardScaler()\n",
    "# X = scaler.fit_transform(X_train_updated_google)"
   ]
  },
  {
   "cell_type": "code",
   "execution_count": 173,
   "metadata": {
    "ExecuteTime": {
     "end_time": "2020-04-14T02:28:01.245711Z",
     "start_time": "2020-04-14T02:27:51.905119Z"
    }
   },
   "outputs": [
    {
     "data": {
      "text/plain": [
       "GridSearchCV(cv=StratifiedKFold(n_splits=10, random_state=None, shuffle=False),\n",
       "             error_score=nan,\n",
       "             estimator=SVC(C=1.0, break_ties=False, cache_size=200,\n",
       "                           class_weight=None, coef0=0.0,\n",
       "                           decision_function_shape='ovr', degree=3,\n",
       "                           gamma='scale', kernel='rbf', max_iter=-1,\n",
       "                           probability=False, random_state=None, shrinking=True,\n",
       "                           tol=0.001, verbose=False),\n",
       "             iid='deprecated', n_jobs...\n",
       "       3.20000e+01, 1.28000e+02, 5.12000e+02, 2.04800e+03, 8.19200e+03,\n",
       "       3.27680e+04, 1.31072e+05]),\n",
       "                         'gamma': array([7.62939453e-06, 3.05175781e-05, 1.22070312e-04, 4.88281250e-04,\n",
       "       1.95312500e-03, 7.81250000e-03, 3.12500000e-02, 1.25000000e-01,\n",
       "       5.00000000e-01, 2.00000000e+00, 8.00000000e+00])},\n",
       "             pre_dispatch='2*n_jobs', refit=True, return_train_score=False,\n",
       "             scoring=None, verbose=0)"
      ]
     },
     "execution_count": 173,
     "metadata": {},
     "output_type": "execute_result"
    }
   ],
   "source": [
    "C_range = 2. ** np.arange(-5, 18, 2)\n",
    "gamma_range = 2. ** np.arange(-17, 4, 2)\n",
    "param_grid = dict(gamma=gamma_range, C=C_range)\n",
    "grid = GridSearchCV(SVC(), param_grid=param_grid,\n",
    "                    cv=StratifiedKFold(n_splits=10))\n",
    "grid.fit(X, Y)"
   ]
  },
  {
   "cell_type": "code",
   "execution_count": 174,
   "metadata": {
    "ExecuteTime": {
     "end_time": "2020-04-14T02:28:01.254707Z",
     "start_time": "2020-04-14T02:28:01.247709Z"
    }
   },
   "outputs": [
    {
     "data": {
      "text/plain": [
       "{'gamma': array([7.62939453e-06, 3.05175781e-05, 1.22070312e-04, 4.88281250e-04,\n",
       "        1.95312500e-03, 7.81250000e-03, 3.12500000e-02, 1.25000000e-01,\n",
       "        5.00000000e-01, 2.00000000e+00, 8.00000000e+00]),\n",
       " 'C': array([3.12500e-02, 1.25000e-01, 5.00000e-01, 2.00000e+00, 8.00000e+00,\n",
       "        3.20000e+01, 1.28000e+02, 5.12000e+02, 2.04800e+03, 8.19200e+03,\n",
       "        3.27680e+04, 1.31072e+05])}"
      ]
     },
     "execution_count": 174,
     "metadata": {},
     "output_type": "execute_result"
    }
   ],
   "source": [
    "param_grid"
   ]
  },
  {
   "cell_type": "code",
   "execution_count": 175,
   "metadata": {
    "ExecuteTime": {
     "end_time": "2020-04-14T02:28:01.268697Z",
     "start_time": "2020-04-14T02:28:01.257705Z"
    }
   },
   "outputs": [
    {
     "name": "stdout",
     "output_type": "stream",
     "text": [
      "The best classifier is:  SVC(C=2.0, break_ties=False, cache_size=200, class_weight=None, coef0=0.0,\n",
      "    decision_function_shape='ovr', degree=3, gamma=0.0078125, kernel='rbf',\n",
      "    max_iter=-1, probability=False, random_state=None, shrinking=True,\n",
      "    tol=0.001, verbose=False)\n"
     ]
    }
   ],
   "source": [
    "print(\"The best classifier is: \", grid.best_estimator_)"
   ]
  },
  {
   "cell_type": "code",
   "execution_count": 176,
   "metadata": {
    "ExecuteTime": {
     "end_time": "2020-04-14T02:28:01.279691Z",
     "start_time": "2020-04-14T02:28:01.270695Z"
    }
   },
   "outputs": [
    {
     "name": "stdout",
     "output_type": "stream",
     "text": [
      "The best parameters are {'C': 2.0, 'gamma': 0.0078125} with a score of 0.57\n"
     ]
    }
   ],
   "source": [
    "print(\"The best parameters are %s with a score of %0.2f\"\n",
    "      % (grid.best_params_, grid.best_score_))"
   ]
  },
  {
   "cell_type": "code",
   "execution_count": 177,
   "metadata": {
    "ExecuteTime": {
     "end_time": "2020-04-14T02:28:01.300688Z",
     "start_time": "2020-04-14T02:28:01.282689Z"
    }
   },
   "outputs": [
    {
     "data": {
      "text/plain": [
       "SVC(C=32.0, break_ties=False, cache_size=200, class_weight='balanced',\n",
       "    coef0=0.0, decision_function_shape='ovr', degree=3, gamma=0.03125,\n",
       "    kernel='rbf', max_iter=-1, probability=False, random_state=None,\n",
       "    shrinking=True, tol=0.001, verbose=False)"
      ]
     },
     "execution_count": 177,
     "metadata": {},
     "output_type": "execute_result"
    }
   ],
   "source": [
    "clf = SVC(C=32.0, class_weight='balanced', gamma=0.03125, kernel='rbf')\n",
    "clf.fit(X, Y)"
   ]
  },
  {
   "cell_type": "code",
   "execution_count": 178,
   "metadata": {
    "ExecuteTime": {
     "end_time": "2020-04-14T02:28:01.312673Z",
     "start_time": "2020-04-14T02:28:01.302677Z"
    }
   },
   "outputs": [],
   "source": [
    "y_pred = clf.predict(X_val_combined_cw900D)"
   ]
  },
  {
   "cell_type": "code",
   "execution_count": 179,
   "metadata": {
    "ExecuteTime": {
     "end_time": "2020-04-14T02:28:01.322667Z",
     "start_time": "2020-04-14T02:28:01.315670Z"
    }
   },
   "outputs": [
    {
     "name": "stdout",
     "output_type": "stream",
     "text": [
      "('SVM Accuracy Score -> ', 50.0)\n"
     ]
    }
   ],
   "source": [
    "print((\"SVM Accuracy Score -> \", accuracy_score(y_pred, y_val) * 100))"
   ]
  },
  {
   "cell_type": "code",
   "execution_count": 180,
   "metadata": {
    "ExecuteTime": {
     "end_time": "2020-04-14T02:28:01.340661Z",
     "start_time": "2020-04-14T02:28:01.324664Z"
    },
    "scrolled": false
   },
   "outputs": [
    {
     "name": "stdout",
     "output_type": "stream",
     "text": [
      "              precision    recall  f1-score   support\n",
      "\n",
      "          GC       0.33      0.08      0.13        24\n",
      "        Refl       0.20      0.33      0.25         3\n",
      "        Vert       0.55      0.82      0.66        33\n",
      "\n",
      "    accuracy                           0.50        60\n",
      "   macro avg       0.36      0.41      0.35        60\n",
      "weighted avg       0.45      0.50      0.43        60\n",
      "\n"
     ]
    }
   ],
   "source": [
    "from sklearn.metrics import classification_report\n",
    "print((classification_report(y_val, y_pred, target_names=my_tags)))"
   ]
  },
  {
   "cell_type": "markdown",
   "metadata": {},
   "source": [
    "##### Logistice regression"
   ]
  },
  {
   "cell_type": "code",
   "execution_count": 181,
   "metadata": {
    "ExecuteTime": {
     "end_time": "2020-04-14T02:28:01.383631Z",
     "start_time": "2020-04-14T02:28:01.343655Z"
    },
    "scrolled": false
   },
   "outputs": [
    {
     "name": "stdout",
     "output_type": "stream",
     "text": [
      "accuracy 0.4666666666666667\n",
      "              precision    recall  f1-score   support\n",
      "\n",
      "          GC       0.40      0.33      0.36        24\n",
      "        Refl       0.00      0.00      0.00         3\n",
      "        Vert       0.57      0.61      0.59        33\n",
      "\n",
      "    accuracy                           0.47        60\n",
      "   macro avg       0.32      0.31      0.32        60\n",
      "weighted avg       0.47      0.47      0.47        60\n",
      "\n"
     ]
    }
   ],
   "source": [
    "from sklearn.linear_model import LogisticRegression\n",
    "logreg = LogisticRegression(n_jobs=1, C=1e5)\n",
    "logreg = logreg.fit(X_train_combined_cw900D, y_train)\n",
    "y_pred = logreg.predict(X_val_combined_cw900D)\n",
    "print('accuracy %s' % accuracy_score(y_pred, y_val))\n",
    "print(classification_report(y_val, y_pred, target_names=my_tags))"
   ]
  },
  {
   "cell_type": "markdown",
   "metadata": {},
   "source": [
    "##### Weighted logistice regression"
   ]
  },
  {
   "cell_type": "code",
   "execution_count": 182,
   "metadata": {
    "ExecuteTime": {
     "end_time": "2020-04-14T02:28:01.426607Z",
     "start_time": "2020-04-14T02:28:01.385630Z"
    },
    "scrolled": false
   },
   "outputs": [
    {
     "name": "stdout",
     "output_type": "stream",
     "text": [
      "accuracy 0.4\n",
      "              precision    recall  f1-score   support\n",
      "\n",
      "          GC       0.38      0.33      0.36        24\n",
      "        Refl       0.00      0.00      0.00         3\n",
      "        Vert       0.53      0.48      0.51        33\n",
      "\n",
      "    accuracy                           0.40        60\n",
      "   macro avg       0.30      0.27      0.29        60\n",
      "weighted avg       0.45      0.40      0.42        60\n",
      "\n"
     ]
    }
   ],
   "source": [
    "from sklearn.linear_model import LogisticRegression\n",
    "logreg = LogisticRegression(n_jobs=1, C=1e5, class_weight='balanced')\n",
    "logreg = logreg.fit(X_train_combined_cw900D, y_train)\n",
    "y_pred = logreg.predict(X_val_combined_cw900D)\n",
    "print('accuracy %s' % accuracy_score(y_pred, y_val))\n",
    "print(classification_report(y_val, y_pred, target_names=my_tags))"
   ]
  },
  {
   "cell_type": "markdown",
   "metadata": {},
   "source": [
    "#### 921D combined"
   ]
  },
  {
   "cell_type": "markdown",
   "metadata": {},
   "source": [
    "##### Linear SVM"
   ]
  },
  {
   "cell_type": "code",
   "execution_count": 183,
   "metadata": {
    "ExecuteTime": {
     "end_time": "2020-04-14T02:28:01.453591Z",
     "start_time": "2020-04-14T02:28:01.428606Z"
    },
    "scrolled": true
   },
   "outputs": [
    {
     "data": {
      "text/plain": [
       "SVC(C=1.0, break_ties=False, cache_size=200, class_weight=None, coef0=0.0,\n",
       "    decision_function_shape='ovr', degree=3, gamma='scale', kernel='linear',\n",
       "    max_iter=-1, probability=False, random_state=None, shrinking=True,\n",
       "    tol=0.001, verbose=False)"
      ]
     },
     "execution_count": 183,
     "metadata": {},
     "output_type": "execute_result"
    }
   ],
   "source": [
    "clf = SVC(kernel='linear')\n",
    "clf.fit(X_train_combined_cw921D, y_train)"
   ]
  },
  {
   "cell_type": "code",
   "execution_count": 184,
   "metadata": {
    "ExecuteTime": {
     "end_time": "2020-04-14T02:28:01.471581Z",
     "start_time": "2020-04-14T02:28:01.455590Z"
    }
   },
   "outputs": [],
   "source": [
    "y_pred = clf.predict(X_val_combined_cw921D)"
   ]
  },
  {
   "cell_type": "code",
   "execution_count": 185,
   "metadata": {
    "ExecuteTime": {
     "end_time": "2020-04-14T02:28:01.480576Z",
     "start_time": "2020-04-14T02:28:01.473580Z"
    }
   },
   "outputs": [
    {
     "name": "stdout",
     "output_type": "stream",
     "text": [
      "SVM Accuracy Score ->  40.0\n"
     ]
    }
   ],
   "source": [
    "print(\"SVM Accuracy Score -> \", accuracy_score(y_pred, y_val) * 100)"
   ]
  },
  {
   "cell_type": "code",
   "execution_count": 186,
   "metadata": {
    "ExecuteTime": {
     "end_time": "2020-04-14T02:28:01.498566Z",
     "start_time": "2020-04-14T02:28:01.483574Z"
    }
   },
   "outputs": [
    {
     "name": "stdout",
     "output_type": "stream",
     "text": [
      "              precision    recall  f1-score   support\n",
      "\n",
      "          GC       0.36      0.38      0.37        24\n",
      "        Refl       0.00      0.00      0.00         3\n",
      "        Vert       0.54      0.45      0.49        33\n",
      "\n",
      "    accuracy                           0.40        60\n",
      "   macro avg       0.30      0.28      0.29        60\n",
      "weighted avg       0.44      0.40      0.42        60\n",
      "\n"
     ]
    }
   ],
   "source": [
    "from sklearn.metrics import classification_report\n",
    "print(classification_report(y_val, y_pred, target_names=my_tags))"
   ]
  },
  {
   "cell_type": "markdown",
   "metadata": {},
   "source": [
    "##### Weighted Linear SVM"
   ]
  },
  {
   "cell_type": "code",
   "execution_count": 187,
   "metadata": {
    "ExecuteTime": {
     "end_time": "2020-04-14T02:28:01.517554Z",
     "start_time": "2020-04-14T02:28:01.500564Z"
    },
    "scrolled": true
   },
   "outputs": [
    {
     "data": {
      "text/plain": [
       "SVC(C=1.0, break_ties=False, cache_size=200, class_weight='balanced', coef0=0.0,\n",
       "    decision_function_shape='ovr', degree=3, gamma='scale', kernel='linear',\n",
       "    max_iter=-1, probability=False, random_state=None, shrinking=True,\n",
       "    tol=0.001, verbose=False)"
      ]
     },
     "execution_count": 187,
     "metadata": {},
     "output_type": "execute_result"
    }
   ],
   "source": [
    "clf_balanced_class_weight = SVC(kernel='linear', class_weight='balanced')\n",
    "clf_balanced_class_weight.fit(X_train_combined_cw921D, y_train)"
   ]
  },
  {
   "cell_type": "code",
   "execution_count": 188,
   "metadata": {
    "ExecuteTime": {
     "end_time": "2020-04-14T02:28:01.528548Z",
     "start_time": "2020-04-14T02:28:01.519556Z"
    }
   },
   "outputs": [],
   "source": [
    "y_pred_balanced_class_weight = clf_balanced_class_weight.predict(\n",
    "    X_val_combined_cw921D)"
   ]
  },
  {
   "cell_type": "code",
   "execution_count": 189,
   "metadata": {
    "ExecuteTime": {
     "end_time": "2020-04-14T02:28:01.538542Z",
     "start_time": "2020-04-14T02:28:01.530547Z"
    }
   },
   "outputs": [
    {
     "name": "stdout",
     "output_type": "stream",
     "text": [
      "SVM Accuracy Score ->  40.0\n"
     ]
    }
   ],
   "source": [
    "print(\"SVM Accuracy Score -> \",\n",
    "      accuracy_score(y_pred_balanced_class_weight, y_val) * 100)"
   ]
  },
  {
   "cell_type": "code",
   "execution_count": 190,
   "metadata": {
    "ExecuteTime": {
     "end_time": "2020-04-14T02:28:01.556531Z",
     "start_time": "2020-04-14T02:28:01.540541Z"
    },
    "scrolled": false
   },
   "outputs": [
    {
     "name": "stdout",
     "output_type": "stream",
     "text": [
      "              precision    recall  f1-score   support\n",
      "\n",
      "          GC       0.36      0.38      0.37        24\n",
      "        Refl       0.00      0.00      0.00         3\n",
      "        Vert       0.54      0.45      0.49        33\n",
      "\n",
      "    accuracy                           0.40        60\n",
      "   macro avg       0.30      0.28      0.29        60\n",
      "weighted avg       0.44      0.40      0.42        60\n",
      "\n"
     ]
    }
   ],
   "source": [
    "from sklearn.metrics import classification_report\n",
    "print(\n",
    "    classification_report(y_val,\n",
    "                          y_pred_balanced_class_weight,\n",
    "                          target_names=my_tags))"
   ]
  },
  {
   "cell_type": "markdown",
   "metadata": {},
   "source": [
    "##### SVC with 'rbf' kernel"
   ]
  },
  {
   "cell_type": "code",
   "execution_count": 191,
   "metadata": {
    "ExecuteTime": {
     "end_time": "2020-04-14T02:28:01.562529Z",
     "start_time": "2020-04-14T02:28:01.559531Z"
    }
   },
   "outputs": [],
   "source": [
    "X = X_train_combined_cw921D\n",
    "Y = y_train"
   ]
  },
  {
   "cell_type": "code",
   "execution_count": 192,
   "metadata": {
    "ExecuteTime": {
     "end_time": "2020-04-14T02:28:01.575521Z",
     "start_time": "2020-04-14T02:28:01.564527Z"
    }
   },
   "outputs": [],
   "source": [
    "# It is usually a good idea to scale the data for SVM training.\n",
    "# We are cheating a bit in this example in scaling all of the data,\n",
    "# instead of fitting the transformation on the trainingset and\n",
    "# just applying it on the test set.\n",
    "\n",
    "# scaler = StandardScaler()\n",
    "# X = scaler.fit_transform(X_train_updated_google)"
   ]
  },
  {
   "cell_type": "code",
   "execution_count": 193,
   "metadata": {
    "ExecuteTime": {
     "end_time": "2020-04-14T02:28:11.668065Z",
     "start_time": "2020-04-14T02:28:01.577520Z"
    }
   },
   "outputs": [
    {
     "data": {
      "text/plain": [
       "GridSearchCV(cv=StratifiedKFold(n_splits=10, random_state=None, shuffle=False),\n",
       "             error_score=nan,\n",
       "             estimator=SVC(C=1.0, break_ties=False, cache_size=200,\n",
       "                           class_weight=None, coef0=0.0,\n",
       "                           decision_function_shape='ovr', degree=3,\n",
       "                           gamma='scale', kernel='rbf', max_iter=-1,\n",
       "                           probability=False, random_state=None, shrinking=True,\n",
       "                           tol=0.001, verbose=False),\n",
       "             iid='deprecated', n_jobs...\n",
       "       3.20000e+01, 1.28000e+02, 5.12000e+02, 2.04800e+03, 8.19200e+03,\n",
       "       3.27680e+04, 1.31072e+05]),\n",
       "                         'gamma': array([7.62939453e-06, 3.05175781e-05, 1.22070312e-04, 4.88281250e-04,\n",
       "       1.95312500e-03, 7.81250000e-03, 3.12500000e-02, 1.25000000e-01,\n",
       "       5.00000000e-01, 2.00000000e+00, 8.00000000e+00])},\n",
       "             pre_dispatch='2*n_jobs', refit=True, return_train_score=False,\n",
       "             scoring=None, verbose=0)"
      ]
     },
     "execution_count": 193,
     "metadata": {},
     "output_type": "execute_result"
    }
   ],
   "source": [
    "C_range = 2. ** np.arange(-5, 18, 2)\n",
    "gamma_range = 2. ** np.arange(-17, 4, 2)\n",
    "param_grid = dict(gamma=gamma_range, C=C_range)\n",
    "grid = GridSearchCV(SVC(), param_grid=param_grid,\n",
    "                    cv=StratifiedKFold(n_splits=10))\n",
    "grid.fit(X, Y)"
   ]
  },
  {
   "cell_type": "code",
   "execution_count": 194,
   "metadata": {
    "ExecuteTime": {
     "end_time": "2020-04-14T02:28:11.678060Z",
     "start_time": "2020-04-14T02:28:11.670064Z"
    }
   },
   "outputs": [
    {
     "data": {
      "text/plain": [
       "{'gamma': array([7.62939453e-06, 3.05175781e-05, 1.22070312e-04, 4.88281250e-04,\n",
       "        1.95312500e-03, 7.81250000e-03, 3.12500000e-02, 1.25000000e-01,\n",
       "        5.00000000e-01, 2.00000000e+00, 8.00000000e+00]),\n",
       " 'C': array([3.12500e-02, 1.25000e-01, 5.00000e-01, 2.00000e+00, 8.00000e+00,\n",
       "        3.20000e+01, 1.28000e+02, 5.12000e+02, 2.04800e+03, 8.19200e+03,\n",
       "        3.27680e+04, 1.31072e+05])}"
      ]
     },
     "execution_count": 194,
     "metadata": {},
     "output_type": "execute_result"
    }
   ],
   "source": [
    "param_grid"
   ]
  },
  {
   "cell_type": "code",
   "execution_count": 195,
   "metadata": {
    "ExecuteTime": {
     "end_time": "2020-04-14T02:28:11.690054Z",
     "start_time": "2020-04-14T02:28:11.680061Z"
    }
   },
   "outputs": [
    {
     "name": "stdout",
     "output_type": "stream",
     "text": [
      "The best classifier is:  SVC(C=2.0, break_ties=False, cache_size=200, class_weight=None, coef0=0.0,\n",
      "    decision_function_shape='ovr', degree=3, gamma=0.0078125, kernel='rbf',\n",
      "    max_iter=-1, probability=False, random_state=None, shrinking=True,\n",
      "    tol=0.001, verbose=False)\n"
     ]
    }
   ],
   "source": [
    "print(\"The best classifier is: \", grid.best_estimator_)"
   ]
  },
  {
   "cell_type": "code",
   "execution_count": 196,
   "metadata": {
    "ExecuteTime": {
     "end_time": "2020-04-14T02:28:11.702050Z",
     "start_time": "2020-04-14T02:28:11.692052Z"
    }
   },
   "outputs": [
    {
     "name": "stdout",
     "output_type": "stream",
     "text": [
      "The best parameters are {'C': 2.0, 'gamma': 0.0078125} with a score of 0.57\n"
     ]
    }
   ],
   "source": [
    "print(\"The best parameters are %s with a score of %0.2f\"\n",
    "      % (grid.best_params_, grid.best_score_))"
   ]
  },
  {
   "cell_type": "code",
   "execution_count": 197,
   "metadata": {
    "ExecuteTime": {
     "end_time": "2020-04-14T02:28:11.724034Z",
     "start_time": "2020-04-14T02:28:11.706044Z"
    }
   },
   "outputs": [
    {
     "data": {
      "text/plain": [
       "SVC(C=2.0, break_ties=False, cache_size=200, class_weight=None, coef0=0.0,\n",
       "    decision_function_shape='ovr', degree=3, gamma=0.0078125, kernel='rbf',\n",
       "    max_iter=-1, probability=False, random_state=None, shrinking=True,\n",
       "    tol=0.001, verbose=False)"
      ]
     },
     "execution_count": 197,
     "metadata": {},
     "output_type": "execute_result"
    }
   ],
   "source": [
    "clf = grid.best_estimator_\n",
    "clf.fit(X, Y)"
   ]
  },
  {
   "cell_type": "code",
   "execution_count": 198,
   "metadata": {
    "ExecuteTime": {
     "end_time": "2020-04-14T02:28:11.735043Z",
     "start_time": "2020-04-14T02:28:11.727032Z"
    }
   },
   "outputs": [],
   "source": [
    "y_pred = clf.predict(X_val_combined_cw921D)"
   ]
  },
  {
   "cell_type": "code",
   "execution_count": 199,
   "metadata": {
    "ExecuteTime": {
     "end_time": "2020-04-14T02:28:11.746021Z",
     "start_time": "2020-04-14T02:28:11.738027Z"
    }
   },
   "outputs": [
    {
     "name": "stdout",
     "output_type": "stream",
     "text": [
      "('SVM Accuracy Score -> ', 51.66666666666667)\n"
     ]
    }
   ],
   "source": [
    "print((\"SVM Accuracy Score -> \", accuracy_score(y_pred, y_val) * 100))"
   ]
  },
  {
   "cell_type": "code",
   "execution_count": 200,
   "metadata": {
    "ExecuteTime": {
     "end_time": "2020-04-14T02:28:11.761014Z",
     "start_time": "2020-04-14T02:28:11.748020Z"
    },
    "scrolled": true
   },
   "outputs": [
    {
     "name": "stdout",
     "output_type": "stream",
     "text": [
      "              precision    recall  f1-score   support\n",
      "\n",
      "          GC       0.50      0.25      0.33        24\n",
      "        Refl       0.22      0.67      0.33         3\n",
      "        Vert       0.59      0.70      0.64        33\n",
      "\n",
      "    accuracy                           0.52        60\n",
      "   macro avg       0.44      0.54      0.44        60\n",
      "weighted avg       0.54      0.52      0.50        60\n",
      "\n"
     ]
    }
   ],
   "source": [
    "from sklearn.metrics import classification_report\n",
    "print((classification_report(y_val, y_pred, target_names=my_tags)))"
   ]
  },
  {
   "cell_type": "markdown",
   "metadata": {},
   "source": [
    "##### Weighted SVC with 'rbf' kernel "
   ]
  },
  {
   "cell_type": "code",
   "execution_count": 201,
   "metadata": {
    "ExecuteTime": {
     "end_time": "2020-04-14T02:28:11.769008Z",
     "start_time": "2020-04-14T02:28:11.763011Z"
    }
   },
   "outputs": [],
   "source": [
    "X = X_train_combined_cw921D\n",
    "Y = y_train"
   ]
  },
  {
   "cell_type": "code",
   "execution_count": 202,
   "metadata": {
    "ExecuteTime": {
     "end_time": "2020-04-14T02:28:11.779005Z",
     "start_time": "2020-04-14T02:28:11.771006Z"
    }
   },
   "outputs": [],
   "source": [
    "# It is usually a good idea to scale the data for SVM training.\n",
    "# We are cheating a bit in this example in scaling all of the data,\n",
    "# instead of fitting the transformation on the trainingset and\n",
    "# just applying it on the test set.\n",
    "\n",
    "# scaler = StandardScaler()\n",
    "# X = scaler.fit_transform(X_train_updated_google)"
   ]
  },
  {
   "cell_type": "code",
   "execution_count": 203,
   "metadata": {
    "ExecuteTime": {
     "end_time": "2020-04-14T02:28:21.136046Z",
     "start_time": "2020-04-14T02:28:11.830973Z"
    }
   },
   "outputs": [
    {
     "data": {
      "text/plain": [
       "GridSearchCV(cv=StratifiedKFold(n_splits=10, random_state=None, shuffle=False),\n",
       "             error_score=nan,\n",
       "             estimator=SVC(C=1.0, break_ties=False, cache_size=200,\n",
       "                           class_weight=None, coef0=0.0,\n",
       "                           decision_function_shape='ovr', degree=3,\n",
       "                           gamma='scale', kernel='rbf', max_iter=-1,\n",
       "                           probability=False, random_state=None, shrinking=True,\n",
       "                           tol=0.001, verbose=False),\n",
       "             iid='deprecated', n_jobs...\n",
       "       3.20000e+01, 1.28000e+02, 5.12000e+02, 2.04800e+03, 8.19200e+03,\n",
       "       3.27680e+04, 1.31072e+05]),\n",
       "                         'gamma': array([7.62939453e-06, 3.05175781e-05, 1.22070312e-04, 4.88281250e-04,\n",
       "       1.95312500e-03, 7.81250000e-03, 3.12500000e-02, 1.25000000e-01,\n",
       "       5.00000000e-01, 2.00000000e+00, 8.00000000e+00])},\n",
       "             pre_dispatch='2*n_jobs', refit=True, return_train_score=False,\n",
       "             scoring=None, verbose=0)"
      ]
     },
     "execution_count": 203,
     "metadata": {},
     "output_type": "execute_result"
    }
   ],
   "source": [
    "C_range = 2. ** np.arange(-5, 18, 2)\n",
    "gamma_range = 2. ** np.arange(-17, 4, 2)\n",
    "param_grid = dict(gamma=gamma_range, C=C_range)\n",
    "grid = GridSearchCV(SVC(), param_grid=param_grid,\n",
    "                    cv=StratifiedKFold(n_splits=10))\n",
    "grid.fit(X, Y)"
   ]
  },
  {
   "cell_type": "code",
   "execution_count": 204,
   "metadata": {
    "ExecuteTime": {
     "end_time": "2020-04-14T02:28:21.156035Z",
     "start_time": "2020-04-14T02:28:21.148039Z"
    }
   },
   "outputs": [
    {
     "data": {
      "text/plain": [
       "{'gamma': array([7.62939453e-06, 3.05175781e-05, 1.22070312e-04, 4.88281250e-04,\n",
       "        1.95312500e-03, 7.81250000e-03, 3.12500000e-02, 1.25000000e-01,\n",
       "        5.00000000e-01, 2.00000000e+00, 8.00000000e+00]),\n",
       " 'C': array([3.12500e-02, 1.25000e-01, 5.00000e-01, 2.00000e+00, 8.00000e+00,\n",
       "        3.20000e+01, 1.28000e+02, 5.12000e+02, 2.04800e+03, 8.19200e+03,\n",
       "        3.27680e+04, 1.31072e+05])}"
      ]
     },
     "execution_count": 204,
     "metadata": {},
     "output_type": "execute_result"
    }
   ],
   "source": [
    "param_grid"
   ]
  },
  {
   "cell_type": "code",
   "execution_count": 205,
   "metadata": {
    "ExecuteTime": {
     "end_time": "2020-04-14T02:28:21.171026Z",
     "start_time": "2020-04-14T02:28:21.161032Z"
    }
   },
   "outputs": [
    {
     "name": "stdout",
     "output_type": "stream",
     "text": [
      "The best classifier is:  SVC(C=2.0, break_ties=False, cache_size=200, class_weight=None, coef0=0.0,\n",
      "    decision_function_shape='ovr', degree=3, gamma=0.0078125, kernel='rbf',\n",
      "    max_iter=-1, probability=False, random_state=None, shrinking=True,\n",
      "    tol=0.001, verbose=False)\n"
     ]
    }
   ],
   "source": [
    "print(\"The best classifier is: \", grid.best_estimator_)"
   ]
  },
  {
   "cell_type": "code",
   "execution_count": 206,
   "metadata": {
    "ExecuteTime": {
     "end_time": "2020-04-14T02:28:21.183019Z",
     "start_time": "2020-04-14T02:28:21.174024Z"
    }
   },
   "outputs": [
    {
     "name": "stdout",
     "output_type": "stream",
     "text": [
      "The best parameters are {'C': 2.0, 'gamma': 0.0078125} with a score of 0.57\n"
     ]
    }
   ],
   "source": [
    "print(\"The best parameters are %s with a score of %0.2f\"\n",
    "      % (grid.best_params_, grid.best_score_))"
   ]
  },
  {
   "cell_type": "code",
   "execution_count": 207,
   "metadata": {
    "ExecuteTime": {
     "end_time": "2020-04-14T02:28:21.207006Z",
     "start_time": "2020-04-14T02:28:21.186017Z"
    }
   },
   "outputs": [
    {
     "data": {
      "text/plain": [
       "SVC(C=32.0, break_ties=False, cache_size=200, class_weight='balanced',\n",
       "    coef0=0.0, decision_function_shape='ovr', degree=3, gamma=0.03125,\n",
       "    kernel='rbf', max_iter=-1, probability=False, random_state=None,\n",
       "    shrinking=True, tol=0.001, verbose=False)"
      ]
     },
     "execution_count": 207,
     "metadata": {},
     "output_type": "execute_result"
    }
   ],
   "source": [
    "clf = SVC(C=32.0, class_weight='balanced', gamma=0.03125, kernel='rbf')\n",
    "clf.fit(X, Y)"
   ]
  },
  {
   "cell_type": "code",
   "execution_count": 208,
   "metadata": {
    "ExecuteTime": {
     "end_time": "2020-04-14T02:28:21.219999Z",
     "start_time": "2020-04-14T02:28:21.212003Z"
    }
   },
   "outputs": [],
   "source": [
    "y_pred = clf.predict(X_val_combined_cw921D)"
   ]
  },
  {
   "cell_type": "code",
   "execution_count": 209,
   "metadata": {
    "ExecuteTime": {
     "end_time": "2020-04-14T02:28:21.230992Z",
     "start_time": "2020-04-14T02:28:21.222996Z"
    }
   },
   "outputs": [
    {
     "name": "stdout",
     "output_type": "stream",
     "text": [
      "('SVM Accuracy Score -> ', 51.66666666666667)\n"
     ]
    }
   ],
   "source": [
    "print((\"SVM Accuracy Score -> \", accuracy_score(y_pred, y_val) * 100))"
   ]
  },
  {
   "cell_type": "code",
   "execution_count": 210,
   "metadata": {
    "ExecuteTime": {
     "end_time": "2020-04-14T02:28:21.247983Z",
     "start_time": "2020-04-14T02:28:21.233991Z"
    },
    "scrolled": false
   },
   "outputs": [
    {
     "name": "stdout",
     "output_type": "stream",
     "text": [
      "              precision    recall  f1-score   support\n",
      "\n",
      "          GC       0.40      0.08      0.14        24\n",
      "        Refl       0.33      0.67      0.44         3\n",
      "        Vert       0.55      0.82      0.66        33\n",
      "\n",
      "    accuracy                           0.52        60\n",
      "   macro avg       0.43      0.52      0.41        60\n",
      "weighted avg       0.48      0.52      0.44        60\n",
      "\n"
     ]
    }
   ],
   "source": [
    "from sklearn.metrics import classification_report\n",
    "print((classification_report(y_val, y_pred, target_names=my_tags)))"
   ]
  },
  {
   "cell_type": "markdown",
   "metadata": {},
   "source": [
    "##### Logistice regression"
   ]
  },
  {
   "cell_type": "code",
   "execution_count": 211,
   "metadata": {
    "ExecuteTime": {
     "end_time": "2020-04-14T02:28:21.299953Z",
     "start_time": "2020-04-14T02:28:21.249980Z"
    },
    "scrolled": false
   },
   "outputs": [
    {
     "name": "stdout",
     "output_type": "stream",
     "text": [
      "accuracy 0.45\n",
      "              precision    recall  f1-score   support\n",
      "\n",
      "          GC       0.40      0.33      0.36        24\n",
      "        Refl       0.00      0.00      0.00         3\n",
      "        Vert       0.56      0.58      0.57        33\n",
      "\n",
      "    accuracy                           0.45        60\n",
      "   macro avg       0.32      0.30      0.31        60\n",
      "weighted avg       0.47      0.45      0.46        60\n",
      "\n"
     ]
    }
   ],
   "source": [
    "from sklearn.linear_model import LogisticRegression\n",
    "logreg = LogisticRegression(n_jobs=1, C=1e5)\n",
    "logreg = logreg.fit(X_train_combined_cw921D, y_train)\n",
    "y_pred = logreg.predict(X_val_combined_cw921D)\n",
    "print('accuracy %s' % accuracy_score(y_pred, y_val))\n",
    "print(classification_report(y_val, y_pred, target_names=my_tags))"
   ]
  },
  {
   "cell_type": "markdown",
   "metadata": {},
   "source": [
    "##### Weighted logistice regression"
   ]
  },
  {
   "cell_type": "code",
   "execution_count": 212,
   "metadata": {
    "ExecuteTime": {
     "end_time": "2020-04-14T02:28:21.341928Z",
     "start_time": "2020-04-14T02:28:21.301951Z"
    },
    "scrolled": false
   },
   "outputs": [
    {
     "name": "stdout",
     "output_type": "stream",
     "text": [
      "accuracy 0.4\n",
      "              precision    recall  f1-score   support\n",
      "\n",
      "          GC       0.38      0.33      0.36        24\n",
      "        Refl       0.00      0.00      0.00         3\n",
      "        Vert       0.53      0.48      0.51        33\n",
      "\n",
      "    accuracy                           0.40        60\n",
      "   macro avg       0.30      0.27      0.29        60\n",
      "weighted avg       0.45      0.40      0.42        60\n",
      "\n"
     ]
    }
   ],
   "source": [
    "from sklearn.linear_model import LogisticRegression\n",
    "logreg = LogisticRegression(n_jobs=1, C=1e5, class_weight='balanced')\n",
    "logreg = logreg.fit(X_train_combined_cw921D, y_train)\n",
    "y_pred = logreg.predict(X_val_combined_cw921D)\n",
    "print('accuracy %s' % accuracy_score(y_pred, y_val))\n",
    "print(classification_report(y_val, y_pred, target_names=my_tags))"
   ]
  },
  {
   "cell_type": "markdown",
   "metadata": {},
   "source": [
    "### Training with BNC word embedding (SkipGram)"
   ]
  },
  {
   "cell_type": "markdown",
   "metadata": {},
   "source": [
    "#### General form "
   ]
  },
  {
   "cell_type": "markdown",
   "metadata": {},
   "source": [
    "##### Linear SVM"
   ]
  },
  {
   "cell_type": "code",
   "execution_count": 213,
   "metadata": {
    "ExecuteTime": {
     "end_time": "2020-04-14T02:28:21.356920Z",
     "start_time": "2020-04-14T02:28:21.343927Z"
    },
    "scrolled": true
   },
   "outputs": [
    {
     "data": {
      "text/plain": [
       "SVC(C=1.0, break_ties=False, cache_size=200, class_weight=None, coef0=0.0,\n",
       "    decision_function_shape='ovr', degree=3, gamma='scale', kernel='linear',\n",
       "    max_iter=-1, probability=False, random_state=None, shrinking=True,\n",
       "    tol=0.001, verbose=False)"
      ]
     },
     "execution_count": 213,
     "metadata": {},
     "output_type": "execute_result"
    }
   ],
   "source": [
    "clf = SVC(kernel='linear')\n",
    "clf.fit(X_train_combined_sg, y_train)"
   ]
  },
  {
   "cell_type": "code",
   "execution_count": 214,
   "metadata": {
    "ExecuteTime": {
     "end_time": "2020-04-14T02:28:21.365914Z",
     "start_time": "2020-04-14T02:28:21.358919Z"
    }
   },
   "outputs": [],
   "source": [
    "y_pred = clf.predict(X_val_combined_sg)"
   ]
  },
  {
   "cell_type": "code",
   "execution_count": 215,
   "metadata": {
    "ExecuteTime": {
     "end_time": "2020-04-14T02:28:21.376908Z",
     "start_time": "2020-04-14T02:28:21.369912Z"
    }
   },
   "outputs": [
    {
     "name": "stdout",
     "output_type": "stream",
     "text": [
      "SVM Accuracy Score ->  43.333333333333336\n"
     ]
    }
   ],
   "source": [
    "print(\"SVM Accuracy Score -> \", accuracy_score(y_pred, y_val) * 100)"
   ]
  },
  {
   "cell_type": "code",
   "execution_count": 216,
   "metadata": {
    "ExecuteTime": {
     "end_time": "2020-04-14T02:28:21.392899Z",
     "start_time": "2020-04-14T02:28:21.379907Z"
    }
   },
   "outputs": [
    {
     "name": "stdout",
     "output_type": "stream",
     "text": [
      "              precision    recall  f1-score   support\n",
      "\n",
      "          GC       0.46      0.54      0.50        24\n",
      "        Refl       0.00      0.00      0.00         3\n",
      "        Vert       0.54      0.39      0.46        33\n",
      "\n",
      "    accuracy                           0.43        60\n",
      "   macro avg       0.34      0.31      0.32        60\n",
      "weighted avg       0.48      0.43      0.45        60\n",
      "\n"
     ]
    }
   ],
   "source": [
    "from sklearn.metrics import classification_report\n",
    "print(classification_report(y_val, y_pred, target_names=my_tags))"
   ]
  },
  {
   "cell_type": "markdown",
   "metadata": {},
   "source": [
    "##### Weighted Linear SVM"
   ]
  },
  {
   "cell_type": "code",
   "execution_count": 217,
   "metadata": {
    "ExecuteTime": {
     "end_time": "2020-04-14T02:28:21.406891Z",
     "start_time": "2020-04-14T02:28:21.394898Z"
    },
    "scrolled": true
   },
   "outputs": [
    {
     "data": {
      "text/plain": [
       "SVC(C=1.0, break_ties=False, cache_size=200, class_weight='balanced', coef0=0.0,\n",
       "    decision_function_shape='ovr', degree=3, gamma='scale', kernel='linear',\n",
       "    max_iter=-1, probability=False, random_state=None, shrinking=True,\n",
       "    tol=0.001, verbose=False)"
      ]
     },
     "execution_count": 217,
     "metadata": {},
     "output_type": "execute_result"
    }
   ],
   "source": [
    "clf_balanced_class_weight = SVC(kernel='linear', class_weight='balanced')\n",
    "clf_balanced_class_weight.fit(X_train_combined_sg, y_train)"
   ]
  },
  {
   "cell_type": "code",
   "execution_count": 218,
   "metadata": {
    "ExecuteTime": {
     "end_time": "2020-04-14T02:28:21.414886Z",
     "start_time": "2020-04-14T02:28:21.408890Z"
    }
   },
   "outputs": [],
   "source": [
    "y_pred_balanced_class_weight = clf_balanced_class_weight.predict(\n",
    "    X_val_combined_sg)"
   ]
  },
  {
   "cell_type": "code",
   "execution_count": 219,
   "metadata": {
    "ExecuteTime": {
     "end_time": "2020-04-14T02:28:21.424880Z",
     "start_time": "2020-04-14T02:28:21.417884Z"
    }
   },
   "outputs": [
    {
     "name": "stdout",
     "output_type": "stream",
     "text": [
      "SVM Accuracy Score ->  43.333333333333336\n"
     ]
    }
   ],
   "source": [
    "print(\"SVM Accuracy Score -> \",\n",
    "      accuracy_score(y_pred_balanced_class_weight, y_val) * 100)"
   ]
  },
  {
   "cell_type": "code",
   "execution_count": 220,
   "metadata": {
    "ExecuteTime": {
     "end_time": "2020-04-14T02:28:21.439873Z",
     "start_time": "2020-04-14T02:28:21.427879Z"
    },
    "scrolled": true
   },
   "outputs": [
    {
     "name": "stdout",
     "output_type": "stream",
     "text": [
      "              precision    recall  f1-score   support\n",
      "\n",
      "          GC       0.46      0.54      0.50        24\n",
      "        Refl       0.00      0.00      0.00         3\n",
      "        Vert       0.54      0.39      0.46        33\n",
      "\n",
      "    accuracy                           0.43        60\n",
      "   macro avg       0.34      0.31      0.32        60\n",
      "weighted avg       0.48      0.43      0.45        60\n",
      "\n"
     ]
    }
   ],
   "source": [
    "from sklearn.metrics import classification_report\n",
    "print(\n",
    "    classification_report(y_val,\n",
    "                          y_pred_balanced_class_weight,\n",
    "                          target_names=my_tags))"
   ]
  },
  {
   "cell_type": "markdown",
   "metadata": {},
   "source": [
    "##### SVC with 'rbf' kernel"
   ]
  },
  {
   "cell_type": "code",
   "execution_count": 221,
   "metadata": {
    "ExecuteTime": {
     "end_time": "2020-04-14T02:28:21.575049Z",
     "start_time": "2020-04-14T02:28:21.441871Z"
    }
   },
   "outputs": [],
   "source": [
    "X = X_train_combined_sg\n",
    "Y = y_train"
   ]
  },
  {
   "cell_type": "code",
   "execution_count": 222,
   "metadata": {
    "ExecuteTime": {
     "end_time": "2020-04-14T02:28:21.585043Z",
     "start_time": "2020-04-14T02:28:21.577046Z"
    }
   },
   "outputs": [],
   "source": [
    "# It is usually a good idea to scale the data for SVM training.\n",
    "# We are cheating a bit in this example in scaling all of the data,\n",
    "# instead of fitting the transformation on the trainingset and\n",
    "# just applying it on the test set.\n",
    "\n",
    "# scaler = StandardScaler()\n",
    "# X = scaler.fit_transform(X_train_updated_google)"
   ]
  },
  {
   "cell_type": "code",
   "execution_count": 223,
   "metadata": {
    "ExecuteTime": {
     "end_time": "2020-04-14T02:28:26.507186Z",
     "start_time": "2020-04-14T02:28:21.588039Z"
    }
   },
   "outputs": [
    {
     "data": {
      "text/plain": [
       "GridSearchCV(cv=StratifiedKFold(n_splits=10, random_state=None, shuffle=False),\n",
       "             error_score=nan,\n",
       "             estimator=SVC(C=1.0, break_ties=False, cache_size=200,\n",
       "                           class_weight=None, coef0=0.0,\n",
       "                           decision_function_shape='ovr', degree=3,\n",
       "                           gamma='scale', kernel='rbf', max_iter=-1,\n",
       "                           probability=False, random_state=None, shrinking=True,\n",
       "                           tol=0.001, verbose=False),\n",
       "             iid='deprecated', n_jobs...\n",
       "       3.20000e+01, 1.28000e+02, 5.12000e+02, 2.04800e+03, 8.19200e+03,\n",
       "       3.27680e+04, 1.31072e+05]),\n",
       "                         'gamma': array([7.62939453e-06, 3.05175781e-05, 1.22070312e-04, 4.88281250e-04,\n",
       "       1.95312500e-03, 7.81250000e-03, 3.12500000e-02, 1.25000000e-01,\n",
       "       5.00000000e-01, 2.00000000e+00, 8.00000000e+00])},\n",
       "             pre_dispatch='2*n_jobs', refit=True, return_train_score=False,\n",
       "             scoring=None, verbose=0)"
      ]
     },
     "execution_count": 223,
     "metadata": {},
     "output_type": "execute_result"
    }
   ],
   "source": [
    "C_range = 2. ** np.arange(-5, 18, 2)\n",
    "gamma_range = 2. ** np.arange(-17, 4, 2)\n",
    "param_grid = dict(gamma=gamma_range, C=C_range)\n",
    "grid = GridSearchCV(SVC(), param_grid=param_grid,\n",
    "                    cv=StratifiedKFold(n_splits=10))\n",
    "grid.fit(X, Y)"
   ]
  },
  {
   "cell_type": "code",
   "execution_count": 224,
   "metadata": {
    "ExecuteTime": {
     "end_time": "2020-04-14T02:28:26.515182Z",
     "start_time": "2020-04-14T02:28:26.509185Z"
    }
   },
   "outputs": [
    {
     "data": {
      "text/plain": [
       "{'gamma': array([7.62939453e-06, 3.05175781e-05, 1.22070312e-04, 4.88281250e-04,\n",
       "        1.95312500e-03, 7.81250000e-03, 3.12500000e-02, 1.25000000e-01,\n",
       "        5.00000000e-01, 2.00000000e+00, 8.00000000e+00]),\n",
       " 'C': array([3.12500e-02, 1.25000e-01, 5.00000e-01, 2.00000e+00, 8.00000e+00,\n",
       "        3.20000e+01, 1.28000e+02, 5.12000e+02, 2.04800e+03, 8.19200e+03,\n",
       "        3.27680e+04, 1.31072e+05])}"
      ]
     },
     "execution_count": 224,
     "metadata": {},
     "output_type": "execute_result"
    }
   ],
   "source": [
    "param_grid"
   ]
  },
  {
   "cell_type": "code",
   "execution_count": 225,
   "metadata": {
    "ExecuteTime": {
     "end_time": "2020-04-14T02:28:26.529174Z",
     "start_time": "2020-04-14T02:28:26.518182Z"
    }
   },
   "outputs": [
    {
     "name": "stdout",
     "output_type": "stream",
     "text": [
      "The best classifier is:  SVC(C=2.0, break_ties=False, cache_size=200, class_weight=None, coef0=0.0,\n",
      "    decision_function_shape='ovr', degree=3, gamma=0.03125, kernel='rbf',\n",
      "    max_iter=-1, probability=False, random_state=None, shrinking=True,\n",
      "    tol=0.001, verbose=False)\n"
     ]
    }
   ],
   "source": [
    "print(\"The best classifier is: \", grid.best_estimator_)"
   ]
  },
  {
   "cell_type": "code",
   "execution_count": 226,
   "metadata": {
    "ExecuteTime": {
     "end_time": "2020-04-14T02:28:26.540170Z",
     "start_time": "2020-04-14T02:28:26.532172Z"
    }
   },
   "outputs": [
    {
     "name": "stdout",
     "output_type": "stream",
     "text": [
      "The best parameters are {'C': 2.0, 'gamma': 0.03125} with a score of 0.48\n"
     ]
    }
   ],
   "source": [
    "print(\"The best parameters are %s with a score of %0.2f\"\n",
    "      % (grid.best_params_, grid.best_score_))"
   ]
  },
  {
   "cell_type": "code",
   "execution_count": 227,
   "metadata": {
    "ExecuteTime": {
     "end_time": "2020-04-14T02:28:26.558157Z",
     "start_time": "2020-04-14T02:28:26.542166Z"
    }
   },
   "outputs": [
    {
     "data": {
      "text/plain": [
       "SVC(C=2.0, break_ties=False, cache_size=200, class_weight=None, coef0=0.0,\n",
       "    decision_function_shape='ovr', degree=3, gamma=0.03125, kernel='rbf',\n",
       "    max_iter=-1, probability=False, random_state=None, shrinking=True,\n",
       "    tol=0.001, verbose=False)"
      ]
     },
     "execution_count": 227,
     "metadata": {},
     "output_type": "execute_result"
    }
   ],
   "source": [
    "clf = grid.best_estimator_\n",
    "clf.fit(X, Y)"
   ]
  },
  {
   "cell_type": "code",
   "execution_count": 228,
   "metadata": {
    "ExecuteTime": {
     "end_time": "2020-04-14T02:28:26.566681Z",
     "start_time": "2020-04-14T02:28:26.560156Z"
    }
   },
   "outputs": [],
   "source": [
    "y_pred = clf.predict(X_val_combined_sg)"
   ]
  },
  {
   "cell_type": "code",
   "execution_count": 229,
   "metadata": {
    "ExecuteTime": {
     "end_time": "2020-04-14T02:28:26.578655Z",
     "start_time": "2020-04-14T02:28:26.568661Z"
    }
   },
   "outputs": [
    {
     "name": "stdout",
     "output_type": "stream",
     "text": [
      "('SVM Accuracy Score -> ', 50.0)\n"
     ]
    }
   ],
   "source": [
    "print((\"SVM Accuracy Score -> \", accuracy_score(y_pred, y_val) * 100))"
   ]
  },
  {
   "cell_type": "code",
   "execution_count": 230,
   "metadata": {
    "ExecuteTime": {
     "end_time": "2020-04-14T02:28:26.596645Z",
     "start_time": "2020-04-14T02:28:26.580654Z"
    },
    "scrolled": true
   },
   "outputs": [
    {
     "name": "stdout",
     "output_type": "stream",
     "text": [
      "              precision    recall  f1-score   support\n",
      "\n",
      "          GC       0.40      0.25      0.31        24\n",
      "        Refl       0.00      0.00      0.00         3\n",
      "        Vert       0.59      0.73      0.65        33\n",
      "\n",
      "    accuracy                           0.50        60\n",
      "   macro avg       0.33      0.33      0.32        60\n",
      "weighted avg       0.48      0.50      0.48        60\n",
      "\n"
     ]
    }
   ],
   "source": [
    "from sklearn.metrics import classification_report\n",
    "print((classification_report(y_val, y_pred, target_names=my_tags)))"
   ]
  },
  {
   "cell_type": "markdown",
   "metadata": {},
   "source": [
    "##### Weighted SVC with 'rbf' kernel "
   ]
  },
  {
   "cell_type": "code",
   "execution_count": 231,
   "metadata": {
    "ExecuteTime": {
     "end_time": "2020-04-14T02:28:26.604640Z",
     "start_time": "2020-04-14T02:28:26.599643Z"
    }
   },
   "outputs": [],
   "source": [
    "X = X_train_combined_sg\n",
    "Y = y_train"
   ]
  },
  {
   "cell_type": "code",
   "execution_count": 232,
   "metadata": {
    "ExecuteTime": {
     "end_time": "2020-04-14T02:28:26.616653Z",
     "start_time": "2020-04-14T02:28:26.606639Z"
    }
   },
   "outputs": [],
   "source": [
    "# It is usually a good idea to scale the data for SVM training.\n",
    "# We are cheating a bit in this example in scaling all of the data,\n",
    "# instead of fitting the transformation on the trainingset and\n",
    "# just applying it on the test set.\n",
    "\n",
    "# scaler = StandardScaler()\n",
    "# X = scaler.fit_transform(X_train_updated_google)"
   ]
  },
  {
   "cell_type": "code",
   "execution_count": 233,
   "metadata": {
    "ExecuteTime": {
     "end_time": "2020-04-14T02:28:31.517906Z",
     "start_time": "2020-04-14T02:28:26.619631Z"
    }
   },
   "outputs": [
    {
     "data": {
      "text/plain": [
       "GridSearchCV(cv=StratifiedKFold(n_splits=10, random_state=None, shuffle=False),\n",
       "             error_score=nan,\n",
       "             estimator=SVC(C=1.0, break_ties=False, cache_size=200,\n",
       "                           class_weight=None, coef0=0.0,\n",
       "                           decision_function_shape='ovr', degree=3,\n",
       "                           gamma='scale', kernel='rbf', max_iter=-1,\n",
       "                           probability=False, random_state=None, shrinking=True,\n",
       "                           tol=0.001, verbose=False),\n",
       "             iid='deprecated', n_jobs...\n",
       "       3.20000e+01, 1.28000e+02, 5.12000e+02, 2.04800e+03, 8.19200e+03,\n",
       "       3.27680e+04, 1.31072e+05]),\n",
       "                         'gamma': array([7.62939453e-06, 3.05175781e-05, 1.22070312e-04, 4.88281250e-04,\n",
       "       1.95312500e-03, 7.81250000e-03, 3.12500000e-02, 1.25000000e-01,\n",
       "       5.00000000e-01, 2.00000000e+00, 8.00000000e+00])},\n",
       "             pre_dispatch='2*n_jobs', refit=True, return_train_score=False,\n",
       "             scoring=None, verbose=0)"
      ]
     },
     "execution_count": 233,
     "metadata": {},
     "output_type": "execute_result"
    }
   ],
   "source": [
    "C_range = 2. ** np.arange(-5, 18, 2)\n",
    "gamma_range = 2. ** np.arange(-17, 4, 2)\n",
    "param_grid = dict(gamma=gamma_range, C=C_range)\n",
    "grid = GridSearchCV(SVC(), param_grid=param_grid,\n",
    "                    cv=StratifiedKFold(n_splits=10))\n",
    "grid.fit(X, Y)"
   ]
  },
  {
   "cell_type": "code",
   "execution_count": 234,
   "metadata": {
    "ExecuteTime": {
     "end_time": "2020-04-14T02:28:31.527897Z",
     "start_time": "2020-04-14T02:28:31.519902Z"
    }
   },
   "outputs": [
    {
     "data": {
      "text/plain": [
       "{'gamma': array([7.62939453e-06, 3.05175781e-05, 1.22070312e-04, 4.88281250e-04,\n",
       "        1.95312500e-03, 7.81250000e-03, 3.12500000e-02, 1.25000000e-01,\n",
       "        5.00000000e-01, 2.00000000e+00, 8.00000000e+00]),\n",
       " 'C': array([3.12500e-02, 1.25000e-01, 5.00000e-01, 2.00000e+00, 8.00000e+00,\n",
       "        3.20000e+01, 1.28000e+02, 5.12000e+02, 2.04800e+03, 8.19200e+03,\n",
       "        3.27680e+04, 1.31072e+05])}"
      ]
     },
     "execution_count": 234,
     "metadata": {},
     "output_type": "execute_result"
    }
   ],
   "source": [
    "param_grid"
   ]
  },
  {
   "cell_type": "code",
   "execution_count": 235,
   "metadata": {
    "ExecuteTime": {
     "end_time": "2020-04-14T02:28:31.543907Z",
     "start_time": "2020-04-14T02:28:31.529896Z"
    }
   },
   "outputs": [
    {
     "name": "stdout",
     "output_type": "stream",
     "text": [
      "The best classifier is:  SVC(C=2.0, break_ties=False, cache_size=200, class_weight=None, coef0=0.0,\n",
      "    decision_function_shape='ovr', degree=3, gamma=0.03125, kernel='rbf',\n",
      "    max_iter=-1, probability=False, random_state=None, shrinking=True,\n",
      "    tol=0.001, verbose=False)\n"
     ]
    }
   ],
   "source": [
    "print(\"The best classifier is: \", grid.best_estimator_)"
   ]
  },
  {
   "cell_type": "code",
   "execution_count": 236,
   "metadata": {
    "ExecuteTime": {
     "end_time": "2020-04-14T02:28:31.555880Z",
     "start_time": "2020-04-14T02:28:31.545888Z"
    }
   },
   "outputs": [
    {
     "name": "stdout",
     "output_type": "stream",
     "text": [
      "The best parameters are {'C': 2.0, 'gamma': 0.03125} with a score of 0.48\n"
     ]
    }
   ],
   "source": [
    "print(\"The best parameters are %s with a score of %0.2f\"\n",
    "      % (grid.best_params_, grid.best_score_))"
   ]
  },
  {
   "cell_type": "code",
   "execution_count": 237,
   "metadata": {
    "ExecuteTime": {
     "end_time": "2020-04-14T02:28:31.575872Z",
     "start_time": "2020-04-14T02:28:31.558879Z"
    }
   },
   "outputs": [
    {
     "data": {
      "text/plain": [
       "SVC(C=32.0, break_ties=False, cache_size=200, class_weight='balanced',\n",
       "    coef0=0.0, decision_function_shape='ovr', degree=3, gamma=0.03125,\n",
       "    kernel='rbf', max_iter=-1, probability=False, random_state=None,\n",
       "    shrinking=True, tol=0.001, verbose=False)"
      ]
     },
     "execution_count": 237,
     "metadata": {},
     "output_type": "execute_result"
    }
   ],
   "source": [
    "clf = SVC(C=32.0, class_weight='balanced', gamma=0.03125, kernel='rbf')\n",
    "clf.fit(X, Y)"
   ]
  },
  {
   "cell_type": "code",
   "execution_count": 238,
   "metadata": {
    "ExecuteTime": {
     "end_time": "2020-04-14T02:28:31.583866Z",
     "start_time": "2020-04-14T02:28:31.578868Z"
    }
   },
   "outputs": [],
   "source": [
    "y_pred = clf.predict(X_val_combined_sg)"
   ]
  },
  {
   "cell_type": "code",
   "execution_count": 239,
   "metadata": {
    "ExecuteTime": {
     "start_time": "2020-04-14T02:22:59.582Z"
    }
   },
   "outputs": [
    {
     "name": "stdout",
     "output_type": "stream",
     "text": [
      "('SVM Accuracy Score -> ', 46.666666666666664)\n"
     ]
    }
   ],
   "source": [
    "print((\"SVM Accuracy Score -> \", accuracy_score(y_pred, y_val) * 100))"
   ]
  },
  {
   "cell_type": "code",
   "execution_count": 240,
   "metadata": {
    "ExecuteTime": {
     "start_time": "2020-04-14T02:22:59.603Z"
    },
    "scrolled": false
   },
   "outputs": [
    {
     "name": "stdout",
     "output_type": "stream",
     "text": [
      "              precision    recall  f1-score   support\n",
      "\n",
      "          GC       0.44      0.50      0.47        24\n",
      "        Refl       0.00      0.00      0.00         3\n",
      "        Vert       0.62      0.48      0.54        33\n",
      "\n",
      "    accuracy                           0.47        60\n",
      "   macro avg       0.35      0.33      0.34        60\n",
      "weighted avg       0.52      0.47      0.49        60\n",
      "\n"
     ]
    }
   ],
   "source": [
    "from sklearn.metrics import classification_report\n",
    "print((classification_report(y_val, y_pred, target_names=my_tags)))"
   ]
  },
  {
   "cell_type": "markdown",
   "metadata": {},
   "source": [
    "##### Logistice regression"
   ]
  },
  {
   "cell_type": "code",
   "execution_count": 241,
   "metadata": {
    "ExecuteTime": {
     "start_time": "2020-04-14T02:22:59.626Z"
    },
    "scrolled": true
   },
   "outputs": [
    {
     "name": "stdout",
     "output_type": "stream",
     "text": [
      "accuracy 0.43333333333333335\n",
      "              precision    recall  f1-score   support\n",
      "\n",
      "          GC       0.46      0.46      0.46        24\n",
      "        Refl       0.00      0.00      0.00         3\n",
      "        Vert       0.60      0.45      0.52        33\n",
      "\n",
      "    accuracy                           0.43        60\n",
      "   macro avg       0.35      0.30      0.33        60\n",
      "weighted avg       0.51      0.43      0.47        60\n",
      "\n"
     ]
    }
   ],
   "source": [
    "from sklearn.linear_model import LogisticRegression\n",
    "logreg = LogisticRegression(n_jobs=1, C=1e5)\n",
    "logreg = logreg.fit(X_train_combined_sg, y_train)\n",
    "y_pred = logreg.predict(X_val_combined_sg)\n",
    "print('accuracy %s' % accuracy_score(y_pred, y_val))\n",
    "print(classification_report(y_val, y_pred, target_names=my_tags))"
   ]
  },
  {
   "cell_type": "markdown",
   "metadata": {},
   "source": [
    "##### Weighted logistice regression"
   ]
  },
  {
   "cell_type": "code",
   "execution_count": 242,
   "metadata": {
    "ExecuteTime": {
     "start_time": "2020-04-14T02:22:59.650Z"
    },
    "scrolled": true
   },
   "outputs": [
    {
     "name": "stdout",
     "output_type": "stream",
     "text": [
      "accuracy 0.45\n",
      "              precision    recall  f1-score   support\n",
      "\n",
      "          GC       0.50      0.46      0.48        24\n",
      "        Refl       0.00      0.00      0.00         3\n",
      "        Vert       0.59      0.48      0.53        33\n",
      "\n",
      "    accuracy                           0.45        60\n",
      "   macro avg       0.36      0.31      0.34        60\n",
      "weighted avg       0.53      0.45      0.48        60\n",
      "\n"
     ]
    }
   ],
   "source": [
    "from sklearn.linear_model import LogisticRegression\n",
    "logreg = LogisticRegression(n_jobs=1, C=1e5, class_weight='balanced')\n",
    "logreg = logreg.fit(X_train_combined_sg, y_train)\n",
    "y_pred = logreg.predict(X_val_combined_sg)\n",
    "print('accuracy %s' % accuracy_score(y_pred, y_val))\n",
    "print(classification_report(y_val, y_pred, target_names=my_tags))"
   ]
  },
  {
   "cell_type": "markdown",
   "metadata": {},
   "source": [
    "#### _V"
   ]
  },
  {
   "cell_type": "markdown",
   "metadata": {},
   "source": [
    "##### Linear SVM"
   ]
  },
  {
   "cell_type": "code",
   "execution_count": 243,
   "metadata": {
    "ExecuteTime": {
     "start_time": "2020-04-14T02:22:59.688Z"
    },
    "scrolled": true
   },
   "outputs": [
    {
     "data": {
      "text/plain": [
       "SVC(C=1.0, break_ties=False, cache_size=200, class_weight=None, coef0=0.0,\n",
       "    decision_function_shape='ovr', degree=3, gamma='scale', kernel='linear',\n",
       "    max_iter=-1, probability=False, random_state=None, shrinking=True,\n",
       "    tol=0.001, verbose=False)"
      ]
     },
     "execution_count": 243,
     "metadata": {},
     "output_type": "execute_result"
    }
   ],
   "source": [
    "clf = SVC(kernel='linear')\n",
    "clf.fit(X_train_combined_V_sg, y_train)"
   ]
  },
  {
   "cell_type": "code",
   "execution_count": 244,
   "metadata": {
    "ExecuteTime": {
     "start_time": "2020-04-14T02:22:59.707Z"
    }
   },
   "outputs": [],
   "source": [
    "y_pred = clf.predict(X_val_combined_V_sg)"
   ]
  },
  {
   "cell_type": "code",
   "execution_count": 245,
   "metadata": {
    "ExecuteTime": {
     "start_time": "2020-04-14T02:22:59.722Z"
    }
   },
   "outputs": [
    {
     "name": "stdout",
     "output_type": "stream",
     "text": [
      "SVM Accuracy Score ->  36.666666666666664\n"
     ]
    }
   ],
   "source": [
    "print(\"SVM Accuracy Score -> \", accuracy_score(y_pred, y_val) * 100)"
   ]
  },
  {
   "cell_type": "code",
   "execution_count": 246,
   "metadata": {
    "ExecuteTime": {
     "start_time": "2020-04-14T02:22:59.743Z"
    }
   },
   "outputs": [
    {
     "name": "stdout",
     "output_type": "stream",
     "text": [
      "              precision    recall  f1-score   support\n",
      "\n",
      "          GC       0.29      0.21      0.24        24\n",
      "        Refl       0.00      0.00      0.00         3\n",
      "        Vert       0.50      0.52      0.51        33\n",
      "\n",
      "    accuracy                           0.37        60\n",
      "   macro avg       0.26      0.24      0.25        60\n",
      "weighted avg       0.39      0.37      0.38        60\n",
      "\n"
     ]
    }
   ],
   "source": [
    "from sklearn.metrics import classification_report\n",
    "print(classification_report(y_val, y_pred, target_names=my_tags))"
   ]
  },
  {
   "cell_type": "markdown",
   "metadata": {},
   "source": [
    "##### Weighted Linear SVM"
   ]
  },
  {
   "cell_type": "code",
   "execution_count": 247,
   "metadata": {
    "ExecuteTime": {
     "start_time": "2020-04-14T02:22:59.771Z"
    },
    "scrolled": true
   },
   "outputs": [
    {
     "data": {
      "text/plain": [
       "SVC(C=1.0, break_ties=False, cache_size=200, class_weight='balanced', coef0=0.0,\n",
       "    decision_function_shape='ovr', degree=3, gamma='scale', kernel='linear',\n",
       "    max_iter=-1, probability=False, random_state=None, shrinking=True,\n",
       "    tol=0.001, verbose=False)"
      ]
     },
     "execution_count": 247,
     "metadata": {},
     "output_type": "execute_result"
    }
   ],
   "source": [
    "clf_balanced_class_weight = SVC(kernel='linear', class_weight='balanced')\n",
    "clf_balanced_class_weight.fit(X_train_combined_V_sg, y_train)"
   ]
  },
  {
   "cell_type": "code",
   "execution_count": 248,
   "metadata": {
    "ExecuteTime": {
     "start_time": "2020-04-14T02:22:59.791Z"
    }
   },
   "outputs": [],
   "source": [
    "y_pred_balanced_class_weight = clf_balanced_class_weight.predict(\n",
    "    X_val_combined_V_sg)"
   ]
  },
  {
   "cell_type": "code",
   "execution_count": 249,
   "metadata": {
    "ExecuteTime": {
     "start_time": "2020-04-14T02:22:59.814Z"
    }
   },
   "outputs": [
    {
     "name": "stdout",
     "output_type": "stream",
     "text": [
      "SVM Accuracy Score ->  36.666666666666664\n"
     ]
    }
   ],
   "source": [
    "print(\"SVM Accuracy Score -> \",\n",
    "      accuracy_score(y_pred_balanced_class_weight, y_val) * 100)"
   ]
  },
  {
   "cell_type": "code",
   "execution_count": 250,
   "metadata": {
    "ExecuteTime": {
     "start_time": "2020-04-14T02:22:59.840Z"
    },
    "scrolled": true
   },
   "outputs": [
    {
     "name": "stdout",
     "output_type": "stream",
     "text": [
      "              precision    recall  f1-score   support\n",
      "\n",
      "          GC       0.29      0.21      0.24        24\n",
      "        Refl       0.00      0.00      0.00         3\n",
      "        Vert       0.50      0.52      0.51        33\n",
      "\n",
      "    accuracy                           0.37        60\n",
      "   macro avg       0.26      0.24      0.25        60\n",
      "weighted avg       0.39      0.37      0.38        60\n",
      "\n"
     ]
    }
   ],
   "source": [
    "from sklearn.metrics import classification_report\n",
    "print(\n",
    "    classification_report(y_val,\n",
    "                          y_pred_balanced_class_weight,\n",
    "                          target_names=my_tags))"
   ]
  },
  {
   "cell_type": "markdown",
   "metadata": {},
   "source": [
    "##### SVC with 'rbf' kernel"
   ]
  },
  {
   "cell_type": "code",
   "execution_count": 251,
   "metadata": {
    "ExecuteTime": {
     "start_time": "2020-04-14T02:22:59.876Z"
    }
   },
   "outputs": [],
   "source": [
    "X = X_train_combined_V_sg\n",
    "Y = y_train"
   ]
  },
  {
   "cell_type": "code",
   "execution_count": 252,
   "metadata": {
    "ExecuteTime": {
     "start_time": "2020-04-14T02:22:59.898Z"
    }
   },
   "outputs": [],
   "source": [
    "# It is usually a good idea to scale the data for SVM training.\n",
    "# We are cheating a bit in this example in scaling all of the data,\n",
    "# instead of fitting the transformation on the trainingset and\n",
    "# just applying it on the test set.\n",
    "\n",
    "# scaler = StandardScaler()\n",
    "# X = scaler.fit_transform(X_train_updated_google)"
   ]
  },
  {
   "cell_type": "code",
   "execution_count": 253,
   "metadata": {
    "ExecuteTime": {
     "start_time": "2020-04-14T02:22:59.917Z"
    }
   },
   "outputs": [
    {
     "data": {
      "text/plain": [
       "GridSearchCV(cv=StratifiedKFold(n_splits=10, random_state=None, shuffle=False),\n",
       "             error_score=nan,\n",
       "             estimator=SVC(C=1.0, break_ties=False, cache_size=200,\n",
       "                           class_weight=None, coef0=0.0,\n",
       "                           decision_function_shape='ovr', degree=3,\n",
       "                           gamma='scale', kernel='rbf', max_iter=-1,\n",
       "                           probability=False, random_state=None, shrinking=True,\n",
       "                           tol=0.001, verbose=False),\n",
       "             iid='deprecated', n_jobs...\n",
       "       3.20000e+01, 1.28000e+02, 5.12000e+02, 2.04800e+03, 8.19200e+03,\n",
       "       3.27680e+04, 1.31072e+05]),\n",
       "                         'gamma': array([7.62939453e-06, 3.05175781e-05, 1.22070312e-04, 4.88281250e-04,\n",
       "       1.95312500e-03, 7.81250000e-03, 3.12500000e-02, 1.25000000e-01,\n",
       "       5.00000000e-01, 2.00000000e+00, 8.00000000e+00])},\n",
       "             pre_dispatch='2*n_jobs', refit=True, return_train_score=False,\n",
       "             scoring=None, verbose=0)"
      ]
     },
     "execution_count": 253,
     "metadata": {},
     "output_type": "execute_result"
    }
   ],
   "source": [
    "C_range = 2. ** np.arange(-5, 18, 2)\n",
    "gamma_range = 2. ** np.arange(-17, 4, 2)\n",
    "param_grid = dict(gamma=gamma_range, C=C_range)\n",
    "grid = GridSearchCV(SVC(), param_grid=param_grid,\n",
    "                    cv=StratifiedKFold(n_splits=10))\n",
    "grid.fit(X, Y)"
   ]
  },
  {
   "cell_type": "code",
   "execution_count": 254,
   "metadata": {
    "ExecuteTime": {
     "start_time": "2020-04-14T02:22:59.931Z"
    }
   },
   "outputs": [
    {
     "data": {
      "text/plain": [
       "{'gamma': array([7.62939453e-06, 3.05175781e-05, 1.22070312e-04, 4.88281250e-04,\n",
       "        1.95312500e-03, 7.81250000e-03, 3.12500000e-02, 1.25000000e-01,\n",
       "        5.00000000e-01, 2.00000000e+00, 8.00000000e+00]),\n",
       " 'C': array([3.12500e-02, 1.25000e-01, 5.00000e-01, 2.00000e+00, 8.00000e+00,\n",
       "        3.20000e+01, 1.28000e+02, 5.12000e+02, 2.04800e+03, 8.19200e+03,\n",
       "        3.27680e+04, 1.31072e+05])}"
      ]
     },
     "execution_count": 254,
     "metadata": {},
     "output_type": "execute_result"
    }
   ],
   "source": [
    "param_grid"
   ]
  },
  {
   "cell_type": "code",
   "execution_count": 255,
   "metadata": {
    "ExecuteTime": {
     "start_time": "2020-04-14T02:22:59.950Z"
    }
   },
   "outputs": [
    {
     "name": "stdout",
     "output_type": "stream",
     "text": [
      "The best classifier is:  SVC(C=2.0, break_ties=False, cache_size=200, class_weight=None, coef0=0.0,\n",
      "    decision_function_shape='ovr', degree=3, gamma=0.03125, kernel='rbf',\n",
      "    max_iter=-1, probability=False, random_state=None, shrinking=True,\n",
      "    tol=0.001, verbose=False)\n"
     ]
    }
   ],
   "source": [
    "print(\"The best classifier is: \", grid.best_estimator_)"
   ]
  },
  {
   "cell_type": "code",
   "execution_count": 256,
   "metadata": {
    "ExecuteTime": {
     "start_time": "2020-04-14T02:22:59.970Z"
    }
   },
   "outputs": [
    {
     "name": "stdout",
     "output_type": "stream",
     "text": [
      "The best parameters are {'C': 2.0, 'gamma': 0.03125} with a score of 0.47\n"
     ]
    }
   ],
   "source": [
    "print(\"The best parameters are %s with a score of %0.2f\"\n",
    "      % (grid.best_params_, grid.best_score_))"
   ]
  },
  {
   "cell_type": "code",
   "execution_count": 257,
   "metadata": {
    "ExecuteTime": {
     "start_time": "2020-04-14T02:22:59.991Z"
    }
   },
   "outputs": [
    {
     "data": {
      "text/plain": [
       "SVC(C=2.0, break_ties=False, cache_size=200, class_weight=None, coef0=0.0,\n",
       "    decision_function_shape='ovr', degree=3, gamma=0.03125, kernel='rbf',\n",
       "    max_iter=-1, probability=False, random_state=None, shrinking=True,\n",
       "    tol=0.001, verbose=False)"
      ]
     },
     "execution_count": 257,
     "metadata": {},
     "output_type": "execute_result"
    }
   ],
   "source": [
    "clf = grid.best_estimator_\n",
    "clf.fit(X, Y)"
   ]
  },
  {
   "cell_type": "code",
   "execution_count": 258,
   "metadata": {
    "ExecuteTime": {
     "start_time": "2020-04-14T02:23:00.033Z"
    }
   },
   "outputs": [],
   "source": [
    "y_pred = clf.predict(X_val_combined_V_sg)"
   ]
  },
  {
   "cell_type": "code",
   "execution_count": 259,
   "metadata": {
    "ExecuteTime": {
     "start_time": "2020-04-14T02:23:00.054Z"
    }
   },
   "outputs": [
    {
     "name": "stdout",
     "output_type": "stream",
     "text": [
      "('SVM Accuracy Score -> ', 46.666666666666664)\n"
     ]
    }
   ],
   "source": [
    "print((\"SVM Accuracy Score -> \", accuracy_score(y_pred, y_val) * 100))"
   ]
  },
  {
   "cell_type": "code",
   "execution_count": 260,
   "metadata": {
    "ExecuteTime": {
     "start_time": "2020-04-14T02:23:00.070Z"
    },
    "scrolled": true
   },
   "outputs": [
    {
     "name": "stdout",
     "output_type": "stream",
     "text": [
      "              precision    recall  f1-score   support\n",
      "\n",
      "          GC       0.40      0.17      0.24        24\n",
      "        Refl       0.00      0.00      0.00         3\n",
      "        Vert       0.57      0.73      0.64        33\n",
      "\n",
      "    accuracy                           0.47        60\n",
      "   macro avg       0.32      0.30      0.29        60\n",
      "weighted avg       0.47      0.47      0.45        60\n",
      "\n"
     ]
    }
   ],
   "source": [
    "from sklearn.metrics import classification_report\n",
    "print((classification_report(y_val, y_pred, target_names=my_tags)))"
   ]
  },
  {
   "cell_type": "markdown",
   "metadata": {},
   "source": [
    "##### Weighted SVC with 'rbf' kernel "
   ]
  },
  {
   "cell_type": "code",
   "execution_count": 261,
   "metadata": {
    "ExecuteTime": {
     "start_time": "2020-04-14T02:23:00.089Z"
    }
   },
   "outputs": [],
   "source": [
    "X = X_train_combined_V_sg\n",
    "Y = y_train"
   ]
  },
  {
   "cell_type": "code",
   "execution_count": 262,
   "metadata": {
    "ExecuteTime": {
     "start_time": "2020-04-14T02:23:00.107Z"
    }
   },
   "outputs": [],
   "source": [
    "# It is usually a good idea to scale the data for SVM training.\n",
    "# We are cheating a bit in this example in scaling all of the data,\n",
    "# instead of fitting the transformation on the trainingset and\n",
    "# just applying it on the test set.\n",
    "\n",
    "# scaler = StandardScaler()\n",
    "# X = scaler.fit_transform(X_train_updated_google)"
   ]
  },
  {
   "cell_type": "code",
   "execution_count": 263,
   "metadata": {
    "ExecuteTime": {
     "start_time": "2020-04-14T02:23:00.126Z"
    }
   },
   "outputs": [
    {
     "data": {
      "text/plain": [
       "GridSearchCV(cv=StratifiedKFold(n_splits=10, random_state=None, shuffle=False),\n",
       "             error_score=nan,\n",
       "             estimator=SVC(C=1.0, break_ties=False, cache_size=200,\n",
       "                           class_weight=None, coef0=0.0,\n",
       "                           decision_function_shape='ovr', degree=3,\n",
       "                           gamma='scale', kernel='rbf', max_iter=-1,\n",
       "                           probability=False, random_state=None, shrinking=True,\n",
       "                           tol=0.001, verbose=False),\n",
       "             iid='deprecated', n_jobs...\n",
       "       3.20000e+01, 1.28000e+02, 5.12000e+02, 2.04800e+03, 8.19200e+03,\n",
       "       3.27680e+04, 1.31072e+05]),\n",
       "                         'gamma': array([7.62939453e-06, 3.05175781e-05, 1.22070312e-04, 4.88281250e-04,\n",
       "       1.95312500e-03, 7.81250000e-03, 3.12500000e-02, 1.25000000e-01,\n",
       "       5.00000000e-01, 2.00000000e+00, 8.00000000e+00])},\n",
       "             pre_dispatch='2*n_jobs', refit=True, return_train_score=False,\n",
       "             scoring=None, verbose=0)"
      ]
     },
     "execution_count": 263,
     "metadata": {},
     "output_type": "execute_result"
    }
   ],
   "source": [
    "C_range = 2. ** np.arange(-5, 18, 2)\n",
    "gamma_range = 2. ** np.arange(-17, 4, 2)\n",
    "param_grid = dict(gamma=gamma_range, C=C_range)\n",
    "grid = GridSearchCV(SVC(), param_grid=param_grid,\n",
    "                    cv=StratifiedKFold(n_splits=10))\n",
    "grid.fit(X, Y)"
   ]
  },
  {
   "cell_type": "code",
   "execution_count": 264,
   "metadata": {
    "ExecuteTime": {
     "start_time": "2020-04-14T02:23:00.141Z"
    }
   },
   "outputs": [
    {
     "data": {
      "text/plain": [
       "{'gamma': array([7.62939453e-06, 3.05175781e-05, 1.22070312e-04, 4.88281250e-04,\n",
       "        1.95312500e-03, 7.81250000e-03, 3.12500000e-02, 1.25000000e-01,\n",
       "        5.00000000e-01, 2.00000000e+00, 8.00000000e+00]),\n",
       " 'C': array([3.12500e-02, 1.25000e-01, 5.00000e-01, 2.00000e+00, 8.00000e+00,\n",
       "        3.20000e+01, 1.28000e+02, 5.12000e+02, 2.04800e+03, 8.19200e+03,\n",
       "        3.27680e+04, 1.31072e+05])}"
      ]
     },
     "execution_count": 264,
     "metadata": {},
     "output_type": "execute_result"
    }
   ],
   "source": [
    "param_grid"
   ]
  },
  {
   "cell_type": "code",
   "execution_count": 265,
   "metadata": {
    "ExecuteTime": {
     "start_time": "2020-04-14T02:23:00.161Z"
    }
   },
   "outputs": [
    {
     "name": "stdout",
     "output_type": "stream",
     "text": [
      "The best classifier is:  SVC(C=2.0, break_ties=False, cache_size=200, class_weight=None, coef0=0.0,\n",
      "    decision_function_shape='ovr', degree=3, gamma=0.03125, kernel='rbf',\n",
      "    max_iter=-1, probability=False, random_state=None, shrinking=True,\n",
      "    tol=0.001, verbose=False)\n"
     ]
    }
   ],
   "source": [
    "print(\"The best classifier is: \", grid.best_estimator_)"
   ]
  },
  {
   "cell_type": "code",
   "execution_count": 266,
   "metadata": {
    "ExecuteTime": {
     "start_time": "2020-04-14T02:23:00.177Z"
    }
   },
   "outputs": [
    {
     "name": "stdout",
     "output_type": "stream",
     "text": [
      "The best parameters are {'C': 2.0, 'gamma': 0.03125} with a score of 0.47\n"
     ]
    }
   ],
   "source": [
    "print(\"The best parameters are %s with a score of %0.2f\"\n",
    "      % (grid.best_params_, grid.best_score_))"
   ]
  },
  {
   "cell_type": "code",
   "execution_count": 267,
   "metadata": {
    "ExecuteTime": {
     "start_time": "2020-04-14T02:23:00.199Z"
    }
   },
   "outputs": [
    {
     "data": {
      "text/plain": [
       "SVC(C=32.0, break_ties=False, cache_size=200, class_weight='balanced',\n",
       "    coef0=0.0, decision_function_shape='ovr', degree=3, gamma=0.03125,\n",
       "    kernel='rbf', max_iter=-1, probability=False, random_state=None,\n",
       "    shrinking=True, tol=0.001, verbose=False)"
      ]
     },
     "execution_count": 267,
     "metadata": {},
     "output_type": "execute_result"
    }
   ],
   "source": [
    "clf = SVC(C=32.0, class_weight='balanced', gamma=0.03125, kernel='rbf')\n",
    "clf.fit(X, Y)"
   ]
  },
  {
   "cell_type": "code",
   "execution_count": 268,
   "metadata": {
    "ExecuteTime": {
     "start_time": "2020-04-14T02:23:00.218Z"
    }
   },
   "outputs": [],
   "source": [
    "y_pred = clf.predict(X_val_combined_V_sg)"
   ]
  },
  {
   "cell_type": "code",
   "execution_count": 269,
   "metadata": {
    "ExecuteTime": {
     "start_time": "2020-04-14T02:23:00.242Z"
    }
   },
   "outputs": [
    {
     "name": "stdout",
     "output_type": "stream",
     "text": [
      "('SVM Accuracy Score -> ', 43.333333333333336)\n"
     ]
    }
   ],
   "source": [
    "print((\"SVM Accuracy Score -> \", accuracy_score(y_pred, y_val) * 100))"
   ]
  },
  {
   "cell_type": "code",
   "execution_count": 270,
   "metadata": {
    "ExecuteTime": {
     "start_time": "2020-04-14T02:23:00.261Z"
    },
    "scrolled": false
   },
   "outputs": [
    {
     "name": "stdout",
     "output_type": "stream",
     "text": [
      "              precision    recall  f1-score   support\n",
      "\n",
      "          GC       0.40      0.33      0.36        24\n",
      "        Refl       0.00      0.00      0.00         3\n",
      "        Vert       0.56      0.55      0.55        33\n",
      "\n",
      "    accuracy                           0.43        60\n",
      "   macro avg       0.32      0.29      0.31        60\n",
      "weighted avg       0.47      0.43      0.45        60\n",
      "\n"
     ]
    }
   ],
   "source": [
    "from sklearn.metrics import classification_report\n",
    "print((classification_report(y_val, y_pred, target_names=my_tags)))"
   ]
  },
  {
   "cell_type": "markdown",
   "metadata": {},
   "source": [
    "##### Logistice regression"
   ]
  },
  {
   "cell_type": "code",
   "execution_count": 271,
   "metadata": {
    "ExecuteTime": {
     "start_time": "2020-04-14T02:23:00.284Z"
    },
    "scrolled": true
   },
   "outputs": [
    {
     "name": "stdout",
     "output_type": "stream",
     "text": [
      "accuracy 0.4166666666666667\n",
      "              precision    recall  f1-score   support\n",
      "\n",
      "          GC       0.40      0.33      0.36        24\n",
      "        Refl       0.00      0.00      0.00         3\n",
      "        Vert       0.57      0.52      0.54        33\n",
      "\n",
      "    accuracy                           0.42        60\n",
      "   macro avg       0.32      0.28      0.30        60\n",
      "weighted avg       0.47      0.42      0.44        60\n",
      "\n"
     ]
    }
   ],
   "source": [
    "from sklearn.linear_model import LogisticRegression\n",
    "logreg = LogisticRegression(n_jobs=1, C=1e5)\n",
    "logreg = logreg.fit(X_train_combined_V_sg, y_train)\n",
    "y_pred = logreg.predict(X_val_combined_V_sg)\n",
    "print('accuracy %s' % accuracy_score(y_pred, y_val))\n",
    "print(classification_report(y_val, y_pred, target_names=my_tags))"
   ]
  },
  {
   "cell_type": "markdown",
   "metadata": {},
   "source": [
    "##### Weighted logistice regression"
   ]
  },
  {
   "cell_type": "code",
   "execution_count": 272,
   "metadata": {
    "ExecuteTime": {
     "start_time": "2020-04-14T02:23:00.311Z"
    },
    "scrolled": false
   },
   "outputs": [
    {
     "name": "stdout",
     "output_type": "stream",
     "text": [
      "accuracy 0.4166666666666667\n",
      "              precision    recall  f1-score   support\n",
      "\n",
      "          GC       0.40      0.33      0.36        24\n",
      "        Refl       0.00      0.00      0.00         3\n",
      "        Vert       0.57      0.52      0.54        33\n",
      "\n",
      "    accuracy                           0.42        60\n",
      "   macro avg       0.32      0.28      0.30        60\n",
      "weighted avg       0.47      0.42      0.44        60\n",
      "\n"
     ]
    }
   ],
   "source": [
    "from sklearn.linear_model import LogisticRegression\n",
    "logreg = LogisticRegression(n_jobs=1, C=1e5, class_weight='balanced')\n",
    "logreg = logreg.fit(X_train_combined_V_sg, y_train)\n",
    "y_pred = logreg.predict(X_val_combined_V_sg)\n",
    "print('accuracy %s' % accuracy_score(y_pred, y_val))\n",
    "print(classification_report(y_val, y_pred, target_names=my_tags))"
   ]
  },
  {
   "cell_type": "markdown",
   "metadata": {},
   "source": [
    "#### _VPC"
   ]
  },
  {
   "cell_type": "markdown",
   "metadata": {},
   "source": [
    "##### Linear SVM"
   ]
  },
  {
   "cell_type": "code",
   "execution_count": 273,
   "metadata": {
    "ExecuteTime": {
     "start_time": "2020-04-14T02:23:00.343Z"
    },
    "scrolled": true
   },
   "outputs": [
    {
     "data": {
      "text/plain": [
       "SVC(C=1.0, break_ties=False, cache_size=200, class_weight=None, coef0=0.0,\n",
       "    decision_function_shape='ovr', degree=3, gamma='scale', kernel='linear',\n",
       "    max_iter=-1, probability=False, random_state=None, shrinking=True,\n",
       "    tol=0.001, verbose=False)"
      ]
     },
     "execution_count": 273,
     "metadata": {},
     "output_type": "execute_result"
    }
   ],
   "source": [
    "clf = SVC(kernel='linear')\n",
    "clf.fit(X_train_combined_VPC_sg, y_train)"
   ]
  },
  {
   "cell_type": "code",
   "execution_count": 274,
   "metadata": {
    "ExecuteTime": {
     "start_time": "2020-04-14T02:23:00.365Z"
    }
   },
   "outputs": [],
   "source": [
    "y_pred = clf.predict(X_val_combined_VPC_sg)"
   ]
  },
  {
   "cell_type": "code",
   "execution_count": 275,
   "metadata": {
    "ExecuteTime": {
     "start_time": "2020-04-14T02:23:00.385Z"
    }
   },
   "outputs": [
    {
     "name": "stdout",
     "output_type": "stream",
     "text": [
      "SVM Accuracy Score ->  46.666666666666664\n"
     ]
    }
   ],
   "source": [
    "print(\"SVM Accuracy Score -> \", accuracy_score(y_pred, y_val) * 100)"
   ]
  },
  {
   "cell_type": "code",
   "execution_count": 276,
   "metadata": {
    "ExecuteTime": {
     "start_time": "2020-04-14T02:23:00.404Z"
    }
   },
   "outputs": [
    {
     "name": "stdout",
     "output_type": "stream",
     "text": [
      "              precision    recall  f1-score   support\n",
      "\n",
      "          GC       0.52      0.50      0.51        24\n",
      "        Refl       0.07      0.33      0.12         3\n",
      "        Vert       0.65      0.45      0.54        33\n",
      "\n",
      "    accuracy                           0.47        60\n",
      "   macro avg       0.42      0.43      0.39        60\n",
      "weighted avg       0.57      0.47      0.50        60\n",
      "\n"
     ]
    }
   ],
   "source": [
    "from sklearn.metrics import classification_report\n",
    "print(classification_report(y_val, y_pred, target_names=my_tags))"
   ]
  },
  {
   "cell_type": "markdown",
   "metadata": {},
   "source": [
    "##### Weighted Linear SVM"
   ]
  },
  {
   "cell_type": "code",
   "execution_count": 277,
   "metadata": {
    "ExecuteTime": {
     "start_time": "2020-04-14T02:23:00.438Z"
    },
    "scrolled": true
   },
   "outputs": [
    {
     "data": {
      "text/plain": [
       "SVC(C=1.0, break_ties=False, cache_size=200, class_weight='balanced', coef0=0.0,\n",
       "    decision_function_shape='ovr', degree=3, gamma='scale', kernel='linear',\n",
       "    max_iter=-1, probability=False, random_state=None, shrinking=True,\n",
       "    tol=0.001, verbose=False)"
      ]
     },
     "execution_count": 277,
     "metadata": {},
     "output_type": "execute_result"
    }
   ],
   "source": [
    "clf_balanced_class_weight = SVC(kernel='linear', class_weight='balanced')\n",
    "clf_balanced_class_weight.fit(X_train_combined_VPC_sg, y_train)"
   ]
  },
  {
   "cell_type": "code",
   "execution_count": 278,
   "metadata": {
    "ExecuteTime": {
     "start_time": "2020-04-14T02:23:00.458Z"
    }
   },
   "outputs": [],
   "source": [
    "y_pred_balanced_class_weight = clf_balanced_class_weight.predict(\n",
    "    X_val_combined_VPC_sg)"
   ]
  },
  {
   "cell_type": "code",
   "execution_count": 279,
   "metadata": {
    "ExecuteTime": {
     "start_time": "2020-04-14T02:23:00.479Z"
    }
   },
   "outputs": [
    {
     "name": "stdout",
     "output_type": "stream",
     "text": [
      "SVM Accuracy Score ->  46.666666666666664\n"
     ]
    }
   ],
   "source": [
    "print(\"SVM Accuracy Score -> \",\n",
    "      accuracy_score(y_pred_balanced_class_weight, y_val) * 100)"
   ]
  },
  {
   "cell_type": "code",
   "execution_count": 280,
   "metadata": {
    "ExecuteTime": {
     "start_time": "2020-04-14T02:23:00.497Z"
    },
    "scrolled": true
   },
   "outputs": [
    {
     "name": "stdout",
     "output_type": "stream",
     "text": [
      "              precision    recall  f1-score   support\n",
      "\n",
      "          GC       0.52      0.50      0.51        24\n",
      "        Refl       0.07      0.33      0.12         3\n",
      "        Vert       0.65      0.45      0.54        33\n",
      "\n",
      "    accuracy                           0.47        60\n",
      "   macro avg       0.42      0.43      0.39        60\n",
      "weighted avg       0.57      0.47      0.50        60\n",
      "\n"
     ]
    }
   ],
   "source": [
    "from sklearn.metrics import classification_report\n",
    "print(\n",
    "    classification_report(y_val,\n",
    "                          y_pred_balanced_class_weight,\n",
    "                          target_names=my_tags))"
   ]
  },
  {
   "cell_type": "markdown",
   "metadata": {},
   "source": [
    "##### SVC with 'rbf' kernel"
   ]
  },
  {
   "cell_type": "code",
   "execution_count": 281,
   "metadata": {
    "ExecuteTime": {
     "start_time": "2020-04-14T02:23:00.515Z"
    }
   },
   "outputs": [],
   "source": [
    "X = X_train_combined_VPC_sg\n",
    "Y = y_train"
   ]
  },
  {
   "cell_type": "code",
   "execution_count": 282,
   "metadata": {
    "ExecuteTime": {
     "start_time": "2020-04-14T02:23:00.534Z"
    }
   },
   "outputs": [],
   "source": [
    "# It is usually a good idea to scale the data for SVM training.\n",
    "# We are cheating a bit in this example in scaling all of the data,\n",
    "# instead of fitting the transformation on the trainingset and\n",
    "# just applying it on the test set.\n",
    "\n",
    "# scaler = StandardScaler()\n",
    "# X = scaler.fit_transform(X_train_updated_google)"
   ]
  },
  {
   "cell_type": "code",
   "execution_count": 283,
   "metadata": {
    "ExecuteTime": {
     "start_time": "2020-04-14T02:23:00.556Z"
    }
   },
   "outputs": [
    {
     "data": {
      "text/plain": [
       "GridSearchCV(cv=StratifiedKFold(n_splits=10, random_state=None, shuffle=False),\n",
       "             error_score=nan,\n",
       "             estimator=SVC(C=1.0, break_ties=False, cache_size=200,\n",
       "                           class_weight=None, coef0=0.0,\n",
       "                           decision_function_shape='ovr', degree=3,\n",
       "                           gamma='scale', kernel='rbf', max_iter=-1,\n",
       "                           probability=False, random_state=None, shrinking=True,\n",
       "                           tol=0.001, verbose=False),\n",
       "             iid='deprecated', n_jobs...\n",
       "       3.20000e+01, 1.28000e+02, 5.12000e+02, 2.04800e+03, 8.19200e+03,\n",
       "       3.27680e+04, 1.31072e+05]),\n",
       "                         'gamma': array([7.62939453e-06, 3.05175781e-05, 1.22070312e-04, 4.88281250e-04,\n",
       "       1.95312500e-03, 7.81250000e-03, 3.12500000e-02, 1.25000000e-01,\n",
       "       5.00000000e-01, 2.00000000e+00, 8.00000000e+00])},\n",
       "             pre_dispatch='2*n_jobs', refit=True, return_train_score=False,\n",
       "             scoring=None, verbose=0)"
      ]
     },
     "execution_count": 283,
     "metadata": {},
     "output_type": "execute_result"
    }
   ],
   "source": [
    "C_range = 2. ** np.arange(-5, 18, 2)\n",
    "gamma_range = 2. ** np.arange(-17, 4, 2)\n",
    "param_grid = dict(gamma=gamma_range, C=C_range)\n",
    "grid = GridSearchCV(SVC(), param_grid=param_grid,\n",
    "                    cv=StratifiedKFold(n_splits=10))\n",
    "grid.fit(X, Y)"
   ]
  },
  {
   "cell_type": "code",
   "execution_count": 284,
   "metadata": {
    "ExecuteTime": {
     "start_time": "2020-04-14T02:23:00.574Z"
    }
   },
   "outputs": [
    {
     "data": {
      "text/plain": [
       "{'gamma': array([7.62939453e-06, 3.05175781e-05, 1.22070312e-04, 4.88281250e-04,\n",
       "        1.95312500e-03, 7.81250000e-03, 3.12500000e-02, 1.25000000e-01,\n",
       "        5.00000000e-01, 2.00000000e+00, 8.00000000e+00]),\n",
       " 'C': array([3.12500e-02, 1.25000e-01, 5.00000e-01, 2.00000e+00, 8.00000e+00,\n",
       "        3.20000e+01, 1.28000e+02, 5.12000e+02, 2.04800e+03, 8.19200e+03,\n",
       "        3.27680e+04, 1.31072e+05])}"
      ]
     },
     "execution_count": 284,
     "metadata": {},
     "output_type": "execute_result"
    }
   ],
   "source": [
    "param_grid"
   ]
  },
  {
   "cell_type": "code",
   "execution_count": 285,
   "metadata": {
    "ExecuteTime": {
     "start_time": "2020-04-14T02:23:00.588Z"
    }
   },
   "outputs": [
    {
     "name": "stdout",
     "output_type": "stream",
     "text": [
      "The best classifier is:  SVC(C=2.0, break_ties=False, cache_size=200, class_weight=None, coef0=0.0,\n",
      "    decision_function_shape='ovr', degree=3, gamma=0.5, kernel='rbf',\n",
      "    max_iter=-1, probability=False, random_state=None, shrinking=True,\n",
      "    tol=0.001, verbose=False)\n"
     ]
    }
   ],
   "source": [
    "print(\"The best classifier is: \", grid.best_estimator_)"
   ]
  },
  {
   "cell_type": "code",
   "execution_count": 286,
   "metadata": {
    "ExecuteTime": {
     "start_time": "2020-04-14T02:23:00.609Z"
    }
   },
   "outputs": [
    {
     "name": "stdout",
     "output_type": "stream",
     "text": [
      "The best parameters are {'C': 2.0, 'gamma': 0.5} with a score of 0.48\n"
     ]
    }
   ],
   "source": [
    "print(\"The best parameters are %s with a score of %0.2f\"\n",
    "      % (grid.best_params_, grid.best_score_))"
   ]
  },
  {
   "cell_type": "code",
   "execution_count": 287,
   "metadata": {
    "ExecuteTime": {
     "start_time": "2020-04-14T02:23:00.630Z"
    }
   },
   "outputs": [
    {
     "data": {
      "text/plain": [
       "SVC(C=2.0, break_ties=False, cache_size=200, class_weight=None, coef0=0.0,\n",
       "    decision_function_shape='ovr', degree=3, gamma=0.5, kernel='rbf',\n",
       "    max_iter=-1, probability=False, random_state=None, shrinking=True,\n",
       "    tol=0.001, verbose=False)"
      ]
     },
     "execution_count": 287,
     "metadata": {},
     "output_type": "execute_result"
    }
   ],
   "source": [
    "clf = grid.best_estimator_\n",
    "clf.fit(X, Y)"
   ]
  },
  {
   "cell_type": "code",
   "execution_count": 288,
   "metadata": {
    "ExecuteTime": {
     "start_time": "2020-04-14T02:23:00.649Z"
    }
   },
   "outputs": [],
   "source": [
    "y_pred = clf.predict(X_val_combined_VPC_sg)"
   ]
  },
  {
   "cell_type": "code",
   "execution_count": 289,
   "metadata": {
    "ExecuteTime": {
     "start_time": "2020-04-14T02:23:00.670Z"
    }
   },
   "outputs": [
    {
     "name": "stdout",
     "output_type": "stream",
     "text": [
      "('SVM Accuracy Score -> ', 48.333333333333336)\n"
     ]
    }
   ],
   "source": [
    "print((\"SVM Accuracy Score -> \", accuracy_score(y_pred, y_val) * 100))"
   ]
  },
  {
   "cell_type": "code",
   "execution_count": 290,
   "metadata": {
    "ExecuteTime": {
     "start_time": "2020-04-14T02:23:00.691Z"
    },
    "scrolled": true
   },
   "outputs": [
    {
     "name": "stdout",
     "output_type": "stream",
     "text": [
      "              precision    recall  f1-score   support\n",
      "\n",
      "          GC       0.33      0.04      0.07        24\n",
      "        Refl       0.00      0.00      0.00         3\n",
      "        Vert       0.53      0.85      0.65        33\n",
      "\n",
      "    accuracy                           0.48        60\n",
      "   macro avg       0.29      0.30      0.24        60\n",
      "weighted avg       0.42      0.48      0.39        60\n",
      "\n"
     ]
    }
   ],
   "source": [
    "from sklearn.metrics import classification_report\n",
    "print((classification_report(y_val, y_pred, target_names=my_tags)))"
   ]
  },
  {
   "cell_type": "markdown",
   "metadata": {},
   "source": [
    "##### Weighted SVC with 'rbf' kernel "
   ]
  },
  {
   "cell_type": "code",
   "execution_count": 291,
   "metadata": {
    "ExecuteTime": {
     "start_time": "2020-04-14T02:23:00.725Z"
    }
   },
   "outputs": [],
   "source": [
    "X = X_train_combined_VPC_sg\n",
    "Y = y_train"
   ]
  },
  {
   "cell_type": "code",
   "execution_count": 292,
   "metadata": {
    "ExecuteTime": {
     "start_time": "2020-04-14T02:23:00.745Z"
    }
   },
   "outputs": [],
   "source": [
    "# It is usually a good idea to scale the data for SVM training.\n",
    "# We are cheating a bit in this example in scaling all of the data,\n",
    "# instead of fitting the transformation on the trainingset and\n",
    "# just applying it on the test set.\n",
    "\n",
    "# scaler = StandardScaler()\n",
    "# X = scaler.fit_transform(X_train_updated_google)"
   ]
  },
  {
   "cell_type": "code",
   "execution_count": 293,
   "metadata": {
    "ExecuteTime": {
     "start_time": "2020-04-14T02:23:00.767Z"
    }
   },
   "outputs": [
    {
     "data": {
      "text/plain": [
       "GridSearchCV(cv=StratifiedKFold(n_splits=10, random_state=None, shuffle=False),\n",
       "             error_score=nan,\n",
       "             estimator=SVC(C=1.0, break_ties=False, cache_size=200,\n",
       "                           class_weight=None, coef0=0.0,\n",
       "                           decision_function_shape='ovr', degree=3,\n",
       "                           gamma='scale', kernel='rbf', max_iter=-1,\n",
       "                           probability=False, random_state=None, shrinking=True,\n",
       "                           tol=0.001, verbose=False),\n",
       "             iid='deprecated', n_jobs...\n",
       "       3.20000e+01, 1.28000e+02, 5.12000e+02, 2.04800e+03, 8.19200e+03,\n",
       "       3.27680e+04, 1.31072e+05]),\n",
       "                         'gamma': array([7.62939453e-06, 3.05175781e-05, 1.22070312e-04, 4.88281250e-04,\n",
       "       1.95312500e-03, 7.81250000e-03, 3.12500000e-02, 1.25000000e-01,\n",
       "       5.00000000e-01, 2.00000000e+00, 8.00000000e+00])},\n",
       "             pre_dispatch='2*n_jobs', refit=True, return_train_score=False,\n",
       "             scoring=None, verbose=0)"
      ]
     },
     "execution_count": 293,
     "metadata": {},
     "output_type": "execute_result"
    }
   ],
   "source": [
    "C_range = 2. ** np.arange(-5, 18, 2)\n",
    "gamma_range = 2. ** np.arange(-17, 4, 2)\n",
    "param_grid = dict(gamma=gamma_range, C=C_range)\n",
    "grid = GridSearchCV(SVC(), param_grid=param_grid,\n",
    "                    cv=StratifiedKFold(n_splits=10))\n",
    "grid.fit(X, Y)"
   ]
  },
  {
   "cell_type": "code",
   "execution_count": 294,
   "metadata": {
    "ExecuteTime": {
     "start_time": "2020-04-14T02:23:00.788Z"
    }
   },
   "outputs": [
    {
     "data": {
      "text/plain": [
       "{'gamma': array([7.62939453e-06, 3.05175781e-05, 1.22070312e-04, 4.88281250e-04,\n",
       "        1.95312500e-03, 7.81250000e-03, 3.12500000e-02, 1.25000000e-01,\n",
       "        5.00000000e-01, 2.00000000e+00, 8.00000000e+00]),\n",
       " 'C': array([3.12500e-02, 1.25000e-01, 5.00000e-01, 2.00000e+00, 8.00000e+00,\n",
       "        3.20000e+01, 1.28000e+02, 5.12000e+02, 2.04800e+03, 8.19200e+03,\n",
       "        3.27680e+04, 1.31072e+05])}"
      ]
     },
     "execution_count": 294,
     "metadata": {},
     "output_type": "execute_result"
    }
   ],
   "source": [
    "param_grid"
   ]
  },
  {
   "cell_type": "code",
   "execution_count": 295,
   "metadata": {
    "ExecuteTime": {
     "start_time": "2020-04-14T02:23:00.810Z"
    }
   },
   "outputs": [
    {
     "name": "stdout",
     "output_type": "stream",
     "text": [
      "The best classifier is:  SVC(C=2.0, break_ties=False, cache_size=200, class_weight=None, coef0=0.0,\n",
      "    decision_function_shape='ovr', degree=3, gamma=0.5, kernel='rbf',\n",
      "    max_iter=-1, probability=False, random_state=None, shrinking=True,\n",
      "    tol=0.001, verbose=False)\n"
     ]
    }
   ],
   "source": [
    "print(\"The best classifier is: \", grid.best_estimator_)"
   ]
  },
  {
   "cell_type": "code",
   "execution_count": 296,
   "metadata": {
    "ExecuteTime": {
     "start_time": "2020-04-14T02:23:00.831Z"
    }
   },
   "outputs": [
    {
     "name": "stdout",
     "output_type": "stream",
     "text": [
      "The best parameters are {'C': 2.0, 'gamma': 0.5} with a score of 0.48\n"
     ]
    }
   ],
   "source": [
    "print(\"The best parameters are %s with a score of %0.2f\"\n",
    "      % (grid.best_params_, grid.best_score_))"
   ]
  },
  {
   "cell_type": "code",
   "execution_count": 297,
   "metadata": {
    "ExecuteTime": {
     "start_time": "2020-04-14T02:23:00.859Z"
    }
   },
   "outputs": [
    {
     "data": {
      "text/plain": [
       "SVC(C=32.0, break_ties=False, cache_size=200, class_weight='balanced',\n",
       "    coef0=0.0, decision_function_shape='ovr', degree=3, gamma=0.03125,\n",
       "    kernel='rbf', max_iter=-1, probability=False, random_state=None,\n",
       "    shrinking=True, tol=0.001, verbose=False)"
      ]
     },
     "execution_count": 297,
     "metadata": {},
     "output_type": "execute_result"
    }
   ],
   "source": [
    "clf = SVC(C=32.0, class_weight='balanced', gamma=0.03125, kernel='rbf')\n",
    "clf.fit(X, Y)"
   ]
  },
  {
   "cell_type": "code",
   "execution_count": 298,
   "metadata": {
    "ExecuteTime": {
     "start_time": "2020-04-14T02:23:00.879Z"
    }
   },
   "outputs": [],
   "source": [
    "y_pred = clf.predict(X_val_combined_VPC_sg)"
   ]
  },
  {
   "cell_type": "code",
   "execution_count": 299,
   "metadata": {
    "ExecuteTime": {
     "start_time": "2020-04-14T02:23:00.898Z"
    }
   },
   "outputs": [
    {
     "name": "stdout",
     "output_type": "stream",
     "text": [
      "('SVM Accuracy Score -> ', 45.0)\n"
     ]
    }
   ],
   "source": [
    "print((\"SVM Accuracy Score -> \", accuracy_score(y_pred, y_val) * 100))"
   ]
  },
  {
   "cell_type": "code",
   "execution_count": 300,
   "metadata": {
    "ExecuteTime": {
     "start_time": "2020-04-14T02:23:00.913Z"
    },
    "scrolled": false
   },
   "outputs": [
    {
     "name": "stdout",
     "output_type": "stream",
     "text": [
      "              precision    recall  f1-score   support\n",
      "\n",
      "          GC       0.48      0.42      0.44        24\n",
      "        Refl       0.00      0.00      0.00         3\n",
      "        Vert       0.61      0.52      0.56        33\n",
      "\n",
      "    accuracy                           0.45        60\n",
      "   macro avg       0.36      0.31      0.33        60\n",
      "weighted avg       0.52      0.45      0.48        60\n",
      "\n"
     ]
    }
   ],
   "source": [
    "from sklearn.metrics import classification_report\n",
    "print((classification_report(y_val, y_pred, target_names=my_tags)))"
   ]
  },
  {
   "cell_type": "markdown",
   "metadata": {},
   "source": [
    "##### Logistice regression"
   ]
  },
  {
   "cell_type": "code",
   "execution_count": 301,
   "metadata": {
    "ExecuteTime": {
     "start_time": "2020-04-14T02:23:00.938Z"
    },
    "scrolled": false
   },
   "outputs": [
    {
     "name": "stdout",
     "output_type": "stream",
     "text": [
      "accuracy 0.4666666666666667\n",
      "              precision    recall  f1-score   support\n",
      "\n",
      "          GC       0.50      0.50      0.50        24\n",
      "        Refl       0.00      0.00      0.00         3\n",
      "        Vert       0.64      0.48      0.55        33\n",
      "\n",
      "    accuracy                           0.47        60\n",
      "   macro avg       0.38      0.33      0.35        60\n",
      "weighted avg       0.55      0.47      0.50        60\n",
      "\n"
     ]
    }
   ],
   "source": [
    "from sklearn.linear_model import LogisticRegression\n",
    "logreg = LogisticRegression(n_jobs=1, C=1e5)\n",
    "logreg = logreg.fit(X_train_combined_VPC_sg, y_train)\n",
    "y_pred = logreg.predict(X_val_combined_VPC_sg)\n",
    "print('accuracy %s' % accuracy_score(y_pred, y_val))\n",
    "print(classification_report(y_val, y_pred, target_names=my_tags))"
   ]
  },
  {
   "cell_type": "markdown",
   "metadata": {},
   "source": [
    "##### Weighted logistice regression"
   ]
  },
  {
   "cell_type": "code",
   "execution_count": 302,
   "metadata": {
    "ExecuteTime": {
     "start_time": "2020-04-14T02:23:00.955Z"
    },
    "scrolled": true
   },
   "outputs": [
    {
     "name": "stdout",
     "output_type": "stream",
     "text": [
      "accuracy 0.4666666666666667\n",
      "              precision    recall  f1-score   support\n",
      "\n",
      "          GC       0.50      0.50      0.50        24\n",
      "        Refl       0.00      0.00      0.00         3\n",
      "        Vert       0.64      0.48      0.55        33\n",
      "\n",
      "    accuracy                           0.47        60\n",
      "   macro avg       0.38      0.33      0.35        60\n",
      "weighted avg       0.55      0.47      0.50        60\n",
      "\n"
     ]
    }
   ],
   "source": [
    "from sklearn.linear_model import LogisticRegression\n",
    "logreg = LogisticRegression(n_jobs=1, C=1e5, class_weight='balanced')\n",
    "logreg = logreg.fit(X_train_combined_VPC_sg, y_train)\n",
    "y_pred = logreg.predict(X_val_combined_VPC_sg)\n",
    "print('accuracy %s' % accuracy_score(y_pred, y_val))\n",
    "print(classification_report(y_val, y_pred, target_names=my_tags))"
   ]
  },
  {
   "cell_type": "markdown",
   "metadata": {},
   "source": [
    "#### _VPC (up)"
   ]
  },
  {
   "cell_type": "markdown",
   "metadata": {},
   "source": [
    "##### Linear SVM"
   ]
  },
  {
   "cell_type": "code",
   "execution_count": 303,
   "metadata": {
    "ExecuteTime": {
     "start_time": "2020-04-14T02:23:00.976Z"
    },
    "scrolled": true
   },
   "outputs": [
    {
     "data": {
      "text/plain": [
       "SVC(C=1.0, break_ties=False, cache_size=200, class_weight=None, coef0=0.0,\n",
       "    decision_function_shape='ovr', degree=3, gamma='scale', kernel='linear',\n",
       "    max_iter=-1, probability=False, random_state=None, shrinking=True,\n",
       "    tol=0.001, verbose=False)"
      ]
     },
     "execution_count": 303,
     "metadata": {},
     "output_type": "execute_result"
    }
   ],
   "source": [
    "clf = SVC(kernel='linear')\n",
    "clf.fit(X_train_combined_VPC_sg_up, y_train)"
   ]
  },
  {
   "cell_type": "code",
   "execution_count": 304,
   "metadata": {
    "ExecuteTime": {
     "start_time": "2020-04-14T02:23:00.994Z"
    }
   },
   "outputs": [],
   "source": [
    "y_pred = clf.predict(X_val_combined_VPC_sg_up)"
   ]
  },
  {
   "cell_type": "code",
   "execution_count": 305,
   "metadata": {
    "ExecuteTime": {
     "start_time": "2020-04-14T02:23:01.017Z"
    }
   },
   "outputs": [
    {
     "name": "stdout",
     "output_type": "stream",
     "text": [
      "SVM Accuracy Score ->  46.666666666666664\n"
     ]
    }
   ],
   "source": [
    "print(\"SVM Accuracy Score -> \", accuracy_score(y_pred, y_val) * 100)"
   ]
  },
  {
   "cell_type": "code",
   "execution_count": 306,
   "metadata": {
    "ExecuteTime": {
     "start_time": "2020-04-14T02:23:01.038Z"
    }
   },
   "outputs": [
    {
     "name": "stdout",
     "output_type": "stream",
     "text": [
      "              precision    recall  f1-score   support\n",
      "\n",
      "          GC       0.50      0.54      0.52        24\n",
      "        Refl       0.09      0.33      0.14         3\n",
      "        Vert       0.61      0.42      0.50        33\n",
      "\n",
      "    accuracy                           0.47        60\n",
      "   macro avg       0.40      0.43      0.39        60\n",
      "weighted avg       0.54      0.47      0.49        60\n",
      "\n"
     ]
    }
   ],
   "source": [
    "from sklearn.metrics import classification_report\n",
    "print(classification_report(y_val, y_pred, target_names=my_tags))"
   ]
  },
  {
   "cell_type": "markdown",
   "metadata": {},
   "source": [
    "##### Weighted Linear SVM"
   ]
  },
  {
   "cell_type": "code",
   "execution_count": 307,
   "metadata": {
    "ExecuteTime": {
     "start_time": "2020-04-14T02:23:01.058Z"
    },
    "scrolled": true
   },
   "outputs": [
    {
     "data": {
      "text/plain": [
       "SVC(C=1.0, break_ties=False, cache_size=200, class_weight='balanced', coef0=0.0,\n",
       "    decision_function_shape='ovr', degree=3, gamma='scale', kernel='linear',\n",
       "    max_iter=-1, probability=False, random_state=None, shrinking=True,\n",
       "    tol=0.001, verbose=False)"
      ]
     },
     "execution_count": 307,
     "metadata": {},
     "output_type": "execute_result"
    }
   ],
   "source": [
    "clf_balanced_class_weight = SVC(kernel='linear', class_weight='balanced')\n",
    "clf_balanced_class_weight.fit(X_train_combined_VPC_sg_up, y_train)"
   ]
  },
  {
   "cell_type": "code",
   "execution_count": 308,
   "metadata": {
    "ExecuteTime": {
     "start_time": "2020-04-14T02:23:01.074Z"
    }
   },
   "outputs": [],
   "source": [
    "y_pred_balanced_class_weight = clf_balanced_class_weight.predict(\n",
    "    X_val_combined_VPC_sg_up)"
   ]
  },
  {
   "cell_type": "code",
   "execution_count": 309,
   "metadata": {
    "ExecuteTime": {
     "start_time": "2020-04-14T02:23:01.089Z"
    }
   },
   "outputs": [
    {
     "name": "stdout",
     "output_type": "stream",
     "text": [
      "SVM Accuracy Score ->  46.666666666666664\n"
     ]
    }
   ],
   "source": [
    "print(\"SVM Accuracy Score -> \",\n",
    "      accuracy_score(y_pred_balanced_class_weight, y_val) * 100)"
   ]
  },
  {
   "cell_type": "code",
   "execution_count": 310,
   "metadata": {
    "ExecuteTime": {
     "start_time": "2020-04-14T02:23:01.104Z"
    },
    "scrolled": true
   },
   "outputs": [
    {
     "name": "stdout",
     "output_type": "stream",
     "text": [
      "              precision    recall  f1-score   support\n",
      "\n",
      "          GC       0.52      0.54      0.53        24\n",
      "        Refl       0.08      0.33      0.13         3\n",
      "        Vert       0.61      0.42      0.50        33\n",
      "\n",
      "    accuracy                           0.47        60\n",
      "   macro avg       0.40      0.43      0.39        60\n",
      "weighted avg       0.55      0.47      0.49        60\n",
      "\n"
     ]
    }
   ],
   "source": [
    "from sklearn.metrics import classification_report\n",
    "print(\n",
    "    classification_report(y_val,\n",
    "                          y_pred_balanced_class_weight,\n",
    "                          target_names=my_tags))"
   ]
  },
  {
   "cell_type": "markdown",
   "metadata": {},
   "source": [
    "##### SVC with 'rbf' kernel"
   ]
  },
  {
   "cell_type": "code",
   "execution_count": 311,
   "metadata": {
    "ExecuteTime": {
     "start_time": "2020-04-14T02:23:01.120Z"
    }
   },
   "outputs": [],
   "source": [
    "X = X_train_combined_VPC_sg_up\n",
    "Y = y_train"
   ]
  },
  {
   "cell_type": "code",
   "execution_count": 312,
   "metadata": {
    "ExecuteTime": {
     "start_time": "2020-04-14T02:23:01.135Z"
    }
   },
   "outputs": [],
   "source": [
    "# It is usually a good idea to scale the data for SVM training.\n",
    "# We are cheating a bit in this example in scaling all of the data,\n",
    "# instead of fitting the transformation on the trainingset and\n",
    "# just applying it on the test set.\n",
    "\n",
    "# scaler = StandardScaler()\n",
    "# X = scaler.fit_transform(X_train_updated_google)"
   ]
  },
  {
   "cell_type": "code",
   "execution_count": 313,
   "metadata": {
    "ExecuteTime": {
     "start_time": "2020-04-14T02:23:01.148Z"
    }
   },
   "outputs": [
    {
     "data": {
      "text/plain": [
       "GridSearchCV(cv=StratifiedKFold(n_splits=10, random_state=None, shuffle=False),\n",
       "             error_score=nan,\n",
       "             estimator=SVC(C=1.0, break_ties=False, cache_size=200,\n",
       "                           class_weight=None, coef0=0.0,\n",
       "                           decision_function_shape='ovr', degree=3,\n",
       "                           gamma='scale', kernel='rbf', max_iter=-1,\n",
       "                           probability=False, random_state=None, shrinking=True,\n",
       "                           tol=0.001, verbose=False),\n",
       "             iid='deprecated', n_jobs...\n",
       "       3.20000e+01, 1.28000e+02, 5.12000e+02, 2.04800e+03, 8.19200e+03,\n",
       "       3.27680e+04, 1.31072e+05]),\n",
       "                         'gamma': array([7.62939453e-06, 3.05175781e-05, 1.22070312e-04, 4.88281250e-04,\n",
       "       1.95312500e-03, 7.81250000e-03, 3.12500000e-02, 1.25000000e-01,\n",
       "       5.00000000e-01, 2.00000000e+00, 8.00000000e+00])},\n",
       "             pre_dispatch='2*n_jobs', refit=True, return_train_score=False,\n",
       "             scoring=None, verbose=0)"
      ]
     },
     "execution_count": 313,
     "metadata": {},
     "output_type": "execute_result"
    }
   ],
   "source": [
    "C_range = 2. ** np.arange(-5, 18, 2)\n",
    "gamma_range = 2. ** np.arange(-17, 4, 2)\n",
    "param_grid = dict(gamma=gamma_range, C=C_range)\n",
    "grid = GridSearchCV(SVC(), param_grid=param_grid,\n",
    "                    cv=StratifiedKFold(n_splits=10))\n",
    "grid.fit(X, Y)"
   ]
  },
  {
   "cell_type": "code",
   "execution_count": 314,
   "metadata": {
    "ExecuteTime": {
     "start_time": "2020-04-14T02:23:01.163Z"
    }
   },
   "outputs": [
    {
     "data": {
      "text/plain": [
       "{'gamma': array([7.62939453e-06, 3.05175781e-05, 1.22070312e-04, 4.88281250e-04,\n",
       "        1.95312500e-03, 7.81250000e-03, 3.12500000e-02, 1.25000000e-01,\n",
       "        5.00000000e-01, 2.00000000e+00, 8.00000000e+00]),\n",
       " 'C': array([3.12500e-02, 1.25000e-01, 5.00000e-01, 2.00000e+00, 8.00000e+00,\n",
       "        3.20000e+01, 1.28000e+02, 5.12000e+02, 2.04800e+03, 8.19200e+03,\n",
       "        3.27680e+04, 1.31072e+05])}"
      ]
     },
     "execution_count": 314,
     "metadata": {},
     "output_type": "execute_result"
    }
   ],
   "source": [
    "param_grid"
   ]
  },
  {
   "cell_type": "code",
   "execution_count": 315,
   "metadata": {
    "ExecuteTime": {
     "start_time": "2020-04-14T02:23:01.178Z"
    }
   },
   "outputs": [
    {
     "name": "stdout",
     "output_type": "stream",
     "text": [
      "The best classifier is:  SVC(C=2.0, break_ties=False, cache_size=200, class_weight=None, coef0=0.0,\n",
      "    decision_function_shape='ovr', degree=3, gamma=0.5, kernel='rbf',\n",
      "    max_iter=-1, probability=False, random_state=None, shrinking=True,\n",
      "    tol=0.001, verbose=False)\n"
     ]
    }
   ],
   "source": [
    "print(\"The best classifier is: \", grid.best_estimator_)"
   ]
  },
  {
   "cell_type": "code",
   "execution_count": 316,
   "metadata": {
    "ExecuteTime": {
     "start_time": "2020-04-14T02:23:01.194Z"
    }
   },
   "outputs": [
    {
     "name": "stdout",
     "output_type": "stream",
     "text": [
      "The best parameters are {'C': 2.0, 'gamma': 0.5} with a score of 0.58\n"
     ]
    }
   ],
   "source": [
    "print(\"The best parameters are %s with a score of %0.2f\"\n",
    "      % (grid.best_params_, grid.best_score_))"
   ]
  },
  {
   "cell_type": "code",
   "execution_count": 317,
   "metadata": {
    "ExecuteTime": {
     "start_time": "2020-04-14T02:23:01.210Z"
    }
   },
   "outputs": [
    {
     "data": {
      "text/plain": [
       "SVC(C=2.0, break_ties=False, cache_size=200, class_weight=None, coef0=0.0,\n",
       "    decision_function_shape='ovr', degree=3, gamma=0.5, kernel='rbf',\n",
       "    max_iter=-1, probability=False, random_state=None, shrinking=True,\n",
       "    tol=0.001, verbose=False)"
      ]
     },
     "execution_count": 317,
     "metadata": {},
     "output_type": "execute_result"
    }
   ],
   "source": [
    "clf = grid.best_estimator_\n",
    "clf.fit(X, Y)"
   ]
  },
  {
   "cell_type": "code",
   "execution_count": 318,
   "metadata": {
    "ExecuteTime": {
     "start_time": "2020-04-14T02:23:01.226Z"
    }
   },
   "outputs": [],
   "source": [
    "y_pred = clf.predict(X_val_combined_VPC_sg_up)"
   ]
  },
  {
   "cell_type": "code",
   "execution_count": 319,
   "metadata": {
    "ExecuteTime": {
     "start_time": "2020-04-14T02:23:01.246Z"
    }
   },
   "outputs": [
    {
     "name": "stdout",
     "output_type": "stream",
     "text": [
      "('SVM Accuracy Score -> ', 55.00000000000001)\n"
     ]
    }
   ],
   "source": [
    "print((\"SVM Accuracy Score -> \", accuracy_score(y_pred, y_val) * 100))"
   ]
  },
  {
   "cell_type": "code",
   "execution_count": 320,
   "metadata": {
    "ExecuteTime": {
     "start_time": "2020-04-14T02:23:01.262Z"
    },
    "scrolled": true
   },
   "outputs": [
    {
     "name": "stdout",
     "output_type": "stream",
     "text": [
      "              precision    recall  f1-score   support\n",
      "\n",
      "          GC       0.57      0.33      0.42        24\n",
      "        Refl       0.25      0.33      0.29         3\n",
      "        Vert       0.57      0.73      0.64        33\n",
      "\n",
      "    accuracy                           0.55        60\n",
      "   macro avg       0.46      0.46      0.45        60\n",
      "weighted avg       0.56      0.55      0.53        60\n",
      "\n"
     ]
    }
   ],
   "source": [
    "from sklearn.metrics import classification_report\n",
    "print((classification_report(y_val, y_pred, target_names=my_tags)))"
   ]
  },
  {
   "cell_type": "markdown",
   "metadata": {},
   "source": [
    "##### Weighted SVC with 'rbf' kernel "
   ]
  },
  {
   "cell_type": "code",
   "execution_count": 321,
   "metadata": {
    "ExecuteTime": {
     "start_time": "2020-04-14T02:23:01.285Z"
    }
   },
   "outputs": [],
   "source": [
    "X = X_train_combined_VPC_sg_up\n",
    "Y = y_train"
   ]
  },
  {
   "cell_type": "code",
   "execution_count": 322,
   "metadata": {
    "ExecuteTime": {
     "start_time": "2020-04-14T02:23:01.299Z"
    }
   },
   "outputs": [],
   "source": [
    "# It is usually a good idea to scale the data for SVM training.\n",
    "# We are cheating a bit in this example in scaling all of the data,\n",
    "# instead of fitting the transformation on the trainingset and\n",
    "# just applying it on the test set.\n",
    "\n",
    "# scaler = StandardScaler()\n",
    "# X = scaler.fit_transform(X_train_updated_google)"
   ]
  },
  {
   "cell_type": "code",
   "execution_count": 323,
   "metadata": {
    "ExecuteTime": {
     "start_time": "2020-04-14T02:23:01.315Z"
    }
   },
   "outputs": [
    {
     "data": {
      "text/plain": [
       "GridSearchCV(cv=StratifiedKFold(n_splits=10, random_state=None, shuffle=False),\n",
       "             error_score=nan,\n",
       "             estimator=SVC(C=1.0, break_ties=False, cache_size=200,\n",
       "                           class_weight=None, coef0=0.0,\n",
       "                           decision_function_shape='ovr', degree=3,\n",
       "                           gamma='scale', kernel='rbf', max_iter=-1,\n",
       "                           probability=False, random_state=None, shrinking=True,\n",
       "                           tol=0.001, verbose=False),\n",
       "             iid='deprecated', n_jobs...\n",
       "       3.20000e+01, 1.28000e+02, 5.12000e+02, 2.04800e+03, 8.19200e+03,\n",
       "       3.27680e+04, 1.31072e+05]),\n",
       "                         'gamma': array([7.62939453e-06, 3.05175781e-05, 1.22070312e-04, 4.88281250e-04,\n",
       "       1.95312500e-03, 7.81250000e-03, 3.12500000e-02, 1.25000000e-01,\n",
       "       5.00000000e-01, 2.00000000e+00, 8.00000000e+00])},\n",
       "             pre_dispatch='2*n_jobs', refit=True, return_train_score=False,\n",
       "             scoring=None, verbose=0)"
      ]
     },
     "execution_count": 323,
     "metadata": {},
     "output_type": "execute_result"
    }
   ],
   "source": [
    "C_range = 2. ** np.arange(-5, 18, 2)\n",
    "gamma_range = 2. ** np.arange(-17, 4, 2)\n",
    "param_grid = dict(gamma=gamma_range, C=C_range)\n",
    "grid = GridSearchCV(SVC(), param_grid=param_grid,\n",
    "                    cv=StratifiedKFold(n_splits=10))\n",
    "grid.fit(X, Y)"
   ]
  },
  {
   "cell_type": "code",
   "execution_count": 324,
   "metadata": {
    "ExecuteTime": {
     "start_time": "2020-04-14T02:23:01.329Z"
    }
   },
   "outputs": [
    {
     "data": {
      "text/plain": [
       "{'gamma': array([7.62939453e-06, 3.05175781e-05, 1.22070312e-04, 4.88281250e-04,\n",
       "        1.95312500e-03, 7.81250000e-03, 3.12500000e-02, 1.25000000e-01,\n",
       "        5.00000000e-01, 2.00000000e+00, 8.00000000e+00]),\n",
       " 'C': array([3.12500e-02, 1.25000e-01, 5.00000e-01, 2.00000e+00, 8.00000e+00,\n",
       "        3.20000e+01, 1.28000e+02, 5.12000e+02, 2.04800e+03, 8.19200e+03,\n",
       "        3.27680e+04, 1.31072e+05])}"
      ]
     },
     "execution_count": 324,
     "metadata": {},
     "output_type": "execute_result"
    }
   ],
   "source": [
    "param_grid"
   ]
  },
  {
   "cell_type": "code",
   "execution_count": 325,
   "metadata": {
    "ExecuteTime": {
     "start_time": "2020-04-14T02:23:01.342Z"
    }
   },
   "outputs": [
    {
     "name": "stdout",
     "output_type": "stream",
     "text": [
      "The best classifier is:  SVC(C=2.0, break_ties=False, cache_size=200, class_weight=None, coef0=0.0,\n",
      "    decision_function_shape='ovr', degree=3, gamma=0.5, kernel='rbf',\n",
      "    max_iter=-1, probability=False, random_state=None, shrinking=True,\n",
      "    tol=0.001, verbose=False)\n"
     ]
    }
   ],
   "source": [
    "print(\"The best classifier is: \", grid.best_estimator_)"
   ]
  },
  {
   "cell_type": "code",
   "execution_count": 326,
   "metadata": {
    "ExecuteTime": {
     "start_time": "2020-04-14T02:23:01.356Z"
    }
   },
   "outputs": [
    {
     "name": "stdout",
     "output_type": "stream",
     "text": [
      "The best parameters are {'C': 2.0, 'gamma': 0.5} with a score of 0.58\n"
     ]
    }
   ],
   "source": [
    "print(\"The best parameters are %s with a score of %0.2f\"\n",
    "      % (grid.best_params_, grid.best_score_))"
   ]
  },
  {
   "cell_type": "code",
   "execution_count": 327,
   "metadata": {
    "ExecuteTime": {
     "start_time": "2020-04-14T02:23:01.370Z"
    }
   },
   "outputs": [
    {
     "data": {
      "text/plain": [
       "SVC(C=32.0, break_ties=False, cache_size=200, class_weight='balanced',\n",
       "    coef0=0.0, decision_function_shape='ovr', degree=3, gamma=0.03125,\n",
       "    kernel='rbf', max_iter=-1, probability=False, random_state=None,\n",
       "    shrinking=True, tol=0.001, verbose=False)"
      ]
     },
     "execution_count": 327,
     "metadata": {},
     "output_type": "execute_result"
    }
   ],
   "source": [
    "clf = SVC(C=32.0, class_weight='balanced', gamma=0.03125, kernel='rbf')\n",
    "clf.fit(X, Y)"
   ]
  },
  {
   "cell_type": "code",
   "execution_count": 328,
   "metadata": {
    "ExecuteTime": {
     "start_time": "2020-04-14T02:23:01.384Z"
    }
   },
   "outputs": [],
   "source": [
    "y_pred = clf.predict(X_val_combined_VPC_sg_up)"
   ]
  },
  {
   "cell_type": "code",
   "execution_count": 329,
   "metadata": {
    "ExecuteTime": {
     "start_time": "2020-04-14T02:23:01.402Z"
    }
   },
   "outputs": [
    {
     "name": "stdout",
     "output_type": "stream",
     "text": [
      "('SVM Accuracy Score -> ', 46.666666666666664)\n"
     ]
    }
   ],
   "source": [
    "print((\"SVM Accuracy Score -> \", accuracy_score(y_pred, y_val) * 100))"
   ]
  },
  {
   "cell_type": "code",
   "execution_count": 330,
   "metadata": {
    "ExecuteTime": {
     "start_time": "2020-04-14T02:23:01.422Z"
    },
    "scrolled": false
   },
   "outputs": [
    {
     "name": "stdout",
     "output_type": "stream",
     "text": [
      "              precision    recall  f1-score   support\n",
      "\n",
      "          GC       0.48      0.50      0.49        24\n",
      "        Refl       0.10      0.33      0.15         3\n",
      "        Vert       0.60      0.45      0.52        33\n",
      "\n",
      "    accuracy                           0.47        60\n",
      "   macro avg       0.39      0.43      0.39        60\n",
      "weighted avg       0.53      0.47      0.49        60\n",
      "\n"
     ]
    }
   ],
   "source": [
    "from sklearn.metrics import classification_report\n",
    "print((classification_report(y_val, y_pred, target_names=my_tags)))"
   ]
  },
  {
   "cell_type": "markdown",
   "metadata": {},
   "source": [
    "##### Logistice regression"
   ]
  },
  {
   "cell_type": "code",
   "execution_count": 331,
   "metadata": {
    "ExecuteTime": {
     "start_time": "2020-04-14T02:23:01.442Z"
    },
    "scrolled": false
   },
   "outputs": [
    {
     "name": "stdout",
     "output_type": "stream",
     "text": [
      "accuracy 0.5\n",
      "              precision    recall  f1-score   support\n",
      "\n",
      "          GC       0.54      0.58      0.56        24\n",
      "        Refl       0.00      0.00      0.00         3\n",
      "        Vert       0.55      0.48      0.52        33\n",
      "\n",
      "    accuracy                           0.50        60\n",
      "   macro avg       0.36      0.36      0.36        60\n",
      "weighted avg       0.52      0.50      0.51        60\n",
      "\n"
     ]
    }
   ],
   "source": [
    "from sklearn.linear_model import LogisticRegression\n",
    "logreg = LogisticRegression(n_jobs=1, C=1e5)\n",
    "logreg = logreg.fit(X_train_combined_VPC_sg_up, y_train)\n",
    "y_pred = logreg.predict(X_val_combined_VPC_sg_up)\n",
    "print('accuracy %s' % accuracy_score(y_pred, y_val))\n",
    "print(classification_report(y_val, y_pred, target_names=my_tags))"
   ]
  },
  {
   "cell_type": "markdown",
   "metadata": {},
   "source": [
    "##### Weighted logistice regression"
   ]
  },
  {
   "cell_type": "code",
   "execution_count": 332,
   "metadata": {
    "ExecuteTime": {
     "start_time": "2020-04-14T02:23:01.460Z"
    },
    "scrolled": false
   },
   "outputs": [
    {
     "name": "stdout",
     "output_type": "stream",
     "text": [
      "accuracy 0.5\n",
      "              precision    recall  f1-score   support\n",
      "\n",
      "          GC       0.52      0.54      0.53        24\n",
      "        Refl       0.17      0.33      0.22         3\n",
      "        Vert       0.55      0.48      0.52        33\n",
      "\n",
      "    accuracy                           0.50        60\n",
      "   macro avg       0.41      0.45      0.42        60\n",
      "weighted avg       0.52      0.50      0.51        60\n",
      "\n"
     ]
    }
   ],
   "source": [
    "from sklearn.linear_model import LogisticRegression\n",
    "logreg = LogisticRegression(n_jobs=1, C=1e5, class_weight='balanced')\n",
    "logreg = logreg.fit(X_train_combined_VPC_sg_up, y_train)\n",
    "y_pred = logreg.predict(X_val_combined_VPC_sg_up)\n",
    "print('accuracy %s' % accuracy_score(y_pred, y_val))\n",
    "print(classification_report(y_val, y_pred, target_names=my_tags))"
   ]
  },
  {
   "cell_type": "markdown",
   "metadata": {},
   "source": [
    "#### 900D combined"
   ]
  },
  {
   "cell_type": "markdown",
   "metadata": {},
   "source": [
    "##### Linear SVM"
   ]
  },
  {
   "cell_type": "code",
   "execution_count": 333,
   "metadata": {
    "ExecuteTime": {
     "start_time": "2020-04-14T02:23:01.480Z"
    },
    "scrolled": true
   },
   "outputs": [
    {
     "data": {
      "text/plain": [
       "SVC(C=1.0, break_ties=False, cache_size=200, class_weight=None, coef0=0.0,\n",
       "    decision_function_shape='ovr', degree=3, gamma='scale', kernel='linear',\n",
       "    max_iter=-1, probability=False, random_state=None, shrinking=True,\n",
       "    tol=0.001, verbose=False)"
      ]
     },
     "execution_count": 333,
     "metadata": {},
     "output_type": "execute_result"
    }
   ],
   "source": [
    "clf = SVC(kernel='linear')\n",
    "clf.fit(X_train_combined_sg900D, y_train)"
   ]
  },
  {
   "cell_type": "code",
   "execution_count": 334,
   "metadata": {
    "ExecuteTime": {
     "start_time": "2020-04-14T02:23:01.496Z"
    }
   },
   "outputs": [
    {
     "data": {
      "text/plain": [
       "900"
      ]
     },
     "execution_count": 334,
     "metadata": {},
     "output_type": "execute_result"
    }
   ],
   "source": [
    "len(X_val_combined_sg900D[0])"
   ]
  },
  {
   "cell_type": "code",
   "execution_count": 335,
   "metadata": {
    "ExecuteTime": {
     "start_time": "2020-04-14T02:23:01.511Z"
    },
    "scrolled": true
   },
   "outputs": [],
   "source": [
    "y_pred = clf.predict(X_val_combined_sg900D)"
   ]
  },
  {
   "cell_type": "code",
   "execution_count": 336,
   "metadata": {
    "ExecuteTime": {
     "start_time": "2020-04-14T02:23:01.528Z"
    }
   },
   "outputs": [
    {
     "name": "stdout",
     "output_type": "stream",
     "text": [
      "SVM Accuracy Score ->  46.666666666666664\n"
     ]
    }
   ],
   "source": [
    "print(\"SVM Accuracy Score -> \", accuracy_score(y_pred, y_val) * 100)"
   ]
  },
  {
   "cell_type": "code",
   "execution_count": 337,
   "metadata": {
    "ExecuteTime": {
     "start_time": "2020-04-14T02:23:01.544Z"
    }
   },
   "outputs": [
    {
     "name": "stdout",
     "output_type": "stream",
     "text": [
      "              precision    recall  f1-score   support\n",
      "\n",
      "          GC       0.46      0.46      0.46        24\n",
      "        Refl       0.00      0.00      0.00         3\n",
      "        Vert       0.59      0.52      0.55        33\n",
      "\n",
      "    accuracy                           0.47        60\n",
      "   macro avg       0.35      0.32      0.34        60\n",
      "weighted avg       0.51      0.47      0.48        60\n",
      "\n"
     ]
    }
   ],
   "source": [
    "from sklearn.metrics import classification_report\n",
    "print(classification_report(y_val, y_pred, target_names=my_tags))"
   ]
  },
  {
   "cell_type": "markdown",
   "metadata": {},
   "source": [
    "##### Weighted Linear SVM"
   ]
  },
  {
   "cell_type": "code",
   "execution_count": 338,
   "metadata": {
    "ExecuteTime": {
     "start_time": "2020-04-14T02:23:01.564Z"
    },
    "scrolled": true
   },
   "outputs": [
    {
     "data": {
      "text/plain": [
       "SVC(C=1.0, break_ties=False, cache_size=200, class_weight='balanced', coef0=0.0,\n",
       "    decision_function_shape='ovr', degree=3, gamma='scale', kernel='linear',\n",
       "    max_iter=-1, probability=False, random_state=None, shrinking=True,\n",
       "    tol=0.001, verbose=False)"
      ]
     },
     "execution_count": 338,
     "metadata": {},
     "output_type": "execute_result"
    }
   ],
   "source": [
    "clf_balanced_class_weight = SVC(kernel='linear', class_weight='balanced')\n",
    "clf_balanced_class_weight.fit(X_train_combined_sg900D, y_train)"
   ]
  },
  {
   "cell_type": "code",
   "execution_count": 339,
   "metadata": {
    "ExecuteTime": {
     "start_time": "2020-04-14T02:23:01.580Z"
    }
   },
   "outputs": [],
   "source": [
    "y_pred_balanced_class_weight = clf_balanced_class_weight.predict(\n",
    "    X_val_combined_sg900D)"
   ]
  },
  {
   "cell_type": "code",
   "execution_count": 340,
   "metadata": {
    "ExecuteTime": {
     "start_time": "2020-04-14T02:23:01.596Z"
    }
   },
   "outputs": [
    {
     "name": "stdout",
     "output_type": "stream",
     "text": [
      "SVM Accuracy Score ->  46.666666666666664\n"
     ]
    }
   ],
   "source": [
    "print(\"SVM Accuracy Score -> \",\n",
    "      accuracy_score(y_pred_balanced_class_weight, y_val) * 100)"
   ]
  },
  {
   "cell_type": "code",
   "execution_count": 341,
   "metadata": {
    "ExecuteTime": {
     "start_time": "2020-04-14T02:23:01.613Z"
    },
    "scrolled": true
   },
   "outputs": [
    {
     "name": "stdout",
     "output_type": "stream",
     "text": [
      "              precision    recall  f1-score   support\n",
      "\n",
      "          GC       0.46      0.46      0.46        24\n",
      "        Refl       0.00      0.00      0.00         3\n",
      "        Vert       0.59      0.52      0.55        33\n",
      "\n",
      "    accuracy                           0.47        60\n",
      "   macro avg       0.35      0.32      0.34        60\n",
      "weighted avg       0.51      0.47      0.48        60\n",
      "\n"
     ]
    }
   ],
   "source": [
    "from sklearn.metrics import classification_report\n",
    "print(\n",
    "    classification_report(y_val,\n",
    "                          y_pred_balanced_class_weight,\n",
    "                          target_names=my_tags))"
   ]
  },
  {
   "cell_type": "markdown",
   "metadata": {},
   "source": [
    "##### SVC with 'rbf' kernel"
   ]
  },
  {
   "cell_type": "code",
   "execution_count": 342,
   "metadata": {
    "ExecuteTime": {
     "start_time": "2020-04-14T02:23:01.632Z"
    }
   },
   "outputs": [],
   "source": [
    "X = X_train_combined_sg900D\n",
    "Y = y_train"
   ]
  },
  {
   "cell_type": "code",
   "execution_count": 343,
   "metadata": {
    "ExecuteTime": {
     "start_time": "2020-04-14T02:23:01.648Z"
    }
   },
   "outputs": [],
   "source": [
    "# It is usually a good idea to scale the data for SVM training.\n",
    "# We are cheating a bit in this example in scaling all of the data,\n",
    "# instead of fitting the transformation on the trainingset and\n",
    "# just applying it on the test set.\n",
    "\n",
    "# scaler = StandardScaler()\n",
    "# X = scaler.fit_transform(X_train_updated_google)"
   ]
  },
  {
   "cell_type": "code",
   "execution_count": 344,
   "metadata": {
    "ExecuteTime": {
     "start_time": "2020-04-14T02:23:01.663Z"
    }
   },
   "outputs": [
    {
     "data": {
      "text/plain": [
       "GridSearchCV(cv=StratifiedKFold(n_splits=10, random_state=None, shuffle=False),\n",
       "             error_score=nan,\n",
       "             estimator=SVC(C=1.0, break_ties=False, cache_size=200,\n",
       "                           class_weight=None, coef0=0.0,\n",
       "                           decision_function_shape='ovr', degree=3,\n",
       "                           gamma='scale', kernel='rbf', max_iter=-1,\n",
       "                           probability=False, random_state=None, shrinking=True,\n",
       "                           tol=0.001, verbose=False),\n",
       "             iid='deprecated', n_jobs...\n",
       "       3.20000e+01, 1.28000e+02, 5.12000e+02, 2.04800e+03, 8.19200e+03,\n",
       "       3.27680e+04, 1.31072e+05]),\n",
       "                         'gamma': array([7.62939453e-06, 3.05175781e-05, 1.22070312e-04, 4.88281250e-04,\n",
       "       1.95312500e-03, 7.81250000e-03, 3.12500000e-02, 1.25000000e-01,\n",
       "       5.00000000e-01, 2.00000000e+00, 8.00000000e+00])},\n",
       "             pre_dispatch='2*n_jobs', refit=True, return_train_score=False,\n",
       "             scoring=None, verbose=0)"
      ]
     },
     "execution_count": 344,
     "metadata": {},
     "output_type": "execute_result"
    }
   ],
   "source": [
    "C_range = 2. ** np.arange(-5, 18, 2)\n",
    "gamma_range = 2. ** np.arange(-17, 4, 2)\n",
    "param_grid = dict(gamma=gamma_range, C=C_range)\n",
    "grid = GridSearchCV(SVC(), param_grid=param_grid,\n",
    "                    cv=StratifiedKFold(n_splits=10))\n",
    "grid.fit(X, Y)"
   ]
  },
  {
   "cell_type": "code",
   "execution_count": 345,
   "metadata": {
    "ExecuteTime": {
     "start_time": "2020-04-14T02:23:01.682Z"
    }
   },
   "outputs": [
    {
     "data": {
      "text/plain": [
       "{'gamma': array([7.62939453e-06, 3.05175781e-05, 1.22070312e-04, 4.88281250e-04,\n",
       "        1.95312500e-03, 7.81250000e-03, 3.12500000e-02, 1.25000000e-01,\n",
       "        5.00000000e-01, 2.00000000e+00, 8.00000000e+00]),\n",
       " 'C': array([3.12500e-02, 1.25000e-01, 5.00000e-01, 2.00000e+00, 8.00000e+00,\n",
       "        3.20000e+01, 1.28000e+02, 5.12000e+02, 2.04800e+03, 8.19200e+03,\n",
       "        3.27680e+04, 1.31072e+05])}"
      ]
     },
     "execution_count": 345,
     "metadata": {},
     "output_type": "execute_result"
    }
   ],
   "source": [
    "param_grid"
   ]
  },
  {
   "cell_type": "code",
   "execution_count": 346,
   "metadata": {
    "ExecuteTime": {
     "start_time": "2020-04-14T02:23:01.701Z"
    }
   },
   "outputs": [
    {
     "name": "stdout",
     "output_type": "stream",
     "text": [
      "The best classifier is:  SVC(C=8.0, break_ties=False, cache_size=200, class_weight=None, coef0=0.0,\n",
      "    decision_function_shape='ovr', degree=3, gamma=0.0078125, kernel='rbf',\n",
      "    max_iter=-1, probability=False, random_state=None, shrinking=True,\n",
      "    tol=0.001, verbose=False)\n"
     ]
    }
   ],
   "source": [
    "print(\"The best classifier is: \", grid.best_estimator_)"
   ]
  },
  {
   "cell_type": "code",
   "execution_count": 347,
   "metadata": {
    "ExecuteTime": {
     "start_time": "2020-04-14T02:23:01.716Z"
    }
   },
   "outputs": [
    {
     "name": "stdout",
     "output_type": "stream",
     "text": [
      "The best parameters are {'C': 8.0, 'gamma': 0.0078125} with a score of 0.53\n"
     ]
    }
   ],
   "source": [
    "print(\"The best parameters are %s with a score of %0.2f\"\n",
    "      % (grid.best_params_, grid.best_score_))"
   ]
  },
  {
   "cell_type": "code",
   "execution_count": 348,
   "metadata": {
    "ExecuteTime": {
     "start_time": "2020-04-14T02:23:01.732Z"
    }
   },
   "outputs": [
    {
     "data": {
      "text/plain": [
       "SVC(C=8.0, break_ties=False, cache_size=200, class_weight=None, coef0=0.0,\n",
       "    decision_function_shape='ovr', degree=3, gamma=0.0078125, kernel='rbf',\n",
       "    max_iter=-1, probability=False, random_state=None, shrinking=True,\n",
       "    tol=0.001, verbose=False)"
      ]
     },
     "execution_count": 348,
     "metadata": {},
     "output_type": "execute_result"
    }
   ],
   "source": [
    "clf = grid.best_estimator_\n",
    "clf.fit(X, Y)"
   ]
  },
  {
   "cell_type": "code",
   "execution_count": 349,
   "metadata": {
    "ExecuteTime": {
     "start_time": "2020-04-14T02:23:01.751Z"
    }
   },
   "outputs": [],
   "source": [
    "y_pred = clf.predict(X_val_combined_sg900D)"
   ]
  },
  {
   "cell_type": "code",
   "execution_count": 350,
   "metadata": {
    "ExecuteTime": {
     "start_time": "2020-04-14T02:23:01.776Z"
    }
   },
   "outputs": [
    {
     "name": "stdout",
     "output_type": "stream",
     "text": [
      "('SVM Accuracy Score -> ', 43.333333333333336)\n"
     ]
    }
   ],
   "source": [
    "print((\"SVM Accuracy Score -> \", accuracy_score(y_pred, y_val) * 100))"
   ]
  },
  {
   "cell_type": "code",
   "execution_count": 351,
   "metadata": {
    "ExecuteTime": {
     "start_time": "2020-04-14T02:23:01.794Z"
    },
    "scrolled": true
   },
   "outputs": [
    {
     "name": "stdout",
     "output_type": "stream",
     "text": [
      "              precision    recall  f1-score   support\n",
      "\n",
      "          GC       0.41      0.38      0.39        24\n",
      "        Refl       0.00      0.00      0.00         3\n",
      "        Vert       0.57      0.52      0.54        33\n",
      "\n",
      "    accuracy                           0.43        60\n",
      "   macro avg       0.33      0.30      0.31        60\n",
      "weighted avg       0.48      0.43      0.45        60\n",
      "\n"
     ]
    }
   ],
   "source": [
    "from sklearn.metrics import classification_report\n",
    "print((classification_report(y_val, y_pred, target_names=my_tags)))"
   ]
  },
  {
   "cell_type": "markdown",
   "metadata": {},
   "source": [
    "##### Weighted SVC with 'rbf' kernel "
   ]
  },
  {
   "cell_type": "code",
   "execution_count": 352,
   "metadata": {
    "ExecuteTime": {
     "start_time": "2020-04-14T02:23:01.818Z"
    }
   },
   "outputs": [],
   "source": [
    "X = X_train_combined_sg900D\n",
    "Y = y_train"
   ]
  },
  {
   "cell_type": "code",
   "execution_count": 353,
   "metadata": {
    "ExecuteTime": {
     "start_time": "2020-04-14T02:23:01.833Z"
    }
   },
   "outputs": [],
   "source": [
    "# It is usually a good idea to scale the data for SVM training.\n",
    "# We are cheating a bit in this example in scaling all of the data,\n",
    "# instead of fitting the transformation on the trainingset and\n",
    "# just applying it on the test set.\n",
    "\n",
    "# scaler = StandardScaler()\n",
    "# X = scaler.fit_transform(X_train_updated_google)"
   ]
  },
  {
   "cell_type": "code",
   "execution_count": 354,
   "metadata": {
    "ExecuteTime": {
     "start_time": "2020-04-14T02:23:01.852Z"
    }
   },
   "outputs": [
    {
     "data": {
      "text/plain": [
       "GridSearchCV(cv=StratifiedKFold(n_splits=10, random_state=None, shuffle=False),\n",
       "             error_score=nan,\n",
       "             estimator=SVC(C=1.0, break_ties=False, cache_size=200,\n",
       "                           class_weight=None, coef0=0.0,\n",
       "                           decision_function_shape='ovr', degree=3,\n",
       "                           gamma='scale', kernel='rbf', max_iter=-1,\n",
       "                           probability=False, random_state=None, shrinking=True,\n",
       "                           tol=0.001, verbose=False),\n",
       "             iid='deprecated', n_jobs...\n",
       "       3.20000e+01, 1.28000e+02, 5.12000e+02, 2.04800e+03, 8.19200e+03,\n",
       "       3.27680e+04, 1.31072e+05]),\n",
       "                         'gamma': array([7.62939453e-06, 3.05175781e-05, 1.22070312e-04, 4.88281250e-04,\n",
       "       1.95312500e-03, 7.81250000e-03, 3.12500000e-02, 1.25000000e-01,\n",
       "       5.00000000e-01, 2.00000000e+00, 8.00000000e+00])},\n",
       "             pre_dispatch='2*n_jobs', refit=True, return_train_score=False,\n",
       "             scoring=None, verbose=0)"
      ]
     },
     "execution_count": 354,
     "metadata": {},
     "output_type": "execute_result"
    }
   ],
   "source": [
    "C_range = 2. ** np.arange(-5, 18, 2)\n",
    "gamma_range = 2. ** np.arange(-17, 4, 2)\n",
    "param_grid = dict(gamma=gamma_range, C=C_range)\n",
    "grid = GridSearchCV(SVC(), param_grid=param_grid,\n",
    "                    cv=StratifiedKFold(n_splits=10))\n",
    "grid.fit(X, Y)"
   ]
  },
  {
   "cell_type": "code",
   "execution_count": 355,
   "metadata": {
    "ExecuteTime": {
     "start_time": "2020-04-14T02:23:01.868Z"
    }
   },
   "outputs": [
    {
     "data": {
      "text/plain": [
       "{'gamma': array([7.62939453e-06, 3.05175781e-05, 1.22070312e-04, 4.88281250e-04,\n",
       "        1.95312500e-03, 7.81250000e-03, 3.12500000e-02, 1.25000000e-01,\n",
       "        5.00000000e-01, 2.00000000e+00, 8.00000000e+00]),\n",
       " 'C': array([3.12500e-02, 1.25000e-01, 5.00000e-01, 2.00000e+00, 8.00000e+00,\n",
       "        3.20000e+01, 1.28000e+02, 5.12000e+02, 2.04800e+03, 8.19200e+03,\n",
       "        3.27680e+04, 1.31072e+05])}"
      ]
     },
     "execution_count": 355,
     "metadata": {},
     "output_type": "execute_result"
    }
   ],
   "source": [
    "param_grid"
   ]
  },
  {
   "cell_type": "code",
   "execution_count": 356,
   "metadata": {
    "ExecuteTime": {
     "start_time": "2020-04-14T02:23:01.884Z"
    }
   },
   "outputs": [
    {
     "name": "stdout",
     "output_type": "stream",
     "text": [
      "The best classifier is:  SVC(C=8.0, break_ties=False, cache_size=200, class_weight=None, coef0=0.0,\n",
      "    decision_function_shape='ovr', degree=3, gamma=0.0078125, kernel='rbf',\n",
      "    max_iter=-1, probability=False, random_state=None, shrinking=True,\n",
      "    tol=0.001, verbose=False)\n"
     ]
    }
   ],
   "source": [
    "print(\"The best classifier is: \", grid.best_estimator_)"
   ]
  },
  {
   "cell_type": "code",
   "execution_count": 357,
   "metadata": {
    "ExecuteTime": {
     "start_time": "2020-04-14T02:23:01.897Z"
    }
   },
   "outputs": [
    {
     "name": "stdout",
     "output_type": "stream",
     "text": [
      "The best parameters are {'C': 8.0, 'gamma': 0.0078125} with a score of 0.53\n"
     ]
    }
   ],
   "source": [
    "print(\"The best parameters are %s with a score of %0.2f\"\n",
    "      % (grid.best_params_, grid.best_score_))"
   ]
  },
  {
   "cell_type": "code",
   "execution_count": 358,
   "metadata": {
    "ExecuteTime": {
     "start_time": "2020-04-14T02:23:01.912Z"
    }
   },
   "outputs": [
    {
     "data": {
      "text/plain": [
       "SVC(C=32.0, break_ties=False, cache_size=200, class_weight='balanced',\n",
       "    coef0=0.0, decision_function_shape='ovr', degree=3, gamma=0.03125,\n",
       "    kernel='rbf', max_iter=-1, probability=False, random_state=None,\n",
       "    shrinking=True, tol=0.001, verbose=False)"
      ]
     },
     "execution_count": 358,
     "metadata": {},
     "output_type": "execute_result"
    }
   ],
   "source": [
    "clf = SVC(C=32.0, class_weight='balanced', gamma=0.03125, kernel='rbf')\n",
    "clf.fit(X, Y)"
   ]
  },
  {
   "cell_type": "code",
   "execution_count": 359,
   "metadata": {
    "ExecuteTime": {
     "start_time": "2020-04-14T02:23:01.928Z"
    }
   },
   "outputs": [],
   "source": [
    "y_pred = clf.predict(X_val_combined_sg900D)"
   ]
  },
  {
   "cell_type": "code",
   "execution_count": 360,
   "metadata": {
    "ExecuteTime": {
     "start_time": "2020-04-14T02:23:01.942Z"
    }
   },
   "outputs": [
    {
     "name": "stdout",
     "output_type": "stream",
     "text": [
      "('SVM Accuracy Score -> ', 43.333333333333336)\n"
     ]
    }
   ],
   "source": [
    "print((\"SVM Accuracy Score -> \", accuracy_score(y_pred, y_val) * 100))"
   ]
  },
  {
   "cell_type": "code",
   "execution_count": 361,
   "metadata": {
    "ExecuteTime": {
     "start_time": "2020-04-14T02:23:01.957Z"
    },
    "scrolled": false
   },
   "outputs": [
    {
     "name": "stdout",
     "output_type": "stream",
     "text": [
      "              precision    recall  f1-score   support\n",
      "\n",
      "          GC       0.41      0.38      0.39        24\n",
      "        Refl       0.00      0.00      0.00         3\n",
      "        Vert       0.55      0.52      0.53        33\n",
      "\n",
      "    accuracy                           0.43        60\n",
      "   macro avg       0.32      0.30      0.31        60\n",
      "weighted avg       0.47      0.43      0.45        60\n",
      "\n"
     ]
    }
   ],
   "source": [
    "from sklearn.metrics import classification_report\n",
    "print((classification_report(y_val, y_pred, target_names=my_tags)))"
   ]
  },
  {
   "cell_type": "markdown",
   "metadata": {},
   "source": [
    "##### Logistice regression"
   ]
  },
  {
   "cell_type": "code",
   "execution_count": 362,
   "metadata": {
    "ExecuteTime": {
     "start_time": "2020-04-14T02:23:01.974Z"
    },
    "scrolled": false
   },
   "outputs": [
    {
     "name": "stdout",
     "output_type": "stream",
     "text": [
      "accuracy 0.45\n",
      "              precision    recall  f1-score   support\n",
      "\n",
      "          GC       0.43      0.42      0.43        24\n",
      "        Refl       0.00      0.00      0.00         3\n",
      "        Vert       0.59      0.52      0.55        33\n",
      "\n",
      "    accuracy                           0.45        60\n",
      "   macro avg       0.34      0.31      0.32        60\n",
      "weighted avg       0.50      0.45      0.47        60\n",
      "\n"
     ]
    }
   ],
   "source": [
    "from sklearn.linear_model import LogisticRegression\n",
    "logreg = LogisticRegression(n_jobs=1, C=1e5)\n",
    "logreg = logreg.fit(X_train_combined_sg900D, y_train)\n",
    "y_pred = logreg.predict(X_val_combined_sg900D)\n",
    "print('accuracy %s' % accuracy_score(y_pred, y_val))\n",
    "print(classification_report(y_val, y_pred, target_names=my_tags))"
   ]
  },
  {
   "cell_type": "markdown",
   "metadata": {},
   "source": [
    "##### Weighted logistice regression"
   ]
  },
  {
   "cell_type": "code",
   "execution_count": 363,
   "metadata": {
    "ExecuteTime": {
     "start_time": "2020-04-14T02:23:01.993Z"
    },
    "scrolled": false
   },
   "outputs": [
    {
     "name": "stdout",
     "output_type": "stream",
     "text": [
      "accuracy 0.43333333333333335\n",
      "              precision    recall  f1-score   support\n",
      "\n",
      "          GC       0.41      0.38      0.39        24\n",
      "        Refl       0.00      0.00      0.00         3\n",
      "        Vert       0.57      0.52      0.54        33\n",
      "\n",
      "    accuracy                           0.43        60\n",
      "   macro avg       0.33      0.30      0.31        60\n",
      "weighted avg       0.48      0.43      0.45        60\n",
      "\n"
     ]
    }
   ],
   "source": [
    "from sklearn.linear_model import LogisticRegression\n",
    "logreg = LogisticRegression(n_jobs=1, C=1e5, class_weight='balanced')\n",
    "logreg = logreg.fit(X_train_combined_sg900D, y_train)\n",
    "y_pred = logreg.predict(X_val_combined_sg900D)\n",
    "print('accuracy %s' % accuracy_score(y_pred, y_val))\n",
    "print(classification_report(y_val, y_pred, target_names=my_tags))"
   ]
  },
  {
   "cell_type": "markdown",
   "metadata": {},
   "source": [
    "#### 921D combined"
   ]
  },
  {
   "cell_type": "markdown",
   "metadata": {},
   "source": [
    "##### Linear SVM"
   ]
  },
  {
   "cell_type": "code",
   "execution_count": 364,
   "metadata": {
    "ExecuteTime": {
     "start_time": "2020-04-14T02:23:02.021Z"
    },
    "scrolled": true
   },
   "outputs": [
    {
     "data": {
      "text/plain": [
       "SVC(C=1.0, break_ties=False, cache_size=200, class_weight=None, coef0=0.0,\n",
       "    decision_function_shape='ovr', degree=3, gamma='scale', kernel='linear',\n",
       "    max_iter=-1, probability=False, random_state=None, shrinking=True,\n",
       "    tol=0.001, verbose=False)"
      ]
     },
     "execution_count": 364,
     "metadata": {},
     "output_type": "execute_result"
    }
   ],
   "source": [
    "clf = SVC(kernel='linear')\n",
    "clf.fit(X_train_combined_sg921D, y_train)"
   ]
  },
  {
   "cell_type": "code",
   "execution_count": 365,
   "metadata": {
    "ExecuteTime": {
     "start_time": "2020-04-14T02:23:02.038Z"
    }
   },
   "outputs": [],
   "source": [
    "y_pred = clf.predict(X_val_combined_sg921D)"
   ]
  },
  {
   "cell_type": "code",
   "execution_count": 366,
   "metadata": {
    "ExecuteTime": {
     "start_time": "2020-04-14T02:23:02.051Z"
    }
   },
   "outputs": [
    {
     "name": "stdout",
     "output_type": "stream",
     "text": [
      "SVM Accuracy Score ->  46.666666666666664\n"
     ]
    }
   ],
   "source": [
    "print(\"SVM Accuracy Score -> \", accuracy_score(y_pred, y_val) * 100)"
   ]
  },
  {
   "cell_type": "code",
   "execution_count": 367,
   "metadata": {
    "ExecuteTime": {
     "start_time": "2020-04-14T02:23:02.066Z"
    }
   },
   "outputs": [
    {
     "name": "stdout",
     "output_type": "stream",
     "text": [
      "              precision    recall  f1-score   support\n",
      "\n",
      "          GC       0.46      0.46      0.46        24\n",
      "        Refl       0.00      0.00      0.00         3\n",
      "        Vert       0.59      0.52      0.55        33\n",
      "\n",
      "    accuracy                           0.47        60\n",
      "   macro avg       0.35      0.32      0.34        60\n",
      "weighted avg       0.51      0.47      0.48        60\n",
      "\n"
     ]
    }
   ],
   "source": [
    "from sklearn.metrics import classification_report\n",
    "print(classification_report(y_val, y_pred, target_names=my_tags))"
   ]
  },
  {
   "cell_type": "markdown",
   "metadata": {},
   "source": [
    "##### Weighted Linear SVM"
   ]
  },
  {
   "cell_type": "code",
   "execution_count": 368,
   "metadata": {
    "ExecuteTime": {
     "start_time": "2020-04-14T02:23:02.087Z"
    },
    "scrolled": true
   },
   "outputs": [
    {
     "data": {
      "text/plain": [
       "SVC(C=1.0, break_ties=False, cache_size=200, class_weight='balanced', coef0=0.0,\n",
       "    decision_function_shape='ovr', degree=3, gamma='scale', kernel='linear',\n",
       "    max_iter=-1, probability=False, random_state=None, shrinking=True,\n",
       "    tol=0.001, verbose=False)"
      ]
     },
     "execution_count": 368,
     "metadata": {},
     "output_type": "execute_result"
    }
   ],
   "source": [
    "clf_balanced_class_weight = SVC(kernel='linear', class_weight='balanced')\n",
    "clf_balanced_class_weight.fit(X_train_combined_sg921D, y_train)"
   ]
  },
  {
   "cell_type": "code",
   "execution_count": 369,
   "metadata": {
    "ExecuteTime": {
     "start_time": "2020-04-14T02:23:02.105Z"
    }
   },
   "outputs": [],
   "source": [
    "y_pred_balanced_class_weight = clf_balanced_class_weight.predict(\n",
    "    X_val_combined_sg921D)"
   ]
  },
  {
   "cell_type": "code",
   "execution_count": 370,
   "metadata": {
    "ExecuteTime": {
     "start_time": "2020-04-14T02:23:02.125Z"
    }
   },
   "outputs": [
    {
     "name": "stdout",
     "output_type": "stream",
     "text": [
      "SVM Accuracy Score ->  46.666666666666664\n"
     ]
    }
   ],
   "source": [
    "print(\"SVM Accuracy Score -> \",\n",
    "      accuracy_score(y_pred_balanced_class_weight, y_val) * 100)"
   ]
  },
  {
   "cell_type": "code",
   "execution_count": 371,
   "metadata": {
    "ExecuteTime": {
     "start_time": "2020-04-14T02:23:02.141Z"
    },
    "scrolled": true
   },
   "outputs": [
    {
     "name": "stdout",
     "output_type": "stream",
     "text": [
      "              precision    recall  f1-score   support\n",
      "\n",
      "          GC       0.46      0.46      0.46        24\n",
      "        Refl       0.00      0.00      0.00         3\n",
      "        Vert       0.59      0.52      0.55        33\n",
      "\n",
      "    accuracy                           0.47        60\n",
      "   macro avg       0.35      0.32      0.34        60\n",
      "weighted avg       0.51      0.47      0.48        60\n",
      "\n"
     ]
    }
   ],
   "source": [
    "from sklearn.metrics import classification_report\n",
    "print(\n",
    "    classification_report(y_val,\n",
    "                          y_pred_balanced_class_weight,\n",
    "                          target_names=my_tags))"
   ]
  },
  {
   "cell_type": "markdown",
   "metadata": {},
   "source": [
    "##### SVC with 'rbf' kernel"
   ]
  },
  {
   "cell_type": "code",
   "execution_count": 372,
   "metadata": {
    "ExecuteTime": {
     "start_time": "2020-04-14T02:23:02.162Z"
    }
   },
   "outputs": [],
   "source": [
    "X = X_train_combined_sg921D\n",
    "Y = y_train"
   ]
  },
  {
   "cell_type": "code",
   "execution_count": 373,
   "metadata": {
    "ExecuteTime": {
     "start_time": "2020-04-14T02:23:02.178Z"
    }
   },
   "outputs": [],
   "source": [
    "# It is usually a good idea to scale the data for SVM training.\n",
    "# We are cheating a bit in this example in scaling all of the data,\n",
    "# instead of fitting the transformation on the trainingset and\n",
    "# just applying it on the test set.\n",
    "\n",
    "# scaler = StandardScaler()\n",
    "# X = scaler.fit_transform(X_train_updated_google)"
   ]
  },
  {
   "cell_type": "code",
   "execution_count": 374,
   "metadata": {
    "ExecuteTime": {
     "start_time": "2020-04-14T02:23:02.194Z"
    }
   },
   "outputs": [
    {
     "data": {
      "text/plain": [
       "GridSearchCV(cv=StratifiedKFold(n_splits=10, random_state=None, shuffle=False),\n",
       "             error_score=nan,\n",
       "             estimator=SVC(C=1.0, break_ties=False, cache_size=200,\n",
       "                           class_weight=None, coef0=0.0,\n",
       "                           decision_function_shape='ovr', degree=3,\n",
       "                           gamma='scale', kernel='rbf', max_iter=-1,\n",
       "                           probability=False, random_state=None, shrinking=True,\n",
       "                           tol=0.001, verbose=False),\n",
       "             iid='deprecated', n_jobs...\n",
       "       3.20000e+01, 1.28000e+02, 5.12000e+02, 2.04800e+03, 8.19200e+03,\n",
       "       3.27680e+04, 1.31072e+05]),\n",
       "                         'gamma': array([7.62939453e-06, 3.05175781e-05, 1.22070312e-04, 4.88281250e-04,\n",
       "       1.95312500e-03, 7.81250000e-03, 3.12500000e-02, 1.25000000e-01,\n",
       "       5.00000000e-01, 2.00000000e+00, 8.00000000e+00])},\n",
       "             pre_dispatch='2*n_jobs', refit=True, return_train_score=False,\n",
       "             scoring=None, verbose=0)"
      ]
     },
     "execution_count": 374,
     "metadata": {},
     "output_type": "execute_result"
    }
   ],
   "source": [
    "C_range = 2. ** np.arange(-5, 18, 2)\n",
    "gamma_range = 2. ** np.arange(-17, 4, 2)\n",
    "param_grid = dict(gamma=gamma_range, C=C_range)\n",
    "grid = GridSearchCV(SVC(), param_grid=param_grid,\n",
    "                    cv=StratifiedKFold(n_splits=10))\n",
    "grid.fit(X, Y)"
   ]
  },
  {
   "cell_type": "code",
   "execution_count": 375,
   "metadata": {
    "ExecuteTime": {
     "start_time": "2020-04-14T02:23:02.211Z"
    }
   },
   "outputs": [
    {
     "data": {
      "text/plain": [
       "{'gamma': array([7.62939453e-06, 3.05175781e-05, 1.22070312e-04, 4.88281250e-04,\n",
       "        1.95312500e-03, 7.81250000e-03, 3.12500000e-02, 1.25000000e-01,\n",
       "        5.00000000e-01, 2.00000000e+00, 8.00000000e+00]),\n",
       " 'C': array([3.12500e-02, 1.25000e-01, 5.00000e-01, 2.00000e+00, 8.00000e+00,\n",
       "        3.20000e+01, 1.28000e+02, 5.12000e+02, 2.04800e+03, 8.19200e+03,\n",
       "        3.27680e+04, 1.31072e+05])}"
      ]
     },
     "execution_count": 375,
     "metadata": {},
     "output_type": "execute_result"
    }
   ],
   "source": [
    "param_grid"
   ]
  },
  {
   "cell_type": "code",
   "execution_count": 376,
   "metadata": {
    "ExecuteTime": {
     "start_time": "2020-04-14T02:23:02.226Z"
    }
   },
   "outputs": [
    {
     "name": "stdout",
     "output_type": "stream",
     "text": [
      "The best classifier is:  SVC(C=2.0, break_ties=False, cache_size=200, class_weight=None, coef0=0.0,\n",
      "    decision_function_shape='ovr', degree=3, gamma=0.03125, kernel='rbf',\n",
      "    max_iter=-1, probability=False, random_state=None, shrinking=True,\n",
      "    tol=0.001, verbose=False)\n"
     ]
    }
   ],
   "source": [
    "print(\"The best classifier is: \", grid.best_estimator_)"
   ]
  },
  {
   "cell_type": "code",
   "execution_count": 377,
   "metadata": {
    "ExecuteTime": {
     "start_time": "2020-04-14T02:23:02.240Z"
    }
   },
   "outputs": [
    {
     "name": "stdout",
     "output_type": "stream",
     "text": [
      "The best parameters are {'C': 2.0, 'gamma': 0.03125} with a score of 0.50\n"
     ]
    }
   ],
   "source": [
    "print(\"The best parameters are %s with a score of %0.2f\"\n",
    "      % (grid.best_params_, grid.best_score_))"
   ]
  },
  {
   "cell_type": "code",
   "execution_count": 378,
   "metadata": {
    "ExecuteTime": {
     "start_time": "2020-04-14T02:23:02.256Z"
    }
   },
   "outputs": [
    {
     "data": {
      "text/plain": [
       "SVC(C=2.0, break_ties=False, cache_size=200, class_weight=None, coef0=0.0,\n",
       "    decision_function_shape='ovr', degree=3, gamma=0.03125, kernel='rbf',\n",
       "    max_iter=-1, probability=False, random_state=None, shrinking=True,\n",
       "    tol=0.001, verbose=False)"
      ]
     },
     "execution_count": 378,
     "metadata": {},
     "output_type": "execute_result"
    }
   ],
   "source": [
    "clf = grid.best_estimator_\n",
    "clf.fit(X, Y)"
   ]
  },
  {
   "cell_type": "code",
   "execution_count": 379,
   "metadata": {
    "ExecuteTime": {
     "start_time": "2020-04-14T02:23:02.274Z"
    }
   },
   "outputs": [],
   "source": [
    "y_pred = clf.predict(X_val_combined_sg921D)"
   ]
  },
  {
   "cell_type": "code",
   "execution_count": 380,
   "metadata": {
    "ExecuteTime": {
     "start_time": "2020-04-14T02:23:02.293Z"
    }
   },
   "outputs": [
    {
     "name": "stdout",
     "output_type": "stream",
     "text": [
      "('SVM Accuracy Score -> ', 41.66666666666667)\n"
     ]
    }
   ],
   "source": [
    "print((\"SVM Accuracy Score -> \", accuracy_score(y_pred, y_val) * 100))"
   ]
  },
  {
   "cell_type": "code",
   "execution_count": 381,
   "metadata": {
    "ExecuteTime": {
     "start_time": "2020-04-14T02:23:02.311Z"
    },
    "scrolled": true
   },
   "outputs": [
    {
     "name": "stdout",
     "output_type": "stream",
     "text": [
      "              precision    recall  f1-score   support\n",
      "\n",
      "          GC       0.38      0.33      0.36        24\n",
      "        Refl       0.00      0.00      0.00         3\n",
      "        Vert       0.53      0.52      0.52        33\n",
      "\n",
      "    accuracy                           0.42        60\n",
      "   macro avg       0.30      0.28      0.29        60\n",
      "weighted avg       0.44      0.42      0.43        60\n",
      "\n"
     ]
    }
   ],
   "source": [
    "from sklearn.metrics import classification_report\n",
    "print((classification_report(y_val, y_pred, target_names=my_tags)))"
   ]
  },
  {
   "cell_type": "markdown",
   "metadata": {},
   "source": [
    "##### Weighted SVC with 'rbf' kernel "
   ]
  },
  {
   "cell_type": "code",
   "execution_count": 382,
   "metadata": {
    "ExecuteTime": {
     "start_time": "2020-04-14T02:23:02.337Z"
    }
   },
   "outputs": [],
   "source": [
    "X = X_val_combined_sg921D\n",
    "Y = y_train"
   ]
  },
  {
   "cell_type": "code",
   "execution_count": 383,
   "metadata": {
    "ExecuteTime": {
     "start_time": "2020-04-14T02:23:02.352Z"
    }
   },
   "outputs": [],
   "source": [
    "# It is usually a good idea to scale the data for SVM training.\n",
    "# We are cheating a bit in this example in scaling all of the data,\n",
    "# instead of fitting the transformation on the trainingset and\n",
    "# just applying it on the test set.\n",
    "\n",
    "# scaler = StandardScaler()\n",
    "# X = scaler.fit_transform(X_train_updated_google)"
   ]
  },
  {
   "cell_type": "code",
   "execution_count": 384,
   "metadata": {
    "ExecuteTime": {
     "start_time": "2020-04-14T02:23:02.381Z"
    }
   },
   "outputs": [
    {
     "data": {
      "text/plain": [
       "GridSearchCV(cv=StratifiedKFold(n_splits=10, random_state=None, shuffle=False),\n",
       "             error_score=nan,\n",
       "             estimator=SVC(C=1.0, break_ties=False, cache_size=200,\n",
       "                           class_weight=None, coef0=0.0,\n",
       "                           decision_function_shape='ovr', degree=3,\n",
       "                           gamma='scale', kernel='rbf', max_iter=-1,\n",
       "                           probability=False, random_state=None, shrinking=True,\n",
       "                           tol=0.001, verbose=False),\n",
       "             iid='deprecated', n_jobs...\n",
       "       3.20000e+01, 1.28000e+02, 5.12000e+02, 2.04800e+03, 8.19200e+03,\n",
       "       3.27680e+04, 1.31072e+05]),\n",
       "                         'gamma': array([7.62939453e-06, 3.05175781e-05, 1.22070312e-04, 4.88281250e-04,\n",
       "       1.95312500e-03, 7.81250000e-03, 3.12500000e-02, 1.25000000e-01,\n",
       "       5.00000000e-01, 2.00000000e+00, 8.00000000e+00])},\n",
       "             pre_dispatch='2*n_jobs', refit=True, return_train_score=False,\n",
       "             scoring=None, verbose=0)"
      ]
     },
     "execution_count": 384,
     "metadata": {},
     "output_type": "execute_result"
    }
   ],
   "source": [
    "C_range = 2. ** np.arange(-5, 18, 2)\n",
    "gamma_range = 2. ** np.arange(-17, 4, 2)\n",
    "param_grid = dict(gamma=gamma_range, C=C_range)\n",
    "grid = GridSearchCV(SVC(), param_grid=param_grid,\n",
    "                    cv=StratifiedKFold(n_splits=10))\n",
    "grid.fit(X, Y)"
   ]
  },
  {
   "cell_type": "code",
   "execution_count": 385,
   "metadata": {
    "ExecuteTime": {
     "start_time": "2020-04-14T02:23:02.406Z"
    }
   },
   "outputs": [
    {
     "data": {
      "text/plain": [
       "{'gamma': array([7.62939453e-06, 3.05175781e-05, 1.22070312e-04, 4.88281250e-04,\n",
       "        1.95312500e-03, 7.81250000e-03, 3.12500000e-02, 1.25000000e-01,\n",
       "        5.00000000e-01, 2.00000000e+00, 8.00000000e+00]),\n",
       " 'C': array([3.12500e-02, 1.25000e-01, 5.00000e-01, 2.00000e+00, 8.00000e+00,\n",
       "        3.20000e+01, 1.28000e+02, 5.12000e+02, 2.04800e+03, 8.19200e+03,\n",
       "        3.27680e+04, 1.31072e+05])}"
      ]
     },
     "execution_count": 385,
     "metadata": {},
     "output_type": "execute_result"
    }
   ],
   "source": [
    "param_grid"
   ]
  },
  {
   "cell_type": "code",
   "execution_count": 386,
   "metadata": {
    "ExecuteTime": {
     "start_time": "2020-04-14T02:23:02.423Z"
    }
   },
   "outputs": [
    {
     "name": "stdout",
     "output_type": "stream",
     "text": [
      "The best classifier is:  SVC(C=32.0, break_ties=False, cache_size=200, class_weight=None, coef0=0.0,\n",
      "    decision_function_shape='ovr', degree=3, gamma=0.00048828125, kernel='rbf',\n",
      "    max_iter=-1, probability=False, random_state=None, shrinking=True,\n",
      "    tol=0.001, verbose=False)\n"
     ]
    }
   ],
   "source": [
    "print(\"The best classifier is: \", grid.best_estimator_)"
   ]
  },
  {
   "cell_type": "code",
   "execution_count": 387,
   "metadata": {
    "ExecuteTime": {
     "start_time": "2020-04-14T02:23:02.439Z"
    }
   },
   "outputs": [
    {
     "name": "stdout",
     "output_type": "stream",
     "text": [
      "The best parameters are {'C': 32.0, 'gamma': 0.00048828125} with a score of 0.45\n"
     ]
    }
   ],
   "source": [
    "print(\"The best parameters are %s with a score of %0.2f\"\n",
    "      % (grid.best_params_, grid.best_score_))"
   ]
  },
  {
   "cell_type": "code",
   "execution_count": 388,
   "metadata": {
    "ExecuteTime": {
     "start_time": "2020-04-14T02:23:02.455Z"
    }
   },
   "outputs": [
    {
     "data": {
      "text/plain": [
       "SVC(C=32.0, break_ties=False, cache_size=200, class_weight='balanced',\n",
       "    coef0=0.0, decision_function_shape='ovr', degree=3, gamma=0.03125,\n",
       "    kernel='rbf', max_iter=-1, probability=False, random_state=None,\n",
       "    shrinking=True, tol=0.001, verbose=False)"
      ]
     },
     "execution_count": 388,
     "metadata": {},
     "output_type": "execute_result"
    }
   ],
   "source": [
    "clf = SVC(C=32.0, class_weight='balanced', gamma=0.03125, kernel='rbf')\n",
    "clf.fit(X, Y)"
   ]
  },
  {
   "cell_type": "code",
   "execution_count": 389,
   "metadata": {
    "ExecuteTime": {
     "start_time": "2020-04-14T02:23:02.476Z"
    }
   },
   "outputs": [],
   "source": [
    "y_pred = clf.predict(X_val_combined_sg921D)"
   ]
  },
  {
   "cell_type": "code",
   "execution_count": 390,
   "metadata": {
    "ExecuteTime": {
     "start_time": "2020-04-14T02:23:02.493Z"
    }
   },
   "outputs": [
    {
     "name": "stdout",
     "output_type": "stream",
     "text": [
      "('SVM Accuracy Score -> ', 40.0)\n"
     ]
    }
   ],
   "source": [
    "print((\"SVM Accuracy Score -> \", accuracy_score(y_pred, y_val) * 100))"
   ]
  },
  {
   "cell_type": "code",
   "execution_count": 391,
   "metadata": {
    "ExecuteTime": {
     "start_time": "2020-04-14T02:23:02.509Z"
    },
    "scrolled": false
   },
   "outputs": [
    {
     "name": "stdout",
     "output_type": "stream",
     "text": [
      "              precision    recall  f1-score   support\n",
      "\n",
      "          GC       0.43      0.38      0.40        24\n",
      "        Refl       0.07      0.33      0.11         3\n",
      "        Vert       0.58      0.42      0.49        33\n",
      "\n",
      "    accuracy                           0.40        60\n",
      "   macro avg       0.36      0.38      0.33        60\n",
      "weighted avg       0.50      0.40      0.44        60\n",
      "\n"
     ]
    }
   ],
   "source": [
    "from sklearn.metrics import classification_report\n",
    "print((classification_report(y_val, y_pred, target_names=my_tags)))"
   ]
  },
  {
   "cell_type": "markdown",
   "metadata": {},
   "source": [
    "##### Logistice regression"
   ]
  },
  {
   "cell_type": "code",
   "execution_count": 392,
   "metadata": {
    "ExecuteTime": {
     "start_time": "2020-04-14T02:23:02.536Z"
    },
    "scrolled": false
   },
   "outputs": [
    {
     "name": "stdout",
     "output_type": "stream",
     "text": [
      "accuracy 0.45\n",
      "              precision    recall  f1-score   support\n",
      "\n",
      "          GC       0.43      0.42      0.43        24\n",
      "        Refl       0.00      0.00      0.00         3\n",
      "        Vert       0.59      0.52      0.55        33\n",
      "\n",
      "    accuracy                           0.45        60\n",
      "   macro avg       0.34      0.31      0.32        60\n",
      "weighted avg       0.50      0.45      0.47        60\n",
      "\n"
     ]
    }
   ],
   "source": [
    "from sklearn.linear_model import LogisticRegression\n",
    "logreg = LogisticRegression(n_jobs=1, C=1e5)\n",
    "logreg = logreg.fit(X_train_combined_sg921D, y_train)\n",
    "y_pred = logreg.predict(X_val_combined_sg921D)\n",
    "print('accuracy %s' % accuracy_score(y_pred, y_val))\n",
    "print(classification_report(y_val, y_pred, target_names=my_tags))"
   ]
  },
  {
   "cell_type": "markdown",
   "metadata": {},
   "source": [
    "##### Weighted logistice regression"
   ]
  },
  {
   "cell_type": "code",
   "execution_count": 393,
   "metadata": {
    "ExecuteTime": {
     "start_time": "2020-04-14T02:23:02.559Z"
    },
    "scrolled": false
   },
   "outputs": [
    {
     "name": "stdout",
     "output_type": "stream",
     "text": [
      "accuracy 0.45\n",
      "              precision    recall  f1-score   support\n",
      "\n",
      "          GC       0.43      0.42      0.43        24\n",
      "        Refl       0.00      0.00      0.00         3\n",
      "        Vert       0.59      0.52      0.55        33\n",
      "\n",
      "    accuracy                           0.45        60\n",
      "   macro avg       0.34      0.31      0.32        60\n",
      "weighted avg       0.50      0.45      0.47        60\n",
      "\n"
     ]
    }
   ],
   "source": [
    "from sklearn.linear_model import LogisticRegression\n",
    "logreg = LogisticRegression(n_jobs=1, C=1e5, class_weight='balanced')\n",
    "logreg = logreg.fit(X_train_combined_sg921D, y_train)\n",
    "y_pred = logreg.predict(X_val_combined_sg921D)\n",
    "print('accuracy %s' % accuracy_score(y_pred, y_val))\n",
    "print(classification_report(y_val, y_pred, target_names=my_tags))"
   ]
  },
  {
   "cell_type": "markdown",
   "metadata": {},
   "source": [
    "### training with google pre-trained word embedding "
   ]
  },
  {
   "cell_type": "code",
   "execution_count": 394,
   "metadata": {
    "ExecuteTime": {
     "start_time": "2020-04-14T02:23:02.583Z"
    }
   },
   "outputs": [],
   "source": [
    "# def transform_with_google(x):\n",
    "#     return np.array([\n",
    "#         np.mean([model_google[w]\n",
    "#                  for w in words if w in model_google] or [np.zeros(model_google['balance'].shape)],\n",
    "#                 axis=0) for words in x\n",
    "#     ])\n",
    "def transform_with_google(x):\n",
    "    return np.array([\n",
    "        np.concatenate(([model_google[w]\n",
    "                 for w in words if w in model_google]or [np.zeros(model_google['balance'].shape)],\n",
    "                       [particle_features[w]\n",
    "                 for w in words if w in particle_features]or [np.zeros(particle_features['balance'].shape)]),\n",
    "                axis=None) for words in x\n",
    "    ]) \n",
    "# X_train_combined_cw=transform_with_combine_features_cw(X_train)\n",
    "# X_val_combined_cw=transform_with_combine_features_cw(X_val)"
   ]
  },
  {
   "cell_type": "code",
   "execution_count": 395,
   "metadata": {
    "ExecuteTime": {
     "start_time": "2020-04-14T02:23:02.606Z"
    },
    "scrolled": true
   },
   "outputs": [],
   "source": [
    "X_train_updated_google = transform_with_google(X_train)\n",
    "# X_val_updated_google = transform_with_google(X_val)\n",
    "X_val_updated_google = transform_with_google(X_test)"
   ]
  },
  {
   "cell_type": "markdown",
   "metadata": {},
   "source": [
    "#### Linear SVM"
   ]
  },
  {
   "cell_type": "code",
   "execution_count": 396,
   "metadata": {
    "ExecuteTime": {
     "start_time": "2020-04-14T02:23:02.627Z"
    },
    "scrolled": true
   },
   "outputs": [
    {
     "data": {
      "text/plain": [
       "SVC(C=1.0, break_ties=False, cache_size=200, class_weight=None, coef0=0.0,\n",
       "    decision_function_shape='ovr', degree=3, gamma='scale', kernel='linear',\n",
       "    max_iter=-1, probability=False, random_state=None, shrinking=True,\n",
       "    tol=0.001, verbose=False)"
      ]
     },
     "execution_count": 396,
     "metadata": {},
     "output_type": "execute_result"
    }
   ],
   "source": [
    "clf = SVC(kernel='linear')\n",
    "clf.fit(X_train_updated_google, y_train)"
   ]
  },
  {
   "cell_type": "code",
   "execution_count": 397,
   "metadata": {
    "ExecuteTime": {
     "start_time": "2020-04-14T02:23:02.641Z"
    }
   },
   "outputs": [],
   "source": [
    "y_pred = clf.predict(X_val_updated_google)"
   ]
  },
  {
   "cell_type": "code",
   "execution_count": 398,
   "metadata": {
    "ExecuteTime": {
     "start_time": "2020-04-14T02:23:02.655Z"
    }
   },
   "outputs": [
    {
     "name": "stdout",
     "output_type": "stream",
     "text": [
      "SVM Accuracy Score ->  33.33333333333333\n"
     ]
    }
   ],
   "source": [
    "print(\"SVM Accuracy Score -> \", accuracy_score(y_pred, y_val) * 100)"
   ]
  },
  {
   "cell_type": "code",
   "execution_count": 399,
   "metadata": {
    "ExecuteTime": {
     "start_time": "2020-04-14T02:23:02.670Z"
    }
   },
   "outputs": [
    {
     "name": "stdout",
     "output_type": "stream",
     "text": [
      "              precision    recall  f1-score   support\n",
      "\n",
      "          GC       0.28      0.29      0.29        24\n",
      "        Refl       0.00      0.00      0.00         3\n",
      "        Vert       0.48      0.39      0.43        33\n",
      "\n",
      "    accuracy                           0.33        60\n",
      "   macro avg       0.25      0.23      0.24        60\n",
      "weighted avg       0.38      0.33      0.35        60\n",
      "\n"
     ]
    }
   ],
   "source": [
    "from sklearn.metrics import classification_report\n",
    "print(classification_report(y_val, y_pred, target_names=my_tags))"
   ]
  },
  {
   "cell_type": "markdown",
   "metadata": {},
   "source": [
    "#### Weighted Linear SVM"
   ]
  },
  {
   "cell_type": "code",
   "execution_count": 400,
   "metadata": {
    "ExecuteTime": {
     "start_time": "2020-04-14T02:23:02.689Z"
    },
    "scrolled": true
   },
   "outputs": [
    {
     "data": {
      "text/plain": [
       "SVC(C=1.0, break_ties=False, cache_size=200, class_weight='balanced', coef0=0.0,\n",
       "    decision_function_shape='ovr', degree=3, gamma='scale', kernel='linear',\n",
       "    max_iter=-1, probability=False, random_state=None, shrinking=True,\n",
       "    tol=0.001, verbose=False)"
      ]
     },
     "execution_count": 400,
     "metadata": {},
     "output_type": "execute_result"
    }
   ],
   "source": [
    "clf_balanced_class_weight = SVC(kernel='linear', class_weight='balanced')\n",
    "clf_balanced_class_weight.fit(X_train_updated_google, y_train)"
   ]
  },
  {
   "cell_type": "code",
   "execution_count": 401,
   "metadata": {
    "ExecuteTime": {
     "start_time": "2020-04-14T02:23:02.703Z"
    }
   },
   "outputs": [],
   "source": [
    "y_pred_balanced_class_weight = clf_balanced_class_weight.predict(\n",
    "    X_val_updated_google)"
   ]
  },
  {
   "cell_type": "code",
   "execution_count": 402,
   "metadata": {
    "ExecuteTime": {
     "start_time": "2020-04-14T02:23:02.717Z"
    }
   },
   "outputs": [
    {
     "name": "stdout",
     "output_type": "stream",
     "text": [
      "SVM Accuracy Score ->  33.33333333333333\n"
     ]
    }
   ],
   "source": [
    "print(\"SVM Accuracy Score -> \",\n",
    "      accuracy_score(y_pred_balanced_class_weight, y_val) * 100)"
   ]
  },
  {
   "cell_type": "code",
   "execution_count": 403,
   "metadata": {
    "ExecuteTime": {
     "start_time": "2020-04-14T02:23:02.732Z"
    },
    "scrolled": false
   },
   "outputs": [
    {
     "name": "stdout",
     "output_type": "stream",
     "text": [
      "              precision    recall  f1-score   support\n",
      "\n",
      "          GC       0.28      0.29      0.29        24\n",
      "        Refl       0.00      0.00      0.00         3\n",
      "        Vert       0.48      0.39      0.43        33\n",
      "\n",
      "    accuracy                           0.33        60\n",
      "   macro avg       0.25      0.23      0.24        60\n",
      "weighted avg       0.38      0.33      0.35        60\n",
      "\n"
     ]
    }
   ],
   "source": [
    "from sklearn.metrics import classification_report\n",
    "print(\n",
    "    classification_report(y_val,\n",
    "                          y_pred_balanced_class_weight,\n",
    "                          target_names=my_tags))"
   ]
  },
  {
   "cell_type": "markdown",
   "metadata": {},
   "source": [
    "#### SVC with 'rbf' kernel"
   ]
  },
  {
   "cell_type": "code",
   "execution_count": 404,
   "metadata": {
    "ExecuteTime": {
     "start_time": "2020-04-14T02:23:02.754Z"
    }
   },
   "outputs": [],
   "source": [
    "X = X_train_updated_google\n",
    "Y = y_train"
   ]
  },
  {
   "cell_type": "code",
   "execution_count": 405,
   "metadata": {
    "ExecuteTime": {
     "start_time": "2020-04-14T02:23:02.772Z"
    }
   },
   "outputs": [],
   "source": [
    "# It is usually a good idea to scale the data for SVM training.\n",
    "# We are cheating a bit in this example in scaling all of the data,\n",
    "# instead of fitting the transformation on the trainingset and\n",
    "# just applying it on the test set.\n",
    "\n",
    "# scaler = StandardScaler()\n",
    "# X = scaler.fit_transform(X_train_updated_google)"
   ]
  },
  {
   "cell_type": "code",
   "execution_count": 406,
   "metadata": {
    "ExecuteTime": {
     "start_time": "2020-04-14T02:23:02.788Z"
    }
   },
   "outputs": [
    {
     "data": {
      "text/plain": [
       "GridSearchCV(cv=StratifiedKFold(n_splits=10, random_state=None, shuffle=False),\n",
       "             error_score=nan,\n",
       "             estimator=SVC(C=1.0, break_ties=False, cache_size=200,\n",
       "                           class_weight=None, coef0=0.0,\n",
       "                           decision_function_shape='ovr', degree=3,\n",
       "                           gamma='scale', kernel='rbf', max_iter=-1,\n",
       "                           probability=False, random_state=None, shrinking=True,\n",
       "                           tol=0.001, verbose=False),\n",
       "             iid='deprecated', n_jobs...\n",
       "       3.20000e+01, 1.28000e+02, 5.12000e+02, 2.04800e+03, 8.19200e+03,\n",
       "       3.27680e+04, 1.31072e+05]),\n",
       "                         'gamma': array([7.62939453e-06, 3.05175781e-05, 1.22070312e-04, 4.88281250e-04,\n",
       "       1.95312500e-03, 7.81250000e-03, 3.12500000e-02, 1.25000000e-01,\n",
       "       5.00000000e-01, 2.00000000e+00, 8.00000000e+00])},\n",
       "             pre_dispatch='2*n_jobs', refit=True, return_train_score=False,\n",
       "             scoring=None, verbose=0)"
      ]
     },
     "execution_count": 406,
     "metadata": {},
     "output_type": "execute_result"
    }
   ],
   "source": [
    "C_range = 2. ** np.arange(-5, 18, 2)\n",
    "gamma_range = 2. ** np.arange(-17, 4, 2)\n",
    "param_grid = dict(gamma=gamma_range, C=C_range)\n",
    "grid = GridSearchCV(SVC(), param_grid=param_grid,\n",
    "                    cv=StratifiedKFold(n_splits=10))\n",
    "grid.fit(X, Y)"
   ]
  },
  {
   "cell_type": "code",
   "execution_count": 407,
   "metadata": {
    "ExecuteTime": {
     "start_time": "2020-04-14T02:23:02.805Z"
    }
   },
   "outputs": [
    {
     "data": {
      "text/plain": [
       "{'gamma': array([7.62939453e-06, 3.05175781e-05, 1.22070312e-04, 4.88281250e-04,\n",
       "        1.95312500e-03, 7.81250000e-03, 3.12500000e-02, 1.25000000e-01,\n",
       "        5.00000000e-01, 2.00000000e+00, 8.00000000e+00]),\n",
       " 'C': array([3.12500e-02, 1.25000e-01, 5.00000e-01, 2.00000e+00, 8.00000e+00,\n",
       "        3.20000e+01, 1.28000e+02, 5.12000e+02, 2.04800e+03, 8.19200e+03,\n",
       "        3.27680e+04, 1.31072e+05])}"
      ]
     },
     "execution_count": 407,
     "metadata": {},
     "output_type": "execute_result"
    }
   ],
   "source": [
    "param_grid"
   ]
  },
  {
   "cell_type": "code",
   "execution_count": 408,
   "metadata": {
    "ExecuteTime": {
     "start_time": "2020-04-14T02:23:02.823Z"
    }
   },
   "outputs": [
    {
     "name": "stdout",
     "output_type": "stream",
     "text": [
      "The best classifier is:  SVC(C=8.0, break_ties=False, cache_size=200, class_weight=None, coef0=0.0,\n",
      "    decision_function_shape='ovr', degree=3, gamma=0.03125, kernel='rbf',\n",
      "    max_iter=-1, probability=False, random_state=None, shrinking=True,\n",
      "    tol=0.001, verbose=False)\n"
     ]
    }
   ],
   "source": [
    "print(\"The best classifier is: \", grid.best_estimator_)"
   ]
  },
  {
   "cell_type": "code",
   "execution_count": 409,
   "metadata": {
    "ExecuteTime": {
     "start_time": "2020-04-14T02:23:02.849Z"
    }
   },
   "outputs": [
    {
     "name": "stdout",
     "output_type": "stream",
     "text": [
      "The best parameters are {'C': 8.0, 'gamma': 0.03125} with a score of 0.52\n"
     ]
    }
   ],
   "source": [
    "print(\"The best parameters are %s with a score of %0.2f\"\n",
    "      % (grid.best_params_, grid.best_score_))"
   ]
  },
  {
   "cell_type": "code",
   "execution_count": 410,
   "metadata": {
    "ExecuteTime": {
     "start_time": "2020-04-14T02:23:02.866Z"
    }
   },
   "outputs": [
    {
     "data": {
      "text/plain": [
       "SVC(C=8.0, break_ties=False, cache_size=200, class_weight=None, coef0=0.0,\n",
       "    decision_function_shape='ovr', degree=3, gamma=0.03125, kernel='rbf',\n",
       "    max_iter=-1, probability=False, random_state=None, shrinking=True,\n",
       "    tol=0.001, verbose=False)"
      ]
     },
     "execution_count": 410,
     "metadata": {},
     "output_type": "execute_result"
    }
   ],
   "source": [
    "clf = grid.best_estimator_\n",
    "clf.fit(X, Y)"
   ]
  },
  {
   "cell_type": "code",
   "execution_count": 411,
   "metadata": {
    "ExecuteTime": {
     "start_time": "2020-04-14T02:23:02.882Z"
    }
   },
   "outputs": [],
   "source": [
    "y_pred = clf.predict(X_val_updated_google)"
   ]
  },
  {
   "cell_type": "code",
   "execution_count": 412,
   "metadata": {
    "ExecuteTime": {
     "start_time": "2020-04-14T02:23:02.896Z"
    }
   },
   "outputs": [
    {
     "name": "stdout",
     "output_type": "stream",
     "text": [
      "('SVM Accuracy Score -> ', 35.0)\n"
     ]
    }
   ],
   "source": [
    "print((\"SVM Accuracy Score -> \", accuracy_score(y_pred, y_val) * 100))"
   ]
  },
  {
   "cell_type": "code",
   "execution_count": 413,
   "metadata": {
    "ExecuteTime": {
     "start_time": "2020-04-14T02:23:02.910Z"
    },
    "scrolled": true
   },
   "outputs": [
    {
     "name": "stdout",
     "output_type": "stream",
     "text": [
      "              precision    recall  f1-score   support\n",
      "\n",
      "          GC       0.31      0.33      0.32        24\n",
      "        Refl       0.00      0.00      0.00         3\n",
      "        Vert       0.48      0.39      0.43        33\n",
      "\n",
      "    accuracy                           0.35        60\n",
      "   macro avg       0.26      0.24      0.25        60\n",
      "weighted avg       0.39      0.35      0.37        60\n",
      "\n"
     ]
    }
   ],
   "source": [
    "from sklearn.metrics import classification_report\n",
    "print((classification_report(y_val, y_pred, target_names=my_tags)))"
   ]
  },
  {
   "cell_type": "markdown",
   "metadata": {},
   "source": [
    "#### Weighted SVC with 'rbf' kernel "
   ]
  },
  {
   "cell_type": "code",
   "execution_count": 414,
   "metadata": {
    "ExecuteTime": {
     "start_time": "2020-04-14T02:23:02.929Z"
    }
   },
   "outputs": [],
   "source": [
    "X = X_train_updated_google\n",
    "Y = y_train"
   ]
  },
  {
   "cell_type": "code",
   "execution_count": 415,
   "metadata": {
    "ExecuteTime": {
     "start_time": "2020-04-14T02:23:02.950Z"
    }
   },
   "outputs": [],
   "source": [
    "# It is usually a good idea to scale the data for SVM training.\n",
    "# We are cheating a bit in this example in scaling all of the data,\n",
    "# instead of fitting the transformation on the trainingset and\n",
    "# just applying it on the test set.\n",
    "\n",
    "# scaler = StandardScaler()\n",
    "# X = scaler.fit_transform(X_train_updated_google)"
   ]
  },
  {
   "cell_type": "code",
   "execution_count": 416,
   "metadata": {
    "ExecuteTime": {
     "start_time": "2020-04-14T02:23:02.967Z"
    }
   },
   "outputs": [
    {
     "data": {
      "text/plain": [
       "GridSearchCV(cv=StratifiedKFold(n_splits=10, random_state=None, shuffle=False),\n",
       "             error_score=nan,\n",
       "             estimator=SVC(C=1.0, break_ties=False, cache_size=200,\n",
       "                           class_weight=None, coef0=0.0,\n",
       "                           decision_function_shape='ovr', degree=3,\n",
       "                           gamma='scale', kernel='rbf', max_iter=-1,\n",
       "                           probability=False, random_state=None, shrinking=True,\n",
       "                           tol=0.001, verbose=False),\n",
       "             iid='deprecated', n_jobs...\n",
       "       3.20000e+01, 1.28000e+02, 5.12000e+02, 2.04800e+03, 8.19200e+03,\n",
       "       3.27680e+04, 1.31072e+05]),\n",
       "                         'gamma': array([7.62939453e-06, 3.05175781e-05, 1.22070312e-04, 4.88281250e-04,\n",
       "       1.95312500e-03, 7.81250000e-03, 3.12500000e-02, 1.25000000e-01,\n",
       "       5.00000000e-01, 2.00000000e+00, 8.00000000e+00])},\n",
       "             pre_dispatch='2*n_jobs', refit=True, return_train_score=False,\n",
       "             scoring=None, verbose=0)"
      ]
     },
     "execution_count": 416,
     "metadata": {},
     "output_type": "execute_result"
    }
   ],
   "source": [
    "C_range = 2. ** np.arange(-5, 18, 2)\n",
    "gamma_range = 2. ** np.arange(-17, 4, 2)\n",
    "param_grid = dict(gamma=gamma_range, C=C_range)\n",
    "grid = GridSearchCV(SVC(), param_grid=param_grid,\n",
    "                    cv=StratifiedKFold(n_splits=10))\n",
    "grid.fit(X, Y)"
   ]
  },
  {
   "cell_type": "code",
   "execution_count": 417,
   "metadata": {
    "ExecuteTime": {
     "start_time": "2020-04-14T02:23:02.986Z"
    }
   },
   "outputs": [
    {
     "data": {
      "text/plain": [
       "{'gamma': array([7.62939453e-06, 3.05175781e-05, 1.22070312e-04, 4.88281250e-04,\n",
       "        1.95312500e-03, 7.81250000e-03, 3.12500000e-02, 1.25000000e-01,\n",
       "        5.00000000e-01, 2.00000000e+00, 8.00000000e+00]),\n",
       " 'C': array([3.12500e-02, 1.25000e-01, 5.00000e-01, 2.00000e+00, 8.00000e+00,\n",
       "        3.20000e+01, 1.28000e+02, 5.12000e+02, 2.04800e+03, 8.19200e+03,\n",
       "        3.27680e+04, 1.31072e+05])}"
      ]
     },
     "execution_count": 417,
     "metadata": {},
     "output_type": "execute_result"
    }
   ],
   "source": [
    "param_grid"
   ]
  },
  {
   "cell_type": "code",
   "execution_count": 418,
   "metadata": {
    "ExecuteTime": {
     "start_time": "2020-04-14T02:23:03.000Z"
    }
   },
   "outputs": [
    {
     "name": "stdout",
     "output_type": "stream",
     "text": [
      "The best classifier is:  SVC(C=8.0, break_ties=False, cache_size=200, class_weight=None, coef0=0.0,\n",
      "    decision_function_shape='ovr', degree=3, gamma=0.03125, kernel='rbf',\n",
      "    max_iter=-1, probability=False, random_state=None, shrinking=True,\n",
      "    tol=0.001, verbose=False)\n"
     ]
    }
   ],
   "source": [
    "print(\"The best classifier is: \", grid.best_estimator_)"
   ]
  },
  {
   "cell_type": "code",
   "execution_count": 419,
   "metadata": {
    "ExecuteTime": {
     "start_time": "2020-04-14T02:23:03.020Z"
    }
   },
   "outputs": [
    {
     "name": "stdout",
     "output_type": "stream",
     "text": [
      "The best parameters are {'C': 8.0, 'gamma': 0.03125} with a score of 0.52\n"
     ]
    }
   ],
   "source": [
    "print(\"The best parameters are %s with a score of %0.2f\"\n",
    "      % (grid.best_params_, grid.best_score_))"
   ]
  },
  {
   "cell_type": "code",
   "execution_count": 420,
   "metadata": {
    "ExecuteTime": {
     "start_time": "2020-04-14T02:23:03.034Z"
    }
   },
   "outputs": [
    {
     "data": {
      "text/plain": [
       "SVC(C=32.0, break_ties=False, cache_size=200, class_weight='balanced',\n",
       "    coef0=0.0, decision_function_shape='ovr', degree=3, gamma=0.03125,\n",
       "    kernel='rbf', max_iter=-1, probability=False, random_state=None,\n",
       "    shrinking=True, tol=0.001, verbose=False)"
      ]
     },
     "execution_count": 420,
     "metadata": {},
     "output_type": "execute_result"
    }
   ],
   "source": [
    "clf = SVC(C=32.0, class_weight='balanced', gamma=0.03125, kernel='rbf')\n",
    "clf.fit(X, Y)"
   ]
  },
  {
   "cell_type": "code",
   "execution_count": 421,
   "metadata": {
    "ExecuteTime": {
     "start_time": "2020-04-14T02:23:03.048Z"
    }
   },
   "outputs": [],
   "source": [
    "y_pred = clf.predict(X_val_updated_google)"
   ]
  },
  {
   "cell_type": "code",
   "execution_count": 422,
   "metadata": {
    "ExecuteTime": {
     "start_time": "2020-04-14T02:23:03.063Z"
    }
   },
   "outputs": [
    {
     "name": "stdout",
     "output_type": "stream",
     "text": [
      "('SVM Accuracy Score -> ', 36.666666666666664)\n"
     ]
    }
   ],
   "source": [
    "print((\"SVM Accuracy Score -> \", accuracy_score(y_pred, y_val) * 100))"
   ]
  },
  {
   "cell_type": "code",
   "execution_count": 423,
   "metadata": {
    "ExecuteTime": {
     "start_time": "2020-04-14T02:23:03.082Z"
    },
    "scrolled": false
   },
   "outputs": [
    {
     "name": "stdout",
     "output_type": "stream",
     "text": [
      "              precision    recall  f1-score   support\n",
      "\n",
      "          GC       0.32      0.33      0.33        24\n",
      "        Refl       0.00      0.00      0.00         3\n",
      "        Vert       0.50      0.42      0.46        33\n",
      "\n",
      "    accuracy                           0.37        60\n",
      "   macro avg       0.27      0.25      0.26        60\n",
      "weighted avg       0.40      0.37      0.38        60\n",
      "\n"
     ]
    }
   ],
   "source": [
    "from sklearn.metrics import classification_report\n",
    "print((classification_report(y_val, y_pred, target_names=my_tags)))"
   ]
  },
  {
   "cell_type": "markdown",
   "metadata": {},
   "source": [
    "#### Logistice regression"
   ]
  },
  {
   "cell_type": "code",
   "execution_count": 424,
   "metadata": {
    "ExecuteTime": {
     "start_time": "2020-04-14T02:23:03.100Z"
    },
    "scrolled": true
   },
   "outputs": [
    {
     "name": "stdout",
     "output_type": "stream",
     "text": [
      "accuracy 0.36666666666666664\n",
      "              precision    recall  f1-score   support\n",
      "\n",
      "          GC       0.33      0.29      0.31        24\n",
      "        Refl       0.00      0.00      0.00         3\n",
      "        Vert       0.50      0.45      0.48        33\n",
      "\n",
      "    accuracy                           0.37        60\n",
      "   macro avg       0.28      0.25      0.26        60\n",
      "weighted avg       0.41      0.37      0.39        60\n",
      "\n"
     ]
    }
   ],
   "source": [
    "from sklearn.linear_model import LogisticRegression\n",
    "logreg = LogisticRegression(n_jobs=1, C=1e5)\n",
    "logreg = logreg.fit(X_train_updated_google, y_train)\n",
    "y_pred = logreg.predict(X_val_updated_google)\n",
    "print('accuracy %s' % accuracy_score(y_pred, y_val))\n",
    "print(classification_report(y_val, y_pred, target_names=my_tags))"
   ]
  },
  {
   "cell_type": "markdown",
   "metadata": {},
   "source": [
    "#### Weighted logistice regression"
   ]
  },
  {
   "cell_type": "code",
   "execution_count": 425,
   "metadata": {
    "ExecuteTime": {
     "start_time": "2020-04-14T02:23:03.118Z"
    },
    "scrolled": false
   },
   "outputs": [
    {
     "name": "stdout",
     "output_type": "stream",
     "text": [
      "accuracy 0.36666666666666664\n",
      "              precision    recall  f1-score   support\n",
      "\n",
      "          GC       0.33      0.29      0.31        24\n",
      "        Refl       0.00      0.00      0.00         3\n",
      "        Vert       0.48      0.45      0.47        33\n",
      "\n",
      "    accuracy                           0.37        60\n",
      "   macro avg       0.27      0.25      0.26        60\n",
      "weighted avg       0.40      0.37      0.38        60\n",
      "\n"
     ]
    }
   ],
   "source": [
    "from sklearn.linear_model import LogisticRegression\n",
    "logreg = LogisticRegression(n_jobs=1, C=1e5, class_weight='balanced')\n",
    "logreg = logreg.fit(X_train_updated_google, y_train)\n",
    "y_pred = logreg.predict(X_val_updated_google)\n",
    "print('accuracy %s' % accuracy_score(y_pred, y_val))\n",
    "print(classification_report(y_val, y_pred, target_names=my_tags))"
   ]
  },
  {
   "cell_type": "markdown",
   "metadata": {},
   "source": [
    "### training with glove_small (50D) pre-trained word embedding "
   ]
  },
  {
   "cell_type": "code",
   "execution_count": 426,
   "metadata": {
    "ExecuteTime": {
     "start_time": "2020-04-14T02:23:03.137Z"
    }
   },
   "outputs": [],
   "source": [
    "def transform_with_glove_small(x):\n",
    "    return np.array([\n",
    "        np.mean([glove_small[w]\n",
    "                 for w in words if w in glove_small] or [np.zeros(glove_small['balance'].shape)],\n",
    "                axis=0) for words in x\n",
    "    ])"
   ]
  },
  {
   "cell_type": "code",
   "execution_count": 427,
   "metadata": {
    "ExecuteTime": {
     "start_time": "2020-04-14T02:23:03.151Z"
    }
   },
   "outputs": [],
   "source": [
    "X_train_updated_glove_small = transform_with_glove_small(X_train)\n",
    "# X_val_updated_glove_small = transform_with_glove_small(X_val)\n",
    "X_val_updated_glove_small = transform_with_glove_small(X_test)"
   ]
  },
  {
   "cell_type": "markdown",
   "metadata": {},
   "source": [
    "#### Linear SVM"
   ]
  },
  {
   "cell_type": "code",
   "execution_count": 428,
   "metadata": {
    "ExecuteTime": {
     "start_time": "2020-04-14T02:23:03.170Z"
    },
    "scrolled": true
   },
   "outputs": [
    {
     "data": {
      "text/plain": [
       "SVC(C=1.0, break_ties=False, cache_size=200, class_weight=None, coef0=0.0,\n",
       "    decision_function_shape='ovr', degree=3, gamma='scale', kernel='linear',\n",
       "    max_iter=-1, probability=False, random_state=None, shrinking=True,\n",
       "    tol=0.001, verbose=False)"
      ]
     },
     "execution_count": 428,
     "metadata": {},
     "output_type": "execute_result"
    }
   ],
   "source": [
    "clf = SVC(kernel='linear')\n",
    "clf.fit(X_train_updated_glove_small, y_train)"
   ]
  },
  {
   "cell_type": "code",
   "execution_count": 429,
   "metadata": {
    "ExecuteTime": {
     "start_time": "2020-04-14T02:23:03.196Z"
    }
   },
   "outputs": [],
   "source": [
    "y_pred = clf.predict(X_val_updated_glove_small)"
   ]
  },
  {
   "cell_type": "code",
   "execution_count": 430,
   "metadata": {
    "ExecuteTime": {
     "start_time": "2020-04-14T02:23:03.217Z"
    }
   },
   "outputs": [
    {
     "name": "stdout",
     "output_type": "stream",
     "text": [
      "SVM Accuracy Score ->  38.333333333333336\n"
     ]
    }
   ],
   "source": [
    "print(\"SVM Accuracy Score -> \", accuracy_score(y_pred, y_val) * 100)"
   ]
  },
  {
   "cell_type": "code",
   "execution_count": 431,
   "metadata": {
    "ExecuteTime": {
     "start_time": "2020-04-14T02:23:03.233Z"
    },
    "scrolled": true
   },
   "outputs": [
    {
     "name": "stdout",
     "output_type": "stream",
     "text": [
      "              precision    recall  f1-score   support\n",
      "\n",
      "          GC       0.45      0.54      0.49        24\n",
      "        Refl       0.00      0.00      0.00         3\n",
      "        Vert       0.56      0.30      0.39        33\n",
      "\n",
      "    accuracy                           0.38        60\n",
      "   macro avg       0.33      0.28      0.29        60\n",
      "weighted avg       0.48      0.38      0.41        60\n",
      "\n"
     ]
    }
   ],
   "source": [
    "from sklearn.metrics import classification_report\n",
    "print(classification_report(y_val, y_pred, target_names=my_tags))"
   ]
  },
  {
   "cell_type": "markdown",
   "metadata": {},
   "source": [
    "#### Weighted Linear SVM"
   ]
  },
  {
   "cell_type": "code",
   "execution_count": 432,
   "metadata": {
    "ExecuteTime": {
     "start_time": "2020-04-14T02:23:03.251Z"
    },
    "scrolled": true
   },
   "outputs": [
    {
     "data": {
      "text/plain": [
       "SVC(C=1.0, break_ties=False, cache_size=200, class_weight='balanced', coef0=0.0,\n",
       "    decision_function_shape='ovr', degree=3, gamma='scale', kernel='linear',\n",
       "    max_iter=-1, probability=False, random_state=None, shrinking=True,\n",
       "    tol=0.001, verbose=False)"
      ]
     },
     "execution_count": 432,
     "metadata": {},
     "output_type": "execute_result"
    }
   ],
   "source": [
    "clf_balanced_class_weight = SVC(kernel='linear', class_weight='balanced')\n",
    "clf_balanced_class_weight.fit(X_train_updated_glove_small, y_train)"
   ]
  },
  {
   "cell_type": "code",
   "execution_count": 433,
   "metadata": {
    "ExecuteTime": {
     "start_time": "2020-04-14T02:23:03.267Z"
    }
   },
   "outputs": [],
   "source": [
    "y_pred_balanced_class_weight = clf_balanced_class_weight.predict(\n",
    "    X_val_updated_glove_small)"
   ]
  },
  {
   "cell_type": "code",
   "execution_count": 434,
   "metadata": {
    "ExecuteTime": {
     "start_time": "2020-04-14T02:23:03.283Z"
    }
   },
   "outputs": [
    {
     "name": "stdout",
     "output_type": "stream",
     "text": [
      "SVM Accuracy Score ->  38.333333333333336\n"
     ]
    }
   ],
   "source": [
    "print(\"SVM Accuracy Score -> \",\n",
    "      accuracy_score(y_pred_balanced_class_weight, y_val) * 100)"
   ]
  },
  {
   "cell_type": "code",
   "execution_count": 435,
   "metadata": {
    "ExecuteTime": {
     "start_time": "2020-04-14T02:23:03.297Z"
    },
    "scrolled": true
   },
   "outputs": [
    {
     "name": "stdout",
     "output_type": "stream",
     "text": [
      "              precision    recall  f1-score   support\n",
      "\n",
      "          GC       0.45      0.54      0.49        24\n",
      "        Refl       0.00      0.00      0.00         3\n",
      "        Vert       0.56      0.30      0.39        33\n",
      "\n",
      "    accuracy                           0.38        60\n",
      "   macro avg       0.33      0.28      0.29        60\n",
      "weighted avg       0.48      0.38      0.41        60\n",
      "\n"
     ]
    }
   ],
   "source": [
    "from sklearn.metrics import classification_report\n",
    "print(\n",
    "    classification_report(y_val,\n",
    "                          y_pred_balanced_class_weight,\n",
    "                          target_names=my_tags))"
   ]
  },
  {
   "cell_type": "markdown",
   "metadata": {},
   "source": [
    "#### SVC with 'rbf' kernel"
   ]
  },
  {
   "cell_type": "code",
   "execution_count": 436,
   "metadata": {
    "ExecuteTime": {
     "start_time": "2020-04-14T02:23:03.315Z"
    }
   },
   "outputs": [],
   "source": [
    "X = X_train_updated_glove_small\n",
    "Y = y_train"
   ]
  },
  {
   "cell_type": "code",
   "execution_count": 437,
   "metadata": {
    "ExecuteTime": {
     "start_time": "2020-04-14T02:23:03.330Z"
    }
   },
   "outputs": [],
   "source": [
    "# It is usually a good idea to scale the data for SVM training.\n",
    "# We are cheating a bit in this example in scaling all of the data,\n",
    "# instead of fitting the transformation on the trainingset and\n",
    "# just applying it on the test set.\n",
    "\n",
    "# scaler = StandardScaler()\n",
    "# X = scaler.fit_transform(X_train_updated_google)"
   ]
  },
  {
   "cell_type": "code",
   "execution_count": 438,
   "metadata": {
    "ExecuteTime": {
     "start_time": "2020-04-14T02:23:03.345Z"
    }
   },
   "outputs": [
    {
     "data": {
      "text/plain": [
       "GridSearchCV(cv=StratifiedKFold(n_splits=10, random_state=None, shuffle=False),\n",
       "             error_score=nan,\n",
       "             estimator=SVC(C=1.0, break_ties=False, cache_size=200,\n",
       "                           class_weight=None, coef0=0.0,\n",
       "                           decision_function_shape='ovr', degree=3,\n",
       "                           gamma='scale', kernel='rbf', max_iter=-1,\n",
       "                           probability=False, random_state=None, shrinking=True,\n",
       "                           tol=0.001, verbose=False),\n",
       "             iid='deprecated', n_jobs...\n",
       "       3.20000e+01, 1.28000e+02, 5.12000e+02, 2.04800e+03, 8.19200e+03,\n",
       "       3.27680e+04, 1.31072e+05]),\n",
       "                         'gamma': array([7.62939453e-06, 3.05175781e-05, 1.22070312e-04, 4.88281250e-04,\n",
       "       1.95312500e-03, 7.81250000e-03, 3.12500000e-02, 1.25000000e-01,\n",
       "       5.00000000e-01, 2.00000000e+00, 8.00000000e+00])},\n",
       "             pre_dispatch='2*n_jobs', refit=True, return_train_score=False,\n",
       "             scoring=None, verbose=0)"
      ]
     },
     "execution_count": 438,
     "metadata": {},
     "output_type": "execute_result"
    }
   ],
   "source": [
    "C_range = 2. ** np.arange(-5, 18, 2)\n",
    "gamma_range = 2. ** np.arange(-17, 4, 2)\n",
    "param_grid = dict(gamma=gamma_range, C=C_range)\n",
    "grid = GridSearchCV(SVC(), param_grid=param_grid,\n",
    "                    cv=StratifiedKFold(n_splits=10))\n",
    "grid.fit(X, Y)"
   ]
  },
  {
   "cell_type": "code",
   "execution_count": 439,
   "metadata": {
    "ExecuteTime": {
     "start_time": "2020-04-14T02:23:03.359Z"
    }
   },
   "outputs": [
    {
     "name": "stdout",
     "output_type": "stream",
     "text": [
      "The best classifier is:  SVC(C=128.0, break_ties=False, cache_size=200, class_weight=None, coef0=0.0,\n",
      "    decision_function_shape='ovr', degree=3, gamma=0.001953125, kernel='rbf',\n",
      "    max_iter=-1, probability=False, random_state=None, shrinking=True,\n",
      "    tol=0.001, verbose=False)\n"
     ]
    }
   ],
   "source": [
    "print(\"The best classifier is: \", grid.best_estimator_)"
   ]
  },
  {
   "cell_type": "code",
   "execution_count": 440,
   "metadata": {
    "ExecuteTime": {
     "start_time": "2020-04-14T02:23:03.375Z"
    }
   },
   "outputs": [
    {
     "data": {
      "text/plain": [
       "SVC(C=128.0, break_ties=False, cache_size=200, class_weight=None, coef0=0.0,\n",
       "    decision_function_shape='ovr', degree=3, gamma=0.001953125, kernel='rbf',\n",
       "    max_iter=-1, probability=False, random_state=None, shrinking=True,\n",
       "    tol=0.001, verbose=False)"
      ]
     },
     "execution_count": 440,
     "metadata": {},
     "output_type": "execute_result"
    }
   ],
   "source": [
    "clf = grid.best_estimator_\n",
    "clf.fit(X, Y)"
   ]
  },
  {
   "cell_type": "code",
   "execution_count": 441,
   "metadata": {
    "ExecuteTime": {
     "start_time": "2020-04-14T02:23:03.396Z"
    }
   },
   "outputs": [],
   "source": [
    "y_pred = clf.predict(X_val_updated_glove_small)"
   ]
  },
  {
   "cell_type": "code",
   "execution_count": 442,
   "metadata": {
    "ExecuteTime": {
     "start_time": "2020-04-14T02:23:03.412Z"
    }
   },
   "outputs": [
    {
     "name": "stdout",
     "output_type": "stream",
     "text": [
      "('SVM Accuracy Score -> ', 38.333333333333336)\n"
     ]
    }
   ],
   "source": [
    "print((\"SVM Accuracy Score -> \", accuracy_score(y_pred, y_val) * 100))"
   ]
  },
  {
   "cell_type": "code",
   "execution_count": 443,
   "metadata": {
    "ExecuteTime": {
     "start_time": "2020-04-14T02:23:03.427Z"
    }
   },
   "outputs": [
    {
     "name": "stdout",
     "output_type": "stream",
     "text": [
      "              precision    recall  f1-score   support\n",
      "\n",
      "          GC       0.41      0.50      0.45        24\n",
      "        Refl       0.00      0.00      0.00         3\n",
      "        Vert       0.55      0.33      0.42        33\n",
      "\n",
      "    accuracy                           0.38        60\n",
      "   macro avg       0.32      0.28      0.29        60\n",
      "weighted avg       0.47      0.38      0.41        60\n",
      "\n"
     ]
    }
   ],
   "source": [
    "from sklearn.metrics import classification_report\n",
    "print((classification_report(y_val, y_pred, target_names=my_tags)))"
   ]
  },
  {
   "cell_type": "markdown",
   "metadata": {},
   "source": [
    "#### Weighted SVC with 'rbf' kernel "
   ]
  },
  {
   "cell_type": "code",
   "execution_count": 444,
   "metadata": {
    "ExecuteTime": {
     "start_time": "2020-04-14T02:23:03.447Z"
    }
   },
   "outputs": [],
   "source": [
    "X = X_train_updated_glove_small\n",
    "Y = y_train"
   ]
  },
  {
   "cell_type": "code",
   "execution_count": 445,
   "metadata": {
    "ExecuteTime": {
     "start_time": "2020-04-14T02:23:03.462Z"
    }
   },
   "outputs": [],
   "source": [
    "# It is usually a good idea to scale the data for SVM training.\n",
    "# We are cheating a bit in this example in scaling all of the data,\n",
    "# instead of fitting the transformation on the trainingset and\n",
    "# just applying it on the test set.\n",
    "\n",
    "# scaler = StandardScaler()\n",
    "# X = scaler.fit_transform(X_train_updated_glove_small)"
   ]
  },
  {
   "cell_type": "code",
   "execution_count": 446,
   "metadata": {
    "ExecuteTime": {
     "start_time": "2020-04-14T02:23:03.476Z"
    }
   },
   "outputs": [
    {
     "data": {
      "text/plain": [
       "GridSearchCV(cv=StratifiedKFold(n_splits=10, random_state=None, shuffle=False),\n",
       "             error_score=nan,\n",
       "             estimator=SVC(C=1.0, break_ties=False, cache_size=200,\n",
       "                           class_weight=None, coef0=0.0,\n",
       "                           decision_function_shape='ovr', degree=3,\n",
       "                           gamma='scale', kernel='rbf', max_iter=-1,\n",
       "                           probability=False, random_state=None, shrinking=True,\n",
       "                           tol=0.001, verbose=False),\n",
       "             iid='deprecated', n_jobs...\n",
       "       3.20000e+01, 1.28000e+02, 5.12000e+02, 2.04800e+03, 8.19200e+03,\n",
       "       3.27680e+04, 1.31072e+05]),\n",
       "                         'gamma': array([7.62939453e-06, 3.05175781e-05, 1.22070312e-04, 4.88281250e-04,\n",
       "       1.95312500e-03, 7.81250000e-03, 3.12500000e-02, 1.25000000e-01,\n",
       "       5.00000000e-01, 2.00000000e+00, 8.00000000e+00])},\n",
       "             pre_dispatch='2*n_jobs', refit=True, return_train_score=False,\n",
       "             scoring=None, verbose=0)"
      ]
     },
     "execution_count": 446,
     "metadata": {},
     "output_type": "execute_result"
    }
   ],
   "source": [
    "C_range = 2. ** np.arange(-5, 18, 2)\n",
    "gamma_range = 2. ** np.arange(-17, 4, 2)\n",
    "param_grid = dict(gamma=gamma_range, C=C_range)\n",
    "grid = GridSearchCV(SVC(), param_grid=param_grid,\n",
    "                    cv=StratifiedKFold(n_splits=10))\n",
    "grid.fit(X, Y)"
   ]
  },
  {
   "cell_type": "code",
   "execution_count": 447,
   "metadata": {
    "ExecuteTime": {
     "start_time": "2020-04-14T02:23:03.491Z"
    }
   },
   "outputs": [
    {
     "data": {
      "text/plain": [
       "{'gamma': array([7.62939453e-06, 3.05175781e-05, 1.22070312e-04, 4.88281250e-04,\n",
       "        1.95312500e-03, 7.81250000e-03, 3.12500000e-02, 1.25000000e-01,\n",
       "        5.00000000e-01, 2.00000000e+00, 8.00000000e+00]),\n",
       " 'C': array([3.12500e-02, 1.25000e-01, 5.00000e-01, 2.00000e+00, 8.00000e+00,\n",
       "        3.20000e+01, 1.28000e+02, 5.12000e+02, 2.04800e+03, 8.19200e+03,\n",
       "        3.27680e+04, 1.31072e+05])}"
      ]
     },
     "execution_count": 447,
     "metadata": {},
     "output_type": "execute_result"
    }
   ],
   "source": [
    "param_grid"
   ]
  },
  {
   "cell_type": "code",
   "execution_count": 448,
   "metadata": {
    "ExecuteTime": {
     "start_time": "2020-04-14T02:23:03.508Z"
    }
   },
   "outputs": [
    {
     "name": "stdout",
     "output_type": "stream",
     "text": [
      "The best classifier is:  SVC(C=128.0, break_ties=False, cache_size=200, class_weight=None, coef0=0.0,\n",
      "    decision_function_shape='ovr', degree=3, gamma=0.001953125, kernel='rbf',\n",
      "    max_iter=-1, probability=False, random_state=None, shrinking=True,\n",
      "    tol=0.001, verbose=False)\n"
     ]
    }
   ],
   "source": [
    "print(\"The best classifier is: \", grid.best_estimator_)"
   ]
  },
  {
   "cell_type": "code",
   "execution_count": 449,
   "metadata": {
    "ExecuteTime": {
     "start_time": "2020-04-14T02:23:03.525Z"
    }
   },
   "outputs": [
    {
     "name": "stdout",
     "output_type": "stream",
     "text": [
      "The best parameters are {'C': 128.0, 'gamma': 0.001953125} with a score of 0.45\n"
     ]
    }
   ],
   "source": [
    "print(\"The best parameters are %s with a score of %0.2f\"\n",
    "      % (grid.best_params_, grid.best_score_))"
   ]
  },
  {
   "cell_type": "code",
   "execution_count": 450,
   "metadata": {
    "ExecuteTime": {
     "start_time": "2020-04-14T02:23:03.545Z"
    }
   },
   "outputs": [
    {
     "data": {
      "text/plain": [
       "SVC(C=512.0, break_ties=False, cache_size=200, class_weight='balanced',\n",
       "    coef0=0.0, decision_function_shape='ovr', degree=3, gamma=0.00048828125,\n",
       "    kernel='rbf', max_iter=-1, probability=False, random_state=None,\n",
       "    shrinking=True, tol=0.001, verbose=False)"
      ]
     },
     "execution_count": 450,
     "metadata": {},
     "output_type": "execute_result"
    }
   ],
   "source": [
    "clf = SVC(C=512.0, class_weight='balanced', gamma=0.00048828125, kernel='rbf')\n",
    "clf.fit(X, Y)"
   ]
  },
  {
   "cell_type": "code",
   "execution_count": 451,
   "metadata": {
    "ExecuteTime": {
     "start_time": "2020-04-14T02:23:03.564Z"
    }
   },
   "outputs": [],
   "source": [
    "y_pred = clf.predict(X_val_updated_glove_small)"
   ]
  },
  {
   "cell_type": "code",
   "execution_count": 452,
   "metadata": {
    "ExecuteTime": {
     "start_time": "2020-04-14T02:23:03.581Z"
    }
   },
   "outputs": [
    {
     "name": "stdout",
     "output_type": "stream",
     "text": [
      "('SVM Accuracy Score -> ', 36.666666666666664)\n"
     ]
    }
   ],
   "source": [
    "print((\"SVM Accuracy Score -> \", accuracy_score(y_pred, y_val) * 100))"
   ]
  },
  {
   "cell_type": "code",
   "execution_count": 453,
   "metadata": {
    "ExecuteTime": {
     "start_time": "2020-04-14T02:23:03.595Z"
    },
    "scrolled": false
   },
   "outputs": [
    {
     "name": "stdout",
     "output_type": "stream",
     "text": [
      "              precision    recall  f1-score   support\n",
      "\n",
      "          GC       0.43      0.50      0.46        24\n",
      "        Refl       0.00      0.00      0.00         3\n",
      "        Vert       0.53      0.30      0.38        33\n",
      "\n",
      "    accuracy                           0.37        60\n",
      "   macro avg       0.32      0.27      0.28        60\n",
      "weighted avg       0.46      0.37      0.40        60\n",
      "\n"
     ]
    }
   ],
   "source": [
    "from sklearn.metrics import classification_report\n",
    "print((classification_report(y_val, y_pred, target_names=my_tags)))"
   ]
  },
  {
   "cell_type": "markdown",
   "metadata": {},
   "source": [
    "#### Logistice regression"
   ]
  },
  {
   "cell_type": "code",
   "execution_count": 454,
   "metadata": {
    "ExecuteTime": {
     "start_time": "2020-04-14T02:23:03.620Z"
    },
    "scrolled": false
   },
   "outputs": [
    {
     "name": "stdout",
     "output_type": "stream",
     "text": [
      "accuracy 0.43333333333333335\n",
      "              precision    recall  f1-score   support\n",
      "\n",
      "          GC       0.44      0.50      0.47        24\n",
      "        Refl       0.10      0.33      0.15         3\n",
      "        Vert       0.57      0.39      0.46        33\n",
      "\n",
      "    accuracy                           0.43        60\n",
      "   macro avg       0.37      0.41      0.36        60\n",
      "weighted avg       0.49      0.43      0.45        60\n",
      "\n"
     ]
    }
   ],
   "source": [
    "from sklearn.linear_model import LogisticRegression\n",
    "logreg = LogisticRegression(n_jobs=1, C=1e5)\n",
    "logreg = logreg.fit(X_train_updated_glove_small, y_train)\n",
    "y_pred = logreg.predict(X_val_updated_glove_small)\n",
    "print('accuracy %s' % accuracy_score(y_pred, y_val))\n",
    "print(classification_report(y_val, y_pred, target_names=my_tags))"
   ]
  },
  {
   "cell_type": "markdown",
   "metadata": {},
   "source": [
    "#### Weighted logistice regression"
   ]
  },
  {
   "cell_type": "code",
   "execution_count": 455,
   "metadata": {
    "ExecuteTime": {
     "start_time": "2020-04-14T02:23:03.638Z"
    },
    "scrolled": false
   },
   "outputs": [
    {
     "name": "stdout",
     "output_type": "stream",
     "text": [
      "accuracy 0.4\n",
      "              precision    recall  f1-score   support\n",
      "\n",
      "          GC       0.41      0.46      0.43        24\n",
      "        Refl       0.09      0.33      0.14         3\n",
      "        Vert       0.55      0.36      0.44        33\n",
      "\n",
      "    accuracy                           0.40        60\n",
      "   macro avg       0.35      0.39      0.34        60\n",
      "weighted avg       0.47      0.40      0.42        60\n",
      "\n"
     ]
    }
   ],
   "source": [
    "from sklearn.linear_model import LogisticRegression\n",
    "logreg = LogisticRegression(n_jobs=1, C=1e5, class_weight='balanced')\n",
    "logreg = logreg.fit(X_train_updated_glove_small, y_train)\n",
    "y_pred = logreg.predict(X_val_updated_glove_small)\n",
    "print('accuracy %s' % accuracy_score(y_pred, y_val))\n",
    "print(classification_report(y_val, y_pred, target_names=my_tags))"
   ]
  },
  {
   "cell_type": "markdown",
   "metadata": {},
   "source": [
    "### training with glove_big (300D) pre-trained word embedding "
   ]
  },
  {
   "cell_type": "code",
   "execution_count": 456,
   "metadata": {
    "ExecuteTime": {
     "start_time": "2020-04-14T02:23:03.657Z"
    }
   },
   "outputs": [],
   "source": [
    "# def transform_with_glove_big(x):\n",
    "#     return np.array([\n",
    "#         np.mean([glove_big[w]\n",
    "#                  for w in words if w in glove_big] or [np.zeros(glove_big['balance'].shape)],\n",
    "#                 axis=0) for words in x\n",
    "#     ])\n",
    "def transform_with_glove_big(x):\n",
    "    return np.array([\n",
    "        np.concatenate(([glove_big[w]\n",
    "                 for w in words if w in glove_big]or [np.zeros(glove_big['balance'].shape)],\n",
    "                       [particle_features[w]\n",
    "                 for w in words if w in particle_features]or [np.zeros(particle_features['balance'].shape)]),\n",
    "                axis=None) for words in x\n",
    "    ]) "
   ]
  },
  {
   "cell_type": "code",
   "execution_count": 457,
   "metadata": {
    "ExecuteTime": {
     "start_time": "2020-04-14T02:23:03.679Z"
    }
   },
   "outputs": [],
   "source": [
    "X_train_updated_glove_big = transform_with_glove_big(X_train)\n",
    "# X_val_updated_glove_big = transform_with_glove_big(X_val)\n",
    "X_val_updated_glove_big = transform_with_glove_big(X_test)"
   ]
  },
  {
   "cell_type": "markdown",
   "metadata": {},
   "source": [
    "#### Linear SVM"
   ]
  },
  {
   "cell_type": "code",
   "execution_count": 458,
   "metadata": {
    "ExecuteTime": {
     "start_time": "2020-04-14T02:23:03.707Z"
    },
    "scrolled": true
   },
   "outputs": [
    {
     "data": {
      "text/plain": [
       "SVC(C=1.0, break_ties=False, cache_size=200, class_weight=None, coef0=0.0,\n",
       "    decision_function_shape='ovr', degree=3, gamma='scale', kernel='linear',\n",
       "    max_iter=-1, probability=False, random_state=None, shrinking=True,\n",
       "    tol=0.001, verbose=False)"
      ]
     },
     "execution_count": 458,
     "metadata": {},
     "output_type": "execute_result"
    }
   ],
   "source": [
    "clf = SVC(kernel='linear')\n",
    "clf.fit(X_train_updated_glove_big, y_train)"
   ]
  },
  {
   "cell_type": "code",
   "execution_count": 459,
   "metadata": {
    "ExecuteTime": {
     "start_time": "2020-04-14T02:23:03.726Z"
    }
   },
   "outputs": [],
   "source": [
    "y_pred = clf.predict(X_val_updated_glove_big)"
   ]
  },
  {
   "cell_type": "code",
   "execution_count": 460,
   "metadata": {
    "ExecuteTime": {
     "start_time": "2020-04-14T02:23:03.741Z"
    }
   },
   "outputs": [
    {
     "name": "stdout",
     "output_type": "stream",
     "text": [
      "SVM Accuracy Score ->  26.666666666666668\n"
     ]
    }
   ],
   "source": [
    "print(\"SVM Accuracy Score -> \", accuracy_score(y_pred, y_val) * 100)"
   ]
  },
  {
   "cell_type": "code",
   "execution_count": 461,
   "metadata": {
    "ExecuteTime": {
     "start_time": "2020-04-14T02:23:03.761Z"
    }
   },
   "outputs": [
    {
     "name": "stdout",
     "output_type": "stream",
     "text": [
      "              precision    recall  f1-score   support\n",
      "\n",
      "          GC       0.24      0.25      0.24        24\n",
      "        Refl       0.00      0.00      0.00         3\n",
      "        Vert       0.37      0.30      0.33        33\n",
      "\n",
      "    accuracy                           0.27        60\n",
      "   macro avg       0.20      0.18      0.19        60\n",
      "weighted avg       0.30      0.27      0.28        60\n",
      "\n"
     ]
    }
   ],
   "source": [
    "from sklearn.metrics import classification_report\n",
    "print(classification_report(y_val, y_pred, target_names=my_tags))"
   ]
  },
  {
   "cell_type": "markdown",
   "metadata": {},
   "source": [
    "#### Weighted Linear SVM"
   ]
  },
  {
   "cell_type": "code",
   "execution_count": 462,
   "metadata": {
    "ExecuteTime": {
     "start_time": "2020-04-14T02:23:03.779Z"
    },
    "scrolled": true
   },
   "outputs": [
    {
     "data": {
      "text/plain": [
       "SVC(C=1.0, break_ties=False, cache_size=200, class_weight='balanced', coef0=0.0,\n",
       "    decision_function_shape='ovr', degree=3, gamma='scale', kernel='linear',\n",
       "    max_iter=-1, probability=False, random_state=None, shrinking=True,\n",
       "    tol=0.001, verbose=False)"
      ]
     },
     "execution_count": 462,
     "metadata": {},
     "output_type": "execute_result"
    }
   ],
   "source": [
    "clf_balanced_class_weight = SVC(kernel='linear', class_weight='balanced')\n",
    "clf_balanced_class_weight.fit(X_train_updated_glove_big, y_train)"
   ]
  },
  {
   "cell_type": "code",
   "execution_count": 463,
   "metadata": {
    "ExecuteTime": {
     "start_time": "2020-04-14T02:23:03.794Z"
    }
   },
   "outputs": [],
   "source": [
    "y_pred_balanced_class_weight = clf_balanced_class_weight.predict(\n",
    "    X_val_updated_glove_big)"
   ]
  },
  {
   "cell_type": "code",
   "execution_count": 464,
   "metadata": {
    "ExecuteTime": {
     "start_time": "2020-04-14T02:23:03.810Z"
    }
   },
   "outputs": [
    {
     "name": "stdout",
     "output_type": "stream",
     "text": [
      "SVM Accuracy Score ->  26.666666666666668\n"
     ]
    }
   ],
   "source": [
    "print(\"SVM Accuracy Score -> \",\n",
    "      accuracy_score(y_pred_balanced_class_weight, y_val) * 100)"
   ]
  },
  {
   "cell_type": "code",
   "execution_count": 465,
   "metadata": {
    "ExecuteTime": {
     "start_time": "2020-04-14T02:23:03.826Z"
    }
   },
   "outputs": [
    {
     "name": "stdout",
     "output_type": "stream",
     "text": [
      "              precision    recall  f1-score   support\n",
      "\n",
      "          GC       0.24      0.25      0.24        24\n",
      "        Refl       0.00      0.00      0.00         3\n",
      "        Vert       0.37      0.30      0.33        33\n",
      "\n",
      "    accuracy                           0.27        60\n",
      "   macro avg       0.20      0.18      0.19        60\n",
      "weighted avg       0.30      0.27      0.28        60\n",
      "\n"
     ]
    }
   ],
   "source": [
    "from sklearn.metrics import classification_report\n",
    "print(\n",
    "    classification_report(y_val,\n",
    "                          y_pred_balanced_class_weight,\n",
    "                          target_names=my_tags))"
   ]
  },
  {
   "cell_type": "markdown",
   "metadata": {},
   "source": [
    "#### SVC with 'rbf' kernel"
   ]
  },
  {
   "cell_type": "code",
   "execution_count": 466,
   "metadata": {
    "ExecuteTime": {
     "start_time": "2020-04-14T02:23:03.848Z"
    }
   },
   "outputs": [],
   "source": [
    "X = X_train_updated_glove_big\n",
    "Y = y_train"
   ]
  },
  {
   "cell_type": "code",
   "execution_count": 467,
   "metadata": {
    "ExecuteTime": {
     "start_time": "2020-04-14T02:23:03.865Z"
    }
   },
   "outputs": [],
   "source": [
    "# It is usually a good idea to scale the data for SVM training.\n",
    "# We are cheating a bit in this example in scaling all of the data,\n",
    "# instead of fitting the transformation on the trainingset and\n",
    "# just applying it on the test set.\n",
    "\n",
    "# scaler = StandardScaler()\n",
    "# X = scaler.fit_transform(X_train_updated_google)"
   ]
  },
  {
   "cell_type": "code",
   "execution_count": 468,
   "metadata": {
    "ExecuteTime": {
     "start_time": "2020-04-14T02:23:03.881Z"
    }
   },
   "outputs": [
    {
     "data": {
      "text/plain": [
       "GridSearchCV(cv=StratifiedKFold(n_splits=10, random_state=None, shuffle=False),\n",
       "             error_score=nan,\n",
       "             estimator=SVC(C=1.0, break_ties=False, cache_size=200,\n",
       "                           class_weight=None, coef0=0.0,\n",
       "                           decision_function_shape='ovr', degree=3,\n",
       "                           gamma='scale', kernel='rbf', max_iter=-1,\n",
       "                           probability=False, random_state=None, shrinking=True,\n",
       "                           tol=0.001, verbose=False),\n",
       "             iid='deprecated', n_jobs...\n",
       "       3.20000e+01, 1.28000e+02, 5.12000e+02, 2.04800e+03, 8.19200e+03,\n",
       "       3.27680e+04, 1.31072e+05]),\n",
       "                         'gamma': array([7.62939453e-06, 3.05175781e-05, 1.22070312e-04, 4.88281250e-04,\n",
       "       1.95312500e-03, 7.81250000e-03, 3.12500000e-02, 1.25000000e-01,\n",
       "       5.00000000e-01, 2.00000000e+00, 8.00000000e+00])},\n",
       "             pre_dispatch='2*n_jobs', refit=True, return_train_score=False,\n",
       "             scoring=None, verbose=0)"
      ]
     },
     "execution_count": 468,
     "metadata": {},
     "output_type": "execute_result"
    }
   ],
   "source": [
    "C_range = 2. ** np.arange(-5, 18, 2)\n",
    "gamma_range = 2. ** np.arange(-17, 4, 2)\n",
    "param_grid = dict(gamma=gamma_range, C=C_range)\n",
    "grid = GridSearchCV(SVC(), param_grid=param_grid,\n",
    "                    cv=StratifiedKFold(n_splits=10))\n",
    "grid.fit(X, Y)"
   ]
  },
  {
   "cell_type": "code",
   "execution_count": 469,
   "metadata": {
    "ExecuteTime": {
     "start_time": "2020-04-14T02:23:03.898Z"
    }
   },
   "outputs": [
    {
     "name": "stdout",
     "output_type": "stream",
     "text": [
      "The best classifier is:  SVC(C=32.0, break_ties=False, cache_size=200, class_weight=None, coef0=0.0,\n",
      "    decision_function_shape='ovr', degree=3, gamma=0.001953125, kernel='rbf',\n",
      "    max_iter=-1, probability=False, random_state=None, shrinking=True,\n",
      "    tol=0.001, verbose=False)\n"
     ]
    }
   ],
   "source": [
    "print(\"The best classifier is: \", grid.best_estimator_)"
   ]
  },
  {
   "cell_type": "code",
   "execution_count": 470,
   "metadata": {
    "ExecuteTime": {
     "start_time": "2020-04-14T02:23:03.919Z"
    }
   },
   "outputs": [
    {
     "data": {
      "text/plain": [
       "SVC(C=32.0, break_ties=False, cache_size=200, class_weight=None, coef0=0.0,\n",
       "    decision_function_shape='ovr', degree=3, gamma=0.001953125, kernel='rbf',\n",
       "    max_iter=-1, probability=False, random_state=None, shrinking=True,\n",
       "    tol=0.001, verbose=False)"
      ]
     },
     "execution_count": 470,
     "metadata": {},
     "output_type": "execute_result"
    }
   ],
   "source": [
    "clf = grid.best_estimator_\n",
    "clf.fit(X, Y)"
   ]
  },
  {
   "cell_type": "code",
   "execution_count": 471,
   "metadata": {
    "ExecuteTime": {
     "start_time": "2020-04-14T02:23:03.934Z"
    }
   },
   "outputs": [],
   "source": [
    "y_pred = clf.predict(X_val_updated_glove_big)"
   ]
  },
  {
   "cell_type": "code",
   "execution_count": 472,
   "metadata": {
    "ExecuteTime": {
     "start_time": "2020-04-14T02:23:03.948Z"
    }
   },
   "outputs": [
    {
     "name": "stdout",
     "output_type": "stream",
     "text": [
      "('SVM Accuracy Score -> ', 33.33333333333333)\n"
     ]
    }
   ],
   "source": [
    "print((\"SVM Accuracy Score -> \", accuracy_score(y_pred, y_val) * 100))"
   ]
  },
  {
   "cell_type": "code",
   "execution_count": 473,
   "metadata": {
    "ExecuteTime": {
     "start_time": "2020-04-14T02:23:03.964Z"
    }
   },
   "outputs": [
    {
     "name": "stdout",
     "output_type": "stream",
     "text": [
      "              precision    recall  f1-score   support\n",
      "\n",
      "          GC       0.27      0.25      0.26        24\n",
      "        Refl       0.00      0.00      0.00         3\n",
      "        Vert       0.45      0.42      0.44        33\n",
      "\n",
      "    accuracy                           0.33        60\n",
      "   macro avg       0.24      0.22      0.23        60\n",
      "weighted avg       0.36      0.33      0.34        60\n",
      "\n"
     ]
    }
   ],
   "source": [
    "from sklearn.metrics import classification_report\n",
    "print((classification_report(y_val, y_pred, target_names=my_tags)))"
   ]
  },
  {
   "cell_type": "markdown",
   "metadata": {},
   "source": [
    "#### Weighted SVC with 'rbf' kernel "
   ]
  },
  {
   "cell_type": "code",
   "execution_count": 474,
   "metadata": {
    "ExecuteTime": {
     "start_time": "2020-04-14T02:23:03.980Z"
    }
   },
   "outputs": [],
   "source": [
    "X = X_train_updated_glove_big\n",
    "Y = y_train"
   ]
  },
  {
   "cell_type": "code",
   "execution_count": 475,
   "metadata": {
    "ExecuteTime": {
     "start_time": "2020-04-14T02:23:03.995Z"
    }
   },
   "outputs": [],
   "source": [
    "# It is usually a good idea to scale the data for SVM training.\n",
    "# We are cheating a bit in this example in scaling all of the data,\n",
    "# instead of fitting the transformation on the trainingset and\n",
    "# just applying it on the test set.\n",
    "\n",
    "# scaler = StandardScaler()\n",
    "# X = scaler.fit_transform(X = X_train_updated_glove_big)"
   ]
  },
  {
   "cell_type": "code",
   "execution_count": 476,
   "metadata": {
    "ExecuteTime": {
     "start_time": "2020-04-14T02:23:04.011Z"
    }
   },
   "outputs": [
    {
     "data": {
      "text/plain": [
       "GridSearchCV(cv=StratifiedKFold(n_splits=10, random_state=None, shuffle=False),\n",
       "             error_score=nan,\n",
       "             estimator=SVC(C=1.0, break_ties=False, cache_size=200,\n",
       "                           class_weight=None, coef0=0.0,\n",
       "                           decision_function_shape='ovr', degree=3,\n",
       "                           gamma='scale', kernel='rbf', max_iter=-1,\n",
       "                           probability=False, random_state=None, shrinking=True,\n",
       "                           tol=0.001, verbose=False),\n",
       "             iid='deprecated', n_jobs...\n",
       "       3.20000e+01, 1.28000e+02, 5.12000e+02, 2.04800e+03, 8.19200e+03,\n",
       "       3.27680e+04, 1.31072e+05]),\n",
       "                         'gamma': array([7.62939453e-06, 3.05175781e-05, 1.22070312e-04, 4.88281250e-04,\n",
       "       1.95312500e-03, 7.81250000e-03, 3.12500000e-02, 1.25000000e-01,\n",
       "       5.00000000e-01, 2.00000000e+00, 8.00000000e+00])},\n",
       "             pre_dispatch='2*n_jobs', refit=True, return_train_score=False,\n",
       "             scoring=None, verbose=0)"
      ]
     },
     "execution_count": 476,
     "metadata": {},
     "output_type": "execute_result"
    }
   ],
   "source": [
    "C_range = 2. ** np.arange(-5, 18, 2)\n",
    "gamma_range = 2. ** np.arange(-17, 4, 2)\n",
    "param_grid = dict(gamma=gamma_range, C=C_range)\n",
    "grid = GridSearchCV(SVC(), param_grid=param_grid,\n",
    "                    cv=StratifiedKFold(n_splits=10))\n",
    "grid.fit(X, Y)"
   ]
  },
  {
   "cell_type": "code",
   "execution_count": 477,
   "metadata": {
    "ExecuteTime": {
     "start_time": "2020-04-14T02:23:04.027Z"
    }
   },
   "outputs": [
    {
     "data": {
      "text/plain": [
       "{'gamma': array([7.62939453e-06, 3.05175781e-05, 1.22070312e-04, 4.88281250e-04,\n",
       "        1.95312500e-03, 7.81250000e-03, 3.12500000e-02, 1.25000000e-01,\n",
       "        5.00000000e-01, 2.00000000e+00, 8.00000000e+00]),\n",
       " 'C': array([3.12500e-02, 1.25000e-01, 5.00000e-01, 2.00000e+00, 8.00000e+00,\n",
       "        3.20000e+01, 1.28000e+02, 5.12000e+02, 2.04800e+03, 8.19200e+03,\n",
       "        3.27680e+04, 1.31072e+05])}"
      ]
     },
     "execution_count": 477,
     "metadata": {},
     "output_type": "execute_result"
    }
   ],
   "source": [
    "param_grid"
   ]
  },
  {
   "cell_type": "code",
   "execution_count": 478,
   "metadata": {
    "ExecuteTime": {
     "start_time": "2020-04-14T02:23:04.041Z"
    }
   },
   "outputs": [
    {
     "name": "stdout",
     "output_type": "stream",
     "text": [
      "The best classifier is:  SVC(C=32.0, break_ties=False, cache_size=200, class_weight=None, coef0=0.0,\n",
      "    decision_function_shape='ovr', degree=3, gamma=0.001953125, kernel='rbf',\n",
      "    max_iter=-1, probability=False, random_state=None, shrinking=True,\n",
      "    tol=0.001, verbose=False)\n"
     ]
    }
   ],
   "source": [
    "print(\"The best classifier is: \", grid.best_estimator_)"
   ]
  },
  {
   "cell_type": "code",
   "execution_count": 479,
   "metadata": {
    "ExecuteTime": {
     "start_time": "2020-04-14T02:23:04.056Z"
    }
   },
   "outputs": [
    {
     "name": "stdout",
     "output_type": "stream",
     "text": [
      "The best parameters are {'C': 32.0, 'gamma': 0.001953125} with a score of 0.48\n"
     ]
    }
   ],
   "source": [
    "print(\"The best parameters are %s with a score of %0.2f\"\n",
    "      % (grid.best_params_, grid.best_score_))"
   ]
  },
  {
   "cell_type": "code",
   "execution_count": 480,
   "metadata": {
    "ExecuteTime": {
     "start_time": "2020-04-14T02:23:04.072Z"
    }
   },
   "outputs": [
    {
     "data": {
      "text/plain": [
       "SVC(C=32.0, break_ties=False, cache_size=200, class_weight='balanced',\n",
       "    coef0=0.0, decision_function_shape='ovr', degree=3, gamma=0.001953125,\n",
       "    kernel='rbf', max_iter=-1, probability=False, random_state=None,\n",
       "    shrinking=True, tol=0.001, verbose=False)"
      ]
     },
     "execution_count": 480,
     "metadata": {},
     "output_type": "execute_result"
    }
   ],
   "source": [
    "clf = SVC(C=32.0, class_weight='balanced', gamma=0.001953125, kernel='rbf')\n",
    "clf.fit(X, Y)"
   ]
  },
  {
   "cell_type": "code",
   "execution_count": 481,
   "metadata": {
    "ExecuteTime": {
     "start_time": "2020-04-14T02:23:04.085Z"
    }
   },
   "outputs": [],
   "source": [
    "y_pred = clf.predict(X_val_updated_glove_big)"
   ]
  },
  {
   "cell_type": "code",
   "execution_count": 482,
   "metadata": {
    "ExecuteTime": {
     "start_time": "2020-04-14T02:23:04.099Z"
    }
   },
   "outputs": [
    {
     "name": "stdout",
     "output_type": "stream",
     "text": [
      "('SVM Accuracy Score -> ', 35.0)\n"
     ]
    }
   ],
   "source": [
    "print((\"SVM Accuracy Score -> \", accuracy_score(y_pred, y_val) * 100))"
   ]
  },
  {
   "cell_type": "code",
   "execution_count": 483,
   "metadata": {
    "ExecuteTime": {
     "start_time": "2020-04-14T02:23:04.118Z"
    }
   },
   "outputs": [
    {
     "data": {
      "text/plain": [
       "array(['GC', 'GC', 'GC', 'Vert', 'Vert', 'Vert', 'GC', 'GC', 'Vert',\n",
       "       'Vert', 'GC', 'Vert', 'GC', 'GC', 'Vert', 'GC', 'Vert', 'Vert',\n",
       "       'GC', 'Vert', 'Refl', 'Vert', 'Vert', 'Vert', 'Vert', 'Vert',\n",
       "       'Vert', 'Vert', 'Vert', 'Vert', 'Vert', 'GC', 'GC', 'Vert', 'GC',\n",
       "       'GC', 'Vert', 'GC', 'Vert', 'Vert', 'GC', 'Refl', 'Vert', 'GC',\n",
       "       'Refl', 'Vert', 'GC', 'GC', 'GC', 'Vert', 'Vert', 'Vert', 'GC',\n",
       "       'Vert', 'Vert', 'GC', 'Vert', 'Vert', 'GC', 'GC'], dtype='<U5')"
      ]
     },
     "execution_count": 483,
     "metadata": {},
     "output_type": "execute_result"
    }
   ],
   "source": [
    "y_val"
   ]
  },
  {
   "cell_type": "code",
   "execution_count": 484,
   "metadata": {
    "ExecuteTime": {
     "start_time": "2020-04-14T02:23:04.133Z"
    }
   },
   "outputs": [
    {
     "data": {
      "text/plain": [
       "array(['Vert', 'Vert', 'GC', 'Vert', 'Refl', 'Vert', 'Vert', 'GC', 'Vert',\n",
       "       'GC', 'Vert', 'Refl', 'Vert', 'Vert', 'Vert', 'Refl', 'GC', 'GC',\n",
       "       'Vert', 'GC', 'GC', 'GC', 'GC', 'GC', 'Refl', 'Refl', 'Vert',\n",
       "       'Vert', 'Vert', 'GC', 'GC', 'GC', 'Refl', 'GC', 'Vert', 'GC',\n",
       "       'Vert', 'Vert', 'Vert', 'Vert', 'Vert', 'Vert', 'GC', 'Vert',\n",
       "       'Vert', 'GC', 'Refl', 'Vert', 'GC', 'Vert', 'Vert', 'Vert', 'GC',\n",
       "       'GC', 'Vert', 'Vert', 'Vert', 'GC', 'Vert', 'Vert'], dtype='<U5')"
      ]
     },
     "execution_count": 484,
     "metadata": {},
     "output_type": "execute_result"
    }
   ],
   "source": [
    "y_pred"
   ]
  },
  {
   "cell_type": "code",
   "execution_count": 485,
   "metadata": {
    "ExecuteTime": {
     "start_time": "2020-04-14T02:23:04.149Z"
    },
    "scrolled": false
   },
   "outputs": [
    {
     "name": "stdout",
     "output_type": "stream",
     "text": [
      "              precision    recall  f1-score   support\n",
      "\n",
      "          GC       0.29      0.25      0.27        24\n",
      "        Refl       0.00      0.00      0.00         3\n",
      "        Vert       0.47      0.45      0.46        33\n",
      "\n",
      "    accuracy                           0.35        60\n",
      "   macro avg       0.25      0.23      0.24        60\n",
      "weighted avg       0.37      0.35      0.36        60\n",
      "\n"
     ]
    }
   ],
   "source": [
    "from sklearn.metrics import classification_report\n",
    "print((classification_report(y_val, y_pred, target_names=my_tags)))"
   ]
  },
  {
   "cell_type": "markdown",
   "metadata": {},
   "source": [
    "#### Logistice regression"
   ]
  },
  {
   "cell_type": "code",
   "execution_count": 486,
   "metadata": {
    "ExecuteTime": {
     "start_time": "2020-04-14T02:23:04.168Z"
    },
    "scrolled": false
   },
   "outputs": [
    {
     "name": "stdout",
     "output_type": "stream",
     "text": [
      "accuracy 0.3\n",
      "              precision    recall  f1-score   support\n",
      "\n",
      "          GC       0.29      0.21      0.24        24\n",
      "        Refl       0.00      0.00      0.00         3\n",
      "        Vert       0.42      0.39      0.41        33\n",
      "\n",
      "    accuracy                           0.30        60\n",
      "   macro avg       0.24      0.20      0.22        60\n",
      "weighted avg       0.35      0.30      0.32        60\n",
      "\n"
     ]
    }
   ],
   "source": [
    "from sklearn.linear_model import LogisticRegression\n",
    "logreg = LogisticRegression(n_jobs=1, C=1e5)\n",
    "logreg = logreg.fit(X_train_updated_glove_big, y_train)\n",
    "y_pred = logreg.predict(X_val_updated_glove_big)\n",
    "print('accuracy %s' % accuracy_score(y_pred, y_val))\n",
    "print(classification_report(y_val, y_pred, target_names=my_tags))"
   ]
  },
  {
   "cell_type": "markdown",
   "metadata": {},
   "source": [
    "#### Weighted logistice regression"
   ]
  },
  {
   "cell_type": "code",
   "execution_count": 487,
   "metadata": {
    "ExecuteTime": {
     "start_time": "2020-04-14T02:23:04.187Z"
    },
    "scrolled": false
   },
   "outputs": [
    {
     "name": "stdout",
     "output_type": "stream",
     "text": [
      "accuracy 0.2833333333333333\n",
      "              precision    recall  f1-score   support\n",
      "\n",
      "          GC       0.25      0.17      0.20        24\n",
      "        Refl       0.00      0.00      0.00         3\n",
      "        Vert       0.41      0.39      0.40        33\n",
      "\n",
      "    accuracy                           0.28        60\n",
      "   macro avg       0.22      0.19      0.20        60\n",
      "weighted avg       0.32      0.28      0.30        60\n",
      "\n"
     ]
    }
   ],
   "source": [
    "from sklearn.linear_model import LogisticRegression\n",
    "logreg = LogisticRegression(n_jobs=1, C=1e5, class_weight='balanced')\n",
    "logreg = logreg.fit(X_train_updated_glove_big, y_train)\n",
    "y_pred = logreg.predict(X_val_updated_glove_big)\n",
    "print('accuracy %s' % accuracy_score(y_pred, y_val))\n",
    "print(classification_report(y_val, y_pred, target_names=my_tags))"
   ]
  },
  {
   "cell_type": "markdown",
   "metadata": {},
   "source": [
    "### Particle features "
   ]
  },
  {
   "cell_type": "code",
   "execution_count": 488,
   "metadata": {
    "ExecuteTime": {
     "start_time": "2020-04-14T02:23:04.205Z"
    }
   },
   "outputs": [],
   "source": [
    "def transform_with_particle_features(x):\n",
    "    return np.array([\n",
    "        np.mean([particle_features[w]\n",
    "                 for w in words if w in particle_features]or [np.zeros(particle_features['balance'].shape)],\n",
    "                axis=0) for words in x\n",
    "    ])\n"
   ]
  },
  {
   "cell_type": "code",
   "execution_count": 489,
   "metadata": {
    "ExecuteTime": {
     "start_time": "2020-04-14T02:23:04.218Z"
    }
   },
   "outputs": [],
   "source": [
    "combined={}\n",
    "for k in particle_features.keys():\n",
    "    modified_key= str(k)+'_V'\n",
    "    combined[modified_key]=particle_features[k]"
   ]
  },
  {
   "cell_type": "code",
   "execution_count": 490,
   "metadata": {
    "ExecuteTime": {
     "start_time": "2020-04-14T02:23:04.238Z"
    },
    "scrolled": true
   },
   "outputs": [
    {
     "name": "stderr",
     "output_type": "stream",
     "text": [
      "C:\\ProgramData\\Anaconda3\\lib\\site-packages\\ipykernel_launcher.py:4: DeprecationWarning: Call to deprecated `__contains__` (Method will be removed in 4.0.0, use self.wv.__contains__() instead).\n",
      "  after removing the cwd from sys.path.\n",
      "C:\\ProgramData\\Anaconda3\\lib\\site-packages\\ipykernel_launcher.py:4: DeprecationWarning: Call to deprecated `__getitem__` (Method will be removed in 4.0.0, use self.wv.__getitem__() instead).\n",
      "  after removing the cwd from sys.path.\n",
      "C:\\ProgramData\\Anaconda3\\lib\\site-packages\\ipykernel_launcher.py:7: DeprecationWarning: Call to deprecated `__getitem__` (Method will be removed in 4.0.0, use self.wv.__getitem__() instead).\n",
      "  import sys\n"
     ]
    }
   ],
   "source": [
    "def transform_with_combine_features(x):\n",
    "    return np.array([\n",
    "        np.concatenate(([model_BNC_tagged_sentences_verb_sg[w]\n",
    "                 for w in words if w in model_BNC_tagged_sentences_verb_sg]or [np.zeros(model_BNC_tagged_sentences_verb_sg['balance_V'].shape)],\n",
    "                       [combined[w]\n",
    "                 for w in words if w in combined]or [np.zeros(combined['balance_V'].shape)]),\n",
    "                axis=None) for words in x\n",
    "    ]) \n",
    "X_train_combined=transform_with_combine_features(X_train)"
   ]
  },
  {
   "cell_type": "code",
   "execution_count": 491,
   "metadata": {
    "ExecuteTime": {
     "start_time": "2020-04-14T02:23:04.251Z"
    },
    "scrolled": true
   },
   "outputs": [],
   "source": [
    "X_train_particle_features = transform_with_particle_features(X_train)\n",
    "X_val_particle_features = transform_with_particle_features(X_val)"
   ]
  },
  {
   "cell_type": "markdown",
   "metadata": {},
   "source": [
    "##### Linear SVM"
   ]
  },
  {
   "cell_type": "code",
   "execution_count": 492,
   "metadata": {
    "ExecuteTime": {
     "start_time": "2020-04-14T02:23:04.274Z"
    },
    "scrolled": true
   },
   "outputs": [
    {
     "data": {
      "text/plain": [
       "SVC(C=1.0, break_ties=False, cache_size=200, class_weight=None, coef0=0.0,\n",
       "    decision_function_shape='ovr', degree=3, gamma='scale', kernel='linear',\n",
       "    max_iter=-1, probability=False, random_state=None, shrinking=True,\n",
       "    tol=0.001, verbose=False)"
      ]
     },
     "execution_count": 492,
     "metadata": {},
     "output_type": "execute_result"
    }
   ],
   "source": [
    "clf = SVC(kernel='linear')\n",
    "clf.fit(X_train_particle_features, y_train)"
   ]
  },
  {
   "cell_type": "code",
   "execution_count": 493,
   "metadata": {
    "ExecuteTime": {
     "start_time": "2020-04-14T02:23:04.289Z"
    }
   },
   "outputs": [],
   "source": [
    "y_pred = clf.predict(X_val_particle_features)"
   ]
  },
  {
   "cell_type": "code",
   "execution_count": 494,
   "metadata": {
    "ExecuteTime": {
     "start_time": "2020-04-14T02:23:04.305Z"
    }
   },
   "outputs": [
    {
     "name": "stdout",
     "output_type": "stream",
     "text": [
      "SVM Accuracy Score ->  53.333333333333336\n"
     ]
    }
   ],
   "source": [
    "print(\"SVM Accuracy Score -> \", accuracy_score(y_pred, y_val) * 100)"
   ]
  },
  {
   "cell_type": "code",
   "execution_count": 495,
   "metadata": {
    "ExecuteTime": {
     "start_time": "2020-04-14T02:23:04.325Z"
    }
   },
   "outputs": [
    {
     "name": "stdout",
     "output_type": "stream",
     "text": [
      "              precision    recall  f1-score   support\n",
      "\n",
      "          GC       0.45      0.21      0.29        24\n",
      "        Refl       0.00      0.00      0.00         3\n",
      "        Vert       0.55      0.82      0.66        33\n",
      "\n",
      "    accuracy                           0.53        60\n",
      "   macro avg       0.34      0.34      0.31        60\n",
      "weighted avg       0.48      0.53      0.48        60\n",
      "\n"
     ]
    },
    {
     "name": "stderr",
     "output_type": "stream",
     "text": [
      "C:\\ProgramData\\Anaconda3\\lib\\site-packages\\sklearn\\metrics\\_classification.py:1272: UndefinedMetricWarning: Precision and F-score are ill-defined and being set to 0.0 in labels with no predicted samples. Use `zero_division` parameter to control this behavior.\n",
      "  _warn_prf(average, modifier, msg_start, len(result))\n"
     ]
    }
   ],
   "source": [
    "from sklearn.metrics import classification_report\n",
    "print(classification_report(y_val, y_pred, target_names=my_tags))"
   ]
  },
  {
   "cell_type": "markdown",
   "metadata": {},
   "source": [
    "##### Weighted Linear SVM"
   ]
  },
  {
   "cell_type": "code",
   "execution_count": 496,
   "metadata": {
    "ExecuteTime": {
     "start_time": "2020-04-14T02:23:04.345Z"
    },
    "scrolled": true
   },
   "outputs": [
    {
     "data": {
      "text/plain": [
       "SVC(C=1.0, break_ties=False, cache_size=200, class_weight='balanced', coef0=0.0,\n",
       "    decision_function_shape='ovr', degree=3, gamma='scale', kernel='linear',\n",
       "    max_iter=-1, probability=False, random_state=None, shrinking=True,\n",
       "    tol=0.001, verbose=False)"
      ]
     },
     "execution_count": 496,
     "metadata": {},
     "output_type": "execute_result"
    }
   ],
   "source": [
    "clf_balanced_class_weight = SVC(kernel='linear', class_weight='balanced')\n",
    "clf_balanced_class_weight.fit(X_train_particle_features, y_train)"
   ]
  },
  {
   "cell_type": "code",
   "execution_count": 497,
   "metadata": {
    "ExecuteTime": {
     "start_time": "2020-04-14T02:23:04.359Z"
    }
   },
   "outputs": [],
   "source": [
    "y_pred_balanced_class_weight = clf_balanced_class_weight.predict(\n",
    "    X_val_particle_features)"
   ]
  },
  {
   "cell_type": "code",
   "execution_count": 498,
   "metadata": {
    "ExecuteTime": {
     "start_time": "2020-04-14T02:23:04.373Z"
    }
   },
   "outputs": [
    {
     "name": "stdout",
     "output_type": "stream",
     "text": [
      "SVM Accuracy Score ->  35.0\n"
     ]
    }
   ],
   "source": [
    "print(\"SVM Accuracy Score -> \",\n",
    "      accuracy_score(y_pred_balanced_class_weight, y_val) * 100)"
   ]
  },
  {
   "cell_type": "code",
   "execution_count": 499,
   "metadata": {
    "ExecuteTime": {
     "start_time": "2020-04-14T02:23:04.388Z"
    },
    "scrolled": true
   },
   "outputs": [
    {
     "name": "stdout",
     "output_type": "stream",
     "text": [
      "              precision    recall  f1-score   support\n",
      "\n",
      "          GC       0.50      0.33      0.40        24\n",
      "        Refl       0.07      0.67      0.13         3\n",
      "        Vert       0.65      0.33      0.44        33\n",
      "\n",
      "    accuracy                           0.35        60\n",
      "   macro avg       0.41      0.44      0.32        60\n",
      "weighted avg       0.56      0.35      0.41        60\n",
      "\n"
     ]
    }
   ],
   "source": [
    "from sklearn.metrics import classification_report\n",
    "print(\n",
    "    classification_report(y_val,\n",
    "                          y_pred_balanced_class_weight,\n",
    "                          target_names=my_tags))"
   ]
  },
  {
   "cell_type": "markdown",
   "metadata": {},
   "source": [
    "##### SVC with 'rbf' kernel"
   ]
  },
  {
   "cell_type": "code",
   "execution_count": 500,
   "metadata": {
    "ExecuteTime": {
     "start_time": "2020-04-14T02:23:04.405Z"
    }
   },
   "outputs": [],
   "source": [
    "X = X_train_particle_features\n",
    "Y = y_train"
   ]
  },
  {
   "cell_type": "code",
   "execution_count": 501,
   "metadata": {
    "ExecuteTime": {
     "start_time": "2020-04-14T02:23:04.419Z"
    }
   },
   "outputs": [
    {
     "data": {
      "text/plain": [
       "array([[0.        , 0.        , 0.        , ..., 0.        , 0.        ,\n",
       "        0.        ],\n",
       "       [0.47540984, 0.        , 0.03278688, ..., 0.        , 0.        ,\n",
       "        0.        ],\n",
       "       [0.00479233, 0.        , 0.        , ..., 0.00906344, 0.        ,\n",
       "        0.        ],\n",
       "       ...,\n",
       "       [0.        , 0.        , 0.        , ..., 0.        , 0.        ,\n",
       "        0.        ],\n",
       "       [0.03209243, 0.01558775, 0.05226481, ..., 0.03063063, 0.01801802,\n",
       "        0.01081081],\n",
       "       [0.01234568, 0.03703704, 0.03703704, ..., 0.01724138, 0.01724138,\n",
       "        0.        ]], dtype=float32)"
      ]
     },
     "execution_count": 501,
     "metadata": {},
     "output_type": "execute_result"
    }
   ],
   "source": [
    "X_train_particle_features"
   ]
  },
  {
   "cell_type": "code",
   "execution_count": 502,
   "metadata": {
    "ExecuteTime": {
     "start_time": "2020-04-14T02:23:04.433Z"
    }
   },
   "outputs": [],
   "source": [
    "# It is usually a good idea to scale the data for SVM training.\n",
    "# We are cheating a bit in this example in scaling all of the data,\n",
    "# instead of fitting the transformation on the trainingset and\n",
    "# just applying it on the test set.\n",
    "\n",
    "# scaler = StandardScaler()\n",
    "# X = scaler.fit_transform(X_train_updated_google)"
   ]
  },
  {
   "cell_type": "code",
   "execution_count": 503,
   "metadata": {
    "ExecuteTime": {
     "start_time": "2020-04-14T02:23:04.448Z"
    }
   },
   "outputs": [
    {
     "data": {
      "text/plain": [
       "GridSearchCV(cv=StratifiedKFold(n_splits=10, random_state=None, shuffle=False),\n",
       "             error_score=nan,\n",
       "             estimator=SVC(C=1.0, break_ties=False, cache_size=200,\n",
       "                           class_weight=None, coef0=0.0,\n",
       "                           decision_function_shape='ovr', degree=3,\n",
       "                           gamma='scale', kernel='rbf', max_iter=-1,\n",
       "                           probability=False, random_state=None, shrinking=True,\n",
       "                           tol=0.001, verbose=False),\n",
       "             iid='deprecated', n_jobs...\n",
       "       3.20000e+01, 1.28000e+02, 5.12000e+02, 2.04800e+03, 8.19200e+03,\n",
       "       3.27680e+04, 1.31072e+05]),\n",
       "                         'gamma': array([7.62939453e-06, 3.05175781e-05, 1.22070312e-04, 4.88281250e-04,\n",
       "       1.95312500e-03, 7.81250000e-03, 3.12500000e-02, 1.25000000e-01,\n",
       "       5.00000000e-01, 2.00000000e+00, 8.00000000e+00])},\n",
       "             pre_dispatch='2*n_jobs', refit=True, return_train_score=False,\n",
       "             scoring=None, verbose=0)"
      ]
     },
     "execution_count": 503,
     "metadata": {},
     "output_type": "execute_result"
    }
   ],
   "source": [
    "C_range = 2. ** np.arange(-5, 18, 2)\n",
    "gamma_range = 2. ** np.arange(-17, 4, 2)\n",
    "param_grid = dict(gamma=gamma_range, C=C_range)\n",
    "grid = GridSearchCV(SVC(), param_grid=param_grid,\n",
    "                    cv=StratifiedKFold(n_splits=10))\n",
    "grid.fit(X, Y)"
   ]
  },
  {
   "cell_type": "code",
   "execution_count": 504,
   "metadata": {
    "ExecuteTime": {
     "start_time": "2020-04-14T02:23:04.468Z"
    }
   },
   "outputs": [
    {
     "data": {
      "text/plain": [
       "{'gamma': array([7.62939453e-06, 3.05175781e-05, 1.22070312e-04, 4.88281250e-04,\n",
       "        1.95312500e-03, 7.81250000e-03, 3.12500000e-02, 1.25000000e-01,\n",
       "        5.00000000e-01, 2.00000000e+00, 8.00000000e+00]),\n",
       " 'C': array([3.12500e-02, 1.25000e-01, 5.00000e-01, 2.00000e+00, 8.00000e+00,\n",
       "        3.20000e+01, 1.28000e+02, 5.12000e+02, 2.04800e+03, 8.19200e+03,\n",
       "        3.27680e+04, 1.31072e+05])}"
      ]
     },
     "execution_count": 504,
     "metadata": {},
     "output_type": "execute_result"
    }
   ],
   "source": [
    "param_grid"
   ]
  },
  {
   "cell_type": "code",
   "execution_count": 505,
   "metadata": {
    "ExecuteTime": {
     "start_time": "2020-04-14T02:23:04.482Z"
    }
   },
   "outputs": [
    {
     "name": "stdout",
     "output_type": "stream",
     "text": [
      "The best classifier is:  SVC(C=32.0, break_ties=False, cache_size=200, class_weight=None, coef0=0.0,\n",
      "    decision_function_shape='ovr', degree=3, gamma=8.0, kernel='rbf',\n",
      "    max_iter=-1, probability=False, random_state=None, shrinking=True,\n",
      "    tol=0.001, verbose=False)\n"
     ]
    }
   ],
   "source": [
    "print(\"The best classifier is: \", grid.best_estimator_)"
   ]
  },
  {
   "cell_type": "code",
   "execution_count": 506,
   "metadata": {
    "ExecuteTime": {
     "start_time": "2020-04-14T02:23:04.496Z"
    }
   },
   "outputs": [
    {
     "name": "stdout",
     "output_type": "stream",
     "text": [
      "The best parameters are {'C': 32.0, 'gamma': 8.0} with a score of 0.47\n"
     ]
    }
   ],
   "source": [
    "print(\"The best parameters are %s with a score of %0.2f\"\n",
    "      % (grid.best_params_, grid.best_score_))"
   ]
  },
  {
   "cell_type": "code",
   "execution_count": 507,
   "metadata": {
    "ExecuteTime": {
     "start_time": "2020-04-14T02:23:04.511Z"
    }
   },
   "outputs": [
    {
     "data": {
      "text/plain": [
       "SVC(C=32.0, break_ties=False, cache_size=200, class_weight=None, coef0=0.0,\n",
       "    decision_function_shape='ovr', degree=3, gamma=8.0, kernel='rbf',\n",
       "    max_iter=-1, probability=False, random_state=None, shrinking=True,\n",
       "    tol=0.001, verbose=False)"
      ]
     },
     "execution_count": 507,
     "metadata": {},
     "output_type": "execute_result"
    }
   ],
   "source": [
    "clf = grid.best_estimator_\n",
    "clf.fit(X, Y)"
   ]
  },
  {
   "cell_type": "code",
   "execution_count": 508,
   "metadata": {
    "ExecuteTime": {
     "start_time": "2020-04-14T02:23:04.526Z"
    }
   },
   "outputs": [],
   "source": [
    "y_pred = clf.predict(X_val_particle_features)"
   ]
  },
  {
   "cell_type": "code",
   "execution_count": 509,
   "metadata": {
    "ExecuteTime": {
     "start_time": "2020-04-14T02:23:04.541Z"
    }
   },
   "outputs": [
    {
     "name": "stdout",
     "output_type": "stream",
     "text": [
      "('SVM Accuracy Score -> ', 48.333333333333336)\n"
     ]
    }
   ],
   "source": [
    "print((\"SVM Accuracy Score -> \", accuracy_score(y_pred, y_val) * 100))"
   ]
  },
  {
   "cell_type": "code",
   "execution_count": 510,
   "metadata": {
    "ExecuteTime": {
     "start_time": "2020-04-14T02:23:04.556Z"
    },
    "scrolled": true
   },
   "outputs": [
    {
     "name": "stdout",
     "output_type": "stream",
     "text": [
      "              precision    recall  f1-score   support\n",
      "\n",
      "          GC       0.47      0.58      0.52        24\n",
      "        Refl       0.10      0.33      0.15         3\n",
      "        Vert       0.70      0.42      0.53        33\n",
      "\n",
      "    accuracy                           0.48        60\n",
      "   macro avg       0.42      0.45      0.40        60\n",
      "weighted avg       0.58      0.48      0.51        60\n",
      "\n"
     ]
    }
   ],
   "source": [
    "from sklearn.metrics import classification_report\n",
    "print((classification_report(y_val, y_pred, target_names=my_tags)))"
   ]
  },
  {
   "cell_type": "markdown",
   "metadata": {},
   "source": [
    "##### Weighted SVC with 'rbf' kernel "
   ]
  },
  {
   "cell_type": "code",
   "execution_count": 511,
   "metadata": {
    "ExecuteTime": {
     "start_time": "2020-04-14T02:23:04.574Z"
    }
   },
   "outputs": [],
   "source": [
    "X = X_train_particle_features\n",
    "Y = y_train"
   ]
  },
  {
   "cell_type": "code",
   "execution_count": 512,
   "metadata": {
    "ExecuteTime": {
     "start_time": "2020-04-14T02:23:04.622Z"
    }
   },
   "outputs": [],
   "source": [
    "# It is usually a good idea to scale the data for SVM training.\n",
    "# We are cheating a bit in this example in scaling all of the data,\n",
    "# instead of fitting the transformation on the trainingset and\n",
    "# just applying it on the test set.\n",
    "\n",
    "# scaler = StandardScaler()\n",
    "# X = scaler.fit_transform(X_train_updated_google)"
   ]
  },
  {
   "cell_type": "code",
   "execution_count": 513,
   "metadata": {
    "ExecuteTime": {
     "start_time": "2020-04-14T02:23:04.649Z"
    }
   },
   "outputs": [
    {
     "data": {
      "text/plain": [
       "GridSearchCV(cv=StratifiedKFold(n_splits=10, random_state=None, shuffle=False),\n",
       "             error_score=nan,\n",
       "             estimator=SVC(C=1.0, break_ties=False, cache_size=200,\n",
       "                           class_weight=None, coef0=0.0,\n",
       "                           decision_function_shape='ovr', degree=3,\n",
       "                           gamma='scale', kernel='rbf', max_iter=-1,\n",
       "                           probability=False, random_state=None, shrinking=True,\n",
       "                           tol=0.001, verbose=False),\n",
       "             iid='deprecated', n_jobs...\n",
       "       3.20000e+01, 1.28000e+02, 5.12000e+02, 2.04800e+03, 8.19200e+03,\n",
       "       3.27680e+04, 1.31072e+05]),\n",
       "                         'gamma': array([7.62939453e-06, 3.05175781e-05, 1.22070312e-04, 4.88281250e-04,\n",
       "       1.95312500e-03, 7.81250000e-03, 3.12500000e-02, 1.25000000e-01,\n",
       "       5.00000000e-01, 2.00000000e+00, 8.00000000e+00])},\n",
       "             pre_dispatch='2*n_jobs', refit=True, return_train_score=False,\n",
       "             scoring=None, verbose=0)"
      ]
     },
     "execution_count": 513,
     "metadata": {},
     "output_type": "execute_result"
    }
   ],
   "source": [
    "C_range = 2. ** np.arange(-5, 18, 2)\n",
    "gamma_range = 2. ** np.arange(-17, 4, 2)\n",
    "param_grid = dict(gamma=gamma_range, C=C_range)\n",
    "grid = GridSearchCV(SVC(), param_grid=param_grid,\n",
    "                    cv=StratifiedKFold(n_splits=10))\n",
    "grid.fit(X, Y)"
   ]
  },
  {
   "cell_type": "code",
   "execution_count": 514,
   "metadata": {
    "ExecuteTime": {
     "start_time": "2020-04-14T02:23:04.764Z"
    }
   },
   "outputs": [
    {
     "data": {
      "text/plain": [
       "{'gamma': array([7.62939453e-06, 3.05175781e-05, 1.22070312e-04, 4.88281250e-04,\n",
       "        1.95312500e-03, 7.81250000e-03, 3.12500000e-02, 1.25000000e-01,\n",
       "        5.00000000e-01, 2.00000000e+00, 8.00000000e+00]),\n",
       " 'C': array([3.12500e-02, 1.25000e-01, 5.00000e-01, 2.00000e+00, 8.00000e+00,\n",
       "        3.20000e+01, 1.28000e+02, 5.12000e+02, 2.04800e+03, 8.19200e+03,\n",
       "        3.27680e+04, 1.31072e+05])}"
      ]
     },
     "execution_count": 514,
     "metadata": {},
     "output_type": "execute_result"
    }
   ],
   "source": [
    "param_grid"
   ]
  },
  {
   "cell_type": "code",
   "execution_count": 515,
   "metadata": {
    "ExecuteTime": {
     "start_time": "2020-04-14T02:23:04.782Z"
    }
   },
   "outputs": [
    {
     "name": "stdout",
     "output_type": "stream",
     "text": [
      "The best classifier is:  SVC(C=32.0, break_ties=False, cache_size=200, class_weight=None, coef0=0.0,\n",
      "    decision_function_shape='ovr', degree=3, gamma=8.0, kernel='rbf',\n",
      "    max_iter=-1, probability=False, random_state=None, shrinking=True,\n",
      "    tol=0.001, verbose=False)\n"
     ]
    }
   ],
   "source": [
    "print(\"The best classifier is: \", grid.best_estimator_)"
   ]
  },
  {
   "cell_type": "code",
   "execution_count": 516,
   "metadata": {
    "ExecuteTime": {
     "start_time": "2020-04-14T02:23:04.798Z"
    }
   },
   "outputs": [
    {
     "name": "stdout",
     "output_type": "stream",
     "text": [
      "The best parameters are {'C': 32.0, 'gamma': 8.0} with a score of 0.47\n"
     ]
    }
   ],
   "source": [
    "print(\"The best parameters are %s with a score of %0.2f\"\n",
    "      % (grid.best_params_, grid.best_score_))"
   ]
  },
  {
   "cell_type": "code",
   "execution_count": 517,
   "metadata": {
    "ExecuteTime": {
     "start_time": "2020-04-14T02:23:04.812Z"
    }
   },
   "outputs": [
    {
     "data": {
      "text/plain": [
       "SVC(C=32.0, break_ties=False, cache_size=200, class_weight='balanced',\n",
       "    coef0=0.0, decision_function_shape='ovr', degree=3, gamma=0.03125,\n",
       "    kernel='rbf', max_iter=-1, probability=False, random_state=None,\n",
       "    shrinking=True, tol=0.001, verbose=False)"
      ]
     },
     "execution_count": 517,
     "metadata": {},
     "output_type": "execute_result"
    }
   ],
   "source": [
    "clf = SVC(C=32.0, class_weight='balanced', gamma=0.03125, kernel='rbf')\n",
    "clf.fit(X, Y)"
   ]
  },
  {
   "cell_type": "code",
   "execution_count": 518,
   "metadata": {
    "ExecuteTime": {
     "start_time": "2020-04-14T02:23:04.829Z"
    }
   },
   "outputs": [],
   "source": [
    "y_pred = clf.predict(X_val_particle_features)"
   ]
  },
  {
   "cell_type": "code",
   "execution_count": 519,
   "metadata": {
    "ExecuteTime": {
     "start_time": "2020-04-14T02:23:04.845Z"
    }
   },
   "outputs": [
    {
     "name": "stdout",
     "output_type": "stream",
     "text": [
      "('SVM Accuracy Score -> ', 36.666666666666664)\n"
     ]
    }
   ],
   "source": [
    "print((\"SVM Accuracy Score -> \", accuracy_score(y_pred, y_val) * 100))"
   ]
  },
  {
   "cell_type": "code",
   "execution_count": 520,
   "metadata": {
    "ExecuteTime": {
     "start_time": "2020-04-14T02:23:04.865Z"
    }
   },
   "outputs": [
    {
     "data": {
      "text/plain": [
       "array(['GC', 'GC', 'GC', 'Vert', 'Vert', 'Vert', 'GC', 'GC', 'Vert',\n",
       "       'Vert', 'GC', 'Vert', 'GC', 'GC', 'Vert', 'GC', 'Vert', 'Vert',\n",
       "       'GC', 'Vert', 'Refl', 'Vert', 'Vert', 'Vert', 'Vert', 'Vert',\n",
       "       'Vert', 'Vert', 'Vert', 'Vert', 'Vert', 'GC', 'GC', 'Vert', 'GC',\n",
       "       'GC', 'Vert', 'GC', 'Vert', 'Vert', 'GC', 'Refl', 'Vert', 'GC',\n",
       "       'Refl', 'Vert', 'GC', 'GC', 'GC', 'Vert', 'Vert', 'Vert', 'GC',\n",
       "       'Vert', 'Vert', 'GC', 'Vert', 'Vert', 'GC', 'GC'], dtype='<U5')"
      ]
     },
     "execution_count": 520,
     "metadata": {},
     "output_type": "execute_result"
    }
   ],
   "source": [
    "y_val"
   ]
  },
  {
   "cell_type": "code",
   "execution_count": 521,
   "metadata": {
    "ExecuteTime": {
     "start_time": "2020-04-14T02:23:04.881Z"
    }
   },
   "outputs": [
    {
     "data": {
      "text/plain": [
       "array(['GC', 'GC', 'Vert', 'Refl', 'GC', 'Refl', 'Vert', 'Vert', 'GC',\n",
       "       'GC', 'Refl', 'Refl', 'Vert', 'Refl', 'Vert', 'Refl', 'Refl',\n",
       "       'Vert', 'Refl', 'Refl', 'Refl', 'Vert', 'GC', 'Vert', 'Refl',\n",
       "       'Refl', 'Refl', 'Vert', 'Vert', 'Vert', 'Vert', 'Refl', 'Refl',\n",
       "       'Vert', 'Refl', 'GC', 'Refl', 'GC', 'GC', 'Vert', 'Refl', 'Refl',\n",
       "       'GC', 'GC', 'Vert', 'GC', 'Vert', 'Refl', 'GC', 'GC', 'Refl',\n",
       "       'Vert', 'GC', 'Refl', 'Vert', 'Vert', 'Refl', 'GC', 'GC', 'Refl'],\n",
       "      dtype='<U5')"
      ]
     },
     "execution_count": 521,
     "metadata": {},
     "output_type": "execute_result"
    }
   ],
   "source": [
    "y_pred"
   ]
  },
  {
   "cell_type": "code",
   "execution_count": 522,
   "metadata": {
    "ExecuteTime": {
     "start_time": "2020-04-14T02:23:04.900Z"
    },
    "scrolled": false
   },
   "outputs": [
    {
     "name": "stdout",
     "output_type": "stream",
     "text": [
      "              precision    recall  f1-score   support\n",
      "\n",
      "          GC       0.47      0.33      0.39        24\n",
      "        Refl       0.08      0.67      0.15         3\n",
      "        Vert       0.63      0.36      0.46        33\n",
      "\n",
      "    accuracy                           0.37        60\n",
      "   macro avg       0.40      0.45      0.33        60\n",
      "weighted avg       0.54      0.37      0.42        60\n",
      "\n"
     ]
    }
   ],
   "source": [
    "from sklearn.metrics import classification_report\n",
    "print((classification_report(y_val, y_pred, target_names=my_tags)))"
   ]
  },
  {
   "cell_type": "markdown",
   "metadata": {},
   "source": [
    "##### Logistice regression"
   ]
  },
  {
   "cell_type": "code",
   "execution_count": 523,
   "metadata": {
    "ExecuteTime": {
     "start_time": "2020-04-14T02:23:04.919Z"
    },
    "scrolled": false
   },
   "outputs": [
    {
     "name": "stdout",
     "output_type": "stream",
     "text": [
      "accuracy 0.4\n",
      "              precision    recall  f1-score   support\n",
      "\n",
      "          GC       0.46      0.25      0.32        24\n",
      "        Refl       0.00      0.00      0.00         3\n",
      "        Vert       0.60      0.55      0.57        33\n",
      "\n",
      "    accuracy                           0.40        60\n",
      "   macro avg       0.35      0.27      0.30        60\n",
      "weighted avg       0.51      0.40      0.44        60\n",
      "\n"
     ]
    },
    {
     "name": "stderr",
     "output_type": "stream",
     "text": [
      "C:\\ProgramData\\Anaconda3\\lib\\site-packages\\sklearn\\linear_model\\_logistic.py:940: ConvergenceWarning: lbfgs failed to converge (status=1):\n",
      "STOP: TOTAL NO. of ITERATIONS REACHED LIMIT.\n",
      "\n",
      "Increase the number of iterations (max_iter) or scale the data as shown in:\n",
      "    https://scikit-learn.org/stable/modules/preprocessing.html\n",
      "Please also refer to the documentation for alternative solver options:\n",
      "    https://scikit-learn.org/stable/modules/linear_model.html#logistic-regression\n",
      "  extra_warning_msg=_LOGISTIC_SOLVER_CONVERGENCE_MSG)\n"
     ]
    }
   ],
   "source": [
    "from sklearn.linear_model import LogisticRegression\n",
    "logreg = LogisticRegression(n_jobs=1, C=1e5)\n",
    "logreg = logreg.fit(X_train_particle_features, y_train)\n",
    "y_pred = logreg.predict(X_val_particle_features)\n",
    "print('accuracy %s' % accuracy_score(y_pred, y_val))\n",
    "print(classification_report(y_val, y_pred, target_names=my_tags))"
   ]
  },
  {
   "cell_type": "markdown",
   "metadata": {},
   "source": [
    "##### Weighted logistice regression"
   ]
  },
  {
   "cell_type": "code",
   "execution_count": 524,
   "metadata": {
    "ExecuteTime": {
     "start_time": "2020-04-14T02:23:04.943Z"
    },
    "scrolled": false
   },
   "outputs": [
    {
     "name": "stdout",
     "output_type": "stream",
     "text": [
      "accuracy 0.35\n",
      "              precision    recall  f1-score   support\n",
      "\n",
      "          GC       0.38      0.21      0.27        24\n",
      "        Refl       0.00      0.00      0.00         3\n",
      "        Vert       0.55      0.48      0.52        33\n",
      "\n",
      "    accuracy                           0.35        60\n",
      "   macro avg       0.31      0.23      0.26        60\n",
      "weighted avg       0.46      0.35      0.39        60\n",
      "\n"
     ]
    },
    {
     "name": "stderr",
     "output_type": "stream",
     "text": [
      "C:\\ProgramData\\Anaconda3\\lib\\site-packages\\sklearn\\linear_model\\_logistic.py:940: ConvergenceWarning: lbfgs failed to converge (status=1):\n",
      "STOP: TOTAL NO. of ITERATIONS REACHED LIMIT.\n",
      "\n",
      "Increase the number of iterations (max_iter) or scale the data as shown in:\n",
      "    https://scikit-learn.org/stable/modules/preprocessing.html\n",
      "Please also refer to the documentation for alternative solver options:\n",
      "    https://scikit-learn.org/stable/modules/linear_model.html#logistic-regression\n",
      "  extra_warning_msg=_LOGISTIC_SOLVER_CONVERGENCE_MSG)\n"
     ]
    }
   ],
   "source": [
    "from sklearn.linear_model import LogisticRegression\n",
    "logreg = LogisticRegression(n_jobs=1, C=1e5, class_weight='balanced')\n",
    "logreg = logreg.fit(X_train_particle_features, y_train)\n",
    "y_pred = logreg.predict(X_val_particle_features)\n",
    "print('accuracy %s' % accuracy_score(y_pred, y_val))\n",
    "print(classification_report(y_val, y_pred, target_names=my_tags))"
   ]
  },
  {
   "cell_type": "code",
   "execution_count": null,
   "metadata": {},
   "outputs": [],
   "source": []
  }
 ],
 "metadata": {
  "kernelspec": {
   "display_name": "Python 3",
   "language": "python",
   "name": "python3"
  },
  "language_info": {
   "codemirror_mode": {
    "name": "ipython",
    "version": 3
   },
   "file_extension": ".py",
   "mimetype": "text/x-python",
   "name": "python",
   "nbconvert_exporter": "python",
   "pygments_lexer": "ipython3",
   "version": "3.7.6"
  },
  "toc": {
   "base_numbering": 1,
   "nav_menu": {},
   "number_sections": true,
   "sideBar": true,
   "skip_h1_title": false,
   "title_cell": "Table of Contents",
   "title_sidebar": "Contents",
   "toc_cell": false,
   "toc_position": {
    "height": "calc(100% - 180px)",
    "left": "10px",
    "top": "150px",
    "width": "300px"
   },
   "toc_section_display": true,
   "toc_window_display": false
  }
 },
 "nbformat": 4,
 "nbformat_minor": 2
}
