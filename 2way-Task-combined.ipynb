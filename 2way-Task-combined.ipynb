{
 "cells": [
  {
   "cell_type": "markdown",
   "metadata": {},
   "source": [
    "## Imports"
   ]
  },
  {
   "cell_type": "code",
   "execution_count": 1,
   "metadata": {
    "ExecuteTime": {
     "end_time": "2021-03-15T01:41:56.783160Z",
     "start_time": "2021-03-15T01:41:48.097378Z"
    }
   },
   "outputs": [
    {
     "name": "stderr",
     "output_type": "stream",
     "text": [
      "C:\\ProgramData\\Anaconda3\\lib\\site-packages\\tqdm\\std.py:658: FutureWarning: The Panel class is removed from pandas. Accessing it from the top-level namespace will also be removed in the next version\n",
      "  from pandas import Panel\n"
     ]
    }
   ],
   "source": [
    "from collections import Counter, defaultdict\n",
    "from sklearn.model_selection import cross_val_score, StratifiedShuffleSplit, train_test_split\n",
    "from sklearn.metrics import accuracy_score\n",
    "from sklearn.svm import SVC\n",
    "from sklearn.pipeline import Pipeline\n",
    "from sklearn.feature_extraction.text import CountVectorizer, TfidfVectorizer\n",
    "from sklearn.linear_model import LogisticRegression\n",
    "from sklearn import utils\n",
    "from tabulate import tabulate\n",
    "import matplotlib.pyplot as plt\n",
    "import seaborn as sns\n",
    "from gensim.models.word2vec import Word2Vec\n",
    "from gensim.models import Word2Vec\n",
    "import gensim\n",
    "import re\n",
    "import numpy as np\n",
    "import pylab as pl\n",
    "\n",
    "from sklearn.svm import SVC\n",
    "from sklearn.preprocessing import StandardScaler\n",
    "from sklearn.datasets import load_iris\n",
    "from sklearn.model_selection import StratifiedKFold\n",
    "from sklearn.model_selection import learning_curve, GridSearchCV\n",
    "import pandas as pd\n",
    "import numpy as np\n",
    "from tqdm import tqdm\n",
    "tqdm.pandas(desc=\"progress-bar\")\n",
    "\n",
    "\n",
    "%matplotlib inline"
   ]
  },
  {
   "cell_type": "code",
   "execution_count": 2,
   "metadata": {
    "ExecuteTime": {
     "end_time": "2021-03-15T01:41:56.791161Z",
     "start_time": "2021-03-15T01:41:56.787162Z"
    }
   },
   "outputs": [],
   "source": [
    "# imports needed and logging\n",
    "import gzip\n",
    "import logging\n",
    "\n",
    "logging.basicConfig(format='%(asctime)s : %(levelname)s : %(message)s',\n",
    "                    level=logging.INFO)"
   ]
  },
  {
   "cell_type": "markdown",
   "metadata": {},
   "source": [
    "## Reading Data "
   ]
  },
  {
   "cell_type": "markdown",
   "metadata": {},
   "source": [
    "### Reading the BNC written data "
   ]
  },
  {
   "cell_type": "markdown",
   "metadata": {},
   "source": [
    "### Spliting data into train/dev/test set"
   ]
  },
  {
   "cell_type": "raw",
   "metadata": {
    "ExecuteTime": {
     "end_time": "2020-04-08T19:37:49.373378Z",
     "start_time": "2020-04-08T19:37:49.369382Z"
    }
   },
   "source": [
    "DATA_SET_PATH = \"dataset/input.txt\""
   ]
  },
  {
   "cell_type": "raw",
   "metadata": {
    "ExecuteTime": {
     "end_time": "2020-04-08T19:37:49.708845Z",
     "start_time": "2020-04-08T19:37:49.696833Z"
    },
    "scrolled": false
   },
   "source": [
    "X, y = [], []\n",
    "with open(DATA_SET_PATH, \"r\") as infile:\n",
    "    for line in infile:\n",
    "        text, label = line.split(\"\\t\")\n",
    "        # texts are already tokenized, just split on space\n",
    "        # in a real case we would use e.g. spaCy for tokenization\n",
    "        # and maybe remove stopwords etc.\n",
    "        X.append(text.split())\n",
    "        y.append(label)\n",
    "X, y = np.array(X), np.array(y)"
   ]
  },
  {
   "cell_type": "raw",
   "metadata": {
    "ExecuteTime": {
     "end_time": "2020-04-08T19:37:49.990959Z",
     "start_time": "2020-04-08T19:37:49.986962Z"
    }
   },
   "source": [
    "TRAIN_SET_PATH = \"dataset/train_set.txt\"\n",
    "DEV_SET_PATH = \"dataset/dev_set.txt\"\n",
    "TEST_SET_PATH = \"dataset/test_set.txt\""
   ]
  },
  {
   "cell_type": "raw",
   "metadata": {
    "ExecuteTime": {
     "end_time": "2020-04-08T19:37:50.280793Z",
     "start_time": "2020-04-08T19:37:50.273795Z"
    }
   },
   "source": [
    "X_train, y_train = [], []\n",
    "with open(TRAIN_SET_PATH, \"r\") as infile:\n",
    "    for line in infile:\n",
    "        text, label = line.split(\"\\t\")\n",
    "        # texts are already tokenized, just split on space\n",
    "        # in a real case we would use e.g. spaCy for tokenization\n",
    "        # and maybe remove stopwords etc.\n",
    "        X_train.append(text.split())\n",
    "        y_train.append(label)\n",
    "X_train, y_train = np.array(X_train), np.array(y_train)"
   ]
  },
  {
   "cell_type": "raw",
   "metadata": {
    "ExecuteTime": {
     "end_time": "2020-04-08T19:37:50.566626Z",
     "start_time": "2020-04-08T19:37:50.557635Z"
    }
   },
   "source": [
    "X_val, y_val = [], []\n",
    "with open(DEV_SET_PATH, \"r\") as infile:\n",
    "    for line in infile:\n",
    "        text, label = line.split(\"\\t\")\n",
    "        # texts are already tokenized, just split on space\n",
    "        # in a real case we would use e.g. spaCy for tokenization\n",
    "        # and maybe remove stopwords etc.\n",
    "        X_val.append(text.split())\n",
    "        y_val.append(label)\n",
    "X_val, y_val = np.array(X_val), np.array(y_val)"
   ]
  },
  {
   "cell_type": "raw",
   "metadata": {
    "ExecuteTime": {
     "end_time": "2020-04-08T19:37:51.179157Z",
     "start_time": "2020-04-08T19:37:51.171145Z"
    }
   },
   "source": [
    "X_test, y_test = [], []\n",
    "with open(TEST_SET_PATH, \"r\") as infile:\n",
    "    for line in infile:\n",
    "        text, label = line.split(\"\\t\")\n",
    "        # texts are already tokenized, just split on space\n",
    "        # in a real case we would use e.g. spaCy for tokenization\n",
    "        # and maybe remove stopwords etc.\n",
    "        X_test.append(text.split())\n",
    "        y_test.append(label)\n",
    "X_test, y_test = np.array(X_test), np.array(y_test)"
   ]
  },
  {
   "cell_type": "raw",
   "metadata": {
    "ExecuteTime": {
     "end_time": "2020-04-08T19:37:51.781894Z",
     "start_time": "2020-04-08T19:37:51.770903Z"
    },
    "scrolled": true
   },
   "source": [
    "for i in range(0, len(y) - 1):\n",
    "    y[i] = y[i][:-1]\n",
    "\n",
    "for i in range(0, len(y_train)):\n",
    "    y_train[i] = y_train[i][:-1]\n",
    "for i in range(0, len(y_train)):\n",
    "    if y_train[i] == \"Goal\" or y_train[i] == \"Cmpl\":\n",
    "        y_train[i] = \"GC\"\n",
    "\n",
    "for i in range(0, len(y_val)):\n",
    "    y_val[i] = y_val[i][:-1]\n",
    "for i in range(0, len(y_val)):\n",
    "    if y_val[i] == 'Goal' or y_val[i] == 'Cmpl':\n",
    "        y_val[i] = 'GC'\n",
    "for i in range(0, len(y_test)):\n",
    "    y_test[i] = y_test[i][:-1]\n",
    "for i in range(0, len(y_test)):\n",
    "    if y_test[i] == 'Goal' or y_test[i] == 'Cmpl':\n",
    "        y_test[i] = 'GC'"
   ]
  },
  {
   "cell_type": "code",
   "execution_count": 3,
   "metadata": {
    "ExecuteTime": {
     "end_time": "2021-03-15T01:41:56.832163Z",
     "start_time": "2021-03-15T01:41:56.795163Z"
    }
   },
   "outputs": [],
   "source": [
    "DATA_SET_PATH = \"dataset/input.txt\"\n",
    "X, y = [], []\n",
    "with open(DATA_SET_PATH, \"r\") as infile:\n",
    "    for line in infile:\n",
    "        text, label = line.split(\"\\t\")\n",
    "        # texts are already tokenized, just split on space\n",
    "        # in a real case we would use e.g. spaCy for tokenization\n",
    "        # and maybe remove stopwords etc.\n",
    "        X.append(text.split())\n",
    "        y.append(label)\n",
    "X, y = np.array(X), np.array(y)\n",
    "\n",
    "TRAIN_SET_PATH = \"dataset/train_set.txt\"\n",
    "DEV_SET_PATH = \"dataset/dev_set.txt\"\n",
    "TEST_SET_PATH = \"dataset/test_set.txt\"\n",
    "\n",
    "X_train, y_train = [], []\n",
    "with open(TRAIN_SET_PATH, \"r\") as infile:\n",
    "    for line in infile:\n",
    "        text, label = line.split(\"\\t\")\n",
    "        # texts are already tokenized, just split on space\n",
    "        # in a real case we would use e.g. spaCy for tokenization\n",
    "        # and maybe remove stopwords etc.\n",
    "        X_train.append(text.split())\n",
    "        y_train.append(label)\n",
    "X_train, y_train = np.array(X_train), np.array(y_train)\n",
    "\n",
    "X_val, y_val = [], []\n",
    "with open(DEV_SET_PATH, \"r\") as infile:\n",
    "    for line in infile:\n",
    "        text, label = line.split(\"\\t\")\n",
    "        # texts are already tokenized, just split on space\n",
    "        # in a real case we would use e.g. spaCy for tokenization\n",
    "        # and maybe remove stopwords etc.\n",
    "        X_val.append(text.split())\n",
    "        y_val.append(label)\n",
    "X_val, y_val = np.array(X_val), np.array(y_val)\n",
    "\n",
    "X_test, y_test = [], []\n",
    "with open(TEST_SET_PATH, \"r\") as infile:\n",
    "    for line in infile:\n",
    "        text, label = line.split(\"\\t\")\n",
    "        # texts are already tokenized, just split on space\n",
    "        # in a real case we would use e.g. spaCy for tokenization\n",
    "        # and maybe remove stopwords etc.\n",
    "        X_test.append(text.split())\n",
    "        y_test.append(label)\n",
    "X_test, y_test = np.array(X_test), np.array(y_test)\n",
    "\n",
    "for i in range(0, len(y) - 1):\n",
    "    y[i] = y[i][:-1]\n",
    "\n",
    "for i in range(0, len(y_train)):\n",
    "    y_train[i] = y_train[i][:-1]\n",
    "for i in range(0, len(y_train)):\n",
    "    if y_train[i] == \"Goal\" or y_train[i] == \"Cmpl\" or y_train[i] == \"Refl\":\n",
    "        y_train[i] = \"GCR\"\n",
    "\n",
    "for i in range(0, len(y_val)):\n",
    "    y_val[i] = y_val[i][:-1]\n",
    "for i in range(0, len(y_val)):\n",
    "    if y_val[i] == 'Goal' or y_val[i] == 'Cmpl' or y_val[i] == \"Refl\":\n",
    "        y_val[i] = 'GCR'\n",
    "for i in range(0, len(y_test)):\n",
    "    y_test[i] = y_test[i][:-1]\n",
    "for i in range(0, len(y_test)):\n",
    "    if y_test[i] == 'Goal' or y_test[i] == 'Cmpl' or y_test[i] == \"Refl\":\n",
    "        y_test[i] = 'GCR'"
   ]
  },
  {
   "cell_type": "code",
   "execution_count": 7,
   "metadata": {
    "ExecuteTime": {
     "end_time": "2021-03-15T01:47:07.049481Z",
     "start_time": "2021-03-15T01:47:07.042479Z"
    },
    "scrolled": true
   },
   "outputs": [
    {
     "data": {
      "text/plain": [
       "array(['GCR', 'GCR', 'GCR', 'Vert', 'GCR', 'GCR', 'Vert', 'Vert', 'GCR',\n",
       "       'Vert', 'GCR', 'Vert', 'GCR', 'GCR', 'GCR', 'GCR', 'GCR', 'GCR',\n",
       "       'GCR', 'GCR', 'GCR', 'GCR', 'Vert', 'GCR', 'Vert', 'Vert', 'GCR',\n",
       "       'GCR', 'Vert', 'Vert', 'GCR', 'Vert', 'Vert', 'Vert', 'GCR',\n",
       "       'Vert', 'Vert', 'GCR', 'Vert', 'GCR', 'Vert', 'Vert', 'Vert',\n",
       "       'GCR', 'Vert', 'GCR', 'GCR', 'GCR', 'Vert', 'GCR', 'Vert', 'GCR',\n",
       "       'GCR', 'GCR', 'GCR', 'Vert', 'Vert', 'GCR', 'GCR', 'GCR'],\n",
       "      dtype='<U5')"
      ]
     },
     "execution_count": 7,
     "metadata": {},
     "output_type": "execute_result"
    }
   ],
   "source": [
    "y_train"
   ]
  },
  {
   "cell_type": "markdown",
   "metadata": {},
   "source": [
    "## Setting up particle features "
   ]
  },
  {
   "cell_type": "code",
   "execution_count": 5,
   "metadata": {
    "ExecuteTime": {
     "end_time": "2021-03-15T01:44:05.796032Z",
     "start_time": "2021-03-15T01:44:04.301399Z"
    }
   },
   "outputs": [],
   "source": [
    "particle_features_df=pd.read_excel('particle_features.xlsx')"
   ]
  },
  {
   "cell_type": "code",
   "execution_count": 6,
   "metadata": {
    "ExecuteTime": {
     "end_time": "2021-03-15T01:44:11.943162Z",
     "start_time": "2021-03-15T01:44:06.505786Z"
    },
    "scrolled": true
   },
   "outputs": [
    {
     "data": {
      "text/plain": [
       "array([0.        , 0.00512821, 0.00512821, 0.14358975, 0.        ,\n",
       "       0.02051282, 0.03076923, 0.04615385, 0.15384616, 0.08205128,\n",
       "       0.00512821, 0.00512821, 0.01025641, 0.        , 0.4923077 ,\n",
       "       0.84375   , 0.10416666, 0.02083333, 0.        , 0.01041667,\n",
       "       0.02083333], dtype=float32)"
      ]
     },
     "execution_count": 6,
     "metadata": {},
     "output_type": "execute_result"
    }
   ],
   "source": [
    "particle_features={}\n",
    "for index, row in particle_features_df.iterrows():\n",
    "    particle_features[particle_features_df.iloc[index]['verb']]=particle_features_df.loc[index,['about', 'along', 'around', 'back', 'by', 'down', 'in', 'off',\n",
    "                          'on', 'out', 'over', 'round', 'through', 'under', 'up', 'up_0', 'up_1',\n",
    "                          'up_2', 'up_3', 'up_4', 'up_5']].to_numpy(dtype='float32')\n",
    "particle_features['fire']"
   ]
  },
  {
   "cell_type": "code",
   "execution_count": 6,
   "metadata": {
    "ExecuteTime": {
     "end_time": "2020-04-08T19:37:59.696884Z",
     "start_time": "2020-04-08T19:37:59.686890Z"
    }
   },
   "outputs": [],
   "source": [
    "combined_features_V={}\n",
    "for k in particle_features.keys():\n",
    "    modified_key= str(k)+'_V'\n",
    "    combined_features_V[modified_key]=particle_features[k]"
   ]
  },
  {
   "cell_type": "code",
   "execution_count": 7,
   "metadata": {
    "ExecuteTime": {
     "end_time": "2020-04-08T19:37:59.713875Z",
     "start_time": "2020-04-08T19:37:59.699883Z"
    }
   },
   "outputs": [],
   "source": [
    "combined_features_VPC={}\n",
    "for k in particle_features.keys():\n",
    "    modified_key= str(k)+'_VPC'\n",
    "    combined_features_VPC[modified_key]=particle_features[k]"
   ]
  },
  {
   "cell_type": "markdown",
   "metadata": {},
   "source": [
    "## Getting the word embeddings"
   ]
  },
  {
   "cell_type": "markdown",
   "metadata": {},
   "source": [
    "### training word2vec on BNC corpus "
   ]
  },
  {
   "cell_type": "markdown",
   "metadata": {},
   "source": [
    "#### CBOW"
   ]
  },
  {
   "cell_type": "code",
   "execution_count": 8,
   "metadata": {
    "ExecuteTime": {
     "end_time": "2020-04-08T19:37:59.731866Z",
     "start_time": "2020-04-08T19:37:59.715873Z"
    }
   },
   "outputs": [],
   "source": [
    "X_train_list = []\n",
    "# for l in d0:\n",
    "for l in X_train:\n",
    "    X_train_list_item = []\n",
    "    for t in l:\n",
    "        t = str(t)+'_VPC'\n",
    "        X_train_list_item.append(t)\n",
    "    X_train_list.append(X_train_list_item)\n",
    "# X_val_list = []\n",
    "# # for l in d0:\n",
    "# for l in X_val:\n",
    "#     X_val_list_item = []\n",
    "#     for t in l:\n",
    "#         t = str(t)+'_VPC'\n",
    "#         X_val_list_item.append(t)\n",
    "#     X_val_list.append(X_val_list_item)\n",
    "X_val_list = []\n",
    "# for l in d0:\n",
    "for l in X_test:\n",
    "    X_val_list_item = []\n",
    "    for t in l:\n",
    "        t = str(t)+'_VPC'\n",
    "        X_val_list_item.append(t)\n",
    "    X_val_list.append(X_val_list_item)\n",
    "\n",
    "X_train_tagged_VPC = np.array(X_train_list)\n",
    "X_val_tagged_VPC = np.array(X_val_list)\n",
    "\n",
    "X_train_list = []\n",
    "# for l in d0:\n",
    "for l in X_train:\n",
    "    X_train_list_item = []\n",
    "    for t in l:\n",
    "        t = str(t)+'_V'\n",
    "        X_train_list_item.append(t)\n",
    "    X_train_list.append(X_train_list_item)\n",
    "# X_val_list = []\n",
    "# # for l in d0:\n",
    "# for l in X_val:\n",
    "#     X_val_list_item = []\n",
    "#     for t in l:\n",
    "#         t = str(t)+'_V'\n",
    "#         X_val_list_item.append(t)\n",
    "#     X_val_list.append(X_val_list_item)\n",
    "X_val_list = []\n",
    "# for l in d0:\n",
    "for l in X_test:\n",
    "    X_val_list_item = []\n",
    "    for t in l:\n",
    "        t = str(t)+'_V'\n",
    "        X_val_list_item.append(t)\n",
    "    X_val_list.append(X_val_list_item)\n",
    "\n",
    "\n",
    "X_train_tagged_V = np.array(X_train_list)\n",
    "X_val_tagged_V = np.array(X_val_list)"
   ]
  },
  {
   "cell_type": "code",
   "execution_count": 9,
   "metadata": {
    "ExecuteTime": {
     "end_time": "2020-04-08T19:38:10.779817Z",
     "start_time": "2020-04-08T19:38:03.033067Z"
    }
   },
   "outputs": [
    {
     "name": "stderr",
     "output_type": "stream",
     "text": [
      "2020-04-19 12:55:21,595 : INFO : loading Word2Vec object from model_BNC_sentences.model\n",
      "2020-04-19 12:55:22,014 : INFO : loading wv recursively from model_BNC_sentences.model.wv.* with mmap=None\n",
      "2020-04-19 12:55:22,015 : INFO : loading vectors from model_BNC_sentences.model.wv.vectors.npy with mmap=None\n",
      "2020-04-19 12:55:22,437 : INFO : setting ignored attribute vectors_norm to None\n",
      "2020-04-19 12:55:22,438 : INFO : loading vocabulary recursively from model_BNC_sentences.model.vocabulary.* with mmap=None\n",
      "2020-04-19 12:55:22,438 : INFO : loading trainables recursively from model_BNC_sentences.model.trainables.* with mmap=None\n",
      "2020-04-19 12:55:22,439 : INFO : loading syn1neg from model_BNC_sentences.model.trainables.syn1neg.npy with mmap=None\n",
      "2020-04-19 12:55:22,883 : INFO : setting ignored attribute cum_table to None\n",
      "2020-04-19 12:55:22,884 : INFO : loaded model_BNC_sentences.model\n",
      "2020-04-19 12:55:23,319 : INFO : loading Word2Vec object from model_BNC_tagged_sentences_particle_cw_v2.model\n",
      "2020-04-19 12:55:23,875 : INFO : loading wv recursively from model_BNC_tagged_sentences_particle_cw_v2.model.wv.* with mmap=None\n",
      "2020-04-19 12:55:23,877 : INFO : loading vectors from model_BNC_tagged_sentences_particle_cw_v2.model.wv.vectors.npy with mmap=None\n",
      "2020-04-19 12:55:24,346 : INFO : setting ignored attribute vectors_norm to None\n",
      "2020-04-19 12:55:24,348 : INFO : loading vocabulary recursively from model_BNC_tagged_sentences_particle_cw_v2.model.vocabulary.* with mmap=None\n",
      "2020-04-19 12:55:24,349 : INFO : loading trainables recursively from model_BNC_tagged_sentences_particle_cw_v2.model.trainables.* with mmap=None\n",
      "2020-04-19 12:55:24,350 : INFO : loading syn1neg from model_BNC_tagged_sentences_particle_cw_v2.model.trainables.syn1neg.npy with mmap=None\n",
      "2020-04-19 12:55:24,806 : INFO : setting ignored attribute cum_table to None\n",
      "2020-04-19 12:55:24,807 : INFO : loaded model_BNC_tagged_sentences_particle_cw_v2.model\n",
      "2020-04-19 12:55:25,180 : INFO : loading Word2Vec object from model_BNC_tagged_sentences_verb_cw_v2.model\n",
      "2020-04-19 12:55:25,562 : INFO : loading wv recursively from model_BNC_tagged_sentences_verb_cw_v2.model.wv.* with mmap=None\n",
      "2020-04-19 12:55:25,563 : INFO : loading vectors from model_BNC_tagged_sentences_verb_cw_v2.model.wv.vectors.npy with mmap=None\n",
      "2020-04-19 12:55:26,002 : INFO : setting ignored attribute vectors_norm to None\n",
      "2020-04-19 12:55:26,003 : INFO : loading vocabulary recursively from model_BNC_tagged_sentences_verb_cw_v2.model.vocabulary.* with mmap=None\n",
      "2020-04-19 12:55:26,004 : INFO : loading trainables recursively from model_BNC_tagged_sentences_verb_cw_v2.model.trainables.* with mmap=None\n",
      "2020-04-19 12:55:26,006 : INFO : loading syn1neg from model_BNC_tagged_sentences_verb_cw_v2.model.trainables.syn1neg.npy with mmap=None\n",
      "2020-04-19 12:55:26,458 : INFO : setting ignored attribute cum_table to None\n",
      "2020-04-19 12:55:26,459 : INFO : loaded model_BNC_tagged_sentences_verb_cw_v2.model\n",
      "2020-04-19 12:55:26,859 : INFO : loading Word2Vec object from model_BNC_tagged_sentences_particle_up_cw.model\n",
      "2020-04-19 12:55:27,244 : INFO : loading wv recursively from model_BNC_tagged_sentences_particle_up_cw.model.wv.* with mmap=None\n",
      "2020-04-19 12:55:27,245 : INFO : loading vectors from model_BNC_tagged_sentences_particle_up_cw.model.wv.vectors.npy with mmap=None\n",
      "2020-04-19 12:55:27,677 : INFO : setting ignored attribute vectors_norm to None\n",
      "2020-04-19 12:55:27,678 : INFO : loading vocabulary recursively from model_BNC_tagged_sentences_particle_up_cw.model.vocabulary.* with mmap=None\n",
      "2020-04-19 12:55:27,679 : INFO : loading trainables recursively from model_BNC_tagged_sentences_particle_up_cw.model.trainables.* with mmap=None\n",
      "2020-04-19 12:55:27,680 : INFO : loading syn1neg from model_BNC_tagged_sentences_particle_up_cw.model.trainables.syn1neg.npy with mmap=None\n",
      "2020-04-19 12:55:28,115 : INFO : setting ignored attribute cum_table to None\n",
      "2020-04-19 12:55:28,116 : INFO : loaded model_BNC_tagged_sentences_particle_up_cw.model\n"
     ]
    }
   ],
   "source": [
    "model_BNC_sentences = Word2Vec.load(\"model_BNC_sentences.model\")\n",
    "model_BNC_tagged_sentences_particle_cw = Word2Vec.load(\n",
    "    \"model_BNC_tagged_sentences_particle_cw_v2.model\")\n",
    "model_BNC_tagged_sentences_verb_cw = Word2Vec.load(\n",
    "    \"model_BNC_tagged_sentences_verb_cw_v2.model\")\n",
    "model_BNC_tagged_sentences_particle_up_cw = Word2Vec.load(\n",
    "    \"model_BNC_tagged_sentences_particle_up_cw.model\")"
   ]
  },
  {
   "cell_type": "code",
   "execution_count": 10,
   "metadata": {
    "ExecuteTime": {
     "end_time": "2020-04-08T19:38:10.839784Z",
     "start_time": "2020-04-08T19:38:10.782815Z"
    }
   },
   "outputs": [],
   "source": [
    "# def transform_with_combine_features_cw(x):\n",
    "#     return np.array([\n",
    "#         np.concatenate(([model_BNC_sentences[w]\n",
    "#                  for w in words if w in model_BNC_sentences]or [np.zeros(model_BNC_sentences['balance'].shape)],\n",
    "#                        [particle_features[w]\n",
    "#                  for w in words if w in particle_features]or [np.zeros(particle_features['balance'].shape)]),\n",
    "#                 axis=None) for words in x\n",
    "#     ]) \n",
    "# X_train_combined_cw=transform_with_combine_features_cw(X_train)\n",
    "# X_val_combined_cw=transform_with_combine_features_cw(X_val)\n",
    "\n",
    "# def transform_with_combine_features_cw_VPC(x):\n",
    "#     return np.array([\n",
    "#         np.concatenate(([model_BNC_tagged_sentences_particle_cw[w]\n",
    "#                  for w in words if w in model_BNC_tagged_sentences_particle_cw]or [np.zeros(model_BNC_tagged_sentences_particle_cw['balance_VPC'].shape)],\n",
    "#                        [combined_features_VPC[w]\n",
    "#                  for w in words if w in combined_features_VPC]or [np.zeros(combined_features_VPC['balance_VPC'].shape)]),\n",
    "#                 axis=None) for words in x\n",
    "#     ]) \n",
    "# X_train_combined_VPC_cw=transform_with_combine_features_cw_VPC(X_train_tagged_VPC)\n",
    "# X_val_combined_VPC_cw=transform_with_combine_features_cw_VPC(X_val_tagged_VPC)\n",
    "\n",
    "# def transform_with_combine_features_cw_VPC_up(x):\n",
    "#     return np.array([\n",
    "#         np.concatenate(([model_BNC_tagged_sentences_particle_up_cw[w]\n",
    "#                  for w in words if w in model_BNC_tagged_sentences_particle_up_cw]or [np.zeros(model_BNC_tagged_sentences_particle_up_cw['balance_VPC'].shape)],\n",
    "#                        [combined_features_VPC[w]\n",
    "#                  for w in words if w in combined_features_VPC]or [np.zeros(combined_features_VPC['balance_VPC'].shape)]),\n",
    "#                 axis=None) for words in x\n",
    "#     ]) \n",
    "# X_train_combined_VPC_cw_up=transform_with_combine_features_cw_VPC_up(X_train_tagged_VPC)\n",
    "# X_val_combined_VPC_cw_up=transform_with_combine_features_cw_VPC_up(X_val_tagged_VPC)\n",
    "\n",
    "# def transform_with_combine_features_cw_V(x):\n",
    "#     return np.array([\n",
    "#         np.concatenate(([model_BNC_tagged_sentences_verb_cw[w]\n",
    "#                  for w in words if w in model_BNC_tagged_sentences_verb_cw]or [np.zeros(model_BNC_tagged_sentences_verb_cw['balance_V'].shape)],\n",
    "#                        [combined_features_V[w]\n",
    "#                  for w in words if w in combined_features_V]or [np.zeros(combined_features_V['balance_V'].shape)]),\n",
    "#                 axis=None) for words in x\n",
    "#     ]) \n",
    "# X_train_combined_V_cw=transform_with_combine_features_cw_V(X_train_tagged_V)\n",
    "# X_val_combined_V_cw=transform_with_combine_features_cw_V(X_val_tagged_V)\n",
    "\n"
   ]
  },
  {
   "cell_type": "code",
   "execution_count": 11,
   "metadata": {},
   "outputs": [
    {
     "name": "stderr",
     "output_type": "stream",
     "text": [
      "C:\\ProgramData\\Anaconda3\\lib\\site-packages\\ipykernel_launcher.py:4: DeprecationWarning: Call to deprecated `__contains__` (Method will be removed in 4.0.0, use self.wv.__contains__() instead).\n",
      "  after removing the cwd from sys.path.\n",
      "C:\\ProgramData\\Anaconda3\\lib\\site-packages\\ipykernel_launcher.py:4: DeprecationWarning: Call to deprecated `__getitem__` (Method will be removed in 4.0.0, use self.wv.__getitem__() instead).\n",
      "  after removing the cwd from sys.path.\n",
      "C:\\ProgramData\\Anaconda3\\lib\\site-packages\\ipykernel_launcher.py:5: DeprecationWarning: Call to deprecated `__getitem__` (Method will be removed in 4.0.0, use self.wv.__getitem__() instead).\n",
      "  \"\"\"\n",
      "C:\\ProgramData\\Anaconda3\\lib\\site-packages\\ipykernel_launcher.py:14: DeprecationWarning: Call to deprecated `__contains__` (Method will be removed in 4.0.0, use self.wv.__contains__() instead).\n",
      "  \n",
      "C:\\ProgramData\\Anaconda3\\lib\\site-packages\\ipykernel_launcher.py:14: DeprecationWarning: Call to deprecated `__getitem__` (Method will be removed in 4.0.0, use self.wv.__getitem__() instead).\n",
      "  \n",
      "C:\\ProgramData\\Anaconda3\\lib\\site-packages\\ipykernel_launcher.py:15: DeprecationWarning: Call to deprecated `__getitem__` (Method will be removed in 4.0.0, use self.wv.__getitem__() instead).\n",
      "  from ipykernel import kernelapp as app\n",
      "C:\\ProgramData\\Anaconda3\\lib\\site-packages\\ipykernel_launcher.py:23: DeprecationWarning: Call to deprecated `__contains__` (Method will be removed in 4.0.0, use self.wv.__contains__() instead).\n",
      "C:\\ProgramData\\Anaconda3\\lib\\site-packages\\ipykernel_launcher.py:23: DeprecationWarning: Call to deprecated `__getitem__` (Method will be removed in 4.0.0, use self.wv.__getitem__() instead).\n",
      "C:\\ProgramData\\Anaconda3\\lib\\site-packages\\ipykernel_launcher.py:24: DeprecationWarning: Call to deprecated `__getitem__` (Method will be removed in 4.0.0, use self.wv.__getitem__() instead).\n",
      "C:\\ProgramData\\Anaconda3\\lib\\site-packages\\ipykernel_launcher.py:32: DeprecationWarning: Call to deprecated `__contains__` (Method will be removed in 4.0.0, use self.wv.__contains__() instead).\n",
      "C:\\ProgramData\\Anaconda3\\lib\\site-packages\\ipykernel_launcher.py:32: DeprecationWarning: Call to deprecated `__getitem__` (Method will be removed in 4.0.0, use self.wv.__getitem__() instead).\n",
      "C:\\ProgramData\\Anaconda3\\lib\\site-packages\\ipykernel_launcher.py:33: DeprecationWarning: Call to deprecated `__getitem__` (Method will be removed in 4.0.0, use self.wv.__getitem__() instead).\n"
     ]
    }
   ],
   "source": [
    "def transform_with_BNC(x):\n",
    "    return np.array([\n",
    "        np.mean([model_BNC_sentences[w]\n",
    "                 for w in words if w in model_BNC_sentences]or [np.zeros(model_BNC_sentences['balance'].shape)],\n",
    "                axis=0) for words in x\n",
    "    ])\n",
    "X_train_updated_BNC = transform_with_BNC(X_train)\n",
    "# X_val_updated_BNC = transform_with_BNC(X_val)\n",
    "X_val_updated_BNC = transform_with_BNC(X_test)\n",
    "\n",
    "def transform_with_BNC_v(x):\n",
    "    return np.array([\n",
    "        np.mean([model_BNC_tagged_sentences_verb_cw[w]\n",
    "                 for w in words if w in model_BNC_tagged_sentences_verb_cw]or [np.zeros(model_BNC_tagged_sentences_verb_cw['balance_V'].shape)],\n",
    "                axis=0) for words in x\n",
    "    ])\n",
    "X_train_updated_BNC_V = transform_with_BNC_v(X_train_tagged_V)\n",
    "X_val_updated_BNC_V = transform_with_BNC_v(X_val_tagged_V)\n",
    "\n",
    "def transform_with_BNC_up(x):\n",
    "    return np.array([\n",
    "        np.mean([model_BNC_tagged_sentences_particle_up_cw[w]\n",
    "                 for w in words if w in model_BNC_tagged_sentences_particle_up_cw]or [np.zeros(model_BNC_tagged_sentences_particle_up_cw['balance_VPC'].shape)],\n",
    "                axis=0) for words in x\n",
    "    ])\n",
    "X_train_updated_BNC_VPC_up = transform_with_BNC_up(X_train_tagged_VPC)\n",
    "X_val_updated_BNC_VPC_up = transform_with_BNC_up(X_val_tagged_VPC)\n",
    "\n",
    "def transform_with_BNC_vpc(x):\n",
    "    return np.array([\n",
    "        np.mean([model_BNC_tagged_sentences_particle_cw[w]\n",
    "                 for w in words if w in model_BNC_tagged_sentences_particle_cw]or [np.zeros(model_BNC_tagged_sentences_particle_cw['balance_VPC'].shape)],\n",
    "                axis=0) for words in x\n",
    "    ])\n",
    "\n",
    "X_train_updated_BNC_VPC = transform_with_BNC_vpc(X_train_tagged_VPC)\n",
    "X_val_updated_BNC_VPC = transform_with_BNC_vpc(X_val_tagged_VPC)\n",
    "\n",
    "def transform_with_particle_features(x):\n",
    "    return np.array([\n",
    "        np.mean([particle_features[w]\n",
    "                 for w in words if w in particle_features]or [np.zeros(particle_features['balance'].shape)],\n",
    "                axis=0) for words in x\n",
    "    ])\n",
    "X_train_particle_features = transform_with_particle_features(X_train)\n",
    "# X_val_particle_features = transform_with_particle_features(X_val)\n",
    "X_val_particle_features = transform_with_particle_features(X_test)"
   ]
  },
  {
   "cell_type": "code",
   "execution_count": 12,
   "metadata": {},
   "outputs": [],
   "source": [
    "X_train_combined_cw=np.concatenate((X_train_updated_BNC, X_train_particle_features), axis=1)\n",
    "X_val_combined_cw=np.concatenate((X_val_updated_BNC, X_val_particle_features), axis=1)\n",
    "\n",
    "\n",
    "X_train_combined_VPC_cw=np.concatenate((X_train_updated_BNC_VPC, X_train_particle_features), axis=1)\n",
    "X_val_combined_VPC_cw=np.concatenate((X_val_updated_BNC_VPC, X_val_particle_features), axis=1)\n",
    "\n",
    "\n",
    "X_train_combined_VPC_cw_up=np.concatenate((X_train_updated_BNC_VPC_up, X_train_particle_features), axis=1)\n",
    "X_val_combined_VPC_cw_up=np.concatenate((X_val_updated_BNC_VPC_up, X_val_particle_features), axis=1)\n",
    "\n",
    "\n",
    "X_train_combined_V_cw=np.concatenate((X_train_updated_BNC_V, X_train_particle_features), axis=1)\n",
    "X_val_combined_V_cw=np.concatenate((X_val_updated_BNC_V, X_val_particle_features), axis=1)"
   ]
  },
  {
   "cell_type": "code",
   "execution_count": 13,
   "metadata": {},
   "outputs": [],
   "source": [
    "X_train_combined_cw900D=np.concatenate((X_train_updated_BNC_V, X_train_updated_BNC_VPC,X_train_updated_BNC_VPC_up), axis=1)\n",
    "X_val_combined_cw900D=np.concatenate((X_val_updated_BNC_V, X_val_updated_BNC_VPC,X_val_updated_BNC_VPC_up), axis=1)"
   ]
  },
  {
   "cell_type": "code",
   "execution_count": 14,
   "metadata": {},
   "outputs": [],
   "source": [
    "X_train_combined_cw921D=np.concatenate((X_train_updated_BNC_V, X_train_updated_BNC_VPC,X_train_updated_BNC_VPC_up,X_train_particle_features), axis=1)\n",
    "X_val_combined_cw921D=np.concatenate((X_val_updated_BNC_V, X_val_updated_BNC_VPC,X_val_updated_BNC_VPC_up,X_val_particle_features), axis=1)"
   ]
  },
  {
   "cell_type": "markdown",
   "metadata": {},
   "source": [
    "#### Skip-gram"
   ]
  },
  {
   "cell_type": "code",
   "execution_count": 15,
   "metadata": {
    "ExecuteTime": {
     "end_time": "2020-04-08T19:38:14.949686Z",
     "start_time": "2020-04-08T19:38:14.938695Z"
    }
   },
   "outputs": [],
   "source": [
    "# X_train_list = []\n",
    "# # for l in d0:\n",
    "# for l in X_train:\n",
    "#     X_train_list_item = []\n",
    "#     for t in l:\n",
    "#         t = str(t)+'_VPC'\n",
    "#         X_train_list_item.append(t)\n",
    "#     X_train_list.append(X_train_list_item)\n",
    "# X_val_list = []\n",
    "# # for l in d0:\n",
    "# for l in X_val:\n",
    "#     X_val_list_item = []\n",
    "#     for t in l:\n",
    "#         t = str(t)+'_VPC'\n",
    "#         X_val_list_item.append(t)\n",
    "#     X_val_list.append(X_val_list_item)\n",
    "\n",
    "\n",
    "# X_train_tagged_VPC = np.array(X_train_list)\n",
    "# X_val_tagged_VPC = np.array(X_val_list)\n",
    "\n",
    "# X_train_list = []\n",
    "# # for l in d0:\n",
    "# for l in X_train:\n",
    "#     X_train_list_item = []\n",
    "#     for t in l:\n",
    "#         t = str(t)+'_V'\n",
    "#         X_train_list_item.append(t)\n",
    "#     X_train_list.append(X_train_list_item)\n",
    "# X_val_list = []\n",
    "# # for l in d0:\n",
    "# for l in X_val:\n",
    "#     X_val_list_item = []\n",
    "#     for t in l:\n",
    "#         t = str(t)+'_V'\n",
    "#         X_val_list_item.append(t)\n",
    "#     X_val_list.append(X_val_list_item)\n",
    "\n",
    "\n",
    "# X_train_tagged_V = np.array(X_train_list)\n",
    "# X_val_tagged_V = np.array(X_val_list)"
   ]
  },
  {
   "cell_type": "code",
   "execution_count": 16,
   "metadata": {
    "ExecuteTime": {
     "end_time": "2020-04-08T19:38:23.004041Z",
     "start_time": "2020-04-08T19:38:15.772016Z"
    }
   },
   "outputs": [
    {
     "name": "stderr",
     "output_type": "stream",
     "text": [
      "2020-04-19 12:55:28,657 : INFO : loading Word2Vec object from model_BNC_sentences_sg.model\n",
      "2020-04-19 12:55:29,179 : INFO : loading wv recursively from model_BNC_sentences_sg.model.wv.* with mmap=None\n",
      "2020-04-19 12:55:29,180 : INFO : loading vectors from model_BNC_sentences_sg.model.wv.vectors.npy with mmap=None\n",
      "2020-04-19 12:55:29,610 : INFO : setting ignored attribute vectors_norm to None\n",
      "2020-04-19 12:55:29,611 : INFO : loading vocabulary recursively from model_BNC_sentences_sg.model.vocabulary.* with mmap=None\n",
      "2020-04-19 12:55:29,612 : INFO : loading trainables recursively from model_BNC_sentences_sg.model.trainables.* with mmap=None\n",
      "2020-04-19 12:55:29,613 : INFO : loading syn1neg from model_BNC_sentences_sg.model.trainables.syn1neg.npy with mmap=None\n",
      "2020-04-19 12:55:30,084 : INFO : setting ignored attribute cum_table to None\n",
      "2020-04-19 12:55:30,085 : INFO : loaded model_BNC_sentences_sg.model\n",
      "2020-04-19 12:55:30,525 : INFO : loading Word2Vec object from model_BNC_tagged_sentences_particle_sg_v2.model\n",
      "2020-04-19 12:55:30,808 : INFO : loading wv recursively from model_BNC_tagged_sentences_particle_sg_v2.model.wv.* with mmap=None\n",
      "2020-04-19 12:55:30,809 : INFO : loading vectors from model_BNC_tagged_sentences_particle_sg_v2.model.wv.vectors.npy with mmap=None\n",
      "2020-04-19 12:55:31,298 : INFO : setting ignored attribute vectors_norm to None\n",
      "2020-04-19 12:55:31,300 : INFO : loading vocabulary recursively from model_BNC_tagged_sentences_particle_sg_v2.model.vocabulary.* with mmap=None\n",
      "2020-04-19 12:55:31,301 : INFO : loading trainables recursively from model_BNC_tagged_sentences_particle_sg_v2.model.trainables.* with mmap=None\n",
      "2020-04-19 12:55:31,302 : INFO : loading syn1neg from model_BNC_tagged_sentences_particle_sg_v2.model.trainables.syn1neg.npy with mmap=None\n",
      "2020-04-19 12:55:31,774 : INFO : setting ignored attribute cum_table to None\n",
      "2020-04-19 12:55:31,775 : INFO : loaded model_BNC_tagged_sentences_particle_sg_v2.model\n",
      "2020-04-19 12:55:32,187 : INFO : loading Word2Vec object from model_BNC_tagged_sentences_particle_up_sg.model\n",
      "2020-04-19 12:55:32,768 : INFO : loading wv recursively from model_BNC_tagged_sentences_particle_up_sg.model.wv.* with mmap=None\n",
      "2020-04-19 12:55:32,770 : INFO : loading vectors from model_BNC_tagged_sentences_particle_up_sg.model.wv.vectors.npy with mmap=None\n",
      "2020-04-19 12:55:33,236 : INFO : setting ignored attribute vectors_norm to None\n",
      "2020-04-19 12:55:33,237 : INFO : loading vocabulary recursively from model_BNC_tagged_sentences_particle_up_sg.model.vocabulary.* with mmap=None\n",
      "2020-04-19 12:55:33,238 : INFO : loading trainables recursively from model_BNC_tagged_sentences_particle_up_sg.model.trainables.* with mmap=None\n",
      "2020-04-19 12:55:33,239 : INFO : loading syn1neg from model_BNC_tagged_sentences_particle_up_sg.model.trainables.syn1neg.npy with mmap=None\n",
      "2020-04-19 12:55:33,710 : INFO : setting ignored attribute cum_table to None\n",
      "2020-04-19 12:55:33,711 : INFO : loaded model_BNC_tagged_sentences_particle_up_sg.model\n",
      "2020-04-19 12:55:34,195 : INFO : loading Word2Vec object from model_BNC_tagged_sentences_verb_sg_v2.model\n",
      "2020-04-19 12:55:34,712 : INFO : loading wv recursively from model_BNC_tagged_sentences_verb_sg_v2.model.wv.* with mmap=None\n",
      "2020-04-19 12:55:34,713 : INFO : loading vectors from model_BNC_tagged_sentences_verb_sg_v2.model.wv.vectors.npy with mmap=None\n",
      "2020-04-19 12:55:35,206 : INFO : setting ignored attribute vectors_norm to None\n",
      "2020-04-19 12:55:35,207 : INFO : loading vocabulary recursively from model_BNC_tagged_sentences_verb_sg_v2.model.vocabulary.* with mmap=None\n",
      "2020-04-19 12:55:35,208 : INFO : loading trainables recursively from model_BNC_tagged_sentences_verb_sg_v2.model.trainables.* with mmap=None\n",
      "2020-04-19 12:55:35,210 : INFO : loading syn1neg from model_BNC_tagged_sentences_verb_sg_v2.model.trainables.syn1neg.npy with mmap=None\n",
      "2020-04-19 12:55:35,721 : INFO : setting ignored attribute cum_table to None\n",
      "2020-04-19 12:55:35,722 : INFO : loaded model_BNC_tagged_sentences_verb_sg_v2.model\n"
     ]
    }
   ],
   "source": [
    "model_BNC_sentences_sg = Word2Vec.load(\"model_BNC_sentences_sg.model\")\n",
    "model_BNC_tagged_sentences_particle_sg = Word2Vec.load(\"model_BNC_tagged_sentences_particle_sg_v2.model\")\n",
    "model_BNC_tagged_sentences_particle_up_sg = Word2Vec.load(\"model_BNC_tagged_sentences_particle_up_sg.model\")\n",
    "model_BNC_tagged_sentences_verb_sg = Word2Vec.load(\"model_BNC_tagged_sentences_verb_sg_v2.model\")"
   ]
  },
  {
   "cell_type": "code",
   "execution_count": 17,
   "metadata": {
    "ExecuteTime": {
     "end_time": "2020-04-08T19:38:23.073003Z",
     "start_time": "2020-04-08T19:38:23.007040Z"
    },
    "scrolled": true
   },
   "outputs": [
    {
     "name": "stderr",
     "output_type": "stream",
     "text": [
      "C:\\ProgramData\\Anaconda3\\lib\\site-packages\\ipykernel_launcher.py:47: DeprecationWarning: Call to deprecated `__contains__` (Method will be removed in 4.0.0, use self.wv.__contains__() instead).\n",
      "C:\\ProgramData\\Anaconda3\\lib\\site-packages\\ipykernel_launcher.py:47: DeprecationWarning: Call to deprecated `__getitem__` (Method will be removed in 4.0.0, use self.wv.__getitem__() instead).\n",
      "C:\\ProgramData\\Anaconda3\\lib\\site-packages\\ipykernel_launcher.py:48: DeprecationWarning: Call to deprecated `__getitem__` (Method will be removed in 4.0.0, use self.wv.__getitem__() instead).\n",
      "C:\\ProgramData\\Anaconda3\\lib\\site-packages\\ipykernel_launcher.py:57: DeprecationWarning: Call to deprecated `__contains__` (Method will be removed in 4.0.0, use self.wv.__contains__() instead).\n",
      "C:\\ProgramData\\Anaconda3\\lib\\site-packages\\ipykernel_launcher.py:57: DeprecationWarning: Call to deprecated `__getitem__` (Method will be removed in 4.0.0, use self.wv.__getitem__() instead).\n",
      "C:\\ProgramData\\Anaconda3\\lib\\site-packages\\ipykernel_launcher.py:58: DeprecationWarning: Call to deprecated `__getitem__` (Method will be removed in 4.0.0, use self.wv.__getitem__() instead).\n",
      "C:\\ProgramData\\Anaconda3\\lib\\site-packages\\ipykernel_launcher.py:66: DeprecationWarning: Call to deprecated `__contains__` (Method will be removed in 4.0.0, use self.wv.__contains__() instead).\n",
      "C:\\ProgramData\\Anaconda3\\lib\\site-packages\\ipykernel_launcher.py:66: DeprecationWarning: Call to deprecated `__getitem__` (Method will be removed in 4.0.0, use self.wv.__getitem__() instead).\n",
      "C:\\ProgramData\\Anaconda3\\lib\\site-packages\\ipykernel_launcher.py:67: DeprecationWarning: Call to deprecated `__getitem__` (Method will be removed in 4.0.0, use self.wv.__getitem__() instead).\n",
      "C:\\ProgramData\\Anaconda3\\lib\\site-packages\\ipykernel_launcher.py:75: DeprecationWarning: Call to deprecated `__contains__` (Method will be removed in 4.0.0, use self.wv.__contains__() instead).\n",
      "C:\\ProgramData\\Anaconda3\\lib\\site-packages\\ipykernel_launcher.py:75: DeprecationWarning: Call to deprecated `__getitem__` (Method will be removed in 4.0.0, use self.wv.__getitem__() instead).\n",
      "C:\\ProgramData\\Anaconda3\\lib\\site-packages\\ipykernel_launcher.py:76: DeprecationWarning: Call to deprecated `__getitem__` (Method will be removed in 4.0.0, use self.wv.__getitem__() instead).\n"
     ]
    }
   ],
   "source": [
    "# def transform_with_combine_features_sg(x):\n",
    "#     return np.array([\n",
    "#         np.concatenate(([model_BNC_sentences_sg[w]\n",
    "#                  for w in words if w in model_BNC_sentences_sg]or [np.zeros(model_BNC_sentences_sg['balance'].shape)],\n",
    "#                        [particle_features[w]\n",
    "#                  for w in words if w in particle_features]or [np.zeros(particle_features['balance'].shape)]),\n",
    "#                 axis=None) for words in x\n",
    "#     ]) \n",
    "# X_train_combined_sg=transform_with_combine_features_sg(X_train)\n",
    "# X_val_combined_sg=transform_with_combine_features_sg(X_val)\n",
    "\n",
    "# def transform_with_combine_features_sg_VPC(x):\n",
    "#     return np.array([\n",
    "#         np.concatenate(([model_BNC_tagged_sentences_particle_sg[w]\n",
    "#                  for w in words if w in model_BNC_tagged_sentences_particle_sg]or [np.zeros(model_BNC_tagged_sentences_particle_sg['balance_VPC'].shape)],\n",
    "#                        [combined_features_VPC[w]\n",
    "#                  for w in words if w in combined_features_VPC]or [np.zeros(combined_features_VPC['balance_VPC'].shape)]),\n",
    "#                 axis=None) for words in x\n",
    "#     ]) \n",
    "# X_train_combined_VPC_sg=transform_with_combine_features_sg_VPC(X_train_tagged_VPC)\n",
    "# X_val_combined_VPC_sg=transform_with_combine_features_sg_VPC(X_val_tagged_VPC)\n",
    "\n",
    "# def transform_with_combine_features_sg_VPC_up(x):\n",
    "#     return np.array([\n",
    "#         np.concatenate(([model_BNC_tagged_sentences_particle_up_sg[w]\n",
    "#                  for w in words if w in model_BNC_tagged_sentences_particle_up_sg]or [np.zeros(model_BNC_tagged_sentences_particle_up_sg['balance_VPC'].shape)],\n",
    "#                        [combined_features_VPC[w]\n",
    "#                  for w in words if w in combined_features_VPC]or [np.zeros(combined_features_VPC['balance_VPC'].shape)]),\n",
    "#                 axis=None) for words in x\n",
    "#     ]) \n",
    "# X_train_combined_VPC_sg_up=transform_with_combine_features_sg_VPC_up(X_train_tagged_VPC)\n",
    "# X_val_combined_VPC_sg_up=transform_with_combine_features_sg_VPC_up(X_val_tagged_VPC)\n",
    "\n",
    "# def transform_with_combine_features_sg_V(x):\n",
    "#     return np.array([\n",
    "#         np.concatenate(([model_BNC_tagged_sentences_verb_sg[w]\n",
    "#                  for w in words if w in model_BNC_tagged_sentences_verb_sg]or [np.zeros(model_BNC_tagged_sentences_verb_sg['balance_V'].shape)],\n",
    "#                        [combined_features_V[w]\n",
    "#                  for w in words if w in combined_features_V]or [np.zeros(combined_features_V['balance_V'].shape)]),\n",
    "#                 axis=None) for words in x\n",
    "#     ]) \n",
    "# X_train_combined_V_sg=transform_with_combine_features_sg_V(X_train_tagged_V)\n",
    "# X_val_combined_V_sg=transform_with_combine_features_sg_V(X_val_tagged_V)\n",
    "def transform_with_BNC(x):\n",
    "    return np.array([\n",
    "        np.mean([model_BNC_sentences_sg[w]\n",
    "                 for w in words if w in model_BNC_sentences_sg]or [np.zeros(model_BNC_sentences_sg['balance'].shape)],\n",
    "                axis=0) for words in x\n",
    "    ])\n",
    "X_train_updated_BNC = transform_with_BNC(X_train)\n",
    "# X_val_updated_BNC = transform_with_BNC(X_val)\n",
    "X_val_updated_BNC = transform_with_BNC(X_test)\n",
    "\n",
    "def transform_with_BNC_v(x):\n",
    "    return np.array([\n",
    "        np.mean([model_BNC_tagged_sentences_verb_sg[w]\n",
    "                 for w in words if w in model_BNC_tagged_sentences_verb_sg]or [np.zeros(model_BNC_tagged_sentences_verb_sg['balance_V'].shape)],\n",
    "                axis=0) for words in x\n",
    "    ])\n",
    "X_train_updated_BNC_V = transform_with_BNC_v(X_train_tagged_V)\n",
    "X_val_updated_BNC_V = transform_with_BNC_v(X_val_tagged_V)\n",
    "\n",
    "def transform_with_BNC_up(x):\n",
    "    return np.array([\n",
    "        np.mean([model_BNC_tagged_sentences_particle_up_sg[w]\n",
    "                 for w in words if w in model_BNC_tagged_sentences_particle_up_sg]or [np.zeros(model_BNC_tagged_sentences_particle_up_sg['balance_VPC'].shape)],\n",
    "                axis=0) for words in x\n",
    "    ])\n",
    "X_train_updated_BNC_VPC_up = transform_with_BNC_up(X_train_tagged_VPC)\n",
    "X_val_updated_BNC_VPC_up = transform_with_BNC_up(X_val_tagged_VPC)\n",
    "\n",
    "def transform_with_BNC_vpc(x):\n",
    "    return np.array([\n",
    "        np.mean([model_BNC_tagged_sentences_particle_sg[w]\n",
    "                 for w in words if w in model_BNC_tagged_sentences_particle_sg]or [np.zeros(model_BNC_tagged_sentences_particle_sg['balance_VPC'].shape)],\n",
    "                axis=0) for words in x\n",
    "    ])\n",
    "\n",
    "X_train_updated_BNC_VPC = transform_with_BNC_vpc(X_train_tagged_VPC)\n",
    "X_val_updated_BNC_VPC = transform_with_BNC_vpc(X_val_tagged_VPC)\n",
    "\n",
    "def transform_with_particle_features(x):\n",
    "    return np.array([\n",
    "        np.mean([particle_features[w]\n",
    "                 for w in words if w in particle_features]or [np.zeros(particle_features['balance'].shape)],\n",
    "                axis=0) for words in x\n",
    "    ])\n",
    "X_train_particle_features = transform_with_particle_features(X_train)\n",
    "# X_val_particle_features = transform_with_particle_features(X_val)\n",
    "X_val_particle_features = transform_with_particle_features(X_test)"
   ]
  },
  {
   "cell_type": "code",
   "execution_count": 18,
   "metadata": {},
   "outputs": [],
   "source": [
    "X_train_combined_sg=np.concatenate((X_train_updated_BNC, X_train_particle_features), axis=1)\n",
    "X_val_combined_sg=np.concatenate((X_val_updated_BNC, X_val_particle_features), axis=1)\n",
    "\n",
    " \n",
    "X_train_combined_VPC_sg=np.concatenate((X_train_updated_BNC_VPC, X_train_particle_features), axis=1)\n",
    "X_val_combined_VPC_sg=np.concatenate((X_val_updated_BNC_VPC, X_val_particle_features), axis=1)\n",
    "\n",
    "\n",
    "X_train_combined_VPC_sg_up=np.concatenate((X_train_updated_BNC_VPC_up, X_train_particle_features), axis=1)\n",
    "X_val_combined_VPC_sg_up=np.concatenate((X_val_updated_BNC_VPC_up, X_val_particle_features), axis=1)\n",
    "\n",
    "X_train_combined_V_sg=np.concatenate((X_train_updated_BNC_V, X_train_particle_features), axis=1)\n",
    "X_val_combined_V_sg=np.concatenate((X_val_updated_BNC_V, X_val_particle_features), axis=1)"
   ]
  },
  {
   "cell_type": "code",
   "execution_count": 19,
   "metadata": {},
   "outputs": [],
   "source": [
    "X_train_combined_sg900D=np.concatenate((X_train_updated_BNC_V, X_train_updated_BNC_VPC,X_train_updated_BNC_VPC_up), axis=1)\n",
    "X_val_combined_sg900D=np.concatenate((X_val_updated_BNC_V, X_val_updated_BNC_VPC,X_val_updated_BNC_VPC_up), axis=1)"
   ]
  },
  {
   "cell_type": "code",
   "execution_count": 20,
   "metadata": {},
   "outputs": [],
   "source": [
    "X_train_combined_sg921D=np.concatenate((X_train_updated_BNC_V, X_train_updated_BNC_VPC,X_train_updated_BNC_VPC_up,X_train_particle_features), axis=1)\n",
    "X_val_combined_sg921D=np.concatenate((X_val_updated_BNC_V, X_val_updated_BNC_VPC,X_val_updated_BNC_VPC_up,X_val_particle_features), axis=1)"
   ]
  },
  {
   "cell_type": "code",
   "execution_count": 21,
   "metadata": {},
   "outputs": [
    {
     "data": {
      "text/plain": [
       "921"
      ]
     },
     "execution_count": 21,
     "metadata": {},
     "output_type": "execute_result"
    }
   ],
   "source": [
    "len(X_val_combined_sg921D[1])"
   ]
  },
  {
   "cell_type": "markdown",
   "metadata": {},
   "source": [
    "### google (300D) pre-trained word embedding "
   ]
  },
  {
   "cell_type": "code",
   "execution_count": 22,
   "metadata": {
    "scrolled": true
   },
   "outputs": [
    {
     "name": "stderr",
     "output_type": "stream",
     "text": [
      "2020-04-19 12:55:36,224 : INFO : loading projection weights from GoogleNews-vectors-negative300.bin\n",
      "2020-04-19 12:56:58,182 : INFO : loaded (3000000, 300) matrix from GoogleNews-vectors-negative300.bin\n"
     ]
    }
   ],
   "source": [
    "model_google = gensim.models.KeyedVectors.load_word2vec_format(\n",
    "    'GoogleNews-vectors-negative300.bin', binary=True)"
   ]
  },
  {
   "cell_type": "markdown",
   "metadata": {
    "heading_collapsed": true
   },
   "source": [
    "### glove pre-trained word embedding"
   ]
  },
  {
   "cell_type": "code",
   "execution_count": 23,
   "metadata": {
    "hidden": true
   },
   "outputs": [],
   "source": [
    "GLOVE_6B_50D_PATH = \"glove.6B.50d.txt\"\n",
    "GLOVE_840B_300D_PATH = \"glove.840B.300d.txt\"\n",
    "encoding = \"utf-8\""
   ]
  },
  {
   "cell_type": "code",
   "execution_count": 24,
   "metadata": {
    "code_folding": [
     1
    ],
    "hidden": true
   },
   "outputs": [],
   "source": [
    "import numpy as np\n",
    "with open(GLOVE_6B_50D_PATH, \"rb\") as lines:\n",
    "    wvec = {\n",
    "        line.split()[0].decode(encoding): np.array(line.split()[1:],\n",
    "                                                   dtype=np.float32)\n",
    "        for line in lines\n",
    "    }"
   ]
  },
  {
   "cell_type": "code",
   "execution_count": 25,
   "metadata": {
    "code_folding": [
     10,
     19
    ],
    "hidden": true
   },
   "outputs": [],
   "source": [
    "# reading glove files, this may take a while\n",
    "# we're reading line by line and only saving vectors\n",
    "# that correspond to words from our training set\n",
    "# if you wan't to play around with the vectors and have\n",
    "# enough RAM - remove the 'if' line and load everything\n",
    "\n",
    "import struct\n",
    "\n",
    "glove_small = {}\n",
    "all_words = set(w for words in X for w in words)\n",
    "with open(GLOVE_6B_50D_PATH, \"rb\") as infile:\n",
    "    for line in infile:\n",
    "        parts = line.split()\n",
    "        word = parts[0].decode(encoding)\n",
    "        if (word in all_words):\n",
    "            nums = np.array(parts[1:], dtype=np.float32)\n",
    "            glove_small[word] = nums\n",
    "\n",
    "glove_big = {}\n",
    "with open(GLOVE_840B_300D_PATH, \"rb\") as infile:\n",
    "    for line in infile:\n",
    "        parts = line.split()\n",
    "        word = parts[0].decode(encoding)\n",
    "        if word in all_words:\n",
    "            nums = np.array(parts[1:], dtype=np.float32)\n",
    "            glove_big[word] = nums"
   ]
  },
  {
   "cell_type": "markdown",
   "metadata": {},
   "source": [
    "## Classification"
   ]
  },
  {
   "cell_type": "code",
   "execution_count": 26,
   "metadata": {
    "ExecuteTime": {
     "end_time": "2020-04-08T19:38:24.388127Z",
     "start_time": "2020-04-08T19:38:24.382117Z"
    }
   },
   "outputs": [],
   "source": [
    "my_tags = ['GCR', 'Vert']"
   ]
  },
  {
   "cell_type": "markdown",
   "metadata": {},
   "source": [
    "### Training with BNC word embedding (CBOW)"
   ]
  },
  {
   "cell_type": "markdown",
   "metadata": {},
   "source": [
    "#### General form"
   ]
  },
  {
   "cell_type": "markdown",
   "metadata": {},
   "source": [
    "##### Linear SVM"
   ]
  },
  {
   "cell_type": "code",
   "execution_count": 27,
   "metadata": {
    "ExecuteTime": {
     "end_time": "2020-04-08T19:38:28.492708Z",
     "start_time": "2020-04-08T19:38:28.465724Z"
    },
    "scrolled": true
   },
   "outputs": [
    {
     "data": {
      "text/plain": [
       "SVC(C=1.0, break_ties=False, cache_size=200, class_weight=None, coef0=0.0,\n",
       "    decision_function_shape='ovr', degree=3, gamma='scale', kernel='linear',\n",
       "    max_iter=-1, probability=False, random_state=None, shrinking=True,\n",
       "    tol=0.001, verbose=False)"
      ]
     },
     "execution_count": 27,
     "metadata": {},
     "output_type": "execute_result"
    }
   ],
   "source": [
    "clf = SVC(kernel='linear')\n",
    "clf.fit(X_train_combined_cw, y_train)"
   ]
  },
  {
   "cell_type": "code",
   "execution_count": 28,
   "metadata": {
    "ExecuteTime": {
     "end_time": "2020-04-08T19:38:29.304943Z",
     "start_time": "2020-04-08T19:38:29.298946Z"
    }
   },
   "outputs": [],
   "source": [
    "y_pred = clf.predict(X_val_combined_cw)"
   ]
  },
  {
   "cell_type": "code",
   "execution_count": 29,
   "metadata": {
    "ExecuteTime": {
     "end_time": "2020-04-08T19:38:29.839689Z",
     "start_time": "2020-04-08T19:38:29.832691Z"
    }
   },
   "outputs": [
    {
     "name": "stdout",
     "output_type": "stream",
     "text": [
      "SVM Accuracy Score ->  48.333333333333336\n"
     ]
    }
   ],
   "source": [
    "print(\"SVM Accuracy Score -> \", accuracy_score(y_pred, y_val) * 100)"
   ]
  },
  {
   "cell_type": "code",
   "execution_count": 30,
   "metadata": {
    "ExecuteTime": {
     "end_time": "2020-04-08T19:38:30.342398Z",
     "start_time": "2020-04-08T19:38:30.326408Z"
    }
   },
   "outputs": [
    {
     "name": "stdout",
     "output_type": "stream",
     "text": [
      "              precision    recall  f1-score   support\n",
      "\n",
      "         GCR       0.44      0.59      0.51        27\n",
      "        Vert       0.54      0.39      0.46        33\n",
      "\n",
      "    accuracy                           0.48        60\n",
      "   macro avg       0.49      0.49      0.48        60\n",
      "weighted avg       0.50      0.48      0.48        60\n",
      "\n"
     ]
    }
   ],
   "source": [
    "from sklearn.metrics import classification_report\n",
    "print(classification_report(y_val, y_pred, target_names=my_tags))"
   ]
  },
  {
   "cell_type": "markdown",
   "metadata": {},
   "source": [
    "##### Weighted Linear SVM"
   ]
  },
  {
   "cell_type": "code",
   "execution_count": 31,
   "metadata": {
    "ExecuteTime": {
     "end_time": "2020-04-08T19:38:31.412278Z",
     "start_time": "2020-04-08T19:38:31.399303Z"
    },
    "scrolled": true
   },
   "outputs": [
    {
     "data": {
      "text/plain": [
       "SVC(C=1.0, break_ties=False, cache_size=200, class_weight='balanced', coef0=0.0,\n",
       "    decision_function_shape='ovr', degree=3, gamma='scale', kernel='linear',\n",
       "    max_iter=-1, probability=False, random_state=None, shrinking=True,\n",
       "    tol=0.001, verbose=False)"
      ]
     },
     "execution_count": 31,
     "metadata": {},
     "output_type": "execute_result"
    }
   ],
   "source": [
    "clf_balanced_class_weight = SVC(kernel='linear', class_weight='balanced')\n",
    "clf_balanced_class_weight.fit(X_train_combined_cw, y_train)"
   ]
  },
  {
   "cell_type": "code",
   "execution_count": 32,
   "metadata": {
    "ExecuteTime": {
     "end_time": "2020-04-08T19:38:31.895999Z",
     "start_time": "2020-04-08T19:38:31.890022Z"
    }
   },
   "outputs": [],
   "source": [
    "y_pred_balanced_class_weight = clf_balanced_class_weight.predict(\n",
    "    X_val_combined_cw)"
   ]
  },
  {
   "cell_type": "code",
   "execution_count": 33,
   "metadata": {
    "ExecuteTime": {
     "end_time": "2020-04-08T19:38:32.226812Z",
     "start_time": "2020-04-08T19:38:32.221815Z"
    }
   },
   "outputs": [
    {
     "name": "stdout",
     "output_type": "stream",
     "text": [
      "SVM Accuracy Score ->  48.333333333333336\n"
     ]
    }
   ],
   "source": [
    "print(\"SVM Accuracy Score -> \",\n",
    "      accuracy_score(y_pred_balanced_class_weight, y_val) * 100)"
   ]
  },
  {
   "cell_type": "code",
   "execution_count": 34,
   "metadata": {
    "ExecuteTime": {
     "end_time": "2020-04-08T19:38:32.665560Z",
     "start_time": "2020-04-08T19:38:32.653568Z"
    },
    "scrolled": true
   },
   "outputs": [
    {
     "name": "stdout",
     "output_type": "stream",
     "text": [
      "              precision    recall  f1-score   support\n",
      "\n",
      "         GCR       0.44      0.59      0.51        27\n",
      "        Vert       0.54      0.39      0.46        33\n",
      "\n",
      "    accuracy                           0.48        60\n",
      "   macro avg       0.49      0.49      0.48        60\n",
      "weighted avg       0.50      0.48      0.48        60\n",
      "\n"
     ]
    }
   ],
   "source": [
    "from sklearn.metrics import classification_report\n",
    "print(\n",
    "    classification_report(y_val,\n",
    "                          y_pred_balanced_class_weight,\n",
    "                          target_names=my_tags))"
   ]
  },
  {
   "cell_type": "markdown",
   "metadata": {},
   "source": [
    "##### SVC with 'rbf' kernel"
   ]
  },
  {
   "cell_type": "code",
   "execution_count": 35,
   "metadata": {
    "ExecuteTime": {
     "end_time": "2020-04-08T19:38:33.521612Z",
     "start_time": "2020-04-08T19:38:33.517614Z"
    }
   },
   "outputs": [],
   "source": [
    "X = X_train_combined_cw\n",
    "Y = y_train"
   ]
  },
  {
   "cell_type": "code",
   "execution_count": 36,
   "metadata": {
    "ExecuteTime": {
     "end_time": "2020-04-08T19:38:33.998174Z",
     "start_time": "2020-04-08T19:38:33.995175Z"
    }
   },
   "outputs": [],
   "source": [
    "# It is usually a good idea to scale the data for SVM training.\n",
    "# We are cheating a bit in this example in scaling all of the data,\n",
    "# instead of fitting the transformation on the trainingset and\n",
    "# just applying it on the test set.\n",
    "\n",
    "# scaler = StandardScaler()\n",
    "# X = scaler.fit_transform(X_train_updated_google)"
   ]
  },
  {
   "cell_type": "code",
   "execution_count": 37,
   "metadata": {
    "ExecuteTime": {
     "end_time": "2020-04-08T19:38:38.875318Z",
     "start_time": "2020-04-08T19:38:34.547203Z"
    }
   },
   "outputs": [
    {
     "data": {
      "text/plain": [
       "GridSearchCV(cv=StratifiedKFold(n_splits=10, random_state=None, shuffle=False),\n",
       "             error_score=nan,\n",
       "             estimator=SVC(C=1.0, break_ties=False, cache_size=200,\n",
       "                           class_weight=None, coef0=0.0,\n",
       "                           decision_function_shape='ovr', degree=3,\n",
       "                           gamma='scale', kernel='rbf', max_iter=-1,\n",
       "                           probability=False, random_state=None, shrinking=True,\n",
       "                           tol=0.001, verbose=False),\n",
       "             iid='deprecated', n_jobs...\n",
       "       3.20000e+01, 1.28000e+02, 5.12000e+02, 2.04800e+03, 8.19200e+03,\n",
       "       3.27680e+04, 1.31072e+05]),\n",
       "                         'gamma': array([7.62939453e-06, 3.05175781e-05, 1.22070312e-04, 4.88281250e-04,\n",
       "       1.95312500e-03, 7.81250000e-03, 3.12500000e-02, 1.25000000e-01,\n",
       "       5.00000000e-01, 2.00000000e+00, 8.00000000e+00])},\n",
       "             pre_dispatch='2*n_jobs', refit=True, return_train_score=False,\n",
       "             scoring=None, verbose=0)"
      ]
     },
     "execution_count": 37,
     "metadata": {},
     "output_type": "execute_result"
    }
   ],
   "source": [
    "C_range = 2. ** np.arange(-5, 18, 2)\n",
    "gamma_range = 2. ** np.arange(-17, 4, 2)\n",
    "param_grid = dict(gamma=gamma_range, C=C_range)\n",
    "grid = GridSearchCV(SVC(), param_grid=param_grid,\n",
    "                    cv=StratifiedKFold(n_splits=10))\n",
    "grid.fit(X, Y)"
   ]
  },
  {
   "cell_type": "code",
   "execution_count": 38,
   "metadata": {
    "ExecuteTime": {
     "end_time": "2020-04-08T19:38:38.884313Z",
     "start_time": "2020-04-08T19:38:38.878316Z"
    }
   },
   "outputs": [
    {
     "name": "stdout",
     "output_type": "stream",
     "text": [
      "The best parameters are {'C': 2.0, 'gamma': 0.001953125} with a score of 0.62\n"
     ]
    }
   ],
   "source": [
    "print(\"The best parameters are %s with a score of %0.2f\"\n",
    "      % (grid.best_params_, grid.best_score_))"
   ]
  },
  {
   "cell_type": "code",
   "execution_count": 39,
   "metadata": {
    "ExecuteTime": {
     "end_time": "2020-04-08T19:38:38.903300Z",
     "start_time": "2020-04-08T19:38:38.887311Z"
    }
   },
   "outputs": [
    {
     "data": {
      "text/plain": [
       "SVC(C=2.0, break_ties=False, cache_size=200, class_weight=None, coef0=0.0,\n",
       "    decision_function_shape='ovr', degree=3, gamma=0.001953125, kernel='rbf',\n",
       "    max_iter=-1, probability=False, random_state=None, shrinking=True,\n",
       "    tol=0.001, verbose=False)"
      ]
     },
     "execution_count": 39,
     "metadata": {},
     "output_type": "execute_result"
    }
   ],
   "source": [
    "clf = grid.best_estimator_\n",
    "clf.fit(X, Y)"
   ]
  },
  {
   "cell_type": "code",
   "execution_count": 40,
   "metadata": {
    "ExecuteTime": {
     "end_time": "2020-04-08T19:38:38.913295Z",
     "start_time": "2020-04-08T19:38:38.906301Z"
    }
   },
   "outputs": [],
   "source": [
    "y_pred = clf.predict(X_val_combined_cw)"
   ]
  },
  {
   "cell_type": "code",
   "execution_count": 41,
   "metadata": {
    "ExecuteTime": {
     "end_time": "2020-04-08T19:38:38.924288Z",
     "start_time": "2020-04-08T19:38:38.915293Z"
    }
   },
   "outputs": [
    {
     "name": "stdout",
     "output_type": "stream",
     "text": [
      "('SVM Accuracy Score -> ', 50.0)\n"
     ]
    }
   ],
   "source": [
    "print((\"SVM Accuracy Score -> \", accuracy_score(y_pred, y_val) * 100))"
   ]
  },
  {
   "cell_type": "code",
   "execution_count": 42,
   "metadata": {
    "ExecuteTime": {
     "end_time": "2020-04-08T19:38:38.941279Z",
     "start_time": "2020-04-08T19:38:38.926286Z"
    },
    "scrolled": true
   },
   "outputs": [
    {
     "name": "stdout",
     "output_type": "stream",
     "text": [
      "              precision    recall  f1-score   support\n",
      "\n",
      "         GCR       0.47      0.85      0.61        27\n",
      "        Vert       0.64      0.21      0.32        33\n",
      "\n",
      "    accuracy                           0.50        60\n",
      "   macro avg       0.55      0.53      0.46        60\n",
      "weighted avg       0.56      0.50      0.45        60\n",
      "\n"
     ]
    }
   ],
   "source": [
    "from sklearn.metrics import classification_report\n",
    "print((classification_report(y_val, y_pred, target_names=my_tags)))"
   ]
  },
  {
   "cell_type": "markdown",
   "metadata": {},
   "source": [
    "##### Weighted SVC with 'rbf' kernel "
   ]
  },
  {
   "cell_type": "code",
   "execution_count": 43,
   "metadata": {
    "ExecuteTime": {
     "end_time": "2020-04-08T19:38:38.949273Z",
     "start_time": "2020-04-08T19:38:38.943277Z"
    }
   },
   "outputs": [],
   "source": [
    "X = X_train_combined_cw\n",
    "Y = y_train"
   ]
  },
  {
   "cell_type": "code",
   "execution_count": 44,
   "metadata": {
    "ExecuteTime": {
     "end_time": "2020-04-08T19:38:38.960267Z",
     "start_time": "2020-04-08T19:38:38.951272Z"
    }
   },
   "outputs": [],
   "source": [
    "# It is usually a good idea to scale the data for SVM training.\n",
    "# We are cheating a bit in this example in scaling all of the data,\n",
    "# instead of fitting the transformation on the trainingset and\n",
    "# just applying it on the test set.\n",
    "\n",
    "# scaler = StandardScaler()\n",
    "# X = scaler.fit_transform(X_train_updated_google)"
   ]
  },
  {
   "cell_type": "code",
   "execution_count": 45,
   "metadata": {
    "ExecuteTime": {
     "end_time": "2020-04-08T19:38:43.330772Z",
     "start_time": "2020-04-08T19:38:39.020233Z"
    }
   },
   "outputs": [
    {
     "data": {
      "text/plain": [
       "GridSearchCV(cv=StratifiedKFold(n_splits=10, random_state=None, shuffle=False),\n",
       "             error_score=nan,\n",
       "             estimator=SVC(C=1.0, break_ties=False, cache_size=200,\n",
       "                           class_weight=None, coef0=0.0,\n",
       "                           decision_function_shape='ovr', degree=3,\n",
       "                           gamma='scale', kernel='rbf', max_iter=-1,\n",
       "                           probability=False, random_state=None, shrinking=True,\n",
       "                           tol=0.001, verbose=False),\n",
       "             iid='deprecated', n_jobs...\n",
       "       3.20000e+01, 1.28000e+02, 5.12000e+02, 2.04800e+03, 8.19200e+03,\n",
       "       3.27680e+04, 1.31072e+05]),\n",
       "                         'gamma': array([7.62939453e-06, 3.05175781e-05, 1.22070312e-04, 4.88281250e-04,\n",
       "       1.95312500e-03, 7.81250000e-03, 3.12500000e-02, 1.25000000e-01,\n",
       "       5.00000000e-01, 2.00000000e+00, 8.00000000e+00])},\n",
       "             pre_dispatch='2*n_jobs', refit=True, return_train_score=False,\n",
       "             scoring=None, verbose=0)"
      ]
     },
     "execution_count": 45,
     "metadata": {},
     "output_type": "execute_result"
    }
   ],
   "source": [
    "C_range = 2. ** np.arange(-5, 18, 2)\n",
    "gamma_range = 2. ** np.arange(-17, 4, 2)\n",
    "param_grid = dict(gamma=gamma_range, C=C_range)\n",
    "grid = GridSearchCV(SVC(), param_grid=param_grid,\n",
    "                    cv=StratifiedKFold(n_splits=10))\n",
    "grid.fit(X, Y)"
   ]
  },
  {
   "cell_type": "code",
   "execution_count": 46,
   "metadata": {
    "ExecuteTime": {
     "end_time": "2020-04-08T19:38:43.337759Z",
     "start_time": "2020-04-08T19:38:43.333759Z"
    }
   },
   "outputs": [
    {
     "name": "stdout",
     "output_type": "stream",
     "text": [
      "The best parameters are {'C': 2.0, 'gamma': 0.001953125} with a score of 0.62\n"
     ]
    }
   ],
   "source": [
    "print(\"The best parameters are %s with a score of %0.2f\"\n",
    "      % (grid.best_params_, grid.best_score_))"
   ]
  },
  {
   "cell_type": "code",
   "execution_count": 47,
   "metadata": {
    "ExecuteTime": {
     "end_time": "2020-04-08T19:38:43.355747Z",
     "start_time": "2020-04-08T19:38:43.340755Z"
    }
   },
   "outputs": [
    {
     "data": {
      "text/plain": [
       "SVC(C=32.0, break_ties=False, cache_size=200, class_weight='balanced',\n",
       "    coef0=0.0, decision_function_shape='ovr', degree=3, gamma=0.03125,\n",
       "    kernel='rbf', max_iter=-1, probability=False, random_state=None,\n",
       "    shrinking=True, tol=0.001, verbose=False)"
      ]
     },
     "execution_count": 47,
     "metadata": {},
     "output_type": "execute_result"
    }
   ],
   "source": [
    "clf = SVC(C=32.0, class_weight='balanced', gamma=0.03125, kernel='rbf')\n",
    "clf.fit(X, Y)"
   ]
  },
  {
   "cell_type": "code",
   "execution_count": 48,
   "metadata": {
    "ExecuteTime": {
     "end_time": "2020-04-08T19:38:43.367759Z",
     "start_time": "2020-04-08T19:38:43.357746Z"
    }
   },
   "outputs": [],
   "source": [
    "y_pred = clf.predict(X_val_combined_cw)"
   ]
  },
  {
   "cell_type": "code",
   "execution_count": 49,
   "metadata": {
    "ExecuteTime": {
     "end_time": "2020-04-08T19:38:43.378736Z",
     "start_time": "2020-04-08T19:38:43.369739Z"
    }
   },
   "outputs": [
    {
     "name": "stdout",
     "output_type": "stream",
     "text": [
      "('SVM Accuracy Score -> ', 45.0)\n"
     ]
    }
   ],
   "source": [
    "print((\"SVM Accuracy Score -> \", accuracy_score(y_pred, y_val) * 100))"
   ]
  },
  {
   "cell_type": "code",
   "execution_count": 50,
   "metadata": {
    "ExecuteTime": {
     "end_time": "2020-04-08T19:38:43.406717Z",
     "start_time": "2020-04-08T19:38:43.380732Z"
    },
    "scrolled": false
   },
   "outputs": [
    {
     "name": "stdout",
     "output_type": "stream",
     "text": [
      "              precision    recall  f1-score   support\n",
      "\n",
      "         GCR       0.45      1.00      0.62        27\n",
      "        Vert       0.00      0.00      0.00        33\n",
      "\n",
      "    accuracy                           0.45        60\n",
      "   macro avg       0.23      0.50      0.31        60\n",
      "weighted avg       0.20      0.45      0.28        60\n",
      "\n"
     ]
    },
    {
     "name": "stderr",
     "output_type": "stream",
     "text": [
      "C:\\ProgramData\\Anaconda3\\lib\\site-packages\\sklearn\\metrics\\_classification.py:1272: UndefinedMetricWarning: Precision and F-score are ill-defined and being set to 0.0 in labels with no predicted samples. Use `zero_division` parameter to control this behavior.\n",
      "  _warn_prf(average, modifier, msg_start, len(result))\n"
     ]
    }
   ],
   "source": [
    "from sklearn.metrics import classification_report\n",
    "print((classification_report(y_val, y_pred, target_names=my_tags)))"
   ]
  },
  {
   "cell_type": "markdown",
   "metadata": {},
   "source": [
    "##### Logistice regression"
   ]
  },
  {
   "cell_type": "code",
   "execution_count": 51,
   "metadata": {
    "ExecuteTime": {
     "end_time": "2020-04-08T19:38:44.050537Z",
     "start_time": "2020-04-08T19:38:43.943601Z"
    },
    "scrolled": true
   },
   "outputs": [
    {
     "name": "stdout",
     "output_type": "stream",
     "text": [
      "accuracy 0.48333333333333334\n",
      "              precision    recall  f1-score   support\n",
      "\n",
      "         GCR       0.44      0.59      0.51        27\n",
      "        Vert       0.54      0.39      0.46        33\n",
      "\n",
      "    accuracy                           0.48        60\n",
      "   macro avg       0.49      0.49      0.48        60\n",
      "weighted avg       0.50      0.48      0.48        60\n",
      "\n"
     ]
    }
   ],
   "source": [
    "from sklearn.linear_model import LogisticRegression\n",
    "logreg = LogisticRegression(n_jobs=1, C=1e5)\n",
    "logreg = logreg.fit(X_train_combined_cw, y_train)\n",
    "y_pred = logreg.predict(X_val_combined_cw)\n",
    "print('accuracy %s' % accuracy_score(y_pred, y_val))\n",
    "print(classification_report(y_val, y_pred, target_names=my_tags))"
   ]
  },
  {
   "cell_type": "markdown",
   "metadata": {},
   "source": [
    "##### Weighted logistice regression"
   ]
  },
  {
   "cell_type": "code",
   "execution_count": 52,
   "metadata": {
    "ExecuteTime": {
     "end_time": "2020-04-08T19:38:50.533470Z",
     "start_time": "2020-04-08T19:38:50.508484Z"
    },
    "scrolled": true
   },
   "outputs": [
    {
     "name": "stdout",
     "output_type": "stream",
     "text": [
      "accuracy 0.48333333333333334\n",
      "              precision    recall  f1-score   support\n",
      "\n",
      "         GCR       0.44      0.59      0.51        27\n",
      "        Vert       0.54      0.39      0.46        33\n",
      "\n",
      "    accuracy                           0.48        60\n",
      "   macro avg       0.49      0.49      0.48        60\n",
      "weighted avg       0.50      0.48      0.48        60\n",
      "\n"
     ]
    }
   ],
   "source": [
    "from sklearn.linear_model import LogisticRegression\n",
    "logreg = LogisticRegression(n_jobs=1, C=1e5, class_weight='balanced')\n",
    "logreg = logreg.fit(X_train_combined_cw, y_train)\n",
    "y_pred = logreg.predict(X_val_combined_cw)\n",
    "print('accuracy %s' % accuracy_score(y_pred, y_val))\n",
    "print(classification_report(y_val, y_pred, target_names=my_tags))"
   ]
  },
  {
   "cell_type": "markdown",
   "metadata": {},
   "source": [
    "#### _V"
   ]
  },
  {
   "cell_type": "markdown",
   "metadata": {},
   "source": [
    "##### Linear SVM"
   ]
  },
  {
   "cell_type": "code",
   "execution_count": 53,
   "metadata": {
    "ExecuteTime": {
     "end_time": "2020-04-08T19:38:52.230641Z",
     "start_time": "2020-04-08T19:38:52.217649Z"
    },
    "scrolled": true
   },
   "outputs": [
    {
     "data": {
      "text/plain": [
       "SVC(C=1.0, break_ties=False, cache_size=200, class_weight=None, coef0=0.0,\n",
       "    decision_function_shape='ovr', degree=3, gamma='scale', kernel='linear',\n",
       "    max_iter=-1, probability=False, random_state=None, shrinking=True,\n",
       "    tol=0.001, verbose=False)"
      ]
     },
     "execution_count": 53,
     "metadata": {},
     "output_type": "execute_result"
    }
   ],
   "source": [
    "clf = SVC(kernel='linear')\n",
    "clf.fit(X_train_combined_V_cw, y_train)"
   ]
  },
  {
   "cell_type": "code",
   "execution_count": 54,
   "metadata": {
    "ExecuteTime": {
     "end_time": "2020-04-08T19:38:52.775328Z",
     "start_time": "2020-04-08T19:38:52.766335Z"
    }
   },
   "outputs": [],
   "source": [
    "y_pred = clf.predict(X_val_combined_V_cw)"
   ]
  },
  {
   "cell_type": "code",
   "execution_count": 55,
   "metadata": {
    "ExecuteTime": {
     "end_time": "2020-04-08T19:38:53.102140Z",
     "start_time": "2020-04-08T19:38:53.097146Z"
    }
   },
   "outputs": [
    {
     "name": "stdout",
     "output_type": "stream",
     "text": [
      "SVM Accuracy Score ->  43.333333333333336\n"
     ]
    }
   ],
   "source": [
    "print(\"SVM Accuracy Score -> \", accuracy_score(y_pred, y_val) * 100)"
   ]
  },
  {
   "cell_type": "code",
   "execution_count": 56,
   "metadata": {
    "ExecuteTime": {
     "end_time": "2020-04-08T19:38:54.168698Z",
     "start_time": "2020-04-08T19:38:54.158685Z"
    }
   },
   "outputs": [
    {
     "name": "stdout",
     "output_type": "stream",
     "text": [
      "              precision    recall  f1-score   support\n",
      "\n",
      "         GCR       0.40      0.52      0.45        27\n",
      "        Vert       0.48      0.36      0.41        33\n",
      "\n",
      "    accuracy                           0.43        60\n",
      "   macro avg       0.44      0.44      0.43        60\n",
      "weighted avg       0.44      0.43      0.43        60\n",
      "\n"
     ]
    }
   ],
   "source": [
    "from sklearn.metrics import classification_report\n",
    "print(classification_report(y_val, y_pred, target_names=my_tags))"
   ]
  },
  {
   "cell_type": "markdown",
   "metadata": {},
   "source": [
    "##### Weighted Linear SVM"
   ]
  },
  {
   "cell_type": "code",
   "execution_count": 57,
   "metadata": {
    "ExecuteTime": {
     "end_time": "2020-04-08T19:38:55.179129Z",
     "start_time": "2020-04-08T19:38:55.167137Z"
    },
    "scrolled": true
   },
   "outputs": [
    {
     "data": {
      "text/plain": [
       "SVC(C=1.0, break_ties=False, cache_size=200, class_weight='balanced', coef0=0.0,\n",
       "    decision_function_shape='ovr', degree=3, gamma='scale', kernel='linear',\n",
       "    max_iter=-1, probability=False, random_state=None, shrinking=True,\n",
       "    tol=0.001, verbose=False)"
      ]
     },
     "execution_count": 57,
     "metadata": {},
     "output_type": "execute_result"
    }
   ],
   "source": [
    "clf_balanced_class_weight = SVC(kernel='linear', class_weight='balanced')\n",
    "clf_balanced_class_weight.fit(X_train_combined_V_cw, y_train)"
   ]
  },
  {
   "cell_type": "code",
   "execution_count": 58,
   "metadata": {
    "ExecuteTime": {
     "end_time": "2020-04-08T19:38:56.113757Z",
     "start_time": "2020-04-08T19:38:56.107762Z"
    }
   },
   "outputs": [],
   "source": [
    "y_pred_balanced_class_weight = clf_balanced_class_weight.predict(\n",
    "    X_val_combined_V_cw)"
   ]
  },
  {
   "cell_type": "code",
   "execution_count": 59,
   "metadata": {
    "ExecuteTime": {
     "end_time": "2020-04-08T19:38:56.649257Z",
     "start_time": "2020-04-08T19:38:56.644262Z"
    }
   },
   "outputs": [
    {
     "name": "stdout",
     "output_type": "stream",
     "text": [
      "SVM Accuracy Score ->  43.333333333333336\n"
     ]
    }
   ],
   "source": [
    "print(\"SVM Accuracy Score -> \",\n",
    "      accuracy_score(y_pred_balanced_class_weight, y_val) * 100)"
   ]
  },
  {
   "cell_type": "code",
   "execution_count": 60,
   "metadata": {
    "ExecuteTime": {
     "end_time": "2020-04-08T19:38:57.067018Z",
     "start_time": "2020-04-08T19:38:57.055027Z"
    },
    "scrolled": true
   },
   "outputs": [
    {
     "name": "stdout",
     "output_type": "stream",
     "text": [
      "              precision    recall  f1-score   support\n",
      "\n",
      "         GCR       0.40      0.52      0.45        27\n",
      "        Vert       0.48      0.36      0.41        33\n",
      "\n",
      "    accuracy                           0.43        60\n",
      "   macro avg       0.44      0.44      0.43        60\n",
      "weighted avg       0.44      0.43      0.43        60\n",
      "\n"
     ]
    }
   ],
   "source": [
    "from sklearn.metrics import classification_report\n",
    "print(\n",
    "    classification_report(y_val,\n",
    "                          y_pred_balanced_class_weight,\n",
    "                          target_names=my_tags))"
   ]
  },
  {
   "cell_type": "markdown",
   "metadata": {},
   "source": [
    "##### SVC with 'rbf' kernel"
   ]
  },
  {
   "cell_type": "code",
   "execution_count": 61,
   "metadata": {
    "ExecuteTime": {
     "end_time": "2020-04-08T19:38:58.215493Z",
     "start_time": "2020-04-08T19:38:58.211493Z"
    }
   },
   "outputs": [],
   "source": [
    "X = X_train_combined_V_cw\n",
    "Y = y_train"
   ]
  },
  {
   "cell_type": "code",
   "execution_count": 62,
   "metadata": {
    "ExecuteTime": {
     "end_time": "2020-04-08T19:39:03.143664Z",
     "start_time": "2020-04-08T19:38:58.448357Z"
    }
   },
   "outputs": [
    {
     "data": {
      "text/plain": [
       "GridSearchCV(cv=StratifiedKFold(n_splits=10, random_state=None, shuffle=False),\n",
       "             error_score=nan,\n",
       "             estimator=SVC(C=1.0, break_ties=False, cache_size=200,\n",
       "                           class_weight=None, coef0=0.0,\n",
       "                           decision_function_shape='ovr', degree=3,\n",
       "                           gamma='scale', kernel='rbf', max_iter=-1,\n",
       "                           probability=False, random_state=None, shrinking=True,\n",
       "                           tol=0.001, verbose=False),\n",
       "             iid='deprecated', n_jobs...\n",
       "       3.20000e+01, 1.28000e+02, 5.12000e+02, 2.04800e+03, 8.19200e+03,\n",
       "       3.27680e+04, 1.31072e+05]),\n",
       "                         'gamma': array([7.62939453e-06, 3.05175781e-05, 1.22070312e-04, 4.88281250e-04,\n",
       "       1.95312500e-03, 7.81250000e-03, 3.12500000e-02, 1.25000000e-01,\n",
       "       5.00000000e-01, 2.00000000e+00, 8.00000000e+00])},\n",
       "             pre_dispatch='2*n_jobs', refit=True, return_train_score=False,\n",
       "             scoring=None, verbose=0)"
      ]
     },
     "execution_count": 62,
     "metadata": {},
     "output_type": "execute_result"
    }
   ],
   "source": [
    "C_range = 2. ** np.arange(-5, 18, 2)\n",
    "gamma_range = 2. ** np.arange(-17, 4, 2)\n",
    "param_grid = dict(gamma=gamma_range, C=C_range)\n",
    "grid = GridSearchCV(SVC(), param_grid=param_grid,\n",
    "                    cv=StratifiedKFold(n_splits=10))\n",
    "grid.fit(X, Y)"
   ]
  },
  {
   "cell_type": "code",
   "execution_count": 63,
   "metadata": {
    "ExecuteTime": {
     "end_time": "2020-04-08T19:39:03.155657Z",
     "start_time": "2020-04-08T19:39:03.146663Z"
    }
   },
   "outputs": [
    {
     "data": {
      "text/plain": [
       "{'gamma': array([7.62939453e-06, 3.05175781e-05, 1.22070312e-04, 4.88281250e-04,\n",
       "        1.95312500e-03, 7.81250000e-03, 3.12500000e-02, 1.25000000e-01,\n",
       "        5.00000000e-01, 2.00000000e+00, 8.00000000e+00]),\n",
       " 'C': array([3.12500e-02, 1.25000e-01, 5.00000e-01, 2.00000e+00, 8.00000e+00,\n",
       "        3.20000e+01, 1.28000e+02, 5.12000e+02, 2.04800e+03, 8.19200e+03,\n",
       "        3.27680e+04, 1.31072e+05])}"
      ]
     },
     "execution_count": 63,
     "metadata": {},
     "output_type": "execute_result"
    }
   ],
   "source": [
    "param_grid"
   ]
  },
  {
   "cell_type": "code",
   "execution_count": 64,
   "metadata": {
    "ExecuteTime": {
     "end_time": "2020-04-08T19:39:03.169648Z",
     "start_time": "2020-04-08T19:39:03.158655Z"
    }
   },
   "outputs": [
    {
     "name": "stdout",
     "output_type": "stream",
     "text": [
      "The best classifier is:  SVC(C=32768.0, break_ties=False, cache_size=200, class_weight=None, coef0=0.0,\n",
      "    decision_function_shape='ovr', degree=3, gamma=7.62939453125e-06,\n",
      "    kernel='rbf', max_iter=-1, probability=False, random_state=None,\n",
      "    shrinking=True, tol=0.001, verbose=False)\n"
     ]
    }
   ],
   "source": [
    "print(\"The best classifier is: \", grid.best_estimator_)"
   ]
  },
  {
   "cell_type": "code",
   "execution_count": 65,
   "metadata": {
    "ExecuteTime": {
     "end_time": "2020-04-08T19:39:03.183641Z",
     "start_time": "2020-04-08T19:39:03.172647Z"
    }
   },
   "outputs": [
    {
     "name": "stdout",
     "output_type": "stream",
     "text": [
      "The best parameters are {'C': 32768.0, 'gamma': 7.62939453125e-06} with a score of 0.67\n"
     ]
    }
   ],
   "source": [
    "print(\"The best parameters are %s with a score of %0.2f\"\n",
    "      % (grid.best_params_, grid.best_score_))"
   ]
  },
  {
   "cell_type": "code",
   "execution_count": 66,
   "metadata": {
    "ExecuteTime": {
     "end_time": "2020-04-08T19:39:03.202629Z",
     "start_time": "2020-04-08T19:39:03.185639Z"
    }
   },
   "outputs": [
    {
     "data": {
      "text/plain": [
       "SVC(C=32768.0, break_ties=False, cache_size=200, class_weight=None, coef0=0.0,\n",
       "    decision_function_shape='ovr', degree=3, gamma=7.62939453125e-06,\n",
       "    kernel='rbf', max_iter=-1, probability=False, random_state=None,\n",
       "    shrinking=True, tol=0.001, verbose=False)"
      ]
     },
     "execution_count": 66,
     "metadata": {},
     "output_type": "execute_result"
    }
   ],
   "source": [
    "clf = grid.best_estimator_\n",
    "clf.fit(X, Y)"
   ]
  },
  {
   "cell_type": "code",
   "execution_count": 67,
   "metadata": {
    "ExecuteTime": {
     "end_time": "2020-04-08T19:39:03.212624Z",
     "start_time": "2020-04-08T19:39:03.204629Z"
    }
   },
   "outputs": [],
   "source": [
    "y_pred = clf.predict(X_val_combined_V_cw)"
   ]
  },
  {
   "cell_type": "code",
   "execution_count": 68,
   "metadata": {
    "ExecuteTime": {
     "end_time": "2020-04-08T19:39:03.226616Z",
     "start_time": "2020-04-08T19:39:03.214624Z"
    }
   },
   "outputs": [
    {
     "name": "stdout",
     "output_type": "stream",
     "text": [
      "('SVM Accuracy Score -> ', 43.333333333333336)\n"
     ]
    }
   ],
   "source": [
    "print((\"SVM Accuracy Score -> \", accuracy_score(y_pred, y_val) * 100))"
   ]
  },
  {
   "cell_type": "code",
   "execution_count": 69,
   "metadata": {
    "ExecuteTime": {
     "end_time": "2020-04-08T19:39:03.247604Z",
     "start_time": "2020-04-08T19:39:03.230613Z"
    },
    "scrolled": true
   },
   "outputs": [
    {
     "name": "stdout",
     "output_type": "stream",
     "text": [
      "              precision    recall  f1-score   support\n",
      "\n",
      "         GCR       0.40      0.52      0.45        27\n",
      "        Vert       0.48      0.36      0.41        33\n",
      "\n",
      "    accuracy                           0.43        60\n",
      "   macro avg       0.44      0.44      0.43        60\n",
      "weighted avg       0.44      0.43      0.43        60\n",
      "\n"
     ]
    }
   ],
   "source": [
    "from sklearn.metrics import classification_report\n",
    "print((classification_report(y_val, y_pred, target_names=my_tags)))"
   ]
  },
  {
   "cell_type": "markdown",
   "metadata": {},
   "source": [
    "##### Weighted SVC with 'rbf' kernel "
   ]
  },
  {
   "cell_type": "code",
   "execution_count": 70,
   "metadata": {
    "ExecuteTime": {
     "end_time": "2020-04-08T19:39:03.254601Z",
     "start_time": "2020-04-08T19:39:03.250603Z"
    }
   },
   "outputs": [],
   "source": [
    "X = X_train_combined_V_cw\n",
    "Y = y_train"
   ]
  },
  {
   "cell_type": "code",
   "execution_count": 71,
   "metadata": {
    "ExecuteTime": {
     "end_time": "2020-04-08T19:39:03.266593Z",
     "start_time": "2020-04-08T19:39:03.257599Z"
    }
   },
   "outputs": [],
   "source": [
    "# It is usually a good idea to scale the data for SVM training.\n",
    "# We are cheating a bit in this example in scaling all of the data,\n",
    "# instead of fitting the transformation on the trainingset and\n",
    "# just applying it on the test set.\n",
    "\n",
    "# scaler = StandardScaler()\n",
    "# X = scaler.fit_transform(X_train_updated_google)"
   ]
  },
  {
   "cell_type": "code",
   "execution_count": 72,
   "metadata": {
    "ExecuteTime": {
     "end_time": "2020-04-08T19:39:08.082846Z",
     "start_time": "2020-04-08T19:39:03.514470Z"
    }
   },
   "outputs": [
    {
     "data": {
      "text/plain": [
       "GridSearchCV(cv=StratifiedKFold(n_splits=10, random_state=None, shuffle=False),\n",
       "             error_score=nan,\n",
       "             estimator=SVC(C=1.0, break_ties=False, cache_size=200,\n",
       "                           class_weight=None, coef0=0.0,\n",
       "                           decision_function_shape='ovr', degree=3,\n",
       "                           gamma='scale', kernel='rbf', max_iter=-1,\n",
       "                           probability=False, random_state=None, shrinking=True,\n",
       "                           tol=0.001, verbose=False),\n",
       "             iid='deprecated', n_jobs...\n",
       "       3.20000e+01, 1.28000e+02, 5.12000e+02, 2.04800e+03, 8.19200e+03,\n",
       "       3.27680e+04, 1.31072e+05]),\n",
       "                         'gamma': array([7.62939453e-06, 3.05175781e-05, 1.22070312e-04, 4.88281250e-04,\n",
       "       1.95312500e-03, 7.81250000e-03, 3.12500000e-02, 1.25000000e-01,\n",
       "       5.00000000e-01, 2.00000000e+00, 8.00000000e+00])},\n",
       "             pre_dispatch='2*n_jobs', refit=True, return_train_score=False,\n",
       "             scoring=None, verbose=0)"
      ]
     },
     "execution_count": 72,
     "metadata": {},
     "output_type": "execute_result"
    }
   ],
   "source": [
    "C_range = 2. ** np.arange(-5, 18, 2)\n",
    "gamma_range = 2. ** np.arange(-17, 4, 2)\n",
    "param_grid = dict(gamma=gamma_range, C=C_range)\n",
    "grid = GridSearchCV(SVC(), param_grid=param_grid,\n",
    "                    cv=StratifiedKFold(n_splits=10))\n",
    "grid.fit(X, Y)"
   ]
  },
  {
   "cell_type": "code",
   "execution_count": 73,
   "metadata": {
    "ExecuteTime": {
     "end_time": "2020-04-08T19:39:08.090829Z",
     "start_time": "2020-04-08T19:39:08.084831Z"
    }
   },
   "outputs": [
    {
     "data": {
      "text/plain": [
       "{'gamma': array([7.62939453e-06, 3.05175781e-05, 1.22070312e-04, 4.88281250e-04,\n",
       "        1.95312500e-03, 7.81250000e-03, 3.12500000e-02, 1.25000000e-01,\n",
       "        5.00000000e-01, 2.00000000e+00, 8.00000000e+00]),\n",
       " 'C': array([3.12500e-02, 1.25000e-01, 5.00000e-01, 2.00000e+00, 8.00000e+00,\n",
       "        3.20000e+01, 1.28000e+02, 5.12000e+02, 2.04800e+03, 8.19200e+03,\n",
       "        3.27680e+04, 1.31072e+05])}"
      ]
     },
     "execution_count": 73,
     "metadata": {},
     "output_type": "execute_result"
    }
   ],
   "source": [
    "param_grid"
   ]
  },
  {
   "cell_type": "code",
   "execution_count": 74,
   "metadata": {
    "ExecuteTime": {
     "end_time": "2020-04-08T19:39:08.104819Z",
     "start_time": "2020-04-08T19:39:08.094825Z"
    }
   },
   "outputs": [
    {
     "name": "stdout",
     "output_type": "stream",
     "text": [
      "The best classifier is:  SVC(C=32768.0, break_ties=False, cache_size=200, class_weight=None, coef0=0.0,\n",
      "    decision_function_shape='ovr', degree=3, gamma=7.62939453125e-06,\n",
      "    kernel='rbf', max_iter=-1, probability=False, random_state=None,\n",
      "    shrinking=True, tol=0.001, verbose=False)\n"
     ]
    }
   ],
   "source": [
    "print(\"The best classifier is: \", grid.best_estimator_)"
   ]
  },
  {
   "cell_type": "code",
   "execution_count": 75,
   "metadata": {
    "ExecuteTime": {
     "end_time": "2020-04-08T19:39:08.115832Z",
     "start_time": "2020-04-08T19:39:08.107817Z"
    }
   },
   "outputs": [
    {
     "name": "stdout",
     "output_type": "stream",
     "text": [
      "The best parameters are {'C': 32768.0, 'gamma': 7.62939453125e-06} with a score of 0.67\n"
     ]
    }
   ],
   "source": [
    "print(\"The best parameters are %s with a score of %0.2f\"\n",
    "      % (grid.best_params_, grid.best_score_))"
   ]
  },
  {
   "cell_type": "code",
   "execution_count": 76,
   "metadata": {
    "ExecuteTime": {
     "end_time": "2020-04-08T19:39:08.133821Z",
     "start_time": "2020-04-08T19:39:08.117812Z"
    }
   },
   "outputs": [
    {
     "data": {
      "text/plain": [
       "SVC(C=32.0, break_ties=False, cache_size=200, class_weight='balanced',\n",
       "    coef0=0.0, decision_function_shape='ovr', degree=3, gamma=0.03125,\n",
       "    kernel='rbf', max_iter=-1, probability=False, random_state=None,\n",
       "    shrinking=True, tol=0.001, verbose=False)"
      ]
     },
     "execution_count": 76,
     "metadata": {},
     "output_type": "execute_result"
    }
   ],
   "source": [
    "clf = SVC(C=32.0, class_weight='balanced', gamma=0.03125, kernel='rbf')\n",
    "clf.fit(X, Y)"
   ]
  },
  {
   "cell_type": "code",
   "execution_count": 77,
   "metadata": {
    "ExecuteTime": {
     "end_time": "2020-04-08T19:39:08.141800Z",
     "start_time": "2020-04-08T19:39:08.135802Z"
    }
   },
   "outputs": [],
   "source": [
    "y_pred = clf.predict(X_val_combined_V_cw)"
   ]
  },
  {
   "cell_type": "code",
   "execution_count": 78,
   "metadata": {
    "ExecuteTime": {
     "end_time": "2020-04-08T19:39:08.154790Z",
     "start_time": "2020-04-08T19:39:08.143797Z"
    }
   },
   "outputs": [
    {
     "name": "stdout",
     "output_type": "stream",
     "text": [
      "('SVM Accuracy Score -> ', 46.666666666666664)\n"
     ]
    }
   ],
   "source": [
    "print((\"SVM Accuracy Score -> \", accuracy_score(y_pred, y_val) * 100))"
   ]
  },
  {
   "cell_type": "code",
   "execution_count": 79,
   "metadata": {
    "ExecuteTime": {
     "end_time": "2020-04-08T19:39:08.170781Z",
     "start_time": "2020-04-08T19:39:08.156789Z"
    },
    "scrolled": false
   },
   "outputs": [
    {
     "name": "stdout",
     "output_type": "stream",
     "text": [
      "              precision    recall  f1-score   support\n",
      "\n",
      "         GCR       0.46      1.00      0.63        27\n",
      "        Vert       1.00      0.03      0.06        33\n",
      "\n",
      "    accuracy                           0.47        60\n",
      "   macro avg       0.73      0.52      0.34        60\n",
      "weighted avg       0.76      0.47      0.31        60\n",
      "\n"
     ]
    }
   ],
   "source": [
    "from sklearn.metrics import classification_report\n",
    "print((classification_report(y_val, y_pred, target_names=my_tags)))"
   ]
  },
  {
   "cell_type": "markdown",
   "metadata": {},
   "source": [
    "##### Logistice regression"
   ]
  },
  {
   "cell_type": "code",
   "execution_count": 80,
   "metadata": {
    "ExecuteTime": {
     "end_time": "2020-04-08T19:39:08.200763Z",
     "start_time": "2020-04-08T19:39:08.172780Z"
    },
    "scrolled": true
   },
   "outputs": [
    {
     "name": "stdout",
     "output_type": "stream",
     "text": [
      "accuracy 0.48333333333333334\n",
      "              precision    recall  f1-score   support\n",
      "\n",
      "         GCR       0.42      0.41      0.42        27\n",
      "        Vert       0.53      0.55      0.54        33\n",
      "\n",
      "    accuracy                           0.48        60\n",
      "   macro avg       0.48      0.48      0.48        60\n",
      "weighted avg       0.48      0.48      0.48        60\n",
      "\n"
     ]
    }
   ],
   "source": [
    "from sklearn.linear_model import LogisticRegression\n",
    "logreg = LogisticRegression(n_jobs=1, C=1e5)\n",
    "logreg = logreg.fit(X_train_combined_V_cw, y_train)\n",
    "y_pred = logreg.predict(X_val_combined_V_cw)\n",
    "print('accuracy %s' % accuracy_score(y_pred, y_val))\n",
    "print(classification_report(y_val, y_pred, target_names=my_tags))"
   ]
  },
  {
   "cell_type": "markdown",
   "metadata": {},
   "source": [
    "##### Weighted logistice regression"
   ]
  },
  {
   "cell_type": "code",
   "execution_count": 81,
   "metadata": {
    "ExecuteTime": {
     "end_time": "2020-04-08T19:39:09.447049Z",
     "start_time": "2020-04-08T19:39:09.419085Z"
    },
    "scrolled": false
   },
   "outputs": [
    {
     "name": "stdout",
     "output_type": "stream",
     "text": [
      "accuracy 0.4666666666666667\n",
      "              precision    recall  f1-score   support\n",
      "\n",
      "         GCR       0.41      0.41      0.41        27\n",
      "        Vert       0.52      0.52      0.52        33\n",
      "\n",
      "    accuracy                           0.47        60\n",
      "   macro avg       0.46      0.46      0.46        60\n",
      "weighted avg       0.47      0.47      0.47        60\n",
      "\n"
     ]
    }
   ],
   "source": [
    "from sklearn.linear_model import LogisticRegression\n",
    "logreg = LogisticRegression(n_jobs=1, C=1e5, class_weight='balanced')\n",
    "logreg = logreg.fit(X_train_combined_V_cw, y_train)\n",
    "y_pred = logreg.predict(X_val_combined_V_cw)\n",
    "print('accuracy %s' % accuracy_score(y_pred, y_val))\n",
    "print(classification_report(y_val, y_pred, target_names=my_tags))"
   ]
  },
  {
   "cell_type": "markdown",
   "metadata": {},
   "source": [
    "#### _VPC"
   ]
  },
  {
   "cell_type": "markdown",
   "metadata": {},
   "source": [
    "##### Linear SVM"
   ]
  },
  {
   "cell_type": "code",
   "execution_count": 82,
   "metadata": {
    "ExecuteTime": {
     "end_time": "2020-04-08T19:39:12.918494Z",
     "start_time": "2020-04-08T19:39:12.908484Z"
    },
    "scrolled": true
   },
   "outputs": [
    {
     "data": {
      "text/plain": [
       "SVC(C=1.0, break_ties=False, cache_size=200, class_weight=None, coef0=0.0,\n",
       "    decision_function_shape='ovr', degree=3, gamma='scale', kernel='linear',\n",
       "    max_iter=-1, probability=False, random_state=None, shrinking=True,\n",
       "    tol=0.001, verbose=False)"
      ]
     },
     "execution_count": 82,
     "metadata": {},
     "output_type": "execute_result"
    }
   ],
   "source": [
    "clf = SVC(kernel='linear')\n",
    "clf.fit(X_train_combined_VPC_cw, y_train)"
   ]
  },
  {
   "cell_type": "code",
   "execution_count": 83,
   "metadata": {
    "ExecuteTime": {
     "end_time": "2020-04-08T19:39:13.545434Z",
     "start_time": "2020-04-08T19:39:13.539439Z"
    }
   },
   "outputs": [],
   "source": [
    "y_pred = clf.predict(X_val_combined_VPC_cw)"
   ]
  },
  {
   "cell_type": "code",
   "execution_count": 84,
   "metadata": {
    "ExecuteTime": {
     "end_time": "2020-04-08T19:39:14.059287Z",
     "start_time": "2020-04-08T19:39:14.054287Z"
    }
   },
   "outputs": [
    {
     "name": "stdout",
     "output_type": "stream",
     "text": [
      "SVM Accuracy Score ->  53.333333333333336\n"
     ]
    }
   ],
   "source": [
    "print(\"SVM Accuracy Score -> \", accuracy_score(y_pred, y_val) * 100)"
   ]
  },
  {
   "cell_type": "code",
   "execution_count": 85,
   "metadata": {
    "ExecuteTime": {
     "end_time": "2020-04-08T19:39:14.509025Z",
     "start_time": "2020-04-08T19:39:14.498035Z"
    }
   },
   "outputs": [
    {
     "name": "stdout",
     "output_type": "stream",
     "text": [
      "              precision    recall  f1-score   support\n",
      "\n",
      "         GCR       0.49      0.70      0.58        27\n",
      "        Vert       0.62      0.39      0.48        33\n",
      "\n",
      "    accuracy                           0.53        60\n",
      "   macro avg       0.55      0.55      0.53        60\n",
      "weighted avg       0.56      0.53      0.52        60\n",
      "\n"
     ]
    }
   ],
   "source": [
    "from sklearn.metrics import classification_report\n",
    "print(classification_report(y_val, y_pred, target_names=my_tags))"
   ]
  },
  {
   "cell_type": "markdown",
   "metadata": {},
   "source": [
    "##### Weighted Linear SVM"
   ]
  },
  {
   "cell_type": "code",
   "execution_count": 86,
   "metadata": {
    "ExecuteTime": {
     "end_time": "2020-04-08T19:39:15.525166Z",
     "start_time": "2020-04-08T19:39:15.514178Z"
    },
    "scrolled": true
   },
   "outputs": [
    {
     "data": {
      "text/plain": [
       "SVC(C=1.0, break_ties=False, cache_size=200, class_weight='balanced', coef0=0.0,\n",
       "    decision_function_shape='ovr', degree=3, gamma='scale', kernel='linear',\n",
       "    max_iter=-1, probability=False, random_state=None, shrinking=True,\n",
       "    tol=0.001, verbose=False)"
      ]
     },
     "execution_count": 86,
     "metadata": {},
     "output_type": "execute_result"
    }
   ],
   "source": [
    "clf_balanced_class_weight = SVC(kernel='linear', class_weight='balanced')\n",
    "clf_balanced_class_weight.fit(X_train_combined_VPC_cw, y_train)"
   ]
  },
  {
   "cell_type": "code",
   "execution_count": 87,
   "metadata": {
    "ExecuteTime": {
     "end_time": "2020-04-08T19:39:15.944927Z",
     "start_time": "2020-04-08T19:39:15.938932Z"
    }
   },
   "outputs": [],
   "source": [
    "y_pred_balanced_class_weight = clf_balanced_class_weight.predict(\n",
    "    X_val_combined_VPC_cw)"
   ]
  },
  {
   "cell_type": "code",
   "execution_count": 88,
   "metadata": {
    "ExecuteTime": {
     "end_time": "2020-04-08T19:39:16.360347Z",
     "start_time": "2020-04-08T19:39:16.356349Z"
    }
   },
   "outputs": [
    {
     "name": "stdout",
     "output_type": "stream",
     "text": [
      "SVM Accuracy Score ->  51.66666666666667\n"
     ]
    }
   ],
   "source": [
    "print(\"SVM Accuracy Score -> \",\n",
    "      accuracy_score(y_pred_balanced_class_weight, y_val) * 100)"
   ]
  },
  {
   "cell_type": "code",
   "execution_count": 89,
   "metadata": {
    "ExecuteTime": {
     "end_time": "2020-04-08T19:39:16.802094Z",
     "start_time": "2020-04-08T19:39:16.791105Z"
    },
    "scrolled": false
   },
   "outputs": [
    {
     "name": "stdout",
     "output_type": "stream",
     "text": [
      "              precision    recall  f1-score   support\n",
      "\n",
      "         GCR       0.47      0.70      0.57        27\n",
      "        Vert       0.60      0.36      0.45        33\n",
      "\n",
      "    accuracy                           0.52        60\n",
      "   macro avg       0.54      0.53      0.51        60\n",
      "weighted avg       0.54      0.52      0.50        60\n",
      "\n"
     ]
    }
   ],
   "source": [
    "from sklearn.metrics import classification_report\n",
    "print(\n",
    "    classification_report(y_val,\n",
    "                          y_pred_balanced_class_weight,\n",
    "                          target_names=my_tags))"
   ]
  },
  {
   "cell_type": "markdown",
   "metadata": {},
   "source": [
    "##### SVC with 'rbf' kernel"
   ]
  },
  {
   "cell_type": "code",
   "execution_count": 90,
   "metadata": {
    "ExecuteTime": {
     "end_time": "2020-04-08T19:39:17.714147Z",
     "start_time": "2020-04-08T19:39:17.710153Z"
    }
   },
   "outputs": [],
   "source": [
    "X = X_train_combined_VPC_cw\n",
    "Y = y_train"
   ]
  },
  {
   "cell_type": "code",
   "execution_count": 91,
   "metadata": {
    "ExecuteTime": {
     "end_time": "2020-04-08T19:39:18.374795Z",
     "start_time": "2020-04-08T19:39:18.370798Z"
    }
   },
   "outputs": [],
   "source": [
    "# It is usually a good idea to scale the data for SVM training.\n",
    "# We are cheating a bit in this example in scaling all of the data,\n",
    "# instead of fitting the transformation on the trainingset and\n",
    "# just applying it on the test set.\n",
    "\n",
    "# scaler = StandardScaler()\n",
    "# X = scaler.fit_transform(X_train_updated_google)"
   ]
  },
  {
   "cell_type": "code",
   "execution_count": 92,
   "metadata": {
    "ExecuteTime": {
     "end_time": "2020-04-08T19:39:22.945174Z",
     "start_time": "2020-04-08T19:39:18.712602Z"
    }
   },
   "outputs": [
    {
     "data": {
      "text/plain": [
       "GridSearchCV(cv=StratifiedKFold(n_splits=10, random_state=None, shuffle=False),\n",
       "             error_score=nan,\n",
       "             estimator=SVC(C=1.0, break_ties=False, cache_size=200,\n",
       "                           class_weight=None, coef0=0.0,\n",
       "                           decision_function_shape='ovr', degree=3,\n",
       "                           gamma='scale', kernel='rbf', max_iter=-1,\n",
       "                           probability=False, random_state=None, shrinking=True,\n",
       "                           tol=0.001, verbose=False),\n",
       "             iid='deprecated', n_jobs...\n",
       "       3.20000e+01, 1.28000e+02, 5.12000e+02, 2.04800e+03, 8.19200e+03,\n",
       "       3.27680e+04, 1.31072e+05]),\n",
       "                         'gamma': array([7.62939453e-06, 3.05175781e-05, 1.22070312e-04, 4.88281250e-04,\n",
       "       1.95312500e-03, 7.81250000e-03, 3.12500000e-02, 1.25000000e-01,\n",
       "       5.00000000e-01, 2.00000000e+00, 8.00000000e+00])},\n",
       "             pre_dispatch='2*n_jobs', refit=True, return_train_score=False,\n",
       "             scoring=None, verbose=0)"
      ]
     },
     "execution_count": 92,
     "metadata": {},
     "output_type": "execute_result"
    }
   ],
   "source": [
    "C_range = 2. ** np.arange(-5, 18, 2)\n",
    "gamma_range = 2. ** np.arange(-17, 4, 2)\n",
    "param_grid = dict(gamma=gamma_range, C=C_range)\n",
    "grid = GridSearchCV(SVC(), param_grid=param_grid,\n",
    "                    cv=StratifiedKFold(n_splits=10))\n",
    "grid.fit(X, Y)"
   ]
  },
  {
   "cell_type": "code",
   "execution_count": 93,
   "metadata": {
    "ExecuteTime": {
     "end_time": "2020-04-08T19:39:22.954169Z",
     "start_time": "2020-04-08T19:39:22.947173Z"
    }
   },
   "outputs": [
    {
     "data": {
      "text/plain": [
       "{'gamma': array([7.62939453e-06, 3.05175781e-05, 1.22070312e-04, 4.88281250e-04,\n",
       "        1.95312500e-03, 7.81250000e-03, 3.12500000e-02, 1.25000000e-01,\n",
       "        5.00000000e-01, 2.00000000e+00, 8.00000000e+00]),\n",
       " 'C': array([3.12500e-02, 1.25000e-01, 5.00000e-01, 2.00000e+00, 8.00000e+00,\n",
       "        3.20000e+01, 1.28000e+02, 5.12000e+02, 2.04800e+03, 8.19200e+03,\n",
       "        3.27680e+04, 1.31072e+05])}"
      ]
     },
     "execution_count": 93,
     "metadata": {},
     "output_type": "execute_result"
    }
   ],
   "source": [
    "param_grid"
   ]
  },
  {
   "cell_type": "code",
   "execution_count": 94,
   "metadata": {
    "ExecuteTime": {
     "end_time": "2020-04-08T19:39:22.966162Z",
     "start_time": "2020-04-08T19:39:22.957167Z"
    }
   },
   "outputs": [
    {
     "name": "stdout",
     "output_type": "stream",
     "text": [
      "The best classifier is:  SVC(C=512.0, break_ties=False, cache_size=200, class_weight=None, coef0=0.0,\n",
      "    decision_function_shape='ovr', degree=3, gamma=0.001953125, kernel='rbf',\n",
      "    max_iter=-1, probability=False, random_state=None, shrinking=True,\n",
      "    tol=0.001, verbose=False)\n"
     ]
    }
   ],
   "source": [
    "print(\"The best classifier is: \", grid.best_estimator_)"
   ]
  },
  {
   "cell_type": "code",
   "execution_count": 95,
   "metadata": {
    "ExecuteTime": {
     "end_time": "2020-04-08T19:39:22.980155Z",
     "start_time": "2020-04-08T19:39:22.968163Z"
    }
   },
   "outputs": [
    {
     "name": "stdout",
     "output_type": "stream",
     "text": [
      "The best parameters are {'C': 512.0, 'gamma': 0.001953125} with a score of 0.77\n"
     ]
    }
   ],
   "source": [
    "print(\"The best parameters are %s with a score of %0.2f\"\n",
    "      % (grid.best_params_, grid.best_score_))"
   ]
  },
  {
   "cell_type": "code",
   "execution_count": 96,
   "metadata": {
    "ExecuteTime": {
     "end_time": "2020-04-08T19:39:22.994147Z",
     "start_time": "2020-04-08T19:39:22.982153Z"
    }
   },
   "outputs": [
    {
     "data": {
      "text/plain": [
       "SVC(C=512.0, break_ties=False, cache_size=200, class_weight=None, coef0=0.0,\n",
       "    decision_function_shape='ovr', degree=3, gamma=0.001953125, kernel='rbf',\n",
       "    max_iter=-1, probability=False, random_state=None, shrinking=True,\n",
       "    tol=0.001, verbose=False)"
      ]
     },
     "execution_count": 96,
     "metadata": {},
     "output_type": "execute_result"
    }
   ],
   "source": [
    "clf = grid.best_estimator_\n",
    "clf.fit(X, Y)"
   ]
  },
  {
   "cell_type": "code",
   "execution_count": 97,
   "metadata": {
    "ExecuteTime": {
     "end_time": "2020-04-08T19:39:23.005139Z",
     "start_time": "2020-04-08T19:39:22.996145Z"
    }
   },
   "outputs": [],
   "source": [
    "y_pred = clf.predict(X_val_combined_VPC_cw)"
   ]
  },
  {
   "cell_type": "code",
   "execution_count": 98,
   "metadata": {
    "ExecuteTime": {
     "end_time": "2020-04-08T19:39:23.015136Z",
     "start_time": "2020-04-08T19:39:23.008137Z"
    }
   },
   "outputs": [
    {
     "name": "stdout",
     "output_type": "stream",
     "text": [
      "('SVM Accuracy Score -> ', 55.00000000000001)\n"
     ]
    }
   ],
   "source": [
    "print((\"SVM Accuracy Score -> \", accuracy_score(y_pred, y_val) * 100))"
   ]
  },
  {
   "cell_type": "code",
   "execution_count": 99,
   "metadata": {
    "ExecuteTime": {
     "end_time": "2020-04-08T19:39:24.042221Z",
     "start_time": "2020-04-08T19:39:24.030210Z"
    },
    "scrolled": true
   },
   "outputs": [
    {
     "name": "stdout",
     "output_type": "stream",
     "text": [
      "              precision    recall  f1-score   support\n",
      "\n",
      "         GCR       0.50      0.67      0.57        27\n",
      "        Vert       0.62      0.45      0.53        33\n",
      "\n",
      "    accuracy                           0.55        60\n",
      "   macro avg       0.56      0.56      0.55        60\n",
      "weighted avg       0.57      0.55      0.55        60\n",
      "\n"
     ]
    }
   ],
   "source": [
    "from sklearn.metrics import classification_report\n",
    "print((classification_report(y_val, y_pred, target_names=my_tags)))"
   ]
  },
  {
   "cell_type": "markdown",
   "metadata": {},
   "source": [
    "##### Weighted SVC with 'rbf' kernel "
   ]
  },
  {
   "cell_type": "code",
   "execution_count": 100,
   "metadata": {
    "ExecuteTime": {
     "end_time": "2020-04-08T19:39:25.429371Z",
     "start_time": "2020-04-08T19:39:25.425375Z"
    }
   },
   "outputs": [],
   "source": [
    "X = X_train_combined_VPC_cw\n",
    "Y = y_train"
   ]
  },
  {
   "cell_type": "code",
   "execution_count": 101,
   "metadata": {
    "ExecuteTime": {
     "end_time": "2020-04-08T19:39:25.920861Z",
     "start_time": "2020-04-08T19:39:25.917863Z"
    }
   },
   "outputs": [],
   "source": [
    "# It is usually a good idea to scale the data for SVM training.\n",
    "# We are cheating a bit in this example in scaling all of the data,\n",
    "# instead of fitting the transformation on the trainingset and\n",
    "# just applying it on the test set.\n",
    "\n",
    "# scaler = StandardScaler()\n",
    "# X = scaler.fit_transform(X_train_updated_google)"
   ]
  },
  {
   "cell_type": "code",
   "execution_count": 102,
   "metadata": {
    "ExecuteTime": {
     "end_time": "2020-04-08T19:39:31.103725Z",
     "start_time": "2020-04-08T19:39:26.827177Z"
    }
   },
   "outputs": [
    {
     "data": {
      "text/plain": [
       "GridSearchCV(cv=StratifiedKFold(n_splits=10, random_state=None, shuffle=False),\n",
       "             error_score=nan,\n",
       "             estimator=SVC(C=1.0, break_ties=False, cache_size=200,\n",
       "                           class_weight=None, coef0=0.0,\n",
       "                           decision_function_shape='ovr', degree=3,\n",
       "                           gamma='scale', kernel='rbf', max_iter=-1,\n",
       "                           probability=False, random_state=None, shrinking=True,\n",
       "                           tol=0.001, verbose=False),\n",
       "             iid='deprecated', n_jobs...\n",
       "       3.20000e+01, 1.28000e+02, 5.12000e+02, 2.04800e+03, 8.19200e+03,\n",
       "       3.27680e+04, 1.31072e+05]),\n",
       "                         'gamma': array([7.62939453e-06, 3.05175781e-05, 1.22070312e-04, 4.88281250e-04,\n",
       "       1.95312500e-03, 7.81250000e-03, 3.12500000e-02, 1.25000000e-01,\n",
       "       5.00000000e-01, 2.00000000e+00, 8.00000000e+00])},\n",
       "             pre_dispatch='2*n_jobs', refit=True, return_train_score=False,\n",
       "             scoring=None, verbose=0)"
      ]
     },
     "execution_count": 102,
     "metadata": {},
     "output_type": "execute_result"
    }
   ],
   "source": [
    "C_range = 2. ** np.arange(-5, 18, 2)\n",
    "gamma_range = 2. ** np.arange(-17, 4, 2)\n",
    "param_grid = dict(gamma=gamma_range, C=C_range)\n",
    "grid = GridSearchCV(SVC(), param_grid=param_grid,\n",
    "                    cv=StratifiedKFold(n_splits=10))\n",
    "grid.fit(X, Y)"
   ]
  },
  {
   "cell_type": "code",
   "execution_count": 103,
   "metadata": {
    "ExecuteTime": {
     "end_time": "2020-04-08T19:39:31.112718Z",
     "start_time": "2020-04-08T19:39:31.105722Z"
    }
   },
   "outputs": [
    {
     "data": {
      "text/plain": [
       "{'gamma': array([7.62939453e-06, 3.05175781e-05, 1.22070312e-04, 4.88281250e-04,\n",
       "        1.95312500e-03, 7.81250000e-03, 3.12500000e-02, 1.25000000e-01,\n",
       "        5.00000000e-01, 2.00000000e+00, 8.00000000e+00]),\n",
       " 'C': array([3.12500e-02, 1.25000e-01, 5.00000e-01, 2.00000e+00, 8.00000e+00,\n",
       "        3.20000e+01, 1.28000e+02, 5.12000e+02, 2.04800e+03, 8.19200e+03,\n",
       "        3.27680e+04, 1.31072e+05])}"
      ]
     },
     "execution_count": 103,
     "metadata": {},
     "output_type": "execute_result"
    }
   ],
   "source": [
    "param_grid"
   ]
  },
  {
   "cell_type": "code",
   "execution_count": 104,
   "metadata": {
    "ExecuteTime": {
     "end_time": "2020-04-08T19:39:31.126729Z",
     "start_time": "2020-04-08T19:39:31.115715Z"
    }
   },
   "outputs": [
    {
     "name": "stdout",
     "output_type": "stream",
     "text": [
      "The best classifier is:  SVC(C=512.0, break_ties=False, cache_size=200, class_weight=None, coef0=0.0,\n",
      "    decision_function_shape='ovr', degree=3, gamma=0.001953125, kernel='rbf',\n",
      "    max_iter=-1, probability=False, random_state=None, shrinking=True,\n",
      "    tol=0.001, verbose=False)\n"
     ]
    }
   ],
   "source": [
    "print(\"The best classifier is: \", grid.best_estimator_)"
   ]
  },
  {
   "cell_type": "code",
   "execution_count": 105,
   "metadata": {
    "ExecuteTime": {
     "end_time": "2020-04-08T19:39:31.136705Z",
     "start_time": "2020-04-08T19:39:31.128711Z"
    }
   },
   "outputs": [
    {
     "name": "stdout",
     "output_type": "stream",
     "text": [
      "The best parameters are {'C': 512.0, 'gamma': 0.001953125} with a score of 0.77\n"
     ]
    }
   ],
   "source": [
    "print(\"The best parameters are %s with a score of %0.2f\"\n",
    "      % (grid.best_params_, grid.best_score_))"
   ]
  },
  {
   "cell_type": "code",
   "execution_count": 106,
   "metadata": {
    "ExecuteTime": {
     "end_time": "2020-04-08T19:39:31.154696Z",
     "start_time": "2020-04-08T19:39:31.138703Z"
    }
   },
   "outputs": [
    {
     "data": {
      "text/plain": [
       "SVC(C=32.0, break_ties=False, cache_size=200, class_weight='balanced',\n",
       "    coef0=0.0, decision_function_shape='ovr', degree=3, gamma=0.03125,\n",
       "    kernel='rbf', max_iter=-1, probability=False, random_state=None,\n",
       "    shrinking=True, tol=0.001, verbose=False)"
      ]
     },
     "execution_count": 106,
     "metadata": {},
     "output_type": "execute_result"
    }
   ],
   "source": [
    "clf = SVC(C=32.0, class_weight='balanced', gamma=0.03125, kernel='rbf')\n",
    "clf.fit(X, Y)"
   ]
  },
  {
   "cell_type": "code",
   "execution_count": 107,
   "metadata": {
    "ExecuteTime": {
     "end_time": "2020-04-08T19:39:31.162690Z",
     "start_time": "2020-04-08T19:39:31.156692Z"
    }
   },
   "outputs": [],
   "source": [
    "y_pred = clf.predict(X_val_combined_VPC_cw)"
   ]
  },
  {
   "cell_type": "code",
   "execution_count": 108,
   "metadata": {
    "ExecuteTime": {
     "end_time": "2020-04-08T19:39:31.175682Z",
     "start_time": "2020-04-08T19:39:31.164687Z"
    }
   },
   "outputs": [
    {
     "name": "stdout",
     "output_type": "stream",
     "text": [
      "('SVM Accuracy Score -> ', 60.0)\n"
     ]
    }
   ],
   "source": [
    "print((\"SVM Accuracy Score -> \", accuracy_score(y_pred, y_val) * 100))"
   ]
  },
  {
   "cell_type": "code",
   "execution_count": 109,
   "metadata": {
    "ExecuteTime": {
     "end_time": "2020-04-08T19:39:31.192672Z",
     "start_time": "2020-04-08T19:39:31.178680Z"
    },
    "scrolled": false
   },
   "outputs": [
    {
     "name": "stdout",
     "output_type": "stream",
     "text": [
      "              precision    recall  f1-score   support\n",
      "\n",
      "         GCR       0.55      0.59      0.57        27\n",
      "        Vert       0.65      0.61      0.62        33\n",
      "\n",
      "    accuracy                           0.60        60\n",
      "   macro avg       0.60      0.60      0.60        60\n",
      "weighted avg       0.60      0.60      0.60        60\n",
      "\n"
     ]
    }
   ],
   "source": [
    "from sklearn.metrics import classification_report\n",
    "print((classification_report(y_val, y_pred, target_names=my_tags)))"
   ]
  },
  {
   "cell_type": "markdown",
   "metadata": {},
   "source": [
    "##### Logistice regression"
   ]
  },
  {
   "cell_type": "code",
   "execution_count": 110,
   "metadata": {
    "ExecuteTime": {
     "end_time": "2020-04-08T19:39:31.708378Z",
     "start_time": "2020-04-08T19:39:31.659408Z"
    },
    "scrolled": false
   },
   "outputs": [
    {
     "name": "stdout",
     "output_type": "stream",
     "text": [
      "accuracy 0.48333333333333334\n",
      "              precision    recall  f1-score   support\n",
      "\n",
      "         GCR       0.45      0.63      0.52        27\n",
      "        Vert       0.55      0.36      0.44        33\n",
      "\n",
      "    accuracy                           0.48        60\n",
      "   macro avg       0.50      0.50      0.48        60\n",
      "weighted avg       0.50      0.48      0.48        60\n",
      "\n"
     ]
    }
   ],
   "source": [
    "from sklearn.linear_model import LogisticRegression\n",
    "logreg = LogisticRegression(n_jobs=1, C=1e5)\n",
    "logreg = logreg.fit(X_train_combined_VPC_cw, y_train)\n",
    "y_pred = logreg.predict(X_val_combined_VPC_cw)\n",
    "print('accuracy %s' % accuracy_score(y_pred, y_val))\n",
    "print(classification_report(y_val, y_pred, target_names=my_tags))"
   ]
  },
  {
   "cell_type": "markdown",
   "metadata": {},
   "source": [
    "##### Weighted logistice regression"
   ]
  },
  {
   "cell_type": "code",
   "execution_count": 111,
   "metadata": {
    "ExecuteTime": {
     "end_time": "2020-04-08T19:39:32.656803Z",
     "start_time": "2020-04-08T19:39:32.616829Z"
    },
    "scrolled": true
   },
   "outputs": [
    {
     "name": "stdout",
     "output_type": "stream",
     "text": [
      "accuracy 0.5166666666666667\n",
      "              precision    recall  f1-score   support\n",
      "\n",
      "         GCR       0.47      0.63      0.54        27\n",
      "        Vert       0.58      0.42      0.49        33\n",
      "\n",
      "    accuracy                           0.52        60\n",
      "   macro avg       0.53      0.53      0.52        60\n",
      "weighted avg       0.53      0.52      0.51        60\n",
      "\n"
     ]
    }
   ],
   "source": [
    "from sklearn.linear_model import LogisticRegression\n",
    "logreg = LogisticRegression(n_jobs=1, C=1e5, class_weight='balanced')\n",
    "logreg = logreg.fit(X_train_combined_VPC_cw, y_train)\n",
    "y_pred = logreg.predict(X_val_combined_VPC_cw)\n",
    "print('accuracy %s' % accuracy_score(y_pred, y_val))\n",
    "print(classification_report(y_val, y_pred, target_names=my_tags))"
   ]
  },
  {
   "cell_type": "markdown",
   "metadata": {},
   "source": [
    "#### _VPC (up)"
   ]
  },
  {
   "cell_type": "markdown",
   "metadata": {},
   "source": [
    "##### Linear SVM"
   ]
  },
  {
   "cell_type": "code",
   "execution_count": 112,
   "metadata": {
    "ExecuteTime": {
     "end_time": "2020-04-08T19:39:44.959428Z",
     "start_time": "2020-04-08T19:39:44.948438Z"
    },
    "scrolled": true
   },
   "outputs": [
    {
     "data": {
      "text/plain": [
       "SVC(C=1.0, break_ties=False, cache_size=200, class_weight=None, coef0=0.0,\n",
       "    decision_function_shape='ovr', degree=3, gamma='scale', kernel='linear',\n",
       "    max_iter=-1, probability=False, random_state=None, shrinking=True,\n",
       "    tol=0.001, verbose=False)"
      ]
     },
     "execution_count": 112,
     "metadata": {},
     "output_type": "execute_result"
    }
   ],
   "source": [
    "clf = SVC(kernel='linear')\n",
    "clf.fit(X_train_combined_VPC_cw_up, y_train)"
   ]
  },
  {
   "cell_type": "code",
   "execution_count": 113,
   "metadata": {
    "ExecuteTime": {
     "end_time": "2020-04-08T19:39:50.527950Z",
     "start_time": "2020-04-08T19:39:50.521955Z"
    }
   },
   "outputs": [],
   "source": [
    "y_pred = clf.predict(X_val_combined_VPC_cw_up)"
   ]
  },
  {
   "cell_type": "code",
   "execution_count": 114,
   "metadata": {
    "ExecuteTime": {
     "end_time": "2020-04-08T19:39:51.302754Z",
     "start_time": "2020-04-08T19:39:51.298759Z"
    }
   },
   "outputs": [
    {
     "name": "stdout",
     "output_type": "stream",
     "text": [
      "SVM Accuracy Score ->  53.333333333333336\n"
     ]
    }
   ],
   "source": [
    "print(\"SVM Accuracy Score -> \", accuracy_score(y_pred, y_val) * 100)"
   ]
  },
  {
   "cell_type": "code",
   "execution_count": 115,
   "metadata": {
    "ExecuteTime": {
     "end_time": "2020-04-08T19:39:52.371933Z",
     "start_time": "2020-04-08T19:39:52.361919Z"
    }
   },
   "outputs": [
    {
     "name": "stdout",
     "output_type": "stream",
     "text": [
      "              precision    recall  f1-score   support\n",
      "\n",
      "         GCR       0.49      0.74      0.59        27\n",
      "        Vert       0.63      0.36      0.46        33\n",
      "\n",
      "    accuracy                           0.53        60\n",
      "   macro avg       0.56      0.55      0.52        60\n",
      "weighted avg       0.57      0.53      0.52        60\n",
      "\n"
     ]
    }
   ],
   "source": [
    "from sklearn.metrics import classification_report\n",
    "print(classification_report(y_val, y_pred, target_names=my_tags))"
   ]
  },
  {
   "cell_type": "markdown",
   "metadata": {},
   "source": [
    "##### Weighted Linear SVM"
   ]
  },
  {
   "cell_type": "code",
   "execution_count": 116,
   "metadata": {
    "ExecuteTime": {
     "end_time": "2020-04-08T19:40:03.399751Z",
     "start_time": "2020-04-08T19:40:03.389739Z"
    },
    "scrolled": true
   },
   "outputs": [
    {
     "data": {
      "text/plain": [
       "SVC(C=1.0, break_ties=False, cache_size=200, class_weight='balanced', coef0=0.0,\n",
       "    decision_function_shape='ovr', degree=3, gamma='scale', kernel='linear',\n",
       "    max_iter=-1, probability=False, random_state=None, shrinking=True,\n",
       "    tol=0.001, verbose=False)"
      ]
     },
     "execution_count": 116,
     "metadata": {},
     "output_type": "execute_result"
    }
   ],
   "source": [
    "clf_balanced_class_weight = SVC(kernel='linear', class_weight='balanced')\n",
    "clf_balanced_class_weight.fit(X_train_combined_VPC_cw_up, y_train)"
   ]
  },
  {
   "cell_type": "code",
   "execution_count": 117,
   "metadata": {
    "ExecuteTime": {
     "end_time": "2020-04-08T19:40:08.283807Z",
     "start_time": "2020-04-08T19:40:08.277811Z"
    }
   },
   "outputs": [],
   "source": [
    "y_pred_balanced_class_weight = clf_balanced_class_weight.predict(\n",
    "    X_val_combined_VPC_cw_up)"
   ]
  },
  {
   "cell_type": "code",
   "execution_count": 118,
   "metadata": {
    "ExecuteTime": {
     "end_time": "2020-04-08T19:40:09.740308Z",
     "start_time": "2020-04-08T19:40:09.734311Z"
    }
   },
   "outputs": [
    {
     "name": "stdout",
     "output_type": "stream",
     "text": [
      "SVM Accuracy Score ->  53.333333333333336\n"
     ]
    }
   ],
   "source": [
    "print(\"SVM Accuracy Score -> \",\n",
    "      accuracy_score(y_pred_balanced_class_weight, y_val) * 100)"
   ]
  },
  {
   "cell_type": "code",
   "execution_count": 119,
   "metadata": {
    "ExecuteTime": {
     "end_time": "2020-04-08T19:40:11.070542Z",
     "start_time": "2020-04-08T19:40:11.059531Z"
    },
    "scrolled": false
   },
   "outputs": [
    {
     "name": "stdout",
     "output_type": "stream",
     "text": [
      "              precision    recall  f1-score   support\n",
      "\n",
      "         GCR       0.49      0.74      0.59        27\n",
      "        Vert       0.63      0.36      0.46        33\n",
      "\n",
      "    accuracy                           0.53        60\n",
      "   macro avg       0.56      0.55      0.52        60\n",
      "weighted avg       0.57      0.53      0.52        60\n",
      "\n"
     ]
    }
   ],
   "source": [
    "from sklearn.metrics import classification_report\n",
    "print(\n",
    "    classification_report(y_val,\n",
    "                          y_pred_balanced_class_weight,\n",
    "                          target_names=my_tags))"
   ]
  },
  {
   "cell_type": "markdown",
   "metadata": {},
   "source": [
    "##### SVC with 'rbf' kernel"
   ]
  },
  {
   "cell_type": "code",
   "execution_count": 120,
   "metadata": {
    "ExecuteTime": {
     "end_time": "2020-04-08T19:40:24.430805Z",
     "start_time": "2020-04-08T19:40:24.427807Z"
    }
   },
   "outputs": [],
   "source": [
    "X = X_train_combined_VPC_cw_up\n",
    "Y = y_train"
   ]
  },
  {
   "cell_type": "code",
   "execution_count": 121,
   "metadata": {
    "ExecuteTime": {
     "end_time": "2020-04-08T19:40:25.300059Z",
     "start_time": "2020-04-08T19:40:25.296063Z"
    }
   },
   "outputs": [],
   "source": [
    "# It is usually a good idea to scale the data for SVM training.\n",
    "# We are cheating a bit in this example in scaling all of the data,\n",
    "# instead of fitting the transformation on the trainingset and\n",
    "# just applying it on the test set.\n",
    "\n",
    "# scaler = StandardScaler()\n",
    "# X = scaler.fit_transform(X_train_updated_google)"
   ]
  },
  {
   "cell_type": "code",
   "execution_count": 122,
   "metadata": {
    "ExecuteTime": {
     "end_time": "2020-04-08T19:40:30.471094Z",
     "start_time": "2020-04-08T19:40:26.268506Z"
    }
   },
   "outputs": [
    {
     "data": {
      "text/plain": [
       "GridSearchCV(cv=StratifiedKFold(n_splits=10, random_state=None, shuffle=False),\n",
       "             error_score=nan,\n",
       "             estimator=SVC(C=1.0, break_ties=False, cache_size=200,\n",
       "                           class_weight=None, coef0=0.0,\n",
       "                           decision_function_shape='ovr', degree=3,\n",
       "                           gamma='scale', kernel='rbf', max_iter=-1,\n",
       "                           probability=False, random_state=None, shrinking=True,\n",
       "                           tol=0.001, verbose=False),\n",
       "             iid='deprecated', n_jobs...\n",
       "       3.20000e+01, 1.28000e+02, 5.12000e+02, 2.04800e+03, 8.19200e+03,\n",
       "       3.27680e+04, 1.31072e+05]),\n",
       "                         'gamma': array([7.62939453e-06, 3.05175781e-05, 1.22070312e-04, 4.88281250e-04,\n",
       "       1.95312500e-03, 7.81250000e-03, 3.12500000e-02, 1.25000000e-01,\n",
       "       5.00000000e-01, 2.00000000e+00, 8.00000000e+00])},\n",
       "             pre_dispatch='2*n_jobs', refit=True, return_train_score=False,\n",
       "             scoring=None, verbose=0)"
      ]
     },
     "execution_count": 122,
     "metadata": {},
     "output_type": "execute_result"
    }
   ],
   "source": [
    "C_range = 2. ** np.arange(-5, 18, 2)\n",
    "gamma_range = 2. ** np.arange(-17, 4, 2)\n",
    "param_grid = dict(gamma=gamma_range, C=C_range)\n",
    "grid = GridSearchCV(SVC(), param_grid=param_grid,\n",
    "                    cv=StratifiedKFold(n_splits=10))\n",
    "grid.fit(X, Y)"
   ]
  },
  {
   "cell_type": "code",
   "execution_count": 123,
   "metadata": {
    "ExecuteTime": {
     "end_time": "2020-04-08T19:40:30.481088Z",
     "start_time": "2020-04-08T19:40:30.474096Z"
    }
   },
   "outputs": [
    {
     "data": {
      "text/plain": [
       "{'gamma': array([7.62939453e-06, 3.05175781e-05, 1.22070312e-04, 4.88281250e-04,\n",
       "        1.95312500e-03, 7.81250000e-03, 3.12500000e-02, 1.25000000e-01,\n",
       "        5.00000000e-01, 2.00000000e+00, 8.00000000e+00]),\n",
       " 'C': array([3.12500e-02, 1.25000e-01, 5.00000e-01, 2.00000e+00, 8.00000e+00,\n",
       "        3.20000e+01, 1.28000e+02, 5.12000e+02, 2.04800e+03, 8.19200e+03,\n",
       "        3.27680e+04, 1.31072e+05])}"
      ]
     },
     "execution_count": 123,
     "metadata": {},
     "output_type": "execute_result"
    }
   ],
   "source": [
    "param_grid"
   ]
  },
  {
   "cell_type": "code",
   "execution_count": 124,
   "metadata": {
    "ExecuteTime": {
     "end_time": "2020-04-08T19:40:30.494080Z",
     "start_time": "2020-04-08T19:40:30.484086Z"
    }
   },
   "outputs": [
    {
     "name": "stdout",
     "output_type": "stream",
     "text": [
      "The best classifier is:  SVC(C=2.0, break_ties=False, cache_size=200, class_weight=None, coef0=0.0,\n",
      "    decision_function_shape='ovr', degree=3, gamma=0.125, kernel='rbf',\n",
      "    max_iter=-1, probability=False, random_state=None, shrinking=True,\n",
      "    tol=0.001, verbose=False)\n"
     ]
    }
   ],
   "source": [
    "print(\"The best classifier is: \", grid.best_estimator_)"
   ]
  },
  {
   "cell_type": "code",
   "execution_count": 125,
   "metadata": {
    "ExecuteTime": {
     "end_time": "2020-04-08T19:40:30.504078Z",
     "start_time": "2020-04-08T19:40:30.496080Z"
    }
   },
   "outputs": [
    {
     "name": "stdout",
     "output_type": "stream",
     "text": [
      "The best parameters are {'C': 2.0, 'gamma': 0.125} with a score of 0.72\n"
     ]
    }
   ],
   "source": [
    "print(\"The best parameters are %s with a score of %0.2f\"\n",
    "      % (grid.best_params_, grid.best_score_))"
   ]
  },
  {
   "cell_type": "code",
   "execution_count": 126,
   "metadata": {
    "ExecuteTime": {
     "end_time": "2020-04-08T19:40:30.521065Z",
     "start_time": "2020-04-08T19:40:30.506076Z"
    }
   },
   "outputs": [
    {
     "data": {
      "text/plain": [
       "SVC(C=2.0, break_ties=False, cache_size=200, class_weight=None, coef0=0.0,\n",
       "    decision_function_shape='ovr', degree=3, gamma=0.125, kernel='rbf',\n",
       "    max_iter=-1, probability=False, random_state=None, shrinking=True,\n",
       "    tol=0.001, verbose=False)"
      ]
     },
     "execution_count": 126,
     "metadata": {},
     "output_type": "execute_result"
    }
   ],
   "source": [
    "clf = grid.best_estimator_\n",
    "clf.fit(X, Y)"
   ]
  },
  {
   "cell_type": "code",
   "execution_count": 127,
   "metadata": {
    "ExecuteTime": {
     "end_time": "2020-04-08T19:40:37.873897Z",
     "start_time": "2020-04-08T19:40:37.868901Z"
    }
   },
   "outputs": [],
   "source": [
    "y_pred = clf.predict(X_val_combined_VPC_cw_up)"
   ]
  },
  {
   "cell_type": "code",
   "execution_count": 128,
   "metadata": {
    "ExecuteTime": {
     "end_time": "2020-04-08T19:40:38.543933Z",
     "start_time": "2020-04-08T19:40:38.537938Z"
    }
   },
   "outputs": [
    {
     "name": "stdout",
     "output_type": "stream",
     "text": [
      "('SVM Accuracy Score -> ', 55.00000000000001)\n"
     ]
    }
   ],
   "source": [
    "print((\"SVM Accuracy Score -> \", accuracy_score(y_pred, y_val) * 100))"
   ]
  },
  {
   "cell_type": "code",
   "execution_count": 129,
   "metadata": {
    "ExecuteTime": {
     "end_time": "2020-04-08T19:40:39.329922Z",
     "start_time": "2020-04-08T19:40:39.317909Z"
    },
    "scrolled": true
   },
   "outputs": [
    {
     "name": "stdout",
     "output_type": "stream",
     "text": [
      "              precision    recall  f1-score   support\n",
      "\n",
      "         GCR       0.50      0.67      0.57        27\n",
      "        Vert       0.62      0.45      0.53        33\n",
      "\n",
      "    accuracy                           0.55        60\n",
      "   macro avg       0.56      0.56      0.55        60\n",
      "weighted avg       0.57      0.55      0.55        60\n",
      "\n"
     ]
    }
   ],
   "source": [
    "from sklearn.metrics import classification_report\n",
    "print((classification_report(y_val, y_pred, target_names=my_tags)))"
   ]
  },
  {
   "cell_type": "markdown",
   "metadata": {},
   "source": [
    "##### Weighted SVC with 'rbf' kernel "
   ]
  },
  {
   "cell_type": "code",
   "execution_count": 130,
   "metadata": {
    "ExecuteTime": {
     "end_time": "2020-04-08T19:40:44.806053Z",
     "start_time": "2020-04-08T19:40:44.802057Z"
    }
   },
   "outputs": [],
   "source": [
    "X = X_train_combined_VPC_cw_up\n",
    "Y = y_train"
   ]
  },
  {
   "cell_type": "code",
   "execution_count": 131,
   "metadata": {
    "ExecuteTime": {
     "end_time": "2020-04-08T19:40:45.375979Z",
     "start_time": "2020-04-08T19:40:45.370981Z"
    }
   },
   "outputs": [],
   "source": [
    "# It is usually a good idea to scale the data for SVM training.\n",
    "# We are cheating a bit in this example in scaling all of the data,\n",
    "# instead of fitting the transformation on the trainingset and\n",
    "# just applying it on the test set.\n",
    "\n",
    "# scaler = StandardScaler()\n",
    "# X = scaler.fit_transform(X_train_updated_google)"
   ]
  },
  {
   "cell_type": "code",
   "execution_count": 132,
   "metadata": {
    "ExecuteTime": {
     "end_time": "2020-04-08T19:40:51.362885Z",
     "start_time": "2020-04-08T19:40:47.065335Z"
    }
   },
   "outputs": [
    {
     "data": {
      "text/plain": [
       "GridSearchCV(cv=StratifiedKFold(n_splits=10, random_state=None, shuffle=False),\n",
       "             error_score=nan,\n",
       "             estimator=SVC(C=1.0, break_ties=False, cache_size=200,\n",
       "                           class_weight=None, coef0=0.0,\n",
       "                           decision_function_shape='ovr', degree=3,\n",
       "                           gamma='scale', kernel='rbf', max_iter=-1,\n",
       "                           probability=False, random_state=None, shrinking=True,\n",
       "                           tol=0.001, verbose=False),\n",
       "             iid='deprecated', n_jobs...\n",
       "       3.20000e+01, 1.28000e+02, 5.12000e+02, 2.04800e+03, 8.19200e+03,\n",
       "       3.27680e+04, 1.31072e+05]),\n",
       "                         'gamma': array([7.62939453e-06, 3.05175781e-05, 1.22070312e-04, 4.88281250e-04,\n",
       "       1.95312500e-03, 7.81250000e-03, 3.12500000e-02, 1.25000000e-01,\n",
       "       5.00000000e-01, 2.00000000e+00, 8.00000000e+00])},\n",
       "             pre_dispatch='2*n_jobs', refit=True, return_train_score=False,\n",
       "             scoring=None, verbose=0)"
      ]
     },
     "execution_count": 132,
     "metadata": {},
     "output_type": "execute_result"
    }
   ],
   "source": [
    "C_range = 2. ** np.arange(-5, 18, 2)\n",
    "gamma_range = 2. ** np.arange(-17, 4, 2)\n",
    "param_grid = dict(gamma=gamma_range, C=C_range)\n",
    "grid = GridSearchCV(SVC(), param_grid=param_grid,\n",
    "                    cv=StratifiedKFold(n_splits=10))\n",
    "grid.fit(X, Y)"
   ]
  },
  {
   "cell_type": "code",
   "execution_count": 133,
   "metadata": {
    "ExecuteTime": {
     "end_time": "2020-04-08T19:40:51.371866Z",
     "start_time": "2020-04-08T19:40:51.364870Z"
    }
   },
   "outputs": [
    {
     "data": {
      "text/plain": [
       "{'gamma': array([7.62939453e-06, 3.05175781e-05, 1.22070312e-04, 4.88281250e-04,\n",
       "        1.95312500e-03, 7.81250000e-03, 3.12500000e-02, 1.25000000e-01,\n",
       "        5.00000000e-01, 2.00000000e+00, 8.00000000e+00]),\n",
       " 'C': array([3.12500e-02, 1.25000e-01, 5.00000e-01, 2.00000e+00, 8.00000e+00,\n",
       "        3.20000e+01, 1.28000e+02, 5.12000e+02, 2.04800e+03, 8.19200e+03,\n",
       "        3.27680e+04, 1.31072e+05])}"
      ]
     },
     "execution_count": 133,
     "metadata": {},
     "output_type": "execute_result"
    }
   ],
   "source": [
    "param_grid"
   ]
  },
  {
   "cell_type": "code",
   "execution_count": 134,
   "metadata": {
    "ExecuteTime": {
     "end_time": "2020-04-08T19:40:51.385877Z",
     "start_time": "2020-04-08T19:40:51.374864Z"
    }
   },
   "outputs": [
    {
     "name": "stdout",
     "output_type": "stream",
     "text": [
      "The best classifier is:  SVC(C=2.0, break_ties=False, cache_size=200, class_weight=None, coef0=0.0,\n",
      "    decision_function_shape='ovr', degree=3, gamma=0.125, kernel='rbf',\n",
      "    max_iter=-1, probability=False, random_state=None, shrinking=True,\n",
      "    tol=0.001, verbose=False)\n"
     ]
    }
   ],
   "source": [
    "print(\"The best classifier is: \", grid.best_estimator_)"
   ]
  },
  {
   "cell_type": "code",
   "execution_count": 135,
   "metadata": {
    "ExecuteTime": {
     "end_time": "2020-04-08T19:40:51.396871Z",
     "start_time": "2020-04-08T19:40:51.387857Z"
    }
   },
   "outputs": [
    {
     "name": "stdout",
     "output_type": "stream",
     "text": [
      "The best parameters are {'C': 2.0, 'gamma': 0.125} with a score of 0.72\n"
     ]
    }
   ],
   "source": [
    "print(\"The best parameters are %s with a score of %0.2f\"\n",
    "      % (grid.best_params_, grid.best_score_))"
   ]
  },
  {
   "cell_type": "code",
   "execution_count": 136,
   "metadata": {
    "ExecuteTime": {
     "end_time": "2020-04-08T19:40:51.413861Z",
     "start_time": "2020-04-08T19:40:51.398851Z"
    }
   },
   "outputs": [
    {
     "data": {
      "text/plain": [
       "SVC(C=32.0, break_ties=False, cache_size=200, class_weight='balanced',\n",
       "    coef0=0.0, decision_function_shape='ovr', degree=3, gamma=0.03125,\n",
       "    kernel='rbf', max_iter=-1, probability=False, random_state=None,\n",
       "    shrinking=True, tol=0.001, verbose=False)"
      ]
     },
     "execution_count": 136,
     "metadata": {},
     "output_type": "execute_result"
    }
   ],
   "source": [
    "clf = SVC(C=32.0, class_weight='balanced', gamma=0.03125, kernel='rbf')\n",
    "clf.fit(X, Y)"
   ]
  },
  {
   "cell_type": "code",
   "execution_count": 137,
   "metadata": {
    "ExecuteTime": {
     "end_time": "2020-04-08T19:40:59.097579Z",
     "start_time": "2020-04-08T19:40:59.092580Z"
    }
   },
   "outputs": [],
   "source": [
    "y_pred = clf.predict(X_val_combined_VPC_cw_up)"
   ]
  },
  {
   "cell_type": "code",
   "execution_count": 138,
   "metadata": {
    "ExecuteTime": {
     "end_time": "2020-04-08T19:40:59.821278Z",
     "start_time": "2020-04-08T19:40:59.816279Z"
    }
   },
   "outputs": [
    {
     "name": "stdout",
     "output_type": "stream",
     "text": [
      "('SVM Accuracy Score -> ', 58.333333333333336)\n"
     ]
    }
   ],
   "source": [
    "print((\"SVM Accuracy Score -> \", accuracy_score(y_pred, y_val) * 100))"
   ]
  },
  {
   "cell_type": "code",
   "execution_count": 139,
   "metadata": {
    "ExecuteTime": {
     "end_time": "2020-04-08T19:41:01.032914Z",
     "start_time": "2020-04-08T19:41:01.020917Z"
    },
    "scrolled": false
   },
   "outputs": [
    {
     "name": "stdout",
     "output_type": "stream",
     "text": [
      "              precision    recall  f1-score   support\n",
      "\n",
      "         GCR       0.53      0.67      0.59        27\n",
      "        Vert       0.65      0.52      0.58        33\n",
      "\n",
      "    accuracy                           0.58        60\n",
      "   macro avg       0.59      0.59      0.58        60\n",
      "weighted avg       0.60      0.58      0.58        60\n",
      "\n"
     ]
    }
   ],
   "source": [
    "from sklearn.metrics import classification_report\n",
    "print((classification_report(y_val, y_pred, target_names=my_tags)))"
   ]
  },
  {
   "cell_type": "markdown",
   "metadata": {},
   "source": [
    "##### Logistice regression"
   ]
  },
  {
   "cell_type": "code",
   "execution_count": 140,
   "metadata": {
    "ExecuteTime": {
     "end_time": "2020-04-08T19:41:11.647433Z",
     "start_time": "2020-04-08T19:41:11.595462Z"
    },
    "scrolled": false
   },
   "outputs": [
    {
     "name": "stdout",
     "output_type": "stream",
     "text": [
      "accuracy 0.5666666666666667\n",
      "              precision    recall  f1-score   support\n",
      "\n",
      "         GCR       0.51      0.78      0.62        27\n",
      "        Vert       0.68      0.39      0.50        33\n",
      "\n",
      "    accuracy                           0.57        60\n",
      "   macro avg       0.60      0.59      0.56        60\n",
      "weighted avg       0.61      0.57      0.55        60\n",
      "\n"
     ]
    }
   ],
   "source": [
    "from sklearn.linear_model import LogisticRegression\n",
    "logreg = LogisticRegression(n_jobs=1, C=1e5)\n",
    "logreg = logreg.fit(X_train_combined_VPC_cw_up, y_train)\n",
    "y_pred = logreg.predict(X_val_combined_VPC_cw_up)\n",
    "print('accuracy %s' % accuracy_score(y_pred, y_val))\n",
    "print(classification_report(y_val, y_pred, target_names=my_tags))"
   ]
  },
  {
   "cell_type": "markdown",
   "metadata": {},
   "source": [
    "##### Weighted logistice regression"
   ]
  },
  {
   "cell_type": "code",
   "execution_count": 141,
   "metadata": {
    "ExecuteTime": {
     "end_time": "2020-04-08T19:41:21.862012Z",
     "start_time": "2020-04-08T19:41:21.805045Z"
    },
    "scrolled": false
   },
   "outputs": [
    {
     "name": "stdout",
     "output_type": "stream",
     "text": [
      "accuracy 0.5833333333333334\n",
      "              precision    recall  f1-score   support\n",
      "\n",
      "         GCR       0.52      0.81      0.64        27\n",
      "        Vert       0.72      0.39      0.51        33\n",
      "\n",
      "    accuracy                           0.58        60\n",
      "   macro avg       0.62      0.60      0.57        60\n",
      "weighted avg       0.63      0.58      0.57        60\n",
      "\n"
     ]
    }
   ],
   "source": [
    "from sklearn.linear_model import LogisticRegression\n",
    "logreg = LogisticRegression(n_jobs=1, C=1e5, class_weight='balanced')\n",
    "logreg = logreg.fit(X_train_combined_VPC_cw_up, y_train)\n",
    "y_pred = logreg.predict(X_val_combined_VPC_cw_up)\n",
    "print('accuracy %s' % accuracy_score(y_pred, y_val))\n",
    "print(classification_report(y_val, y_pred, target_names=my_tags))"
   ]
  },
  {
   "cell_type": "markdown",
   "metadata": {},
   "source": [
    "#### 900D combined"
   ]
  },
  {
   "cell_type": "markdown",
   "metadata": {},
   "source": [
    "##### Linear SVM"
   ]
  },
  {
   "cell_type": "code",
   "execution_count": 142,
   "metadata": {
    "ExecuteTime": {
     "end_time": "2020-04-08T19:39:44.959428Z",
     "start_time": "2020-04-08T19:39:44.948438Z"
    },
    "scrolled": true
   },
   "outputs": [
    {
     "data": {
      "text/plain": [
       "SVC(C=1.0, break_ties=False, cache_size=200, class_weight=None, coef0=0.0,\n",
       "    decision_function_shape='ovr', degree=3, gamma='scale', kernel='linear',\n",
       "    max_iter=-1, probability=False, random_state=None, shrinking=True,\n",
       "    tol=0.001, verbose=False)"
      ]
     },
     "execution_count": 142,
     "metadata": {},
     "output_type": "execute_result"
    }
   ],
   "source": [
    "clf = SVC(kernel='linear')\n",
    "clf.fit(X_train_combined_cw900D, y_train)"
   ]
  },
  {
   "cell_type": "code",
   "execution_count": 143,
   "metadata": {
    "ExecuteTime": {
     "end_time": "2020-04-08T19:39:50.527950Z",
     "start_time": "2020-04-08T19:39:50.521955Z"
    }
   },
   "outputs": [],
   "source": [
    "y_pred = clf.predict(X_val_combined_cw900D)"
   ]
  },
  {
   "cell_type": "code",
   "execution_count": 144,
   "metadata": {
    "ExecuteTime": {
     "end_time": "2020-04-08T19:39:51.302754Z",
     "start_time": "2020-04-08T19:39:51.298759Z"
    }
   },
   "outputs": [
    {
     "name": "stdout",
     "output_type": "stream",
     "text": [
      "SVM Accuracy Score ->  50.0\n"
     ]
    }
   ],
   "source": [
    "print(\"SVM Accuracy Score -> \", accuracy_score(y_pred, y_val) * 100)"
   ]
  },
  {
   "cell_type": "code",
   "execution_count": 145,
   "metadata": {
    "ExecuteTime": {
     "end_time": "2020-04-08T19:39:52.371933Z",
     "start_time": "2020-04-08T19:39:52.361919Z"
    }
   },
   "outputs": [
    {
     "name": "stdout",
     "output_type": "stream",
     "text": [
      "              precision    recall  f1-score   support\n",
      "\n",
      "         GCR       0.45      0.52      0.48        27\n",
      "        Vert       0.55      0.48      0.52        33\n",
      "\n",
      "    accuracy                           0.50        60\n",
      "   macro avg       0.50      0.50      0.50        60\n",
      "weighted avg       0.51      0.50      0.50        60\n",
      "\n"
     ]
    }
   ],
   "source": [
    "from sklearn.metrics import classification_report\n",
    "print(classification_report(y_val, y_pred, target_names=my_tags))"
   ]
  },
  {
   "cell_type": "markdown",
   "metadata": {},
   "source": [
    "##### Weighted Linear SVM"
   ]
  },
  {
   "cell_type": "code",
   "execution_count": 146,
   "metadata": {
    "ExecuteTime": {
     "end_time": "2020-04-08T19:40:03.399751Z",
     "start_time": "2020-04-08T19:40:03.389739Z"
    },
    "scrolled": true
   },
   "outputs": [
    {
     "data": {
      "text/plain": [
       "SVC(C=1.0, break_ties=False, cache_size=200, class_weight='balanced', coef0=0.0,\n",
       "    decision_function_shape='ovr', degree=3, gamma='scale', kernel='linear',\n",
       "    max_iter=-1, probability=False, random_state=None, shrinking=True,\n",
       "    tol=0.001, verbose=False)"
      ]
     },
     "execution_count": 146,
     "metadata": {},
     "output_type": "execute_result"
    }
   ],
   "source": [
    "clf_balanced_class_weight = SVC(kernel='linear', class_weight='balanced')\n",
    "clf_balanced_class_weight.fit(X_train_combined_cw900D, y_train)"
   ]
  },
  {
   "cell_type": "code",
   "execution_count": 147,
   "metadata": {
    "ExecuteTime": {
     "end_time": "2020-04-08T19:40:08.283807Z",
     "start_time": "2020-04-08T19:40:08.277811Z"
    }
   },
   "outputs": [],
   "source": [
    "y_pred_balanced_class_weight = clf_balanced_class_weight.predict(\n",
    "    X_val_combined_cw900D)"
   ]
  },
  {
   "cell_type": "code",
   "execution_count": 148,
   "metadata": {
    "ExecuteTime": {
     "end_time": "2020-04-08T19:40:09.740308Z",
     "start_time": "2020-04-08T19:40:09.734311Z"
    }
   },
   "outputs": [
    {
     "name": "stdout",
     "output_type": "stream",
     "text": [
      "SVM Accuracy Score ->  50.0\n"
     ]
    }
   ],
   "source": [
    "print(\"SVM Accuracy Score -> \",\n",
    "      accuracy_score(y_pred_balanced_class_weight, y_val) * 100)"
   ]
  },
  {
   "cell_type": "code",
   "execution_count": 149,
   "metadata": {
    "ExecuteTime": {
     "end_time": "2020-04-08T19:40:11.070542Z",
     "start_time": "2020-04-08T19:40:11.059531Z"
    },
    "scrolled": false
   },
   "outputs": [
    {
     "name": "stdout",
     "output_type": "stream",
     "text": [
      "              precision    recall  f1-score   support\n",
      "\n",
      "         GCR       0.45      0.52      0.48        27\n",
      "        Vert       0.55      0.48      0.52        33\n",
      "\n",
      "    accuracy                           0.50        60\n",
      "   macro avg       0.50      0.50      0.50        60\n",
      "weighted avg       0.51      0.50      0.50        60\n",
      "\n"
     ]
    }
   ],
   "source": [
    "from sklearn.metrics import classification_report\n",
    "print(\n",
    "    classification_report(y_val,\n",
    "                          y_pred_balanced_class_weight,\n",
    "                          target_names=my_tags))"
   ]
  },
  {
   "cell_type": "markdown",
   "metadata": {},
   "source": [
    "##### SVC with 'rbf' kernel"
   ]
  },
  {
   "cell_type": "code",
   "execution_count": 150,
   "metadata": {
    "ExecuteTime": {
     "end_time": "2020-04-08T19:40:24.430805Z",
     "start_time": "2020-04-08T19:40:24.427807Z"
    }
   },
   "outputs": [],
   "source": [
    "X = X_train_combined_cw900D\n",
    "Y = y_train"
   ]
  },
  {
   "cell_type": "code",
   "execution_count": 151,
   "metadata": {
    "ExecuteTime": {
     "end_time": "2020-04-08T19:40:25.300059Z",
     "start_time": "2020-04-08T19:40:25.296063Z"
    }
   },
   "outputs": [],
   "source": [
    "# It is usually a good idea to scale the data for SVM training.\n",
    "# We are cheating a bit in this example in scaling all of the data,\n",
    "# instead of fitting the transformation on the trainingset and\n",
    "# just applying it on the test set.\n",
    "\n",
    "# scaler = StandardScaler()\n",
    "# X = scaler.fit_transform(X_train_updated_google)"
   ]
  },
  {
   "cell_type": "code",
   "execution_count": 152,
   "metadata": {
    "ExecuteTime": {
     "end_time": "2020-04-08T19:40:30.471094Z",
     "start_time": "2020-04-08T19:40:26.268506Z"
    }
   },
   "outputs": [
    {
     "data": {
      "text/plain": [
       "GridSearchCV(cv=StratifiedKFold(n_splits=10, random_state=None, shuffle=False),\n",
       "             error_score=nan,\n",
       "             estimator=SVC(C=1.0, break_ties=False, cache_size=200,\n",
       "                           class_weight=None, coef0=0.0,\n",
       "                           decision_function_shape='ovr', degree=3,\n",
       "                           gamma='scale', kernel='rbf', max_iter=-1,\n",
       "                           probability=False, random_state=None, shrinking=True,\n",
       "                           tol=0.001, verbose=False),\n",
       "             iid='deprecated', n_jobs...\n",
       "       3.20000e+01, 1.28000e+02, 5.12000e+02, 2.04800e+03, 8.19200e+03,\n",
       "       3.27680e+04, 1.31072e+05]),\n",
       "                         'gamma': array([7.62939453e-06, 3.05175781e-05, 1.22070312e-04, 4.88281250e-04,\n",
       "       1.95312500e-03, 7.81250000e-03, 3.12500000e-02, 1.25000000e-01,\n",
       "       5.00000000e-01, 2.00000000e+00, 8.00000000e+00])},\n",
       "             pre_dispatch='2*n_jobs', refit=True, return_train_score=False,\n",
       "             scoring=None, verbose=0)"
      ]
     },
     "execution_count": 152,
     "metadata": {},
     "output_type": "execute_result"
    }
   ],
   "source": [
    "C_range = 2. ** np.arange(-5, 18, 2)\n",
    "gamma_range = 2. ** np.arange(-17, 4, 2)\n",
    "param_grid = dict(gamma=gamma_range, C=C_range)\n",
    "grid = GridSearchCV(SVC(), param_grid=param_grid,\n",
    "                    cv=StratifiedKFold(n_splits=10))\n",
    "grid.fit(X, Y)"
   ]
  },
  {
   "cell_type": "code",
   "execution_count": 153,
   "metadata": {
    "ExecuteTime": {
     "end_time": "2020-04-08T19:40:30.481088Z",
     "start_time": "2020-04-08T19:40:30.474096Z"
    }
   },
   "outputs": [
    {
     "data": {
      "text/plain": [
       "{'gamma': array([7.62939453e-06, 3.05175781e-05, 1.22070312e-04, 4.88281250e-04,\n",
       "        1.95312500e-03, 7.81250000e-03, 3.12500000e-02, 1.25000000e-01,\n",
       "        5.00000000e-01, 2.00000000e+00, 8.00000000e+00]),\n",
       " 'C': array([3.12500e-02, 1.25000e-01, 5.00000e-01, 2.00000e+00, 8.00000e+00,\n",
       "        3.20000e+01, 1.28000e+02, 5.12000e+02, 2.04800e+03, 8.19200e+03,\n",
       "        3.27680e+04, 1.31072e+05])}"
      ]
     },
     "execution_count": 153,
     "metadata": {},
     "output_type": "execute_result"
    }
   ],
   "source": [
    "param_grid"
   ]
  },
  {
   "cell_type": "code",
   "execution_count": 154,
   "metadata": {
    "ExecuteTime": {
     "end_time": "2020-04-08T19:40:30.494080Z",
     "start_time": "2020-04-08T19:40:30.484086Z"
    }
   },
   "outputs": [
    {
     "name": "stdout",
     "output_type": "stream",
     "text": [
      "The best classifier is:  SVC(C=128.0, break_ties=False, cache_size=200, class_weight=None, coef0=0.0,\n",
      "    decision_function_shape='ovr', degree=3, gamma=0.0001220703125,\n",
      "    kernel='rbf', max_iter=-1, probability=False, random_state=None,\n",
      "    shrinking=True, tol=0.001, verbose=False)\n"
     ]
    }
   ],
   "source": [
    "print(\"The best classifier is: \", grid.best_estimator_)"
   ]
  },
  {
   "cell_type": "code",
   "execution_count": 155,
   "metadata": {
    "ExecuteTime": {
     "end_time": "2020-04-08T19:40:30.504078Z",
     "start_time": "2020-04-08T19:40:30.496080Z"
    }
   },
   "outputs": [
    {
     "name": "stdout",
     "output_type": "stream",
     "text": [
      "The best parameters are {'C': 128.0, 'gamma': 0.0001220703125} with a score of 0.65\n"
     ]
    }
   ],
   "source": [
    "print(\"The best parameters are %s with a score of %0.2f\"\n",
    "      % (grid.best_params_, grid.best_score_))"
   ]
  },
  {
   "cell_type": "code",
   "execution_count": 156,
   "metadata": {
    "ExecuteTime": {
     "end_time": "2020-04-08T19:40:30.521065Z",
     "start_time": "2020-04-08T19:40:30.506076Z"
    }
   },
   "outputs": [
    {
     "data": {
      "text/plain": [
       "SVC(C=128.0, break_ties=False, cache_size=200, class_weight=None, coef0=0.0,\n",
       "    decision_function_shape='ovr', degree=3, gamma=0.0001220703125,\n",
       "    kernel='rbf', max_iter=-1, probability=False, random_state=None,\n",
       "    shrinking=True, tol=0.001, verbose=False)"
      ]
     },
     "execution_count": 156,
     "metadata": {},
     "output_type": "execute_result"
    }
   ],
   "source": [
    "clf = grid.best_estimator_\n",
    "clf.fit(X, Y)"
   ]
  },
  {
   "cell_type": "code",
   "execution_count": 157,
   "metadata": {
    "ExecuteTime": {
     "end_time": "2020-04-08T19:40:37.873897Z",
     "start_time": "2020-04-08T19:40:37.868901Z"
    }
   },
   "outputs": [],
   "source": [
    "y_pred = clf.predict(X_val_combined_cw900D)"
   ]
  },
  {
   "cell_type": "code",
   "execution_count": 158,
   "metadata": {
    "ExecuteTime": {
     "end_time": "2020-04-08T19:40:38.543933Z",
     "start_time": "2020-04-08T19:40:38.537938Z"
    }
   },
   "outputs": [
    {
     "name": "stdout",
     "output_type": "stream",
     "text": [
      "('SVM Accuracy Score -> ', 51.66666666666667)\n"
     ]
    }
   ],
   "source": [
    "print((\"SVM Accuracy Score -> \", accuracy_score(y_pred, y_val) * 100))"
   ]
  },
  {
   "cell_type": "code",
   "execution_count": 159,
   "metadata": {
    "ExecuteTime": {
     "end_time": "2020-04-08T19:40:39.329922Z",
     "start_time": "2020-04-08T19:40:39.317909Z"
    },
    "scrolled": true
   },
   "outputs": [
    {
     "name": "stdout",
     "output_type": "stream",
     "text": [
      "              precision    recall  f1-score   support\n",
      "\n",
      "         GCR       0.47      0.56      0.51        27\n",
      "        Vert       0.57      0.48      0.52        33\n",
      "\n",
      "    accuracy                           0.52        60\n",
      "   macro avg       0.52      0.52      0.52        60\n",
      "weighted avg       0.53      0.52      0.52        60\n",
      "\n"
     ]
    }
   ],
   "source": [
    "from sklearn.metrics import classification_report\n",
    "print((classification_report(y_val, y_pred, target_names=my_tags)))"
   ]
  },
  {
   "cell_type": "markdown",
   "metadata": {},
   "source": [
    "##### Weighted SVC with 'rbf' kernel "
   ]
  },
  {
   "cell_type": "code",
   "execution_count": 160,
   "metadata": {
    "ExecuteTime": {
     "end_time": "2020-04-08T19:40:44.806053Z",
     "start_time": "2020-04-08T19:40:44.802057Z"
    }
   },
   "outputs": [],
   "source": [
    "X = X_train_combined_cw900D\n",
    "Y = y_train"
   ]
  },
  {
   "cell_type": "code",
   "execution_count": 161,
   "metadata": {
    "ExecuteTime": {
     "end_time": "2020-04-08T19:40:45.375979Z",
     "start_time": "2020-04-08T19:40:45.370981Z"
    }
   },
   "outputs": [],
   "source": [
    "# It is usually a good idea to scale the data for SVM training.\n",
    "# We are cheating a bit in this example in scaling all of the data,\n",
    "# instead of fitting the transformation on the trainingset and\n",
    "# just applying it on the test set.\n",
    "\n",
    "# scaler = StandardScaler()\n",
    "# X = scaler.fit_transform(X_train_updated_google)"
   ]
  },
  {
   "cell_type": "code",
   "execution_count": 162,
   "metadata": {
    "ExecuteTime": {
     "end_time": "2020-04-08T19:40:51.362885Z",
     "start_time": "2020-04-08T19:40:47.065335Z"
    }
   },
   "outputs": [
    {
     "data": {
      "text/plain": [
       "GridSearchCV(cv=StratifiedKFold(n_splits=10, random_state=None, shuffle=False),\n",
       "             error_score=nan,\n",
       "             estimator=SVC(C=1.0, break_ties=False, cache_size=200,\n",
       "                           class_weight=None, coef0=0.0,\n",
       "                           decision_function_shape='ovr', degree=3,\n",
       "                           gamma='scale', kernel='rbf', max_iter=-1,\n",
       "                           probability=False, random_state=None, shrinking=True,\n",
       "                           tol=0.001, verbose=False),\n",
       "             iid='deprecated', n_jobs...\n",
       "       3.20000e+01, 1.28000e+02, 5.12000e+02, 2.04800e+03, 8.19200e+03,\n",
       "       3.27680e+04, 1.31072e+05]),\n",
       "                         'gamma': array([7.62939453e-06, 3.05175781e-05, 1.22070312e-04, 4.88281250e-04,\n",
       "       1.95312500e-03, 7.81250000e-03, 3.12500000e-02, 1.25000000e-01,\n",
       "       5.00000000e-01, 2.00000000e+00, 8.00000000e+00])},\n",
       "             pre_dispatch='2*n_jobs', refit=True, return_train_score=False,\n",
       "             scoring=None, verbose=0)"
      ]
     },
     "execution_count": 162,
     "metadata": {},
     "output_type": "execute_result"
    }
   ],
   "source": [
    "C_range = 2. ** np.arange(-5, 18, 2)\n",
    "gamma_range = 2. ** np.arange(-17, 4, 2)\n",
    "param_grid = dict(gamma=gamma_range, C=C_range)\n",
    "grid = GridSearchCV(SVC(), param_grid=param_grid,\n",
    "                    cv=StratifiedKFold(n_splits=10))\n",
    "grid.fit(X, Y)"
   ]
  },
  {
   "cell_type": "code",
   "execution_count": 163,
   "metadata": {
    "ExecuteTime": {
     "end_time": "2020-04-08T19:40:51.371866Z",
     "start_time": "2020-04-08T19:40:51.364870Z"
    }
   },
   "outputs": [
    {
     "data": {
      "text/plain": [
       "{'gamma': array([7.62939453e-06, 3.05175781e-05, 1.22070312e-04, 4.88281250e-04,\n",
       "        1.95312500e-03, 7.81250000e-03, 3.12500000e-02, 1.25000000e-01,\n",
       "        5.00000000e-01, 2.00000000e+00, 8.00000000e+00]),\n",
       " 'C': array([3.12500e-02, 1.25000e-01, 5.00000e-01, 2.00000e+00, 8.00000e+00,\n",
       "        3.20000e+01, 1.28000e+02, 5.12000e+02, 2.04800e+03, 8.19200e+03,\n",
       "        3.27680e+04, 1.31072e+05])}"
      ]
     },
     "execution_count": 163,
     "metadata": {},
     "output_type": "execute_result"
    }
   ],
   "source": [
    "param_grid"
   ]
  },
  {
   "cell_type": "code",
   "execution_count": 164,
   "metadata": {
    "ExecuteTime": {
     "end_time": "2020-04-08T19:40:51.385877Z",
     "start_time": "2020-04-08T19:40:51.374864Z"
    }
   },
   "outputs": [
    {
     "name": "stdout",
     "output_type": "stream",
     "text": [
      "The best classifier is:  SVC(C=128.0, break_ties=False, cache_size=200, class_weight=None, coef0=0.0,\n",
      "    decision_function_shape='ovr', degree=3, gamma=0.0001220703125,\n",
      "    kernel='rbf', max_iter=-1, probability=False, random_state=None,\n",
      "    shrinking=True, tol=0.001, verbose=False)\n"
     ]
    }
   ],
   "source": [
    "print(\"The best classifier is: \", grid.best_estimator_)"
   ]
  },
  {
   "cell_type": "code",
   "execution_count": 165,
   "metadata": {
    "ExecuteTime": {
     "end_time": "2020-04-08T19:40:51.396871Z",
     "start_time": "2020-04-08T19:40:51.387857Z"
    }
   },
   "outputs": [
    {
     "name": "stdout",
     "output_type": "stream",
     "text": [
      "The best parameters are {'C': 128.0, 'gamma': 0.0001220703125} with a score of 0.65\n"
     ]
    }
   ],
   "source": [
    "print(\"The best parameters are %s with a score of %0.2f\"\n",
    "      % (grid.best_params_, grid.best_score_))"
   ]
  },
  {
   "cell_type": "code",
   "execution_count": 166,
   "metadata": {
    "ExecuteTime": {
     "end_time": "2020-04-08T19:40:51.413861Z",
     "start_time": "2020-04-08T19:40:51.398851Z"
    }
   },
   "outputs": [
    {
     "data": {
      "text/plain": [
       "SVC(C=32.0, break_ties=False, cache_size=200, class_weight='balanced',\n",
       "    coef0=0.0, decision_function_shape='ovr', degree=3, gamma=0.03125,\n",
       "    kernel='rbf', max_iter=-1, probability=False, random_state=None,\n",
       "    shrinking=True, tol=0.001, verbose=False)"
      ]
     },
     "execution_count": 166,
     "metadata": {},
     "output_type": "execute_result"
    }
   ],
   "source": [
    "clf = SVC(C=32.0, class_weight='balanced', gamma=0.03125, kernel='rbf')\n",
    "clf.fit(X, Y)"
   ]
  },
  {
   "cell_type": "code",
   "execution_count": 167,
   "metadata": {
    "ExecuteTime": {
     "end_time": "2020-04-08T19:40:59.097579Z",
     "start_time": "2020-04-08T19:40:59.092580Z"
    }
   },
   "outputs": [],
   "source": [
    "y_pred = clf.predict(X_val_combined_cw900D)"
   ]
  },
  {
   "cell_type": "code",
   "execution_count": 168,
   "metadata": {
    "ExecuteTime": {
     "end_time": "2020-04-08T19:40:59.821278Z",
     "start_time": "2020-04-08T19:40:59.816279Z"
    }
   },
   "outputs": [
    {
     "name": "stdout",
     "output_type": "stream",
     "text": [
      "('SVM Accuracy Score -> ', 45.0)\n"
     ]
    }
   ],
   "source": [
    "print((\"SVM Accuracy Score -> \", accuracy_score(y_pred, y_val) * 100))"
   ]
  },
  {
   "cell_type": "code",
   "execution_count": 169,
   "metadata": {
    "ExecuteTime": {
     "end_time": "2020-04-08T19:41:01.032914Z",
     "start_time": "2020-04-08T19:41:01.020917Z"
    },
    "scrolled": false
   },
   "outputs": [
    {
     "name": "stdout",
     "output_type": "stream",
     "text": [
      "              precision    recall  f1-score   support\n",
      "\n",
      "         GCR       0.45      1.00      0.62        27\n",
      "        Vert       0.00      0.00      0.00        33\n",
      "\n",
      "    accuracy                           0.45        60\n",
      "   macro avg       0.23      0.50      0.31        60\n",
      "weighted avg       0.20      0.45      0.28        60\n",
      "\n"
     ]
    },
    {
     "name": "stderr",
     "output_type": "stream",
     "text": [
      "C:\\ProgramData\\Anaconda3\\lib\\site-packages\\sklearn\\metrics\\_classification.py:1272: UndefinedMetricWarning: Precision and F-score are ill-defined and being set to 0.0 in labels with no predicted samples. Use `zero_division` parameter to control this behavior.\n",
      "  _warn_prf(average, modifier, msg_start, len(result))\n"
     ]
    }
   ],
   "source": [
    "from sklearn.metrics import classification_report\n",
    "print((classification_report(y_val, y_pred, target_names=my_tags)))"
   ]
  },
  {
   "cell_type": "markdown",
   "metadata": {},
   "source": [
    "##### Logistice regression"
   ]
  },
  {
   "cell_type": "code",
   "execution_count": 170,
   "metadata": {
    "ExecuteTime": {
     "end_time": "2020-04-08T19:41:11.647433Z",
     "start_time": "2020-04-08T19:41:11.595462Z"
    },
    "scrolled": false
   },
   "outputs": [
    {
     "name": "stdout",
     "output_type": "stream",
     "text": [
      "accuracy 0.4666666666666667\n",
      "              precision    recall  f1-score   support\n",
      "\n",
      "         GCR       0.41      0.44      0.43        27\n",
      "        Vert       0.52      0.48      0.50        33\n",
      "\n",
      "    accuracy                           0.47        60\n",
      "   macro avg       0.46      0.46      0.46        60\n",
      "weighted avg       0.47      0.47      0.47        60\n",
      "\n"
     ]
    }
   ],
   "source": [
    "from sklearn.linear_model import LogisticRegression\n",
    "logreg = LogisticRegression(n_jobs=1, C=1e5)\n",
    "logreg = logreg.fit(X_train_combined_cw900D, y_train)\n",
    "y_pred = logreg.predict(X_val_combined_cw900D)\n",
    "print('accuracy %s' % accuracy_score(y_pred, y_val))\n",
    "print(classification_report(y_val, y_pred, target_names=my_tags))"
   ]
  },
  {
   "cell_type": "markdown",
   "metadata": {},
   "source": [
    "##### Weighted logistice regression"
   ]
  },
  {
   "cell_type": "code",
   "execution_count": 171,
   "metadata": {
    "ExecuteTime": {
     "end_time": "2020-04-08T19:41:21.862012Z",
     "start_time": "2020-04-08T19:41:21.805045Z"
    },
    "scrolled": false
   },
   "outputs": [
    {
     "name": "stdout",
     "output_type": "stream",
     "text": [
      "accuracy 0.5\n",
      "              precision    recall  f1-score   support\n",
      "\n",
      "         GCR       0.45      0.48      0.46        27\n",
      "        Vert       0.55      0.52      0.53        33\n",
      "\n",
      "    accuracy                           0.50        60\n",
      "   macro avg       0.50      0.50      0.50        60\n",
      "weighted avg       0.50      0.50      0.50        60\n",
      "\n"
     ]
    }
   ],
   "source": [
    "from sklearn.linear_model import LogisticRegression\n",
    "logreg = LogisticRegression(n_jobs=1, C=1e5, class_weight='balanced')\n",
    "logreg = logreg.fit(X_train_combined_cw900D, y_train)\n",
    "y_pred = logreg.predict(X_val_combined_cw900D)\n",
    "print('accuracy %s' % accuracy_score(y_pred, y_val))\n",
    "print(classification_report(y_val, y_pred, target_names=my_tags))"
   ]
  },
  {
   "cell_type": "markdown",
   "metadata": {},
   "source": [
    "#### 921D combined"
   ]
  },
  {
   "cell_type": "markdown",
   "metadata": {},
   "source": [
    "##### Linear SVM"
   ]
  },
  {
   "cell_type": "code",
   "execution_count": 172,
   "metadata": {
    "ExecuteTime": {
     "end_time": "2020-04-08T19:39:44.959428Z",
     "start_time": "2020-04-08T19:39:44.948438Z"
    },
    "scrolled": true
   },
   "outputs": [
    {
     "data": {
      "text/plain": [
       "SVC(C=1.0, break_ties=False, cache_size=200, class_weight=None, coef0=0.0,\n",
       "    decision_function_shape='ovr', degree=3, gamma='scale', kernel='linear',\n",
       "    max_iter=-1, probability=False, random_state=None, shrinking=True,\n",
       "    tol=0.001, verbose=False)"
      ]
     },
     "execution_count": 172,
     "metadata": {},
     "output_type": "execute_result"
    }
   ],
   "source": [
    "clf = SVC(kernel='linear')\n",
    "clf.fit(X_train_combined_cw921D, y_train)"
   ]
  },
  {
   "cell_type": "code",
   "execution_count": 173,
   "metadata": {
    "ExecuteTime": {
     "end_time": "2020-04-08T19:39:50.527950Z",
     "start_time": "2020-04-08T19:39:50.521955Z"
    }
   },
   "outputs": [],
   "source": [
    "y_pred = clf.predict(X_val_combined_cw921D)"
   ]
  },
  {
   "cell_type": "code",
   "execution_count": 174,
   "metadata": {
    "ExecuteTime": {
     "end_time": "2020-04-08T19:39:51.302754Z",
     "start_time": "2020-04-08T19:39:51.298759Z"
    }
   },
   "outputs": [
    {
     "name": "stdout",
     "output_type": "stream",
     "text": [
      "SVM Accuracy Score ->  50.0\n"
     ]
    }
   ],
   "source": [
    "print(\"SVM Accuracy Score -> \", accuracy_score(y_pred, y_val) * 100)"
   ]
  },
  {
   "cell_type": "code",
   "execution_count": 175,
   "metadata": {
    "ExecuteTime": {
     "end_time": "2020-04-08T19:39:52.371933Z",
     "start_time": "2020-04-08T19:39:52.361919Z"
    }
   },
   "outputs": [
    {
     "name": "stdout",
     "output_type": "stream",
     "text": [
      "              precision    recall  f1-score   support\n",
      "\n",
      "         GCR       0.45      0.52      0.48        27\n",
      "        Vert       0.55      0.48      0.52        33\n",
      "\n",
      "    accuracy                           0.50        60\n",
      "   macro avg       0.50      0.50      0.50        60\n",
      "weighted avg       0.51      0.50      0.50        60\n",
      "\n"
     ]
    }
   ],
   "source": [
    "from sklearn.metrics import classification_report\n",
    "print(classification_report(y_val, y_pred, target_names=my_tags))"
   ]
  },
  {
   "cell_type": "markdown",
   "metadata": {},
   "source": [
    "##### Weighted Linear SVM"
   ]
  },
  {
   "cell_type": "code",
   "execution_count": 176,
   "metadata": {
    "ExecuteTime": {
     "end_time": "2020-04-08T19:40:03.399751Z",
     "start_time": "2020-04-08T19:40:03.389739Z"
    },
    "scrolled": true
   },
   "outputs": [
    {
     "data": {
      "text/plain": [
       "SVC(C=1.0, break_ties=False, cache_size=200, class_weight='balanced', coef0=0.0,\n",
       "    decision_function_shape='ovr', degree=3, gamma='scale', kernel='linear',\n",
       "    max_iter=-1, probability=False, random_state=None, shrinking=True,\n",
       "    tol=0.001, verbose=False)"
      ]
     },
     "execution_count": 176,
     "metadata": {},
     "output_type": "execute_result"
    }
   ],
   "source": [
    "clf_balanced_class_weight = SVC(kernel='linear', class_weight='balanced')\n",
    "clf_balanced_class_weight.fit(X_train_combined_cw921D, y_train)"
   ]
  },
  {
   "cell_type": "code",
   "execution_count": 177,
   "metadata": {
    "ExecuteTime": {
     "end_time": "2020-04-08T19:40:08.283807Z",
     "start_time": "2020-04-08T19:40:08.277811Z"
    }
   },
   "outputs": [],
   "source": [
    "y_pred_balanced_class_weight = clf_balanced_class_weight.predict(\n",
    "    X_val_combined_cw921D)"
   ]
  },
  {
   "cell_type": "code",
   "execution_count": 178,
   "metadata": {
    "ExecuteTime": {
     "end_time": "2020-04-08T19:40:09.740308Z",
     "start_time": "2020-04-08T19:40:09.734311Z"
    }
   },
   "outputs": [
    {
     "name": "stdout",
     "output_type": "stream",
     "text": [
      "SVM Accuracy Score ->  50.0\n"
     ]
    }
   ],
   "source": [
    "print(\"SVM Accuracy Score -> \",\n",
    "      accuracy_score(y_pred_balanced_class_weight, y_val) * 100)"
   ]
  },
  {
   "cell_type": "code",
   "execution_count": 179,
   "metadata": {
    "ExecuteTime": {
     "end_time": "2020-04-08T19:40:11.070542Z",
     "start_time": "2020-04-08T19:40:11.059531Z"
    },
    "scrolled": false
   },
   "outputs": [
    {
     "name": "stdout",
     "output_type": "stream",
     "text": [
      "              precision    recall  f1-score   support\n",
      "\n",
      "         GCR       0.45      0.52      0.48        27\n",
      "        Vert       0.55      0.48      0.52        33\n",
      "\n",
      "    accuracy                           0.50        60\n",
      "   macro avg       0.50      0.50      0.50        60\n",
      "weighted avg       0.51      0.50      0.50        60\n",
      "\n"
     ]
    }
   ],
   "source": [
    "from sklearn.metrics import classification_report\n",
    "print(\n",
    "    classification_report(y_val,\n",
    "                          y_pred_balanced_class_weight,\n",
    "                          target_names=my_tags))"
   ]
  },
  {
   "cell_type": "markdown",
   "metadata": {},
   "source": [
    "##### SVC with 'rbf' kernel"
   ]
  },
  {
   "cell_type": "code",
   "execution_count": 180,
   "metadata": {
    "ExecuteTime": {
     "end_time": "2020-04-08T19:40:24.430805Z",
     "start_time": "2020-04-08T19:40:24.427807Z"
    }
   },
   "outputs": [],
   "source": [
    "X = X_train_combined_cw921D\n",
    "Y = y_train"
   ]
  },
  {
   "cell_type": "code",
   "execution_count": 181,
   "metadata": {
    "ExecuteTime": {
     "end_time": "2020-04-08T19:40:25.300059Z",
     "start_time": "2020-04-08T19:40:25.296063Z"
    }
   },
   "outputs": [],
   "source": [
    "# It is usually a good idea to scale the data for SVM training.\n",
    "# We are cheating a bit in this example in scaling all of the data,\n",
    "# instead of fitting the transformation on the trainingset and\n",
    "# just applying it on the test set.\n",
    "\n",
    "# scaler = StandardScaler()\n",
    "# X = scaler.fit_transform(X_train_updated_google)"
   ]
  },
  {
   "cell_type": "code",
   "execution_count": 182,
   "metadata": {
    "ExecuteTime": {
     "end_time": "2020-04-08T19:40:30.471094Z",
     "start_time": "2020-04-08T19:40:26.268506Z"
    }
   },
   "outputs": [
    {
     "data": {
      "text/plain": [
       "GridSearchCV(cv=StratifiedKFold(n_splits=10, random_state=None, shuffle=False),\n",
       "             error_score=nan,\n",
       "             estimator=SVC(C=1.0, break_ties=False, cache_size=200,\n",
       "                           class_weight=None, coef0=0.0,\n",
       "                           decision_function_shape='ovr', degree=3,\n",
       "                           gamma='scale', kernel='rbf', max_iter=-1,\n",
       "                           probability=False, random_state=None, shrinking=True,\n",
       "                           tol=0.001, verbose=False),\n",
       "             iid='deprecated', n_jobs...\n",
       "       3.20000e+01, 1.28000e+02, 5.12000e+02, 2.04800e+03, 8.19200e+03,\n",
       "       3.27680e+04, 1.31072e+05]),\n",
       "                         'gamma': array([7.62939453e-06, 3.05175781e-05, 1.22070312e-04, 4.88281250e-04,\n",
       "       1.95312500e-03, 7.81250000e-03, 3.12500000e-02, 1.25000000e-01,\n",
       "       5.00000000e-01, 2.00000000e+00, 8.00000000e+00])},\n",
       "             pre_dispatch='2*n_jobs', refit=True, return_train_score=False,\n",
       "             scoring=None, verbose=0)"
      ]
     },
     "execution_count": 182,
     "metadata": {},
     "output_type": "execute_result"
    }
   ],
   "source": [
    "C_range = 2. ** np.arange(-5, 18, 2)\n",
    "gamma_range = 2. ** np.arange(-17, 4, 2)\n",
    "param_grid = dict(gamma=gamma_range, C=C_range)\n",
    "grid = GridSearchCV(SVC(), param_grid=param_grid,\n",
    "                    cv=StratifiedKFold(n_splits=10))\n",
    "grid.fit(X, Y)"
   ]
  },
  {
   "cell_type": "code",
   "execution_count": 183,
   "metadata": {
    "ExecuteTime": {
     "end_time": "2020-04-08T19:40:30.481088Z",
     "start_time": "2020-04-08T19:40:30.474096Z"
    }
   },
   "outputs": [
    {
     "data": {
      "text/plain": [
       "{'gamma': array([7.62939453e-06, 3.05175781e-05, 1.22070312e-04, 4.88281250e-04,\n",
       "        1.95312500e-03, 7.81250000e-03, 3.12500000e-02, 1.25000000e-01,\n",
       "        5.00000000e-01, 2.00000000e+00, 8.00000000e+00]),\n",
       " 'C': array([3.12500e-02, 1.25000e-01, 5.00000e-01, 2.00000e+00, 8.00000e+00,\n",
       "        3.20000e+01, 1.28000e+02, 5.12000e+02, 2.04800e+03, 8.19200e+03,\n",
       "        3.27680e+04, 1.31072e+05])}"
      ]
     },
     "execution_count": 183,
     "metadata": {},
     "output_type": "execute_result"
    }
   ],
   "source": [
    "param_grid"
   ]
  },
  {
   "cell_type": "code",
   "execution_count": 184,
   "metadata": {
    "ExecuteTime": {
     "end_time": "2020-04-08T19:40:30.494080Z",
     "start_time": "2020-04-08T19:40:30.484086Z"
    }
   },
   "outputs": [
    {
     "name": "stdout",
     "output_type": "stream",
     "text": [
      "The best classifier is:  SVC(C=128.0, break_ties=False, cache_size=200, class_weight=None, coef0=0.0,\n",
      "    decision_function_shape='ovr', degree=3, gamma=0.0001220703125,\n",
      "    kernel='rbf', max_iter=-1, probability=False, random_state=None,\n",
      "    shrinking=True, tol=0.001, verbose=False)\n"
     ]
    }
   ],
   "source": [
    "print(\"The best classifier is: \", grid.best_estimator_)"
   ]
  },
  {
   "cell_type": "code",
   "execution_count": 185,
   "metadata": {
    "ExecuteTime": {
     "end_time": "2020-04-08T19:40:30.504078Z",
     "start_time": "2020-04-08T19:40:30.496080Z"
    }
   },
   "outputs": [
    {
     "name": "stdout",
     "output_type": "stream",
     "text": [
      "The best parameters are {'C': 128.0, 'gamma': 0.0001220703125} with a score of 0.65\n"
     ]
    }
   ],
   "source": [
    "print(\"The best parameters are %s with a score of %0.2f\"\n",
    "      % (grid.best_params_, grid.best_score_))"
   ]
  },
  {
   "cell_type": "code",
   "execution_count": 186,
   "metadata": {
    "ExecuteTime": {
     "end_time": "2020-04-08T19:40:30.521065Z",
     "start_time": "2020-04-08T19:40:30.506076Z"
    }
   },
   "outputs": [
    {
     "data": {
      "text/plain": [
       "SVC(C=128.0, break_ties=False, cache_size=200, class_weight=None, coef0=0.0,\n",
       "    decision_function_shape='ovr', degree=3, gamma=0.0001220703125,\n",
       "    kernel='rbf', max_iter=-1, probability=False, random_state=None,\n",
       "    shrinking=True, tol=0.001, verbose=False)"
      ]
     },
     "execution_count": 186,
     "metadata": {},
     "output_type": "execute_result"
    }
   ],
   "source": [
    "clf = grid.best_estimator_\n",
    "clf.fit(X, Y)"
   ]
  },
  {
   "cell_type": "code",
   "execution_count": 187,
   "metadata": {
    "ExecuteTime": {
     "end_time": "2020-04-08T19:40:37.873897Z",
     "start_time": "2020-04-08T19:40:37.868901Z"
    }
   },
   "outputs": [],
   "source": [
    "y_pred = clf.predict(X_val_combined_cw921D)"
   ]
  },
  {
   "cell_type": "code",
   "execution_count": 188,
   "metadata": {
    "ExecuteTime": {
     "end_time": "2020-04-08T19:40:38.543933Z",
     "start_time": "2020-04-08T19:40:38.537938Z"
    }
   },
   "outputs": [
    {
     "name": "stdout",
     "output_type": "stream",
     "text": [
      "('SVM Accuracy Score -> ', 51.66666666666667)\n"
     ]
    }
   ],
   "source": [
    "print((\"SVM Accuracy Score -> \", accuracy_score(y_pred, y_val) * 100))"
   ]
  },
  {
   "cell_type": "code",
   "execution_count": 189,
   "metadata": {
    "ExecuteTime": {
     "end_time": "2020-04-08T19:40:39.329922Z",
     "start_time": "2020-04-08T19:40:39.317909Z"
    },
    "scrolled": true
   },
   "outputs": [
    {
     "name": "stdout",
     "output_type": "stream",
     "text": [
      "              precision    recall  f1-score   support\n",
      "\n",
      "         GCR       0.47      0.56      0.51        27\n",
      "        Vert       0.57      0.48      0.52        33\n",
      "\n",
      "    accuracy                           0.52        60\n",
      "   macro avg       0.52      0.52      0.52        60\n",
      "weighted avg       0.53      0.52      0.52        60\n",
      "\n"
     ]
    }
   ],
   "source": [
    "from sklearn.metrics import classification_report\n",
    "print((classification_report(y_val, y_pred, target_names=my_tags)))"
   ]
  },
  {
   "cell_type": "markdown",
   "metadata": {},
   "source": [
    "##### Weighted SVC with 'rbf' kernel "
   ]
  },
  {
   "cell_type": "code",
   "execution_count": 190,
   "metadata": {
    "ExecuteTime": {
     "end_time": "2020-04-08T19:40:44.806053Z",
     "start_time": "2020-04-08T19:40:44.802057Z"
    }
   },
   "outputs": [],
   "source": [
    "X = X_train_combined_cw921D\n",
    "Y = y_train"
   ]
  },
  {
   "cell_type": "code",
   "execution_count": 191,
   "metadata": {
    "ExecuteTime": {
     "end_time": "2020-04-08T19:40:45.375979Z",
     "start_time": "2020-04-08T19:40:45.370981Z"
    }
   },
   "outputs": [],
   "source": [
    "# It is usually a good idea to scale the data for SVM training.\n",
    "# We are cheating a bit in this example in scaling all of the data,\n",
    "# instead of fitting the transformation on the trainingset and\n",
    "# just applying it on the test set.\n",
    "\n",
    "# scaler = StandardScaler()\n",
    "# X = scaler.fit_transform(X_train_updated_google)"
   ]
  },
  {
   "cell_type": "code",
   "execution_count": 192,
   "metadata": {
    "ExecuteTime": {
     "end_time": "2020-04-08T19:40:51.362885Z",
     "start_time": "2020-04-08T19:40:47.065335Z"
    }
   },
   "outputs": [
    {
     "data": {
      "text/plain": [
       "GridSearchCV(cv=StratifiedKFold(n_splits=10, random_state=None, shuffle=False),\n",
       "             error_score=nan,\n",
       "             estimator=SVC(C=1.0, break_ties=False, cache_size=200,\n",
       "                           class_weight=None, coef0=0.0,\n",
       "                           decision_function_shape='ovr', degree=3,\n",
       "                           gamma='scale', kernel='rbf', max_iter=-1,\n",
       "                           probability=False, random_state=None, shrinking=True,\n",
       "                           tol=0.001, verbose=False),\n",
       "             iid='deprecated', n_jobs...\n",
       "       3.20000e+01, 1.28000e+02, 5.12000e+02, 2.04800e+03, 8.19200e+03,\n",
       "       3.27680e+04, 1.31072e+05]),\n",
       "                         'gamma': array([7.62939453e-06, 3.05175781e-05, 1.22070312e-04, 4.88281250e-04,\n",
       "       1.95312500e-03, 7.81250000e-03, 3.12500000e-02, 1.25000000e-01,\n",
       "       5.00000000e-01, 2.00000000e+00, 8.00000000e+00])},\n",
       "             pre_dispatch='2*n_jobs', refit=True, return_train_score=False,\n",
       "             scoring=None, verbose=0)"
      ]
     },
     "execution_count": 192,
     "metadata": {},
     "output_type": "execute_result"
    }
   ],
   "source": [
    "C_range = 2. ** np.arange(-5, 18, 2)\n",
    "gamma_range = 2. ** np.arange(-17, 4, 2)\n",
    "param_grid = dict(gamma=gamma_range, C=C_range)\n",
    "grid = GridSearchCV(SVC(), param_grid=param_grid,\n",
    "                    cv=StratifiedKFold(n_splits=10))\n",
    "grid.fit(X, Y)"
   ]
  },
  {
   "cell_type": "code",
   "execution_count": 193,
   "metadata": {
    "ExecuteTime": {
     "end_time": "2020-04-08T19:40:51.371866Z",
     "start_time": "2020-04-08T19:40:51.364870Z"
    }
   },
   "outputs": [
    {
     "data": {
      "text/plain": [
       "{'gamma': array([7.62939453e-06, 3.05175781e-05, 1.22070312e-04, 4.88281250e-04,\n",
       "        1.95312500e-03, 7.81250000e-03, 3.12500000e-02, 1.25000000e-01,\n",
       "        5.00000000e-01, 2.00000000e+00, 8.00000000e+00]),\n",
       " 'C': array([3.12500e-02, 1.25000e-01, 5.00000e-01, 2.00000e+00, 8.00000e+00,\n",
       "        3.20000e+01, 1.28000e+02, 5.12000e+02, 2.04800e+03, 8.19200e+03,\n",
       "        3.27680e+04, 1.31072e+05])}"
      ]
     },
     "execution_count": 193,
     "metadata": {},
     "output_type": "execute_result"
    }
   ],
   "source": [
    "param_grid"
   ]
  },
  {
   "cell_type": "code",
   "execution_count": 194,
   "metadata": {
    "ExecuteTime": {
     "end_time": "2020-04-08T19:40:51.385877Z",
     "start_time": "2020-04-08T19:40:51.374864Z"
    }
   },
   "outputs": [
    {
     "name": "stdout",
     "output_type": "stream",
     "text": [
      "The best classifier is:  SVC(C=128.0, break_ties=False, cache_size=200, class_weight=None, coef0=0.0,\n",
      "    decision_function_shape='ovr', degree=3, gamma=0.0001220703125,\n",
      "    kernel='rbf', max_iter=-1, probability=False, random_state=None,\n",
      "    shrinking=True, tol=0.001, verbose=False)\n"
     ]
    }
   ],
   "source": [
    "print(\"The best classifier is: \", grid.best_estimator_)"
   ]
  },
  {
   "cell_type": "code",
   "execution_count": 195,
   "metadata": {
    "ExecuteTime": {
     "end_time": "2020-04-08T19:40:51.396871Z",
     "start_time": "2020-04-08T19:40:51.387857Z"
    }
   },
   "outputs": [
    {
     "name": "stdout",
     "output_type": "stream",
     "text": [
      "The best parameters are {'C': 128.0, 'gamma': 0.0001220703125} with a score of 0.65\n"
     ]
    }
   ],
   "source": [
    "print(\"The best parameters are %s with a score of %0.2f\"\n",
    "      % (grid.best_params_, grid.best_score_))"
   ]
  },
  {
   "cell_type": "code",
   "execution_count": 196,
   "metadata": {
    "ExecuteTime": {
     "end_time": "2020-04-08T19:40:51.413861Z",
     "start_time": "2020-04-08T19:40:51.398851Z"
    }
   },
   "outputs": [
    {
     "data": {
      "text/plain": [
       "SVC(C=32.0, break_ties=False, cache_size=200, class_weight='balanced',\n",
       "    coef0=0.0, decision_function_shape='ovr', degree=3, gamma=0.03125,\n",
       "    kernel='rbf', max_iter=-1, probability=False, random_state=None,\n",
       "    shrinking=True, tol=0.001, verbose=False)"
      ]
     },
     "execution_count": 196,
     "metadata": {},
     "output_type": "execute_result"
    }
   ],
   "source": [
    "clf = SVC(C=32.0, class_weight='balanced', gamma=0.03125, kernel='rbf')\n",
    "clf.fit(X, Y)"
   ]
  },
  {
   "cell_type": "code",
   "execution_count": 197,
   "metadata": {
    "ExecuteTime": {
     "end_time": "2020-04-08T19:40:59.097579Z",
     "start_time": "2020-04-08T19:40:59.092580Z"
    }
   },
   "outputs": [],
   "source": [
    "y_pred = clf.predict(X_val_combined_cw921D)"
   ]
  },
  {
   "cell_type": "code",
   "execution_count": 198,
   "metadata": {
    "ExecuteTime": {
     "end_time": "2020-04-08T19:40:59.821278Z",
     "start_time": "2020-04-08T19:40:59.816279Z"
    }
   },
   "outputs": [
    {
     "name": "stdout",
     "output_type": "stream",
     "text": [
      "('SVM Accuracy Score -> ', 45.0)\n"
     ]
    }
   ],
   "source": [
    "print((\"SVM Accuracy Score -> \", accuracy_score(y_pred, y_val) * 100))"
   ]
  },
  {
   "cell_type": "code",
   "execution_count": 199,
   "metadata": {
    "ExecuteTime": {
     "end_time": "2020-04-08T19:41:01.032914Z",
     "start_time": "2020-04-08T19:41:01.020917Z"
    },
    "scrolled": false
   },
   "outputs": [
    {
     "name": "stdout",
     "output_type": "stream",
     "text": [
      "              precision    recall  f1-score   support\n",
      "\n",
      "         GCR       0.45      1.00      0.62        27\n",
      "        Vert       0.00      0.00      0.00        33\n",
      "\n",
      "    accuracy                           0.45        60\n",
      "   macro avg       0.23      0.50      0.31        60\n",
      "weighted avg       0.20      0.45      0.28        60\n",
      "\n"
     ]
    },
    {
     "name": "stderr",
     "output_type": "stream",
     "text": [
      "C:\\ProgramData\\Anaconda3\\lib\\site-packages\\sklearn\\metrics\\_classification.py:1272: UndefinedMetricWarning: Precision and F-score are ill-defined and being set to 0.0 in labels with no predicted samples. Use `zero_division` parameter to control this behavior.\n",
      "  _warn_prf(average, modifier, msg_start, len(result))\n"
     ]
    }
   ],
   "source": [
    "from sklearn.metrics import classification_report\n",
    "print((classification_report(y_val, y_pred, target_names=my_tags)))"
   ]
  },
  {
   "cell_type": "markdown",
   "metadata": {},
   "source": [
    "##### Logistice regression"
   ]
  },
  {
   "cell_type": "code",
   "execution_count": 200,
   "metadata": {
    "ExecuteTime": {
     "end_time": "2020-04-08T19:41:11.647433Z",
     "start_time": "2020-04-08T19:41:11.595462Z"
    },
    "scrolled": false
   },
   "outputs": [
    {
     "name": "stdout",
     "output_type": "stream",
     "text": [
      "accuracy 0.4666666666666667\n",
      "              precision    recall  f1-score   support\n",
      "\n",
      "         GCR       0.41      0.44      0.43        27\n",
      "        Vert       0.52      0.48      0.50        33\n",
      "\n",
      "    accuracy                           0.47        60\n",
      "   macro avg       0.46      0.46      0.46        60\n",
      "weighted avg       0.47      0.47      0.47        60\n",
      "\n"
     ]
    }
   ],
   "source": [
    "from sklearn.linear_model import LogisticRegression\n",
    "logreg = LogisticRegression(n_jobs=1, C=1e5)\n",
    "logreg = logreg.fit(X_train_combined_cw921D, y_train)\n",
    "y_pred = logreg.predict(X_val_combined_cw921D)\n",
    "print('accuracy %s' % accuracy_score(y_pred, y_val))\n",
    "print(classification_report(y_val, y_pred, target_names=my_tags))"
   ]
  },
  {
   "cell_type": "markdown",
   "metadata": {},
   "source": [
    "##### Weighted logistice regression"
   ]
  },
  {
   "cell_type": "code",
   "execution_count": 201,
   "metadata": {
    "ExecuteTime": {
     "end_time": "2020-04-08T19:41:21.862012Z",
     "start_time": "2020-04-08T19:41:21.805045Z"
    },
    "scrolled": false
   },
   "outputs": [
    {
     "name": "stdout",
     "output_type": "stream",
     "text": [
      "accuracy 0.5\n",
      "              precision    recall  f1-score   support\n",
      "\n",
      "         GCR       0.45      0.48      0.46        27\n",
      "        Vert       0.55      0.52      0.53        33\n",
      "\n",
      "    accuracy                           0.50        60\n",
      "   macro avg       0.50      0.50      0.50        60\n",
      "weighted avg       0.50      0.50      0.50        60\n",
      "\n"
     ]
    }
   ],
   "source": [
    "from sklearn.linear_model import LogisticRegression\n",
    "logreg = LogisticRegression(n_jobs=1, C=1e5, class_weight='balanced')\n",
    "logreg = logreg.fit(X_train_combined_cw921D, y_train)\n",
    "y_pred = logreg.predict(X_val_combined_cw921D)\n",
    "print('accuracy %s' % accuracy_score(y_pred, y_val))\n",
    "print(classification_report(y_val, y_pred, target_names=my_tags))"
   ]
  },
  {
   "cell_type": "markdown",
   "metadata": {},
   "source": [
    "### Training with BNC word embedding (SkipGram)"
   ]
  },
  {
   "cell_type": "markdown",
   "metadata": {},
   "source": [
    "#### General form "
   ]
  },
  {
   "cell_type": "markdown",
   "metadata": {},
   "source": [
    "##### Linear SVM"
   ]
  },
  {
   "cell_type": "code",
   "execution_count": 202,
   "metadata": {
    "ExecuteTime": {
     "end_time": "2020-04-08T19:41:28.925332Z",
     "start_time": "2020-04-08T19:41:28.915341Z"
    },
    "scrolled": true
   },
   "outputs": [
    {
     "data": {
      "text/plain": [
       "SVC(C=1.0, break_ties=False, cache_size=200, class_weight=None, coef0=0.0,\n",
       "    decision_function_shape='ovr', degree=3, gamma='scale', kernel='linear',\n",
       "    max_iter=-1, probability=False, random_state=None, shrinking=True,\n",
       "    tol=0.001, verbose=False)"
      ]
     },
     "execution_count": 202,
     "metadata": {},
     "output_type": "execute_result"
    }
   ],
   "source": [
    "clf = SVC(kernel='linear')\n",
    "clf.fit(X_train_combined_sg, y_train)"
   ]
  },
  {
   "cell_type": "code",
   "execution_count": 203,
   "metadata": {
    "ExecuteTime": {
     "end_time": "2020-04-08T19:41:29.208170Z",
     "start_time": "2020-04-08T19:41:29.203192Z"
    }
   },
   "outputs": [],
   "source": [
    "y_pred = clf.predict(X_val_combined_sg)"
   ]
  },
  {
   "cell_type": "code",
   "execution_count": 204,
   "metadata": {
    "ExecuteTime": {
     "end_time": "2020-04-08T19:41:29.405058Z",
     "start_time": "2020-04-08T19:41:29.401060Z"
    }
   },
   "outputs": [
    {
     "name": "stdout",
     "output_type": "stream",
     "text": [
      "SVM Accuracy Score ->  46.666666666666664\n"
     ]
    }
   ],
   "source": [
    "print(\"SVM Accuracy Score -> \", accuracy_score(y_pred, y_val) * 100)"
   ]
  },
  {
   "cell_type": "code",
   "execution_count": 205,
   "metadata": {
    "ExecuteTime": {
     "end_time": "2020-04-08T19:41:29.720878Z",
     "start_time": "2020-04-08T19:41:29.709884Z"
    }
   },
   "outputs": [
    {
     "name": "stdout",
     "output_type": "stream",
     "text": [
      "              precision    recall  f1-score   support\n",
      "\n",
      "         GCR       0.44      0.63      0.52        27\n",
      "        Vert       0.52      0.33      0.41        33\n",
      "\n",
      "    accuracy                           0.47        60\n",
      "   macro avg       0.48      0.48      0.46        60\n",
      "weighted avg       0.48      0.47      0.46        60\n",
      "\n"
     ]
    }
   ],
   "source": [
    "from sklearn.metrics import classification_report\n",
    "print(classification_report(y_val, y_pred, target_names=my_tags))"
   ]
  },
  {
   "cell_type": "markdown",
   "metadata": {},
   "source": [
    "##### Weighted Linear SVM"
   ]
  },
  {
   "cell_type": "code",
   "execution_count": 206,
   "metadata": {
    "ExecuteTime": {
     "end_time": "2020-04-08T19:41:30.119647Z",
     "start_time": "2020-04-08T19:41:30.108656Z"
    },
    "scrolled": true
   },
   "outputs": [
    {
     "data": {
      "text/plain": [
       "SVC(C=1.0, break_ties=False, cache_size=200, class_weight='balanced', coef0=0.0,\n",
       "    decision_function_shape='ovr', degree=3, gamma='scale', kernel='linear',\n",
       "    max_iter=-1, probability=False, random_state=None, shrinking=True,\n",
       "    tol=0.001, verbose=False)"
      ]
     },
     "execution_count": 206,
     "metadata": {},
     "output_type": "execute_result"
    }
   ],
   "source": [
    "clf_balanced_class_weight = SVC(kernel='linear', class_weight='balanced')\n",
    "clf_balanced_class_weight.fit(X_train_combined_sg, y_train)"
   ]
  },
  {
   "cell_type": "code",
   "execution_count": 207,
   "metadata": {
    "ExecuteTime": {
     "end_time": "2020-04-08T19:41:30.313551Z",
     "start_time": "2020-04-08T19:41:30.307540Z"
    }
   },
   "outputs": [],
   "source": [
    "y_pred_balanced_class_weight = clf_balanced_class_weight.predict(\n",
    "    X_val_combined_sg)"
   ]
  },
  {
   "cell_type": "code",
   "execution_count": 208,
   "metadata": {
    "ExecuteTime": {
     "end_time": "2020-04-08T19:41:30.503428Z",
     "start_time": "2020-04-08T19:41:30.499431Z"
    }
   },
   "outputs": [
    {
     "name": "stdout",
     "output_type": "stream",
     "text": [
      "SVM Accuracy Score ->  46.666666666666664\n"
     ]
    }
   ],
   "source": [
    "print(\"SVM Accuracy Score -> \",\n",
    "      accuracy_score(y_pred_balanced_class_weight, y_val) * 100)"
   ]
  },
  {
   "cell_type": "code",
   "execution_count": 209,
   "metadata": {
    "ExecuteTime": {
     "end_time": "2020-04-08T19:41:30.707311Z",
     "start_time": "2020-04-08T19:41:30.696319Z"
    },
    "scrolled": true
   },
   "outputs": [
    {
     "name": "stdout",
     "output_type": "stream",
     "text": [
      "              precision    recall  f1-score   support\n",
      "\n",
      "         GCR       0.44      0.63      0.52        27\n",
      "        Vert       0.52      0.33      0.41        33\n",
      "\n",
      "    accuracy                           0.47        60\n",
      "   macro avg       0.48      0.48      0.46        60\n",
      "weighted avg       0.48      0.47      0.46        60\n",
      "\n"
     ]
    }
   ],
   "source": [
    "from sklearn.metrics import classification_report\n",
    "print(\n",
    "    classification_report(y_val,\n",
    "                          y_pred_balanced_class_weight,\n",
    "                          target_names=my_tags))"
   ]
  },
  {
   "cell_type": "markdown",
   "metadata": {},
   "source": [
    "##### SVC with 'rbf' kernel"
   ]
  },
  {
   "cell_type": "code",
   "execution_count": 210,
   "metadata": {
    "ExecuteTime": {
     "end_time": "2020-04-08T19:41:31.216019Z",
     "start_time": "2020-04-08T19:41:31.213022Z"
    }
   },
   "outputs": [],
   "source": [
    "X = X_train_combined_sg\n",
    "Y = y_train"
   ]
  },
  {
   "cell_type": "code",
   "execution_count": 211,
   "metadata": {
    "ExecuteTime": {
     "end_time": "2020-04-08T19:41:31.426899Z",
     "start_time": "2020-04-08T19:41:31.422919Z"
    }
   },
   "outputs": [],
   "source": [
    "# It is usually a good idea to scale the data for SVM training.\n",
    "# We are cheating a bit in this example in scaling all of the data,\n",
    "# instead of fitting the transformation on the trainingset and\n",
    "# just applying it on the test set.\n",
    "\n",
    "# scaler = StandardScaler()\n",
    "# X = scaler.fit_transform(X_train_updated_google)"
   ]
  },
  {
   "cell_type": "code",
   "execution_count": 212,
   "metadata": {
    "ExecuteTime": {
     "end_time": "2020-04-08T19:41:36.230163Z",
     "start_time": "2020-04-08T19:41:31.631780Z"
    }
   },
   "outputs": [
    {
     "data": {
      "text/plain": [
       "GridSearchCV(cv=StratifiedKFold(n_splits=10, random_state=None, shuffle=False),\n",
       "             error_score=nan,\n",
       "             estimator=SVC(C=1.0, break_ties=False, cache_size=200,\n",
       "                           class_weight=None, coef0=0.0,\n",
       "                           decision_function_shape='ovr', degree=3,\n",
       "                           gamma='scale', kernel='rbf', max_iter=-1,\n",
       "                           probability=False, random_state=None, shrinking=True,\n",
       "                           tol=0.001, verbose=False),\n",
       "             iid='deprecated', n_jobs...\n",
       "       3.20000e+01, 1.28000e+02, 5.12000e+02, 2.04800e+03, 8.19200e+03,\n",
       "       3.27680e+04, 1.31072e+05]),\n",
       "                         'gamma': array([7.62939453e-06, 3.05175781e-05, 1.22070312e-04, 4.88281250e-04,\n",
       "       1.95312500e-03, 7.81250000e-03, 3.12500000e-02, 1.25000000e-01,\n",
       "       5.00000000e-01, 2.00000000e+00, 8.00000000e+00])},\n",
       "             pre_dispatch='2*n_jobs', refit=True, return_train_score=False,\n",
       "             scoring=None, verbose=0)"
      ]
     },
     "execution_count": 212,
     "metadata": {},
     "output_type": "execute_result"
    }
   ],
   "source": [
    "C_range = 2. ** np.arange(-5, 18, 2)\n",
    "gamma_range = 2. ** np.arange(-17, 4, 2)\n",
    "param_grid = dict(gamma=gamma_range, C=C_range)\n",
    "grid = GridSearchCV(SVC(), param_grid=param_grid,\n",
    "                    cv=StratifiedKFold(n_splits=10))\n",
    "grid.fit(X, Y)"
   ]
  },
  {
   "cell_type": "code",
   "execution_count": 213,
   "metadata": {
    "ExecuteTime": {
     "end_time": "2020-04-08T19:41:36.240140Z",
     "start_time": "2020-04-08T19:41:36.233142Z"
    }
   },
   "outputs": [
    {
     "data": {
      "text/plain": [
       "{'gamma': array([7.62939453e-06, 3.05175781e-05, 1.22070312e-04, 4.88281250e-04,\n",
       "        1.95312500e-03, 7.81250000e-03, 3.12500000e-02, 1.25000000e-01,\n",
       "        5.00000000e-01, 2.00000000e+00, 8.00000000e+00]),\n",
       " 'C': array([3.12500e-02, 1.25000e-01, 5.00000e-01, 2.00000e+00, 8.00000e+00,\n",
       "        3.20000e+01, 1.28000e+02, 5.12000e+02, 2.04800e+03, 8.19200e+03,\n",
       "        3.27680e+04, 1.31072e+05])}"
      ]
     },
     "execution_count": 213,
     "metadata": {},
     "output_type": "execute_result"
    }
   ],
   "source": [
    "param_grid"
   ]
  },
  {
   "cell_type": "code",
   "execution_count": 214,
   "metadata": {
    "ExecuteTime": {
     "end_time": "2020-04-08T19:41:36.254130Z",
     "start_time": "2020-04-08T19:41:36.243136Z"
    }
   },
   "outputs": [
    {
     "name": "stdout",
     "output_type": "stream",
     "text": [
      "The best classifier is:  SVC(C=2.0, break_ties=False, cache_size=200, class_weight=None, coef0=0.0,\n",
      "    decision_function_shape='ovr', degree=3, gamma=0.03125, kernel='rbf',\n",
      "    max_iter=-1, probability=False, random_state=None, shrinking=True,\n",
      "    tol=0.001, verbose=False)\n"
     ]
    }
   ],
   "source": [
    "print(\"The best classifier is: \", grid.best_estimator_)"
   ]
  },
  {
   "cell_type": "code",
   "execution_count": 215,
   "metadata": {
    "ExecuteTime": {
     "end_time": "2020-04-08T19:41:36.265126Z",
     "start_time": "2020-04-08T19:41:36.257129Z"
    }
   },
   "outputs": [
    {
     "name": "stdout",
     "output_type": "stream",
     "text": [
      "The best parameters are {'C': 2.0, 'gamma': 0.03125} with a score of 0.65\n"
     ]
    }
   ],
   "source": [
    "print(\"The best parameters are %s with a score of %0.2f\"\n",
    "      % (grid.best_params_, grid.best_score_))"
   ]
  },
  {
   "cell_type": "code",
   "execution_count": 216,
   "metadata": {
    "ExecuteTime": {
     "end_time": "2020-04-08T19:41:36.282114Z",
     "start_time": "2020-04-08T19:41:36.267124Z"
    }
   },
   "outputs": [
    {
     "data": {
      "text/plain": [
       "SVC(C=2.0, break_ties=False, cache_size=200, class_weight=None, coef0=0.0,\n",
       "    decision_function_shape='ovr', degree=3, gamma=0.03125, kernel='rbf',\n",
       "    max_iter=-1, probability=False, random_state=None, shrinking=True,\n",
       "    tol=0.001, verbose=False)"
      ]
     },
     "execution_count": 216,
     "metadata": {},
     "output_type": "execute_result"
    }
   ],
   "source": [
    "clf = grid.best_estimator_\n",
    "clf.fit(X, Y)"
   ]
  },
  {
   "cell_type": "code",
   "execution_count": 217,
   "metadata": {
    "ExecuteTime": {
     "end_time": "2020-04-08T19:41:36.290111Z",
     "start_time": "2020-04-08T19:41:36.284113Z"
    }
   },
   "outputs": [],
   "source": [
    "y_pred = clf.predict(X_val_combined_sg)"
   ]
  },
  {
   "cell_type": "code",
   "execution_count": 218,
   "metadata": {
    "ExecuteTime": {
     "end_time": "2020-04-08T19:41:36.302104Z",
     "start_time": "2020-04-08T19:41:36.292108Z"
    }
   },
   "outputs": [
    {
     "name": "stdout",
     "output_type": "stream",
     "text": [
      "('SVM Accuracy Score -> ', 46.666666666666664)\n"
     ]
    }
   ],
   "source": [
    "print((\"SVM Accuracy Score -> \", accuracy_score(y_pred, y_val) * 100))"
   ]
  },
  {
   "cell_type": "code",
   "execution_count": 219,
   "metadata": {
    "ExecuteTime": {
     "end_time": "2020-04-08T19:41:36.319111Z",
     "start_time": "2020-04-08T19:41:36.305103Z"
    },
    "scrolled": true
   },
   "outputs": [
    {
     "name": "stdout",
     "output_type": "stream",
     "text": [
      "              precision    recall  f1-score   support\n",
      "\n",
      "         GCR       0.44      0.67      0.53        27\n",
      "        Vert       0.53      0.30      0.38        33\n",
      "\n",
      "    accuracy                           0.47        60\n",
      "   macro avg       0.48      0.48      0.46        60\n",
      "weighted avg       0.49      0.47      0.45        60\n",
      "\n"
     ]
    }
   ],
   "source": [
    "from sklearn.metrics import classification_report\n",
    "print((classification_report(y_val, y_pred, target_names=my_tags)))"
   ]
  },
  {
   "cell_type": "markdown",
   "metadata": {},
   "source": [
    "##### Weighted SVC with 'rbf' kernel "
   ]
  },
  {
   "cell_type": "code",
   "execution_count": 220,
   "metadata": {
    "ExecuteTime": {
     "end_time": "2020-04-08T19:41:37.673597Z",
     "start_time": "2020-04-08T19:41:37.669599Z"
    }
   },
   "outputs": [],
   "source": [
    "X = X_train_combined_sg\n",
    "Y = y_train"
   ]
  },
  {
   "cell_type": "code",
   "execution_count": 221,
   "metadata": {
    "ExecuteTime": {
     "end_time": "2020-04-08T19:41:38.364715Z",
     "start_time": "2020-04-08T19:41:38.361733Z"
    }
   },
   "outputs": [],
   "source": [
    "# It is usually a good idea to scale the data for SVM training.\n",
    "# We are cheating a bit in this example in scaling all of the data,\n",
    "# instead of fitting the transformation on the trainingset and\n",
    "# just applying it on the test set.\n",
    "\n",
    "# scaler = StandardScaler()\n",
    "# X = scaler.fit_transform(X_train_updated_google)"
   ]
  },
  {
   "cell_type": "code",
   "execution_count": 222,
   "metadata": {
    "ExecuteTime": {
     "end_time": "2020-04-08T19:41:44.382079Z",
     "start_time": "2020-04-08T19:41:40.297423Z"
    }
   },
   "outputs": [
    {
     "data": {
      "text/plain": [
       "GridSearchCV(cv=StratifiedKFold(n_splits=10, random_state=None, shuffle=False),\n",
       "             error_score=nan,\n",
       "             estimator=SVC(C=1.0, break_ties=False, cache_size=200,\n",
       "                           class_weight=None, coef0=0.0,\n",
       "                           decision_function_shape='ovr', degree=3,\n",
       "                           gamma='scale', kernel='rbf', max_iter=-1,\n",
       "                           probability=False, random_state=None, shrinking=True,\n",
       "                           tol=0.001, verbose=False),\n",
       "             iid='deprecated', n_jobs...\n",
       "       3.20000e+01, 1.28000e+02, 5.12000e+02, 2.04800e+03, 8.19200e+03,\n",
       "       3.27680e+04, 1.31072e+05]),\n",
       "                         'gamma': array([7.62939453e-06, 3.05175781e-05, 1.22070312e-04, 4.88281250e-04,\n",
       "       1.95312500e-03, 7.81250000e-03, 3.12500000e-02, 1.25000000e-01,\n",
       "       5.00000000e-01, 2.00000000e+00, 8.00000000e+00])},\n",
       "             pre_dispatch='2*n_jobs', refit=True, return_train_score=False,\n",
       "             scoring=None, verbose=0)"
      ]
     },
     "execution_count": 222,
     "metadata": {},
     "output_type": "execute_result"
    }
   ],
   "source": [
    "C_range = 2. ** np.arange(-5, 18, 2)\n",
    "gamma_range = 2. ** np.arange(-17, 4, 2)\n",
    "param_grid = dict(gamma=gamma_range, C=C_range)\n",
    "grid = GridSearchCV(SVC(), param_grid=param_grid,\n",
    "                    cv=StratifiedKFold(n_splits=10))\n",
    "grid.fit(X, Y)"
   ]
  },
  {
   "cell_type": "code",
   "execution_count": 223,
   "metadata": {
    "ExecuteTime": {
     "end_time": "2020-04-08T19:41:44.390076Z",
     "start_time": "2020-04-08T19:41:44.384078Z"
    }
   },
   "outputs": [
    {
     "data": {
      "text/plain": [
       "{'gamma': array([7.62939453e-06, 3.05175781e-05, 1.22070312e-04, 4.88281250e-04,\n",
       "        1.95312500e-03, 7.81250000e-03, 3.12500000e-02, 1.25000000e-01,\n",
       "        5.00000000e-01, 2.00000000e+00, 8.00000000e+00]),\n",
       " 'C': array([3.12500e-02, 1.25000e-01, 5.00000e-01, 2.00000e+00, 8.00000e+00,\n",
       "        3.20000e+01, 1.28000e+02, 5.12000e+02, 2.04800e+03, 8.19200e+03,\n",
       "        3.27680e+04, 1.31072e+05])}"
      ]
     },
     "execution_count": 223,
     "metadata": {},
     "output_type": "execute_result"
    }
   ],
   "source": [
    "param_grid"
   ]
  },
  {
   "cell_type": "code",
   "execution_count": 224,
   "metadata": {
    "ExecuteTime": {
     "end_time": "2020-04-08T19:41:44.405066Z",
     "start_time": "2020-04-08T19:41:44.393073Z"
    }
   },
   "outputs": [
    {
     "name": "stdout",
     "output_type": "stream",
     "text": [
      "The best classifier is:  SVC(C=2.0, break_ties=False, cache_size=200, class_weight=None, coef0=0.0,\n",
      "    decision_function_shape='ovr', degree=3, gamma=0.03125, kernel='rbf',\n",
      "    max_iter=-1, probability=False, random_state=None, shrinking=True,\n",
      "    tol=0.001, verbose=False)\n"
     ]
    }
   ],
   "source": [
    "print(\"The best classifier is: \", grid.best_estimator_)"
   ]
  },
  {
   "cell_type": "code",
   "execution_count": 225,
   "metadata": {
    "ExecuteTime": {
     "end_time": "2020-04-08T19:41:44.415060Z",
     "start_time": "2020-04-08T19:41:44.408064Z"
    }
   },
   "outputs": [
    {
     "name": "stdout",
     "output_type": "stream",
     "text": [
      "The best parameters are {'C': 2.0, 'gamma': 0.03125} with a score of 0.65\n"
     ]
    }
   ],
   "source": [
    "print(\"The best parameters are %s with a score of %0.2f\"\n",
    "      % (grid.best_params_, grid.best_score_))"
   ]
  },
  {
   "cell_type": "code",
   "execution_count": 226,
   "metadata": {
    "ExecuteTime": {
     "end_time": "2020-04-08T19:41:44.432050Z",
     "start_time": "2020-04-08T19:41:44.417059Z"
    }
   },
   "outputs": [
    {
     "data": {
      "text/plain": [
       "SVC(C=32.0, break_ties=False, cache_size=200, class_weight='balanced',\n",
       "    coef0=0.0, decision_function_shape='ovr', degree=3, gamma=0.03125,\n",
       "    kernel='rbf', max_iter=-1, probability=False, random_state=None,\n",
       "    shrinking=True, tol=0.001, verbose=False)"
      ]
     },
     "execution_count": 226,
     "metadata": {},
     "output_type": "execute_result"
    }
   ],
   "source": [
    "clf = SVC(C=32.0, class_weight='balanced', gamma=0.03125, kernel='rbf')\n",
    "clf.fit(X, Y)"
   ]
  },
  {
   "cell_type": "code",
   "execution_count": 227,
   "metadata": {
    "ExecuteTime": {
     "end_time": "2020-04-08T19:41:44.442044Z",
     "start_time": "2020-04-08T19:41:44.434050Z"
    }
   },
   "outputs": [],
   "source": [
    "y_pred = clf.predict(X_val_combined_sg)"
   ]
  },
  {
   "cell_type": "code",
   "execution_count": 228,
   "metadata": {
    "ExecuteTime": {
     "end_time": "2020-04-08T19:41:44.453039Z",
     "start_time": "2020-04-08T19:41:44.444043Z"
    }
   },
   "outputs": [
    {
     "name": "stdout",
     "output_type": "stream",
     "text": [
      "('SVM Accuracy Score -> ', 46.666666666666664)\n"
     ]
    }
   ],
   "source": [
    "print((\"SVM Accuracy Score -> \", accuracy_score(y_pred, y_val) * 100))"
   ]
  },
  {
   "cell_type": "code",
   "execution_count": 229,
   "metadata": {
    "ExecuteTime": {
     "end_time": "2020-04-08T19:41:45.463559Z",
     "start_time": "2020-04-08T19:41:45.450566Z"
    },
    "scrolled": false
   },
   "outputs": [
    {
     "name": "stdout",
     "output_type": "stream",
     "text": [
      "              precision    recall  f1-score   support\n",
      "\n",
      "         GCR       0.44      0.70      0.54        27\n",
      "        Vert       0.53      0.27      0.36        33\n",
      "\n",
      "    accuracy                           0.47        60\n",
      "   macro avg       0.49      0.49      0.45        60\n",
      "weighted avg       0.49      0.47      0.44        60\n",
      "\n"
     ]
    }
   ],
   "source": [
    "from sklearn.metrics import classification_report\n",
    "print((classification_report(y_val, y_pred, target_names=my_tags)))"
   ]
  },
  {
   "cell_type": "markdown",
   "metadata": {},
   "source": [
    "##### Logistice regression"
   ]
  },
  {
   "cell_type": "code",
   "execution_count": 230,
   "metadata": {
    "ExecuteTime": {
     "end_time": "2020-04-08T19:41:48.373740Z",
     "start_time": "2020-04-08T19:41:48.329766Z"
    },
    "scrolled": true
   },
   "outputs": [
    {
     "name": "stdout",
     "output_type": "stream",
     "text": [
      "accuracy 0.48333333333333334\n",
      "              precision    recall  f1-score   support\n",
      "\n",
      "         GCR       0.45      0.67      0.54        27\n",
      "        Vert       0.55      0.33      0.42        33\n",
      "\n",
      "    accuracy                           0.48        60\n",
      "   macro avg       0.50      0.50      0.48        60\n",
      "weighted avg       0.51      0.48      0.47        60\n",
      "\n"
     ]
    }
   ],
   "source": [
    "from sklearn.linear_model import LogisticRegression\n",
    "logreg = LogisticRegression(n_jobs=1, C=1e5)\n",
    "logreg = logreg.fit(X_train_combined_sg, y_train)\n",
    "y_pred = logreg.predict(X_val_combined_sg)\n",
    "print('accuracy %s' % accuracy_score(y_pred, y_val))\n",
    "print(classification_report(y_val, y_pred, target_names=my_tags))"
   ]
  },
  {
   "cell_type": "markdown",
   "metadata": {},
   "source": [
    "##### Weighted logistice regression"
   ]
  },
  {
   "cell_type": "code",
   "execution_count": 231,
   "metadata": {
    "ExecuteTime": {
     "end_time": "2020-04-08T19:41:48.839473Z",
     "start_time": "2020-04-08T19:41:48.812491Z"
    },
    "scrolled": false
   },
   "outputs": [
    {
     "name": "stdout",
     "output_type": "stream",
     "text": [
      "accuracy 0.45\n",
      "              precision    recall  f1-score   support\n",
      "\n",
      "         GCR       0.42      0.63      0.51        27\n",
      "        Vert       0.50      0.30      0.38        33\n",
      "\n",
      "    accuracy                           0.45        60\n",
      "   macro avg       0.46      0.47      0.44        60\n",
      "weighted avg       0.47      0.45      0.44        60\n",
      "\n"
     ]
    }
   ],
   "source": [
    "from sklearn.linear_model import LogisticRegression\n",
    "logreg = LogisticRegression(n_jobs=1, C=1e5, class_weight='balanced')\n",
    "logreg = logreg.fit(X_train_combined_sg, y_train)\n",
    "y_pred = logreg.predict(X_val_combined_sg)\n",
    "print('accuracy %s' % accuracy_score(y_pred, y_val))\n",
    "print(classification_report(y_val, y_pred, target_names=my_tags))"
   ]
  },
  {
   "cell_type": "markdown",
   "metadata": {},
   "source": [
    "#### _V"
   ]
  },
  {
   "cell_type": "markdown",
   "metadata": {},
   "source": [
    "##### Linear SVM"
   ]
  },
  {
   "cell_type": "code",
   "execution_count": 232,
   "metadata": {
    "ExecuteTime": {
     "end_time": "2020-04-08T19:41:50.771704Z",
     "start_time": "2020-04-08T19:41:50.757712Z"
    },
    "scrolled": true
   },
   "outputs": [
    {
     "data": {
      "text/plain": [
       "SVC(C=1.0, break_ties=False, cache_size=200, class_weight=None, coef0=0.0,\n",
       "    decision_function_shape='ovr', degree=3, gamma='scale', kernel='linear',\n",
       "    max_iter=-1, probability=False, random_state=None, shrinking=True,\n",
       "    tol=0.001, verbose=False)"
      ]
     },
     "execution_count": 232,
     "metadata": {},
     "output_type": "execute_result"
    }
   ],
   "source": [
    "clf = SVC(kernel='linear')\n",
    "clf.fit(X_train_combined_V_sg, y_train)"
   ]
  },
  {
   "cell_type": "code",
   "execution_count": 233,
   "metadata": {
    "ExecuteTime": {
     "end_time": "2020-04-08T19:41:50.998575Z",
     "start_time": "2020-04-08T19:41:50.992580Z"
    }
   },
   "outputs": [],
   "source": [
    "y_pred = clf.predict(X_val_combined_V_sg)"
   ]
  },
  {
   "cell_type": "code",
   "execution_count": 234,
   "metadata": {
    "ExecuteTime": {
     "end_time": "2020-04-08T19:41:51.221447Z",
     "start_time": "2020-04-08T19:41:51.215449Z"
    }
   },
   "outputs": [
    {
     "name": "stdout",
     "output_type": "stream",
     "text": [
      "SVM Accuracy Score ->  48.333333333333336\n"
     ]
    }
   ],
   "source": [
    "print(\"SVM Accuracy Score -> \", accuracy_score(y_pred, y_val) * 100)"
   ]
  },
  {
   "cell_type": "code",
   "execution_count": 235,
   "metadata": {
    "ExecuteTime": {
     "end_time": "2020-04-08T19:41:51.437322Z",
     "start_time": "2020-04-08T19:41:51.426331Z"
    }
   },
   "outputs": [
    {
     "name": "stdout",
     "output_type": "stream",
     "text": [
      "              precision    recall  f1-score   support\n",
      "\n",
      "         GCR       0.43      0.44      0.44        27\n",
      "        Vert       0.53      0.52      0.52        33\n",
      "\n",
      "    accuracy                           0.48        60\n",
      "   macro avg       0.48      0.48      0.48        60\n",
      "weighted avg       0.49      0.48      0.48        60\n",
      "\n"
     ]
    }
   ],
   "source": [
    "from sklearn.metrics import classification_report\n",
    "print(classification_report(y_val, y_pred, target_names=my_tags))"
   ]
  },
  {
   "cell_type": "markdown",
   "metadata": {},
   "source": [
    "##### Weighted Linear SVM"
   ]
  },
  {
   "cell_type": "code",
   "execution_count": 236,
   "metadata": {
    "ExecuteTime": {
     "end_time": "2020-04-08T19:41:51.824099Z",
     "start_time": "2020-04-08T19:41:51.813107Z"
    },
    "scrolled": true
   },
   "outputs": [
    {
     "data": {
      "text/plain": [
       "SVC(C=1.0, break_ties=False, cache_size=200, class_weight='balanced', coef0=0.0,\n",
       "    decision_function_shape='ovr', degree=3, gamma='scale', kernel='linear',\n",
       "    max_iter=-1, probability=False, random_state=None, shrinking=True,\n",
       "    tol=0.001, verbose=False)"
      ]
     },
     "execution_count": 236,
     "metadata": {},
     "output_type": "execute_result"
    }
   ],
   "source": [
    "clf_balanced_class_weight = SVC(kernel='linear', class_weight='balanced')\n",
    "clf_balanced_class_weight.fit(X_train_combined_V_sg, y_train)"
   ]
  },
  {
   "cell_type": "code",
   "execution_count": 237,
   "metadata": {
    "ExecuteTime": {
     "end_time": "2020-04-08T19:41:52.023988Z",
     "start_time": "2020-04-08T19:41:52.018990Z"
    }
   },
   "outputs": [],
   "source": [
    "y_pred_balanced_class_weight = clf_balanced_class_weight.predict(\n",
    "    X_val_combined_V_sg)"
   ]
  },
  {
   "cell_type": "code",
   "execution_count": 238,
   "metadata": {
    "ExecuteTime": {
     "end_time": "2020-04-08T19:41:52.220873Z",
     "start_time": "2020-04-08T19:41:52.214876Z"
    }
   },
   "outputs": [
    {
     "name": "stdout",
     "output_type": "stream",
     "text": [
      "SVM Accuracy Score ->  48.333333333333336\n"
     ]
    }
   ],
   "source": [
    "print(\"SVM Accuracy Score -> \",\n",
    "      accuracy_score(y_pred_balanced_class_weight, y_val) * 100)"
   ]
  },
  {
   "cell_type": "code",
   "execution_count": 239,
   "metadata": {
    "ExecuteTime": {
     "end_time": "2020-04-08T19:41:52.429754Z",
     "start_time": "2020-04-08T19:41:52.418760Z"
    },
    "scrolled": true
   },
   "outputs": [
    {
     "name": "stdout",
     "output_type": "stream",
     "text": [
      "              precision    recall  f1-score   support\n",
      "\n",
      "         GCR       0.43      0.44      0.44        27\n",
      "        Vert       0.53      0.52      0.52        33\n",
      "\n",
      "    accuracy                           0.48        60\n",
      "   macro avg       0.48      0.48      0.48        60\n",
      "weighted avg       0.49      0.48      0.48        60\n",
      "\n"
     ]
    }
   ],
   "source": [
    "from sklearn.metrics import classification_report\n",
    "print(\n",
    "    classification_report(y_val,\n",
    "                          y_pred_balanced_class_weight,\n",
    "                          target_names=my_tags))"
   ]
  },
  {
   "cell_type": "markdown",
   "metadata": {},
   "source": [
    "##### SVC with 'rbf' kernel"
   ]
  },
  {
   "cell_type": "code",
   "execution_count": 240,
   "metadata": {
    "ExecuteTime": {
     "end_time": "2020-04-08T19:41:53.287263Z",
     "start_time": "2020-04-08T19:41:53.283266Z"
    }
   },
   "outputs": [],
   "source": [
    "X = X_train_combined_V_sg\n",
    "Y = y_train"
   ]
  },
  {
   "cell_type": "code",
   "execution_count": 241,
   "metadata": {
    "ExecuteTime": {
     "end_time": "2020-04-08T19:41:53.503139Z",
     "start_time": "2020-04-08T19:41:53.500141Z"
    }
   },
   "outputs": [],
   "source": [
    "# It is usually a good idea to scale the data for SVM training.\n",
    "# We are cheating a bit in this example in scaling all of the data,\n",
    "# instead of fitting the transformation on the trainingset and\n",
    "# just applying it on the test set.\n",
    "\n",
    "# scaler = StandardScaler()\n",
    "# X = scaler.fit_transform(X_train_updated_google)"
   ]
  },
  {
   "cell_type": "code",
   "execution_count": 242,
   "metadata": {
    "ExecuteTime": {
     "end_time": "2020-04-08T19:41:58.341499Z",
     "start_time": "2020-04-08T19:41:53.709021Z"
    }
   },
   "outputs": [
    {
     "data": {
      "text/plain": [
       "GridSearchCV(cv=StratifiedKFold(n_splits=10, random_state=None, shuffle=False),\n",
       "             error_score=nan,\n",
       "             estimator=SVC(C=1.0, break_ties=False, cache_size=200,\n",
       "                           class_weight=None, coef0=0.0,\n",
       "                           decision_function_shape='ovr', degree=3,\n",
       "                           gamma='scale', kernel='rbf', max_iter=-1,\n",
       "                           probability=False, random_state=None, shrinking=True,\n",
       "                           tol=0.001, verbose=False),\n",
       "             iid='deprecated', n_jobs...\n",
       "       3.20000e+01, 1.28000e+02, 5.12000e+02, 2.04800e+03, 8.19200e+03,\n",
       "       3.27680e+04, 1.31072e+05]),\n",
       "                         'gamma': array([7.62939453e-06, 3.05175781e-05, 1.22070312e-04, 4.88281250e-04,\n",
       "       1.95312500e-03, 7.81250000e-03, 3.12500000e-02, 1.25000000e-01,\n",
       "       5.00000000e-01, 2.00000000e+00, 8.00000000e+00])},\n",
       "             pre_dispatch='2*n_jobs', refit=True, return_train_score=False,\n",
       "             scoring=None, verbose=0)"
      ]
     },
     "execution_count": 242,
     "metadata": {},
     "output_type": "execute_result"
    }
   ],
   "source": [
    "C_range = 2. ** np.arange(-5, 18, 2)\n",
    "gamma_range = 2. ** np.arange(-17, 4, 2)\n",
    "param_grid = dict(gamma=gamma_range, C=C_range)\n",
    "grid = GridSearchCV(SVC(), param_grid=param_grid,\n",
    "                    cv=StratifiedKFold(n_splits=10))\n",
    "grid.fit(X, Y)"
   ]
  },
  {
   "cell_type": "code",
   "execution_count": 243,
   "metadata": {
    "ExecuteTime": {
     "end_time": "2020-04-08T19:41:58.350360Z",
     "start_time": "2020-04-08T19:41:58.344362Z"
    }
   },
   "outputs": [
    {
     "data": {
      "text/plain": [
       "{'gamma': array([7.62939453e-06, 3.05175781e-05, 1.22070312e-04, 4.88281250e-04,\n",
       "        1.95312500e-03, 7.81250000e-03, 3.12500000e-02, 1.25000000e-01,\n",
       "        5.00000000e-01, 2.00000000e+00, 8.00000000e+00]),\n",
       " 'C': array([3.12500e-02, 1.25000e-01, 5.00000e-01, 2.00000e+00, 8.00000e+00,\n",
       "        3.20000e+01, 1.28000e+02, 5.12000e+02, 2.04800e+03, 8.19200e+03,\n",
       "        3.27680e+04, 1.31072e+05])}"
      ]
     },
     "execution_count": 243,
     "metadata": {},
     "output_type": "execute_result"
    }
   ],
   "source": [
    "param_grid"
   ]
  },
  {
   "cell_type": "code",
   "execution_count": 244,
   "metadata": {
    "ExecuteTime": {
     "end_time": "2020-04-08T19:41:58.365349Z",
     "start_time": "2020-04-08T19:41:58.353357Z"
    }
   },
   "outputs": [
    {
     "name": "stdout",
     "output_type": "stream",
     "text": [
      "The best classifier is:  SVC(C=2.0, break_ties=False, cache_size=200, class_weight=None, coef0=0.0,\n",
      "    decision_function_shape='ovr', degree=3, gamma=0.125, kernel='rbf',\n",
      "    max_iter=-1, probability=False, random_state=None, shrinking=True,\n",
      "    tol=0.001, verbose=False)\n"
     ]
    }
   ],
   "source": [
    "print(\"The best classifier is: \", grid.best_estimator_)"
   ]
  },
  {
   "cell_type": "code",
   "execution_count": 245,
   "metadata": {
    "ExecuteTime": {
     "end_time": "2020-04-08T19:41:58.376345Z",
     "start_time": "2020-04-08T19:41:58.367348Z"
    }
   },
   "outputs": [
    {
     "name": "stdout",
     "output_type": "stream",
     "text": [
      "The best parameters are {'C': 2.0, 'gamma': 0.125} with a score of 0.62\n"
     ]
    }
   ],
   "source": [
    "print(\"The best parameters are %s with a score of %0.2f\"\n",
    "      % (grid.best_params_, grid.best_score_))"
   ]
  },
  {
   "cell_type": "code",
   "execution_count": 246,
   "metadata": {
    "ExecuteTime": {
     "end_time": "2020-04-08T19:41:58.393335Z",
     "start_time": "2020-04-08T19:41:58.378342Z"
    }
   },
   "outputs": [
    {
     "data": {
      "text/plain": [
       "SVC(C=2.0, break_ties=False, cache_size=200, class_weight=None, coef0=0.0,\n",
       "    decision_function_shape='ovr', degree=3, gamma=0.125, kernel='rbf',\n",
       "    max_iter=-1, probability=False, random_state=None, shrinking=True,\n",
       "    tol=0.001, verbose=False)"
      ]
     },
     "execution_count": 246,
     "metadata": {},
     "output_type": "execute_result"
    }
   ],
   "source": [
    "clf = grid.best_estimator_\n",
    "clf.fit(X, Y)"
   ]
  },
  {
   "cell_type": "code",
   "execution_count": 247,
   "metadata": {
    "ExecuteTime": {
     "end_time": "2020-04-08T19:41:58.403327Z",
     "start_time": "2020-04-08T19:41:58.395332Z"
    }
   },
   "outputs": [],
   "source": [
    "y_pred = clf.predict(X_val_combined_V_sg)"
   ]
  },
  {
   "cell_type": "code",
   "execution_count": 248,
   "metadata": {
    "ExecuteTime": {
     "end_time": "2020-04-08T19:41:58.413323Z",
     "start_time": "2020-04-08T19:41:58.405326Z"
    }
   },
   "outputs": [
    {
     "name": "stdout",
     "output_type": "stream",
     "text": [
      "('SVM Accuracy Score -> ', 41.66666666666667)\n"
     ]
    }
   ],
   "source": [
    "print((\"SVM Accuracy Score -> \", accuracy_score(y_pred, y_val) * 100))"
   ]
  },
  {
   "cell_type": "code",
   "execution_count": 249,
   "metadata": {
    "ExecuteTime": {
     "end_time": "2020-04-08T19:41:58.432312Z",
     "start_time": "2020-04-08T19:41:58.416320Z"
    },
    "scrolled": true
   },
   "outputs": [
    {
     "name": "stdout",
     "output_type": "stream",
     "text": [
      "              precision    recall  f1-score   support\n",
      "\n",
      "         GCR       0.42      0.78      0.55        27\n",
      "        Vert       0.40      0.12      0.19        33\n",
      "\n",
      "    accuracy                           0.42        60\n",
      "   macro avg       0.41      0.45      0.37        60\n",
      "weighted avg       0.41      0.42      0.35        60\n",
      "\n"
     ]
    }
   ],
   "source": [
    "from sklearn.metrics import classification_report\n",
    "print((classification_report(y_val, y_pred, target_names=my_tags)))"
   ]
  },
  {
   "cell_type": "markdown",
   "metadata": {},
   "source": [
    "##### Weighted SVC with 'rbf' kernel "
   ]
  },
  {
   "cell_type": "code",
   "execution_count": 250,
   "metadata": {
    "ExecuteTime": {
     "end_time": "2020-04-08T19:41:58.439307Z",
     "start_time": "2020-04-08T19:41:58.434309Z"
    }
   },
   "outputs": [],
   "source": [
    "X = X_train_combined_V_sg\n",
    "Y = y_train"
   ]
  },
  {
   "cell_type": "code",
   "execution_count": 251,
   "metadata": {
    "ExecuteTime": {
     "end_time": "2020-04-08T19:41:58.451300Z",
     "start_time": "2020-04-08T19:41:58.442306Z"
    }
   },
   "outputs": [],
   "source": [
    "# It is usually a good idea to scale the data for SVM training.\n",
    "# We are cheating a bit in this example in scaling all of the data,\n",
    "# instead of fitting the transformation on the trainingset and\n",
    "# just applying it on the test set.\n",
    "\n",
    "# scaler = StandardScaler()\n",
    "# X = scaler.fit_transform(X_train_updated_google)"
   ]
  },
  {
   "cell_type": "code",
   "execution_count": 252,
   "metadata": {
    "ExecuteTime": {
     "end_time": "2020-04-08T19:42:03.854322Z",
     "start_time": "2020-04-08T19:41:59.650733Z"
    }
   },
   "outputs": [
    {
     "data": {
      "text/plain": [
       "GridSearchCV(cv=StratifiedKFold(n_splits=10, random_state=None, shuffle=False),\n",
       "             error_score=nan,\n",
       "             estimator=SVC(C=1.0, break_ties=False, cache_size=200,\n",
       "                           class_weight=None, coef0=0.0,\n",
       "                           decision_function_shape='ovr', degree=3,\n",
       "                           gamma='scale', kernel='rbf', max_iter=-1,\n",
       "                           probability=False, random_state=None, shrinking=True,\n",
       "                           tol=0.001, verbose=False),\n",
       "             iid='deprecated', n_jobs...\n",
       "       3.20000e+01, 1.28000e+02, 5.12000e+02, 2.04800e+03, 8.19200e+03,\n",
       "       3.27680e+04, 1.31072e+05]),\n",
       "                         'gamma': array([7.62939453e-06, 3.05175781e-05, 1.22070312e-04, 4.88281250e-04,\n",
       "       1.95312500e-03, 7.81250000e-03, 3.12500000e-02, 1.25000000e-01,\n",
       "       5.00000000e-01, 2.00000000e+00, 8.00000000e+00])},\n",
       "             pre_dispatch='2*n_jobs', refit=True, return_train_score=False,\n",
       "             scoring=None, verbose=0)"
      ]
     },
     "execution_count": 252,
     "metadata": {},
     "output_type": "execute_result"
    }
   ],
   "source": [
    "C_range = 2. ** np.arange(-5, 18, 2)\n",
    "gamma_range = 2. ** np.arange(-17, 4, 2)\n",
    "param_grid = dict(gamma=gamma_range, C=C_range)\n",
    "grid = GridSearchCV(SVC(), param_grid=param_grid,\n",
    "                    cv=StratifiedKFold(n_splits=10))\n",
    "grid.fit(X, Y)"
   ]
  },
  {
   "cell_type": "code",
   "execution_count": 253,
   "metadata": {
    "ExecuteTime": {
     "end_time": "2020-04-08T19:42:03.863319Z",
     "start_time": "2020-04-08T19:42:03.856321Z"
    }
   },
   "outputs": [
    {
     "data": {
      "text/plain": [
       "{'gamma': array([7.62939453e-06, 3.05175781e-05, 1.22070312e-04, 4.88281250e-04,\n",
       "        1.95312500e-03, 7.81250000e-03, 3.12500000e-02, 1.25000000e-01,\n",
       "        5.00000000e-01, 2.00000000e+00, 8.00000000e+00]),\n",
       " 'C': array([3.12500e-02, 1.25000e-01, 5.00000e-01, 2.00000e+00, 8.00000e+00,\n",
       "        3.20000e+01, 1.28000e+02, 5.12000e+02, 2.04800e+03, 8.19200e+03,\n",
       "        3.27680e+04, 1.31072e+05])}"
      ]
     },
     "execution_count": 253,
     "metadata": {},
     "output_type": "execute_result"
    }
   ],
   "source": [
    "param_grid"
   ]
  },
  {
   "cell_type": "code",
   "execution_count": 254,
   "metadata": {
    "ExecuteTime": {
     "end_time": "2020-04-08T19:42:03.876310Z",
     "start_time": "2020-04-08T19:42:03.866315Z"
    }
   },
   "outputs": [
    {
     "name": "stdout",
     "output_type": "stream",
     "text": [
      "The best classifier is:  SVC(C=2.0, break_ties=False, cache_size=200, class_weight=None, coef0=0.0,\n",
      "    decision_function_shape='ovr', degree=3, gamma=0.125, kernel='rbf',\n",
      "    max_iter=-1, probability=False, random_state=None, shrinking=True,\n",
      "    tol=0.001, verbose=False)\n"
     ]
    }
   ],
   "source": [
    "print(\"The best classifier is: \", grid.best_estimator_)"
   ]
  },
  {
   "cell_type": "code",
   "execution_count": 255,
   "metadata": {
    "ExecuteTime": {
     "end_time": "2020-04-08T19:42:03.888304Z",
     "start_time": "2020-04-08T19:42:03.879309Z"
    }
   },
   "outputs": [
    {
     "name": "stdout",
     "output_type": "stream",
     "text": [
      "The best parameters are {'C': 2.0, 'gamma': 0.125} with a score of 0.62\n"
     ]
    }
   ],
   "source": [
    "print(\"The best parameters are %s with a score of %0.2f\"\n",
    "      % (grid.best_params_, grid.best_score_))"
   ]
  },
  {
   "cell_type": "code",
   "execution_count": 256,
   "metadata": {
    "ExecuteTime": {
     "end_time": "2020-04-08T19:42:03.904295Z",
     "start_time": "2020-04-08T19:42:03.890301Z"
    }
   },
   "outputs": [
    {
     "data": {
      "text/plain": [
       "SVC(C=32.0, break_ties=False, cache_size=200, class_weight='balanced',\n",
       "    coef0=0.0, decision_function_shape='ovr', degree=3, gamma=0.03125,\n",
       "    kernel='rbf', max_iter=-1, probability=False, random_state=None,\n",
       "    shrinking=True, tol=0.001, verbose=False)"
      ]
     },
     "execution_count": 256,
     "metadata": {},
     "output_type": "execute_result"
    }
   ],
   "source": [
    "clf = SVC(C=32.0, class_weight='balanced', gamma=0.03125, kernel='rbf')\n",
    "clf.fit(X, Y)"
   ]
  },
  {
   "cell_type": "code",
   "execution_count": 257,
   "metadata": {
    "ExecuteTime": {
     "end_time": "2020-04-08T19:42:03.913290Z",
     "start_time": "2020-04-08T19:42:03.906292Z"
    }
   },
   "outputs": [],
   "source": [
    "y_pred = clf.predict(X_val_combined_V_sg)"
   ]
  },
  {
   "cell_type": "code",
   "execution_count": 258,
   "metadata": {
    "ExecuteTime": {
     "end_time": "2020-04-08T19:42:03.925283Z",
     "start_time": "2020-04-08T19:42:03.915287Z"
    }
   },
   "outputs": [
    {
     "name": "stdout",
     "output_type": "stream",
     "text": [
      "('SVM Accuracy Score -> ', 50.0)\n"
     ]
    }
   ],
   "source": [
    "print((\"SVM Accuracy Score -> \", accuracy_score(y_pred, y_val) * 100))"
   ]
  },
  {
   "cell_type": "code",
   "execution_count": 259,
   "metadata": {
    "ExecuteTime": {
     "end_time": "2020-04-08T19:42:05.476452Z",
     "start_time": "2020-04-08T19:42:05.464444Z"
    },
    "scrolled": false
   },
   "outputs": [
    {
     "name": "stdout",
     "output_type": "stream",
     "text": [
      "              precision    recall  f1-score   support\n",
      "\n",
      "         GCR       0.45      0.52      0.48        27\n",
      "        Vert       0.55      0.48      0.52        33\n",
      "\n",
      "    accuracy                           0.50        60\n",
      "   macro avg       0.50      0.50      0.50        60\n",
      "weighted avg       0.51      0.50      0.50        60\n",
      "\n"
     ]
    }
   ],
   "source": [
    "from sklearn.metrics import classification_report\n",
    "print((classification_report(y_val, y_pred, target_names=my_tags)))"
   ]
  },
  {
   "cell_type": "markdown",
   "metadata": {},
   "source": [
    "##### Logistice regression"
   ]
  },
  {
   "cell_type": "code",
   "execution_count": 260,
   "metadata": {
    "ExecuteTime": {
     "end_time": "2020-04-08T19:42:07.109773Z",
     "start_time": "2020-04-08T19:42:07.077792Z"
    },
    "scrolled": true
   },
   "outputs": [
    {
     "name": "stdout",
     "output_type": "stream",
     "text": [
      "accuracy 0.5\n",
      "              precision    recall  f1-score   support\n",
      "\n",
      "         GCR       0.45      0.48      0.46        27\n",
      "        Vert       0.55      0.52      0.53        33\n",
      "\n",
      "    accuracy                           0.50        60\n",
      "   macro avg       0.50      0.50      0.50        60\n",
      "weighted avg       0.50      0.50      0.50        60\n",
      "\n"
     ]
    }
   ],
   "source": [
    "from sklearn.linear_model import LogisticRegression\n",
    "logreg = LogisticRegression(n_jobs=1, C=1e5)\n",
    "logreg = logreg.fit(X_train_combined_V_sg, y_train)\n",
    "y_pred = logreg.predict(X_val_combined_V_sg)\n",
    "print('accuracy %s' % accuracy_score(y_pred, y_val))\n",
    "print(classification_report(y_val, y_pred, target_names=my_tags))"
   ]
  },
  {
   "cell_type": "markdown",
   "metadata": {},
   "source": [
    "##### Weighted logistice regression"
   ]
  },
  {
   "cell_type": "code",
   "execution_count": 261,
   "metadata": {
    "ExecuteTime": {
     "end_time": "2020-04-08T19:42:08.322095Z",
     "start_time": "2020-04-08T19:42:08.289115Z"
    },
    "scrolled": false
   },
   "outputs": [
    {
     "name": "stdout",
     "output_type": "stream",
     "text": [
      "accuracy 0.5\n",
      "              precision    recall  f1-score   support\n",
      "\n",
      "         GCR       0.45      0.52      0.48        27\n",
      "        Vert       0.55      0.48      0.52        33\n",
      "\n",
      "    accuracy                           0.50        60\n",
      "   macro avg       0.50      0.50      0.50        60\n",
      "weighted avg       0.51      0.50      0.50        60\n",
      "\n"
     ]
    }
   ],
   "source": [
    "from sklearn.linear_model import LogisticRegression\n",
    "logreg = LogisticRegression(n_jobs=1, C=1e5, class_weight='balanced')\n",
    "logreg = logreg.fit(X_train_combined_V_sg, y_train)\n",
    "y_pred = logreg.predict(X_val_combined_V_sg)\n",
    "print('accuracy %s' % accuracy_score(y_pred, y_val))\n",
    "print(classification_report(y_val, y_pred, target_names=my_tags))"
   ]
  },
  {
   "cell_type": "markdown",
   "metadata": {},
   "source": [
    "#### _VPC"
   ]
  },
  {
   "cell_type": "markdown",
   "metadata": {},
   "source": [
    "##### Linear SVM"
   ]
  },
  {
   "cell_type": "code",
   "execution_count": 262,
   "metadata": {
    "ExecuteTime": {
     "end_time": "2020-04-08T19:42:10.349546Z",
     "start_time": "2020-04-08T19:42:10.339553Z"
    },
    "scrolled": true
   },
   "outputs": [
    {
     "data": {
      "text/plain": [
       "SVC(C=1.0, break_ties=False, cache_size=200, class_weight=None, coef0=0.0,\n",
       "    decision_function_shape='ovr', degree=3, gamma='scale', kernel='linear',\n",
       "    max_iter=-1, probability=False, random_state=None, shrinking=True,\n",
       "    tol=0.001, verbose=False)"
      ]
     },
     "execution_count": 262,
     "metadata": {},
     "output_type": "execute_result"
    }
   ],
   "source": [
    "clf = SVC(kernel='linear')\n",
    "clf.fit(X_train_combined_VPC_sg, y_train)"
   ]
  },
  {
   "cell_type": "code",
   "execution_count": 263,
   "metadata": {
    "ExecuteTime": {
     "end_time": "2020-04-08T19:42:10.977347Z",
     "start_time": "2020-04-08T19:42:10.971350Z"
    }
   },
   "outputs": [],
   "source": [
    "y_pred = clf.predict(X_val_combined_VPC_sg)"
   ]
  },
  {
   "cell_type": "code",
   "execution_count": 264,
   "metadata": {
    "ExecuteTime": {
     "end_time": "2020-04-08T19:42:11.461068Z",
     "start_time": "2020-04-08T19:42:11.456073Z"
    }
   },
   "outputs": [
    {
     "name": "stdout",
     "output_type": "stream",
     "text": [
      "SVM Accuracy Score ->  51.66666666666667\n"
     ]
    }
   ],
   "source": [
    "print(\"SVM Accuracy Score -> \", accuracy_score(y_pred, y_val) * 100)"
   ]
  },
  {
   "cell_type": "code",
   "execution_count": 265,
   "metadata": {
    "ExecuteTime": {
     "end_time": "2020-04-08T19:42:12.130732Z",
     "start_time": "2020-04-08T19:42:12.119739Z"
    }
   },
   "outputs": [
    {
     "name": "stdout",
     "output_type": "stream",
     "text": [
      "              precision    recall  f1-score   support\n",
      "\n",
      "         GCR       0.48      0.78      0.59        27\n",
      "        Vert       0.62      0.30      0.41        33\n",
      "\n",
      "    accuracy                           0.52        60\n",
      "   macro avg       0.55      0.54      0.50        60\n",
      "weighted avg       0.56      0.52      0.49        60\n",
      "\n"
     ]
    }
   ],
   "source": [
    "from sklearn.metrics import classification_report\n",
    "print(classification_report(y_val, y_pred, target_names=my_tags))"
   ]
  },
  {
   "cell_type": "markdown",
   "metadata": {},
   "source": [
    "##### Weighted Linear SVM"
   ]
  },
  {
   "cell_type": "code",
   "execution_count": 266,
   "metadata": {
    "ExecuteTime": {
     "end_time": "2020-04-08T19:42:13.275327Z",
     "start_time": "2020-04-08T19:42:13.265315Z"
    },
    "scrolled": true
   },
   "outputs": [
    {
     "data": {
      "text/plain": [
       "SVC(C=1.0, break_ties=False, cache_size=200, class_weight='balanced', coef0=0.0,\n",
       "    decision_function_shape='ovr', degree=3, gamma='scale', kernel='linear',\n",
       "    max_iter=-1, probability=False, random_state=None, shrinking=True,\n",
       "    tol=0.001, verbose=False)"
      ]
     },
     "execution_count": 266,
     "metadata": {},
     "output_type": "execute_result"
    }
   ],
   "source": [
    "clf_balanced_class_weight = SVC(kernel='linear', class_weight='balanced')\n",
    "clf_balanced_class_weight.fit(X_train_combined_VPC_sg, y_train)"
   ]
  },
  {
   "cell_type": "code",
   "execution_count": 267,
   "metadata": {
    "ExecuteTime": {
     "end_time": "2020-04-08T19:42:13.911016Z",
     "start_time": "2020-04-08T19:42:13.906018Z"
    }
   },
   "outputs": [],
   "source": [
    "y_pred_balanced_class_weight = clf_balanced_class_weight.predict(\n",
    "    X_val_combined_VPC_sg)"
   ]
  },
  {
   "cell_type": "code",
   "execution_count": 268,
   "metadata": {
    "ExecuteTime": {
     "end_time": "2020-04-08T19:42:14.328795Z",
     "start_time": "2020-04-08T19:42:14.322779Z"
    }
   },
   "outputs": [
    {
     "name": "stdout",
     "output_type": "stream",
     "text": [
      "SVM Accuracy Score ->  53.333333333333336\n"
     ]
    }
   ],
   "source": [
    "print(\"SVM Accuracy Score -> \",\n",
    "      accuracy_score(y_pred_balanced_class_weight, y_val) * 100)"
   ]
  },
  {
   "cell_type": "code",
   "execution_count": 269,
   "metadata": {
    "ExecuteTime": {
     "end_time": "2020-04-08T19:42:14.981842Z",
     "start_time": "2020-04-08T19:42:14.970848Z"
    },
    "scrolled": true
   },
   "outputs": [
    {
     "name": "stdout",
     "output_type": "stream",
     "text": [
      "              precision    recall  f1-score   support\n",
      "\n",
      "         GCR       0.49      0.74      0.59        27\n",
      "        Vert       0.63      0.36      0.46        33\n",
      "\n",
      "    accuracy                           0.53        60\n",
      "   macro avg       0.56      0.55      0.52        60\n",
      "weighted avg       0.57      0.53      0.52        60\n",
      "\n"
     ]
    }
   ],
   "source": [
    "from sklearn.metrics import classification_report\n",
    "print(\n",
    "    classification_report(y_val,\n",
    "                          y_pred_balanced_class_weight,\n",
    "                          target_names=my_tags))"
   ]
  },
  {
   "cell_type": "markdown",
   "metadata": {},
   "source": [
    "##### SVC with 'rbf' kernel"
   ]
  },
  {
   "cell_type": "code",
   "execution_count": 270,
   "metadata": {
    "ExecuteTime": {
     "end_time": "2020-04-08T19:42:16.081252Z",
     "start_time": "2020-04-08T19:42:16.077255Z"
    }
   },
   "outputs": [],
   "source": [
    "X = X_train_combined_VPC_sg\n",
    "Y = y_train"
   ]
  },
  {
   "cell_type": "code",
   "execution_count": 271,
   "metadata": {
    "ExecuteTime": {
     "end_time": "2020-04-08T19:42:16.740182Z",
     "start_time": "2020-04-08T19:42:16.735185Z"
    }
   },
   "outputs": [],
   "source": [
    "# It is usually a good idea to scale the data for SVM training.\n",
    "# We are cheating a bit in this example in scaling all of the data,\n",
    "# instead of fitting the transformation on the trainingset and\n",
    "# just applying it on the test set.\n",
    "\n",
    "# scaler = StandardScaler()\n",
    "# X = scaler.fit_transform(X_train_updated_google)"
   ]
  },
  {
   "cell_type": "code",
   "execution_count": 272,
   "metadata": {
    "ExecuteTime": {
     "end_time": "2020-04-08T19:42:25.650941Z",
     "start_time": "2020-04-08T19:42:21.425364Z"
    }
   },
   "outputs": [
    {
     "data": {
      "text/plain": [
       "GridSearchCV(cv=StratifiedKFold(n_splits=10, random_state=None, shuffle=False),\n",
       "             error_score=nan,\n",
       "             estimator=SVC(C=1.0, break_ties=False, cache_size=200,\n",
       "                           class_weight=None, coef0=0.0,\n",
       "                           decision_function_shape='ovr', degree=3,\n",
       "                           gamma='scale', kernel='rbf', max_iter=-1,\n",
       "                           probability=False, random_state=None, shrinking=True,\n",
       "                           tol=0.001, verbose=False),\n",
       "             iid='deprecated', n_jobs...\n",
       "       3.20000e+01, 1.28000e+02, 5.12000e+02, 2.04800e+03, 8.19200e+03,\n",
       "       3.27680e+04, 1.31072e+05]),\n",
       "                         'gamma': array([7.62939453e-06, 3.05175781e-05, 1.22070312e-04, 4.88281250e-04,\n",
       "       1.95312500e-03, 7.81250000e-03, 3.12500000e-02, 1.25000000e-01,\n",
       "       5.00000000e-01, 2.00000000e+00, 8.00000000e+00])},\n",
       "             pre_dispatch='2*n_jobs', refit=True, return_train_score=False,\n",
       "             scoring=None, verbose=0)"
      ]
     },
     "execution_count": 272,
     "metadata": {},
     "output_type": "execute_result"
    }
   ],
   "source": [
    "C_range = 2. ** np.arange(-5, 18, 2)\n",
    "gamma_range = 2. ** np.arange(-17, 4, 2)\n",
    "param_grid = dict(gamma=gamma_range, C=C_range)\n",
    "grid = GridSearchCV(SVC(), param_grid=param_grid,\n",
    "                    cv=StratifiedKFold(n_splits=10))\n",
    "grid.fit(X, Y)"
   ]
  },
  {
   "cell_type": "code",
   "execution_count": 273,
   "metadata": {
    "ExecuteTime": {
     "end_time": "2020-04-08T19:42:25.661934Z",
     "start_time": "2020-04-08T19:42:25.653940Z"
    }
   },
   "outputs": [
    {
     "data": {
      "text/plain": [
       "{'gamma': array([7.62939453e-06, 3.05175781e-05, 1.22070312e-04, 4.88281250e-04,\n",
       "        1.95312500e-03, 7.81250000e-03, 3.12500000e-02, 1.25000000e-01,\n",
       "        5.00000000e-01, 2.00000000e+00, 8.00000000e+00]),\n",
       " 'C': array([3.12500e-02, 1.25000e-01, 5.00000e-01, 2.00000e+00, 8.00000e+00,\n",
       "        3.20000e+01, 1.28000e+02, 5.12000e+02, 2.04800e+03, 8.19200e+03,\n",
       "        3.27680e+04, 1.31072e+05])}"
      ]
     },
     "execution_count": 273,
     "metadata": {},
     "output_type": "execute_result"
    }
   ],
   "source": [
    "param_grid"
   ]
  },
  {
   "cell_type": "code",
   "execution_count": 274,
   "metadata": {
    "ExecuteTime": {
     "end_time": "2020-04-08T19:42:25.673930Z",
     "start_time": "2020-04-08T19:42:25.665933Z"
    }
   },
   "outputs": [
    {
     "name": "stdout",
     "output_type": "stream",
     "text": [
      "The best classifier is:  SVC(C=8.0, break_ties=False, cache_size=200, class_weight=None, coef0=0.0,\n",
      "    decision_function_shape='ovr', degree=3, gamma=0.0078125, kernel='rbf',\n",
      "    max_iter=-1, probability=False, random_state=None, shrinking=True,\n",
      "    tol=0.001, verbose=False)\n"
     ]
    }
   ],
   "source": [
    "print(\"The best classifier is: \", grid.best_estimator_)"
   ]
  },
  {
   "cell_type": "code",
   "execution_count": 275,
   "metadata": {
    "ExecuteTime": {
     "end_time": "2020-04-08T19:42:25.685923Z",
     "start_time": "2020-04-08T19:42:25.676926Z"
    }
   },
   "outputs": [
    {
     "name": "stdout",
     "output_type": "stream",
     "text": [
      "The best parameters are {'C': 8.0, 'gamma': 0.0078125} with a score of 0.63\n"
     ]
    }
   ],
   "source": [
    "print(\"The best parameters are %s with a score of %0.2f\"\n",
    "      % (grid.best_params_, grid.best_score_))"
   ]
  },
  {
   "cell_type": "code",
   "execution_count": 276,
   "metadata": {
    "ExecuteTime": {
     "end_time": "2020-04-08T19:42:25.703911Z",
     "start_time": "2020-04-08T19:42:25.688920Z"
    }
   },
   "outputs": [
    {
     "data": {
      "text/plain": [
       "SVC(C=8.0, break_ties=False, cache_size=200, class_weight=None, coef0=0.0,\n",
       "    decision_function_shape='ovr', degree=3, gamma=0.0078125, kernel='rbf',\n",
       "    max_iter=-1, probability=False, random_state=None, shrinking=True,\n",
       "    tol=0.001, verbose=False)"
      ]
     },
     "execution_count": 276,
     "metadata": {},
     "output_type": "execute_result"
    }
   ],
   "source": [
    "clf = grid.best_estimator_\n",
    "clf.fit(X, Y)"
   ]
  },
  {
   "cell_type": "code",
   "execution_count": 277,
   "metadata": {
    "ExecuteTime": {
     "end_time": "2020-04-08T19:42:25.712906Z",
     "start_time": "2020-04-08T19:42:25.705909Z"
    }
   },
   "outputs": [],
   "source": [
    "y_pred = clf.predict(X_val_combined_VPC_sg)"
   ]
  },
  {
   "cell_type": "code",
   "execution_count": 278,
   "metadata": {
    "ExecuteTime": {
     "end_time": "2020-04-08T19:42:25.837834Z",
     "start_time": "2020-04-08T19:42:25.831838Z"
    }
   },
   "outputs": [
    {
     "name": "stdout",
     "output_type": "stream",
     "text": [
      "('SVM Accuracy Score -> ', 46.666666666666664)\n"
     ]
    }
   ],
   "source": [
    "print((\"SVM Accuracy Score -> \", accuracy_score(y_pred, y_val) * 100))"
   ]
  },
  {
   "cell_type": "code",
   "execution_count": 279,
   "metadata": {
    "ExecuteTime": {
     "end_time": "2020-04-08T19:42:27.812581Z",
     "start_time": "2020-04-08T19:42:27.800571Z"
    },
    "scrolled": true
   },
   "outputs": [
    {
     "name": "stdout",
     "output_type": "stream",
     "text": [
      "              precision    recall  f1-score   support\n",
      "\n",
      "         GCR       0.45      0.89      0.60        27\n",
      "        Vert       0.57      0.12      0.20        33\n",
      "\n",
      "    accuracy                           0.47        60\n",
      "   macro avg       0.51      0.51      0.40        60\n",
      "weighted avg       0.52      0.47      0.38        60\n",
      "\n"
     ]
    }
   ],
   "source": [
    "from sklearn.metrics import classification_report\n",
    "print((classification_report(y_val, y_pred, target_names=my_tags)))"
   ]
  },
  {
   "cell_type": "markdown",
   "metadata": {},
   "source": [
    "##### Weighted SVC with 'rbf' kernel "
   ]
  },
  {
   "cell_type": "code",
   "execution_count": 280,
   "metadata": {
    "ExecuteTime": {
     "end_time": "2020-04-08T19:42:34.326721Z",
     "start_time": "2020-04-08T19:42:34.322724Z"
    }
   },
   "outputs": [],
   "source": [
    "X = X_train_combined_VPC_sg\n",
    "Y = y_train"
   ]
  },
  {
   "cell_type": "code",
   "execution_count": 281,
   "metadata": {
    "ExecuteTime": {
     "end_time": "2020-04-08T19:42:34.967643Z",
     "start_time": "2020-04-08T19:42:34.964645Z"
    }
   },
   "outputs": [],
   "source": [
    "# It is usually a good idea to scale the data for SVM training.\n",
    "# We are cheating a bit in this example in scaling all of the data,\n",
    "# instead of fitting the transformation on the trainingset and\n",
    "# just applying it on the test set.\n",
    "\n",
    "# scaler = StandardScaler()\n",
    "# X = scaler.fit_transform(X_train_updated_google)"
   ]
  },
  {
   "cell_type": "code",
   "execution_count": 282,
   "metadata": {
    "ExecuteTime": {
     "end_time": "2020-04-08T19:42:39.717934Z",
     "start_time": "2020-04-08T19:42:35.464375Z"
    }
   },
   "outputs": [
    {
     "data": {
      "text/plain": [
       "GridSearchCV(cv=StratifiedKFold(n_splits=10, random_state=None, shuffle=False),\n",
       "             error_score=nan,\n",
       "             estimator=SVC(C=1.0, break_ties=False, cache_size=200,\n",
       "                           class_weight=None, coef0=0.0,\n",
       "                           decision_function_shape='ovr', degree=3,\n",
       "                           gamma='scale', kernel='rbf', max_iter=-1,\n",
       "                           probability=False, random_state=None, shrinking=True,\n",
       "                           tol=0.001, verbose=False),\n",
       "             iid='deprecated', n_jobs...\n",
       "       3.20000e+01, 1.28000e+02, 5.12000e+02, 2.04800e+03, 8.19200e+03,\n",
       "       3.27680e+04, 1.31072e+05]),\n",
       "                         'gamma': array([7.62939453e-06, 3.05175781e-05, 1.22070312e-04, 4.88281250e-04,\n",
       "       1.95312500e-03, 7.81250000e-03, 3.12500000e-02, 1.25000000e-01,\n",
       "       5.00000000e-01, 2.00000000e+00, 8.00000000e+00])},\n",
       "             pre_dispatch='2*n_jobs', refit=True, return_train_score=False,\n",
       "             scoring=None, verbose=0)"
      ]
     },
     "execution_count": 282,
     "metadata": {},
     "output_type": "execute_result"
    }
   ],
   "source": [
    "C_range = 2. ** np.arange(-5, 18, 2)\n",
    "gamma_range = 2. ** np.arange(-17, 4, 2)\n",
    "param_grid = dict(gamma=gamma_range, C=C_range)\n",
    "grid = GridSearchCV(SVC(), param_grid=param_grid,\n",
    "                    cv=StratifiedKFold(n_splits=10))\n",
    "grid.fit(X, Y)"
   ]
  },
  {
   "cell_type": "code",
   "execution_count": 283,
   "metadata": {
    "ExecuteTime": {
     "end_time": "2020-04-08T19:42:39.727932Z",
     "start_time": "2020-04-08T19:42:39.720933Z"
    }
   },
   "outputs": [
    {
     "data": {
      "text/plain": [
       "{'gamma': array([7.62939453e-06, 3.05175781e-05, 1.22070312e-04, 4.88281250e-04,\n",
       "        1.95312500e-03, 7.81250000e-03, 3.12500000e-02, 1.25000000e-01,\n",
       "        5.00000000e-01, 2.00000000e+00, 8.00000000e+00]),\n",
       " 'C': array([3.12500e-02, 1.25000e-01, 5.00000e-01, 2.00000e+00, 8.00000e+00,\n",
       "        3.20000e+01, 1.28000e+02, 5.12000e+02, 2.04800e+03, 8.19200e+03,\n",
       "        3.27680e+04, 1.31072e+05])}"
      ]
     },
     "execution_count": 283,
     "metadata": {},
     "output_type": "execute_result"
    }
   ],
   "source": [
    "param_grid"
   ]
  },
  {
   "cell_type": "code",
   "execution_count": 284,
   "metadata": {
    "ExecuteTime": {
     "end_time": "2020-04-08T19:42:39.741922Z",
     "start_time": "2020-04-08T19:42:39.730928Z"
    }
   },
   "outputs": [
    {
     "name": "stdout",
     "output_type": "stream",
     "text": [
      "The best classifier is:  SVC(C=8.0, break_ties=False, cache_size=200, class_weight=None, coef0=0.0,\n",
      "    decision_function_shape='ovr', degree=3, gamma=0.0078125, kernel='rbf',\n",
      "    max_iter=-1, probability=False, random_state=None, shrinking=True,\n",
      "    tol=0.001, verbose=False)\n"
     ]
    }
   ],
   "source": [
    "print(\"The best classifier is: \", grid.best_estimator_)"
   ]
  },
  {
   "cell_type": "code",
   "execution_count": 285,
   "metadata": {
    "ExecuteTime": {
     "end_time": "2020-04-08T19:42:39.750916Z",
     "start_time": "2020-04-08T19:42:39.744919Z"
    }
   },
   "outputs": [
    {
     "name": "stdout",
     "output_type": "stream",
     "text": [
      "The best parameters are {'C': 8.0, 'gamma': 0.0078125} with a score of 0.63\n"
     ]
    }
   ],
   "source": [
    "print(\"The best parameters are %s with a score of %0.2f\"\n",
    "      % (grid.best_params_, grid.best_score_))"
   ]
  },
  {
   "cell_type": "code",
   "execution_count": 286,
   "metadata": {
    "ExecuteTime": {
     "end_time": "2020-04-08T19:42:39.769905Z",
     "start_time": "2020-04-08T19:42:39.752914Z"
    }
   },
   "outputs": [
    {
     "data": {
      "text/plain": [
       "SVC(C=32.0, break_ties=False, cache_size=200, class_weight='balanced',\n",
       "    coef0=0.0, decision_function_shape='ovr', degree=3, gamma=0.03125,\n",
       "    kernel='rbf', max_iter=-1, probability=False, random_state=None,\n",
       "    shrinking=True, tol=0.001, verbose=False)"
      ]
     },
     "execution_count": 286,
     "metadata": {},
     "output_type": "execute_result"
    }
   ],
   "source": [
    "clf = SVC(C=32.0, class_weight='balanced', gamma=0.03125, kernel='rbf')\n",
    "clf.fit(X, Y)"
   ]
  },
  {
   "cell_type": "code",
   "execution_count": 287,
   "metadata": {
    "ExecuteTime": {
     "end_time": "2020-04-08T19:42:39.778900Z",
     "start_time": "2020-04-08T19:42:39.771904Z"
    }
   },
   "outputs": [],
   "source": [
    "y_pred = clf.predict(X_val_combined_VPC_sg)"
   ]
  },
  {
   "cell_type": "code",
   "execution_count": 288,
   "metadata": {
    "ExecuteTime": {
     "end_time": "2020-04-08T19:42:39.790892Z",
     "start_time": "2020-04-08T19:42:39.780899Z"
    }
   },
   "outputs": [
    {
     "name": "stdout",
     "output_type": "stream",
     "text": [
      "('SVM Accuracy Score -> ', 55.00000000000001)\n"
     ]
    }
   ],
   "source": [
    "print((\"SVM Accuracy Score -> \", accuracy_score(y_pred, y_val) * 100))"
   ]
  },
  {
   "cell_type": "code",
   "execution_count": 289,
   "metadata": {
    "ExecuteTime": {
     "end_time": "2020-04-08T19:42:39.806884Z",
     "start_time": "2020-04-08T19:42:39.793893Z"
    },
    "scrolled": false
   },
   "outputs": [
    {
     "name": "stdout",
     "output_type": "stream",
     "text": [
      "              precision    recall  f1-score   support\n",
      "\n",
      "         GCR       0.50      0.59      0.54        27\n",
      "        Vert       0.61      0.52      0.56        33\n",
      "\n",
      "    accuracy                           0.55        60\n",
      "   macro avg       0.55      0.55      0.55        60\n",
      "weighted avg       0.56      0.55      0.55        60\n",
      "\n"
     ]
    }
   ],
   "source": [
    "from sklearn.metrics import classification_report\n",
    "print((classification_report(y_val, y_pred, target_names=my_tags)))"
   ]
  },
  {
   "cell_type": "markdown",
   "metadata": {},
   "source": [
    "##### Logistice regression"
   ]
  },
  {
   "cell_type": "code",
   "execution_count": 290,
   "metadata": {
    "ExecuteTime": {
     "end_time": "2020-04-08T19:42:40.577258Z",
     "start_time": "2020-04-08T19:42:40.550275Z"
    },
    "scrolled": false
   },
   "outputs": [
    {
     "name": "stdout",
     "output_type": "stream",
     "text": [
      "accuracy 0.55\n",
      "              precision    recall  f1-score   support\n",
      "\n",
      "         GCR       0.50      0.67      0.57        27\n",
      "        Vert       0.62      0.45      0.53        33\n",
      "\n",
      "    accuracy                           0.55        60\n",
      "   macro avg       0.56      0.56      0.55        60\n",
      "weighted avg       0.57      0.55      0.55        60\n",
      "\n"
     ]
    }
   ],
   "source": [
    "from sklearn.linear_model import LogisticRegression\n",
    "logreg = LogisticRegression(n_jobs=1, C=1e5)\n",
    "logreg = logreg.fit(X_train_combined_VPC_sg, y_train)\n",
    "y_pred = logreg.predict(X_val_combined_VPC_sg)\n",
    "print('accuracy %s' % accuracy_score(y_pred, y_val))\n",
    "print(classification_report(y_val, y_pred, target_names=my_tags))"
   ]
  },
  {
   "cell_type": "markdown",
   "metadata": {},
   "source": [
    "##### Weighted logistice regression"
   ]
  },
  {
   "cell_type": "code",
   "execution_count": 291,
   "metadata": {
    "ExecuteTime": {
     "end_time": "2020-04-08T19:42:43.911253Z",
     "start_time": "2020-04-08T19:42:43.885267Z"
    },
    "scrolled": true
   },
   "outputs": [
    {
     "name": "stdout",
     "output_type": "stream",
     "text": [
      "accuracy 0.55\n",
      "              precision    recall  f1-score   support\n",
      "\n",
      "         GCR       0.50      0.67      0.57        27\n",
      "        Vert       0.62      0.45      0.53        33\n",
      "\n",
      "    accuracy                           0.55        60\n",
      "   macro avg       0.56      0.56      0.55        60\n",
      "weighted avg       0.57      0.55      0.55        60\n",
      "\n"
     ]
    }
   ],
   "source": [
    "from sklearn.linear_model import LogisticRegression\n",
    "logreg = LogisticRegression(n_jobs=1, C=1e5, class_weight='balanced')\n",
    "logreg = logreg.fit(X_train_combined_VPC_sg, y_train)\n",
    "y_pred = logreg.predict(X_val_combined_VPC_sg)\n",
    "print('accuracy %s' % accuracy_score(y_pred, y_val))\n",
    "print(classification_report(y_val, y_pred, target_names=my_tags))"
   ]
  },
  {
   "cell_type": "markdown",
   "metadata": {},
   "source": [
    "#### _VPC (up)"
   ]
  },
  {
   "cell_type": "markdown",
   "metadata": {},
   "source": [
    "##### Linear SVM"
   ]
  },
  {
   "cell_type": "code",
   "execution_count": 292,
   "metadata": {
    "ExecuteTime": {
     "end_time": "2020-04-08T19:42:50.177505Z",
     "start_time": "2020-04-08T19:42:50.166492Z"
    },
    "scrolled": true
   },
   "outputs": [
    {
     "data": {
      "text/plain": [
       "SVC(C=1.0, break_ties=False, cache_size=200, class_weight=None, coef0=0.0,\n",
       "    decision_function_shape='ovr', degree=3, gamma='scale', kernel='linear',\n",
       "    max_iter=-1, probability=False, random_state=None, shrinking=True,\n",
       "    tol=0.001, verbose=False)"
      ]
     },
     "execution_count": 292,
     "metadata": {},
     "output_type": "execute_result"
    }
   ],
   "source": [
    "clf = SVC(kernel='linear')\n",
    "clf.fit(X_train_combined_VPC_sg_up, y_train)"
   ]
  },
  {
   "cell_type": "code",
   "execution_count": 293,
   "metadata": {
    "ExecuteTime": {
     "end_time": "2020-04-08T19:42:55.475452Z",
     "start_time": "2020-04-08T19:42:55.470456Z"
    }
   },
   "outputs": [],
   "source": [
    "y_pred = clf.predict(X_val_combined_VPC_sg_up)"
   ]
  },
  {
   "cell_type": "code",
   "execution_count": 294,
   "metadata": {
    "ExecuteTime": {
     "end_time": "2020-04-08T19:42:56.770627Z",
     "start_time": "2020-04-08T19:42:56.765629Z"
    }
   },
   "outputs": [
    {
     "name": "stdout",
     "output_type": "stream",
     "text": [
      "SVM Accuracy Score ->  55.00000000000001\n"
     ]
    }
   ],
   "source": [
    "print(\"SVM Accuracy Score -> \", accuracy_score(y_pred, y_val) * 100)"
   ]
  },
  {
   "cell_type": "code",
   "execution_count": 295,
   "metadata": {
    "ExecuteTime": {
     "end_time": "2020-04-08T19:42:58.746428Z",
     "start_time": "2020-04-08T19:42:58.734418Z"
    }
   },
   "outputs": [
    {
     "name": "stdout",
     "output_type": "stream",
     "text": [
      "              precision    recall  f1-score   support\n",
      "\n",
      "         GCR       0.50      0.70      0.58        27\n",
      "        Vert       0.64      0.42      0.51        33\n",
      "\n",
      "    accuracy                           0.55        60\n",
      "   macro avg       0.57      0.56      0.55        60\n",
      "weighted avg       0.57      0.55      0.54        60\n",
      "\n"
     ]
    }
   ],
   "source": [
    "from sklearn.metrics import classification_report\n",
    "print(classification_report(y_val, y_pred, target_names=my_tags))"
   ]
  },
  {
   "cell_type": "markdown",
   "metadata": {},
   "source": [
    "##### Weighted Linear SVM"
   ]
  },
  {
   "cell_type": "code",
   "execution_count": 296,
   "metadata": {
    "ExecuteTime": {
     "end_time": "2020-04-08T19:43:04.505533Z",
     "start_time": "2020-04-08T19:43:04.494540Z"
    },
    "scrolled": true
   },
   "outputs": [
    {
     "data": {
      "text/plain": [
       "SVC(C=1.0, break_ties=False, cache_size=200, class_weight='balanced', coef0=0.0,\n",
       "    decision_function_shape='ovr', degree=3, gamma='scale', kernel='linear',\n",
       "    max_iter=-1, probability=False, random_state=None, shrinking=True,\n",
       "    tol=0.001, verbose=False)"
      ]
     },
     "execution_count": 296,
     "metadata": {},
     "output_type": "execute_result"
    }
   ],
   "source": [
    "clf_balanced_class_weight = SVC(kernel='linear', class_weight='balanced')\n",
    "clf_balanced_class_weight.fit(X_train_combined_VPC_sg_up, y_train)"
   ]
  },
  {
   "cell_type": "code",
   "execution_count": 297,
   "metadata": {
    "ExecuteTime": {
     "end_time": "2020-04-08T19:43:09.256266Z",
     "start_time": "2020-04-08T19:43:09.251271Z"
    }
   },
   "outputs": [],
   "source": [
    "y_pred_balanced_class_weight = clf_balanced_class_weight.predict(\n",
    "    X_val_combined_VPC_sg_up)"
   ]
  },
  {
   "cell_type": "code",
   "execution_count": 298,
   "metadata": {
    "ExecuteTime": {
     "end_time": "2020-04-08T19:43:10.836168Z",
     "start_time": "2020-04-08T19:43:10.831170Z"
    }
   },
   "outputs": [
    {
     "name": "stdout",
     "output_type": "stream",
     "text": [
      "SVM Accuracy Score ->  53.333333333333336\n"
     ]
    }
   ],
   "source": [
    "print(\"SVM Accuracy Score -> \",\n",
    "      accuracy_score(y_pred_balanced_class_weight, y_val) * 100)"
   ]
  },
  {
   "cell_type": "code",
   "execution_count": 299,
   "metadata": {
    "ExecuteTime": {
     "end_time": "2020-04-08T19:43:12.810673Z",
     "start_time": "2020-04-08T19:43:12.799680Z"
    },
    "scrolled": true
   },
   "outputs": [
    {
     "name": "stdout",
     "output_type": "stream",
     "text": [
      "              precision    recall  f1-score   support\n",
      "\n",
      "         GCR       0.49      0.70      0.58        27\n",
      "        Vert       0.62      0.39      0.48        33\n",
      "\n",
      "    accuracy                           0.53        60\n",
      "   macro avg       0.55      0.55      0.53        60\n",
      "weighted avg       0.56      0.53      0.52        60\n",
      "\n"
     ]
    }
   ],
   "source": [
    "from sklearn.metrics import classification_report\n",
    "print(\n",
    "    classification_report(y_val,\n",
    "                          y_pred_balanced_class_weight,\n",
    "                          target_names=my_tags))"
   ]
  },
  {
   "cell_type": "markdown",
   "metadata": {},
   "source": [
    "##### SVC with 'rbf' kernel"
   ]
  },
  {
   "cell_type": "code",
   "execution_count": 300,
   "metadata": {
    "ExecuteTime": {
     "end_time": "2020-04-08T19:43:18.673824Z",
     "start_time": "2020-04-08T19:43:18.669827Z"
    }
   },
   "outputs": [],
   "source": [
    "X = X_train_combined_VPC_sg_up\n",
    "Y = y_train"
   ]
  },
  {
   "cell_type": "code",
   "execution_count": 301,
   "metadata": {
    "ExecuteTime": {
     "end_time": "2020-04-08T19:43:19.292689Z",
     "start_time": "2020-04-08T19:43:19.289689Z"
    }
   },
   "outputs": [],
   "source": [
    "# It is usually a good idea to scale the data for SVM training.\n",
    "# We are cheating a bit in this example in scaling all of the data,\n",
    "# instead of fitting the transformation on the trainingset and\n",
    "# just applying it on the test set.\n",
    "\n",
    "# scaler = StandardScaler()\n",
    "# X = scaler.fit_transform(X_train_updated_google)"
   ]
  },
  {
   "cell_type": "code",
   "execution_count": 302,
   "metadata": {
    "ExecuteTime": {
     "end_time": "2020-04-08T19:43:23.872189Z",
     "start_time": "2020-04-08T19:43:19.889471Z"
    }
   },
   "outputs": [
    {
     "data": {
      "text/plain": [
       "GridSearchCV(cv=StratifiedKFold(n_splits=10, random_state=None, shuffle=False),\n",
       "             error_score=nan,\n",
       "             estimator=SVC(C=1.0, break_ties=False, cache_size=200,\n",
       "                           class_weight=None, coef0=0.0,\n",
       "                           decision_function_shape='ovr', degree=3,\n",
       "                           gamma='scale', kernel='rbf', max_iter=-1,\n",
       "                           probability=False, random_state=None, shrinking=True,\n",
       "                           tol=0.001, verbose=False),\n",
       "             iid='deprecated', n_jobs...\n",
       "       3.20000e+01, 1.28000e+02, 5.12000e+02, 2.04800e+03, 8.19200e+03,\n",
       "       3.27680e+04, 1.31072e+05]),\n",
       "                         'gamma': array([7.62939453e-06, 3.05175781e-05, 1.22070312e-04, 4.88281250e-04,\n",
       "       1.95312500e-03, 7.81250000e-03, 3.12500000e-02, 1.25000000e-01,\n",
       "       5.00000000e-01, 2.00000000e+00, 8.00000000e+00])},\n",
       "             pre_dispatch='2*n_jobs', refit=True, return_train_score=False,\n",
       "             scoring=None, verbose=0)"
      ]
     },
     "execution_count": 302,
     "metadata": {},
     "output_type": "execute_result"
    }
   ],
   "source": [
    "C_range = 2. ** np.arange(-5, 18, 2)\n",
    "gamma_range = 2. ** np.arange(-17, 4, 2)\n",
    "param_grid = dict(gamma=gamma_range, C=C_range)\n",
    "grid = GridSearchCV(SVC(), param_grid=param_grid,\n",
    "                    cv=StratifiedKFold(n_splits=10))\n",
    "grid.fit(X, Y)"
   ]
  },
  {
   "cell_type": "code",
   "execution_count": 303,
   "metadata": {
    "ExecuteTime": {
     "end_time": "2020-04-08T19:43:23.881182Z",
     "start_time": "2020-04-08T19:43:23.874186Z"
    }
   },
   "outputs": [
    {
     "data": {
      "text/plain": [
       "{'gamma': array([7.62939453e-06, 3.05175781e-05, 1.22070312e-04, 4.88281250e-04,\n",
       "        1.95312500e-03, 7.81250000e-03, 3.12500000e-02, 1.25000000e-01,\n",
       "        5.00000000e-01, 2.00000000e+00, 8.00000000e+00]),\n",
       " 'C': array([3.12500e-02, 1.25000e-01, 5.00000e-01, 2.00000e+00, 8.00000e+00,\n",
       "        3.20000e+01, 1.28000e+02, 5.12000e+02, 2.04800e+03, 8.19200e+03,\n",
       "        3.27680e+04, 1.31072e+05])}"
      ]
     },
     "execution_count": 303,
     "metadata": {},
     "output_type": "execute_result"
    }
   ],
   "source": [
    "param_grid"
   ]
  },
  {
   "cell_type": "code",
   "execution_count": 304,
   "metadata": {
    "ExecuteTime": {
     "end_time": "2020-04-08T19:43:23.895173Z",
     "start_time": "2020-04-08T19:43:23.884180Z"
    }
   },
   "outputs": [
    {
     "name": "stdout",
     "output_type": "stream",
     "text": [
      "The best classifier is:  SVC(C=128.0, break_ties=False, cache_size=200, class_weight=None, coef0=0.0,\n",
      "    decision_function_shape='ovr', degree=3, gamma=0.00048828125, kernel='rbf',\n",
      "    max_iter=-1, probability=False, random_state=None, shrinking=True,\n",
      "    tol=0.001, verbose=False)\n"
     ]
    }
   ],
   "source": [
    "print(\"The best classifier is: \", grid.best_estimator_)"
   ]
  },
  {
   "cell_type": "code",
   "execution_count": 305,
   "metadata": {
    "ExecuteTime": {
     "end_time": "2020-04-08T19:43:23.907168Z",
     "start_time": "2020-04-08T19:43:23.897175Z"
    }
   },
   "outputs": [
    {
     "name": "stdout",
     "output_type": "stream",
     "text": [
      "The best parameters are {'C': 128.0, 'gamma': 0.00048828125} with a score of 0.67\n"
     ]
    }
   ],
   "source": [
    "print(\"The best parameters are %s with a score of %0.2f\"\n",
    "      % (grid.best_params_, grid.best_score_))"
   ]
  },
  {
   "cell_type": "code",
   "execution_count": 306,
   "metadata": {
    "ExecuteTime": {
     "end_time": "2020-04-08T19:43:23.922160Z",
     "start_time": "2020-04-08T19:43:23.909165Z"
    }
   },
   "outputs": [
    {
     "data": {
      "text/plain": [
       "SVC(C=128.0, break_ties=False, cache_size=200, class_weight=None, coef0=0.0,\n",
       "    decision_function_shape='ovr', degree=3, gamma=0.00048828125, kernel='rbf',\n",
       "    max_iter=-1, probability=False, random_state=None, shrinking=True,\n",
       "    tol=0.001, verbose=False)"
      ]
     },
     "execution_count": 306,
     "metadata": {},
     "output_type": "execute_result"
    }
   ],
   "source": [
    "clf = grid.best_estimator_\n",
    "clf.fit(X, Y)"
   ]
  },
  {
   "cell_type": "code",
   "execution_count": 307,
   "metadata": {
    "ExecuteTime": {
     "end_time": "2020-04-08T19:43:30.338469Z",
     "start_time": "2020-04-08T19:43:30.333460Z"
    }
   },
   "outputs": [],
   "source": [
    "y_pred = clf.predict(X_val_combined_VPC_sg_up)"
   ]
  },
  {
   "cell_type": "code",
   "execution_count": 308,
   "metadata": {
    "ExecuteTime": {
     "end_time": "2020-04-08T19:43:31.027174Z",
     "start_time": "2020-04-08T19:43:31.021175Z"
    }
   },
   "outputs": [
    {
     "name": "stdout",
     "output_type": "stream",
     "text": [
      "('SVM Accuracy Score -> ', 56.666666666666664)\n"
     ]
    }
   ],
   "source": [
    "print((\"SVM Accuracy Score -> \", accuracy_score(y_pred, y_val) * 100))"
   ]
  },
  {
   "cell_type": "code",
   "execution_count": 309,
   "metadata": {
    "ExecuteTime": {
     "end_time": "2020-04-08T19:43:32.248538Z",
     "start_time": "2020-04-08T19:43:32.234546Z"
    },
    "scrolled": true
   },
   "outputs": [
    {
     "name": "stdout",
     "output_type": "stream",
     "text": [
      "              precision    recall  f1-score   support\n",
      "\n",
      "         GCR       0.51      0.93      0.66        27\n",
      "        Vert       0.82      0.27      0.41        33\n",
      "\n",
      "    accuracy                           0.57        60\n",
      "   macro avg       0.66      0.60      0.53        60\n",
      "weighted avg       0.68      0.57      0.52        60\n",
      "\n"
     ]
    }
   ],
   "source": [
    "from sklearn.metrics import classification_report\n",
    "print((classification_report(y_val, y_pred, target_names=my_tags)))"
   ]
  },
  {
   "cell_type": "markdown",
   "metadata": {},
   "source": [
    "##### Weighted SVC with 'rbf' kernel "
   ]
  },
  {
   "cell_type": "code",
   "execution_count": 310,
   "metadata": {
    "ExecuteTime": {
     "end_time": "2020-04-08T19:43:37.966213Z",
     "start_time": "2020-04-08T19:43:37.963215Z"
    }
   },
   "outputs": [],
   "source": [
    "X = X_train_combined_VPC_sg_up\n",
    "Y = y_train"
   ]
  },
  {
   "cell_type": "code",
   "execution_count": 311,
   "metadata": {
    "ExecuteTime": {
     "end_time": "2020-04-08T19:43:39.203780Z",
     "start_time": "2020-04-08T19:43:39.200781Z"
    }
   },
   "outputs": [],
   "source": [
    "# It is usually a good idea to scale the data for SVM training.\n",
    "# We are cheating a bit in this example in scaling all of the data,\n",
    "# instead of fitting the transformation on the trainingset and\n",
    "# just applying it on the test set.\n",
    "\n",
    "# scaler = StandardScaler()\n",
    "# X = scaler.fit_transform(X_train_updated_google)"
   ]
  },
  {
   "cell_type": "code",
   "execution_count": 312,
   "metadata": {
    "ExecuteTime": {
     "end_time": "2020-04-08T19:43:44.147192Z",
     "start_time": "2020-04-08T19:43:40.210450Z"
    }
   },
   "outputs": [
    {
     "data": {
      "text/plain": [
       "GridSearchCV(cv=StratifiedKFold(n_splits=10, random_state=None, shuffle=False),\n",
       "             error_score=nan,\n",
       "             estimator=SVC(C=1.0, break_ties=False, cache_size=200,\n",
       "                           class_weight=None, coef0=0.0,\n",
       "                           decision_function_shape='ovr', degree=3,\n",
       "                           gamma='scale', kernel='rbf', max_iter=-1,\n",
       "                           probability=False, random_state=None, shrinking=True,\n",
       "                           tol=0.001, verbose=False),\n",
       "             iid='deprecated', n_jobs...\n",
       "       3.20000e+01, 1.28000e+02, 5.12000e+02, 2.04800e+03, 8.19200e+03,\n",
       "       3.27680e+04, 1.31072e+05]),\n",
       "                         'gamma': array([7.62939453e-06, 3.05175781e-05, 1.22070312e-04, 4.88281250e-04,\n",
       "       1.95312500e-03, 7.81250000e-03, 3.12500000e-02, 1.25000000e-01,\n",
       "       5.00000000e-01, 2.00000000e+00, 8.00000000e+00])},\n",
       "             pre_dispatch='2*n_jobs', refit=True, return_train_score=False,\n",
       "             scoring=None, verbose=0)"
      ]
     },
     "execution_count": 312,
     "metadata": {},
     "output_type": "execute_result"
    }
   ],
   "source": [
    "C_range = 2. ** np.arange(-5, 18, 2)\n",
    "gamma_range = 2. ** np.arange(-17, 4, 2)\n",
    "param_grid = dict(gamma=gamma_range, C=C_range)\n",
    "grid = GridSearchCV(SVC(), param_grid=param_grid,\n",
    "                    cv=StratifiedKFold(n_splits=10))\n",
    "grid.fit(X, Y)"
   ]
  },
  {
   "cell_type": "code",
   "execution_count": 313,
   "metadata": {
    "ExecuteTime": {
     "end_time": "2020-04-08T19:43:44.156168Z",
     "start_time": "2020-04-08T19:43:44.149174Z"
    }
   },
   "outputs": [
    {
     "data": {
      "text/plain": [
       "{'gamma': array([7.62939453e-06, 3.05175781e-05, 1.22070312e-04, 4.88281250e-04,\n",
       "        1.95312500e-03, 7.81250000e-03, 3.12500000e-02, 1.25000000e-01,\n",
       "        5.00000000e-01, 2.00000000e+00, 8.00000000e+00]),\n",
       " 'C': array([3.12500e-02, 1.25000e-01, 5.00000e-01, 2.00000e+00, 8.00000e+00,\n",
       "        3.20000e+01, 1.28000e+02, 5.12000e+02, 2.04800e+03, 8.19200e+03,\n",
       "        3.27680e+04, 1.31072e+05])}"
      ]
     },
     "execution_count": 313,
     "metadata": {},
     "output_type": "execute_result"
    }
   ],
   "source": [
    "param_grid"
   ]
  },
  {
   "cell_type": "code",
   "execution_count": 314,
   "metadata": {
    "ExecuteTime": {
     "end_time": "2020-04-08T19:43:44.169163Z",
     "start_time": "2020-04-08T19:43:44.159166Z"
    }
   },
   "outputs": [
    {
     "name": "stdout",
     "output_type": "stream",
     "text": [
      "The best classifier is:  SVC(C=128.0, break_ties=False, cache_size=200, class_weight=None, coef0=0.0,\n",
      "    decision_function_shape='ovr', degree=3, gamma=0.00048828125, kernel='rbf',\n",
      "    max_iter=-1, probability=False, random_state=None, shrinking=True,\n",
      "    tol=0.001, verbose=False)\n"
     ]
    }
   ],
   "source": [
    "print(\"The best classifier is: \", grid.best_estimator_)"
   ]
  },
  {
   "cell_type": "code",
   "execution_count": 315,
   "metadata": {
    "ExecuteTime": {
     "end_time": "2020-04-08T19:43:44.181153Z",
     "start_time": "2020-04-08T19:43:44.171159Z"
    }
   },
   "outputs": [
    {
     "name": "stdout",
     "output_type": "stream",
     "text": [
      "The best parameters are {'C': 128.0, 'gamma': 0.00048828125} with a score of 0.67\n"
     ]
    }
   ],
   "source": [
    "print(\"The best parameters are %s with a score of %0.2f\"\n",
    "      % (grid.best_params_, grid.best_score_))"
   ]
  },
  {
   "cell_type": "code",
   "execution_count": 316,
   "metadata": {
    "ExecuteTime": {
     "end_time": "2020-04-08T19:43:44.923473Z",
     "start_time": "2020-04-08T19:43:44.913479Z"
    }
   },
   "outputs": [
    {
     "data": {
      "text/plain": [
       "SVC(C=32.0, break_ties=False, cache_size=200, class_weight='balanced',\n",
       "    coef0=0.0, decision_function_shape='ovr', degree=3, gamma=0.03125,\n",
       "    kernel='rbf', max_iter=-1, probability=False, random_state=None,\n",
       "    shrinking=True, tol=0.001, verbose=False)"
      ]
     },
     "execution_count": 316,
     "metadata": {},
     "output_type": "execute_result"
    }
   ],
   "source": [
    "clf = SVC(C=32.0, class_weight='balanced', gamma=0.03125, kernel='rbf')\n",
    "clf.fit(X, Y)"
   ]
  },
  {
   "cell_type": "code",
   "execution_count": 317,
   "metadata": {
    "ExecuteTime": {
     "end_time": "2020-04-08T19:43:50.951976Z",
     "start_time": "2020-04-08T19:43:50.946976Z"
    }
   },
   "outputs": [],
   "source": [
    "y_pred = clf.predict(X_val_combined_VPC_sg_up)"
   ]
  },
  {
   "cell_type": "code",
   "execution_count": 318,
   "metadata": {
    "ExecuteTime": {
     "end_time": "2020-04-08T19:43:51.754805Z",
     "start_time": "2020-04-08T19:43:51.748808Z"
    }
   },
   "outputs": [
    {
     "name": "stdout",
     "output_type": "stream",
     "text": [
      "('SVM Accuracy Score -> ', 50.0)\n"
     ]
    }
   ],
   "source": [
    "print((\"SVM Accuracy Score -> \", accuracy_score(y_pred, y_val) * 100))"
   ]
  },
  {
   "cell_type": "code",
   "execution_count": 319,
   "metadata": {
    "ExecuteTime": {
     "end_time": "2020-04-08T19:43:54.764492Z",
     "start_time": "2020-04-08T19:43:54.754499Z"
    },
    "scrolled": false
   },
   "outputs": [
    {
     "name": "stdout",
     "output_type": "stream",
     "text": [
      "              precision    recall  f1-score   support\n",
      "\n",
      "         GCR       0.46      0.67      0.55        27\n",
      "        Vert       0.57      0.36      0.44        33\n",
      "\n",
      "    accuracy                           0.50        60\n",
      "   macro avg       0.52      0.52      0.49        60\n",
      "weighted avg       0.52      0.50      0.49        60\n",
      "\n"
     ]
    }
   ],
   "source": [
    "from sklearn.metrics import classification_report\n",
    "print((classification_report(y_val, y_pred, target_names=my_tags)))"
   ]
  },
  {
   "cell_type": "markdown",
   "metadata": {},
   "source": [
    "##### Logistice regression"
   ]
  },
  {
   "cell_type": "code",
   "execution_count": 320,
   "metadata": {
    "ExecuteTime": {
     "end_time": "2020-04-08T19:44:06.018094Z",
     "start_time": "2020-04-08T19:44:05.978135Z"
    },
    "scrolled": false
   },
   "outputs": [
    {
     "name": "stdout",
     "output_type": "stream",
     "text": [
      "accuracy 0.5333333333333333\n",
      "              precision    recall  f1-score   support\n",
      "\n",
      "         GCR       0.49      0.67      0.56        27\n",
      "        Vert       0.61      0.42      0.50        33\n",
      "\n",
      "    accuracy                           0.53        60\n",
      "   macro avg       0.55      0.55      0.53        60\n",
      "weighted avg       0.55      0.53      0.53        60\n",
      "\n"
     ]
    }
   ],
   "source": [
    "from sklearn.linear_model import LogisticRegression\n",
    "logreg = LogisticRegression(n_jobs=1, C=1e5)\n",
    "logreg = logreg.fit(X_train_combined_VPC_sg_up, y_train)\n",
    "y_pred = logreg.predict(X_val_combined_VPC_sg_up)\n",
    "print('accuracy %s' % accuracy_score(y_pred, y_val))\n",
    "print(classification_report(y_val, y_pred, target_names=my_tags))"
   ]
  },
  {
   "cell_type": "markdown",
   "metadata": {},
   "source": [
    "##### Weighted logistice regression"
   ]
  },
  {
   "cell_type": "code",
   "execution_count": 321,
   "metadata": {
    "ExecuteTime": {
     "end_time": "2020-04-08T19:44:19.763761Z",
     "start_time": "2020-04-08T19:44:19.731783Z"
    },
    "scrolled": true
   },
   "outputs": [
    {
     "name": "stdout",
     "output_type": "stream",
     "text": [
      "accuracy 0.55\n",
      "              precision    recall  f1-score   support\n",
      "\n",
      "         GCR       0.50      0.70      0.58        27\n",
      "        Vert       0.64      0.42      0.51        33\n",
      "\n",
      "    accuracy                           0.55        60\n",
      "   macro avg       0.57      0.56      0.55        60\n",
      "weighted avg       0.57      0.55      0.54        60\n",
      "\n"
     ]
    }
   ],
   "source": [
    "from sklearn.linear_model import LogisticRegression\n",
    "logreg = LogisticRegression(n_jobs=1, C=1e5, class_weight='balanced')\n",
    "logreg = logreg.fit(X_train_combined_VPC_sg_up, y_train)\n",
    "y_pred = logreg.predict(X_val_combined_VPC_sg_up)\n",
    "print('accuracy %s' % accuracy_score(y_pred, y_val))\n",
    "print(classification_report(y_val, y_pred, target_names=my_tags))"
   ]
  },
  {
   "cell_type": "markdown",
   "metadata": {},
   "source": [
    "### 900D combined "
   ]
  },
  {
   "cell_type": "markdown",
   "metadata": {},
   "source": [
    "##### Linear SVM"
   ]
  },
  {
   "cell_type": "code",
   "execution_count": 322,
   "metadata": {
    "ExecuteTime": {
     "end_time": "2020-04-08T19:41:28.925332Z",
     "start_time": "2020-04-08T19:41:28.915341Z"
    },
    "scrolled": true
   },
   "outputs": [
    {
     "data": {
      "text/plain": [
       "SVC(C=1.0, break_ties=False, cache_size=200, class_weight=None, coef0=0.0,\n",
       "    decision_function_shape='ovr', degree=3, gamma='scale', kernel='linear',\n",
       "    max_iter=-1, probability=False, random_state=None, shrinking=True,\n",
       "    tol=0.001, verbose=False)"
      ]
     },
     "execution_count": 322,
     "metadata": {},
     "output_type": "execute_result"
    }
   ],
   "source": [
    "clf = SVC(kernel='linear')\n",
    "clf.fit(X_train_combined_sg900D, y_train)"
   ]
  },
  {
   "cell_type": "code",
   "execution_count": 323,
   "metadata": {
    "ExecuteTime": {
     "end_time": "2020-04-08T19:41:29.208170Z",
     "start_time": "2020-04-08T19:41:29.203192Z"
    }
   },
   "outputs": [],
   "source": [
    "y_pred = clf.predict(X_val_combined_sg900D)"
   ]
  },
  {
   "cell_type": "code",
   "execution_count": 324,
   "metadata": {
    "ExecuteTime": {
     "end_time": "2020-04-08T19:41:29.405058Z",
     "start_time": "2020-04-08T19:41:29.401060Z"
    }
   },
   "outputs": [
    {
     "name": "stdout",
     "output_type": "stream",
     "text": [
      "SVM Accuracy Score ->  46.666666666666664\n"
     ]
    }
   ],
   "source": [
    "print(\"SVM Accuracy Score -> \", accuracy_score(y_pred, y_val) * 100)"
   ]
  },
  {
   "cell_type": "code",
   "execution_count": 325,
   "metadata": {
    "ExecuteTime": {
     "end_time": "2020-04-08T19:41:29.720878Z",
     "start_time": "2020-04-08T19:41:29.709884Z"
    }
   },
   "outputs": [
    {
     "name": "stdout",
     "output_type": "stream",
     "text": [
      "              precision    recall  f1-score   support\n",
      "\n",
      "         GCR       0.42      0.52      0.47        27\n",
      "        Vert       0.52      0.42      0.47        33\n",
      "\n",
      "    accuracy                           0.47        60\n",
      "   macro avg       0.47      0.47      0.47        60\n",
      "weighted avg       0.48      0.47      0.47        60\n",
      "\n"
     ]
    }
   ],
   "source": [
    "from sklearn.metrics import classification_report\n",
    "print(classification_report(y_val, y_pred, target_names=my_tags))"
   ]
  },
  {
   "cell_type": "markdown",
   "metadata": {},
   "source": [
    "##### Weighted Linear SVM"
   ]
  },
  {
   "cell_type": "code",
   "execution_count": 326,
   "metadata": {
    "ExecuteTime": {
     "end_time": "2020-04-08T19:41:30.119647Z",
     "start_time": "2020-04-08T19:41:30.108656Z"
    },
    "scrolled": true
   },
   "outputs": [
    {
     "data": {
      "text/plain": [
       "SVC(C=1.0, break_ties=False, cache_size=200, class_weight='balanced', coef0=0.0,\n",
       "    decision_function_shape='ovr', degree=3, gamma='scale', kernel='linear',\n",
       "    max_iter=-1, probability=False, random_state=None, shrinking=True,\n",
       "    tol=0.001, verbose=False)"
      ]
     },
     "execution_count": 326,
     "metadata": {},
     "output_type": "execute_result"
    }
   ],
   "source": [
    "clf_balanced_class_weight = SVC(kernel='linear', class_weight='balanced')\n",
    "clf_balanced_class_weight.fit(X_train_combined_sg900D, y_train)"
   ]
  },
  {
   "cell_type": "code",
   "execution_count": 327,
   "metadata": {
    "ExecuteTime": {
     "end_time": "2020-04-08T19:41:30.313551Z",
     "start_time": "2020-04-08T19:41:30.307540Z"
    }
   },
   "outputs": [],
   "source": [
    "y_pred_balanced_class_weight = clf_balanced_class_weight.predict(\n",
    "    X_val_combined_sg900D)"
   ]
  },
  {
   "cell_type": "code",
   "execution_count": 328,
   "metadata": {
    "ExecuteTime": {
     "end_time": "2020-04-08T19:41:30.503428Z",
     "start_time": "2020-04-08T19:41:30.499431Z"
    }
   },
   "outputs": [
    {
     "name": "stdout",
     "output_type": "stream",
     "text": [
      "SVM Accuracy Score ->  46.666666666666664\n"
     ]
    }
   ],
   "source": [
    "print(\"SVM Accuracy Score -> \",\n",
    "      accuracy_score(y_pred_balanced_class_weight, y_val) * 100)"
   ]
  },
  {
   "cell_type": "code",
   "execution_count": 329,
   "metadata": {
    "ExecuteTime": {
     "end_time": "2020-04-08T19:41:30.707311Z",
     "start_time": "2020-04-08T19:41:30.696319Z"
    },
    "scrolled": true
   },
   "outputs": [
    {
     "name": "stdout",
     "output_type": "stream",
     "text": [
      "              precision    recall  f1-score   support\n",
      "\n",
      "         GCR       0.42      0.52      0.47        27\n",
      "        Vert       0.52      0.42      0.47        33\n",
      "\n",
      "    accuracy                           0.47        60\n",
      "   macro avg       0.47      0.47      0.47        60\n",
      "weighted avg       0.48      0.47      0.47        60\n",
      "\n"
     ]
    }
   ],
   "source": [
    "from sklearn.metrics import classification_report\n",
    "print(\n",
    "    classification_report(y_val,\n",
    "                          y_pred_balanced_class_weight,\n",
    "                          target_names=my_tags))"
   ]
  },
  {
   "cell_type": "markdown",
   "metadata": {},
   "source": [
    "##### SVC with 'rbf' kernel"
   ]
  },
  {
   "cell_type": "code",
   "execution_count": 330,
   "metadata": {
    "ExecuteTime": {
     "end_time": "2020-04-08T19:41:31.216019Z",
     "start_time": "2020-04-08T19:41:31.213022Z"
    }
   },
   "outputs": [],
   "source": [
    "X = X_train_combined_sg900D\n",
    "Y = y_train"
   ]
  },
  {
   "cell_type": "code",
   "execution_count": 331,
   "metadata": {
    "ExecuteTime": {
     "end_time": "2020-04-08T19:41:31.426899Z",
     "start_time": "2020-04-08T19:41:31.422919Z"
    }
   },
   "outputs": [],
   "source": [
    "# It is usually a good idea to scale the data for SVM training.\n",
    "# We are cheating a bit in this example in scaling all of the data,\n",
    "# instead of fitting the transformation on the trainingset and\n",
    "# just applying it on the test set.\n",
    "\n",
    "# scaler = StandardScaler()\n",
    "# X = scaler.fit_transform(X_train_updated_google)"
   ]
  },
  {
   "cell_type": "code",
   "execution_count": 332,
   "metadata": {
    "ExecuteTime": {
     "end_time": "2020-04-08T19:41:36.230163Z",
     "start_time": "2020-04-08T19:41:31.631780Z"
    }
   },
   "outputs": [
    {
     "data": {
      "text/plain": [
       "GridSearchCV(cv=StratifiedKFold(n_splits=10, random_state=None, shuffle=False),\n",
       "             error_score=nan,\n",
       "             estimator=SVC(C=1.0, break_ties=False, cache_size=200,\n",
       "                           class_weight=None, coef0=0.0,\n",
       "                           decision_function_shape='ovr', degree=3,\n",
       "                           gamma='scale', kernel='rbf', max_iter=-1,\n",
       "                           probability=False, random_state=None, shrinking=True,\n",
       "                           tol=0.001, verbose=False),\n",
       "             iid='deprecated', n_jobs...\n",
       "       3.20000e+01, 1.28000e+02, 5.12000e+02, 2.04800e+03, 8.19200e+03,\n",
       "       3.27680e+04, 1.31072e+05]),\n",
       "                         'gamma': array([7.62939453e-06, 3.05175781e-05, 1.22070312e-04, 4.88281250e-04,\n",
       "       1.95312500e-03, 7.81250000e-03, 3.12500000e-02, 1.25000000e-01,\n",
       "       5.00000000e-01, 2.00000000e+00, 8.00000000e+00])},\n",
       "             pre_dispatch='2*n_jobs', refit=True, return_train_score=False,\n",
       "             scoring=None, verbose=0)"
      ]
     },
     "execution_count": 332,
     "metadata": {},
     "output_type": "execute_result"
    }
   ],
   "source": [
    "C_range = 2. ** np.arange(-5, 18, 2)\n",
    "gamma_range = 2. ** np.arange(-17, 4, 2)\n",
    "param_grid = dict(gamma=gamma_range, C=C_range)\n",
    "grid = GridSearchCV(SVC(), param_grid=param_grid,\n",
    "                    cv=StratifiedKFold(n_splits=10))\n",
    "grid.fit(X, Y)"
   ]
  },
  {
   "cell_type": "code",
   "execution_count": 333,
   "metadata": {
    "ExecuteTime": {
     "end_time": "2020-04-08T19:41:36.240140Z",
     "start_time": "2020-04-08T19:41:36.233142Z"
    }
   },
   "outputs": [
    {
     "data": {
      "text/plain": [
       "{'gamma': array([7.62939453e-06, 3.05175781e-05, 1.22070312e-04, 4.88281250e-04,\n",
       "        1.95312500e-03, 7.81250000e-03, 3.12500000e-02, 1.25000000e-01,\n",
       "        5.00000000e-01, 2.00000000e+00, 8.00000000e+00]),\n",
       " 'C': array([3.12500e-02, 1.25000e-01, 5.00000e-01, 2.00000e+00, 8.00000e+00,\n",
       "        3.20000e+01, 1.28000e+02, 5.12000e+02, 2.04800e+03, 8.19200e+03,\n",
       "        3.27680e+04, 1.31072e+05])}"
      ]
     },
     "execution_count": 333,
     "metadata": {},
     "output_type": "execute_result"
    }
   ],
   "source": [
    "param_grid"
   ]
  },
  {
   "cell_type": "code",
   "execution_count": 334,
   "metadata": {
    "ExecuteTime": {
     "end_time": "2020-04-08T19:41:36.254130Z",
     "start_time": "2020-04-08T19:41:36.243136Z"
    }
   },
   "outputs": [
    {
     "name": "stdout",
     "output_type": "stream",
     "text": [
      "The best classifier is:  SVC(C=32.0, break_ties=False, cache_size=200, class_weight=None, coef0=0.0,\n",
      "    decision_function_shape='ovr', degree=3, gamma=0.001953125, kernel='rbf',\n",
      "    max_iter=-1, probability=False, random_state=None, shrinking=True,\n",
      "    tol=0.001, verbose=False)\n"
     ]
    }
   ],
   "source": [
    "print(\"The best classifier is: \", grid.best_estimator_)"
   ]
  },
  {
   "cell_type": "code",
   "execution_count": 335,
   "metadata": {
    "ExecuteTime": {
     "end_time": "2020-04-08T19:41:36.265126Z",
     "start_time": "2020-04-08T19:41:36.257129Z"
    }
   },
   "outputs": [
    {
     "name": "stdout",
     "output_type": "stream",
     "text": [
      "The best parameters are {'C': 32.0, 'gamma': 0.001953125} with a score of 0.65\n"
     ]
    }
   ],
   "source": [
    "print(\"The best parameters are %s with a score of %0.2f\"\n",
    "      % (grid.best_params_, grid.best_score_))"
   ]
  },
  {
   "cell_type": "code",
   "execution_count": 336,
   "metadata": {
    "ExecuteTime": {
     "end_time": "2020-04-08T19:41:36.282114Z",
     "start_time": "2020-04-08T19:41:36.267124Z"
    }
   },
   "outputs": [
    {
     "data": {
      "text/plain": [
       "SVC(C=32.0, break_ties=False, cache_size=200, class_weight=None, coef0=0.0,\n",
       "    decision_function_shape='ovr', degree=3, gamma=0.001953125, kernel='rbf',\n",
       "    max_iter=-1, probability=False, random_state=None, shrinking=True,\n",
       "    tol=0.001, verbose=False)"
      ]
     },
     "execution_count": 336,
     "metadata": {},
     "output_type": "execute_result"
    }
   ],
   "source": [
    "clf = grid.best_estimator_\n",
    "clf.fit(X, Y)"
   ]
  },
  {
   "cell_type": "code",
   "execution_count": 337,
   "metadata": {
    "ExecuteTime": {
     "end_time": "2020-04-08T19:41:36.290111Z",
     "start_time": "2020-04-08T19:41:36.284113Z"
    }
   },
   "outputs": [],
   "source": [
    "y_pred = clf.predict(X_val_combined_sg900D)"
   ]
  },
  {
   "cell_type": "code",
   "execution_count": 338,
   "metadata": {
    "ExecuteTime": {
     "end_time": "2020-04-08T19:41:36.302104Z",
     "start_time": "2020-04-08T19:41:36.292108Z"
    }
   },
   "outputs": [
    {
     "name": "stdout",
     "output_type": "stream",
     "text": [
      "('SVM Accuracy Score -> ', 46.666666666666664)\n"
     ]
    }
   ],
   "source": [
    "print((\"SVM Accuracy Score -> \", accuracy_score(y_pred, y_val) * 100))"
   ]
  },
  {
   "cell_type": "code",
   "execution_count": 339,
   "metadata": {
    "ExecuteTime": {
     "end_time": "2020-04-08T19:41:36.319111Z",
     "start_time": "2020-04-08T19:41:36.305103Z"
    },
    "scrolled": true
   },
   "outputs": [
    {
     "name": "stdout",
     "output_type": "stream",
     "text": [
      "              precision    recall  f1-score   support\n",
      "\n",
      "         GCR       0.42      0.52      0.47        27\n",
      "        Vert       0.52      0.42      0.47        33\n",
      "\n",
      "    accuracy                           0.47        60\n",
      "   macro avg       0.47      0.47      0.47        60\n",
      "weighted avg       0.48      0.47      0.47        60\n",
      "\n"
     ]
    }
   ],
   "source": [
    "from sklearn.metrics import classification_report\n",
    "print((classification_report(y_val, y_pred, target_names=my_tags)))"
   ]
  },
  {
   "cell_type": "markdown",
   "metadata": {},
   "source": [
    "##### Weighted SVC with 'rbf' kernel "
   ]
  },
  {
   "cell_type": "code",
   "execution_count": 340,
   "metadata": {
    "ExecuteTime": {
     "end_time": "2020-04-08T19:41:37.673597Z",
     "start_time": "2020-04-08T19:41:37.669599Z"
    }
   },
   "outputs": [],
   "source": [
    "X = X_train_combined_sg900D\n",
    "Y = y_train"
   ]
  },
  {
   "cell_type": "code",
   "execution_count": 341,
   "metadata": {
    "ExecuteTime": {
     "end_time": "2020-04-08T19:41:38.364715Z",
     "start_time": "2020-04-08T19:41:38.361733Z"
    }
   },
   "outputs": [],
   "source": [
    "# It is usually a good idea to scale the data for SVM training.\n",
    "# We are cheating a bit in this example in scaling all of the data,\n",
    "# instead of fitting the transformation on the trainingset and\n",
    "# just applying it on the test set.\n",
    "\n",
    "# scaler = StandardScaler()\n",
    "# X = scaler.fit_transform(X_train_updated_google)"
   ]
  },
  {
   "cell_type": "code",
   "execution_count": 342,
   "metadata": {
    "ExecuteTime": {
     "end_time": "2020-04-08T19:41:44.382079Z",
     "start_time": "2020-04-08T19:41:40.297423Z"
    }
   },
   "outputs": [
    {
     "data": {
      "text/plain": [
       "GridSearchCV(cv=StratifiedKFold(n_splits=10, random_state=None, shuffle=False),\n",
       "             error_score=nan,\n",
       "             estimator=SVC(C=1.0, break_ties=False, cache_size=200,\n",
       "                           class_weight=None, coef0=0.0,\n",
       "                           decision_function_shape='ovr', degree=3,\n",
       "                           gamma='scale', kernel='rbf', max_iter=-1,\n",
       "                           probability=False, random_state=None, shrinking=True,\n",
       "                           tol=0.001, verbose=False),\n",
       "             iid='deprecated', n_jobs...\n",
       "       3.20000e+01, 1.28000e+02, 5.12000e+02, 2.04800e+03, 8.19200e+03,\n",
       "       3.27680e+04, 1.31072e+05]),\n",
       "                         'gamma': array([7.62939453e-06, 3.05175781e-05, 1.22070312e-04, 4.88281250e-04,\n",
       "       1.95312500e-03, 7.81250000e-03, 3.12500000e-02, 1.25000000e-01,\n",
       "       5.00000000e-01, 2.00000000e+00, 8.00000000e+00])},\n",
       "             pre_dispatch='2*n_jobs', refit=True, return_train_score=False,\n",
       "             scoring=None, verbose=0)"
      ]
     },
     "execution_count": 342,
     "metadata": {},
     "output_type": "execute_result"
    }
   ],
   "source": [
    "C_range = 2. ** np.arange(-5, 18, 2)\n",
    "gamma_range = 2. ** np.arange(-17, 4, 2)\n",
    "param_grid = dict(gamma=gamma_range, C=C_range)\n",
    "grid = GridSearchCV(SVC(), param_grid=param_grid,\n",
    "                    cv=StratifiedKFold(n_splits=10))\n",
    "grid.fit(X, Y)"
   ]
  },
  {
   "cell_type": "code",
   "execution_count": 343,
   "metadata": {
    "ExecuteTime": {
     "end_time": "2020-04-08T19:41:44.390076Z",
     "start_time": "2020-04-08T19:41:44.384078Z"
    }
   },
   "outputs": [
    {
     "data": {
      "text/plain": [
       "{'gamma': array([7.62939453e-06, 3.05175781e-05, 1.22070312e-04, 4.88281250e-04,\n",
       "        1.95312500e-03, 7.81250000e-03, 3.12500000e-02, 1.25000000e-01,\n",
       "        5.00000000e-01, 2.00000000e+00, 8.00000000e+00]),\n",
       " 'C': array([3.12500e-02, 1.25000e-01, 5.00000e-01, 2.00000e+00, 8.00000e+00,\n",
       "        3.20000e+01, 1.28000e+02, 5.12000e+02, 2.04800e+03, 8.19200e+03,\n",
       "        3.27680e+04, 1.31072e+05])}"
      ]
     },
     "execution_count": 343,
     "metadata": {},
     "output_type": "execute_result"
    }
   ],
   "source": [
    "param_grid"
   ]
  },
  {
   "cell_type": "code",
   "execution_count": 344,
   "metadata": {
    "ExecuteTime": {
     "end_time": "2020-04-08T19:41:44.405066Z",
     "start_time": "2020-04-08T19:41:44.393073Z"
    }
   },
   "outputs": [
    {
     "name": "stdout",
     "output_type": "stream",
     "text": [
      "The best classifier is:  SVC(C=32.0, break_ties=False, cache_size=200, class_weight=None, coef0=0.0,\n",
      "    decision_function_shape='ovr', degree=3, gamma=0.001953125, kernel='rbf',\n",
      "    max_iter=-1, probability=False, random_state=None, shrinking=True,\n",
      "    tol=0.001, verbose=False)\n"
     ]
    }
   ],
   "source": [
    "print(\"The best classifier is: \", grid.best_estimator_)"
   ]
  },
  {
   "cell_type": "code",
   "execution_count": 345,
   "metadata": {
    "ExecuteTime": {
     "end_time": "2020-04-08T19:41:44.415060Z",
     "start_time": "2020-04-08T19:41:44.408064Z"
    }
   },
   "outputs": [
    {
     "name": "stdout",
     "output_type": "stream",
     "text": [
      "The best parameters are {'C': 32.0, 'gamma': 0.001953125} with a score of 0.65\n"
     ]
    }
   ],
   "source": [
    "print(\"The best parameters are %s with a score of %0.2f\"\n",
    "      % (grid.best_params_, grid.best_score_))"
   ]
  },
  {
   "cell_type": "code",
   "execution_count": 346,
   "metadata": {
    "ExecuteTime": {
     "end_time": "2020-04-08T19:41:44.432050Z",
     "start_time": "2020-04-08T19:41:44.417059Z"
    }
   },
   "outputs": [
    {
     "data": {
      "text/plain": [
       "SVC(C=32.0, break_ties=False, cache_size=200, class_weight='balanced',\n",
       "    coef0=0.0, decision_function_shape='ovr', degree=3, gamma=0.03125,\n",
       "    kernel='rbf', max_iter=-1, probability=False, random_state=None,\n",
       "    shrinking=True, tol=0.001, verbose=False)"
      ]
     },
     "execution_count": 346,
     "metadata": {},
     "output_type": "execute_result"
    }
   ],
   "source": [
    "clf = SVC(C=32.0, class_weight='balanced', gamma=0.03125, kernel='rbf')\n",
    "clf.fit(X, Y)"
   ]
  },
  {
   "cell_type": "code",
   "execution_count": 347,
   "metadata": {
    "ExecuteTime": {
     "end_time": "2020-04-08T19:41:44.442044Z",
     "start_time": "2020-04-08T19:41:44.434050Z"
    }
   },
   "outputs": [],
   "source": [
    "y_pred = clf.predict(X_val_combined_sg900D)"
   ]
  },
  {
   "cell_type": "code",
   "execution_count": 348,
   "metadata": {
    "ExecuteTime": {
     "end_time": "2020-04-08T19:41:44.453039Z",
     "start_time": "2020-04-08T19:41:44.444043Z"
    }
   },
   "outputs": [
    {
     "name": "stdout",
     "output_type": "stream",
     "text": [
      "('SVM Accuracy Score -> ', 48.333333333333336)\n"
     ]
    }
   ],
   "source": [
    "print((\"SVM Accuracy Score -> \", accuracy_score(y_pred, y_val) * 100))"
   ]
  },
  {
   "cell_type": "code",
   "execution_count": 349,
   "metadata": {
    "ExecuteTime": {
     "end_time": "2020-04-08T19:41:45.463559Z",
     "start_time": "2020-04-08T19:41:45.450566Z"
    },
    "scrolled": false
   },
   "outputs": [
    {
     "name": "stdout",
     "output_type": "stream",
     "text": [
      "              precision    recall  f1-score   support\n",
      "\n",
      "         GCR       0.44      0.52      0.47        27\n",
      "        Vert       0.54      0.45      0.49        33\n",
      "\n",
      "    accuracy                           0.48        60\n",
      "   macro avg       0.49      0.49      0.48        60\n",
      "weighted avg       0.49      0.48      0.48        60\n",
      "\n"
     ]
    }
   ],
   "source": [
    "from sklearn.metrics import classification_report\n",
    "print((classification_report(y_val, y_pred, target_names=my_tags)))"
   ]
  },
  {
   "cell_type": "markdown",
   "metadata": {},
   "source": [
    "##### Logistice regression"
   ]
  },
  {
   "cell_type": "code",
   "execution_count": 350,
   "metadata": {
    "ExecuteTime": {
     "end_time": "2020-04-08T19:41:48.373740Z",
     "start_time": "2020-04-08T19:41:48.329766Z"
    },
    "scrolled": true
   },
   "outputs": [
    {
     "name": "stdout",
     "output_type": "stream",
     "text": [
      "accuracy 0.4666666666666667\n",
      "              precision    recall  f1-score   support\n",
      "\n",
      "         GCR       0.42      0.52      0.47        27\n",
      "        Vert       0.52      0.42      0.47        33\n",
      "\n",
      "    accuracy                           0.47        60\n",
      "   macro avg       0.47      0.47      0.47        60\n",
      "weighted avg       0.48      0.47      0.47        60\n",
      "\n"
     ]
    }
   ],
   "source": [
    "from sklearn.linear_model import LogisticRegression\n",
    "logreg = LogisticRegression(n_jobs=1, C=1e5)\n",
    "logreg = logreg.fit(X_train_combined_sg900D, y_train)\n",
    "y_pred = logreg.predict(X_val_combined_sg900D)\n",
    "print('accuracy %s' % accuracy_score(y_pred, y_val))\n",
    "print(classification_report(y_val, y_pred, target_names=my_tags))"
   ]
  },
  {
   "cell_type": "markdown",
   "metadata": {},
   "source": [
    "##### Weighted logistice regression"
   ]
  },
  {
   "cell_type": "code",
   "execution_count": 351,
   "metadata": {
    "ExecuteTime": {
     "end_time": "2020-04-08T19:41:48.839473Z",
     "start_time": "2020-04-08T19:41:48.812491Z"
    },
    "scrolled": true
   },
   "outputs": [
    {
     "name": "stdout",
     "output_type": "stream",
     "text": [
      "accuracy 0.48333333333333334\n",
      "              precision    recall  f1-score   support\n",
      "\n",
      "         GCR       0.44      0.52      0.47        27\n",
      "        Vert       0.54      0.45      0.49        33\n",
      "\n",
      "    accuracy                           0.48        60\n",
      "   macro avg       0.49      0.49      0.48        60\n",
      "weighted avg       0.49      0.48      0.48        60\n",
      "\n"
     ]
    }
   ],
   "source": [
    "from sklearn.linear_model import LogisticRegression\n",
    "logreg = LogisticRegression(n_jobs=1, C=1e5, class_weight='balanced')\n",
    "logreg = logreg.fit(X_train_combined_sg900D, y_train)\n",
    "y_pred = logreg.predict(X_val_combined_sg900D)\n",
    "print('accuracy %s' % accuracy_score(y_pred, y_val))\n",
    "print(classification_report(y_val, y_pred, target_names=my_tags))"
   ]
  },
  {
   "cell_type": "markdown",
   "metadata": {},
   "source": [
    "### 921D combined "
   ]
  },
  {
   "cell_type": "markdown",
   "metadata": {},
   "source": [
    "##### Linear SVM"
   ]
  },
  {
   "cell_type": "code",
   "execution_count": 352,
   "metadata": {
    "ExecuteTime": {
     "end_time": "2020-04-08T19:41:28.925332Z",
     "start_time": "2020-04-08T19:41:28.915341Z"
    },
    "scrolled": true
   },
   "outputs": [
    {
     "data": {
      "text/plain": [
       "SVC(C=1.0, break_ties=False, cache_size=200, class_weight=None, coef0=0.0,\n",
       "    decision_function_shape='ovr', degree=3, gamma='scale', kernel='linear',\n",
       "    max_iter=-1, probability=False, random_state=None, shrinking=True,\n",
       "    tol=0.001, verbose=False)"
      ]
     },
     "execution_count": 352,
     "metadata": {},
     "output_type": "execute_result"
    }
   ],
   "source": [
    "clf = SVC(kernel='linear')\n",
    "clf.fit(X_train_combined_sg921D, y_train)"
   ]
  },
  {
   "cell_type": "code",
   "execution_count": 353,
   "metadata": {
    "ExecuteTime": {
     "end_time": "2020-04-08T19:41:29.208170Z",
     "start_time": "2020-04-08T19:41:29.203192Z"
    }
   },
   "outputs": [],
   "source": [
    "y_pred = clf.predict(X_val_combined_sg921D)"
   ]
  },
  {
   "cell_type": "code",
   "execution_count": 354,
   "metadata": {
    "ExecuteTime": {
     "end_time": "2020-04-08T19:41:29.405058Z",
     "start_time": "2020-04-08T19:41:29.401060Z"
    }
   },
   "outputs": [
    {
     "name": "stdout",
     "output_type": "stream",
     "text": [
      "SVM Accuracy Score ->  46.666666666666664\n"
     ]
    }
   ],
   "source": [
    "print(\"SVM Accuracy Score -> \", accuracy_score(y_pred, y_val) * 100)"
   ]
  },
  {
   "cell_type": "code",
   "execution_count": 355,
   "metadata": {
    "ExecuteTime": {
     "end_time": "2020-04-08T19:41:29.720878Z",
     "start_time": "2020-04-08T19:41:29.709884Z"
    }
   },
   "outputs": [
    {
     "name": "stdout",
     "output_type": "stream",
     "text": [
      "              precision    recall  f1-score   support\n",
      "\n",
      "         GCR       0.42      0.52      0.47        27\n",
      "        Vert       0.52      0.42      0.47        33\n",
      "\n",
      "    accuracy                           0.47        60\n",
      "   macro avg       0.47      0.47      0.47        60\n",
      "weighted avg       0.48      0.47      0.47        60\n",
      "\n"
     ]
    }
   ],
   "source": [
    "from sklearn.metrics import classification_report\n",
    "print(classification_report(y_val, y_pred, target_names=my_tags))"
   ]
  },
  {
   "cell_type": "markdown",
   "metadata": {},
   "source": [
    "##### Weighted Linear SVM"
   ]
  },
  {
   "cell_type": "code",
   "execution_count": 356,
   "metadata": {
    "ExecuteTime": {
     "end_time": "2020-04-08T19:41:30.119647Z",
     "start_time": "2020-04-08T19:41:30.108656Z"
    },
    "scrolled": true
   },
   "outputs": [
    {
     "data": {
      "text/plain": [
       "SVC(C=1.0, break_ties=False, cache_size=200, class_weight='balanced', coef0=0.0,\n",
       "    decision_function_shape='ovr', degree=3, gamma='scale', kernel='linear',\n",
       "    max_iter=-1, probability=False, random_state=None, shrinking=True,\n",
       "    tol=0.001, verbose=False)"
      ]
     },
     "execution_count": 356,
     "metadata": {},
     "output_type": "execute_result"
    }
   ],
   "source": [
    "clf_balanced_class_weight = SVC(kernel='linear', class_weight='balanced')\n",
    "clf_balanced_class_weight.fit(X_train_combined_sg921D, y_train)"
   ]
  },
  {
   "cell_type": "code",
   "execution_count": 357,
   "metadata": {
    "ExecuteTime": {
     "end_time": "2020-04-08T19:41:30.313551Z",
     "start_time": "2020-04-08T19:41:30.307540Z"
    }
   },
   "outputs": [],
   "source": [
    "y_pred_balanced_class_weight = clf_balanced_class_weight.predict(\n",
    "    X_val_combined_sg921D)"
   ]
  },
  {
   "cell_type": "code",
   "execution_count": 358,
   "metadata": {
    "ExecuteTime": {
     "end_time": "2020-04-08T19:41:30.503428Z",
     "start_time": "2020-04-08T19:41:30.499431Z"
    }
   },
   "outputs": [
    {
     "name": "stdout",
     "output_type": "stream",
     "text": [
      "SVM Accuracy Score ->  46.666666666666664\n"
     ]
    }
   ],
   "source": [
    "print(\"SVM Accuracy Score -> \",\n",
    "      accuracy_score(y_pred_balanced_class_weight, y_val) * 100)"
   ]
  },
  {
   "cell_type": "code",
   "execution_count": 359,
   "metadata": {
    "ExecuteTime": {
     "end_time": "2020-04-08T19:41:30.707311Z",
     "start_time": "2020-04-08T19:41:30.696319Z"
    },
    "scrolled": true
   },
   "outputs": [
    {
     "name": "stdout",
     "output_type": "stream",
     "text": [
      "              precision    recall  f1-score   support\n",
      "\n",
      "         GCR       0.42      0.52      0.47        27\n",
      "        Vert       0.52      0.42      0.47        33\n",
      "\n",
      "    accuracy                           0.47        60\n",
      "   macro avg       0.47      0.47      0.47        60\n",
      "weighted avg       0.48      0.47      0.47        60\n",
      "\n"
     ]
    }
   ],
   "source": [
    "from sklearn.metrics import classification_report\n",
    "print(\n",
    "    classification_report(y_val,\n",
    "                          y_pred_balanced_class_weight,\n",
    "                          target_names=my_tags))"
   ]
  },
  {
   "cell_type": "markdown",
   "metadata": {},
   "source": [
    "##### SVC with 'rbf' kernel"
   ]
  },
  {
   "cell_type": "code",
   "execution_count": 360,
   "metadata": {
    "ExecuteTime": {
     "end_time": "2020-04-08T19:41:31.216019Z",
     "start_time": "2020-04-08T19:41:31.213022Z"
    }
   },
   "outputs": [],
   "source": [
    "X = X_train_combined_sg921D\n",
    "Y = y_train"
   ]
  },
  {
   "cell_type": "code",
   "execution_count": 361,
   "metadata": {
    "ExecuteTime": {
     "end_time": "2020-04-08T19:41:31.426899Z",
     "start_time": "2020-04-08T19:41:31.422919Z"
    }
   },
   "outputs": [],
   "source": [
    "# It is usually a good idea to scale the data for SVM training.\n",
    "# We are cheating a bit in this example in scaling all of the data,\n",
    "# instead of fitting the transformation on the trainingset and\n",
    "# just applying it on the test set.\n",
    "\n",
    "# scaler = StandardScaler()\n",
    "# X = scaler.fit_transform(X_train_updated_google)"
   ]
  },
  {
   "cell_type": "code",
   "execution_count": 362,
   "metadata": {
    "ExecuteTime": {
     "end_time": "2020-04-08T19:41:36.230163Z",
     "start_time": "2020-04-08T19:41:31.631780Z"
    }
   },
   "outputs": [
    {
     "data": {
      "text/plain": [
       "GridSearchCV(cv=StratifiedKFold(n_splits=10, random_state=None, shuffle=False),\n",
       "             error_score=nan,\n",
       "             estimator=SVC(C=1.0, break_ties=False, cache_size=200,\n",
       "                           class_weight=None, coef0=0.0,\n",
       "                           decision_function_shape='ovr', degree=3,\n",
       "                           gamma='scale', kernel='rbf', max_iter=-1,\n",
       "                           probability=False, random_state=None, shrinking=True,\n",
       "                           tol=0.001, verbose=False),\n",
       "             iid='deprecated', n_jobs...\n",
       "       3.20000e+01, 1.28000e+02, 5.12000e+02, 2.04800e+03, 8.19200e+03,\n",
       "       3.27680e+04, 1.31072e+05]),\n",
       "                         'gamma': array([7.62939453e-06, 3.05175781e-05, 1.22070312e-04, 4.88281250e-04,\n",
       "       1.95312500e-03, 7.81250000e-03, 3.12500000e-02, 1.25000000e-01,\n",
       "       5.00000000e-01, 2.00000000e+00, 8.00000000e+00])},\n",
       "             pre_dispatch='2*n_jobs', refit=True, return_train_score=False,\n",
       "             scoring=None, verbose=0)"
      ]
     },
     "execution_count": 362,
     "metadata": {},
     "output_type": "execute_result"
    }
   ],
   "source": [
    "C_range = 2. ** np.arange(-5, 18, 2)\n",
    "gamma_range = 2. ** np.arange(-17, 4, 2)\n",
    "param_grid = dict(gamma=gamma_range, C=C_range)\n",
    "grid = GridSearchCV(SVC(), param_grid=param_grid,\n",
    "                    cv=StratifiedKFold(n_splits=10))\n",
    "grid.fit(X, Y)"
   ]
  },
  {
   "cell_type": "code",
   "execution_count": 363,
   "metadata": {
    "ExecuteTime": {
     "end_time": "2020-04-08T19:41:36.240140Z",
     "start_time": "2020-04-08T19:41:36.233142Z"
    }
   },
   "outputs": [
    {
     "data": {
      "text/plain": [
       "{'gamma': array([7.62939453e-06, 3.05175781e-05, 1.22070312e-04, 4.88281250e-04,\n",
       "        1.95312500e-03, 7.81250000e-03, 3.12500000e-02, 1.25000000e-01,\n",
       "        5.00000000e-01, 2.00000000e+00, 8.00000000e+00]),\n",
       " 'C': array([3.12500e-02, 1.25000e-01, 5.00000e-01, 2.00000e+00, 8.00000e+00,\n",
       "        3.20000e+01, 1.28000e+02, 5.12000e+02, 2.04800e+03, 8.19200e+03,\n",
       "        3.27680e+04, 1.31072e+05])}"
      ]
     },
     "execution_count": 363,
     "metadata": {},
     "output_type": "execute_result"
    }
   ],
   "source": [
    "param_grid"
   ]
  },
  {
   "cell_type": "code",
   "execution_count": 364,
   "metadata": {
    "ExecuteTime": {
     "end_time": "2020-04-08T19:41:36.254130Z",
     "start_time": "2020-04-08T19:41:36.243136Z"
    }
   },
   "outputs": [
    {
     "name": "stdout",
     "output_type": "stream",
     "text": [
      "The best classifier is:  SVC(C=8.0, break_ties=False, cache_size=200, class_weight=None, coef0=0.0,\n",
      "    decision_function_shape='ovr', degree=3, gamma=0.0078125, kernel='rbf',\n",
      "    max_iter=-1, probability=False, random_state=None, shrinking=True,\n",
      "    tol=0.001, verbose=False)\n"
     ]
    }
   ],
   "source": [
    "print(\"The best classifier is: \", grid.best_estimator_)"
   ]
  },
  {
   "cell_type": "code",
   "execution_count": 365,
   "metadata": {
    "ExecuteTime": {
     "end_time": "2020-04-08T19:41:36.265126Z",
     "start_time": "2020-04-08T19:41:36.257129Z"
    }
   },
   "outputs": [
    {
     "name": "stdout",
     "output_type": "stream",
     "text": [
      "The best parameters are {'C': 8.0, 'gamma': 0.0078125} with a score of 0.65\n"
     ]
    }
   ],
   "source": [
    "print(\"The best parameters are %s with a score of %0.2f\"\n",
    "      % (grid.best_params_, grid.best_score_))"
   ]
  },
  {
   "cell_type": "code",
   "execution_count": 366,
   "metadata": {
    "ExecuteTime": {
     "end_time": "2020-04-08T19:41:36.282114Z",
     "start_time": "2020-04-08T19:41:36.267124Z"
    }
   },
   "outputs": [
    {
     "data": {
      "text/plain": [
       "SVC(C=8.0, break_ties=False, cache_size=200, class_weight=None, coef0=0.0,\n",
       "    decision_function_shape='ovr', degree=3, gamma=0.0078125, kernel='rbf',\n",
       "    max_iter=-1, probability=False, random_state=None, shrinking=True,\n",
       "    tol=0.001, verbose=False)"
      ]
     },
     "execution_count": 366,
     "metadata": {},
     "output_type": "execute_result"
    }
   ],
   "source": [
    "clf = grid.best_estimator_\n",
    "clf.fit(X, Y)"
   ]
  },
  {
   "cell_type": "code",
   "execution_count": 367,
   "metadata": {
    "ExecuteTime": {
     "end_time": "2020-04-08T19:41:36.290111Z",
     "start_time": "2020-04-08T19:41:36.284113Z"
    }
   },
   "outputs": [],
   "source": [
    "y_pred = clf.predict(X_val_combined_sg921D)"
   ]
  },
  {
   "cell_type": "code",
   "execution_count": 368,
   "metadata": {
    "ExecuteTime": {
     "end_time": "2020-04-08T19:41:36.302104Z",
     "start_time": "2020-04-08T19:41:36.292108Z"
    }
   },
   "outputs": [
    {
     "name": "stdout",
     "output_type": "stream",
     "text": [
      "('SVM Accuracy Score -> ', 48.333333333333336)\n"
     ]
    }
   ],
   "source": [
    "print((\"SVM Accuracy Score -> \", accuracy_score(y_pred, y_val) * 100))"
   ]
  },
  {
   "cell_type": "code",
   "execution_count": 369,
   "metadata": {
    "ExecuteTime": {
     "end_time": "2020-04-08T19:41:36.319111Z",
     "start_time": "2020-04-08T19:41:36.305103Z"
    },
    "scrolled": true
   },
   "outputs": [
    {
     "name": "stdout",
     "output_type": "stream",
     "text": [
      "              precision    recall  f1-score   support\n",
      "\n",
      "         GCR       0.44      0.52      0.47        27\n",
      "        Vert       0.54      0.45      0.49        33\n",
      "\n",
      "    accuracy                           0.48        60\n",
      "   macro avg       0.49      0.49      0.48        60\n",
      "weighted avg       0.49      0.48      0.48        60\n",
      "\n"
     ]
    }
   ],
   "source": [
    "from sklearn.metrics import classification_report\n",
    "print((classification_report(y_val, y_pred, target_names=my_tags)))"
   ]
  },
  {
   "cell_type": "markdown",
   "metadata": {},
   "source": [
    "##### Weighted SVC with 'rbf' kernel "
   ]
  },
  {
   "cell_type": "code",
   "execution_count": 370,
   "metadata": {
    "ExecuteTime": {
     "end_time": "2020-04-08T19:41:37.673597Z",
     "start_time": "2020-04-08T19:41:37.669599Z"
    }
   },
   "outputs": [],
   "source": [
    "X = X_train_combined_sg921D\n",
    "Y = y_train"
   ]
  },
  {
   "cell_type": "code",
   "execution_count": 371,
   "metadata": {
    "ExecuteTime": {
     "end_time": "2020-04-08T19:41:38.364715Z",
     "start_time": "2020-04-08T19:41:38.361733Z"
    }
   },
   "outputs": [],
   "source": [
    "# It is usually a good idea to scale the data for SVM training.\n",
    "# We are cheating a bit in this example in scaling all of the data,\n",
    "# instead of fitting the transformation on the trainingset and\n",
    "# just applying it on the test set.\n",
    "\n",
    "# scaler = StandardScaler()\n",
    "# X = scaler.fit_transform(X_train_updated_google)"
   ]
  },
  {
   "cell_type": "code",
   "execution_count": 372,
   "metadata": {
    "ExecuteTime": {
     "end_time": "2020-04-08T19:41:44.382079Z",
     "start_time": "2020-04-08T19:41:40.297423Z"
    }
   },
   "outputs": [
    {
     "data": {
      "text/plain": [
       "GridSearchCV(cv=StratifiedKFold(n_splits=10, random_state=None, shuffle=False),\n",
       "             error_score=nan,\n",
       "             estimator=SVC(C=1.0, break_ties=False, cache_size=200,\n",
       "                           class_weight=None, coef0=0.0,\n",
       "                           decision_function_shape='ovr', degree=3,\n",
       "                           gamma='scale', kernel='rbf', max_iter=-1,\n",
       "                           probability=False, random_state=None, shrinking=True,\n",
       "                           tol=0.001, verbose=False),\n",
       "             iid='deprecated', n_jobs...\n",
       "       3.20000e+01, 1.28000e+02, 5.12000e+02, 2.04800e+03, 8.19200e+03,\n",
       "       3.27680e+04, 1.31072e+05]),\n",
       "                         'gamma': array([7.62939453e-06, 3.05175781e-05, 1.22070312e-04, 4.88281250e-04,\n",
       "       1.95312500e-03, 7.81250000e-03, 3.12500000e-02, 1.25000000e-01,\n",
       "       5.00000000e-01, 2.00000000e+00, 8.00000000e+00])},\n",
       "             pre_dispatch='2*n_jobs', refit=True, return_train_score=False,\n",
       "             scoring=None, verbose=0)"
      ]
     },
     "execution_count": 372,
     "metadata": {},
     "output_type": "execute_result"
    }
   ],
   "source": [
    "C_range = 2. ** np.arange(-5, 18, 2)\n",
    "gamma_range = 2. ** np.arange(-17, 4, 2)\n",
    "param_grid = dict(gamma=gamma_range, C=C_range)\n",
    "grid = GridSearchCV(SVC(), param_grid=param_grid,\n",
    "                    cv=StratifiedKFold(n_splits=10))\n",
    "grid.fit(X, Y)"
   ]
  },
  {
   "cell_type": "code",
   "execution_count": 373,
   "metadata": {
    "ExecuteTime": {
     "end_time": "2020-04-08T19:41:44.390076Z",
     "start_time": "2020-04-08T19:41:44.384078Z"
    }
   },
   "outputs": [
    {
     "data": {
      "text/plain": [
       "{'gamma': array([7.62939453e-06, 3.05175781e-05, 1.22070312e-04, 4.88281250e-04,\n",
       "        1.95312500e-03, 7.81250000e-03, 3.12500000e-02, 1.25000000e-01,\n",
       "        5.00000000e-01, 2.00000000e+00, 8.00000000e+00]),\n",
       " 'C': array([3.12500e-02, 1.25000e-01, 5.00000e-01, 2.00000e+00, 8.00000e+00,\n",
       "        3.20000e+01, 1.28000e+02, 5.12000e+02, 2.04800e+03, 8.19200e+03,\n",
       "        3.27680e+04, 1.31072e+05])}"
      ]
     },
     "execution_count": 373,
     "metadata": {},
     "output_type": "execute_result"
    }
   ],
   "source": [
    "param_grid"
   ]
  },
  {
   "cell_type": "code",
   "execution_count": 374,
   "metadata": {
    "ExecuteTime": {
     "end_time": "2020-04-08T19:41:44.405066Z",
     "start_time": "2020-04-08T19:41:44.393073Z"
    }
   },
   "outputs": [
    {
     "name": "stdout",
     "output_type": "stream",
     "text": [
      "The best classifier is:  SVC(C=8.0, break_ties=False, cache_size=200, class_weight=None, coef0=0.0,\n",
      "    decision_function_shape='ovr', degree=3, gamma=0.0078125, kernel='rbf',\n",
      "    max_iter=-1, probability=False, random_state=None, shrinking=True,\n",
      "    tol=0.001, verbose=False)\n"
     ]
    }
   ],
   "source": [
    "print(\"The best classifier is: \", grid.best_estimator_)"
   ]
  },
  {
   "cell_type": "code",
   "execution_count": 375,
   "metadata": {
    "ExecuteTime": {
     "end_time": "2020-04-08T19:41:44.415060Z",
     "start_time": "2020-04-08T19:41:44.408064Z"
    }
   },
   "outputs": [
    {
     "name": "stdout",
     "output_type": "stream",
     "text": [
      "The best parameters are {'C': 8.0, 'gamma': 0.0078125} with a score of 0.65\n"
     ]
    }
   ],
   "source": [
    "print(\"The best parameters are %s with a score of %0.2f\"\n",
    "      % (grid.best_params_, grid.best_score_))"
   ]
  },
  {
   "cell_type": "code",
   "execution_count": 376,
   "metadata": {
    "ExecuteTime": {
     "end_time": "2020-04-08T19:41:44.432050Z",
     "start_time": "2020-04-08T19:41:44.417059Z"
    }
   },
   "outputs": [
    {
     "data": {
      "text/plain": [
       "SVC(C=32.0, break_ties=False, cache_size=200, class_weight='balanced',\n",
       "    coef0=0.0, decision_function_shape='ovr', degree=3, gamma=0.03125,\n",
       "    kernel='rbf', max_iter=-1, probability=False, random_state=None,\n",
       "    shrinking=True, tol=0.001, verbose=False)"
      ]
     },
     "execution_count": 376,
     "metadata": {},
     "output_type": "execute_result"
    }
   ],
   "source": [
    "clf = SVC(C=32.0, class_weight='balanced', gamma=0.03125, kernel='rbf')\n",
    "clf.fit(X, Y)"
   ]
  },
  {
   "cell_type": "code",
   "execution_count": 377,
   "metadata": {
    "ExecuteTime": {
     "end_time": "2020-04-08T19:41:44.442044Z",
     "start_time": "2020-04-08T19:41:44.434050Z"
    }
   },
   "outputs": [],
   "source": [
    "y_pred = clf.predict(X_val_combined_sg921D)"
   ]
  },
  {
   "cell_type": "code",
   "execution_count": 378,
   "metadata": {
    "ExecuteTime": {
     "end_time": "2020-04-08T19:41:44.453039Z",
     "start_time": "2020-04-08T19:41:44.444043Z"
    }
   },
   "outputs": [
    {
     "name": "stdout",
     "output_type": "stream",
     "text": [
      "('SVM Accuracy Score -> ', 48.333333333333336)\n"
     ]
    }
   ],
   "source": [
    "print((\"SVM Accuracy Score -> \", accuracy_score(y_pred, y_val) * 100))"
   ]
  },
  {
   "cell_type": "code",
   "execution_count": 379,
   "metadata": {
    "ExecuteTime": {
     "end_time": "2020-04-08T19:41:45.463559Z",
     "start_time": "2020-04-08T19:41:45.450566Z"
    },
    "scrolled": false
   },
   "outputs": [
    {
     "name": "stdout",
     "output_type": "stream",
     "text": [
      "              precision    recall  f1-score   support\n",
      "\n",
      "         GCR       0.44      0.56      0.49        27\n",
      "        Vert       0.54      0.42      0.47        33\n",
      "\n",
      "    accuracy                           0.48        60\n",
      "   macro avg       0.49      0.49      0.48        60\n",
      "weighted avg       0.49      0.48      0.48        60\n",
      "\n"
     ]
    }
   ],
   "source": [
    "from sklearn.metrics import classification_report\n",
    "print((classification_report(y_val, y_pred, target_names=my_tags)))"
   ]
  },
  {
   "cell_type": "markdown",
   "metadata": {},
   "source": [
    "##### Logistice regression"
   ]
  },
  {
   "cell_type": "code",
   "execution_count": 380,
   "metadata": {
    "ExecuteTime": {
     "end_time": "2020-04-08T19:41:48.373740Z",
     "start_time": "2020-04-08T19:41:48.329766Z"
    },
    "scrolled": true
   },
   "outputs": [
    {
     "name": "stdout",
     "output_type": "stream",
     "text": [
      "accuracy 0.4666666666666667\n",
      "              precision    recall  f1-score   support\n",
      "\n",
      "         GCR       0.42      0.52      0.47        27\n",
      "        Vert       0.52      0.42      0.47        33\n",
      "\n",
      "    accuracy                           0.47        60\n",
      "   macro avg       0.47      0.47      0.47        60\n",
      "weighted avg       0.48      0.47      0.47        60\n",
      "\n"
     ]
    }
   ],
   "source": [
    "from sklearn.linear_model import LogisticRegression\n",
    "logreg = LogisticRegression(n_jobs=1, C=1e5)\n",
    "logreg = logreg.fit(X_train_combined_sg921D, y_train)\n",
    "y_pred = logreg.predict(X_val_combined_sg921D)\n",
    "print('accuracy %s' % accuracy_score(y_pred, y_val))\n",
    "print(classification_report(y_val, y_pred, target_names=my_tags))"
   ]
  },
  {
   "cell_type": "markdown",
   "metadata": {},
   "source": [
    "##### Weighted logistice regression"
   ]
  },
  {
   "cell_type": "code",
   "execution_count": 381,
   "metadata": {
    "ExecuteTime": {
     "end_time": "2020-04-08T19:41:48.839473Z",
     "start_time": "2020-04-08T19:41:48.812491Z"
    },
    "scrolled": true
   },
   "outputs": [
    {
     "name": "stdout",
     "output_type": "stream",
     "text": [
      "accuracy 0.5\n",
      "              precision    recall  f1-score   support\n",
      "\n",
      "         GCR       0.45      0.52      0.48        27\n",
      "        Vert       0.55      0.48      0.52        33\n",
      "\n",
      "    accuracy                           0.50        60\n",
      "   macro avg       0.50      0.50      0.50        60\n",
      "weighted avg       0.51      0.50      0.50        60\n",
      "\n"
     ]
    }
   ],
   "source": [
    "from sklearn.linear_model import LogisticRegression\n",
    "logreg = LogisticRegression(n_jobs=1, C=1e5, class_weight='balanced')\n",
    "logreg = logreg.fit(X_train_combined_sg921D, y_train)\n",
    "y_pred = logreg.predict(X_val_combined_sg921D)\n",
    "print('accuracy %s' % accuracy_score(y_pred, y_val))\n",
    "print(classification_report(y_val, y_pred, target_names=my_tags))"
   ]
  },
  {
   "cell_type": "markdown",
   "metadata": {},
   "source": [
    "### training with google pre-trained word embedding "
   ]
  },
  {
   "cell_type": "code",
   "execution_count": 382,
   "metadata": {},
   "outputs": [],
   "source": [
    "# def transform_with_google(x):\n",
    "#     return np.array([\n",
    "#         np.mean([model_google[w]\n",
    "#                  for w in words if w in model_google] or [np.zeros(model_google['balance'].shape)],\n",
    "#                 axis=0) for words in x\n",
    "#     ])\n",
    "def transform_with_google(x):\n",
    "    return np.array([\n",
    "        np.concatenate(([model_google[w]\n",
    "                 for w in words if w in model_google]or [np.zeros(model_google['balance'].shape)],\n",
    "                       [particle_features[w]\n",
    "                 for w in words if w in particle_features]or [np.zeros(particle_features['balance'].shape)]),\n",
    "                axis=None) for words in x\n",
    "    ]) \n",
    "# X_train_combined_cw=transform_with_combine_features_cw(X_train)\n",
    "# X_val_combined_cw=transform_with_combine_features_cw(X_val)"
   ]
  },
  {
   "cell_type": "code",
   "execution_count": 383,
   "metadata": {
    "scrolled": true
   },
   "outputs": [],
   "source": [
    "X_train_updated_google = transform_with_google(X_train)\n",
    "# X_val_updated_google = transform_with_google(X_val)\n",
    "X_val_updated_google = transform_with_google(X_test)"
   ]
  },
  {
   "cell_type": "markdown",
   "metadata": {},
   "source": [
    "#### Linear SVM"
   ]
  },
  {
   "cell_type": "code",
   "execution_count": 384,
   "metadata": {
    "scrolled": true
   },
   "outputs": [
    {
     "data": {
      "text/plain": [
       "SVC(C=1.0, break_ties=False, cache_size=200, class_weight=None, coef0=0.0,\n",
       "    decision_function_shape='ovr', degree=3, gamma='scale', kernel='linear',\n",
       "    max_iter=-1, probability=False, random_state=None, shrinking=True,\n",
       "    tol=0.001, verbose=False)"
      ]
     },
     "execution_count": 384,
     "metadata": {},
     "output_type": "execute_result"
    }
   ],
   "source": [
    "clf = SVC(kernel='linear')\n",
    "clf.fit(X_train_updated_google, y_train)"
   ]
  },
  {
   "cell_type": "code",
   "execution_count": 385,
   "metadata": {},
   "outputs": [],
   "source": [
    "y_pred = clf.predict(X_val_updated_google)"
   ]
  },
  {
   "cell_type": "code",
   "execution_count": 386,
   "metadata": {},
   "outputs": [
    {
     "name": "stdout",
     "output_type": "stream",
     "text": [
      "SVM Accuracy Score ->  41.66666666666667\n"
     ]
    }
   ],
   "source": [
    "print(\"SVM Accuracy Score -> \", accuracy_score(y_pred, y_val) * 100)"
   ]
  },
  {
   "cell_type": "code",
   "execution_count": 387,
   "metadata": {},
   "outputs": [
    {
     "name": "stdout",
     "output_type": "stream",
     "text": [
      "              precision    recall  f1-score   support\n",
      "\n",
      "         GCR       0.39      0.52      0.44        27\n",
      "        Vert       0.46      0.33      0.39        33\n",
      "\n",
      "    accuracy                           0.42        60\n",
      "   macro avg       0.42      0.43      0.42        60\n",
      "weighted avg       0.43      0.42      0.41        60\n",
      "\n"
     ]
    }
   ],
   "source": [
    "from sklearn.metrics import classification_report\n",
    "print(classification_report(y_val, y_pred, target_names=my_tags))"
   ]
  },
  {
   "cell_type": "markdown",
   "metadata": {},
   "source": [
    "#### Weighted Linear SVM"
   ]
  },
  {
   "cell_type": "code",
   "execution_count": 388,
   "metadata": {
    "scrolled": true
   },
   "outputs": [
    {
     "data": {
      "text/plain": [
       "SVC(C=1.0, break_ties=False, cache_size=200, class_weight='balanced', coef0=0.0,\n",
       "    decision_function_shape='ovr', degree=3, gamma='scale', kernel='linear',\n",
       "    max_iter=-1, probability=False, random_state=None, shrinking=True,\n",
       "    tol=0.001, verbose=False)"
      ]
     },
     "execution_count": 388,
     "metadata": {},
     "output_type": "execute_result"
    }
   ],
   "source": [
    "clf_balanced_class_weight = SVC(kernel='linear', class_weight='balanced')\n",
    "clf_balanced_class_weight.fit(X_train_updated_google, y_train)"
   ]
  },
  {
   "cell_type": "code",
   "execution_count": 389,
   "metadata": {},
   "outputs": [],
   "source": [
    "y_pred_balanced_class_weight = clf_balanced_class_weight.predict(\n",
    "    X_val_updated_google)"
   ]
  },
  {
   "cell_type": "code",
   "execution_count": 390,
   "metadata": {},
   "outputs": [
    {
     "name": "stdout",
     "output_type": "stream",
     "text": [
      "SVM Accuracy Score ->  41.66666666666667\n"
     ]
    }
   ],
   "source": [
    "print(\"SVM Accuracy Score -> \",\n",
    "      accuracy_score(y_pred_balanced_class_weight, y_val) * 100)"
   ]
  },
  {
   "cell_type": "code",
   "execution_count": 391,
   "metadata": {
    "scrolled": false
   },
   "outputs": [
    {
     "name": "stdout",
     "output_type": "stream",
     "text": [
      "              precision    recall  f1-score   support\n",
      "\n",
      "         GCR       0.39      0.52      0.44        27\n",
      "        Vert       0.46      0.33      0.39        33\n",
      "\n",
      "    accuracy                           0.42        60\n",
      "   macro avg       0.42      0.43      0.42        60\n",
      "weighted avg       0.43      0.42      0.41        60\n",
      "\n"
     ]
    }
   ],
   "source": [
    "from sklearn.metrics import classification_report\n",
    "print(\n",
    "    classification_report(y_val,\n",
    "                          y_pred_balanced_class_weight,\n",
    "                          target_names=my_tags))"
   ]
  },
  {
   "cell_type": "markdown",
   "metadata": {},
   "source": [
    "#### SVC with 'rbf' kernel"
   ]
  },
  {
   "cell_type": "code",
   "execution_count": 392,
   "metadata": {},
   "outputs": [],
   "source": [
    "X = X_train_updated_google\n",
    "Y = y_train"
   ]
  },
  {
   "cell_type": "code",
   "execution_count": 393,
   "metadata": {},
   "outputs": [],
   "source": [
    "# It is usually a good idea to scale the data for SVM training.\n",
    "# We are cheating a bit in this example in scaling all of the data,\n",
    "# instead of fitting the transformation on the trainingset and\n",
    "# just applying it on the test set.\n",
    "\n",
    "# scaler = StandardScaler()\n",
    "# X = scaler.fit_transform(X_train_updated_google)"
   ]
  },
  {
   "cell_type": "code",
   "execution_count": 394,
   "metadata": {},
   "outputs": [
    {
     "data": {
      "text/plain": [
       "GridSearchCV(cv=StratifiedKFold(n_splits=10, random_state=None, shuffle=False),\n",
       "             error_score=nan,\n",
       "             estimator=SVC(C=1.0, break_ties=False, cache_size=200,\n",
       "                           class_weight=None, coef0=0.0,\n",
       "                           decision_function_shape='ovr', degree=3,\n",
       "                           gamma='scale', kernel='rbf', max_iter=-1,\n",
       "                           probability=False, random_state=None, shrinking=True,\n",
       "                           tol=0.001, verbose=False),\n",
       "             iid='deprecated', n_jobs...\n",
       "       3.20000e+01, 1.28000e+02, 5.12000e+02, 2.04800e+03, 8.19200e+03,\n",
       "       3.27680e+04, 1.31072e+05]),\n",
       "                         'gamma': array([7.62939453e-06, 3.05175781e-05, 1.22070312e-04, 4.88281250e-04,\n",
       "       1.95312500e-03, 7.81250000e-03, 3.12500000e-02, 1.25000000e-01,\n",
       "       5.00000000e-01, 2.00000000e+00, 8.00000000e+00])},\n",
       "             pre_dispatch='2*n_jobs', refit=True, return_train_score=False,\n",
       "             scoring=None, verbose=0)"
      ]
     },
     "execution_count": 394,
     "metadata": {},
     "output_type": "execute_result"
    }
   ],
   "source": [
    "C_range = 2. ** np.arange(-5, 18, 2)\n",
    "gamma_range = 2. ** np.arange(-17, 4, 2)\n",
    "param_grid = dict(gamma=gamma_range, C=C_range)\n",
    "grid = GridSearchCV(SVC(), param_grid=param_grid,\n",
    "                    cv=StratifiedKFold(n_splits=10))\n",
    "grid.fit(X, Y)"
   ]
  },
  {
   "cell_type": "code",
   "execution_count": 395,
   "metadata": {},
   "outputs": [
    {
     "data": {
      "text/plain": [
       "{'gamma': array([7.62939453e-06, 3.05175781e-05, 1.22070312e-04, 4.88281250e-04,\n",
       "        1.95312500e-03, 7.81250000e-03, 3.12500000e-02, 1.25000000e-01,\n",
       "        5.00000000e-01, 2.00000000e+00, 8.00000000e+00]),\n",
       " 'C': array([3.12500e-02, 1.25000e-01, 5.00000e-01, 2.00000e+00, 8.00000e+00,\n",
       "        3.20000e+01, 1.28000e+02, 5.12000e+02, 2.04800e+03, 8.19200e+03,\n",
       "        3.27680e+04, 1.31072e+05])}"
      ]
     },
     "execution_count": 395,
     "metadata": {},
     "output_type": "execute_result"
    }
   ],
   "source": [
    "param_grid"
   ]
  },
  {
   "cell_type": "code",
   "execution_count": 396,
   "metadata": {},
   "outputs": [
    {
     "name": "stdout",
     "output_type": "stream",
     "text": [
      "The best classifier is:  SVC(C=32.0, break_ties=False, cache_size=200, class_weight=None, coef0=0.0,\n",
      "    decision_function_shape='ovr', degree=3, gamma=0.001953125, kernel='rbf',\n",
      "    max_iter=-1, probability=False, random_state=None, shrinking=True,\n",
      "    tol=0.001, verbose=False)\n"
     ]
    }
   ],
   "source": [
    "print(\"The best classifier is: \", grid.best_estimator_)"
   ]
  },
  {
   "cell_type": "code",
   "execution_count": 397,
   "metadata": {},
   "outputs": [
    {
     "name": "stdout",
     "output_type": "stream",
     "text": [
      "The best parameters are {'C': 32.0, 'gamma': 0.001953125} with a score of 0.68\n"
     ]
    }
   ],
   "source": [
    "print(\"The best parameters are %s with a score of %0.2f\"\n",
    "      % (grid.best_params_, grid.best_score_))"
   ]
  },
  {
   "cell_type": "code",
   "execution_count": 398,
   "metadata": {},
   "outputs": [
    {
     "data": {
      "text/plain": [
       "SVC(C=32.0, break_ties=False, cache_size=200, class_weight=None, coef0=0.0,\n",
       "    decision_function_shape='ovr', degree=3, gamma=0.001953125, kernel='rbf',\n",
       "    max_iter=-1, probability=False, random_state=None, shrinking=True,\n",
       "    tol=0.001, verbose=False)"
      ]
     },
     "execution_count": 398,
     "metadata": {},
     "output_type": "execute_result"
    }
   ],
   "source": [
    "clf = grid.best_estimator_\n",
    "clf.fit(X, Y)"
   ]
  },
  {
   "cell_type": "code",
   "execution_count": 399,
   "metadata": {},
   "outputs": [],
   "source": [
    "y_pred = clf.predict(X_val_updated_google)"
   ]
  },
  {
   "cell_type": "code",
   "execution_count": 400,
   "metadata": {},
   "outputs": [
    {
     "name": "stdout",
     "output_type": "stream",
     "text": [
      "('SVM Accuracy Score -> ', 36.666666666666664)\n"
     ]
    }
   ],
   "source": [
    "print((\"SVM Accuracy Score -> \", accuracy_score(y_pred, y_val) * 100))"
   ]
  },
  {
   "cell_type": "code",
   "execution_count": 401,
   "metadata": {
    "scrolled": true
   },
   "outputs": [
    {
     "name": "stdout",
     "output_type": "stream",
     "text": [
      "              precision    recall  f1-score   support\n",
      "\n",
      "         GCR       0.39      0.70      0.50        27\n",
      "        Vert       0.27      0.09      0.14        33\n",
      "\n",
      "    accuracy                           0.37        60\n",
      "   macro avg       0.33      0.40      0.32        60\n",
      "weighted avg       0.32      0.37      0.30        60\n",
      "\n"
     ]
    }
   ],
   "source": [
    "from sklearn.metrics import classification_report\n",
    "print((classification_report(y_val, y_pred, target_names=my_tags)))"
   ]
  },
  {
   "cell_type": "markdown",
   "metadata": {},
   "source": [
    "#### Weighted SVC with 'rbf' kernel "
   ]
  },
  {
   "cell_type": "code",
   "execution_count": 402,
   "metadata": {},
   "outputs": [],
   "source": [
    "X = X_train_updated_google\n",
    "Y = y_train"
   ]
  },
  {
   "cell_type": "code",
   "execution_count": 403,
   "metadata": {},
   "outputs": [],
   "source": [
    "# It is usually a good idea to scale the data for SVM training.\n",
    "# We are cheating a bit in this example in scaling all of the data,\n",
    "# instead of fitting the transformation on the trainingset and\n",
    "# just applying it on the test set.\n",
    "\n",
    "# scaler = StandardScaler()\n",
    "# X = scaler.fit_transform(X_train_updated_google)"
   ]
  },
  {
   "cell_type": "code",
   "execution_count": 404,
   "metadata": {},
   "outputs": [
    {
     "data": {
      "text/plain": [
       "GridSearchCV(cv=StratifiedKFold(n_splits=10, random_state=None, shuffle=False),\n",
       "             error_score=nan,\n",
       "             estimator=SVC(C=1.0, break_ties=False, cache_size=200,\n",
       "                           class_weight=None, coef0=0.0,\n",
       "                           decision_function_shape='ovr', degree=3,\n",
       "                           gamma='scale', kernel='rbf', max_iter=-1,\n",
       "                           probability=False, random_state=None, shrinking=True,\n",
       "                           tol=0.001, verbose=False),\n",
       "             iid='deprecated', n_jobs...\n",
       "       3.20000e+01, 1.28000e+02, 5.12000e+02, 2.04800e+03, 8.19200e+03,\n",
       "       3.27680e+04, 1.31072e+05]),\n",
       "                         'gamma': array([7.62939453e-06, 3.05175781e-05, 1.22070312e-04, 4.88281250e-04,\n",
       "       1.95312500e-03, 7.81250000e-03, 3.12500000e-02, 1.25000000e-01,\n",
       "       5.00000000e-01, 2.00000000e+00, 8.00000000e+00])},\n",
       "             pre_dispatch='2*n_jobs', refit=True, return_train_score=False,\n",
       "             scoring=None, verbose=0)"
      ]
     },
     "execution_count": 404,
     "metadata": {},
     "output_type": "execute_result"
    }
   ],
   "source": [
    "C_range = 2. ** np.arange(-5, 18, 2)\n",
    "gamma_range = 2. ** np.arange(-17, 4, 2)\n",
    "param_grid = dict(gamma=gamma_range, C=C_range)\n",
    "grid = GridSearchCV(SVC(), param_grid=param_grid,\n",
    "                    cv=StratifiedKFold(n_splits=10))\n",
    "grid.fit(X, Y)"
   ]
  },
  {
   "cell_type": "code",
   "execution_count": 405,
   "metadata": {},
   "outputs": [
    {
     "data": {
      "text/plain": [
       "{'gamma': array([7.62939453e-06, 3.05175781e-05, 1.22070312e-04, 4.88281250e-04,\n",
       "        1.95312500e-03, 7.81250000e-03, 3.12500000e-02, 1.25000000e-01,\n",
       "        5.00000000e-01, 2.00000000e+00, 8.00000000e+00]),\n",
       " 'C': array([3.12500e-02, 1.25000e-01, 5.00000e-01, 2.00000e+00, 8.00000e+00,\n",
       "        3.20000e+01, 1.28000e+02, 5.12000e+02, 2.04800e+03, 8.19200e+03,\n",
       "        3.27680e+04, 1.31072e+05])}"
      ]
     },
     "execution_count": 405,
     "metadata": {},
     "output_type": "execute_result"
    }
   ],
   "source": [
    "param_grid"
   ]
  },
  {
   "cell_type": "code",
   "execution_count": 406,
   "metadata": {},
   "outputs": [
    {
     "name": "stdout",
     "output_type": "stream",
     "text": [
      "The best classifier is:  SVC(C=32.0, break_ties=False, cache_size=200, class_weight=None, coef0=0.0,\n",
      "    decision_function_shape='ovr', degree=3, gamma=0.001953125, kernel='rbf',\n",
      "    max_iter=-1, probability=False, random_state=None, shrinking=True,\n",
      "    tol=0.001, verbose=False)\n"
     ]
    }
   ],
   "source": [
    "print(\"The best classifier is: \", grid.best_estimator_)"
   ]
  },
  {
   "cell_type": "code",
   "execution_count": 407,
   "metadata": {},
   "outputs": [
    {
     "name": "stdout",
     "output_type": "stream",
     "text": [
      "The best parameters are {'C': 32.0, 'gamma': 0.001953125} with a score of 0.68\n"
     ]
    }
   ],
   "source": [
    "print(\"The best parameters are %s with a score of %0.2f\"\n",
    "      % (grid.best_params_, grid.best_score_))"
   ]
  },
  {
   "cell_type": "code",
   "execution_count": 408,
   "metadata": {},
   "outputs": [
    {
     "data": {
      "text/plain": [
       "SVC(C=32.0, break_ties=False, cache_size=200, class_weight='balanced',\n",
       "    coef0=0.0, decision_function_shape='ovr', degree=3, gamma=0.03125,\n",
       "    kernel='rbf', max_iter=-1, probability=False, random_state=None,\n",
       "    shrinking=True, tol=0.001, verbose=False)"
      ]
     },
     "execution_count": 408,
     "metadata": {},
     "output_type": "execute_result"
    }
   ],
   "source": [
    "clf = SVC(C=32.0, class_weight='balanced', gamma=0.03125, kernel='rbf')\n",
    "clf.fit(X, Y)"
   ]
  },
  {
   "cell_type": "code",
   "execution_count": 409,
   "metadata": {},
   "outputs": [],
   "source": [
    "y_pred = clf.predict(X_val_updated_google)"
   ]
  },
  {
   "cell_type": "code",
   "execution_count": 410,
   "metadata": {},
   "outputs": [
    {
     "name": "stdout",
     "output_type": "stream",
     "text": [
      "('SVM Accuracy Score -> ', 38.333333333333336)\n"
     ]
    }
   ],
   "source": [
    "print((\"SVM Accuracy Score -> \", accuracy_score(y_pred, y_val) * 100))"
   ]
  },
  {
   "cell_type": "code",
   "execution_count": 411,
   "metadata": {
    "scrolled": false
   },
   "outputs": [
    {
     "name": "stdout",
     "output_type": "stream",
     "text": [
      "              precision    recall  f1-score   support\n",
      "\n",
      "         GCR       0.38      0.56      0.45        27\n",
      "        Vert       0.40      0.24      0.30        33\n",
      "\n",
      "    accuracy                           0.38        60\n",
      "   macro avg       0.39      0.40      0.37        60\n",
      "weighted avg       0.39      0.38      0.37        60\n",
      "\n"
     ]
    }
   ],
   "source": [
    "from sklearn.metrics import classification_report\n",
    "print((classification_report(y_val, y_pred, target_names=my_tags)))"
   ]
  },
  {
   "cell_type": "markdown",
   "metadata": {},
   "source": [
    "#### Logistice regression"
   ]
  },
  {
   "cell_type": "code",
   "execution_count": 412,
   "metadata": {
    "scrolled": true
   },
   "outputs": [
    {
     "name": "stdout",
     "output_type": "stream",
     "text": [
      "accuracy 0.38333333333333336\n",
      "              precision    recall  f1-score   support\n",
      "\n",
      "         GCR       0.37      0.52      0.43        27\n",
      "        Vert       0.41      0.27      0.33        33\n",
      "\n",
      "    accuracy                           0.38        60\n",
      "   macro avg       0.39      0.40      0.38        60\n",
      "weighted avg       0.39      0.38      0.37        60\n",
      "\n"
     ]
    }
   ],
   "source": [
    "from sklearn.linear_model import LogisticRegression\n",
    "logreg = LogisticRegression(n_jobs=1, C=1e5)\n",
    "logreg = logreg.fit(X_train_updated_google, y_train)\n",
    "y_pred = logreg.predict(X_val_updated_google)\n",
    "print('accuracy %s' % accuracy_score(y_pred, y_val))\n",
    "print(classification_report(y_val, y_pred, target_names=my_tags))"
   ]
  },
  {
   "cell_type": "markdown",
   "metadata": {},
   "source": [
    "#### Weighted logistice regression"
   ]
  },
  {
   "cell_type": "code",
   "execution_count": 413,
   "metadata": {
    "scrolled": false
   },
   "outputs": [
    {
     "name": "stdout",
     "output_type": "stream",
     "text": [
      "accuracy 0.35\n",
      "              precision    recall  f1-score   support\n",
      "\n",
      "         GCR       0.34      0.48      0.40        27\n",
      "        Vert       0.36      0.24      0.29        33\n",
      "\n",
      "    accuracy                           0.35        60\n",
      "   macro avg       0.35      0.36      0.35        60\n",
      "weighted avg       0.35      0.35      0.34        60\n",
      "\n"
     ]
    }
   ],
   "source": [
    "from sklearn.linear_model import LogisticRegression\n",
    "logreg = LogisticRegression(n_jobs=1, C=1e5, class_weight='balanced')\n",
    "logreg = logreg.fit(X_train_updated_google, y_train)\n",
    "y_pred = logreg.predict(X_val_updated_google)\n",
    "print('accuracy %s' % accuracy_score(y_pred, y_val))\n",
    "print(classification_report(y_val, y_pred, target_names=my_tags))"
   ]
  },
  {
   "cell_type": "markdown",
   "metadata": {},
   "source": [
    "### training with glove_small (50D) pre-trained word embedding "
   ]
  },
  {
   "cell_type": "code",
   "execution_count": 414,
   "metadata": {},
   "outputs": [],
   "source": [
    "def transform_with_glove_small(x):\n",
    "    return np.array([\n",
    "        np.mean([glove_small[w]\n",
    "                 for w in words if w in glove_small] or [np.zeros(glove_small['balance'].shape)],\n",
    "                axis=0) for words in x\n",
    "    ])"
   ]
  },
  {
   "cell_type": "code",
   "execution_count": 415,
   "metadata": {},
   "outputs": [],
   "source": [
    "X_train_updated_glove_small = transform_with_glove_small(X_train)\n",
    "# X_val_updated_glove_small = transform_with_glove_small(X_val)\n",
    "X_val_updated_glove_small = transform_with_glove_small(X_test)"
   ]
  },
  {
   "cell_type": "markdown",
   "metadata": {},
   "source": [
    "#### Linear SVM"
   ]
  },
  {
   "cell_type": "code",
   "execution_count": 416,
   "metadata": {
    "scrolled": true
   },
   "outputs": [
    {
     "data": {
      "text/plain": [
       "SVC(C=1.0, break_ties=False, cache_size=200, class_weight=None, coef0=0.0,\n",
       "    decision_function_shape='ovr', degree=3, gamma='scale', kernel='linear',\n",
       "    max_iter=-1, probability=False, random_state=None, shrinking=True,\n",
       "    tol=0.001, verbose=False)"
      ]
     },
     "execution_count": 416,
     "metadata": {},
     "output_type": "execute_result"
    }
   ],
   "source": [
    "clf = SVC(kernel='linear')\n",
    "clf.fit(X_train_updated_glove_small, y_train)"
   ]
  },
  {
   "cell_type": "code",
   "execution_count": 417,
   "metadata": {},
   "outputs": [],
   "source": [
    "y_pred = clf.predict(X_val_updated_glove_small)"
   ]
  },
  {
   "cell_type": "code",
   "execution_count": 418,
   "metadata": {},
   "outputs": [
    {
     "name": "stdout",
     "output_type": "stream",
     "text": [
      "SVM Accuracy Score ->  53.333333333333336\n"
     ]
    }
   ],
   "source": [
    "print(\"SVM Accuracy Score -> \", accuracy_score(y_pred, y_val) * 100)"
   ]
  },
  {
   "cell_type": "code",
   "execution_count": 419,
   "metadata": {
    "scrolled": true
   },
   "outputs": [
    {
     "name": "stdout",
     "output_type": "stream",
     "text": [
      "              precision    recall  f1-score   support\n",
      "\n",
      "         GCR       0.49      0.74      0.59        27\n",
      "        Vert       0.63      0.36      0.46        33\n",
      "\n",
      "    accuracy                           0.53        60\n",
      "   macro avg       0.56      0.55      0.52        60\n",
      "weighted avg       0.57      0.53      0.52        60\n",
      "\n"
     ]
    }
   ],
   "source": [
    "from sklearn.metrics import classification_report\n",
    "print(classification_report(y_val, y_pred, target_names=my_tags))"
   ]
  },
  {
   "cell_type": "markdown",
   "metadata": {},
   "source": [
    "#### Weighted Linear SVM"
   ]
  },
  {
   "cell_type": "code",
   "execution_count": 420,
   "metadata": {
    "scrolled": true
   },
   "outputs": [
    {
     "data": {
      "text/plain": [
       "SVC(C=1.0, break_ties=False, cache_size=200, class_weight='balanced', coef0=0.0,\n",
       "    decision_function_shape='ovr', degree=3, gamma='scale', kernel='linear',\n",
       "    max_iter=-1, probability=False, random_state=None, shrinking=True,\n",
       "    tol=0.001, verbose=False)"
      ]
     },
     "execution_count": 420,
     "metadata": {},
     "output_type": "execute_result"
    }
   ],
   "source": [
    "clf_balanced_class_weight = SVC(kernel='linear', class_weight='balanced')\n",
    "clf_balanced_class_weight.fit(X_train_updated_glove_small, y_train)"
   ]
  },
  {
   "cell_type": "code",
   "execution_count": 421,
   "metadata": {},
   "outputs": [],
   "source": [
    "y_pred_balanced_class_weight = clf_balanced_class_weight.predict(\n",
    "    X_val_updated_glove_small)"
   ]
  },
  {
   "cell_type": "code",
   "execution_count": 422,
   "metadata": {},
   "outputs": [
    {
     "name": "stdout",
     "output_type": "stream",
     "text": [
      "SVM Accuracy Score ->  53.333333333333336\n"
     ]
    }
   ],
   "source": [
    "print(\"SVM Accuracy Score -> \",\n",
    "      accuracy_score(y_pred_balanced_class_weight, y_val) * 100)"
   ]
  },
  {
   "cell_type": "code",
   "execution_count": 423,
   "metadata": {
    "scrolled": true
   },
   "outputs": [
    {
     "name": "stdout",
     "output_type": "stream",
     "text": [
      "              precision    recall  f1-score   support\n",
      "\n",
      "         GCR       0.49      0.74      0.59        27\n",
      "        Vert       0.63      0.36      0.46        33\n",
      "\n",
      "    accuracy                           0.53        60\n",
      "   macro avg       0.56      0.55      0.52        60\n",
      "weighted avg       0.57      0.53      0.52        60\n",
      "\n"
     ]
    }
   ],
   "source": [
    "from sklearn.metrics import classification_report\n",
    "print(\n",
    "    classification_report(y_val,\n",
    "                          y_pred_balanced_class_weight,\n",
    "                          target_names=my_tags))"
   ]
  },
  {
   "cell_type": "markdown",
   "metadata": {},
   "source": [
    "#### SVC with 'rbf' kernel"
   ]
  },
  {
   "cell_type": "code",
   "execution_count": 424,
   "metadata": {},
   "outputs": [],
   "source": [
    "X = X_train_updated_glove_small\n",
    "Y = y_train"
   ]
  },
  {
   "cell_type": "code",
   "execution_count": 425,
   "metadata": {},
   "outputs": [],
   "source": [
    "# It is usually a good idea to scale the data for SVM training.\n",
    "# We are cheating a bit in this example in scaling all of the data,\n",
    "# instead of fitting the transformation on the trainingset and\n",
    "# just applying it on the test set.\n",
    "\n",
    "# scaler = StandardScaler()\n",
    "# X = scaler.fit_transform(X_train_updated_google)"
   ]
  },
  {
   "cell_type": "code",
   "execution_count": 426,
   "metadata": {},
   "outputs": [
    {
     "data": {
      "text/plain": [
       "GridSearchCV(cv=StratifiedKFold(n_splits=10, random_state=None, shuffle=False),\n",
       "             error_score=nan,\n",
       "             estimator=SVC(C=1.0, break_ties=False, cache_size=200,\n",
       "                           class_weight=None, coef0=0.0,\n",
       "                           decision_function_shape='ovr', degree=3,\n",
       "                           gamma='scale', kernel='rbf', max_iter=-1,\n",
       "                           probability=False, random_state=None, shrinking=True,\n",
       "                           tol=0.001, verbose=False),\n",
       "             iid='deprecated', n_jobs...\n",
       "       3.20000e+01, 1.28000e+02, 5.12000e+02, 2.04800e+03, 8.19200e+03,\n",
       "       3.27680e+04, 1.31072e+05]),\n",
       "                         'gamma': array([7.62939453e-06, 3.05175781e-05, 1.22070312e-04, 4.88281250e-04,\n",
       "       1.95312500e-03, 7.81250000e-03, 3.12500000e-02, 1.25000000e-01,\n",
       "       5.00000000e-01, 2.00000000e+00, 8.00000000e+00])},\n",
       "             pre_dispatch='2*n_jobs', refit=True, return_train_score=False,\n",
       "             scoring=None, verbose=0)"
      ]
     },
     "execution_count": 426,
     "metadata": {},
     "output_type": "execute_result"
    }
   ],
   "source": [
    "C_range = 2. ** np.arange(-5, 18, 2)\n",
    "gamma_range = 2. ** np.arange(-17, 4, 2)\n",
    "param_grid = dict(gamma=gamma_range, C=C_range)\n",
    "grid = GridSearchCV(SVC(), param_grid=param_grid,\n",
    "                    cv=StratifiedKFold(n_splits=10))\n",
    "grid.fit(X, Y)"
   ]
  },
  {
   "cell_type": "code",
   "execution_count": 427,
   "metadata": {},
   "outputs": [
    {
     "name": "stdout",
     "output_type": "stream",
     "text": [
      "The best classifier is:  SVC(C=2.0, break_ties=False, cache_size=200, class_weight=None, coef0=0.0,\n",
      "    decision_function_shape='ovr', degree=3, gamma=0.5, kernel='rbf',\n",
      "    max_iter=-1, probability=False, random_state=None, shrinking=True,\n",
      "    tol=0.001, verbose=False)\n"
     ]
    }
   ],
   "source": [
    "print(\"The best classifier is: \", grid.best_estimator_)"
   ]
  },
  {
   "cell_type": "code",
   "execution_count": 428,
   "metadata": {},
   "outputs": [
    {
     "data": {
      "text/plain": [
       "SVC(C=2.0, break_ties=False, cache_size=200, class_weight=None, coef0=0.0,\n",
       "    decision_function_shape='ovr', degree=3, gamma=0.5, kernel='rbf',\n",
       "    max_iter=-1, probability=False, random_state=None, shrinking=True,\n",
       "    tol=0.001, verbose=False)"
      ]
     },
     "execution_count": 428,
     "metadata": {},
     "output_type": "execute_result"
    }
   ],
   "source": [
    "clf = grid.best_estimator_\n",
    "clf.fit(X, Y)"
   ]
  },
  {
   "cell_type": "code",
   "execution_count": 429,
   "metadata": {},
   "outputs": [],
   "source": [
    "y_pred = clf.predict(X_val_updated_glove_small)"
   ]
  },
  {
   "cell_type": "code",
   "execution_count": 430,
   "metadata": {},
   "outputs": [
    {
     "name": "stdout",
     "output_type": "stream",
     "text": [
      "('SVM Accuracy Score -> ', 43.333333333333336)\n"
     ]
    }
   ],
   "source": [
    "print((\"SVM Accuracy Score -> \", accuracy_score(y_pred, y_val) * 100))"
   ]
  },
  {
   "cell_type": "code",
   "execution_count": 431,
   "metadata": {},
   "outputs": [
    {
     "name": "stdout",
     "output_type": "stream",
     "text": [
      "              precision    recall  f1-score   support\n",
      "\n",
      "         GCR       0.44      0.96      0.60        27\n",
      "        Vert       0.00      0.00      0.00        33\n",
      "\n",
      "    accuracy                           0.43        60\n",
      "   macro avg       0.22      0.48      0.30        60\n",
      "weighted avg       0.20      0.43      0.27        60\n",
      "\n"
     ]
    }
   ],
   "source": [
    "from sklearn.metrics import classification_report\n",
    "print((classification_report(y_val, y_pred, target_names=my_tags)))"
   ]
  },
  {
   "cell_type": "markdown",
   "metadata": {},
   "source": [
    "#### Weighted SVC with 'rbf' kernel "
   ]
  },
  {
   "cell_type": "code",
   "execution_count": 432,
   "metadata": {},
   "outputs": [],
   "source": [
    "X = X_train_updated_glove_small\n",
    "Y = y_train"
   ]
  },
  {
   "cell_type": "code",
   "execution_count": 433,
   "metadata": {},
   "outputs": [],
   "source": [
    "# It is usually a good idea to scale the data for SVM training.\n",
    "# We are cheating a bit in this example in scaling all of the data,\n",
    "# instead of fitting the transformation on the trainingset and\n",
    "# just applying it on the test set.\n",
    "\n",
    "# scaler = StandardScaler()\n",
    "# X = scaler.fit_transform(X_train_updated_glove_small)"
   ]
  },
  {
   "cell_type": "code",
   "execution_count": 434,
   "metadata": {},
   "outputs": [
    {
     "data": {
      "text/plain": [
       "GridSearchCV(cv=StratifiedKFold(n_splits=10, random_state=None, shuffle=False),\n",
       "             error_score=nan,\n",
       "             estimator=SVC(C=1.0, break_ties=False, cache_size=200,\n",
       "                           class_weight=None, coef0=0.0,\n",
       "                           decision_function_shape='ovr', degree=3,\n",
       "                           gamma='scale', kernel='rbf', max_iter=-1,\n",
       "                           probability=False, random_state=None, shrinking=True,\n",
       "                           tol=0.001, verbose=False),\n",
       "             iid='deprecated', n_jobs...\n",
       "       3.20000e+01, 1.28000e+02, 5.12000e+02, 2.04800e+03, 8.19200e+03,\n",
       "       3.27680e+04, 1.31072e+05]),\n",
       "                         'gamma': array([7.62939453e-06, 3.05175781e-05, 1.22070312e-04, 4.88281250e-04,\n",
       "       1.95312500e-03, 7.81250000e-03, 3.12500000e-02, 1.25000000e-01,\n",
       "       5.00000000e-01, 2.00000000e+00, 8.00000000e+00])},\n",
       "             pre_dispatch='2*n_jobs', refit=True, return_train_score=False,\n",
       "             scoring=None, verbose=0)"
      ]
     },
     "execution_count": 434,
     "metadata": {},
     "output_type": "execute_result"
    }
   ],
   "source": [
    "C_range = 2. ** np.arange(-5, 18, 2)\n",
    "gamma_range = 2. ** np.arange(-17, 4, 2)\n",
    "param_grid = dict(gamma=gamma_range, C=C_range)\n",
    "grid = GridSearchCV(SVC(), param_grid=param_grid,\n",
    "                    cv=StratifiedKFold(n_splits=10))\n",
    "grid.fit(X, Y)"
   ]
  },
  {
   "cell_type": "code",
   "execution_count": 435,
   "metadata": {},
   "outputs": [
    {
     "data": {
      "text/plain": [
       "{'gamma': array([7.62939453e-06, 3.05175781e-05, 1.22070312e-04, 4.88281250e-04,\n",
       "        1.95312500e-03, 7.81250000e-03, 3.12500000e-02, 1.25000000e-01,\n",
       "        5.00000000e-01, 2.00000000e+00, 8.00000000e+00]),\n",
       " 'C': array([3.12500e-02, 1.25000e-01, 5.00000e-01, 2.00000e+00, 8.00000e+00,\n",
       "        3.20000e+01, 1.28000e+02, 5.12000e+02, 2.04800e+03, 8.19200e+03,\n",
       "        3.27680e+04, 1.31072e+05])}"
      ]
     },
     "execution_count": 435,
     "metadata": {},
     "output_type": "execute_result"
    }
   ],
   "source": [
    "param_grid"
   ]
  },
  {
   "cell_type": "code",
   "execution_count": 436,
   "metadata": {},
   "outputs": [
    {
     "name": "stdout",
     "output_type": "stream",
     "text": [
      "The best classifier is:  SVC(C=2.0, break_ties=False, cache_size=200, class_weight=None, coef0=0.0,\n",
      "    decision_function_shape='ovr', degree=3, gamma=0.5, kernel='rbf',\n",
      "    max_iter=-1, probability=False, random_state=None, shrinking=True,\n",
      "    tol=0.001, verbose=False)\n"
     ]
    }
   ],
   "source": [
    "print(\"The best classifier is: \", grid.best_estimator_)"
   ]
  },
  {
   "cell_type": "code",
   "execution_count": 437,
   "metadata": {},
   "outputs": [
    {
     "name": "stdout",
     "output_type": "stream",
     "text": [
      "The best parameters are {'C': 2.0, 'gamma': 0.5} with a score of 0.65\n"
     ]
    }
   ],
   "source": [
    "print(\"The best parameters are %s with a score of %0.2f\"\n",
    "      % (grid.best_params_, grid.best_score_))"
   ]
  },
  {
   "cell_type": "code",
   "execution_count": 438,
   "metadata": {},
   "outputs": [
    {
     "data": {
      "text/plain": [
       "SVC(C=512.0, break_ties=False, cache_size=200, class_weight='balanced',\n",
       "    coef0=0.0, decision_function_shape='ovr', degree=3, gamma=0.00048828125,\n",
       "    kernel='rbf', max_iter=-1, probability=False, random_state=None,\n",
       "    shrinking=True, tol=0.001, verbose=False)"
      ]
     },
     "execution_count": 438,
     "metadata": {},
     "output_type": "execute_result"
    }
   ],
   "source": [
    "clf = SVC(C=512.0, class_weight='balanced', gamma=0.00048828125, kernel='rbf')\n",
    "clf.fit(X, Y)"
   ]
  },
  {
   "cell_type": "code",
   "execution_count": 439,
   "metadata": {},
   "outputs": [],
   "source": [
    "y_pred = clf.predict(X_val_updated_glove_small)"
   ]
  },
  {
   "cell_type": "code",
   "execution_count": 440,
   "metadata": {},
   "outputs": [
    {
     "name": "stdout",
     "output_type": "stream",
     "text": [
      "('SVM Accuracy Score -> ', 60.0)\n"
     ]
    }
   ],
   "source": [
    "print((\"SVM Accuracy Score -> \", accuracy_score(y_pred, y_val) * 100))"
   ]
  },
  {
   "cell_type": "code",
   "execution_count": 441,
   "metadata": {
    "scrolled": false
   },
   "outputs": [
    {
     "name": "stdout",
     "output_type": "stream",
     "text": [
      "              precision    recall  f1-score   support\n",
      "\n",
      "         GCR       0.54      0.70      0.61        27\n",
      "        Vert       0.68      0.52      0.59        33\n",
      "\n",
      "    accuracy                           0.60        60\n",
      "   macro avg       0.61      0.61      0.60        60\n",
      "weighted avg       0.62      0.60      0.60        60\n",
      "\n"
     ]
    }
   ],
   "source": [
    "from sklearn.metrics import classification_report\n",
    "print((classification_report(y_val, y_pred, target_names=my_tags)))"
   ]
  },
  {
   "cell_type": "markdown",
   "metadata": {},
   "source": [
    "#### Logistice regression"
   ]
  },
  {
   "cell_type": "code",
   "execution_count": 442,
   "metadata": {
    "scrolled": false
   },
   "outputs": [
    {
     "name": "stdout",
     "output_type": "stream",
     "text": [
      "accuracy 0.4666666666666667\n",
      "              precision    recall  f1-score   support\n",
      "\n",
      "         GCR       0.44      0.63      0.52        27\n",
      "        Vert       0.52      0.33      0.41        33\n",
      "\n",
      "    accuracy                           0.47        60\n",
      "   macro avg       0.48      0.48      0.46        60\n",
      "weighted avg       0.48      0.47      0.46        60\n",
      "\n"
     ]
    }
   ],
   "source": [
    "from sklearn.linear_model import LogisticRegression\n",
    "logreg = LogisticRegression(n_jobs=1, C=1e5)\n",
    "logreg = logreg.fit(X_train_updated_glove_small, y_train)\n",
    "y_pred = logreg.predict(X_val_updated_glove_small)\n",
    "print('accuracy %s' % accuracy_score(y_pred, y_val))\n",
    "print(classification_report(y_val, y_pred, target_names=my_tags))"
   ]
  },
  {
   "cell_type": "markdown",
   "metadata": {},
   "source": [
    "#### Weighted logistice regression"
   ]
  },
  {
   "cell_type": "code",
   "execution_count": 443,
   "metadata": {
    "scrolled": false
   },
   "outputs": [
    {
     "name": "stdout",
     "output_type": "stream",
     "text": [
      "accuracy 0.4666666666666667\n",
      "              precision    recall  f1-score   support\n",
      "\n",
      "         GCR       0.44      0.63      0.52        27\n",
      "        Vert       0.52      0.33      0.41        33\n",
      "\n",
      "    accuracy                           0.47        60\n",
      "   macro avg       0.48      0.48      0.46        60\n",
      "weighted avg       0.48      0.47      0.46        60\n",
      "\n"
     ]
    }
   ],
   "source": [
    "from sklearn.linear_model import LogisticRegression\n",
    "logreg = LogisticRegression(n_jobs=1, C=1e5, class_weight='balanced')\n",
    "logreg = logreg.fit(X_train_updated_glove_small, y_train)\n",
    "y_pred = logreg.predict(X_val_updated_glove_small)\n",
    "print('accuracy %s' % accuracy_score(y_pred, y_val))\n",
    "print(classification_report(y_val, y_pred, target_names=my_tags))"
   ]
  },
  {
   "cell_type": "markdown",
   "metadata": {},
   "source": [
    "### training with glove_big (300D) pre-trained word embedding "
   ]
  },
  {
   "cell_type": "code",
   "execution_count": 444,
   "metadata": {},
   "outputs": [],
   "source": [
    "# def transform_with_glove_big(x):\n",
    "#     return np.array([\n",
    "#         np.mean([glove_big[w]\n",
    "#                  for w in words if w in glove_big] or [np.zeros(glove_big['balance'].shape)],\n",
    "#                 axis=0) for words in x\n",
    "#     ])\n",
    "def transform_with_glove_big(x):\n",
    "    return np.array([\n",
    "        np.concatenate(([glove_big[w]\n",
    "                 for w in words if w in glove_big]or [np.zeros(glove_big['balance'].shape)],\n",
    "                       [particle_features[w]\n",
    "                 for w in words if w in particle_features]or [np.zeros(particle_features['balance'].shape)]),\n",
    "                axis=None) for words in x\n",
    "    ]) "
   ]
  },
  {
   "cell_type": "code",
   "execution_count": 445,
   "metadata": {},
   "outputs": [],
   "source": [
    "X_train_updated_glove_big = transform_with_glove_big(X_train)\n",
    "# X_val_updated_glove_big = transform_with_glove_big(X_val)\n",
    "X_val_updated_glove_big = transform_with_glove_big(X_test)"
   ]
  },
  {
   "cell_type": "markdown",
   "metadata": {},
   "source": [
    "#### Linear SVM"
   ]
  },
  {
   "cell_type": "code",
   "execution_count": 446,
   "metadata": {
    "scrolled": true
   },
   "outputs": [
    {
     "data": {
      "text/plain": [
       "SVC(C=1.0, break_ties=False, cache_size=200, class_weight=None, coef0=0.0,\n",
       "    decision_function_shape='ovr', degree=3, gamma='scale', kernel='linear',\n",
       "    max_iter=-1, probability=False, random_state=None, shrinking=True,\n",
       "    tol=0.001, verbose=False)"
      ]
     },
     "execution_count": 446,
     "metadata": {},
     "output_type": "execute_result"
    }
   ],
   "source": [
    "clf = SVC(kernel='linear')\n",
    "clf.fit(X_train_updated_glove_big, y_train)"
   ]
  },
  {
   "cell_type": "code",
   "execution_count": 447,
   "metadata": {},
   "outputs": [],
   "source": [
    "y_pred = clf.predict(X_val_updated_glove_big)"
   ]
  },
  {
   "cell_type": "code",
   "execution_count": 448,
   "metadata": {},
   "outputs": [
    {
     "name": "stdout",
     "output_type": "stream",
     "text": [
      "SVM Accuracy Score ->  41.66666666666667\n"
     ]
    }
   ],
   "source": [
    "print(\"SVM Accuracy Score -> \", accuracy_score(y_pred, y_val) * 100)"
   ]
  },
  {
   "cell_type": "code",
   "execution_count": 449,
   "metadata": {},
   "outputs": [
    {
     "name": "stdout",
     "output_type": "stream",
     "text": [
      "              precision    recall  f1-score   support\n",
      "\n",
      "         GCR       0.37      0.41      0.39        27\n",
      "        Vert       0.47      0.42      0.44        33\n",
      "\n",
      "    accuracy                           0.42        60\n",
      "   macro avg       0.42      0.42      0.42        60\n",
      "weighted avg       0.42      0.42      0.42        60\n",
      "\n"
     ]
    }
   ],
   "source": [
    "from sklearn.metrics import classification_report\n",
    "print(classification_report(y_val, y_pred, target_names=my_tags))"
   ]
  },
  {
   "cell_type": "markdown",
   "metadata": {},
   "source": [
    "#### Weighted Linear SVM"
   ]
  },
  {
   "cell_type": "code",
   "execution_count": 450,
   "metadata": {
    "scrolled": true
   },
   "outputs": [
    {
     "data": {
      "text/plain": [
       "SVC(C=1.0, break_ties=False, cache_size=200, class_weight='balanced', coef0=0.0,\n",
       "    decision_function_shape='ovr', degree=3, gamma='scale', kernel='linear',\n",
       "    max_iter=-1, probability=False, random_state=None, shrinking=True,\n",
       "    tol=0.001, verbose=False)"
      ]
     },
     "execution_count": 450,
     "metadata": {},
     "output_type": "execute_result"
    }
   ],
   "source": [
    "clf_balanced_class_weight = SVC(kernel='linear', class_weight='balanced')\n",
    "clf_balanced_class_weight.fit(X_train_updated_glove_big, y_train)"
   ]
  },
  {
   "cell_type": "code",
   "execution_count": 451,
   "metadata": {},
   "outputs": [],
   "source": [
    "y_pred_balanced_class_weight = clf_balanced_class_weight.predict(\n",
    "    X_val_updated_glove_big)"
   ]
  },
  {
   "cell_type": "code",
   "execution_count": 452,
   "metadata": {},
   "outputs": [
    {
     "name": "stdout",
     "output_type": "stream",
     "text": [
      "SVM Accuracy Score ->  41.66666666666667\n"
     ]
    }
   ],
   "source": [
    "print(\"SVM Accuracy Score -> \",\n",
    "      accuracy_score(y_pred_balanced_class_weight, y_val) * 100)"
   ]
  },
  {
   "cell_type": "code",
   "execution_count": 453,
   "metadata": {},
   "outputs": [
    {
     "name": "stdout",
     "output_type": "stream",
     "text": [
      "              precision    recall  f1-score   support\n",
      "\n",
      "         GCR       0.37      0.41      0.39        27\n",
      "        Vert       0.47      0.42      0.44        33\n",
      "\n",
      "    accuracy                           0.42        60\n",
      "   macro avg       0.42      0.42      0.42        60\n",
      "weighted avg       0.42      0.42      0.42        60\n",
      "\n"
     ]
    }
   ],
   "source": [
    "from sklearn.metrics import classification_report\n",
    "print(\n",
    "    classification_report(y_val,\n",
    "                          y_pred_balanced_class_weight,\n",
    "                          target_names=my_tags))"
   ]
  },
  {
   "cell_type": "markdown",
   "metadata": {},
   "source": [
    "#### SVC with 'rbf' kernel"
   ]
  },
  {
   "cell_type": "code",
   "execution_count": 454,
   "metadata": {},
   "outputs": [],
   "source": [
    "X = X_train_updated_glove_big\n",
    "Y = y_train"
   ]
  },
  {
   "cell_type": "code",
   "execution_count": 455,
   "metadata": {},
   "outputs": [],
   "source": [
    "# It is usually a good idea to scale the data for SVM training.\n",
    "# We are cheating a bit in this example in scaling all of the data,\n",
    "# instead of fitting the transformation on the trainingset and\n",
    "# just applying it on the test set.\n",
    "\n",
    "# scaler = StandardScaler()\n",
    "# X = scaler.fit_transform(X_train_updated_google)"
   ]
  },
  {
   "cell_type": "code",
   "execution_count": 456,
   "metadata": {},
   "outputs": [
    {
     "data": {
      "text/plain": [
       "GridSearchCV(cv=StratifiedKFold(n_splits=10, random_state=None, shuffle=False),\n",
       "             error_score=nan,\n",
       "             estimator=SVC(C=1.0, break_ties=False, cache_size=200,\n",
       "                           class_weight=None, coef0=0.0,\n",
       "                           decision_function_shape='ovr', degree=3,\n",
       "                           gamma='scale', kernel='rbf', max_iter=-1,\n",
       "                           probability=False, random_state=None, shrinking=True,\n",
       "                           tol=0.001, verbose=False),\n",
       "             iid='deprecated', n_jobs...\n",
       "       3.20000e+01, 1.28000e+02, 5.12000e+02, 2.04800e+03, 8.19200e+03,\n",
       "       3.27680e+04, 1.31072e+05]),\n",
       "                         'gamma': array([7.62939453e-06, 3.05175781e-05, 1.22070312e-04, 4.88281250e-04,\n",
       "       1.95312500e-03, 7.81250000e-03, 3.12500000e-02, 1.25000000e-01,\n",
       "       5.00000000e-01, 2.00000000e+00, 8.00000000e+00])},\n",
       "             pre_dispatch='2*n_jobs', refit=True, return_train_score=False,\n",
       "             scoring=None, verbose=0)"
      ]
     },
     "execution_count": 456,
     "metadata": {},
     "output_type": "execute_result"
    }
   ],
   "source": [
    "C_range = 2. ** np.arange(-5, 18, 2)\n",
    "gamma_range = 2. ** np.arange(-17, 4, 2)\n",
    "param_grid = dict(gamma=gamma_range, C=C_range)\n",
    "grid = GridSearchCV(SVC(), param_grid=param_grid,\n",
    "                    cv=StratifiedKFold(n_splits=10))\n",
    "grid.fit(X, Y)"
   ]
  },
  {
   "cell_type": "code",
   "execution_count": 457,
   "metadata": {},
   "outputs": [
    {
     "name": "stdout",
     "output_type": "stream",
     "text": [
      "The best classifier is:  SVC(C=2.0, break_ties=False, cache_size=200, class_weight=None, coef0=0.0,\n",
      "    decision_function_shape='ovr', degree=3, gamma=0.03125, kernel='rbf',\n",
      "    max_iter=-1, probability=False, random_state=None, shrinking=True,\n",
      "    tol=0.001, verbose=False)\n"
     ]
    }
   ],
   "source": [
    "print(\"The best classifier is: \", grid.best_estimator_)"
   ]
  },
  {
   "cell_type": "code",
   "execution_count": 458,
   "metadata": {},
   "outputs": [
    {
     "data": {
      "text/plain": [
       "SVC(C=2.0, break_ties=False, cache_size=200, class_weight=None, coef0=0.0,\n",
       "    decision_function_shape='ovr', degree=3, gamma=0.03125, kernel='rbf',\n",
       "    max_iter=-1, probability=False, random_state=None, shrinking=True,\n",
       "    tol=0.001, verbose=False)"
      ]
     },
     "execution_count": 458,
     "metadata": {},
     "output_type": "execute_result"
    }
   ],
   "source": [
    "clf = grid.best_estimator_\n",
    "clf.fit(X, Y)"
   ]
  },
  {
   "cell_type": "code",
   "execution_count": 459,
   "metadata": {},
   "outputs": [],
   "source": [
    "y_pred = clf.predict(X_val_updated_glove_big)"
   ]
  },
  {
   "cell_type": "code",
   "execution_count": 460,
   "metadata": {},
   "outputs": [
    {
     "name": "stdout",
     "output_type": "stream",
     "text": [
      "('SVM Accuracy Score -> ', 38.333333333333336)\n"
     ]
    }
   ],
   "source": [
    "print((\"SVM Accuracy Score -> \", accuracy_score(y_pred, y_val) * 100))"
   ]
  },
  {
   "cell_type": "code",
   "execution_count": 461,
   "metadata": {},
   "outputs": [
    {
     "name": "stdout",
     "output_type": "stream",
     "text": [
      "              precision    recall  f1-score   support\n",
      "\n",
      "         GCR       0.39      0.67      0.49        27\n",
      "        Vert       0.36      0.15      0.21        33\n",
      "\n",
      "    accuracy                           0.38        60\n",
      "   macro avg       0.37      0.41      0.35        60\n",
      "weighted avg       0.37      0.38      0.34        60\n",
      "\n"
     ]
    }
   ],
   "source": [
    "from sklearn.metrics import classification_report\n",
    "print((classification_report(y_val, y_pred, target_names=my_tags)))"
   ]
  },
  {
   "cell_type": "markdown",
   "metadata": {},
   "source": [
    "#### Weighted SVC with 'rbf' kernel "
   ]
  },
  {
   "cell_type": "code",
   "execution_count": 462,
   "metadata": {},
   "outputs": [],
   "source": [
    "X = X_train_updated_glove_big\n",
    "Y = y_train"
   ]
  },
  {
   "cell_type": "code",
   "execution_count": 463,
   "metadata": {},
   "outputs": [],
   "source": [
    "# It is usually a good idea to scale the data for SVM training.\n",
    "# We are cheating a bit in this example in scaling all of the data,\n",
    "# instead of fitting the transformation on the trainingset and\n",
    "# just applying it on the test set.\n",
    "\n",
    "# scaler = StandardScaler()\n",
    "# X = scaler.fit_transform(X = X_train_updated_glove_big)"
   ]
  },
  {
   "cell_type": "code",
   "execution_count": 464,
   "metadata": {},
   "outputs": [
    {
     "data": {
      "text/plain": [
       "GridSearchCV(cv=StratifiedKFold(n_splits=10, random_state=None, shuffle=False),\n",
       "             error_score=nan,\n",
       "             estimator=SVC(C=1.0, break_ties=False, cache_size=200,\n",
       "                           class_weight=None, coef0=0.0,\n",
       "                           decision_function_shape='ovr', degree=3,\n",
       "                           gamma='scale', kernel='rbf', max_iter=-1,\n",
       "                           probability=False, random_state=None, shrinking=True,\n",
       "                           tol=0.001, verbose=False),\n",
       "             iid='deprecated', n_jobs...\n",
       "       3.20000e+01, 1.28000e+02, 5.12000e+02, 2.04800e+03, 8.19200e+03,\n",
       "       3.27680e+04, 1.31072e+05]),\n",
       "                         'gamma': array([7.62939453e-06, 3.05175781e-05, 1.22070312e-04, 4.88281250e-04,\n",
       "       1.95312500e-03, 7.81250000e-03, 3.12500000e-02, 1.25000000e-01,\n",
       "       5.00000000e-01, 2.00000000e+00, 8.00000000e+00])},\n",
       "             pre_dispatch='2*n_jobs', refit=True, return_train_score=False,\n",
       "             scoring=None, verbose=0)"
      ]
     },
     "execution_count": 464,
     "metadata": {},
     "output_type": "execute_result"
    }
   ],
   "source": [
    "C_range = 2. ** np.arange(-5, 18, 2)\n",
    "gamma_range = 2. ** np.arange(-17, 4, 2)\n",
    "param_grid = dict(gamma=gamma_range, C=C_range)\n",
    "grid = GridSearchCV(SVC(), param_grid=param_grid,\n",
    "                    cv=StratifiedKFold(n_splits=10))\n",
    "grid.fit(X, Y)"
   ]
  },
  {
   "cell_type": "code",
   "execution_count": 465,
   "metadata": {},
   "outputs": [
    {
     "data": {
      "text/plain": [
       "{'gamma': array([7.62939453e-06, 3.05175781e-05, 1.22070312e-04, 4.88281250e-04,\n",
       "        1.95312500e-03, 7.81250000e-03, 3.12500000e-02, 1.25000000e-01,\n",
       "        5.00000000e-01, 2.00000000e+00, 8.00000000e+00]),\n",
       " 'C': array([3.12500e-02, 1.25000e-01, 5.00000e-01, 2.00000e+00, 8.00000e+00,\n",
       "        3.20000e+01, 1.28000e+02, 5.12000e+02, 2.04800e+03, 8.19200e+03,\n",
       "        3.27680e+04, 1.31072e+05])}"
      ]
     },
     "execution_count": 465,
     "metadata": {},
     "output_type": "execute_result"
    }
   ],
   "source": [
    "param_grid"
   ]
  },
  {
   "cell_type": "code",
   "execution_count": 466,
   "metadata": {},
   "outputs": [
    {
     "name": "stdout",
     "output_type": "stream",
     "text": [
      "The best classifier is:  SVC(C=2.0, break_ties=False, cache_size=200, class_weight=None, coef0=0.0,\n",
      "    decision_function_shape='ovr', degree=3, gamma=0.03125, kernel='rbf',\n",
      "    max_iter=-1, probability=False, random_state=None, shrinking=True,\n",
      "    tol=0.001, verbose=False)\n"
     ]
    }
   ],
   "source": [
    "print(\"The best classifier is: \", grid.best_estimator_)"
   ]
  },
  {
   "cell_type": "code",
   "execution_count": 467,
   "metadata": {},
   "outputs": [
    {
     "name": "stdout",
     "output_type": "stream",
     "text": [
      "The best parameters are {'C': 2.0, 'gamma': 0.03125} with a score of 0.67\n"
     ]
    }
   ],
   "source": [
    "print(\"The best parameters are %s with a score of %0.2f\"\n",
    "      % (grid.best_params_, grid.best_score_))"
   ]
  },
  {
   "cell_type": "code",
   "execution_count": 468,
   "metadata": {},
   "outputs": [
    {
     "data": {
      "text/plain": [
       "SVC(C=32.0, break_ties=False, cache_size=200, class_weight='balanced',\n",
       "    coef0=0.0, decision_function_shape='ovr', degree=3, gamma=0.001953125,\n",
       "    kernel='rbf', max_iter=-1, probability=False, random_state=None,\n",
       "    shrinking=True, tol=0.001, verbose=False)"
      ]
     },
     "execution_count": 468,
     "metadata": {},
     "output_type": "execute_result"
    }
   ],
   "source": [
    "clf = SVC(C=32.0, class_weight='balanced', gamma=0.001953125, kernel='rbf')\n",
    "clf.fit(X, Y)"
   ]
  },
  {
   "cell_type": "code",
   "execution_count": 469,
   "metadata": {},
   "outputs": [],
   "source": [
    "y_pred = clf.predict(X_val_updated_glove_big)"
   ]
  },
  {
   "cell_type": "code",
   "execution_count": 470,
   "metadata": {},
   "outputs": [
    {
     "name": "stdout",
     "output_type": "stream",
     "text": [
      "('SVM Accuracy Score -> ', 43.333333333333336)\n"
     ]
    }
   ],
   "source": [
    "print((\"SVM Accuracy Score -> \", accuracy_score(y_pred, y_val) * 100))"
   ]
  },
  {
   "cell_type": "code",
   "execution_count": 471,
   "metadata": {},
   "outputs": [
    {
     "data": {
      "text/plain": [
       "array(['GCR', 'GCR', 'GCR', 'Vert', 'Vert', 'Vert', 'GCR', 'GCR', 'Vert',\n",
       "       'Vert', 'GCR', 'Vert', 'GCR', 'GCR', 'Vert', 'GCR', 'Vert', 'Vert',\n",
       "       'GCR', 'Vert', 'GCR', 'Vert', 'Vert', 'Vert', 'Vert', 'Vert',\n",
       "       'Vert', 'Vert', 'Vert', 'Vert', 'Vert', 'GCR', 'GCR', 'Vert',\n",
       "       'GCR', 'GCR', 'Vert', 'GCR', 'Vert', 'Vert', 'GCR', 'GCR', 'Vert',\n",
       "       'GCR', 'GCR', 'Vert', 'GCR', 'GCR', 'GCR', 'Vert', 'Vert', 'Vert',\n",
       "       'GCR', 'Vert', 'Vert', 'GCR', 'Vert', 'Vert', 'GCR', 'GCR'],\n",
       "      dtype='<U5')"
      ]
     },
     "execution_count": 471,
     "metadata": {},
     "output_type": "execute_result"
    }
   ],
   "source": [
    "y_val"
   ]
  },
  {
   "cell_type": "code",
   "execution_count": 472,
   "metadata": {},
   "outputs": [
    {
     "data": {
      "text/plain": [
       "array(['Vert', 'Vert', 'GCR', 'GCR', 'GCR', 'Vert', 'Vert', 'GCR', 'Vert',\n",
       "       'GCR', 'Vert', 'GCR', 'Vert', 'Vert', 'GCR', 'GCR', 'GCR', 'Vert',\n",
       "       'Vert', 'GCR', 'GCR', 'GCR', 'GCR', 'GCR', 'GCR', 'GCR', 'Vert',\n",
       "       'Vert', 'Vert', 'GCR', 'Vert', 'GCR', 'GCR', 'Vert', 'Vert', 'GCR',\n",
       "       'GCR', 'Vert', 'Vert', 'Vert', 'GCR', 'Vert', 'GCR', 'Vert',\n",
       "       'Vert', 'GCR', 'GCR', 'Vert', 'GCR', 'Vert', 'Vert', 'Vert', 'GCR',\n",
       "       'GCR', 'Vert', 'Vert', 'Vert', 'GCR', 'Vert', 'Vert'], dtype='<U5')"
      ]
     },
     "execution_count": 472,
     "metadata": {},
     "output_type": "execute_result"
    }
   ],
   "source": [
    "y_pred"
   ]
  },
  {
   "cell_type": "code",
   "execution_count": 473,
   "metadata": {
    "scrolled": false
   },
   "outputs": [
    {
     "name": "stdout",
     "output_type": "stream",
     "text": [
      "              precision    recall  f1-score   support\n",
      "\n",
      "         GCR       0.38      0.41      0.39        27\n",
      "        Vert       0.48      0.45      0.47        33\n",
      "\n",
      "    accuracy                           0.43        60\n",
      "   macro avg       0.43      0.43      0.43        60\n",
      "weighted avg       0.44      0.43      0.43        60\n",
      "\n"
     ]
    }
   ],
   "source": [
    "from sklearn.metrics import classification_report\n",
    "print((classification_report(y_val, y_pred, target_names=my_tags)))"
   ]
  },
  {
   "cell_type": "markdown",
   "metadata": {},
   "source": [
    "#### Logistice regression"
   ]
  },
  {
   "cell_type": "code",
   "execution_count": 474,
   "metadata": {
    "scrolled": false
   },
   "outputs": [
    {
     "name": "stdout",
     "output_type": "stream",
     "text": [
      "accuracy 0.43333333333333335\n",
      "              precision    recall  f1-score   support\n",
      "\n",
      "         GCR       0.38      0.41      0.39        27\n",
      "        Vert       0.48      0.45      0.47        33\n",
      "\n",
      "    accuracy                           0.43        60\n",
      "   macro avg       0.43      0.43      0.43        60\n",
      "weighted avg       0.44      0.43      0.43        60\n",
      "\n"
     ]
    }
   ],
   "source": [
    "from sklearn.linear_model import LogisticRegression\n",
    "logreg = LogisticRegression(n_jobs=1, C=1e5)\n",
    "logreg = logreg.fit(X_train_updated_glove_big, y_train)\n",
    "y_pred = logreg.predict(X_val_updated_glove_big)\n",
    "print('accuracy %s' % accuracy_score(y_pred, y_val))\n",
    "print(classification_report(y_val, y_pred, target_names=my_tags))"
   ]
  },
  {
   "cell_type": "markdown",
   "metadata": {},
   "source": [
    "#### Weighted logistice regression"
   ]
  },
  {
   "cell_type": "code",
   "execution_count": 475,
   "metadata": {
    "scrolled": false
   },
   "outputs": [
    {
     "name": "stdout",
     "output_type": "stream",
     "text": [
      "accuracy 0.45\n",
      "              precision    recall  f1-score   support\n",
      "\n",
      "         GCR       0.41      0.52      0.46        27\n",
      "        Vert       0.50      0.39      0.44        33\n",
      "\n",
      "    accuracy                           0.45        60\n",
      "   macro avg       0.46      0.46      0.45        60\n",
      "weighted avg       0.46      0.45      0.45        60\n",
      "\n"
     ]
    }
   ],
   "source": [
    "from sklearn.linear_model import LogisticRegression\n",
    "logreg = LogisticRegression(n_jobs=1, C=1e5, class_weight='balanced')\n",
    "logreg = logreg.fit(X_train_updated_glove_big, y_train)\n",
    "y_pred = logreg.predict(X_val_updated_glove_big)\n",
    "print('accuracy %s' % accuracy_score(y_pred, y_val))\n",
    "print(classification_report(y_val, y_pred, target_names=my_tags))"
   ]
  },
  {
   "cell_type": "markdown",
   "metadata": {},
   "source": [
    "### Particle features "
   ]
  },
  {
   "cell_type": "code",
   "execution_count": 476,
   "metadata": {},
   "outputs": [],
   "source": [
    "def transform_with_particle_features(x):\n",
    "    return np.array([\n",
    "        np.mean([particle_features[w]\n",
    "                 for w in words if w in particle_features]or [np.zeros(particle_features['balance'].shape)],\n",
    "                axis=0) for words in x\n",
    "    ])"
   ]
  },
  {
   "cell_type": "code",
   "execution_count": 477,
   "metadata": {},
   "outputs": [],
   "source": [
    "combined={}\n",
    "for k in particle_features.keys():\n",
    "    modified_key= str(k)+'_V'\n",
    "    combined[modified_key]=particle_features[k]"
   ]
  },
  {
   "cell_type": "code",
   "execution_count": 478,
   "metadata": {
    "scrolled": true
   },
   "outputs": [
    {
     "name": "stderr",
     "output_type": "stream",
     "text": [
      "C:\\ProgramData\\Anaconda3\\lib\\site-packages\\ipykernel_launcher.py:4: DeprecationWarning: Call to deprecated `__contains__` (Method will be removed in 4.0.0, use self.wv.__contains__() instead).\n",
      "  after removing the cwd from sys.path.\n",
      "C:\\ProgramData\\Anaconda3\\lib\\site-packages\\ipykernel_launcher.py:4: DeprecationWarning: Call to deprecated `__getitem__` (Method will be removed in 4.0.0, use self.wv.__getitem__() instead).\n",
      "  after removing the cwd from sys.path.\n",
      "C:\\ProgramData\\Anaconda3\\lib\\site-packages\\ipykernel_launcher.py:7: DeprecationWarning: Call to deprecated `__getitem__` (Method will be removed in 4.0.0, use self.wv.__getitem__() instead).\n",
      "  import sys\n"
     ]
    }
   ],
   "source": [
    "def transform_with_combine_features(x):\n",
    "    return np.array([\n",
    "        np.concatenate(([model_BNC_tagged_sentences_verb_sg[w]\n",
    "                 for w in words if w in model_BNC_tagged_sentences_verb_sg]or [np.zeros(model_BNC_tagged_sentences_verb_sg['balance_V'].shape)],\n",
    "                       [combined[w]\n",
    "                 for w in words if w in combined]or [np.zeros(combined['balance_V'].shape)]),\n",
    "                axis=None) for words in x\n",
    "    ]) \n",
    "X_train_combined=transform_with_combine_features(X_train)"
   ]
  },
  {
   "cell_type": "code",
   "execution_count": 479,
   "metadata": {
    "scrolled": true
   },
   "outputs": [],
   "source": [
    "X_train_particle_features = transform_with_particle_features(X_train)\n",
    "# X_val_particle_features = transform_with_particle_features(X_val)\n",
    "X_val_particle_features = transform_with_particle_features(X_test)"
   ]
  },
  {
   "cell_type": "markdown",
   "metadata": {},
   "source": [
    "##### Linear SVM"
   ]
  },
  {
   "cell_type": "code",
   "execution_count": 480,
   "metadata": {
    "scrolled": true
   },
   "outputs": [
    {
     "data": {
      "text/plain": [
       "SVC(C=1.0, break_ties=False, cache_size=200, class_weight=None, coef0=0.0,\n",
       "    decision_function_shape='ovr', degree=3, gamma='scale', kernel='linear',\n",
       "    max_iter=-1, probability=False, random_state=None, shrinking=True,\n",
       "    tol=0.001, verbose=False)"
      ]
     },
     "execution_count": 480,
     "metadata": {},
     "output_type": "execute_result"
    }
   ],
   "source": [
    "clf = SVC(kernel='linear')\n",
    "clf.fit(X_train_particle_features, y_train)"
   ]
  },
  {
   "cell_type": "code",
   "execution_count": 481,
   "metadata": {},
   "outputs": [],
   "source": [
    "y_pred = clf.predict(X_val_particle_features)"
   ]
  },
  {
   "cell_type": "code",
   "execution_count": 482,
   "metadata": {},
   "outputs": [
    {
     "name": "stdout",
     "output_type": "stream",
     "text": [
      "SVM Accuracy Score ->  45.0\n"
     ]
    }
   ],
   "source": [
    "print(\"SVM Accuracy Score -> \", accuracy_score(y_pred, y_val) * 100)"
   ]
  },
  {
   "cell_type": "code",
   "execution_count": 483,
   "metadata": {},
   "outputs": [
    {
     "name": "stdout",
     "output_type": "stream",
     "text": [
      "              precision    recall  f1-score   support\n",
      "\n",
      "         GCR       0.45      1.00      0.62        27\n",
      "        Vert       0.00      0.00      0.00        33\n",
      "\n",
      "    accuracy                           0.45        60\n",
      "   macro avg       0.23      0.50      0.31        60\n",
      "weighted avg       0.20      0.45      0.28        60\n",
      "\n"
     ]
    },
    {
     "name": "stderr",
     "output_type": "stream",
     "text": [
      "C:\\ProgramData\\Anaconda3\\lib\\site-packages\\sklearn\\metrics\\_classification.py:1272: UndefinedMetricWarning: Precision and F-score are ill-defined and being set to 0.0 in labels with no predicted samples. Use `zero_division` parameter to control this behavior.\n",
      "  _warn_prf(average, modifier, msg_start, len(result))\n"
     ]
    }
   ],
   "source": [
    "from sklearn.metrics import classification_report\n",
    "print(classification_report(y_val, y_pred, target_names=my_tags))"
   ]
  },
  {
   "cell_type": "markdown",
   "metadata": {},
   "source": [
    "##### Weighted Linear SVM"
   ]
  },
  {
   "cell_type": "code",
   "execution_count": 484,
   "metadata": {
    "scrolled": true
   },
   "outputs": [
    {
     "data": {
      "text/plain": [
       "SVC(C=1.0, break_ties=False, cache_size=200, class_weight='balanced', coef0=0.0,\n",
       "    decision_function_shape='ovr', degree=3, gamma='scale', kernel='linear',\n",
       "    max_iter=-1, probability=False, random_state=None, shrinking=True,\n",
       "    tol=0.001, verbose=False)"
      ]
     },
     "execution_count": 484,
     "metadata": {},
     "output_type": "execute_result"
    }
   ],
   "source": [
    "clf_balanced_class_weight = SVC(kernel='linear', class_weight='balanced')\n",
    "clf_balanced_class_weight.fit(X_train_particle_features, y_train)"
   ]
  },
  {
   "cell_type": "code",
   "execution_count": 485,
   "metadata": {},
   "outputs": [],
   "source": [
    "y_pred_balanced_class_weight = clf_balanced_class_weight.predict(\n",
    "    X_val_particle_features)"
   ]
  },
  {
   "cell_type": "code",
   "execution_count": 486,
   "metadata": {},
   "outputs": [
    {
     "name": "stdout",
     "output_type": "stream",
     "text": [
      "SVM Accuracy Score ->  56.666666666666664\n"
     ]
    }
   ],
   "source": [
    "print(\"SVM Accuracy Score -> \",\n",
    "      accuracy_score(y_pred_balanced_class_weight, y_val) * 100)"
   ]
  },
  {
   "cell_type": "code",
   "execution_count": 487,
   "metadata": {
    "scrolled": true
   },
   "outputs": [
    {
     "name": "stdout",
     "output_type": "stream",
     "text": [
      "              precision    recall  f1-score   support\n",
      "\n",
      "         GCR       0.53      0.30      0.38        27\n",
      "        Vert       0.58      0.79      0.67        33\n",
      "\n",
      "    accuracy                           0.57        60\n",
      "   macro avg       0.56      0.54      0.52        60\n",
      "weighted avg       0.56      0.57      0.54        60\n",
      "\n"
     ]
    }
   ],
   "source": [
    "from sklearn.metrics import classification_report\n",
    "print(\n",
    "    classification_report(y_val,\n",
    "                          y_pred_balanced_class_weight,\n",
    "                          target_names=my_tags))"
   ]
  },
  {
   "cell_type": "markdown",
   "metadata": {},
   "source": [
    "##### SVC with 'rbf' kernel"
   ]
  },
  {
   "cell_type": "code",
   "execution_count": 488,
   "metadata": {},
   "outputs": [],
   "source": [
    "X = X_train_particle_features\n",
    "Y = y_train"
   ]
  },
  {
   "cell_type": "code",
   "execution_count": 489,
   "metadata": {},
   "outputs": [
    {
     "data": {
      "text/plain": [
       "array([[0.        , 0.        , 0.        , ..., 0.        , 0.        ,\n",
       "        0.        ],\n",
       "       [0.47540984, 0.        , 0.03278688, ..., 0.        , 0.        ,\n",
       "        0.        ],\n",
       "       [0.00479233, 0.        , 0.        , ..., 0.00906344, 0.        ,\n",
       "        0.        ],\n",
       "       ...,\n",
       "       [0.        , 0.        , 0.        , ..., 0.        , 0.        ,\n",
       "        0.        ],\n",
       "       [0.03209243, 0.01558775, 0.05226481, ..., 0.03063063, 0.01801802,\n",
       "        0.01081081],\n",
       "       [0.01234568, 0.03703704, 0.03703704, ..., 0.01724138, 0.01724138,\n",
       "        0.        ]], dtype=float32)"
      ]
     },
     "execution_count": 489,
     "metadata": {},
     "output_type": "execute_result"
    }
   ],
   "source": [
    "X_train_particle_features"
   ]
  },
  {
   "cell_type": "code",
   "execution_count": 490,
   "metadata": {},
   "outputs": [],
   "source": [
    "# It is usually a good idea to scale the data for SVM training.\n",
    "# We are cheating a bit in this example in scaling all of the data,\n",
    "# instead of fitting the transformation on the trainingset and\n",
    "# just applying it on the test set.\n",
    "\n",
    "# scaler = StandardScaler()\n",
    "# X = scaler.fit_transform(X_train_updated_google)"
   ]
  },
  {
   "cell_type": "code",
   "execution_count": 491,
   "metadata": {},
   "outputs": [
    {
     "data": {
      "text/plain": [
       "GridSearchCV(cv=StratifiedKFold(n_splits=10, random_state=None, shuffle=False),\n",
       "             error_score=nan,\n",
       "             estimator=SVC(C=1.0, break_ties=False, cache_size=200,\n",
       "                           class_weight=None, coef0=0.0,\n",
       "                           decision_function_shape='ovr', degree=3,\n",
       "                           gamma='scale', kernel='rbf', max_iter=-1,\n",
       "                           probability=False, random_state=None, shrinking=True,\n",
       "                           tol=0.001, verbose=False),\n",
       "             iid='deprecated', n_jobs...\n",
       "       3.20000e+01, 1.28000e+02, 5.12000e+02, 2.04800e+03, 8.19200e+03,\n",
       "       3.27680e+04, 1.31072e+05]),\n",
       "                         'gamma': array([7.62939453e-06, 3.05175781e-05, 1.22070312e-04, 4.88281250e-04,\n",
       "       1.95312500e-03, 7.81250000e-03, 3.12500000e-02, 1.25000000e-01,\n",
       "       5.00000000e-01, 2.00000000e+00, 8.00000000e+00])},\n",
       "             pre_dispatch='2*n_jobs', refit=True, return_train_score=False,\n",
       "             scoring=None, verbose=0)"
      ]
     },
     "execution_count": 491,
     "metadata": {},
     "output_type": "execute_result"
    }
   ],
   "source": [
    "C_range = 2. ** np.arange(-5, 18, 2)\n",
    "gamma_range = 2. ** np.arange(-17, 4, 2)\n",
    "param_grid = dict(gamma=gamma_range, C=C_range)\n",
    "grid = GridSearchCV(SVC(), param_grid=param_grid,\n",
    "                    cv=StratifiedKFold(n_splits=10))\n",
    "grid.fit(X, Y)"
   ]
  },
  {
   "cell_type": "code",
   "execution_count": 492,
   "metadata": {},
   "outputs": [
    {
     "data": {
      "text/plain": [
       "{'gamma': array([7.62939453e-06, 3.05175781e-05, 1.22070312e-04, 4.88281250e-04,\n",
       "        1.95312500e-03, 7.81250000e-03, 3.12500000e-02, 1.25000000e-01,\n",
       "        5.00000000e-01, 2.00000000e+00, 8.00000000e+00]),\n",
       " 'C': array([3.12500e-02, 1.25000e-01, 5.00000e-01, 2.00000e+00, 8.00000e+00,\n",
       "        3.20000e+01, 1.28000e+02, 5.12000e+02, 2.04800e+03, 8.19200e+03,\n",
       "        3.27680e+04, 1.31072e+05])}"
      ]
     },
     "execution_count": 492,
     "metadata": {},
     "output_type": "execute_result"
    }
   ],
   "source": [
    "param_grid"
   ]
  },
  {
   "cell_type": "code",
   "execution_count": 493,
   "metadata": {},
   "outputs": [
    {
     "name": "stdout",
     "output_type": "stream",
     "text": [
      "The best classifier is:  SVC(C=32.0, break_ties=False, cache_size=200, class_weight=None, coef0=0.0,\n",
      "    decision_function_shape='ovr', degree=3, gamma=2.0, kernel='rbf',\n",
      "    max_iter=-1, probability=False, random_state=None, shrinking=True,\n",
      "    tol=0.001, verbose=False)\n"
     ]
    }
   ],
   "source": [
    "print(\"The best classifier is: \", grid.best_estimator_)"
   ]
  },
  {
   "cell_type": "code",
   "execution_count": 494,
   "metadata": {},
   "outputs": [
    {
     "name": "stdout",
     "output_type": "stream",
     "text": [
      "The best parameters are {'C': 32.0, 'gamma': 2.0} with a score of 0.73\n"
     ]
    }
   ],
   "source": [
    "print(\"The best parameters are %s with a score of %0.2f\"\n",
    "      % (grid.best_params_, grid.best_score_))"
   ]
  },
  {
   "cell_type": "code",
   "execution_count": 495,
   "metadata": {},
   "outputs": [
    {
     "data": {
      "text/plain": [
       "SVC(C=32.0, break_ties=False, cache_size=200, class_weight=None, coef0=0.0,\n",
       "    decision_function_shape='ovr', degree=3, gamma=2.0, kernel='rbf',\n",
       "    max_iter=-1, probability=False, random_state=None, shrinking=True,\n",
       "    tol=0.001, verbose=False)"
      ]
     },
     "execution_count": 495,
     "metadata": {},
     "output_type": "execute_result"
    }
   ],
   "source": [
    "clf = grid.best_estimator_\n",
    "clf.fit(X, Y)"
   ]
  },
  {
   "cell_type": "code",
   "execution_count": 496,
   "metadata": {},
   "outputs": [],
   "source": [
    "y_pred = clf.predict(X_val_particle_features)"
   ]
  },
  {
   "cell_type": "code",
   "execution_count": 497,
   "metadata": {},
   "outputs": [
    {
     "name": "stdout",
     "output_type": "stream",
     "text": [
      "('SVM Accuracy Score -> ', 53.333333333333336)\n"
     ]
    }
   ],
   "source": [
    "print((\"SVM Accuracy Score -> \", accuracy_score(y_pred, y_val) * 100))"
   ]
  },
  {
   "cell_type": "code",
   "execution_count": 498,
   "metadata": {
    "scrolled": true
   },
   "outputs": [
    {
     "name": "stdout",
     "output_type": "stream",
     "text": [
      "              precision    recall  f1-score   support\n",
      "\n",
      "         GCR       0.48      0.56      0.52        27\n",
      "        Vert       0.59      0.52      0.55        33\n",
      "\n",
      "    accuracy                           0.53        60\n",
      "   macro avg       0.54      0.54      0.53        60\n",
      "weighted avg       0.54      0.53      0.53        60\n",
      "\n"
     ]
    }
   ],
   "source": [
    "from sklearn.metrics import classification_report\n",
    "print((classification_report(y_val, y_pred, target_names=my_tags)))"
   ]
  },
  {
   "cell_type": "markdown",
   "metadata": {},
   "source": [
    "##### Weighted SVC with 'rbf' kernel "
   ]
  },
  {
   "cell_type": "code",
   "execution_count": 499,
   "metadata": {},
   "outputs": [],
   "source": [
    "X = X_train_particle_features\n",
    "Y = y_train"
   ]
  },
  {
   "cell_type": "code",
   "execution_count": 500,
   "metadata": {},
   "outputs": [],
   "source": [
    "# It is usually a good idea to scale the data for SVM training.\n",
    "# We are cheating a bit in this example in scaling all of the data,\n",
    "# instead of fitting the transformation on the trainingset and\n",
    "# just applying it on the test set.\n",
    "\n",
    "# scaler = StandardScaler()\n",
    "# X = scaler.fit_transform(X_train_updated_google)"
   ]
  },
  {
   "cell_type": "code",
   "execution_count": 501,
   "metadata": {},
   "outputs": [
    {
     "data": {
      "text/plain": [
       "GridSearchCV(cv=StratifiedKFold(n_splits=10, random_state=None, shuffle=False),\n",
       "             error_score=nan,\n",
       "             estimator=SVC(C=1.0, break_ties=False, cache_size=200,\n",
       "                           class_weight=None, coef0=0.0,\n",
       "                           decision_function_shape='ovr', degree=3,\n",
       "                           gamma='scale', kernel='rbf', max_iter=-1,\n",
       "                           probability=False, random_state=None, shrinking=True,\n",
       "                           tol=0.001, verbose=False),\n",
       "             iid='deprecated', n_jobs...\n",
       "       3.20000e+01, 1.28000e+02, 5.12000e+02, 2.04800e+03, 8.19200e+03,\n",
       "       3.27680e+04, 1.31072e+05]),\n",
       "                         'gamma': array([7.62939453e-06, 3.05175781e-05, 1.22070312e-04, 4.88281250e-04,\n",
       "       1.95312500e-03, 7.81250000e-03, 3.12500000e-02, 1.25000000e-01,\n",
       "       5.00000000e-01, 2.00000000e+00, 8.00000000e+00])},\n",
       "             pre_dispatch='2*n_jobs', refit=True, return_train_score=False,\n",
       "             scoring=None, verbose=0)"
      ]
     },
     "execution_count": 501,
     "metadata": {},
     "output_type": "execute_result"
    }
   ],
   "source": [
    "C_range = 2. ** np.arange(-5, 18, 2)\n",
    "gamma_range = 2. ** np.arange(-17, 4, 2)\n",
    "param_grid = dict(gamma=gamma_range, C=C_range)\n",
    "grid = GridSearchCV(SVC(), param_grid=param_grid,\n",
    "                    cv=StratifiedKFold(n_splits=10))\n",
    "grid.fit(X, Y)"
   ]
  },
  {
   "cell_type": "code",
   "execution_count": 502,
   "metadata": {},
   "outputs": [
    {
     "data": {
      "text/plain": [
       "{'gamma': array([7.62939453e-06, 3.05175781e-05, 1.22070312e-04, 4.88281250e-04,\n",
       "        1.95312500e-03, 7.81250000e-03, 3.12500000e-02, 1.25000000e-01,\n",
       "        5.00000000e-01, 2.00000000e+00, 8.00000000e+00]),\n",
       " 'C': array([3.12500e-02, 1.25000e-01, 5.00000e-01, 2.00000e+00, 8.00000e+00,\n",
       "        3.20000e+01, 1.28000e+02, 5.12000e+02, 2.04800e+03, 8.19200e+03,\n",
       "        3.27680e+04, 1.31072e+05])}"
      ]
     },
     "execution_count": 502,
     "metadata": {},
     "output_type": "execute_result"
    }
   ],
   "source": [
    "param_grid"
   ]
  },
  {
   "cell_type": "code",
   "execution_count": 503,
   "metadata": {},
   "outputs": [
    {
     "name": "stdout",
     "output_type": "stream",
     "text": [
      "The best classifier is:  SVC(C=32.0, break_ties=False, cache_size=200, class_weight=None, coef0=0.0,\n",
      "    decision_function_shape='ovr', degree=3, gamma=2.0, kernel='rbf',\n",
      "    max_iter=-1, probability=False, random_state=None, shrinking=True,\n",
      "    tol=0.001, verbose=False)\n"
     ]
    }
   ],
   "source": [
    "print(\"The best classifier is: \", grid.best_estimator_)"
   ]
  },
  {
   "cell_type": "code",
   "execution_count": 504,
   "metadata": {},
   "outputs": [
    {
     "name": "stdout",
     "output_type": "stream",
     "text": [
      "The best parameters are {'C': 32.0, 'gamma': 2.0} with a score of 0.73\n"
     ]
    }
   ],
   "source": [
    "print(\"The best parameters are %s with a score of %0.2f\"\n",
    "      % (grid.best_params_, grid.best_score_))"
   ]
  },
  {
   "cell_type": "code",
   "execution_count": 505,
   "metadata": {},
   "outputs": [
    {
     "data": {
      "text/plain": [
       "SVC(C=32.0, break_ties=False, cache_size=200, class_weight='balanced',\n",
       "    coef0=0.0, decision_function_shape='ovr', degree=3, gamma=0.03125,\n",
       "    kernel='rbf', max_iter=-1, probability=False, random_state=None,\n",
       "    shrinking=True, tol=0.001, verbose=False)"
      ]
     },
     "execution_count": 505,
     "metadata": {},
     "output_type": "execute_result"
    }
   ],
   "source": [
    "clf = SVC(C=32.0, class_weight='balanced', gamma=0.03125, kernel='rbf')\n",
    "clf.fit(X, Y)"
   ]
  },
  {
   "cell_type": "code",
   "execution_count": 506,
   "metadata": {},
   "outputs": [],
   "source": [
    "y_pred = clf.predict(X_val_particle_features)"
   ]
  },
  {
   "cell_type": "code",
   "execution_count": 507,
   "metadata": {},
   "outputs": [
    {
     "name": "stdout",
     "output_type": "stream",
     "text": [
      "('SVM Accuracy Score -> ', 53.333333333333336)\n"
     ]
    }
   ],
   "source": [
    "print((\"SVM Accuracy Score -> \", accuracy_score(y_pred, y_val) * 100))"
   ]
  },
  {
   "cell_type": "code",
   "execution_count": 508,
   "metadata": {},
   "outputs": [
    {
     "data": {
      "text/plain": [
       "array(['GCR', 'GCR', 'GCR', 'Vert', 'Vert', 'Vert', 'GCR', 'GCR', 'Vert',\n",
       "       'Vert', 'GCR', 'Vert', 'GCR', 'GCR', 'Vert', 'GCR', 'Vert', 'Vert',\n",
       "       'GCR', 'Vert', 'GCR', 'Vert', 'Vert', 'Vert', 'Vert', 'Vert',\n",
       "       'Vert', 'Vert', 'Vert', 'Vert', 'Vert', 'GCR', 'GCR', 'Vert',\n",
       "       'GCR', 'GCR', 'Vert', 'GCR', 'Vert', 'Vert', 'GCR', 'GCR', 'Vert',\n",
       "       'GCR', 'GCR', 'Vert', 'GCR', 'GCR', 'GCR', 'Vert', 'Vert', 'Vert',\n",
       "       'GCR', 'Vert', 'Vert', 'GCR', 'Vert', 'Vert', 'GCR', 'GCR'],\n",
       "      dtype='<U5')"
      ]
     },
     "execution_count": 508,
     "metadata": {},
     "output_type": "execute_result"
    }
   ],
   "source": [
    "y_val"
   ]
  },
  {
   "cell_type": "code",
   "execution_count": 509,
   "metadata": {},
   "outputs": [
    {
     "data": {
      "text/plain": [
       "array(['Vert', 'Vert', 'Vert', 'Vert', 'Vert', 'Vert', 'GCR', 'GCR',\n",
       "       'Vert', 'Vert', 'Vert', 'Vert', 'GCR', 'GCR', 'Vert', 'Vert',\n",
       "       'Vert', 'Vert', 'Vert', 'GCR', 'Vert', 'GCR', 'GCR', 'Vert',\n",
       "       'Vert', 'Vert', 'Vert', 'GCR', 'GCR', 'Vert', 'Vert', 'GCR', 'GCR',\n",
       "       'Vert', 'Vert', 'Vert', 'Vert', 'Vert', 'Vert', 'GCR', 'Vert',\n",
       "       'Vert', 'Vert', 'GCR', 'Vert', 'GCR', 'Vert', 'Vert', 'Vert',\n",
       "       'Vert', 'GCR', 'GCR', 'GCR', 'GCR', 'Vert', 'Vert', 'Vert', 'Vert',\n",
       "       'Vert', 'GCR'], dtype='<U5')"
      ]
     },
     "execution_count": 509,
     "metadata": {},
     "output_type": "execute_result"
    }
   ],
   "source": [
    "y_pred"
   ]
  },
  {
   "cell_type": "code",
   "execution_count": 510,
   "metadata": {
    "scrolled": false
   },
   "outputs": [
    {
     "name": "stdout",
     "output_type": "stream",
     "text": [
      "              precision    recall  f1-score   support\n",
      "\n",
      "         GCR       0.47      0.33      0.39        27\n",
      "        Vert       0.56      0.70      0.62        33\n",
      "\n",
      "    accuracy                           0.53        60\n",
      "   macro avg       0.52      0.52      0.51        60\n",
      "weighted avg       0.52      0.53      0.52        60\n",
      "\n"
     ]
    }
   ],
   "source": [
    "from sklearn.metrics import classification_report\n",
    "print((classification_report(y_val, y_pred, target_names=my_tags)))"
   ]
  },
  {
   "cell_type": "markdown",
   "metadata": {},
   "source": [
    "##### Logistice regression"
   ]
  },
  {
   "cell_type": "code",
   "execution_count": 511,
   "metadata": {
    "scrolled": false
   },
   "outputs": [
    {
     "name": "stdout",
     "output_type": "stream",
     "text": [
      "accuracy 0.6333333333333333\n",
      "              precision    recall  f1-score   support\n",
      "\n",
      "         GCR       0.57      0.74      0.65        27\n",
      "        Vert       0.72      0.55      0.62        33\n",
      "\n",
      "    accuracy                           0.63        60\n",
      "   macro avg       0.65      0.64      0.63        60\n",
      "weighted avg       0.65      0.63      0.63        60\n",
      "\n"
     ]
    },
    {
     "name": "stderr",
     "output_type": "stream",
     "text": [
      "C:\\ProgramData\\Anaconda3\\lib\\site-packages\\sklearn\\linear_model\\_logistic.py:940: ConvergenceWarning: lbfgs failed to converge (status=1):\n",
      "STOP: TOTAL NO. of ITERATIONS REACHED LIMIT.\n",
      "\n",
      "Increase the number of iterations (max_iter) or scale the data as shown in:\n",
      "    https://scikit-learn.org/stable/modules/preprocessing.html\n",
      "Please also refer to the documentation for alternative solver options:\n",
      "    https://scikit-learn.org/stable/modules/linear_model.html#logistic-regression\n",
      "  extra_warning_msg=_LOGISTIC_SOLVER_CONVERGENCE_MSG)\n"
     ]
    }
   ],
   "source": [
    "from sklearn.linear_model import LogisticRegression\n",
    "logreg = LogisticRegression(n_jobs=1, C=1e5)\n",
    "logreg = logreg.fit(X_train_particle_features, y_train)\n",
    "y_pred = logreg.predict(X_val_particle_features)\n",
    "print('accuracy %s' % accuracy_score(y_pred, y_val))\n",
    "print(classification_report(y_val, y_pred, target_names=my_tags))"
   ]
  },
  {
   "cell_type": "markdown",
   "metadata": {},
   "source": [
    "##### Weighted logistice regression"
   ]
  },
  {
   "cell_type": "code",
   "execution_count": 512,
   "metadata": {
    "scrolled": false
   },
   "outputs": [
    {
     "name": "stdout",
     "output_type": "stream",
     "text": [
      "accuracy 0.65\n",
      "              precision    recall  f1-score   support\n",
      "\n",
      "         GCR       0.59      0.74      0.66        27\n",
      "        Vert       0.73      0.58      0.64        33\n",
      "\n",
      "    accuracy                           0.65        60\n",
      "   macro avg       0.66      0.66      0.65        60\n",
      "weighted avg       0.67      0.65      0.65        60\n",
      "\n"
     ]
    },
    {
     "name": "stderr",
     "output_type": "stream",
     "text": [
      "C:\\ProgramData\\Anaconda3\\lib\\site-packages\\sklearn\\linear_model\\_logistic.py:940: ConvergenceWarning: lbfgs failed to converge (status=1):\n",
      "STOP: TOTAL NO. of ITERATIONS REACHED LIMIT.\n",
      "\n",
      "Increase the number of iterations (max_iter) or scale the data as shown in:\n",
      "    https://scikit-learn.org/stable/modules/preprocessing.html\n",
      "Please also refer to the documentation for alternative solver options:\n",
      "    https://scikit-learn.org/stable/modules/linear_model.html#logistic-regression\n",
      "  extra_warning_msg=_LOGISTIC_SOLVER_CONVERGENCE_MSG)\n"
     ]
    }
   ],
   "source": [
    "from sklearn.linear_model import LogisticRegression\n",
    "logreg = LogisticRegression(n_jobs=1, C=1e5, class_weight='balanced')\n",
    "logreg = logreg.fit(X_train_particle_features, y_train)\n",
    "y_pred = logreg.predict(X_val_particle_features)\n",
    "print('accuracy %s' % accuracy_score(y_pred, y_val))\n",
    "print(classification_report(y_val, y_pred, target_names=my_tags))"
   ]
  },
  {
   "cell_type": "code",
   "execution_count": null,
   "metadata": {},
   "outputs": [],
   "source": []
  }
 ],
 "metadata": {
  "kernelspec": {
   "display_name": "Python 3",
   "language": "python",
   "name": "python3"
  },
  "language_info": {
   "codemirror_mode": {
    "name": "ipython",
    "version": 3
   },
   "file_extension": ".py",
   "mimetype": "text/x-python",
   "name": "python",
   "nbconvert_exporter": "python",
   "pygments_lexer": "ipython3",
   "version": "3.7.6"
  },
  "toc": {
   "base_numbering": 1,
   "nav_menu": {},
   "number_sections": true,
   "sideBar": true,
   "skip_h1_title": false,
   "title_cell": "Table of Contents",
   "title_sidebar": "Contents",
   "toc_cell": false,
   "toc_position": {
    "height": "calc(100% - 180px)",
    "left": "10px",
    "top": "150px",
    "width": "300px"
   },
   "toc_section_display": true,
   "toc_window_display": true
  }
 },
 "nbformat": 4,
 "nbformat_minor": 2
}
